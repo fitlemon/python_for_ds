{
 "cells": [
  {
   "cell_type": "code",
   "execution_count": 1,
   "metadata": {},
   "outputs": [],
   "source": [
    "import pandas as pd\n",
    "\n",
    "melb_df = pd.read_csv(\"data/melb_data_fe.csv\")\n",
    "melb_df[\"Date\"] = pd.to_datetime(melb_df[\"Date\"])\n",
    "cols_to_exclude = [\n",
    "    \"Date\",\n",
    "    \"Rooms\",\n",
    "    \"Bedroom\",\n",
    "    \"Bathroom\",\n",
    "    \"Car\",\n",
    "]  # список столбцов, которые мы не берём во внимание\n",
    "\n",
    "max_unique = 150\n",
    "for col in melb_df.columns:\n",
    "    if col not in cols_to_exclude and melb_df[col].nunique() < 150:\n",
    "        melb_df[col] = melb_df[col].astype(\"category\")"
   ]
  },
  {
   "cell_type": "markdown",
   "metadata": {},
   "source": [
    "<div style=\"background-color: #f5f5f5; padding: 15px; color: black; width: 80%;\">✍ Одна из основных задач анализа данных — это группировка данных и сравнение показателей в группах. Например, нам необходимо сравнить средний уровень заработной платы в зависимости от пола/уровня образования. Или же мы хотим проследить, какая группа клиентов приносит нам наибольший доход, чтобы направить своё внимание на эту группу.</div>"
   ]
  },
  {
   "cell_type": "markdown",
   "metadata": {},
   "source": [
    "<div style=\"background-color: #e0ffd1;color: black;border: 3px solid black; padding: 15px; margin-right: 500px; width: 80%;\">В некоторых случаях группировки может быть достаточно, чтобы ответить на вопросы бизнеса. В других случаях это может стать первым шагом в более сложном анализе. Так, например, благодаря группировке мы можем выявлять признаки, которые не несут статистической значимости, или признаки, которые вносят наибольший вклад.</div>"
   ]
  },
  {
   "cell_type": "markdown",
   "metadata": {},
   "source": [
    "\n",
    "\n",
    "Так или иначе, владение группировкой — важный навык, который открывает новые возможности по работе с данными."
   ]
  },
  {
   "cell_type": "markdown",
   "metadata": {},
   "source": [
    "## Метод groupby()"
   ]
  },
  {
   "cell_type": "markdown",
   "metadata": {},
   "source": [
    "В библиотеке Pandas для группировки данных по одному или нескольким признакам можно использовать метод <a href=\"https://pandas.pydata.org/docs/reference/api/pandas.DataFrame.groupby.html\">groupby().</a>"
   ]
  },
  {
   "cell_type": "markdown",
   "metadata": {},
   "source": [
    "#### Основные параметры метода groupby()"
   ]
  },
  {
   "cell_type": "markdown",
   "metadata": {},
   "source": [
    "- by — имя или список имён столбцов, по которым производится группировка.\n",
    "- axis — ось, по которой производится группировка (0 — строки, 1 — столбцы). По умолчанию группировка производится по строкам.\n",
    "- as_index — добавляется ли дополнительный индекс к таблице. По умолчанию установлен на True."
   ]
  },
  {
   "cell_type": "markdown",
   "metadata": {},
   "source": [
    "Метод groupby() возвращает объект DataFrameGroupBy, который хранит в себе информацию о том, какие строки относятся к определённой группе, и сам по себе не представляет для нас интереса. "
   ]
  },
  {
   "cell_type": "markdown",
   "metadata": {},
   "source": [
    "<div style=\"background-color: #e0ffd1;color: black;border: 3px solid black; padding: 15px; margin-right: 500px; width: 80%;\">Однако к этому объекту можно применять уже знакомые нам агрегирующие методы (mean, median, sum и т. д.), чтобы рассчитывать показатели внутри каждой группы.</div>"
   ]
  },
  {
   "cell_type": "markdown",
   "metadata": {},
   "source": [
    "Посмотрим на общую схему работы метода groupby() в Pandas:"
   ]
  },
  {
   "cell_type": "markdown",
   "metadata": {},
   "source": [
    "<img src=\"../static/img/pandas_adv_2.png\">"
   ]
  },
  {
   "cell_type": "markdown",
   "metadata": {},
   "source": [
    "Сначала мы разделяем данные на группы с помощью метода groupby(), после чего к каждой группе применяем агрегацию и объединяем результаты в новую таблицу."
   ]
  },
  {
   "cell_type": "markdown",
   "metadata": {},
   "source": [
    "### Группировка данных по одному критерию с одной агрегацией"
   ]
  },
  {
   "cell_type": "markdown",
   "metadata": {},
   "source": [
    "Рассмотрим группировку данных на примере нашей таблицы с недвижимостью.\n",
    "\n",
    "Применим агрегирующую функцию среднего к результату работы groupby(). В качестве столбца для группировки возьмём столбец типа объекта недвижимости (Type):\n",
    "\n"
   ]
  },
  {
   "cell_type": "code",
   "execution_count": 2,
   "metadata": {},
   "outputs": [
    {
     "name": "stderr",
     "output_type": "stream",
     "text": [
      "/tmp/ipykernel_8589/64591631.py:1: FutureWarning: The default of observed=False is deprecated and will be changed to True in a future version of pandas. Pass observed=False to retain current behavior or observed=True to adopt the future default and silence this warning.\n",
      "  melb_df.groupby(by='Type').mean(numeric_only = True)\n"
     ]
    },
    {
     "data": {
      "text/html": [
       "<div>\n",
       "<style scoped>\n",
       "    .dataframe tbody tr th:only-of-type {\n",
       "        vertical-align: middle;\n",
       "    }\n",
       "\n",
       "    .dataframe tbody tr th {\n",
       "        vertical-align: top;\n",
       "    }\n",
       "\n",
       "    .dataframe thead th {\n",
       "        text-align: right;\n",
       "    }\n",
       "</style>\n",
       "<table border=\"1\" class=\"dataframe\">\n",
       "  <thead>\n",
       "    <tr style=\"text-align: right;\">\n",
       "      <th></th>\n",
       "      <th>Rooms</th>\n",
       "      <th>Price</th>\n",
       "      <th>Distance</th>\n",
       "      <th>Postcode</th>\n",
       "      <th>Bedroom</th>\n",
       "      <th>Bathroom</th>\n",
       "      <th>Car</th>\n",
       "      <th>Landsize</th>\n",
       "      <th>BuildingArea</th>\n",
       "      <th>Lattitude</th>\n",
       "      <th>Longtitude</th>\n",
       "      <th>Propertycount</th>\n",
       "      <th>MeanRoomsSquare</th>\n",
       "      <th>AreaRatio</th>\n",
       "      <th>AgeBuilding</th>\n",
       "    </tr>\n",
       "    <tr>\n",
       "      <th>Type</th>\n",
       "      <th></th>\n",
       "      <th></th>\n",
       "      <th></th>\n",
       "      <th></th>\n",
       "      <th></th>\n",
       "      <th></th>\n",
       "      <th></th>\n",
       "      <th></th>\n",
       "      <th></th>\n",
       "      <th></th>\n",
       "      <th></th>\n",
       "      <th></th>\n",
       "      <th></th>\n",
       "      <th></th>\n",
       "      <th></th>\n",
       "    </tr>\n",
       "  </thead>\n",
       "  <tbody>\n",
       "    <tr>\n",
       "      <th>house</th>\n",
       "      <td>3.260874</td>\n",
       "      <td>1.242665e+06</td>\n",
       "      <td>10.979479</td>\n",
       "      <td>3104.080643</td>\n",
       "      <td>3.229336</td>\n",
       "      <td>1.613822</td>\n",
       "      <td>1.772674</td>\n",
       "      <td>617.181924</td>\n",
       "      <td>152.162553</td>\n",
       "      <td>-37.803795</td>\n",
       "      <td>144.994700</td>\n",
       "      <td>7259.025505</td>\n",
       "      <td>18.996731</td>\n",
       "      <td>-0.490031</td>\n",
       "      <td>55.669700</td>\n",
       "    </tr>\n",
       "    <tr>\n",
       "      <th>townhouse</th>\n",
       "      <td>2.837522</td>\n",
       "      <td>9.337351e+05</td>\n",
       "      <td>9.851346</td>\n",
       "      <td>3100.777379</td>\n",
       "      <td>2.814183</td>\n",
       "      <td>1.809695</td>\n",
       "      <td>1.555655</td>\n",
       "      <td>279.606822</td>\n",
       "      <td>134.649710</td>\n",
       "      <td>-37.815782</td>\n",
       "      <td>144.996489</td>\n",
       "      <td>7094.459605</td>\n",
       "      <td>18.569847</td>\n",
       "      <td>-0.094916</td>\n",
       "      <td>26.690305</td>\n",
       "    </tr>\n",
       "    <tr>\n",
       "      <th>unit</th>\n",
       "      <td>1.963871</td>\n",
       "      <td>6.051275e+05</td>\n",
       "      <td>7.607391</td>\n",
       "      <td>3110.797481</td>\n",
       "      <td>1.966523</td>\n",
       "      <td>1.183295</td>\n",
       "      <td>1.128936</td>\n",
       "      <td>477.314219</td>\n",
       "      <td>102.235863</td>\n",
       "      <td>-37.823710</td>\n",
       "      <td>144.996363</td>\n",
       "      <td>8199.280080</td>\n",
       "      <td>21.068242</td>\n",
       "      <td>0.319883</td>\n",
       "      <td>39.703016</td>\n",
       "    </tr>\n",
       "  </tbody>\n",
       "</table>\n",
       "</div>"
      ],
      "text/plain": [
       "              Rooms         Price   Distance     Postcode   Bedroom  Bathroom  \\\n",
       "Type                                                                            \n",
       "house      3.260874  1.242665e+06  10.979479  3104.080643  3.229336  1.613822   \n",
       "townhouse  2.837522  9.337351e+05   9.851346  3100.777379  2.814183  1.809695   \n",
       "unit       1.963871  6.051275e+05   7.607391  3110.797481  1.966523  1.183295   \n",
       "\n",
       "                Car    Landsize  BuildingArea  Lattitude  Longtitude  \\\n",
       "Type                                                                   \n",
       "house      1.772674  617.181924    152.162553 -37.803795  144.994700   \n",
       "townhouse  1.555655  279.606822    134.649710 -37.815782  144.996489   \n",
       "unit       1.128936  477.314219    102.235863 -37.823710  144.996363   \n",
       "\n",
       "           Propertycount  MeanRoomsSquare  AreaRatio  AgeBuilding  \n",
       "Type                                                               \n",
       "house        7259.025505        18.996731  -0.490031    55.669700  \n",
       "townhouse    7094.459605        18.569847  -0.094916    26.690305  \n",
       "unit         8199.280080        21.068242   0.319883    39.703016  "
      ]
     },
     "execution_count": 2,
     "metadata": {},
     "output_type": "execute_result"
    }
   ],
   "source": [
    "melb_df.groupby(by=\"Type\").mean(numeric_only=True)"
   ]
  },
  {
   "cell_type": "markdown",
   "metadata": {},
   "source": [
    "Мы получили таблицу, на пересечении строк и столбцов которой находятся средние значения каждого числового признака в наших данных."
   ]
  },
  {
   "cell_type": "markdown",
   "metadata": {},
   "source": [
    "<div style=\"background-color: #e0ffd1;color: black;border: 3px solid black; padding: 15px; margin-right: 500px; width: 80%;\">Обратите внимание на структуру получившейся таблицы: теперь на месте индексов стоят значения типа объекта недвижимости Type (house, townhouse, unit).</div>"
   ]
  },
  {
   "cell_type": "markdown",
   "metadata": {},
   "source": [
    "<div style=\"background-color: #e0ffd1;color: black;border: 3px solid black; padding: 15px; margin-right: 500px; width: 80%;\">Примечание. Если мы хотим видеть тип объекта в качестве отдельного столбца таблицы, мы можем выставить параметр as_index на False:"
   ]
  },
  {
   "cell_type": "code",
   "execution_count": 3,
   "metadata": {},
   "outputs": [
    {
     "name": "stderr",
     "output_type": "stream",
     "text": [
      "/tmp/ipykernel_8589/1091653380.py:1: FutureWarning: The default of observed=False is deprecated and will be changed to True in a future version of pandas. Pass observed=False to retain current behavior or observed=True to adopt the future default and silence this warning.\n",
      "  melb_df.groupby(by='Type', as_index=False).mean(numeric_only = True)\n"
     ]
    },
    {
     "data": {
      "text/html": [
       "<div>\n",
       "<style scoped>\n",
       "    .dataframe tbody tr th:only-of-type {\n",
       "        vertical-align: middle;\n",
       "    }\n",
       "\n",
       "    .dataframe tbody tr th {\n",
       "        vertical-align: top;\n",
       "    }\n",
       "\n",
       "    .dataframe thead th {\n",
       "        text-align: right;\n",
       "    }\n",
       "</style>\n",
       "<table border=\"1\" class=\"dataframe\">\n",
       "  <thead>\n",
       "    <tr style=\"text-align: right;\">\n",
       "      <th></th>\n",
       "      <th>Type</th>\n",
       "      <th>Rooms</th>\n",
       "      <th>Price</th>\n",
       "      <th>Distance</th>\n",
       "      <th>Postcode</th>\n",
       "      <th>Bedroom</th>\n",
       "      <th>Bathroom</th>\n",
       "      <th>Car</th>\n",
       "      <th>Landsize</th>\n",
       "      <th>BuildingArea</th>\n",
       "      <th>Lattitude</th>\n",
       "      <th>Longtitude</th>\n",
       "      <th>Propertycount</th>\n",
       "      <th>MeanRoomsSquare</th>\n",
       "      <th>AreaRatio</th>\n",
       "      <th>AgeBuilding</th>\n",
       "    </tr>\n",
       "  </thead>\n",
       "  <tbody>\n",
       "    <tr>\n",
       "      <th>0</th>\n",
       "      <td>house</td>\n",
       "      <td>3.260874</td>\n",
       "      <td>1.242665e+06</td>\n",
       "      <td>10.979479</td>\n",
       "      <td>3104.080643</td>\n",
       "      <td>3.229336</td>\n",
       "      <td>1.613822</td>\n",
       "      <td>1.772674</td>\n",
       "      <td>617.181924</td>\n",
       "      <td>152.162553</td>\n",
       "      <td>-37.803795</td>\n",
       "      <td>144.994700</td>\n",
       "      <td>7259.025505</td>\n",
       "      <td>18.996731</td>\n",
       "      <td>-0.490031</td>\n",
       "      <td>55.669700</td>\n",
       "    </tr>\n",
       "    <tr>\n",
       "      <th>1</th>\n",
       "      <td>townhouse</td>\n",
       "      <td>2.837522</td>\n",
       "      <td>9.337351e+05</td>\n",
       "      <td>9.851346</td>\n",
       "      <td>3100.777379</td>\n",
       "      <td>2.814183</td>\n",
       "      <td>1.809695</td>\n",
       "      <td>1.555655</td>\n",
       "      <td>279.606822</td>\n",
       "      <td>134.649710</td>\n",
       "      <td>-37.815782</td>\n",
       "      <td>144.996489</td>\n",
       "      <td>7094.459605</td>\n",
       "      <td>18.569847</td>\n",
       "      <td>-0.094916</td>\n",
       "      <td>26.690305</td>\n",
       "    </tr>\n",
       "    <tr>\n",
       "      <th>2</th>\n",
       "      <td>unit</td>\n",
       "      <td>1.963871</td>\n",
       "      <td>6.051275e+05</td>\n",
       "      <td>7.607391</td>\n",
       "      <td>3110.797481</td>\n",
       "      <td>1.966523</td>\n",
       "      <td>1.183295</td>\n",
       "      <td>1.128936</td>\n",
       "      <td>477.314219</td>\n",
       "      <td>102.235863</td>\n",
       "      <td>-37.823710</td>\n",
       "      <td>144.996363</td>\n",
       "      <td>8199.280080</td>\n",
       "      <td>21.068242</td>\n",
       "      <td>0.319883</td>\n",
       "      <td>39.703016</td>\n",
       "    </tr>\n",
       "  </tbody>\n",
       "</table>\n",
       "</div>"
      ],
      "text/plain": [
       "        Type     Rooms         Price   Distance     Postcode   Bedroom  \\\n",
       "0      house  3.260874  1.242665e+06  10.979479  3104.080643  3.229336   \n",
       "1  townhouse  2.837522  9.337351e+05   9.851346  3100.777379  2.814183   \n",
       "2       unit  1.963871  6.051275e+05   7.607391  3110.797481  1.966523   \n",
       "\n",
       "   Bathroom       Car    Landsize  BuildingArea  Lattitude  Longtitude  \\\n",
       "0  1.613822  1.772674  617.181924    152.162553 -37.803795  144.994700   \n",
       "1  1.809695  1.555655  279.606822    134.649710 -37.815782  144.996489   \n",
       "2  1.183295  1.128936  477.314219    102.235863 -37.823710  144.996363   \n",
       "\n",
       "   Propertycount  MeanRoomsSquare  AreaRatio  AgeBuilding  \n",
       "0    7259.025505        18.996731  -0.490031    55.669700  \n",
       "1    7094.459605        18.569847  -0.094916    26.690305  \n",
       "2    8199.280080        21.068242   0.319883    39.703016  "
      ]
     },
     "execution_count": 3,
     "metadata": {},
     "output_type": "execute_result"
    }
   ],
   "source": [
    "melb_df.groupby(by=\"Type\", as_index=False).mean(numeric_only=True)"
   ]
  },
  {
   "cell_type": "markdown",
   "metadata": {},
   "source": [
    "Как правило, нам не нужна информация обо всех столбцах, поэтому агрегирующие методы можно применять только к интересующему нас столбцу. Например, давайте сравним средние цены на объекты в зависимости от их типа:"
   ]
  },
  {
   "cell_type": "code",
   "execution_count": 4,
   "metadata": {},
   "outputs": [
    {
     "name": "stderr",
     "output_type": "stream",
     "text": [
      "/tmp/ipykernel_8589/2328732824.py:1: FutureWarning: The default of observed=False is deprecated and will be changed to True in a future version of pandas. Pass observed=False to retain current behavior or observed=True to adopt the future default and silence this warning.\n",
      "  melb_df.groupby('Type')['Price'].mean()\n"
     ]
    },
    {
     "data": {
      "text/plain": [
       "Type\n",
       "house        1.242665e+06\n",
       "townhouse    9.337351e+05\n",
       "unit         6.051275e+05\n",
       "Name: Price, dtype: float64"
      ]
     },
     "execution_count": 4,
     "metadata": {},
     "output_type": "execute_result"
    }
   ],
   "source": [
    "melb_df.groupby(\"Type\")[\"Price\"].mean()"
   ]
  },
  {
   "cell_type": "markdown",
   "metadata": {},
   "source": [
    "<div style=\"background-color: #e0ffd1;color: black;border: 3px solid black; padding: 15px; margin-right: 500px; width: 80%;\">Примечание. Обратите внимание, что, так как мы считаем только один показатель (среднее) для одного столбца, в результате мы получаем объект Series."
   ]
  },
  {
   "cell_type": "markdown",
   "metadata": {},
   "source": [
    "Из этой маленькой таблицы видно, что наибольшей средней ценой обладают объекты типа house (дома, коттеджи, виллы). Следовательно, можно сделать вывод, что тип постройки является значимым фактором при определении цены объекта недвижимости."
   ]
  },
  {
   "cell_type": "markdown",
   "metadata": {},
   "source": [
    "---"
   ]
  },
  {
   "cell_type": "markdown",
   "metadata": {},
   "source": [
    "Теперь давайте выясним, какие регионы (Regionname) наиболее удалены от центра Мельбурна.\n",
    "\n",
    "Для этого найдём минимальное значение расстояния от центра города до объекта в зависимости от его региона. Результат отсортируем по убыванию расстояния:"
   ]
  },
  {
   "cell_type": "code",
   "execution_count": 6,
   "metadata": {},
   "outputs": [
    {
     "name": "stderr",
     "output_type": "stream",
     "text": [
      "/tmp/ipykernel_8589/3783769093.py:1: FutureWarning: The default of observed=False is deprecated and will be changed to True in a future version of pandas. Pass observed=False to retain current behavior or observed=True to adopt the future default and silence this warning.\n",
      "  melb_df.groupby('Regionname')['Distance'].min().sort_values(ascending=False)\n"
     ]
    },
    {
     "data": {
      "text/plain": [
       "Regionname\n",
       "Western Victoria              29.8\n",
       "Eastern Victoria              25.2\n",
       "Northern Victoria             21.8\n",
       "South-Eastern Metropolitan    14.7\n",
       "Eastern Metropolitan           7.8\n",
       "Western Metropolitan           4.3\n",
       "Southern Metropolitan          0.7\n",
       "Northern Metropolitan          0.0\n",
       "Name: Distance, dtype: float64"
      ]
     },
     "execution_count": 6,
     "metadata": {},
     "output_type": "execute_result"
    }
   ],
   "source": [
    "melb_df.groupby(\"Regionname\")[\"Distance\"].min().sort_values(ascending=False)"
   ]
  },
  {
   "cell_type": "markdown",
   "metadata": {},
   "source": [
    "Итак, наиболее удалёнными являются все регионы Victoria."
   ]
  },
  {
   "cell_type": "markdown",
   "metadata": {},
   "source": [
    "### Группировка данных по одному критерию с несколькими агрегациями"
   ]
  },
  {
   "cell_type": "markdown",
   "metadata": {},
   "source": [
    "Чтобы рассчитать несколько агрегирующих методов, можно воспользоваться методом <a href=\"https://pandas.pydata.org/pandas-docs/stable/reference/api/pandas.DataFrame.agg.html\">agg()</a>, который принимает список строк с названиями агрегаций.\n",
    "\n",
    "Давайте построим таблицу для анализа продаж по месяцам. Для этого найдём количество продаж, а также среднее и максимальное значения цен объектов недвижимости (Price), сгруппированных по номеру месяца продажи (MonthSale). Результат отсортируем по количеству продаж в порядке убывания:"
   ]
  },
  {
   "cell_type": "code",
   "execution_count": 8,
   "metadata": {},
   "outputs": [
    {
     "name": "stderr",
     "output_type": "stream",
     "text": [
      "/tmp/ipykernel_8589/3775246841.py:1: FutureWarning: The default of observed=False is deprecated and will be changed to True in a future version of pandas. Pass observed=False to retain current behavior or observed=True to adopt the future default and silence this warning.\n",
      "  melb_df.groupby('MonthSale')['Price'].agg(['count', 'mean', 'max']).sort_values(by='count', ascending=False)\n"
     ]
    },
    {
     "data": {
      "text/html": [
       "<div>\n",
       "<style scoped>\n",
       "    .dataframe tbody tr th:only-of-type {\n",
       "        vertical-align: middle;\n",
       "    }\n",
       "\n",
       "    .dataframe tbody tr th {\n",
       "        vertical-align: top;\n",
       "    }\n",
       "\n",
       "    .dataframe thead th {\n",
       "        text-align: right;\n",
       "    }\n",
       "</style>\n",
       "<table border=\"1\" class=\"dataframe\">\n",
       "  <thead>\n",
       "    <tr style=\"text-align: right;\">\n",
       "      <th></th>\n",
       "      <th>count</th>\n",
       "      <th>mean</th>\n",
       "      <th>max</th>\n",
       "    </tr>\n",
       "    <tr>\n",
       "      <th>MonthSale</th>\n",
       "      <th></th>\n",
       "      <th></th>\n",
       "      <th></th>\n",
       "    </tr>\n",
       "  </thead>\n",
       "  <tbody>\n",
       "    <tr>\n",
       "      <th>8</th>\n",
       "      <td>1850</td>\n",
       "      <td>1.056371e+06</td>\n",
       "      <td>6500000.0</td>\n",
       "    </tr>\n",
       "    <tr>\n",
       "      <th>7</th>\n",
       "      <td>1835</td>\n",
       "      <td>9.314698e+05</td>\n",
       "      <td>9000000.0</td>\n",
       "    </tr>\n",
       "    <tr>\n",
       "      <th>5</th>\n",
       "      <td>1644</td>\n",
       "      <td>1.097807e+06</td>\n",
       "      <td>8000000.0</td>\n",
       "    </tr>\n",
       "    <tr>\n",
       "      <th>6</th>\n",
       "      <td>1469</td>\n",
       "      <td>1.068981e+06</td>\n",
       "      <td>7650000.0</td>\n",
       "    </tr>\n",
       "    <tr>\n",
       "      <th>3</th>\n",
       "      <td>1408</td>\n",
       "      <td>1.146762e+06</td>\n",
       "      <td>5600000.0</td>\n",
       "    </tr>\n",
       "    <tr>\n",
       "      <th>4</th>\n",
       "      <td>1246</td>\n",
       "      <td>1.050479e+06</td>\n",
       "      <td>5500000.0</td>\n",
       "    </tr>\n",
       "    <tr>\n",
       "      <th>9</th>\n",
       "      <td>1188</td>\n",
       "      <td>1.126349e+06</td>\n",
       "      <td>6400000.0</td>\n",
       "    </tr>\n",
       "    <tr>\n",
       "      <th>10</th>\n",
       "      <td>854</td>\n",
       "      <td>1.135970e+06</td>\n",
       "      <td>6250000.0</td>\n",
       "    </tr>\n",
       "    <tr>\n",
       "      <th>11</th>\n",
       "      <td>750</td>\n",
       "      <td>1.142503e+06</td>\n",
       "      <td>5050000.0</td>\n",
       "    </tr>\n",
       "    <tr>\n",
       "      <th>12</th>\n",
       "      <td>725</td>\n",
       "      <td>1.144737e+06</td>\n",
       "      <td>5700000.0</td>\n",
       "    </tr>\n",
       "    <tr>\n",
       "      <th>2</th>\n",
       "      <td>333</td>\n",
       "      <td>1.169051e+06</td>\n",
       "      <td>4735000.0</td>\n",
       "    </tr>\n",
       "    <tr>\n",
       "      <th>1</th>\n",
       "      <td>278</td>\n",
       "      <td>9.397921e+05</td>\n",
       "      <td>5200000.0</td>\n",
       "    </tr>\n",
       "  </tbody>\n",
       "</table>\n",
       "</div>"
      ],
      "text/plain": [
       "           count          mean        max\n",
       "MonthSale                                \n",
       "8           1850  1.056371e+06  6500000.0\n",
       "7           1835  9.314698e+05  9000000.0\n",
       "5           1644  1.097807e+06  8000000.0\n",
       "6           1469  1.068981e+06  7650000.0\n",
       "3           1408  1.146762e+06  5600000.0\n",
       "4           1246  1.050479e+06  5500000.0\n",
       "9           1188  1.126349e+06  6400000.0\n",
       "10           854  1.135970e+06  6250000.0\n",
       "11           750  1.142503e+06  5050000.0\n",
       "12           725  1.144737e+06  5700000.0\n",
       "2            333  1.169051e+06  4735000.0\n",
       "1            278  9.397921e+05  5200000.0"
      ]
     },
     "execution_count": 8,
     "metadata": {},
     "output_type": "execute_result"
    }
   ],
   "source": [
    "melb_df.groupby(\"MonthSale\")[\"Price\"].agg([\"count\", \"mean\", \"max\"]).sort_values(\n",
    "    by=\"count\", ascending=False\n",
    ")"
   ]
  },
  {
   "cell_type": "markdown",
   "metadata": {},
   "source": [
    "<div style=\"background-color: #e0ffd1;color: black;border: 3px solid black; padding: 15px; margin-right: 500px; width: 80%;\">Примечание. Обратите внимание, что, так как мы считаем несколько показателей для одного столбца, в результате мы получаем объект DataFrame.</div>"
   ]
  },
  {
   "cell_type": "markdown",
   "metadata": {},
   "source": [
    "В результате применения метода agg(), в который мы передали список с названиями интересующих нас агрегирующих функций, мы получаем DataFrame со столбцами count, mean и max, где для каждого месяца рассчитаны соответствующие параметры. Результат сортируем по столбцу count."
   ]
  },
  {
   "cell_type": "markdown",
   "metadata": {},
   "source": [
    "Какие интересные выводы можно сделать из этой таблицы?"
   ]
  },
  {
   "cell_type": "markdown",
   "metadata": {},
   "source": [
    "<div style=\"border: 1px solid white; padding: 5px; margin-right: auto;  width: 80%;\"> \n",
    "<div style=\"color: white;background-color: black;\">1</div>\n",
    "Пик продаж приходится на период весна-лето.</div>"
   ]
  },
  {
   "cell_type": "markdown",
   "metadata": {},
   "source": [
    "<div style=\"border: 1px solid white; padding: 5px; margin-right: auto;  width: 80%;\"> \n",
    "<div style=\"color: white;background-color: black;\">2</div>\n",
    "Cредняя цена продаваемых объектов относительно стабильна и находится в пределах 1 млн. австралийских долларов с небольшими отклонениями (около 100 тыс. влево и вправо).</div>"
   ]
  },
  {
   "cell_type": "markdown",
   "metadata": {},
   "source": [
    "<div style=\"border: 1px solid white; padding: 5px; margin-right: auto;  width: 80%;\"> \n",
    "<div style=\"color: white;background-color: black;\">3</div>\n",
    "Прослеживается некоторая зависимость между сезоном и максимальной ценой объектов: в месяцы с большим спросом на объекты недвижимости цена также имеет наибольшие показатели. Можно сделать предположение, что это связано с повышением цен на элитные дома в периоды большого спроса.</div>"
   ]
  },
  {
   "cell_type": "markdown",
   "metadata": {},
   "source": [
    "<div style=\"background-color: #e0ffd1;color: black;border: 3px solid black; padding: 15px; margin-right: 500px; width: 80%;\">\n",
    "Примечание. Если вам нужна полная информация обо всех основных статистических характеристиках внутри каждой группы, вы можете воспользоваться методом agg(), передав в качестве его параметра строку 'describe': <br>\n",
    "<code style=\"color: black; background-color: white;\">\n",
    "melb_df.groupby('MonthSale')['Price'].agg('describe')\n",
    "</code>\n"
   ]
  },
  {
   "cell_type": "code",
   "execution_count": 9,
   "metadata": {},
   "outputs": [
    {
     "name": "stderr",
     "output_type": "stream",
     "text": [
      "/tmp/ipykernel_8589/701566850.py:1: FutureWarning: The default of observed=False is deprecated and will be changed to True in a future version of pandas. Pass observed=False to retain current behavior or observed=True to adopt the future default and silence this warning.\n",
      "  melb_df.groupby('MonthSale')['Price'].agg('describe')\n"
     ]
    },
    {
     "data": {
      "text/html": [
       "<div>\n",
       "<style scoped>\n",
       "    .dataframe tbody tr th:only-of-type {\n",
       "        vertical-align: middle;\n",
       "    }\n",
       "\n",
       "    .dataframe tbody tr th {\n",
       "        vertical-align: top;\n",
       "    }\n",
       "\n",
       "    .dataframe thead th {\n",
       "        text-align: right;\n",
       "    }\n",
       "</style>\n",
       "<table border=\"1\" class=\"dataframe\">\n",
       "  <thead>\n",
       "    <tr style=\"text-align: right;\">\n",
       "      <th></th>\n",
       "      <th>count</th>\n",
       "      <th>mean</th>\n",
       "      <th>std</th>\n",
       "      <th>min</th>\n",
       "      <th>25%</th>\n",
       "      <th>50%</th>\n",
       "      <th>75%</th>\n",
       "      <th>max</th>\n",
       "    </tr>\n",
       "    <tr>\n",
       "      <th>MonthSale</th>\n",
       "      <th></th>\n",
       "      <th></th>\n",
       "      <th></th>\n",
       "      <th></th>\n",
       "      <th></th>\n",
       "      <th></th>\n",
       "      <th></th>\n",
       "      <th></th>\n",
       "    </tr>\n",
       "  </thead>\n",
       "  <tbody>\n",
       "    <tr>\n",
       "      <th>1</th>\n",
       "      <td>278.0</td>\n",
       "      <td>9.397921e+05</td>\n",
       "      <td>577668.924214</td>\n",
       "      <td>170000.0</td>\n",
       "      <td>570500.0</td>\n",
       "      <td>795000.0</td>\n",
       "      <td>1111250.0</td>\n",
       "      <td>5200000.0</td>\n",
       "    </tr>\n",
       "    <tr>\n",
       "      <th>2</th>\n",
       "      <td>333.0</td>\n",
       "      <td>1.169051e+06</td>\n",
       "      <td>671564.357417</td>\n",
       "      <td>131000.0</td>\n",
       "      <td>710000.0</td>\n",
       "      <td>1020000.0</td>\n",
       "      <td>1478000.0</td>\n",
       "      <td>4735000.0</td>\n",
       "    </tr>\n",
       "    <tr>\n",
       "      <th>3</th>\n",
       "      <td>1408.0</td>\n",
       "      <td>1.146762e+06</td>\n",
       "      <td>709573.596867</td>\n",
       "      <td>85000.0</td>\n",
       "      <td>680000.0</td>\n",
       "      <td>945000.0</td>\n",
       "      <td>1400000.0</td>\n",
       "      <td>5600000.0</td>\n",
       "    </tr>\n",
       "    <tr>\n",
       "      <th>4</th>\n",
       "      <td>1246.0</td>\n",
       "      <td>1.050479e+06</td>\n",
       "      <td>591892.902979</td>\n",
       "      <td>145000.0</td>\n",
       "      <td>655000.0</td>\n",
       "      <td>905500.0</td>\n",
       "      <td>1298750.0</td>\n",
       "      <td>5500000.0</td>\n",
       "    </tr>\n",
       "    <tr>\n",
       "      <th>5</th>\n",
       "      <td>1644.0</td>\n",
       "      <td>1.097807e+06</td>\n",
       "      <td>668492.867996</td>\n",
       "      <td>145000.0</td>\n",
       "      <td>650000.0</td>\n",
       "      <td>905000.0</td>\n",
       "      <td>1371250.0</td>\n",
       "      <td>8000000.0</td>\n",
       "    </tr>\n",
       "    <tr>\n",
       "      <th>6</th>\n",
       "      <td>1469.0</td>\n",
       "      <td>1.068981e+06</td>\n",
       "      <td>606010.069052</td>\n",
       "      <td>222000.0</td>\n",
       "      <td>660000.0</td>\n",
       "      <td>900000.0</td>\n",
       "      <td>1325000.0</td>\n",
       "      <td>7650000.0</td>\n",
       "    </tr>\n",
       "    <tr>\n",
       "      <th>7</th>\n",
       "      <td>1835.0</td>\n",
       "      <td>9.314698e+05</td>\n",
       "      <td>537390.803161</td>\n",
       "      <td>190000.0</td>\n",
       "      <td>586750.0</td>\n",
       "      <td>800000.0</td>\n",
       "      <td>1150000.0</td>\n",
       "      <td>9000000.0</td>\n",
       "    </tr>\n",
       "    <tr>\n",
       "      <th>8</th>\n",
       "      <td>1850.0</td>\n",
       "      <td>1.056371e+06</td>\n",
       "      <td>619617.476541</td>\n",
       "      <td>160000.0</td>\n",
       "      <td>635000.0</td>\n",
       "      <td>892000.0</td>\n",
       "      <td>1310000.0</td>\n",
       "      <td>6500000.0</td>\n",
       "    </tr>\n",
       "    <tr>\n",
       "      <th>9</th>\n",
       "      <td>1188.0</td>\n",
       "      <td>1.126349e+06</td>\n",
       "      <td>608734.690742</td>\n",
       "      <td>170000.0</td>\n",
       "      <td>725000.0</td>\n",
       "      <td>980000.0</td>\n",
       "      <td>1360000.0</td>\n",
       "      <td>6400000.0</td>\n",
       "    </tr>\n",
       "    <tr>\n",
       "      <th>10</th>\n",
       "      <td>854.0</td>\n",
       "      <td>1.135970e+06</td>\n",
       "      <td>692950.251627</td>\n",
       "      <td>250000.0</td>\n",
       "      <td>652625.0</td>\n",
       "      <td>950000.0</td>\n",
       "      <td>1416500.0</td>\n",
       "      <td>6250000.0</td>\n",
       "    </tr>\n",
       "    <tr>\n",
       "      <th>11</th>\n",
       "      <td>750.0</td>\n",
       "      <td>1.142503e+06</td>\n",
       "      <td>703666.227892</td>\n",
       "      <td>240000.0</td>\n",
       "      <td>671750.0</td>\n",
       "      <td>950000.0</td>\n",
       "      <td>1399125.0</td>\n",
       "      <td>5050000.0</td>\n",
       "    </tr>\n",
       "    <tr>\n",
       "      <th>12</th>\n",
       "      <td>725.0</td>\n",
       "      <td>1.144737e+06</td>\n",
       "      <td>706549.007161</td>\n",
       "      <td>250000.0</td>\n",
       "      <td>667500.0</td>\n",
       "      <td>938000.0</td>\n",
       "      <td>1412000.0</td>\n",
       "      <td>5700000.0</td>\n",
       "    </tr>\n",
       "  </tbody>\n",
       "</table>\n",
       "</div>"
      ],
      "text/plain": [
       "            count          mean            std       min       25%        50%  \\\n",
       "MonthSale                                                                       \n",
       "1           278.0  9.397921e+05  577668.924214  170000.0  570500.0   795000.0   \n",
       "2           333.0  1.169051e+06  671564.357417  131000.0  710000.0  1020000.0   \n",
       "3          1408.0  1.146762e+06  709573.596867   85000.0  680000.0   945000.0   \n",
       "4          1246.0  1.050479e+06  591892.902979  145000.0  655000.0   905500.0   \n",
       "5          1644.0  1.097807e+06  668492.867996  145000.0  650000.0   905000.0   \n",
       "6          1469.0  1.068981e+06  606010.069052  222000.0  660000.0   900000.0   \n",
       "7          1835.0  9.314698e+05  537390.803161  190000.0  586750.0   800000.0   \n",
       "8          1850.0  1.056371e+06  619617.476541  160000.0  635000.0   892000.0   \n",
       "9          1188.0  1.126349e+06  608734.690742  170000.0  725000.0   980000.0   \n",
       "10          854.0  1.135970e+06  692950.251627  250000.0  652625.0   950000.0   \n",
       "11          750.0  1.142503e+06  703666.227892  240000.0  671750.0   950000.0   \n",
       "12          725.0  1.144737e+06  706549.007161  250000.0  667500.0   938000.0   \n",
       "\n",
       "                 75%        max  \n",
       "MonthSale                        \n",
       "1          1111250.0  5200000.0  \n",
       "2          1478000.0  4735000.0  \n",
       "3          1400000.0  5600000.0  \n",
       "4          1298750.0  5500000.0  \n",
       "5          1371250.0  8000000.0  \n",
       "6          1325000.0  7650000.0  \n",
       "7          1150000.0  9000000.0  \n",
       "8          1310000.0  6500000.0  \n",
       "9          1360000.0  6400000.0  \n",
       "10         1416500.0  6250000.0  \n",
       "11         1399125.0  5050000.0  \n",
       "12         1412000.0  5700000.0  "
      ]
     },
     "execution_count": 9,
     "metadata": {},
     "output_type": "execute_result"
    }
   ],
   "source": [
    "melb_df.groupby(\"MonthSale\")[\"Price\"].agg(\"describe\")"
   ]
  },
  {
   "cell_type": "markdown",
   "metadata": {},
   "source": [
    "После базовых математических функций наиболее частым агрегированием является <b>подсчёт числа уникальных значений.</b> Так, например, мы можем вычислить число уникальных риелторских компаний в зависимости от региона, чтобы понять, в каких регионах конкуренция на рынке недвижимости меньше. Это можно сделать, передав в параметр метода agg() строку 'nunique'. \n",
    "\n",
    "Более того, метод agg() поддерживает использование и других функций. Передадим дополнительно встроенную функцию set, чтобы получить множество из агентств недвижимости, которые работают в каждом из регионов:"
   ]
  },
  {
   "cell_type": "code",
   "execution_count": 10,
   "metadata": {},
   "outputs": [
    {
     "name": "stderr",
     "output_type": "stream",
     "text": [
      "/tmp/ipykernel_8589/3959769775.py:1: FutureWarning: The default of observed=False is deprecated and will be changed to True in a future version of pandas. Pass observed=False to retain current behavior or observed=True to adopt the future default and silence this warning.\n",
      "  melb_df.groupby('Regionname')['SellerG'].agg('nunique')\n"
     ]
    },
    {
     "data": {
      "text/plain": [
       "Regionname\n",
       "Eastern Metropolitan          26\n",
       "Eastern Victoria              11\n",
       "Northern Metropolitan         40\n",
       "Northern Victoria             11\n",
       "South-Eastern Metropolitan    25\n",
       "Southern Metropolitan         38\n",
       "Western Metropolitan          34\n",
       "Western Victoria               6\n",
       "Name: SellerG, dtype: int64"
      ]
     },
     "execution_count": 10,
     "metadata": {},
     "output_type": "execute_result"
    }
   ],
   "source": [
    "melb_df.groupby(\"Regionname\")[\"SellerG\"].agg(\"nunique\")"
   ]
  },
  {
   "cell_type": "code",
   "execution_count": 12,
   "metadata": {},
   "outputs": [
    {
     "name": "stderr",
     "output_type": "stream",
     "text": [
      "/tmp/ipykernel_8589/4026196115.py:1: FutureWarning: The default of observed=False is deprecated and will be changed to True in a future version of pandas. Pass observed=False to retain current behavior or observed=True to adopt the future default and silence this warning.\n",
      "  melb_df.groupby('Regionname')['SellerG'].agg(['nunique', set])\n"
     ]
    },
    {
     "data": {
      "text/html": [
       "<div>\n",
       "<style scoped>\n",
       "    .dataframe tbody tr th:only-of-type {\n",
       "        vertical-align: middle;\n",
       "    }\n",
       "\n",
       "    .dataframe tbody tr th {\n",
       "        vertical-align: top;\n",
       "    }\n",
       "\n",
       "    .dataframe thead th {\n",
       "        text-align: right;\n",
       "    }\n",
       "</style>\n",
       "<table border=\"1\" class=\"dataframe\">\n",
       "  <thead>\n",
       "    <tr style=\"text-align: right;\">\n",
       "      <th></th>\n",
       "      <th>nunique</th>\n",
       "      <th>set</th>\n",
       "    </tr>\n",
       "    <tr>\n",
       "      <th>Regionname</th>\n",
       "      <th></th>\n",
       "      <th></th>\n",
       "    </tr>\n",
       "  </thead>\n",
       "  <tbody>\n",
       "    <tr>\n",
       "      <th>Eastern Metropolitan</th>\n",
       "      <td>26</td>\n",
       "      <td>{Barry, Gary, Biggin, Philip, Marshall, Miles,...</td>\n",
       "    </tr>\n",
       "    <tr>\n",
       "      <th>Eastern Victoria</th>\n",
       "      <td>11</td>\n",
       "      <td>{Barry, hockingstuart, other, C21, Harcourts, ...</td>\n",
       "    </tr>\n",
       "    <tr>\n",
       "      <th>Northern Metropolitan</th>\n",
       "      <td>40</td>\n",
       "      <td>{Greg, Barry, Biggin, Philip, Marshall, Cayzer...</td>\n",
       "    </tr>\n",
       "    <tr>\n",
       "      <th>Northern Victoria</th>\n",
       "      <td>11</td>\n",
       "      <td>{Barry, McDonald, YPA, hockingstuart, other, L...</td>\n",
       "    </tr>\n",
       "    <tr>\n",
       "      <th>South-Eastern Metropolitan</th>\n",
       "      <td>25</td>\n",
       "      <td>{Greg, Barry, Gary, Biggin, Chisholm, Nelson, ...</td>\n",
       "    </tr>\n",
       "    <tr>\n",
       "      <th>Southern Metropolitan</th>\n",
       "      <td>38</td>\n",
       "      <td>{Greg, Barry, Gary, Biggin, Chisholm, Philip, ...</td>\n",
       "    </tr>\n",
       "    <tr>\n",
       "      <th>Western Metropolitan</th>\n",
       "      <td>34</td>\n",
       "      <td>{Greg, Barry, Biggin, Chisholm, Moonee, Nelson...</td>\n",
       "    </tr>\n",
       "    <tr>\n",
       "      <th>Western Victoria</th>\n",
       "      <td>6</td>\n",
       "      <td>{hockingstuart, other, YPA, HAR, Raine, Ray}</td>\n",
       "    </tr>\n",
       "  </tbody>\n",
       "</table>\n",
       "</div>"
      ],
      "text/plain": [
       "                            nunique  \\\n",
       "Regionname                            \n",
       "Eastern Metropolitan             26   \n",
       "Eastern Victoria                 11   \n",
       "Northern Metropolitan            40   \n",
       "Northern Victoria                11   \n",
       "South-Eastern Metropolitan       25   \n",
       "Southern Metropolitan            38   \n",
       "Western Metropolitan             34   \n",
       "Western Victoria                  6   \n",
       "\n",
       "                                                                          set  \n",
       "Regionname                                                                     \n",
       "Eastern Metropolitan        {Barry, Gary, Biggin, Philip, Marshall, Miles,...  \n",
       "Eastern Victoria            {Barry, hockingstuart, other, C21, Harcourts, ...  \n",
       "Northern Metropolitan       {Greg, Barry, Biggin, Philip, Marshall, Cayzer...  \n",
       "Northern Victoria           {Barry, McDonald, YPA, hockingstuart, other, L...  \n",
       "South-Eastern Metropolitan  {Greg, Barry, Gary, Biggin, Chisholm, Nelson, ...  \n",
       "Southern Metropolitan       {Greg, Barry, Gary, Biggin, Chisholm, Philip, ...  \n",
       "Western Metropolitan        {Greg, Barry, Biggin, Chisholm, Moonee, Nelson...  \n",
       "Western Victoria                 {hockingstuart, other, YPA, HAR, Raine, Ray}  "
      ]
     },
     "execution_count": 12,
     "metadata": {},
     "output_type": "execute_result"
    }
   ],
   "source": [
    "melb_df.groupby(\"Regionname\")[\"SellerG\"].agg([\"nunique\", set])"
   ]
  },
  {
   "cell_type": "markdown",
   "metadata": {},
   "source": [
    "Как и ожидалось, наименьшая конкуренция в наиболее удалённом регионе Western Victoria, а наибольшая — в центральном районе Northern Metropolitan."
   ]
  },
  {
   "cell_type": "markdown",
   "metadata": {},
   "source": [
    "\n",
    "<div style=\"background-color: #f5f5f5; padding: 15px; color: black; width: 80%;\">✍ Методы группировки по одному признаку позволяют посмотреть на наши данные «в разрезе» группирующего признака и понять их взаимосвязь. Далее мы рассмотрим, как оценивать взаимосвязь между большим количеством признаков.\n",
    "\n",
    "Предлагаем вам самим потренироваться в использовании группировки ↓</div>\n"
   ]
  },
  {
   "cell_type": "markdown",
   "metadata": {},
   "source": [
    "###  Задание 3.1\n",
    "\n",
    "Сгруппируйте данные по признаку количества комнат и найдите среднюю цену объектов недвижимости в каждой группе. В качестве ответа запишите количество комнат, для которых средняя цена наибольшая.\n",
    "\n",
    "<details>\n",
    "<summary><strong>Show answer</strong> (Click Here)</summary>\n",
    "    &emsp; &emsp; <code>\n",
    " 7\n",
    "</code>\n",
    "</details>"
   ]
  },
  {
   "cell_type": "code",
   "execution_count": 13,
   "metadata": {},
   "outputs": [
    {
     "data": {
      "text/plain": [
       "Rooms\n",
       "7     1.920700e+06\n",
       "5     1.870260e+06\n",
       "6     1.849366e+06\n",
       "8     1.602750e+06\n",
       "4     1.445282e+06\n",
       "3     1.076081e+06\n",
       "10    9.000000e+05\n",
       "2     7.750812e+05\n",
       "1     4.338245e+05\n",
       "Name: Price, dtype: float64"
      ]
     },
     "execution_count": 13,
     "metadata": {},
     "output_type": "execute_result"
    }
   ],
   "source": [
    "melb_df.groupby(\"Rooms\")[\"Price\"].mean().sort_values(ascending=False)"
   ]
  },
  {
   "cell_type": "markdown",
   "metadata": {},
   "source": [
    "###   Задание 3.2\n",
    "\n",
    "Какой регион имеет наименьшее стандартное отклонение по географической широте (Lattitude)?\n",
    "\n",
    "В качестве ответа запишите название этого региона.\n",
    "\n",
    "<details>\n",
    "<summary><strong>Show answer</strong> (Click Here)</summary>\n",
    "    &emsp; &emsp; <code>\n",
    " Western Victoria\n",
    "</code>\n",
    "</details>"
   ]
  },
  {
   "cell_type": "code",
   "execution_count": 15,
   "metadata": {},
   "outputs": [
    {
     "name": "stderr",
     "output_type": "stream",
     "text": [
      "/tmp/ipykernel_8589/2833887339.py:1: FutureWarning: The default of observed=False is deprecated and will be changed to True in a future version of pandas. Pass observed=False to retain current behavior or observed=True to adopt the future default and silence this warning.\n",
      "  melb_df.groupby('Regionname')['Lattitude'].std().sort_values()\n"
     ]
    },
    {
     "data": {
      "text/plain": [
       "Regionname\n",
       "Western Victoria              0.011579\n",
       "Southern Metropolitan         0.043080\n",
       "Eastern Metropolitan          0.047890\n",
       "Northern Metropolitan         0.049639\n",
       "Western Metropolitan          0.051251\n",
       "South-Eastern Metropolitan    0.073411\n",
       "Northern Victoria             0.084455\n",
       "Eastern Victoria              0.147067\n",
       "Name: Lattitude, dtype: float64"
      ]
     },
     "execution_count": 15,
     "metadata": {},
     "output_type": "execute_result"
    }
   ],
   "source": [
    "melb_df.groupby(\"Regionname\")[\"Lattitude\"].std().sort_values()"
   ]
  },
  {
   "cell_type": "markdown",
   "metadata": {},
   "source": [
    "###    Задание 3.3\n",
    "\n",
    "Какая риелторская компания (SellerG) имеет наименьшую общую выручку за период с 1 мая по 1 сентября (включительно) 2017 года?\n",
    "\n",
    "Для ответа на этот вопрос рассчитайте сумму продаж (Price) каждой компании в заданный период.\n",
    "\n",
    "Не забудьте перевести даты в формат datetime.\n",
    "\n",
    "<details>\n",
    "<summary><strong>Show answer</strong> (Click Here)</summary>\n",
    "    &emsp; &emsp; <code>\n",
    "LITTLE \n",
    "</code>\n",
    "</details>"
   ]
  },
  {
   "cell_type": "code",
   "execution_count": 21,
   "metadata": {},
   "outputs": [
    {
     "name": "stderr",
     "output_type": "stream",
     "text": [
      "/tmp/ipykernel_8589/1557222799.py:3: FutureWarning: The default of observed=False is deprecated and will be changed to True in a future version of pandas. Pass observed=False to retain current behavior or observed=True to adopt the future default and silence this warning.\n",
      "  melb_df.loc[mask1 & mask2].groupby('SellerG')['Price'].sum().sort_values()\n"
     ]
    },
    {
     "data": {
      "text/plain": [
       "SellerG\n",
       "LITTLE             2742000.0\n",
       "Cayzer             4439000.0\n",
       "Burnham            4550500.0\n",
       "Moonee             7328000.0\n",
       "Thomson            8332000.0\n",
       "Bells              8656000.0\n",
       "Alexkarbon        10985000.0\n",
       "McDonald          14637500.0\n",
       "Rendina           15422276.0\n",
       "Nick              16890000.0\n",
       "Douglas           18341000.0\n",
       "Buckingham        19033000.0\n",
       "C21               19515000.0\n",
       "Eview             19791500.0\n",
       "Collins           20217000.0\n",
       "Philip            22051800.0\n",
       "Chisholm          23225000.0\n",
       "Williams          23297000.0\n",
       "Love              23365500.0\n",
       "Purplebricks      23401000.0\n",
       "O'Brien           23855508.0\n",
       "HAR               25568000.0\n",
       "Village           26473000.0\n",
       "RW                29261000.0\n",
       "Raine             30687700.0\n",
       "Stockdale         35409800.0\n",
       "Sweeney           36882750.0\n",
       "Gary              39138400.0\n",
       "Hodges            43231000.0\n",
       "YPA               46354350.0\n",
       "Miles             47582000.0\n",
       "Kay               48569500.0\n",
       "RT                50498000.0\n",
       "Brad              55955000.0\n",
       "Jas               59281600.0\n",
       "Harcourts         68720250.0\n",
       "McGrath           78386500.0\n",
       "Greg              85621000.0\n",
       "Woodards          85977500.0\n",
       "Noel              88129800.0\n",
       "Fletchers        108847700.0\n",
       "Biggin           110429500.0\n",
       "Buxton           219104000.0\n",
       "Ray              249572986.0\n",
       "Marshall         253957888.0\n",
       "hockingstuart    282834310.0\n",
       "Barry            296723050.0\n",
       "other            365038432.0\n",
       "Nelson           379767500.0\n",
       "Jellis           414121833.0\n",
       "Name: Price, dtype: float64"
      ]
     },
     "execution_count": 21,
     "metadata": {},
     "output_type": "execute_result"
    }
   ],
   "source": [
    "mask1 = melb_df[\"Date\"] > \"2017-05-01\"\n",
    "mask2 = melb_df[\"Date\"] <= \"2017-09-01\"\n",
    "melb_df.loc[mask1 & mask2].groupby(\"SellerG\")[\"Price\"].sum().sort_values()"
   ]
  }
 ],
 "metadata": {
  "kernelspec": {
   "display_name": ".venv",
   "language": "python",
   "name": "python3"
  },
  "language_info": {
   "codemirror_mode": {
    "name": "ipython",
    "version": 3
   },
   "file_extension": ".py",
   "mimetype": "text/x-python",
   "name": "python",
   "nbconvert_exporter": "python",
   "pygments_lexer": "ipython3",
   "version": "3.10.12"
  }
 },
 "nbformat": 4,
 "nbformat_minor": 2
}
