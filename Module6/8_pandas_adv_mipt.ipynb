{
 "cells": [
  {
   "cell_type": "markdown",
   "metadata": {},
   "source": [
    "### полезные ссылки:\n",
    "https://www.wisedata.app/blog/transform-pandas-dataframe-with-nl"
   ]
  },
  {
   "cell_type": "code",
   "execution_count": 34,
   "metadata": {},
   "outputs": [],
   "source": [
    "import pandas as pd"
   ]
  },
  {
   "cell_type": "code",
   "execution_count": 35,
   "metadata": {},
   "outputs": [
    {
     "name": "stderr",
     "output_type": "stream",
     "text": [
      "/home/fitlemon/code/python_for_ds/.venv/lib/python3.10/site-packages/openpyxl/styles/stylesheet.py:226: UserWarning: Workbook contains no default style, apply openpyxl's default\n",
      "  warn(\"Workbook contains no default style, apply openpyxl's default\")\n"
     ]
    }
   ],
   "source": [
    "df = pd.read_excel(\"./data/data-5580-2023-10-09.xlsx\")"
   ]
  },
  {
   "cell_type": "code",
   "execution_count": 36,
   "metadata": {},
   "outputs": [
    {
     "data": {
      "text/html": [
       "<div>\n",
       "<style scoped>\n",
       "    .dataframe tbody tr th:only-of-type {\n",
       "        vertical-align: middle;\n",
       "    }\n",
       "\n",
       "    .dataframe tbody tr th {\n",
       "        vertical-align: top;\n",
       "    }\n",
       "\n",
       "    .dataframe thead th {\n",
       "        text-align: right;\n",
       "    }\n",
       "</style>\n",
       "<table border=\"1\" class=\"dataframe\">\n",
       "  <thead>\n",
       "    <tr style=\"text-align: right;\">\n",
       "      <th></th>\n",
       "      <th>ID</th>\n",
       "      <th>Violator</th>\n",
       "      <th>global_id</th>\n",
       "      <th>TypeOfViolation</th>\n",
       "      <th>TakenMeasures</th>\n",
       "      <th>Date</th>\n",
       "      <th>AmountOfPenalty</th>\n",
       "    </tr>\n",
       "  </thead>\n",
       "  <tbody>\n",
       "    <tr>\n",
       "      <th>0</th>\n",
       "      <td>Код</td>\n",
       "      <td>Нарушитель</td>\n",
       "      <td>global_id</td>\n",
       "      <td>Вид нарушения</td>\n",
       "      <td>Принятые меры</td>\n",
       "      <td>Дата принятия мер</td>\n",
       "      <td>Сумма штрафа, руб.</td>\n",
       "    </tr>\n",
       "    <tr>\n",
       "      <th>1</th>\n",
       "      <td>14749</td>\n",
       "      <td>ОБЩЕСТВО С ОГРАНИЧЕННОЙ ОТВЕТСТВЕННОСТЬЮ «БАРК...</td>\n",
       "      <td>272823246</td>\n",
       "      <td>управление многоквартирным домом без лицензии</td>\n",
       "      <td>получен результат суда назначен штраф</td>\n",
       "      <td>08.06.2015</td>\n",
       "      <td>150000</td>\n",
       "    </tr>\n",
       "    <tr>\n",
       "      <th>2</th>\n",
       "      <td>16605</td>\n",
       "      <td>ООО «ВЕКТОР»</td>\n",
       "      <td>272865705</td>\n",
       "      <td>управление многоквартирным домом без лицензии</td>\n",
       "      <td>получен результат суда назначен штраф</td>\n",
       "      <td>05.06.2015</td>\n",
       "      <td>150000</td>\n",
       "    </tr>\n",
       "    <tr>\n",
       "      <th>3</th>\n",
       "      <td>15340</td>\n",
       "      <td>Общество с ограниченной ответственностью «ФМ-И...</td>\n",
       "      <td>272865707</td>\n",
       "      <td>управление многоквартирным домом без лицензии</td>\n",
       "      <td>получен результат суда назначен штраф</td>\n",
       "      <td>30.07.2015</td>\n",
       "      <td>150000</td>\n",
       "    </tr>\n",
       "    <tr>\n",
       "      <th>4</th>\n",
       "      <td>12643</td>\n",
       "      <td>ООО «Лакистройтехно»</td>\n",
       "      <td>272865708</td>\n",
       "      <td>управление многоквартирным домом без лицензии</td>\n",
       "      <td>получен результат суда назначен штраф</td>\n",
       "      <td>10.07.2015</td>\n",
       "      <td>150000</td>\n",
       "    </tr>\n",
       "  </tbody>\n",
       "</table>\n",
       "</div>"
      ],
      "text/plain": [
       "      ID                                           Violator  global_id  \\\n",
       "0    Код                                         Нарушитель  global_id   \n",
       "1  14749  ОБЩЕСТВО С ОГРАНИЧЕННОЙ ОТВЕТСТВЕННОСТЬЮ «БАРК...  272823246   \n",
       "2  16605                                       ООО «ВЕКТОР»  272865705   \n",
       "3  15340  Общество с ограниченной ответственностью «ФМ-И...  272865707   \n",
       "4  12643                               ООО «Лакистройтехно»  272865708   \n",
       "\n",
       "                                 TypeOfViolation  \\\n",
       "0                                  Вид нарушения   \n",
       "1  управление многоквартирным домом без лицензии   \n",
       "2  управление многоквартирным домом без лицензии   \n",
       "3  управление многоквартирным домом без лицензии   \n",
       "4  управление многоквартирным домом без лицензии   \n",
       "\n",
       "                           TakenMeasures               Date  \\\n",
       "0                          Принятые меры  Дата принятия мер   \n",
       "1  получен результат суда назначен штраф         08.06.2015   \n",
       "2  получен результат суда назначен штраф         05.06.2015   \n",
       "3  получен результат суда назначен штраф         30.07.2015   \n",
       "4  получен результат суда назначен штраф         10.07.2015   \n",
       "\n",
       "      AmountOfPenalty  \n",
       "0  Сумма штрафа, руб.  \n",
       "1              150000  \n",
       "2              150000  \n",
       "3              150000  \n",
       "4              150000  "
      ]
     },
     "execution_count": 36,
     "metadata": {},
     "output_type": "execute_result"
    }
   ],
   "source": [
    "df.head()"
   ]
  },
  {
   "cell_type": "code",
   "execution_count": 37,
   "metadata": {},
   "outputs": [],
   "source": [
    "df = df.loc[1:]"
   ]
  },
  {
   "cell_type": "code",
   "execution_count": 38,
   "metadata": {},
   "outputs": [
    {
     "name": "stdout",
     "output_type": "stream",
     "text": [
      "<class 'pandas.core.frame.DataFrame'>\n",
      "RangeIndex: 5091 entries, 1 to 5091\n",
      "Data columns (total 7 columns):\n",
      " #   Column           Non-Null Count  Dtype \n",
      "---  ------           --------------  ----- \n",
      " 0   ID               5091 non-null   object\n",
      " 1   Violator         5091 non-null   object\n",
      " 2   global_id        5091 non-null   object\n",
      " 3   TypeOfViolation  5091 non-null   object\n",
      " 4   TakenMeasures    5091 non-null   object\n",
      " 5   Date             5091 non-null   object\n",
      " 6   AmountOfPenalty  5091 non-null   object\n",
      "dtypes: object(7)\n",
      "memory usage: 278.5+ KB\n"
     ]
    }
   ],
   "source": [
    "df.info()"
   ]
  },
  {
   "cell_type": "code",
   "execution_count": 39,
   "metadata": {},
   "outputs": [],
   "source": [
    "df[\"TypeOfViolation\"] = df[\"TypeOfViolation\"].astype(\"category\")"
   ]
  },
  {
   "cell_type": "code",
   "execution_count": 40,
   "metadata": {},
   "outputs": [
    {
     "data": {
      "text/plain": [
       "4"
      ]
     },
     "execution_count": 40,
     "metadata": {},
     "output_type": "execute_result"
    }
   ],
   "source": [
    "df[\"TypeOfViolation\"].nunique()"
   ]
  },
  {
   "cell_type": "code",
   "execution_count": 41,
   "metadata": {},
   "outputs": [],
   "source": [
    "df[\"Date\"] = pd.to_datetime(df[\"Date\"], dayfirst=True)"
   ]
  },
  {
   "cell_type": "code",
   "execution_count": 42,
   "metadata": {},
   "outputs": [
    {
     "name": "stdout",
     "output_type": "stream",
     "text": [
      "<class 'pandas.core.frame.DataFrame'>\n",
      "RangeIndex: 5091 entries, 1 to 5091\n",
      "Data columns (total 7 columns):\n",
      " #   Column           Non-Null Count  Dtype         \n",
      "---  ------           --------------  -----         \n",
      " 0   ID               5091 non-null   object        \n",
      " 1   Violator         5091 non-null   object        \n",
      " 2   global_id        5091 non-null   object        \n",
      " 3   TypeOfViolation  5091 non-null   category      \n",
      " 4   TakenMeasures    5091 non-null   object        \n",
      " 5   Date             5091 non-null   datetime64[ns]\n",
      " 6   AmountOfPenalty  5091 non-null   object        \n",
      "dtypes: category(1), datetime64[ns](1), object(5)\n",
      "memory usage: 243.9+ KB\n"
     ]
    }
   ],
   "source": [
    "df.info()"
   ]
  },
  {
   "cell_type": "code",
   "execution_count": 43,
   "metadata": {},
   "outputs": [
    {
     "data": {
      "text/plain": [
       "1"
      ]
     },
     "execution_count": 43,
     "metadata": {},
     "output_type": "execute_result"
    }
   ],
   "source": [
    "df[\"TakenMeasures\"].nunique()"
   ]
  },
  {
   "cell_type": "markdown",
   "metadata": {},
   "source": [
    "#### Установка столбца ID как индекса:"
   ]
  },
  {
   "cell_type": "code",
   "execution_count": 44,
   "metadata": {},
   "outputs": [],
   "source": [
    "df.set_index(\"ID\", inplace=True)"
   ]
  },
  {
   "cell_type": "code",
   "execution_count": 45,
   "metadata": {},
   "outputs": [
    {
     "data": {
      "text/html": [
       "<div>\n",
       "<style scoped>\n",
       "    .dataframe tbody tr th:only-of-type {\n",
       "        vertical-align: middle;\n",
       "    }\n",
       "\n",
       "    .dataframe tbody tr th {\n",
       "        vertical-align: top;\n",
       "    }\n",
       "\n",
       "    .dataframe thead th {\n",
       "        text-align: right;\n",
       "    }\n",
       "</style>\n",
       "<table border=\"1\" class=\"dataframe\">\n",
       "  <thead>\n",
       "    <tr style=\"text-align: right;\">\n",
       "      <th></th>\n",
       "      <th>Violator</th>\n",
       "      <th>global_id</th>\n",
       "      <th>TypeOfViolation</th>\n",
       "      <th>TakenMeasures</th>\n",
       "      <th>Date</th>\n",
       "      <th>AmountOfPenalty</th>\n",
       "    </tr>\n",
       "    <tr>\n",
       "      <th>ID</th>\n",
       "      <th></th>\n",
       "      <th></th>\n",
       "      <th></th>\n",
       "      <th></th>\n",
       "      <th></th>\n",
       "      <th></th>\n",
       "    </tr>\n",
       "  </thead>\n",
       "  <tbody>\n",
       "    <tr>\n",
       "      <th>14749</th>\n",
       "      <td>ОБЩЕСТВО С ОГРАНИЧЕННОЙ ОТВЕТСТВЕННОСТЬЮ «БАРК...</td>\n",
       "      <td>272823246</td>\n",
       "      <td>управление многоквартирным домом без лицензии</td>\n",
       "      <td>получен результат суда назначен штраф</td>\n",
       "      <td>2015-06-08</td>\n",
       "      <td>150000</td>\n",
       "    </tr>\n",
       "    <tr>\n",
       "      <th>16605</th>\n",
       "      <td>ООО «ВЕКТОР»</td>\n",
       "      <td>272865705</td>\n",
       "      <td>управление многоквартирным домом без лицензии</td>\n",
       "      <td>получен результат суда назначен штраф</td>\n",
       "      <td>2015-06-05</td>\n",
       "      <td>150000</td>\n",
       "    </tr>\n",
       "    <tr>\n",
       "      <th>15340</th>\n",
       "      <td>Общество с ограниченной ответственностью «ФМ-И...</td>\n",
       "      <td>272865707</td>\n",
       "      <td>управление многоквартирным домом без лицензии</td>\n",
       "      <td>получен результат суда назначен штраф</td>\n",
       "      <td>2015-07-30</td>\n",
       "      <td>150000</td>\n",
       "    </tr>\n",
       "    <tr>\n",
       "      <th>12643</th>\n",
       "      <td>ООО «Лакистройтехно»</td>\n",
       "      <td>272865708</td>\n",
       "      <td>управление многоквартирным домом без лицензии</td>\n",
       "      <td>получен результат суда назначен штраф</td>\n",
       "      <td>2015-07-10</td>\n",
       "      <td>150000</td>\n",
       "    </tr>\n",
       "    <tr>\n",
       "      <th>12676</th>\n",
       "      <td>ООО «Артинжстрой»</td>\n",
       "      <td>282754014</td>\n",
       "      <td>нарушение правил управления многоквартирным домом</td>\n",
       "      <td>получен результат суда назначен штраф</td>\n",
       "      <td>2015-10-20</td>\n",
       "      <td>150000</td>\n",
       "    </tr>\n",
       "  </tbody>\n",
       "</table>\n",
       "</div>"
      ],
      "text/plain": [
       "                                                Violator  global_id  \\\n",
       "ID                                                                    \n",
       "14749  ОБЩЕСТВО С ОГРАНИЧЕННОЙ ОТВЕТСТВЕННОСТЬЮ «БАРК...  272823246   \n",
       "16605                                       ООО «ВЕКТОР»  272865705   \n",
       "15340  Общество с ограниченной ответственностью «ФМ-И...  272865707   \n",
       "12643                               ООО «Лакистройтехно»  272865708   \n",
       "12676                                  ООО «Артинжстрой»  282754014   \n",
       "\n",
       "                                         TypeOfViolation  \\\n",
       "ID                                                         \n",
       "14749      управление многоквартирным домом без лицензии   \n",
       "16605      управление многоквартирным домом без лицензии   \n",
       "15340      управление многоквартирным домом без лицензии   \n",
       "12643      управление многоквартирным домом без лицензии   \n",
       "12676  нарушение правил управления многоквартирным домом   \n",
       "\n",
       "                               TakenMeasures       Date AmountOfPenalty  \n",
       "ID                                                                       \n",
       "14749  получен результат суда назначен штраф 2015-06-08          150000  \n",
       "16605  получен результат суда назначен штраф 2015-06-05          150000  \n",
       "15340  получен результат суда назначен штраф 2015-07-30          150000  \n",
       "12643  получен результат суда назначен штраф 2015-07-10          150000  \n",
       "12676  получен результат суда назначен штраф 2015-10-20          150000  "
      ]
     },
     "execution_count": 45,
     "metadata": {},
     "output_type": "execute_result"
    }
   ],
   "source": [
    "df.head()"
   ]
  },
  {
   "cell_type": "markdown",
   "metadata": {},
   "source": [
    "#### Проверка наличия дубликатов:"
   ]
  },
  {
   "cell_type": "code",
   "execution_count": 46,
   "metadata": {},
   "outputs": [
    {
     "data": {
      "text/plain": [
       "True"
      ]
     },
     "execution_count": 46,
     "metadata": {},
     "output_type": "execute_result"
    }
   ],
   "source": [
    "df.drop_duplicates().shape[0] == df.shape[0]"
   ]
  },
  {
   "cell_type": "markdown",
   "metadata": {},
   "source": [
    "#### Вывод всех возможных нарушений"
   ]
  },
  {
   "cell_type": "code",
   "execution_count": 47,
   "metadata": {},
   "outputs": [
    {
     "data": {
      "text/plain": [
       "['управление многоквартирным домом без лицензии', 'нарушение правил управления многоквартирным д..., 'управление многоквартирным домом с нарушением..., 'невыполнение предписания об устранении наруше...]\n",
       "Categories (4, object): ['нарушение правил управления многоквартирным д..., 'невыполнение предписания об устранении наруше..., 'управление многоквартирным домом без лицензии', 'управление многоквартирным домом с нарушением...]"
      ]
     },
     "execution_count": 47,
     "metadata": {},
     "output_type": "execute_result"
    }
   ],
   "source": [
    "df[\"TypeOfViolation\"].unique()"
   ]
  },
  {
   "cell_type": "markdown",
   "metadata": {},
   "source": [
    "#### Вывод количество случаев по каждому типу нарушения"
   ]
  },
  {
   "cell_type": "code",
   "execution_count": 48,
   "metadata": {},
   "outputs": [
    {
     "data": {
      "text/plain": [
       "TypeOfViolation\n",
       "управление многоквартирным домом с нарушением лицензионных требований       2699\n",
       "невыполнение предписания об устранении нарушений лицензионных требований    2022\n",
       "нарушение правил управления многоквартирным домом                            349\n",
       "управление многоквартирным домом без лицензии                                 21\n",
       "Name: count, dtype: int64"
      ]
     },
     "execution_count": 48,
     "metadata": {},
     "output_type": "execute_result"
    }
   ],
   "source": [
    "df[\"TypeOfViolation\"].value_counts()"
   ]
  },
  {
   "cell_type": "markdown",
   "metadata": {},
   "source": [
    "## Упражнение № 2"
   ]
  },
  {
   "cell_type": "code",
   "execution_count": 49,
   "metadata": {},
   "outputs": [],
   "source": [
    "df = pd.read_csv(\n",
    "    \"https://raw.githubusercontent.com/rfordatascience/tidytuesday/master/data/2020/2020-02-18/food_consumption.csv\"\n",
    ")"
   ]
  },
  {
   "cell_type": "code",
   "execution_count": 50,
   "metadata": {},
   "outputs": [
    {
     "data": {
      "text/html": [
       "<div>\n",
       "<style scoped>\n",
       "    .dataframe tbody tr th:only-of-type {\n",
       "        vertical-align: middle;\n",
       "    }\n",
       "\n",
       "    .dataframe tbody tr th {\n",
       "        vertical-align: top;\n",
       "    }\n",
       "\n",
       "    .dataframe thead th {\n",
       "        text-align: right;\n",
       "    }\n",
       "</style>\n",
       "<table border=\"1\" class=\"dataframe\">\n",
       "  <thead>\n",
       "    <tr style=\"text-align: right;\">\n",
       "      <th></th>\n",
       "      <th>country</th>\n",
       "      <th>food_category</th>\n",
       "      <th>consumption</th>\n",
       "      <th>co2_emmission</th>\n",
       "    </tr>\n",
       "  </thead>\n",
       "  <tbody>\n",
       "    <tr>\n",
       "      <th>0</th>\n",
       "      <td>Argentina</td>\n",
       "      <td>Pork</td>\n",
       "      <td>10.51</td>\n",
       "      <td>37.20</td>\n",
       "    </tr>\n",
       "    <tr>\n",
       "      <th>1</th>\n",
       "      <td>Argentina</td>\n",
       "      <td>Poultry</td>\n",
       "      <td>38.66</td>\n",
       "      <td>41.53</td>\n",
       "    </tr>\n",
       "    <tr>\n",
       "      <th>2</th>\n",
       "      <td>Argentina</td>\n",
       "      <td>Beef</td>\n",
       "      <td>55.48</td>\n",
       "      <td>1712.00</td>\n",
       "    </tr>\n",
       "    <tr>\n",
       "      <th>3</th>\n",
       "      <td>Argentina</td>\n",
       "      <td>Lamb &amp; Goat</td>\n",
       "      <td>1.56</td>\n",
       "      <td>54.63</td>\n",
       "    </tr>\n",
       "    <tr>\n",
       "      <th>4</th>\n",
       "      <td>Argentina</td>\n",
       "      <td>Fish</td>\n",
       "      <td>4.36</td>\n",
       "      <td>6.96</td>\n",
       "    </tr>\n",
       "  </tbody>\n",
       "</table>\n",
       "</div>"
      ],
      "text/plain": [
       "     country food_category  consumption  co2_emmission\n",
       "0  Argentina          Pork        10.51          37.20\n",
       "1  Argentina       Poultry        38.66          41.53\n",
       "2  Argentina          Beef        55.48        1712.00\n",
       "3  Argentina   Lamb & Goat         1.56          54.63\n",
       "4  Argentina          Fish         4.36           6.96"
      ]
     },
     "execution_count": 50,
     "metadata": {},
     "output_type": "execute_result"
    }
   ],
   "source": [
    "df.head()"
   ]
  },
  {
   "cell_type": "code",
   "execution_count": 51,
   "metadata": {},
   "outputs": [
    {
     "name": "stdout",
     "output_type": "stream",
     "text": [
      "<class 'pandas.core.frame.DataFrame'>\n",
      "RangeIndex: 1430 entries, 0 to 1429\n",
      "Data columns (total 4 columns):\n",
      " #   Column         Non-Null Count  Dtype  \n",
      "---  ------         --------------  -----  \n",
      " 0   country        1430 non-null   object \n",
      " 1   food_category  1430 non-null   object \n",
      " 2   consumption    1430 non-null   float64\n",
      " 3   co2_emmission  1430 non-null   float64\n",
      "dtypes: float64(2), object(2)\n",
      "memory usage: 44.8+ KB\n"
     ]
    }
   ],
   "source": [
    "df.info()"
   ]
  },
  {
   "cell_type": "code",
   "execution_count": 52,
   "metadata": {},
   "outputs": [
    {
     "data": {
      "text/html": [
       "<div>\n",
       "<style scoped>\n",
       "    .dataframe tbody tr th:only-of-type {\n",
       "        vertical-align: middle;\n",
       "    }\n",
       "\n",
       "    .dataframe tbody tr th {\n",
       "        vertical-align: top;\n",
       "    }\n",
       "\n",
       "    .dataframe thead th {\n",
       "        text-align: right;\n",
       "    }\n",
       "</style>\n",
       "<table border=\"1\" class=\"dataframe\">\n",
       "  <thead>\n",
       "    <tr style=\"text-align: right;\">\n",
       "      <th></th>\n",
       "      <th>consumption</th>\n",
       "      <th>co2_emmission</th>\n",
       "    </tr>\n",
       "  </thead>\n",
       "  <tbody>\n",
       "    <tr>\n",
       "      <th>count</th>\n",
       "      <td>1430.000000</td>\n",
       "      <td>1430.000000</td>\n",
       "    </tr>\n",
       "    <tr>\n",
       "      <th>mean</th>\n",
       "      <td>28.110406</td>\n",
       "      <td>74.383993</td>\n",
       "    </tr>\n",
       "    <tr>\n",
       "      <th>std</th>\n",
       "      <td>49.818044</td>\n",
       "      <td>152.098566</td>\n",
       "    </tr>\n",
       "    <tr>\n",
       "      <th>min</th>\n",
       "      <td>0.000000</td>\n",
       "      <td>0.000000</td>\n",
       "    </tr>\n",
       "    <tr>\n",
       "      <th>25%</th>\n",
       "      <td>2.365000</td>\n",
       "      <td>5.210000</td>\n",
       "    </tr>\n",
       "    <tr>\n",
       "      <th>50%</th>\n",
       "      <td>8.890000</td>\n",
       "      <td>16.530000</td>\n",
       "    </tr>\n",
       "    <tr>\n",
       "      <th>75%</th>\n",
       "      <td>28.132500</td>\n",
       "      <td>62.597500</td>\n",
       "    </tr>\n",
       "    <tr>\n",
       "      <th>max</th>\n",
       "      <td>430.760000</td>\n",
       "      <td>1712.000000</td>\n",
       "    </tr>\n",
       "  </tbody>\n",
       "</table>\n",
       "</div>"
      ],
      "text/plain": [
       "       consumption  co2_emmission\n",
       "count  1430.000000    1430.000000\n",
       "mean     28.110406      74.383993\n",
       "std      49.818044     152.098566\n",
       "min       0.000000       0.000000\n",
       "25%       2.365000       5.210000\n",
       "50%       8.890000      16.530000\n",
       "75%      28.132500      62.597500\n",
       "max     430.760000    1712.000000"
      ]
     },
     "execution_count": 52,
     "metadata": {},
     "output_type": "execute_result"
    }
   ],
   "source": [
    "df.describe()"
   ]
  },
  {
   "cell_type": "code",
   "execution_count": 54,
   "metadata": {},
   "outputs": [
    {
     "data": {
      "text/plain": [
       "25.77"
      ]
     },
     "execution_count": 54,
     "metadata": {},
     "output_type": "execute_result"
    }
   ],
   "source": [
    "cons_iqr = round(df[\"consumption\"].quantile(0.75) - df[\"consumption\"].quantile(0.25), 2)\n",
    "cons_iqr"
   ]
  },
  {
   "cell_type": "code",
   "execution_count": 68,
   "metadata": {},
   "outputs": [
    {
     "data": {
      "image/png": "[encoded data removed]",
      "text/plain": [
       "<Figure size 640x480 with 1 Axes>"
      ]
     },
     "metadata": {},
     "output_type": "display_data"
    }
   ],
   "source": [
    "import matplotlib.pyplot as plt\n",
    "\n",
    "df.boxplot(column=\"consumption\")\n",
    "plt.show()"
   ]
  },
  {
   "cell_type": "code",
   "execution_count": 70,
   "metadata": {},
   "outputs": [
    {
     "data": {
      "text/html": [
       "<div>\n",
       "<style scoped>\n",
       "    .dataframe tbody tr th:only-of-type {\n",
       "        vertical-align: middle;\n",
       "    }\n",
       "\n",
       "    .dataframe tbody tr th {\n",
       "        vertical-align: top;\n",
       "    }\n",
       "\n",
       "    .dataframe thead th {\n",
       "        text-align: right;\n",
       "    }\n",
       "</style>\n",
       "<table border=\"1\" class=\"dataframe\">\n",
       "  <thead>\n",
       "    <tr style=\"text-align: right;\">\n",
       "      <th></th>\n",
       "      <th>country</th>\n",
       "      <th>food_category</th>\n",
       "      <th>consumption</th>\n",
       "      <th>co2_emmission</th>\n",
       "    </tr>\n",
       "  </thead>\n",
       "  <tbody>\n",
       "    <tr>\n",
       "      <th>149</th>\n",
       "      <td>Finland</td>\n",
       "      <td>Milk - inc. cheese</td>\n",
       "      <td>430.76</td>\n",
       "      <td>613.57</td>\n",
       "    </tr>\n",
       "    <tr>\n",
       "      <th>259</th>\n",
       "      <td>Netherlands</td>\n",
       "      <td>Milk - inc. cheese</td>\n",
       "      <td>341.47</td>\n",
       "      <td>486.39</td>\n",
       "    </tr>\n",
       "    <tr>\n",
       "      <th>116</th>\n",
       "      <td>Sweden</td>\n",
       "      <td>Milk - inc. cheese</td>\n",
       "      <td>341.23</td>\n",
       "      <td>486.05</td>\n",
       "    </tr>\n",
       "    <tr>\n",
       "      <th>248</th>\n",
       "      <td>Switzerland</td>\n",
       "      <td>Milk - inc. cheese</td>\n",
       "      <td>318.69</td>\n",
       "      <td>453.94</td>\n",
       "    </tr>\n",
       "    <tr>\n",
       "      <th>28</th>\n",
       "      <td>Albania</td>\n",
       "      <td>Milk - inc. cheese</td>\n",
       "      <td>303.72</td>\n",
       "      <td>432.62</td>\n",
       "    </tr>\n",
       "    <tr>\n",
       "      <th>...</th>\n",
       "      <td>...</td>\n",
       "      <td>...</td>\n",
       "      <td>...</td>\n",
       "      <td>...</td>\n",
       "    </tr>\n",
       "    <tr>\n",
       "      <th>680</th>\n",
       "      <td>Algeria</td>\n",
       "      <td>Soybeans</td>\n",
       "      <td>0.00</td>\n",
       "      <td>0.00</td>\n",
       "    </tr>\n",
       "    <tr>\n",
       "      <th>1395</th>\n",
       "      <td>Sri Lanka</td>\n",
       "      <td>Soybeans</td>\n",
       "      <td>0.00</td>\n",
       "      <td>0.00</td>\n",
       "    </tr>\n",
       "    <tr>\n",
       "      <th>658</th>\n",
       "      <td>Serbia</td>\n",
       "      <td>Soybeans</td>\n",
       "      <td>0.00</td>\n",
       "      <td>0.00</td>\n",
       "    </tr>\n",
       "    <tr>\n",
       "      <th>1208</th>\n",
       "      <td>Congo</td>\n",
       "      <td>Soybeans</td>\n",
       "      <td>0.00</td>\n",
       "      <td>0.00</td>\n",
       "    </tr>\n",
       "    <tr>\n",
       "      <th>1263</th>\n",
       "      <td>Guinea</td>\n",
       "      <td>Soybeans</td>\n",
       "      <td>0.00</td>\n",
       "      <td>0.00</td>\n",
       "    </tr>\n",
       "  </tbody>\n",
       "</table>\n",
       "<p>1430 rows × 4 columns</p>\n",
       "</div>"
      ],
      "text/plain": [
       "          country       food_category  consumption  co2_emmission\n",
       "149       Finland  Milk - inc. cheese       430.76         613.57\n",
       "259   Netherlands  Milk - inc. cheese       341.47         486.39\n",
       "116        Sweden  Milk - inc. cheese       341.23         486.05\n",
       "248   Switzerland  Milk - inc. cheese       318.69         453.94\n",
       "28        Albania  Milk - inc. cheese       303.72         432.62\n",
       "...           ...                 ...          ...            ...\n",
       "680       Algeria            Soybeans         0.00           0.00\n",
       "1395    Sri Lanka            Soybeans         0.00           0.00\n",
       "658        Serbia            Soybeans         0.00           0.00\n",
       "1208        Congo            Soybeans         0.00           0.00\n",
       "1263       Guinea            Soybeans         0.00           0.00\n",
       "\n",
       "[1430 rows x 4 columns]"
      ]
     },
     "execution_count": 70,
     "metadata": {},
     "output_type": "execute_result"
    }
   ],
   "source": [
    "df.sort_values(by=\"consumption\", ascending=False)"
   ]
  },
  {
   "cell_type": "code",
   "execution_count": 118,
   "metadata": {},
   "outputs": [
    {
     "data": {
      "text/html": [
       "<div>\n",
       "<style scoped>\n",
       "    .dataframe tbody tr th:only-of-type {\n",
       "        vertical-align: middle;\n",
       "    }\n",
       "\n",
       "    .dataframe tbody tr th {\n",
       "        vertical-align: top;\n",
       "    }\n",
       "\n",
       "    .dataframe thead th {\n",
       "        text-align: right;\n",
       "    }\n",
       "</style>\n",
       "<table border=\"1\" class=\"dataframe\">\n",
       "  <thead>\n",
       "    <tr style=\"text-align: right;\">\n",
       "      <th></th>\n",
       "      <th>food_category</th>\n",
       "      <th>consumption</th>\n",
       "    </tr>\n",
       "  </thead>\n",
       "  <tbody>\n",
       "    <tr>\n",
       "      <th>0</th>\n",
       "      <td>Beef</td>\n",
       "      <td>55.48</td>\n",
       "    </tr>\n",
       "    <tr>\n",
       "      <th>1</th>\n",
       "      <td>Eggs</td>\n",
       "      <td>19.15</td>\n",
       "    </tr>\n",
       "    <tr>\n",
       "      <th>2</th>\n",
       "      <td>Fish</td>\n",
       "      <td>179.71</td>\n",
       "    </tr>\n",
       "    <tr>\n",
       "      <th>3</th>\n",
       "      <td>Lamb &amp; Goat</td>\n",
       "      <td>21.12</td>\n",
       "    </tr>\n",
       "    <tr>\n",
       "      <th>4</th>\n",
       "      <td>Milk - inc. cheese</td>\n",
       "      <td>430.76</td>\n",
       "    </tr>\n",
       "    <tr>\n",
       "      <th>5</th>\n",
       "      <td>Nuts inc. Peanut Butter</td>\n",
       "      <td>23.03</td>\n",
       "    </tr>\n",
       "    <tr>\n",
       "      <th>6</th>\n",
       "      <td>Pork</td>\n",
       "      <td>67.11</td>\n",
       "    </tr>\n",
       "    <tr>\n",
       "      <th>7</th>\n",
       "      <td>Poultry</td>\n",
       "      <td>62.50</td>\n",
       "    </tr>\n",
       "    <tr>\n",
       "      <th>8</th>\n",
       "      <td>Rice</td>\n",
       "      <td>171.73</td>\n",
       "    </tr>\n",
       "    <tr>\n",
       "      <th>9</th>\n",
       "      <td>Soybeans</td>\n",
       "      <td>16.95</td>\n",
       "    </tr>\n",
       "    <tr>\n",
       "      <th>10</th>\n",
       "      <td>Wheat and Wheat Products</td>\n",
       "      <td>197.50</td>\n",
       "    </tr>\n",
       "  </tbody>\n",
       "</table>\n",
       "</div>"
      ],
      "text/plain": [
       "               food_category  consumption\n",
       "0                       Beef        55.48\n",
       "1                       Eggs        19.15\n",
       "2                       Fish       179.71\n",
       "3                Lamb & Goat        21.12\n",
       "4         Milk - inc. cheese       430.76\n",
       "5    Nuts inc. Peanut Butter        23.03\n",
       "6                       Pork        67.11\n",
       "7                    Poultry        62.50\n",
       "8                       Rice       171.73\n",
       "9                   Soybeans        16.95\n",
       "10  Wheat and Wheat Products       197.50"
      ]
     },
     "execution_count": 118,
     "metadata": {},
     "output_type": "execute_result"
    }
   ],
   "source": [
    "df.groupby(\"food_category\")[\"consumption\"].max().reset_index()"
   ]
  },
  {
   "cell_type": "code",
   "execution_count": 121,
   "metadata": {},
   "outputs": [
    {
     "data": {
      "text/html": [
       "<div>\n",
       "<style scoped>\n",
       "    .dataframe tbody tr th:only-of-type {\n",
       "        vertical-align: middle;\n",
       "    }\n",
       "\n",
       "    .dataframe tbody tr th {\n",
       "        vertical-align: top;\n",
       "    }\n",
       "\n",
       "    .dataframe thead th {\n",
       "        text-align: right;\n",
       "    }\n",
       "</style>\n",
       "<table border=\"1\" class=\"dataframe\">\n",
       "  <thead>\n",
       "    <tr style=\"text-align: right;\">\n",
       "      <th></th>\n",
       "      <th>food_category</th>\n",
       "      <th>consumption</th>\n",
       "      <th>country</th>\n",
       "    </tr>\n",
       "  </thead>\n",
       "  <tbody>\n",
       "    <tr>\n",
       "      <th>0</th>\n",
       "      <td>Beef</td>\n",
       "      <td>55.48</td>\n",
       "      <td>Argentina</td>\n",
       "    </tr>\n",
       "    <tr>\n",
       "      <th>1</th>\n",
       "      <td>Eggs</td>\n",
       "      <td>19.15</td>\n",
       "      <td>Japan</td>\n",
       "    </tr>\n",
       "    <tr>\n",
       "      <th>2</th>\n",
       "      <td>Fish</td>\n",
       "      <td>179.71</td>\n",
       "      <td>Maldives</td>\n",
       "    </tr>\n",
       "    <tr>\n",
       "      <th>3</th>\n",
       "      <td>Lamb &amp; Goat</td>\n",
       "      <td>21.12</td>\n",
       "      <td>Iceland</td>\n",
       "    </tr>\n",
       "    <tr>\n",
       "      <th>4</th>\n",
       "      <td>Milk - inc. cheese</td>\n",
       "      <td>430.76</td>\n",
       "      <td>Finland</td>\n",
       "    </tr>\n",
       "    <tr>\n",
       "      <th>5</th>\n",
       "      <td>Nuts inc. Peanut Butter</td>\n",
       "      <td>23.03</td>\n",
       "      <td>United Arab Emirates</td>\n",
       "    </tr>\n",
       "    <tr>\n",
       "      <th>6</th>\n",
       "      <td>Pork</td>\n",
       "      <td>67.11</td>\n",
       "      <td>Hong Kong SAR. China</td>\n",
       "    </tr>\n",
       "    <tr>\n",
       "      <th>7</th>\n",
       "      <td>Poultry</td>\n",
       "      <td>62.50</td>\n",
       "      <td>Israel</td>\n",
       "    </tr>\n",
       "    <tr>\n",
       "      <th>8</th>\n",
       "      <td>Rice</td>\n",
       "      <td>171.73</td>\n",
       "      <td>Bangladesh</td>\n",
       "    </tr>\n",
       "    <tr>\n",
       "      <th>9</th>\n",
       "      <td>Soybeans</td>\n",
       "      <td>16.95</td>\n",
       "      <td>Taiwan. ROC</td>\n",
       "    </tr>\n",
       "    <tr>\n",
       "      <th>10</th>\n",
       "      <td>Wheat and Wheat Products</td>\n",
       "      <td>197.50</td>\n",
       "      <td>Tunisia</td>\n",
       "    </tr>\n",
       "  </tbody>\n",
       "</table>\n",
       "</div>"
      ],
      "text/plain": [
       "               food_category  consumption               country\n",
       "0                       Beef        55.48             Argentina\n",
       "1                       Eggs        19.15                 Japan\n",
       "2                       Fish       179.71              Maldives\n",
       "3                Lamb & Goat        21.12               Iceland\n",
       "4         Milk - inc. cheese       430.76               Finland\n",
       "5    Nuts inc. Peanut Butter        23.03  United Arab Emirates\n",
       "6                       Pork        67.11  Hong Kong SAR. China\n",
       "7                    Poultry        62.50                Israel\n",
       "8                       Rice       171.73            Bangladesh\n",
       "9                   Soybeans        16.95           Taiwan. ROC\n",
       "10  Wheat and Wheat Products       197.50               Tunisia"
      ]
     },
     "execution_count": 121,
     "metadata": {},
     "output_type": "execute_result"
    }
   ],
   "source": [
    "df.groupby(\"food_category\")[\"consumption\"].max().reset_index().merge(\n",
    "    right=df[[\"consumption\", \"country\"]], on=\"consumption\"\n",
    ")"
   ]
  }
 ],
 "metadata": {
  "kernelspec": {
   "display_name": ".venv",
   "language": "python",
   "name": "python3"
  },
  "language_info": {
   "codemirror_mode": {
    "name": "ipython",
    "version": 3
   },
   "file_extension": ".py",
   "mimetype": "text/x-python",
   "name": "python",
   "nbconvert_exporter": "python",
   "pygments_lexer": "ipython3",
   "version": "3.10.12"
  }
 },
 "nbformat": 4,
 "nbformat_minor": 2
}
