{
 "cells": [
  {
   "cell_type": "markdown",
   "id": "f297fa3e",
   "metadata": {},
   "source": [
    "# Программирование на языке Python\n",
    "## Семинар 9. Pandas\n",
    "\n",
    "Данные взяты [отсюда](https://github.com/datasets/covid-19)."
   ]
  },
  {
   "cell_type": "code",
   "execution_count": 1,
   "id": "104e6513",
   "metadata": {},
   "outputs": [],
   "source": [
    "import pandas as pd\n",
    "import numpy as np"
   ]
  },
  {
   "cell_type": "markdown",
   "id": "a5e49a12",
   "metadata": {},
   "source": [
    "#### Задание 1\n",
    "Импортируйте и проведите первичное изучение данных (соответствующим типу каждой переменной)."
   ]
  },
  {
   "cell_type": "code",
   "execution_count": null,
   "id": "58719193-2574-49d7-9ddd-c1d4cf4f3c08",
   "metadata": {},
   "outputs": [],
   "source": [
    "# NOTES\n",
    "# 1 в переменной Province/State есть пропущенные значения\n",
    "# 2 Recovered имеет тип float, хотя должно бы int -> из-за пропущенных значений\n",
    "# 3 Date возможно следует перевести в datetime  +++++++++++\n",
    "# 4 следует поменять названия переменных  +++++++++++\n",
    "# 5 связаны ли пропущенные значения в двух колонках?"
   ]
  },
  {
   "cell_type": "code",
   "execution_count": 2,
   "id": "38b532a6",
   "metadata": {},
   "outputs": [
    {
     "data": {
      "text/html": [
       "<div>\n",
       "<style scoped>\n",
       "    .dataframe tbody tr th:only-of-type {\n",
       "        vertical-align: middle;\n",
       "    }\n",
       "\n",
       "    .dataframe tbody tr th {\n",
       "        vertical-align: top;\n",
       "    }\n",
       "\n",
       "    .dataframe thead th {\n",
       "        text-align: right;\n",
       "    }\n",
       "</style>\n",
       "<table border=\"1\" class=\"dataframe\">\n",
       "  <thead>\n",
       "    <tr style=\"text-align: right;\">\n",
       "      <th></th>\n",
       "      <th>Date</th>\n",
       "      <th>Country/Region</th>\n",
       "      <th>Province/State</th>\n",
       "      <th>Confirmed</th>\n",
       "      <th>Recovered</th>\n",
       "      <th>Deaths</th>\n",
       "    </tr>\n",
       "  </thead>\n",
       "  <tbody>\n",
       "    <tr>\n",
       "      <th>0</th>\n",
       "      <td>2020-01-22</td>\n",
       "      <td>Afghanistan</td>\n",
       "      <td>NaN</td>\n",
       "      <td>0</td>\n",
       "      <td>0.0</td>\n",
       "      <td>0</td>\n",
       "    </tr>\n",
       "    <tr>\n",
       "      <th>1</th>\n",
       "      <td>2020-01-23</td>\n",
       "      <td>Afghanistan</td>\n",
       "      <td>NaN</td>\n",
       "      <td>0</td>\n",
       "      <td>0.0</td>\n",
       "      <td>0</td>\n",
       "    </tr>\n",
       "    <tr>\n",
       "      <th>2</th>\n",
       "      <td>2020-01-24</td>\n",
       "      <td>Afghanistan</td>\n",
       "      <td>NaN</td>\n",
       "      <td>0</td>\n",
       "      <td>0.0</td>\n",
       "      <td>0</td>\n",
       "    </tr>\n",
       "    <tr>\n",
       "      <th>3</th>\n",
       "      <td>2020-01-25</td>\n",
       "      <td>Afghanistan</td>\n",
       "      <td>NaN</td>\n",
       "      <td>0</td>\n",
       "      <td>0.0</td>\n",
       "      <td>0</td>\n",
       "    </tr>\n",
       "    <tr>\n",
       "      <th>4</th>\n",
       "      <td>2020-01-26</td>\n",
       "      <td>Afghanistan</td>\n",
       "      <td>NaN</td>\n",
       "      <td>0</td>\n",
       "      <td>0.0</td>\n",
       "      <td>0</td>\n",
       "    </tr>\n",
       "  </tbody>\n",
       "</table>\n",
       "</div>"
      ],
      "text/plain": [
       "         Date Country/Region Province/State  Confirmed  Recovered  Deaths\n",
       "0  2020-01-22    Afghanistan            NaN          0        0.0       0\n",
       "1  2020-01-23    Afghanistan            NaN          0        0.0       0\n",
       "2  2020-01-24    Afghanistan            NaN          0        0.0       0\n",
       "3  2020-01-25    Afghanistan            NaN          0        0.0       0\n",
       "4  2020-01-26    Afghanistan            NaN          0        0.0       0"
      ]
     },
     "execution_count": 2,
     "metadata": {},
     "output_type": "execute_result"
    }
   ],
   "source": [
    "covid = pd.read_csv('time-series-19-covid-combined.csv')\n",
    "covid.head()"
   ]
  },
  {
   "cell_type": "code",
   "execution_count": 10,
   "id": "95d83d1e-b1ff-49db-ae94-c479d0569126",
   "metadata": {},
   "outputs": [
    {
     "data": {
      "text/html": [
       "<div>\n",
       "<style scoped>\n",
       "    .dataframe tbody tr th:only-of-type {\n",
       "        vertical-align: middle;\n",
       "    }\n",
       "\n",
       "    .dataframe tbody tr th {\n",
       "        vertical-align: top;\n",
       "    }\n",
       "\n",
       "    .dataframe thead th {\n",
       "        text-align: right;\n",
       "    }\n",
       "</style>\n",
       "<table border=\"1\" class=\"dataframe\">\n",
       "  <thead>\n",
       "    <tr style=\"text-align: right;\">\n",
       "      <th></th>\n",
       "      <th>Date</th>\n",
       "      <th>Country/Region</th>\n",
       "      <th>Province/State</th>\n",
       "      <th>Confirmed</th>\n",
       "      <th>Recovered</th>\n",
       "      <th>Deaths</th>\n",
       "    </tr>\n",
       "  </thead>\n",
       "  <tbody>\n",
       "    <tr>\n",
       "      <th>168034</th>\n",
       "      <td>2022-02-14</td>\n",
       "      <td>Norway</td>\n",
       "      <td>NaN</td>\n",
       "      <td>1049811</td>\n",
       "      <td>0.0</td>\n",
       "      <td>1513</td>\n",
       "    </tr>\n",
       "    <tr>\n",
       "      <th>135604</th>\n",
       "      <td>2020-06-18</td>\n",
       "      <td>Latvia</td>\n",
       "      <td>NaN</td>\n",
       "      <td>1108</td>\n",
       "      <td>903.0</td>\n",
       "      <td>30</td>\n",
       "    </tr>\n",
       "    <tr>\n",
       "      <th>40033</th>\n",
       "      <td>2020-03-11</td>\n",
       "      <td>Canada</td>\n",
       "      <td>Nunavut</td>\n",
       "      <td>0</td>\n",
       "      <td>NaN</td>\n",
       "      <td>0</td>\n",
       "    </tr>\n",
       "    <tr>\n",
       "      <th>210661</th>\n",
       "      <td>2020-06-03</td>\n",
       "      <td>Ukraine</td>\n",
       "      <td>NaN</td>\n",
       "      <td>25385</td>\n",
       "      <td>10838.0</td>\n",
       "      <td>742</td>\n",
       "    </tr>\n",
       "    <tr>\n",
       "      <th>193790</th>\n",
       "      <td>2021-02-23</td>\n",
       "      <td>South Sudan</td>\n",
       "      <td>NaN</td>\n",
       "      <td>7098</td>\n",
       "      <td>4014.0</td>\n",
       "      <td>87</td>\n",
       "    </tr>\n",
       "  </tbody>\n",
       "</table>\n",
       "</div>"
      ],
      "text/plain": [
       "              Date Country/Region Province/State  Confirmed  Recovered  Deaths\n",
       "168034  2022-02-14         Norway            NaN    1049811        0.0    1513\n",
       "135604  2020-06-18         Latvia            NaN       1108      903.0      30\n",
       "40033   2020-03-11         Canada        Nunavut          0        NaN       0\n",
       "210661  2020-06-03        Ukraine            NaN      25385    10838.0     742\n",
       "193790  2021-02-23    South Sudan            NaN       7098     4014.0      87"
      ]
     },
     "execution_count": 10,
     "metadata": {},
     "output_type": "execute_result"
    }
   ],
   "source": [
    "covid.sample(5)"
   ]
  },
  {
   "cell_type": "code",
   "execution_count": 6,
   "id": "0f0ff4fc-5d17-4ea6-b504-8ea9bd6a3b95",
   "metadata": {},
   "outputs": [
    {
     "name": "stdout",
     "output_type": "stream",
     "text": [
      "<class 'pandas.core.frame.DataFrame'>\n",
      "RangeIndex: 231744 entries, 0 to 231743\n",
      "Data columns (total 6 columns):\n",
      " #   Column          Non-Null Count   Dtype  \n",
      "---  ------          --------------   -----  \n",
      " 0   Date            231744 non-null  object \n",
      " 1   Country/Region  231744 non-null  object \n",
      " 2   Province/State  72624 non-null   object \n",
      " 3   Confirmed       231744 non-null  int64  \n",
      " 4   Recovered       218688 non-null  float64\n",
      " 5   Deaths          231744 non-null  int64  \n",
      "dtypes: float64(1), int64(2), object(3)\n",
      "memory usage: 10.6+ MB\n"
     ]
    }
   ],
   "source": [
    "covid.info()"
   ]
  },
  {
   "cell_type": "code",
   "execution_count": 3,
   "id": "7ddeca2a-dbe3-4dba-b709-1aec6d34d31f",
   "metadata": {},
   "outputs": [],
   "source": [
    "mapper = {\n",
    "    'old name': 'new name',\n",
    "}"
   ]
  },
  {
   "cell_type": "code",
   "execution_count": 3,
   "id": "8e3baa42-d722-493b-b9ab-600e703a302c",
   "metadata": {},
   "outputs": [],
   "source": [
    "# пункт 4, 3\n",
    "covid_renamed = covid.rename(columns=lambda name: name.lower().replace('/', '_'))\n",
    "covid_renamed['date_dt'] = pd.to_datetime(covid_renamed['date'], format='%Y-%m-%d')"
   ]
  },
  {
   "cell_type": "code",
   "execution_count": 15,
   "id": "54ff2212-b574-455d-bfa1-e05fdbd6e7db",
   "metadata": {},
   "outputs": [
    {
     "data": {
      "text/html": [
       "<div>\n",
       "<style scoped>\n",
       "    .dataframe tbody tr th:only-of-type {\n",
       "        vertical-align: middle;\n",
       "    }\n",
       "\n",
       "    .dataframe tbody tr th {\n",
       "        vertical-align: top;\n",
       "    }\n",
       "\n",
       "    .dataframe thead th {\n",
       "        text-align: right;\n",
       "    }\n",
       "</style>\n",
       "<table border=\"1\" class=\"dataframe\">\n",
       "  <thead>\n",
       "    <tr style=\"text-align: right;\">\n",
       "      <th></th>\n",
       "      <th>date</th>\n",
       "      <th>country_region</th>\n",
       "      <th>province_state</th>\n",
       "      <th>confirmed</th>\n",
       "      <th>recovered</th>\n",
       "      <th>deaths</th>\n",
       "    </tr>\n",
       "  </thead>\n",
       "  <tbody>\n",
       "    <tr>\n",
       "      <th>0</th>\n",
       "      <td>2020-01-22</td>\n",
       "      <td>Afghanistan</td>\n",
       "      <td>NaN</td>\n",
       "      <td>0</td>\n",
       "      <td>0.0</td>\n",
       "      <td>0</td>\n",
       "    </tr>\n",
       "    <tr>\n",
       "      <th>1</th>\n",
       "      <td>2020-01-23</td>\n",
       "      <td>Afghanistan</td>\n",
       "      <td>NaN</td>\n",
       "      <td>0</td>\n",
       "      <td>0.0</td>\n",
       "      <td>0</td>\n",
       "    </tr>\n",
       "    <tr>\n",
       "      <th>2</th>\n",
       "      <td>2020-01-24</td>\n",
       "      <td>Afghanistan</td>\n",
       "      <td>NaN</td>\n",
       "      <td>0</td>\n",
       "      <td>0.0</td>\n",
       "      <td>0</td>\n",
       "    </tr>\n",
       "    <tr>\n",
       "      <th>3</th>\n",
       "      <td>2020-01-25</td>\n",
       "      <td>Afghanistan</td>\n",
       "      <td>NaN</td>\n",
       "      <td>0</td>\n",
       "      <td>0.0</td>\n",
       "      <td>0</td>\n",
       "    </tr>\n",
       "    <tr>\n",
       "      <th>4</th>\n",
       "      <td>2020-01-26</td>\n",
       "      <td>Afghanistan</td>\n",
       "      <td>NaN</td>\n",
       "      <td>0</td>\n",
       "      <td>0.0</td>\n",
       "      <td>0</td>\n",
       "    </tr>\n",
       "  </tbody>\n",
       "</table>\n",
       "</div>"
      ],
      "text/plain": [
       "         date country_region province_state  confirmed  recovered  deaths\n",
       "0  2020-01-22    Afghanistan            NaN          0        0.0       0\n",
       "1  2020-01-23    Afghanistan            NaN          0        0.0       0\n",
       "2  2020-01-24    Afghanistan            NaN          0        0.0       0\n",
       "3  2020-01-25    Afghanistan            NaN          0        0.0       0\n",
       "4  2020-01-26    Afghanistan            NaN          0        0.0       0"
      ]
     },
     "execution_count": 15,
     "metadata": {},
     "output_type": "execute_result"
    }
   ],
   "source": [
    "covid_renamed.head()"
   ]
  },
  {
   "cell_type": "code",
   "execution_count": 20,
   "id": "2f57bcab-d0b9-4fcb-9e29-b4f5dd888400",
   "metadata": {},
   "outputs": [
    {
     "data": {
      "text/plain": [
       "nan"
      ]
     },
     "execution_count": 20,
     "metadata": {},
     "output_type": "execute_result"
    }
   ],
   "source": [
    "np.array([np.nan, 1, 2, 3]).mean()"
   ]
  },
  {
   "cell_type": "code",
   "execution_count": 16,
   "id": "5cb32f30-c13a-4815-a3f6-1ac68b651aec",
   "metadata": {},
   "outputs": [
    {
     "data": {
      "text/plain": [
       "0        2020-01-22\n",
       "1        2020-01-23\n",
       "2        2020-01-24\n",
       "3        2020-01-25\n",
       "4        2020-01-26\n",
       "            ...    \n",
       "231739   2022-04-12\n",
       "231740   2022-04-13\n",
       "231741   2022-04-14\n",
       "231742   2022-04-15\n",
       "231743   2022-04-16\n",
       "Name: date, Length: 231744, dtype: datetime64[ns]"
      ]
     },
     "execution_count": 16,
     "metadata": {},
     "output_type": "execute_result"
    }
   ],
   "source": [
    "pd.to_datetime(covid_renamed['date'], format='%Y-%m-%d')"
   ]
  },
  {
   "cell_type": "code",
   "execution_count": 18,
   "id": "1ecea592-3143-4953-9e5e-baa5f0b481fe",
   "metadata": {},
   "outputs": [],
   "source": [
    "from datetime import datetime"
   ]
  },
  {
   "cell_type": "code",
   "execution_count": 19,
   "id": "e7d1aec7-2c67-4419-940f-00e84bfcbc53",
   "metadata": {},
   "outputs": [
    {
     "data": {
      "text/plain": [
       "datetime.datetime(2022, 4, 12, 0, 0)"
      ]
     },
     "execution_count": 19,
     "metadata": {},
     "output_type": "execute_result"
    }
   ],
   "source": [
    "datetime.strptime('2022-04-12', '%Y-%m-%d')"
   ]
  },
  {
   "cell_type": "markdown",
   "id": "21c1d4ab",
   "metadata": {},
   "source": [
    "#### Задание 2\n",
    "- переименуйте переменные, приведя их к более \"стандартному\" и удобному виду;\n",
    "- проверьте данные на корректность: одинаково ли представлена история для всех стран? Есть ли пропущенные значения? Сколько их? По какому принципу они пропущены? Если ответ на эти вопросы вскроет какие-либо несоответствия в данных, предложите причины и варианты решения несоответствий;\n",
    "- для всех ли стран представлены одни и те же даты? Отсортируйте датасет по стране и дате, чтобы последовательность была строго упорядочена во времени."
   ]
  },
  {
   "cell_type": "code",
   "execution_count": null,
   "id": "48c3f9f4-b455-4f93-a589-9a85c240d295",
   "metadata": {},
   "outputs": [],
   "source": [
    "# NOTES\n",
    "# +++++++++++\n",
    "# 1 в переменной Province/State есть пропущенные значения -> по некоторым странам есть данные в разрезе регионов -> агрегировать их значения\n",
    "# +++++++++++\n",
    "# 2 Recovered имеет тип float, хотя должно бы int -> из-за пропущенных значений  +++++++++++\n",
    "# 3 Date возможно следует перевести в datetime  +++++++++++\n",
    "# 4 следует поменять названия переменных  +++++++++++\n",
    "# 5 связаны ли пропущенные значения в двух колонках? -> скорее всего нет, т. к. нет ни одного случая, когда и там и там NaN   +++++++++++\n",
    "# 6 необходимо проверить, что сортировка по дате правильная  +++++++++++\n",
    "\n",
    "# 7 агрегировать значения всех переменных по тем странам, где есть данные по регионам"
   ]
  },
  {
   "cell_type": "code",
   "execution_count": 43,
   "id": "00d93e1b-22dc-482c-b2c9-3edfc8ee80f3",
   "metadata": {},
   "outputs": [
    {
     "data": {
      "text/html": [
       "<div>\n",
       "<style scoped>\n",
       "    .dataframe tbody tr th:only-of-type {\n",
       "        vertical-align: middle;\n",
       "    }\n",
       "\n",
       "    .dataframe tbody tr th {\n",
       "        vertical-align: top;\n",
       "    }\n",
       "\n",
       "    .dataframe thead th {\n",
       "        text-align: right;\n",
       "    }\n",
       "</style>\n",
       "<table border=\"1\" class=\"dataframe\">\n",
       "  <thead>\n",
       "    <tr style=\"text-align: right;\">\n",
       "      <th></th>\n",
       "      <th>date</th>\n",
       "      <th>country_region</th>\n",
       "      <th>province_state</th>\n",
       "      <th>confirmed</th>\n",
       "      <th>recovered</th>\n",
       "      <th>deaths</th>\n",
       "      <th>date_dt</th>\n",
       "    </tr>\n",
       "  </thead>\n",
       "  <tbody>\n",
       "    <tr>\n",
       "      <th>7344</th>\n",
       "      <td>2020-01-22</td>\n",
       "      <td>Australia</td>\n",
       "      <td>Australian Capital Territory</td>\n",
       "      <td>0</td>\n",
       "      <td>0.0</td>\n",
       "      <td>0</td>\n",
       "      <td>2020-01-22</td>\n",
       "    </tr>\n",
       "    <tr>\n",
       "      <th>7345</th>\n",
       "      <td>2020-01-23</td>\n",
       "      <td>Australia</td>\n",
       "      <td>Australian Capital Territory</td>\n",
       "      <td>0</td>\n",
       "      <td>0.0</td>\n",
       "      <td>0</td>\n",
       "      <td>2020-01-23</td>\n",
       "    </tr>\n",
       "    <tr>\n",
       "      <th>7346</th>\n",
       "      <td>2020-01-24</td>\n",
       "      <td>Australia</td>\n",
       "      <td>Australian Capital Territory</td>\n",
       "      <td>0</td>\n",
       "      <td>0.0</td>\n",
       "      <td>0</td>\n",
       "      <td>2020-01-24</td>\n",
       "    </tr>\n",
       "    <tr>\n",
       "      <th>7347</th>\n",
       "      <td>2020-01-25</td>\n",
       "      <td>Australia</td>\n",
       "      <td>Australian Capital Territory</td>\n",
       "      <td>0</td>\n",
       "      <td>0.0</td>\n",
       "      <td>0</td>\n",
       "      <td>2020-01-25</td>\n",
       "    </tr>\n",
       "    <tr>\n",
       "      <th>7348</th>\n",
       "      <td>2020-01-26</td>\n",
       "      <td>Australia</td>\n",
       "      <td>Australian Capital Territory</td>\n",
       "      <td>0</td>\n",
       "      <td>0.0</td>\n",
       "      <td>0</td>\n",
       "      <td>2020-01-26</td>\n",
       "    </tr>\n",
       "    <tr>\n",
       "      <th>...</th>\n",
       "      <td>...</td>\n",
       "      <td>...</td>\n",
       "      <td>...</td>\n",
       "      <td>...</td>\n",
       "      <td>...</td>\n",
       "      <td>...</td>\n",
       "      <td>...</td>\n",
       "    </tr>\n",
       "    <tr>\n",
       "      <th>222763</th>\n",
       "      <td>2022-04-12</td>\n",
       "      <td>United Kingdom</td>\n",
       "      <td>Turks and Caicos Islands</td>\n",
       "      <td>5923</td>\n",
       "      <td>0.0</td>\n",
       "      <td>36</td>\n",
       "      <td>2022-04-12</td>\n",
       "    </tr>\n",
       "    <tr>\n",
       "      <th>222764</th>\n",
       "      <td>2022-04-13</td>\n",
       "      <td>United Kingdom</td>\n",
       "      <td>Turks and Caicos Islands</td>\n",
       "      <td>5936</td>\n",
       "      <td>0.0</td>\n",
       "      <td>36</td>\n",
       "      <td>2022-04-13</td>\n",
       "    </tr>\n",
       "    <tr>\n",
       "      <th>222765</th>\n",
       "      <td>2022-04-14</td>\n",
       "      <td>United Kingdom</td>\n",
       "      <td>Turks and Caicos Islands</td>\n",
       "      <td>5936</td>\n",
       "      <td>0.0</td>\n",
       "      <td>36</td>\n",
       "      <td>2022-04-14</td>\n",
       "    </tr>\n",
       "    <tr>\n",
       "      <th>222766</th>\n",
       "      <td>2022-04-15</td>\n",
       "      <td>United Kingdom</td>\n",
       "      <td>Turks and Caicos Islands</td>\n",
       "      <td>5936</td>\n",
       "      <td>0.0</td>\n",
       "      <td>36</td>\n",
       "      <td>2022-04-15</td>\n",
       "    </tr>\n",
       "    <tr>\n",
       "      <th>222767</th>\n",
       "      <td>2022-04-16</td>\n",
       "      <td>United Kingdom</td>\n",
       "      <td>Turks and Caicos Islands</td>\n",
       "      <td>5936</td>\n",
       "      <td>0.0</td>\n",
       "      <td>36</td>\n",
       "      <td>2022-04-16</td>\n",
       "    </tr>\n",
       "  </tbody>\n",
       "</table>\n",
       "<p>72624 rows × 7 columns</p>\n",
       "</div>"
      ],
      "text/plain": [
       "              date  country_region                province_state  confirmed  \\\n",
       "7344    2020-01-22       Australia  Australian Capital Territory          0   \n",
       "7345    2020-01-23       Australia  Australian Capital Territory          0   \n",
       "7346    2020-01-24       Australia  Australian Capital Territory          0   \n",
       "7347    2020-01-25       Australia  Australian Capital Territory          0   \n",
       "7348    2020-01-26       Australia  Australian Capital Territory          0   \n",
       "...            ...             ...                           ...        ...   \n",
       "222763  2022-04-12  United Kingdom      Turks and Caicos Islands       5923   \n",
       "222764  2022-04-13  United Kingdom      Turks and Caicos Islands       5936   \n",
       "222765  2022-04-14  United Kingdom      Turks and Caicos Islands       5936   \n",
       "222766  2022-04-15  United Kingdom      Turks and Caicos Islands       5936   \n",
       "222767  2022-04-16  United Kingdom      Turks and Caicos Islands       5936   \n",
       "\n",
       "        recovered  deaths    date_dt  \n",
       "7344          0.0       0 2020-01-22  \n",
       "7345          0.0       0 2020-01-23  \n",
       "7346          0.0       0 2020-01-24  \n",
       "7347          0.0       0 2020-01-25  \n",
       "7348          0.0       0 2020-01-26  \n",
       "...           ...     ...        ...  \n",
       "222763        0.0      36 2022-04-12  \n",
       "222764        0.0      36 2022-04-13  \n",
       "222765        0.0      36 2022-04-14  \n",
       "222766        0.0      36 2022-04-15  \n",
       "222767        0.0      36 2022-04-16  \n",
       "\n",
       "[72624 rows x 7 columns]"
      ]
     },
     "execution_count": 43,
     "metadata": {},
     "output_type": "execute_result"
    }
   ],
   "source": [
    "# пункт 1\n",
    "covid_renamed[covid_renamed['province_state'].notna()]"
   ]
  },
  {
   "cell_type": "code",
   "execution_count": 4,
   "id": "fdbb4e7d-7a7b-4ae4-a41a-78623eb58d92",
   "metadata": {},
   "outputs": [
    {
     "data": {
      "text/plain": [
       "country_region\n",
       "China             27744\n",
       "Canada            13056\n",
       "United Kingdom    11424\n",
       "France             9792\n",
       "Australia          6528\n",
       "                  ...  \n",
       "Guinea              816\n",
       "Guinea-Bissau       816\n",
       "Guyana              816\n",
       "Haiti               816\n",
       "Zimbabwe            816\n",
       "Name: count, Length: 198, dtype: int64"
      ]
     },
     "execution_count": 4,
     "metadata": {},
     "output_type": "execute_result"
    }
   ],
   "source": [
    "# пункт 1 - продолжение: насколько много стран с данными в разрезе регионов\n",
    "vc_countries = covid_renamed['country_region'].value_counts()\n",
    "vc_countries"
   ]
  },
  {
   "cell_type": "code",
   "execution_count": 48,
   "id": "2dc54348-5825-48cb-8ec8-4e7a786db6ff",
   "metadata": {},
   "outputs": [
    {
     "data": {
      "text/plain": [
       "count\n",
       "816      190\n",
       "27744      1\n",
       "13056      1\n",
       "11424      1\n",
       "9792       1\n",
       "6528       1\n",
       "4080       1\n",
       "2448       1\n",
       "1632       1\n",
       "Name: count, dtype: int64"
      ]
     },
     "execution_count": 48,
     "metadata": {},
     "output_type": "execute_result"
    }
   ],
   "source": [
    "vc_countries.value_counts()"
   ]
  },
  {
   "cell_type": "code",
   "execution_count": 5,
   "id": "552b66a5-1c34-4863-a09b-1c01e9e0d7a6",
   "metadata": {},
   "outputs": [],
   "source": [
    "# возьмем все страны, для которых count != 816\n",
    "unusual_countries = vc_countries.index[vc_countries.values != 816]"
   ]
  },
  {
   "cell_type": "code",
   "execution_count": 54,
   "id": "ebf96fb4-28e4-4749-96b8-1ccdc32566ac",
   "metadata": {},
   "outputs": [
    {
     "data": {
      "text/plain": [
       "False"
      ]
     },
     "execution_count": 54,
     "metadata": {},
     "output_type": "execute_result"
    }
   ],
   "source": [
    "# Python -> pandas\n",
    "# and    -> &\n",
    "# or     -> |\n",
    "# not    -> ~\n",
    "# in     -> .isin()\n",
    "\n",
    "# пункт 5: province_state и recovered\n",
    "(covid_renamed['province_state'].isna() & covid_renamed['recovered'].isna()).any()"
   ]
  },
  {
   "cell_type": "code",
   "execution_count": 55,
   "id": "bdb9696d-40a6-4ff3-a3bc-644f2812e43d",
   "metadata": {},
   "outputs": [
    {
     "data": {
      "text/plain": [
       "0"
      ]
     },
     "execution_count": 55,
     "metadata": {},
     "output_type": "execute_result"
    }
   ],
   "source": [
    "(covid_renamed['province_state'].isna() & covid_renamed['recovered'].isna()).sum()"
   ]
  },
  {
   "cell_type": "code",
   "execution_count": 56,
   "id": "88ce73c2-f3d3-4e68-b238-1b6c3ca965c8",
   "metadata": {},
   "outputs": [
    {
     "data": {
      "text/plain": [
       "False    231744\n",
       "Name: count, dtype: int64"
      ]
     },
     "execution_count": 56,
     "metadata": {},
     "output_type": "execute_result"
    }
   ],
   "source": [
    "(covid_renamed['province_state'].isna() & covid_renamed['recovered'].isna()).value_counts()"
   ]
  },
  {
   "cell_type": "code",
   "execution_count": 58,
   "id": "0b72c786-eb42-4451-8b88-a7644b39c063",
   "metadata": {},
   "outputs": [
    {
     "data": {
      "text/html": [
       "<div>\n",
       "<style scoped>\n",
       "    .dataframe tbody tr th:only-of-type {\n",
       "        vertical-align: middle;\n",
       "    }\n",
       "\n",
       "    .dataframe tbody tr th {\n",
       "        vertical-align: top;\n",
       "    }\n",
       "\n",
       "    .dataframe thead th {\n",
       "        text-align: right;\n",
       "    }\n",
       "</style>\n",
       "<table border=\"1\" class=\"dataframe\">\n",
       "  <thead>\n",
       "    <tr style=\"text-align: right;\">\n",
       "      <th></th>\n",
       "      <th>date</th>\n",
       "      <th>country_region</th>\n",
       "      <th>province_state</th>\n",
       "      <th>confirmed</th>\n",
       "      <th>recovered</th>\n",
       "      <th>deaths</th>\n",
       "      <th>date_dt</th>\n",
       "    </tr>\n",
       "  </thead>\n",
       "  <tbody>\n",
       "    <tr>\n",
       "      <th>0</th>\n",
       "      <td>2020-01-22</td>\n",
       "      <td>Afghanistan</td>\n",
       "      <td>NaN</td>\n",
       "      <td>0</td>\n",
       "      <td>0.0</td>\n",
       "      <td>0</td>\n",
       "      <td>2020-01-22</td>\n",
       "    </tr>\n",
       "    <tr>\n",
       "      <th>1</th>\n",
       "      <td>2020-01-23</td>\n",
       "      <td>Afghanistan</td>\n",
       "      <td>NaN</td>\n",
       "      <td>0</td>\n",
       "      <td>0.0</td>\n",
       "      <td>0</td>\n",
       "      <td>2020-01-23</td>\n",
       "    </tr>\n",
       "    <tr>\n",
       "      <th>2</th>\n",
       "      <td>2020-01-24</td>\n",
       "      <td>Afghanistan</td>\n",
       "      <td>NaN</td>\n",
       "      <td>0</td>\n",
       "      <td>0.0</td>\n",
       "      <td>0</td>\n",
       "      <td>2020-01-24</td>\n",
       "    </tr>\n",
       "    <tr>\n",
       "      <th>3</th>\n",
       "      <td>2020-01-25</td>\n",
       "      <td>Afghanistan</td>\n",
       "      <td>NaN</td>\n",
       "      <td>0</td>\n",
       "      <td>0.0</td>\n",
       "      <td>0</td>\n",
       "      <td>2020-01-25</td>\n",
       "    </tr>\n",
       "    <tr>\n",
       "      <th>4</th>\n",
       "      <td>2020-01-26</td>\n",
       "      <td>Afghanistan</td>\n",
       "      <td>NaN</td>\n",
       "      <td>0</td>\n",
       "      <td>0.0</td>\n",
       "      <td>0</td>\n",
       "      <td>2020-01-26</td>\n",
       "    </tr>\n",
       "  </tbody>\n",
       "</table>\n",
       "</div>"
      ],
      "text/plain": [
       "         date country_region province_state  confirmed  recovered  deaths  \\\n",
       "0  2020-01-22    Afghanistan            NaN          0        0.0       0   \n",
       "1  2020-01-23    Afghanistan            NaN          0        0.0       0   \n",
       "2  2020-01-24    Afghanistan            NaN          0        0.0       0   \n",
       "3  2020-01-25    Afghanistan            NaN          0        0.0       0   \n",
       "4  2020-01-26    Afghanistan            NaN          0        0.0       0   \n",
       "\n",
       "     date_dt  \n",
       "0 2020-01-22  \n",
       "1 2020-01-23  \n",
       "2 2020-01-24  \n",
       "3 2020-01-25  \n",
       "4 2020-01-26  "
      ]
     },
     "execution_count": 58,
     "metadata": {},
     "output_type": "execute_result"
    }
   ],
   "source": [
    "covid_renamed.head()"
   ]
  },
  {
   "cell_type": "code",
   "execution_count": 8,
   "id": "89f51379-e6e0-4acb-9a3f-78c131106d31",
   "metadata": {},
   "outputs": [],
   "source": [
    "# пункт 6\n",
    "covid_sorted = covid_renamed.sort_values(['country_region', 'date'])"
   ]
  },
  {
   "cell_type": "markdown",
   "id": "54bfa9b4-46b7-47c7-961b-40bcc0db56b8",
   "metadata": {},
   "source": [
    "**Немного про взятие срезов**"
   ]
  },
  {
   "cell_type": "code",
   "execution_count": 26,
   "id": "d16c9e3b-0947-4e19-a0aa-156865963d43",
   "metadata": {},
   "outputs": [
    {
     "data": {
      "text/html": [
       "<div>\n",
       "<style scoped>\n",
       "    .dataframe tbody tr th:only-of-type {\n",
       "        vertical-align: middle;\n",
       "    }\n",
       "\n",
       "    .dataframe tbody tr th {\n",
       "        vertical-align: top;\n",
       "    }\n",
       "\n",
       "    .dataframe thead th {\n",
       "        text-align: right;\n",
       "    }\n",
       "</style>\n",
       "<table border=\"1\" class=\"dataframe\">\n",
       "  <thead>\n",
       "    <tr style=\"text-align: right;\">\n",
       "      <th></th>\n",
       "      <th>date</th>\n",
       "      <th>country_region</th>\n",
       "      <th>province_state</th>\n",
       "      <th>confirmed</th>\n",
       "      <th>recovered</th>\n",
       "      <th>deaths</th>\n",
       "      <th>date_dt</th>\n",
       "    </tr>\n",
       "  </thead>\n",
       "  <tbody>\n",
       "    <tr>\n",
       "      <th>0</th>\n",
       "      <td>2020-01-22</td>\n",
       "      <td>Afghanistan</td>\n",
       "      <td>NaN</td>\n",
       "      <td>0</td>\n",
       "      <td>0.0</td>\n",
       "      <td>0</td>\n",
       "      <td>2020-01-22</td>\n",
       "    </tr>\n",
       "    <tr>\n",
       "      <th>1</th>\n",
       "      <td>2020-01-23</td>\n",
       "      <td>Afghanistan</td>\n",
       "      <td>NaN</td>\n",
       "      <td>0</td>\n",
       "      <td>0.0</td>\n",
       "      <td>0</td>\n",
       "      <td>2020-01-23</td>\n",
       "    </tr>\n",
       "    <tr>\n",
       "      <th>2</th>\n",
       "      <td>2020-01-24</td>\n",
       "      <td>Afghanistan</td>\n",
       "      <td>NaN</td>\n",
       "      <td>0</td>\n",
       "      <td>0.0</td>\n",
       "      <td>0</td>\n",
       "      <td>2020-01-24</td>\n",
       "    </tr>\n",
       "    <tr>\n",
       "      <th>3</th>\n",
       "      <td>2020-01-25</td>\n",
       "      <td>Afghanistan</td>\n",
       "      <td>NaN</td>\n",
       "      <td>0</td>\n",
       "      <td>0.0</td>\n",
       "      <td>0</td>\n",
       "      <td>2020-01-25</td>\n",
       "    </tr>\n",
       "    <tr>\n",
       "      <th>4</th>\n",
       "      <td>2020-01-26</td>\n",
       "      <td>Afghanistan</td>\n",
       "      <td>NaN</td>\n",
       "      <td>0</td>\n",
       "      <td>0.0</td>\n",
       "      <td>0</td>\n",
       "      <td>2020-01-26</td>\n",
       "    </tr>\n",
       "  </tbody>\n",
       "</table>\n",
       "</div>"
      ],
      "text/plain": [
       "         date country_region province_state  confirmed  recovered  deaths  \\\n",
       "0  2020-01-22    Afghanistan            NaN          0        0.0       0   \n",
       "1  2020-01-23    Afghanistan            NaN          0        0.0       0   \n",
       "2  2020-01-24    Afghanistan            NaN          0        0.0       0   \n",
       "3  2020-01-25    Afghanistan            NaN          0        0.0       0   \n",
       "4  2020-01-26    Afghanistan            NaN          0        0.0       0   \n",
       "\n",
       "     date_dt  \n",
       "0 2020-01-22  \n",
       "1 2020-01-23  \n",
       "2 2020-01-24  \n",
       "3 2020-01-25  \n",
       "4 2020-01-26  "
      ]
     },
     "execution_count": 26,
     "metadata": {},
     "output_type": "execute_result"
    }
   ],
   "source": [
    "covid_renamed.head()"
   ]
  },
  {
   "cell_type": "markdown",
   "id": "f9a060bf-167a-4120-bac4-d6017ee7c288",
   "metadata": {},
   "source": [
    "`[]`"
   ]
  },
  {
   "cell_type": "code",
   "execution_count": 27,
   "id": "e87cdb8f-2cc1-4381-9e2c-1de6deacae50",
   "metadata": {},
   "outputs": [
    {
     "data": {
      "text/plain": [
       "0         0.0\n",
       "1         0.0\n",
       "2         0.0\n",
       "3         0.0\n",
       "4         0.0\n",
       "         ... \n",
       "231739    0.0\n",
       "231740    0.0\n",
       "231741    0.0\n",
       "231742    0.0\n",
       "231743    0.0\n",
       "Name: recovered, Length: 231744, dtype: float64"
      ]
     },
     "execution_count": 27,
     "metadata": {},
     "output_type": "execute_result"
    }
   ],
   "source": [
    "# брать колонки\n",
    "covid_renamed['recovered']"
   ]
  },
  {
   "cell_type": "code",
   "execution_count": 28,
   "id": "a13e4f22-24a4-45b6-a684-2ca1df7e81d8",
   "metadata": {
    "scrolled": true
   },
   "outputs": [
    {
     "data": {
      "text/html": [
       "<div>\n",
       "<style scoped>\n",
       "    .dataframe tbody tr th:only-of-type {\n",
       "        vertical-align: middle;\n",
       "    }\n",
       "\n",
       "    .dataframe tbody tr th {\n",
       "        vertical-align: top;\n",
       "    }\n",
       "\n",
       "    .dataframe thead th {\n",
       "        text-align: right;\n",
       "    }\n",
       "</style>\n",
       "<table border=\"1\" class=\"dataframe\">\n",
       "  <thead>\n",
       "    <tr style=\"text-align: right;\">\n",
       "      <th></th>\n",
       "      <th>recovered</th>\n",
       "      <th>deaths</th>\n",
       "    </tr>\n",
       "  </thead>\n",
       "  <tbody>\n",
       "    <tr>\n",
       "      <th>0</th>\n",
       "      <td>0.0</td>\n",
       "      <td>0</td>\n",
       "    </tr>\n",
       "    <tr>\n",
       "      <th>1</th>\n",
       "      <td>0.0</td>\n",
       "      <td>0</td>\n",
       "    </tr>\n",
       "    <tr>\n",
       "      <th>2</th>\n",
       "      <td>0.0</td>\n",
       "      <td>0</td>\n",
       "    </tr>\n",
       "    <tr>\n",
       "      <th>3</th>\n",
       "      <td>0.0</td>\n",
       "      <td>0</td>\n",
       "    </tr>\n",
       "    <tr>\n",
       "      <th>4</th>\n",
       "      <td>0.0</td>\n",
       "      <td>0</td>\n",
       "    </tr>\n",
       "    <tr>\n",
       "      <th>...</th>\n",
       "      <td>...</td>\n",
       "      <td>...</td>\n",
       "    </tr>\n",
       "    <tr>\n",
       "      <th>231739</th>\n",
       "      <td>0.0</td>\n",
       "      <td>5460</td>\n",
       "    </tr>\n",
       "    <tr>\n",
       "      <th>231740</th>\n",
       "      <td>0.0</td>\n",
       "      <td>5460</td>\n",
       "    </tr>\n",
       "    <tr>\n",
       "      <th>231741</th>\n",
       "      <td>0.0</td>\n",
       "      <td>5462</td>\n",
       "    </tr>\n",
       "    <tr>\n",
       "      <th>231742</th>\n",
       "      <td>0.0</td>\n",
       "      <td>5462</td>\n",
       "    </tr>\n",
       "    <tr>\n",
       "      <th>231743</th>\n",
       "      <td>0.0</td>\n",
       "      <td>5462</td>\n",
       "    </tr>\n",
       "  </tbody>\n",
       "</table>\n",
       "<p>231744 rows × 2 columns</p>\n",
       "</div>"
      ],
      "text/plain": [
       "        recovered  deaths\n",
       "0             0.0       0\n",
       "1             0.0       0\n",
       "2             0.0       0\n",
       "3             0.0       0\n",
       "4             0.0       0\n",
       "...           ...     ...\n",
       "231739        0.0    5460\n",
       "231740        0.0    5460\n",
       "231741        0.0    5462\n",
       "231742        0.0    5462\n",
       "231743        0.0    5462\n",
       "\n",
       "[231744 rows x 2 columns]"
      ]
     },
     "execution_count": 28,
     "metadata": {},
     "output_type": "execute_result"
    }
   ],
   "source": [
    "covid_renamed[['recovered', 'deaths']]"
   ]
  },
  {
   "cell_type": "code",
   "execution_count": 29,
   "id": "b4b3e828-82cc-4f98-b2d1-b9fe6ca816de",
   "metadata": {},
   "outputs": [
    {
     "data": {
      "text/html": [
       "<div>\n",
       "<style scoped>\n",
       "    .dataframe tbody tr th:only-of-type {\n",
       "        vertical-align: middle;\n",
       "    }\n",
       "\n",
       "    .dataframe tbody tr th {\n",
       "        vertical-align: top;\n",
       "    }\n",
       "\n",
       "    .dataframe thead th {\n",
       "        text-align: right;\n",
       "    }\n",
       "</style>\n",
       "<table border=\"1\" class=\"dataframe\">\n",
       "  <thead>\n",
       "    <tr style=\"text-align: right;\">\n",
       "      <th></th>\n",
       "      <th>recovered</th>\n",
       "    </tr>\n",
       "  </thead>\n",
       "  <tbody>\n",
       "    <tr>\n",
       "      <th>0</th>\n",
       "      <td>0.0</td>\n",
       "    </tr>\n",
       "    <tr>\n",
       "      <th>1</th>\n",
       "      <td>0.0</td>\n",
       "    </tr>\n",
       "    <tr>\n",
       "      <th>2</th>\n",
       "      <td>0.0</td>\n",
       "    </tr>\n",
       "    <tr>\n",
       "      <th>3</th>\n",
       "      <td>0.0</td>\n",
       "    </tr>\n",
       "    <tr>\n",
       "      <th>4</th>\n",
       "      <td>0.0</td>\n",
       "    </tr>\n",
       "    <tr>\n",
       "      <th>...</th>\n",
       "      <td>...</td>\n",
       "    </tr>\n",
       "    <tr>\n",
       "      <th>231739</th>\n",
       "      <td>0.0</td>\n",
       "    </tr>\n",
       "    <tr>\n",
       "      <th>231740</th>\n",
       "      <td>0.0</td>\n",
       "    </tr>\n",
       "    <tr>\n",
       "      <th>231741</th>\n",
       "      <td>0.0</td>\n",
       "    </tr>\n",
       "    <tr>\n",
       "      <th>231742</th>\n",
       "      <td>0.0</td>\n",
       "    </tr>\n",
       "    <tr>\n",
       "      <th>231743</th>\n",
       "      <td>0.0</td>\n",
       "    </tr>\n",
       "  </tbody>\n",
       "</table>\n",
       "<p>231744 rows × 1 columns</p>\n",
       "</div>"
      ],
      "text/plain": [
       "        recovered\n",
       "0             0.0\n",
       "1             0.0\n",
       "2             0.0\n",
       "3             0.0\n",
       "4             0.0\n",
       "...           ...\n",
       "231739        0.0\n",
       "231740        0.0\n",
       "231741        0.0\n",
       "231742        0.0\n",
       "231743        0.0\n",
       "\n",
       "[231744 rows x 1 columns]"
      ]
     },
     "execution_count": 29,
     "metadata": {},
     "output_type": "execute_result"
    }
   ],
   "source": [
    "covid_renamed[['recovered']]"
   ]
  },
  {
   "cell_type": "code",
   "execution_count": 30,
   "id": "4c99b984-f04c-4c43-bdc0-0c8b8608cc04",
   "metadata": {},
   "outputs": [
    {
     "data": {
      "text/plain": [
       "0         False\n",
       "1         False\n",
       "2         False\n",
       "3         False\n",
       "4         False\n",
       "          ...  \n",
       "231739    False\n",
       "231740    False\n",
       "231741    False\n",
       "231742    False\n",
       "231743    False\n",
       "Name: province_state, Length: 231744, dtype: bool"
      ]
     },
     "execution_count": 30,
     "metadata": {},
     "output_type": "execute_result"
    }
   ],
   "source": [
    "covid_renamed['province_state'].notna()"
   ]
  },
  {
   "cell_type": "code",
   "execution_count": 31,
   "id": "5632ebb6-5072-4895-a018-6cd8694d020c",
   "metadata": {},
   "outputs": [
    {
     "data": {
      "text/html": [
       "<div>\n",
       "<style scoped>\n",
       "    .dataframe tbody tr th:only-of-type {\n",
       "        vertical-align: middle;\n",
       "    }\n",
       "\n",
       "    .dataframe tbody tr th {\n",
       "        vertical-align: top;\n",
       "    }\n",
       "\n",
       "    .dataframe thead th {\n",
       "        text-align: right;\n",
       "    }\n",
       "</style>\n",
       "<table border=\"1\" class=\"dataframe\">\n",
       "  <thead>\n",
       "    <tr style=\"text-align: right;\">\n",
       "      <th></th>\n",
       "      <th>date</th>\n",
       "      <th>country_region</th>\n",
       "      <th>province_state</th>\n",
       "      <th>confirmed</th>\n",
       "      <th>recovered</th>\n",
       "      <th>deaths</th>\n",
       "      <th>date_dt</th>\n",
       "    </tr>\n",
       "  </thead>\n",
       "  <tbody>\n",
       "    <tr>\n",
       "      <th>7344</th>\n",
       "      <td>2020-01-22</td>\n",
       "      <td>Australia</td>\n",
       "      <td>Australian Capital Territory</td>\n",
       "      <td>0</td>\n",
       "      <td>0.0</td>\n",
       "      <td>0</td>\n",
       "      <td>2020-01-22</td>\n",
       "    </tr>\n",
       "    <tr>\n",
       "      <th>7345</th>\n",
       "      <td>2020-01-23</td>\n",
       "      <td>Australia</td>\n",
       "      <td>Australian Capital Territory</td>\n",
       "      <td>0</td>\n",
       "      <td>0.0</td>\n",
       "      <td>0</td>\n",
       "      <td>2020-01-23</td>\n",
       "    </tr>\n",
       "    <tr>\n",
       "      <th>7346</th>\n",
       "      <td>2020-01-24</td>\n",
       "      <td>Australia</td>\n",
       "      <td>Australian Capital Territory</td>\n",
       "      <td>0</td>\n",
       "      <td>0.0</td>\n",
       "      <td>0</td>\n",
       "      <td>2020-01-24</td>\n",
       "    </tr>\n",
       "    <tr>\n",
       "      <th>7347</th>\n",
       "      <td>2020-01-25</td>\n",
       "      <td>Australia</td>\n",
       "      <td>Australian Capital Territory</td>\n",
       "      <td>0</td>\n",
       "      <td>0.0</td>\n",
       "      <td>0</td>\n",
       "      <td>2020-01-25</td>\n",
       "    </tr>\n",
       "    <tr>\n",
       "      <th>7348</th>\n",
       "      <td>2020-01-26</td>\n",
       "      <td>Australia</td>\n",
       "      <td>Australian Capital Territory</td>\n",
       "      <td>0</td>\n",
       "      <td>0.0</td>\n",
       "      <td>0</td>\n",
       "      <td>2020-01-26</td>\n",
       "    </tr>\n",
       "    <tr>\n",
       "      <th>...</th>\n",
       "      <td>...</td>\n",
       "      <td>...</td>\n",
       "      <td>...</td>\n",
       "      <td>...</td>\n",
       "      <td>...</td>\n",
       "      <td>...</td>\n",
       "      <td>...</td>\n",
       "    </tr>\n",
       "    <tr>\n",
       "      <th>222763</th>\n",
       "      <td>2022-04-12</td>\n",
       "      <td>United Kingdom</td>\n",
       "      <td>Turks and Caicos Islands</td>\n",
       "      <td>5923</td>\n",
       "      <td>0.0</td>\n",
       "      <td>36</td>\n",
       "      <td>2022-04-12</td>\n",
       "    </tr>\n",
       "    <tr>\n",
       "      <th>222764</th>\n",
       "      <td>2022-04-13</td>\n",
       "      <td>United Kingdom</td>\n",
       "      <td>Turks and Caicos Islands</td>\n",
       "      <td>5936</td>\n",
       "      <td>0.0</td>\n",
       "      <td>36</td>\n",
       "      <td>2022-04-13</td>\n",
       "    </tr>\n",
       "    <tr>\n",
       "      <th>222765</th>\n",
       "      <td>2022-04-14</td>\n",
       "      <td>United Kingdom</td>\n",
       "      <td>Turks and Caicos Islands</td>\n",
       "      <td>5936</td>\n",
       "      <td>0.0</td>\n",
       "      <td>36</td>\n",
       "      <td>2022-04-14</td>\n",
       "    </tr>\n",
       "    <tr>\n",
       "      <th>222766</th>\n",
       "      <td>2022-04-15</td>\n",
       "      <td>United Kingdom</td>\n",
       "      <td>Turks and Caicos Islands</td>\n",
       "      <td>5936</td>\n",
       "      <td>0.0</td>\n",
       "      <td>36</td>\n",
       "      <td>2022-04-15</td>\n",
       "    </tr>\n",
       "    <tr>\n",
       "      <th>222767</th>\n",
       "      <td>2022-04-16</td>\n",
       "      <td>United Kingdom</td>\n",
       "      <td>Turks and Caicos Islands</td>\n",
       "      <td>5936</td>\n",
       "      <td>0.0</td>\n",
       "      <td>36</td>\n",
       "      <td>2022-04-16</td>\n",
       "    </tr>\n",
       "  </tbody>\n",
       "</table>\n",
       "<p>72624 rows × 7 columns</p>\n",
       "</div>"
      ],
      "text/plain": [
       "              date  country_region                province_state  confirmed  \\\n",
       "7344    2020-01-22       Australia  Australian Capital Territory          0   \n",
       "7345    2020-01-23       Australia  Australian Capital Territory          0   \n",
       "7346    2020-01-24       Australia  Australian Capital Territory          0   \n",
       "7347    2020-01-25       Australia  Australian Capital Territory          0   \n",
       "7348    2020-01-26       Australia  Australian Capital Territory          0   \n",
       "...            ...             ...                           ...        ...   \n",
       "222763  2022-04-12  United Kingdom      Turks and Caicos Islands       5923   \n",
       "222764  2022-04-13  United Kingdom      Turks and Caicos Islands       5936   \n",
       "222765  2022-04-14  United Kingdom      Turks and Caicos Islands       5936   \n",
       "222766  2022-04-15  United Kingdom      Turks and Caicos Islands       5936   \n",
       "222767  2022-04-16  United Kingdom      Turks and Caicos Islands       5936   \n",
       "\n",
       "        recovered  deaths    date_dt  \n",
       "7344          0.0       0 2020-01-22  \n",
       "7345          0.0       0 2020-01-23  \n",
       "7346          0.0       0 2020-01-24  \n",
       "7347          0.0       0 2020-01-25  \n",
       "7348          0.0       0 2020-01-26  \n",
       "...           ...     ...        ...  \n",
       "222763        0.0      36 2022-04-12  \n",
       "222764        0.0      36 2022-04-13  \n",
       "222765        0.0      36 2022-04-14  \n",
       "222766        0.0      36 2022-04-15  \n",
       "222767        0.0      36 2022-04-16  \n",
       "\n",
       "[72624 rows x 7 columns]"
      ]
     },
     "execution_count": 31,
     "metadata": {},
     "output_type": "execute_result"
    }
   ],
   "source": [
    "covid_renamed[covid_renamed['province_state'].notna()]"
   ]
  },
  {
   "cell_type": "markdown",
   "id": "d38c5e57-4db3-4b37-9a9a-cd9ee71a1148",
   "metadata": {},
   "source": [
    "`.loc[]`\n",
    "\n",
    "Выбор по НАЗВАНИЮ колонки строки."
   ]
  },
  {
   "cell_type": "code",
   "execution_count": 33,
   "id": "acc91956-990e-4951-b45d-d85e854e11a2",
   "metadata": {},
   "outputs": [
    {
     "data": {
      "text/html": [
       "<div>\n",
       "<style scoped>\n",
       "    .dataframe tbody tr th:only-of-type {\n",
       "        vertical-align: middle;\n",
       "    }\n",
       "\n",
       "    .dataframe tbody tr th {\n",
       "        vertical-align: top;\n",
       "    }\n",
       "\n",
       "    .dataframe thead th {\n",
       "        text-align: right;\n",
       "    }\n",
       "</style>\n",
       "<table border=\"1\" class=\"dataframe\">\n",
       "  <thead>\n",
       "    <tr style=\"text-align: right;\">\n",
       "      <th></th>\n",
       "      <th>date</th>\n",
       "      <th>deaths</th>\n",
       "    </tr>\n",
       "  </thead>\n",
       "  <tbody>\n",
       "    <tr>\n",
       "      <th>6</th>\n",
       "      <td>2020-01-28</td>\n",
       "      <td>0</td>\n",
       "    </tr>\n",
       "    <tr>\n",
       "      <th>9</th>\n",
       "      <td>2020-01-31</td>\n",
       "      <td>0</td>\n",
       "    </tr>\n",
       "    <tr>\n",
       "      <th>12</th>\n",
       "      <td>2020-02-03</td>\n",
       "      <td>0</td>\n",
       "    </tr>\n",
       "  </tbody>\n",
       "</table>\n",
       "</div>"
      ],
      "text/plain": [
       "          date  deaths\n",
       "6   2020-01-28       0\n",
       "9   2020-01-31       0\n",
       "12  2020-02-03       0"
      ]
     },
     "execution_count": 33,
     "metadata": {},
     "output_type": "execute_result"
    }
   ],
   "source": [
    "covid_renamed.loc[[6, 9, 12], ['date', 'deaths']]  # rows, columns"
   ]
  },
  {
   "cell_type": "code",
   "execution_count": 34,
   "id": "22ea093b-e598-428b-973d-8ca6ad266fac",
   "metadata": {},
   "outputs": [
    {
     "data": {
      "text/html": [
       "<div>\n",
       "<style scoped>\n",
       "    .dataframe tbody tr th:only-of-type {\n",
       "        vertical-align: middle;\n",
       "    }\n",
       "\n",
       "    .dataframe tbody tr th {\n",
       "        vertical-align: top;\n",
       "    }\n",
       "\n",
       "    .dataframe thead th {\n",
       "        text-align: right;\n",
       "    }\n",
       "</style>\n",
       "<table border=\"1\" class=\"dataframe\">\n",
       "  <thead>\n",
       "    <tr style=\"text-align: right;\">\n",
       "      <th></th>\n",
       "      <th>date</th>\n",
       "      <th>country_region</th>\n",
       "      <th>province_state</th>\n",
       "      <th>confirmed</th>\n",
       "      <th>recovered</th>\n",
       "      <th>deaths</th>\n",
       "    </tr>\n",
       "  </thead>\n",
       "  <tbody>\n",
       "    <tr>\n",
       "      <th>0</th>\n",
       "      <td>2020-01-22</td>\n",
       "      <td>Afghanistan</td>\n",
       "      <td>NaN</td>\n",
       "      <td>0</td>\n",
       "      <td>0.0</td>\n",
       "      <td>0</td>\n",
       "    </tr>\n",
       "    <tr>\n",
       "      <th>1</th>\n",
       "      <td>2020-01-23</td>\n",
       "      <td>Afghanistan</td>\n",
       "      <td>NaN</td>\n",
       "      <td>0</td>\n",
       "      <td>0.0</td>\n",
       "      <td>0</td>\n",
       "    </tr>\n",
       "    <tr>\n",
       "      <th>2</th>\n",
       "      <td>2020-01-24</td>\n",
       "      <td>Afghanistan</td>\n",
       "      <td>NaN</td>\n",
       "      <td>0</td>\n",
       "      <td>0.0</td>\n",
       "      <td>0</td>\n",
       "    </tr>\n",
       "    <tr>\n",
       "      <th>3</th>\n",
       "      <td>2020-01-25</td>\n",
       "      <td>Afghanistan</td>\n",
       "      <td>NaN</td>\n",
       "      <td>0</td>\n",
       "      <td>0.0</td>\n",
       "      <td>0</td>\n",
       "    </tr>\n",
       "    <tr>\n",
       "      <th>4</th>\n",
       "      <td>2020-01-26</td>\n",
       "      <td>Afghanistan</td>\n",
       "      <td>NaN</td>\n",
       "      <td>0</td>\n",
       "      <td>0.0</td>\n",
       "      <td>0</td>\n",
       "    </tr>\n",
       "    <tr>\n",
       "      <th>5</th>\n",
       "      <td>2020-01-27</td>\n",
       "      <td>Afghanistan</td>\n",
       "      <td>NaN</td>\n",
       "      <td>0</td>\n",
       "      <td>0.0</td>\n",
       "      <td>0</td>\n",
       "    </tr>\n",
       "    <tr>\n",
       "      <th>6</th>\n",
       "      <td>2020-01-28</td>\n",
       "      <td>Afghanistan</td>\n",
       "      <td>NaN</td>\n",
       "      <td>0</td>\n",
       "      <td>0.0</td>\n",
       "      <td>0</td>\n",
       "    </tr>\n",
       "  </tbody>\n",
       "</table>\n",
       "</div>"
      ],
      "text/plain": [
       "         date country_region province_state  confirmed  recovered  deaths\n",
       "0  2020-01-22    Afghanistan            NaN          0        0.0       0\n",
       "1  2020-01-23    Afghanistan            NaN          0        0.0       0\n",
       "2  2020-01-24    Afghanistan            NaN          0        0.0       0\n",
       "3  2020-01-25    Afghanistan            NaN          0        0.0       0\n",
       "4  2020-01-26    Afghanistan            NaN          0        0.0       0\n",
       "5  2020-01-27    Afghanistan            NaN          0        0.0       0\n",
       "6  2020-01-28    Afghanistan            NaN          0        0.0       0"
      ]
     },
     "execution_count": 34,
     "metadata": {},
     "output_type": "execute_result"
    }
   ],
   "source": [
    "covid_renamed.loc[0:6, 'date':'deaths']  # то, что справа, ВКЛЮЧАЕТСЯ, т. к. это не индексы"
   ]
  },
  {
   "cell_type": "code",
   "execution_count": 35,
   "id": "74dbd4eb-fbf1-4048-abb0-50c7aae05edf",
   "metadata": {},
   "outputs": [
    {
     "data": {
      "text/html": [
       "<div>\n",
       "<style scoped>\n",
       "    .dataframe tbody tr th:only-of-type {\n",
       "        vertical-align: middle;\n",
       "    }\n",
       "\n",
       "    .dataframe tbody tr th {\n",
       "        vertical-align: top;\n",
       "    }\n",
       "\n",
       "    .dataframe thead th {\n",
       "        text-align: right;\n",
       "    }\n",
       "</style>\n",
       "<table border=\"1\" class=\"dataframe\">\n",
       "  <thead>\n",
       "    <tr style=\"text-align: right;\">\n",
       "      <th></th>\n",
       "    </tr>\n",
       "  </thead>\n",
       "  <tbody>\n",
       "    <tr>\n",
       "      <th>0</th>\n",
       "    </tr>\n",
       "    <tr>\n",
       "      <th>1</th>\n",
       "    </tr>\n",
       "    <tr>\n",
       "      <th>2</th>\n",
       "    </tr>\n",
       "    <tr>\n",
       "      <th>3</th>\n",
       "    </tr>\n",
       "    <tr>\n",
       "      <th>4</th>\n",
       "    </tr>\n",
       "    <tr>\n",
       "      <th>5</th>\n",
       "    </tr>\n",
       "    <tr>\n",
       "      <th>6</th>\n",
       "    </tr>\n",
       "  </tbody>\n",
       "</table>\n",
       "</div>"
      ],
      "text/plain": [
       "Empty DataFrame\n",
       "Columns: []\n",
       "Index: [0, 1, 2, 3, 4, 5, 6]"
      ]
     },
     "execution_count": 35,
     "metadata": {},
     "output_type": "execute_result"
    }
   ],
   "source": [
    "covid_renamed.loc[0:6, 'deaths':'date']  # пустой DataFrame, т. к. порядок колонок неправильный"
   ]
  },
  {
   "cell_type": "code",
   "execution_count": 36,
   "id": "baf910b0-80ed-44df-83fa-f92871a22767",
   "metadata": {},
   "outputs": [
    {
     "data": {
      "text/html": [
       "<div>\n",
       "<style scoped>\n",
       "    .dataframe tbody tr th:only-of-type {\n",
       "        vertical-align: middle;\n",
       "    }\n",
       "\n",
       "    .dataframe tbody tr th {\n",
       "        vertical-align: top;\n",
       "    }\n",
       "\n",
       "    .dataframe thead th {\n",
       "        text-align: right;\n",
       "    }\n",
       "</style>\n",
       "<table border=\"1\" class=\"dataframe\">\n",
       "  <thead>\n",
       "    <tr style=\"text-align: right;\">\n",
       "      <th></th>\n",
       "      <th>date</th>\n",
       "      <th>country_region</th>\n",
       "      <th>province_state</th>\n",
       "      <th>confirmed</th>\n",
       "      <th>recovered</th>\n",
       "      <th>deaths</th>\n",
       "      <th>date_dt</th>\n",
       "    </tr>\n",
       "  </thead>\n",
       "  <tbody>\n",
       "    <tr>\n",
       "      <th>7344</th>\n",
       "      <td>2020-01-22</td>\n",
       "      <td>Australia</td>\n",
       "      <td>Australian Capital Territory</td>\n",
       "      <td>0</td>\n",
       "      <td>0.0</td>\n",
       "      <td>0</td>\n",
       "      <td>2020-01-22</td>\n",
       "    </tr>\n",
       "    <tr>\n",
       "      <th>7345</th>\n",
       "      <td>2020-01-23</td>\n",
       "      <td>Australia</td>\n",
       "      <td>Australian Capital Territory</td>\n",
       "      <td>0</td>\n",
       "      <td>0.0</td>\n",
       "      <td>0</td>\n",
       "      <td>2020-01-23</td>\n",
       "    </tr>\n",
       "    <tr>\n",
       "      <th>7346</th>\n",
       "      <td>2020-01-24</td>\n",
       "      <td>Australia</td>\n",
       "      <td>Australian Capital Territory</td>\n",
       "      <td>0</td>\n",
       "      <td>0.0</td>\n",
       "      <td>0</td>\n",
       "      <td>2020-01-24</td>\n",
       "    </tr>\n",
       "    <tr>\n",
       "      <th>7347</th>\n",
       "      <td>2020-01-25</td>\n",
       "      <td>Australia</td>\n",
       "      <td>Australian Capital Territory</td>\n",
       "      <td>0</td>\n",
       "      <td>0.0</td>\n",
       "      <td>0</td>\n",
       "      <td>2020-01-25</td>\n",
       "    </tr>\n",
       "    <tr>\n",
       "      <th>7348</th>\n",
       "      <td>2020-01-26</td>\n",
       "      <td>Australia</td>\n",
       "      <td>Australian Capital Territory</td>\n",
       "      <td>0</td>\n",
       "      <td>0.0</td>\n",
       "      <td>0</td>\n",
       "      <td>2020-01-26</td>\n",
       "    </tr>\n",
       "    <tr>\n",
       "      <th>...</th>\n",
       "      <td>...</td>\n",
       "      <td>...</td>\n",
       "      <td>...</td>\n",
       "      <td>...</td>\n",
       "      <td>...</td>\n",
       "      <td>...</td>\n",
       "      <td>...</td>\n",
       "    </tr>\n",
       "    <tr>\n",
       "      <th>222763</th>\n",
       "      <td>2022-04-12</td>\n",
       "      <td>United Kingdom</td>\n",
       "      <td>Turks and Caicos Islands</td>\n",
       "      <td>5923</td>\n",
       "      <td>0.0</td>\n",
       "      <td>36</td>\n",
       "      <td>2022-04-12</td>\n",
       "    </tr>\n",
       "    <tr>\n",
       "      <th>222764</th>\n",
       "      <td>2022-04-13</td>\n",
       "      <td>United Kingdom</td>\n",
       "      <td>Turks and Caicos Islands</td>\n",
       "      <td>5936</td>\n",
       "      <td>0.0</td>\n",
       "      <td>36</td>\n",
       "      <td>2022-04-13</td>\n",
       "    </tr>\n",
       "    <tr>\n",
       "      <th>222765</th>\n",
       "      <td>2022-04-14</td>\n",
       "      <td>United Kingdom</td>\n",
       "      <td>Turks and Caicos Islands</td>\n",
       "      <td>5936</td>\n",
       "      <td>0.0</td>\n",
       "      <td>36</td>\n",
       "      <td>2022-04-14</td>\n",
       "    </tr>\n",
       "    <tr>\n",
       "      <th>222766</th>\n",
       "      <td>2022-04-15</td>\n",
       "      <td>United Kingdom</td>\n",
       "      <td>Turks and Caicos Islands</td>\n",
       "      <td>5936</td>\n",
       "      <td>0.0</td>\n",
       "      <td>36</td>\n",
       "      <td>2022-04-15</td>\n",
       "    </tr>\n",
       "    <tr>\n",
       "      <th>222767</th>\n",
       "      <td>2022-04-16</td>\n",
       "      <td>United Kingdom</td>\n",
       "      <td>Turks and Caicos Islands</td>\n",
       "      <td>5936</td>\n",
       "      <td>0.0</td>\n",
       "      <td>36</td>\n",
       "      <td>2022-04-16</td>\n",
       "    </tr>\n",
       "  </tbody>\n",
       "</table>\n",
       "<p>72624 rows × 7 columns</p>\n",
       "</div>"
      ],
      "text/plain": [
       "              date  country_region                province_state  confirmed  \\\n",
       "7344    2020-01-22       Australia  Australian Capital Territory          0   \n",
       "7345    2020-01-23       Australia  Australian Capital Territory          0   \n",
       "7346    2020-01-24       Australia  Australian Capital Territory          0   \n",
       "7347    2020-01-25       Australia  Australian Capital Territory          0   \n",
       "7348    2020-01-26       Australia  Australian Capital Territory          0   \n",
       "...            ...             ...                           ...        ...   \n",
       "222763  2022-04-12  United Kingdom      Turks and Caicos Islands       5923   \n",
       "222764  2022-04-13  United Kingdom      Turks and Caicos Islands       5936   \n",
       "222765  2022-04-14  United Kingdom      Turks and Caicos Islands       5936   \n",
       "222766  2022-04-15  United Kingdom      Turks and Caicos Islands       5936   \n",
       "222767  2022-04-16  United Kingdom      Turks and Caicos Islands       5936   \n",
       "\n",
       "        recovered  deaths    date_dt  \n",
       "7344          0.0       0 2020-01-22  \n",
       "7345          0.0       0 2020-01-23  \n",
       "7346          0.0       0 2020-01-24  \n",
       "7347          0.0       0 2020-01-25  \n",
       "7348          0.0       0 2020-01-26  \n",
       "...           ...     ...        ...  \n",
       "222763        0.0      36 2022-04-12  \n",
       "222764        0.0      36 2022-04-13  \n",
       "222765        0.0      36 2022-04-14  \n",
       "222766        0.0      36 2022-04-15  \n",
       "222767        0.0      36 2022-04-16  \n",
       "\n",
       "[72624 rows x 7 columns]"
      ]
     },
     "execution_count": 36,
     "metadata": {},
     "output_type": "execute_result"
    }
   ],
   "source": [
    "# фильтрация по маске есть\n",
    "covid_renamed.loc[covid_renamed['province_state'].notna(), :]"
   ]
  },
  {
   "cell_type": "markdown",
   "id": "38e6b80f-3346-4f85-bfc2-63f8133dd0d5",
   "metadata": {},
   "source": [
    "`iloc[]`\n",
    "\n",
    "Взятие срезов по индексу."
   ]
  },
  {
   "cell_type": "code",
   "execution_count": 38,
   "id": "f74b5d0f-9fc6-440c-a62a-4c3e5c65209d",
   "metadata": {},
   "outputs": [
    {
     "data": {
      "text/html": [
       "<div>\n",
       "<style scoped>\n",
       "    .dataframe tbody tr th:only-of-type {\n",
       "        vertical-align: middle;\n",
       "    }\n",
       "\n",
       "    .dataframe tbody tr th {\n",
       "        vertical-align: top;\n",
       "    }\n",
       "\n",
       "    .dataframe thead th {\n",
       "        text-align: right;\n",
       "    }\n",
       "</style>\n",
       "<table border=\"1\" class=\"dataframe\">\n",
       "  <thead>\n",
       "    <tr style=\"text-align: right;\">\n",
       "      <th></th>\n",
       "      <th>province_state</th>\n",
       "      <th>confirmed</th>\n",
       "      <th>recovered</th>\n",
       "    </tr>\n",
       "  </thead>\n",
       "  <tbody>\n",
       "    <tr>\n",
       "      <th>0</th>\n",
       "      <td>NaN</td>\n",
       "      <td>0</td>\n",
       "      <td>0.0</td>\n",
       "    </tr>\n",
       "    <tr>\n",
       "      <th>1</th>\n",
       "      <td>NaN</td>\n",
       "      <td>0</td>\n",
       "      <td>0.0</td>\n",
       "    </tr>\n",
       "    <tr>\n",
       "      <th>2</th>\n",
       "      <td>NaN</td>\n",
       "      <td>0</td>\n",
       "      <td>0.0</td>\n",
       "    </tr>\n",
       "    <tr>\n",
       "      <th>3</th>\n",
       "      <td>NaN</td>\n",
       "      <td>0</td>\n",
       "      <td>0.0</td>\n",
       "    </tr>\n",
       "    <tr>\n",
       "      <th>4</th>\n",
       "      <td>NaN</td>\n",
       "      <td>0</td>\n",
       "      <td>0.0</td>\n",
       "    </tr>\n",
       "    <tr>\n",
       "      <th>5</th>\n",
       "      <td>NaN</td>\n",
       "      <td>0</td>\n",
       "      <td>0.0</td>\n",
       "    </tr>\n",
       "  </tbody>\n",
       "</table>\n",
       "</div>"
      ],
      "text/plain": [
       "  province_state  confirmed  recovered\n",
       "0            NaN          0        0.0\n",
       "1            NaN          0        0.0\n",
       "2            NaN          0        0.0\n",
       "3            NaN          0        0.0\n",
       "4            NaN          0        0.0\n",
       "5            NaN          0        0.0"
      ]
     },
     "execution_count": 38,
     "metadata": {},
     "output_type": "execute_result"
    }
   ],
   "source": [
    "covid_renamed.iloc[0:6, 2:5]  # то, что справа, НЕ ВКЛЮЧАЕТСЯ, т. к. это индексы"
   ]
  },
  {
   "cell_type": "code",
   "execution_count": 41,
   "id": "a94d3f41-49e0-4936-925c-c36271f4cb2e",
   "metadata": {},
   "outputs": [
    {
     "data": {
      "text/html": [
       "<div>\n",
       "<style scoped>\n",
       "    .dataframe tbody tr th:only-of-type {\n",
       "        vertical-align: middle;\n",
       "    }\n",
       "\n",
       "    .dataframe tbody tr th {\n",
       "        vertical-align: top;\n",
       "    }\n",
       "\n",
       "    .dataframe thead th {\n",
       "        text-align: right;\n",
       "    }\n",
       "</style>\n",
       "<table border=\"1\" class=\"dataframe\">\n",
       "  <thead>\n",
       "    <tr style=\"text-align: right;\">\n",
       "      <th></th>\n",
       "      <th>date</th>\n",
       "      <th>country_region</th>\n",
       "      <th>province_state</th>\n",
       "      <th>confirmed</th>\n",
       "      <th>recovered</th>\n",
       "      <th>deaths</th>\n",
       "      <th>date_dt</th>\n",
       "    </tr>\n",
       "  </thead>\n",
       "  <tbody>\n",
       "    <tr>\n",
       "      <th>7344</th>\n",
       "      <td>2020-01-22</td>\n",
       "      <td>Australia</td>\n",
       "      <td>Australian Capital Territory</td>\n",
       "      <td>0</td>\n",
       "      <td>0.0</td>\n",
       "      <td>0</td>\n",
       "      <td>2020-01-22</td>\n",
       "    </tr>\n",
       "    <tr>\n",
       "      <th>7345</th>\n",
       "      <td>2020-01-23</td>\n",
       "      <td>Australia</td>\n",
       "      <td>Australian Capital Territory</td>\n",
       "      <td>0</td>\n",
       "      <td>0.0</td>\n",
       "      <td>0</td>\n",
       "      <td>2020-01-23</td>\n",
       "    </tr>\n",
       "    <tr>\n",
       "      <th>7346</th>\n",
       "      <td>2020-01-24</td>\n",
       "      <td>Australia</td>\n",
       "      <td>Australian Capital Territory</td>\n",
       "      <td>0</td>\n",
       "      <td>0.0</td>\n",
       "      <td>0</td>\n",
       "      <td>2020-01-24</td>\n",
       "    </tr>\n",
       "    <tr>\n",
       "      <th>7347</th>\n",
       "      <td>2020-01-25</td>\n",
       "      <td>Australia</td>\n",
       "      <td>Australian Capital Territory</td>\n",
       "      <td>0</td>\n",
       "      <td>0.0</td>\n",
       "      <td>0</td>\n",
       "      <td>2020-01-25</td>\n",
       "    </tr>\n",
       "    <tr>\n",
       "      <th>7348</th>\n",
       "      <td>2020-01-26</td>\n",
       "      <td>Australia</td>\n",
       "      <td>Australian Capital Territory</td>\n",
       "      <td>0</td>\n",
       "      <td>0.0</td>\n",
       "      <td>0</td>\n",
       "      <td>2020-01-26</td>\n",
       "    </tr>\n",
       "    <tr>\n",
       "      <th>...</th>\n",
       "      <td>...</td>\n",
       "      <td>...</td>\n",
       "      <td>...</td>\n",
       "      <td>...</td>\n",
       "      <td>...</td>\n",
       "      <td>...</td>\n",
       "      <td>...</td>\n",
       "    </tr>\n",
       "    <tr>\n",
       "      <th>222763</th>\n",
       "      <td>2022-04-12</td>\n",
       "      <td>United Kingdom</td>\n",
       "      <td>Turks and Caicos Islands</td>\n",
       "      <td>5923</td>\n",
       "      <td>0.0</td>\n",
       "      <td>36</td>\n",
       "      <td>2022-04-12</td>\n",
       "    </tr>\n",
       "    <tr>\n",
       "      <th>222764</th>\n",
       "      <td>2022-04-13</td>\n",
       "      <td>United Kingdom</td>\n",
       "      <td>Turks and Caicos Islands</td>\n",
       "      <td>5936</td>\n",
       "      <td>0.0</td>\n",
       "      <td>36</td>\n",
       "      <td>2022-04-13</td>\n",
       "    </tr>\n",
       "    <tr>\n",
       "      <th>222765</th>\n",
       "      <td>2022-04-14</td>\n",
       "      <td>United Kingdom</td>\n",
       "      <td>Turks and Caicos Islands</td>\n",
       "      <td>5936</td>\n",
       "      <td>0.0</td>\n",
       "      <td>36</td>\n",
       "      <td>2022-04-14</td>\n",
       "    </tr>\n",
       "    <tr>\n",
       "      <th>222766</th>\n",
       "      <td>2022-04-15</td>\n",
       "      <td>United Kingdom</td>\n",
       "      <td>Turks and Caicos Islands</td>\n",
       "      <td>5936</td>\n",
       "      <td>0.0</td>\n",
       "      <td>36</td>\n",
       "      <td>2022-04-15</td>\n",
       "    </tr>\n",
       "    <tr>\n",
       "      <th>222767</th>\n",
       "      <td>2022-04-16</td>\n",
       "      <td>United Kingdom</td>\n",
       "      <td>Turks and Caicos Islands</td>\n",
       "      <td>5936</td>\n",
       "      <td>0.0</td>\n",
       "      <td>36</td>\n",
       "      <td>2022-04-16</td>\n",
       "    </tr>\n",
       "  </tbody>\n",
       "</table>\n",
       "<p>72624 rows × 7 columns</p>\n",
       "</div>"
      ],
      "text/plain": [
       "              date  country_region                province_state  confirmed  \\\n",
       "7344    2020-01-22       Australia  Australian Capital Territory          0   \n",
       "7345    2020-01-23       Australia  Australian Capital Territory          0   \n",
       "7346    2020-01-24       Australia  Australian Capital Territory          0   \n",
       "7347    2020-01-25       Australia  Australian Capital Territory          0   \n",
       "7348    2020-01-26       Australia  Australian Capital Territory          0   \n",
       "...            ...             ...                           ...        ...   \n",
       "222763  2022-04-12  United Kingdom      Turks and Caicos Islands       5923   \n",
       "222764  2022-04-13  United Kingdom      Turks and Caicos Islands       5936   \n",
       "222765  2022-04-14  United Kingdom      Turks and Caicos Islands       5936   \n",
       "222766  2022-04-15  United Kingdom      Turks and Caicos Islands       5936   \n",
       "222767  2022-04-16  United Kingdom      Turks and Caicos Islands       5936   \n",
       "\n",
       "        recovered  deaths    date_dt  \n",
       "7344          0.0       0 2020-01-22  \n",
       "7345          0.0       0 2020-01-23  \n",
       "7346          0.0       0 2020-01-24  \n",
       "7347          0.0       0 2020-01-25  \n",
       "7348          0.0       0 2020-01-26  \n",
       "...           ...     ...        ...  \n",
       "222763        0.0      36 2022-04-12  \n",
       "222764        0.0      36 2022-04-13  \n",
       "222765        0.0      36 2022-04-14  \n",
       "222766        0.0      36 2022-04-15  \n",
       "222767        0.0      36 2022-04-16  \n",
       "\n",
       "[72624 rows x 7 columns]"
      ]
     },
     "execution_count": 41,
     "metadata": {},
     "output_type": "execute_result"
    }
   ],
   "source": [
    "# фильтрация по маске есть, но только если маска - np.array\n",
    "covid_renamed.iloc[covid_renamed['province_state'].notna().values, :]"
   ]
  },
  {
   "cell_type": "code",
   "execution_count": 42,
   "id": "eda6142d-0a39-44a3-a9ba-fc83cad57d1d",
   "metadata": {},
   "outputs": [
    {
     "ename": "NotImplementedError",
     "evalue": "iLocation based boolean indexing on an integer type is not available",
     "output_type": "error",
     "traceback": [
      "\u001b[0;31m---------------------------------------------------------------------------\u001b[0m",
      "\u001b[0;31mNotImplementedError\u001b[0m                       Traceback (most recent call last)",
      "Cell \u001b[0;32mIn[42], line 1\u001b[0m\n\u001b[0;32m----> 1\u001b[0m \u001b[43mcovid_renamed\u001b[49m\u001b[38;5;241;43m.\u001b[39;49m\u001b[43miloc\u001b[49m\u001b[43m[\u001b[49m\u001b[43mcovid_renamed\u001b[49m\u001b[43m[\u001b[49m\u001b[38;5;124;43m'\u001b[39;49m\u001b[38;5;124;43mprovince_state\u001b[39;49m\u001b[38;5;124;43m'\u001b[39;49m\u001b[43m]\u001b[49m\u001b[38;5;241;43m.\u001b[39;49m\u001b[43mnotna\u001b[49m\u001b[43m(\u001b[49m\u001b[43m)\u001b[49m\u001b[43m,\u001b[49m\u001b[43m \u001b[49m\u001b[43m:\u001b[49m\u001b[43m]\u001b[49m\n",
      "File \u001b[0;32m~/teaching/lib/python3.11/site-packages/pandas/core/indexing.py:1147\u001b[0m, in \u001b[0;36m_LocationIndexer.__getitem__\u001b[0;34m(self, key)\u001b[0m\n\u001b[1;32m   1145\u001b[0m     \u001b[38;5;28;01mif\u001b[39;00m \u001b[38;5;28mself\u001b[39m\u001b[38;5;241m.\u001b[39m_is_scalar_access(key):\n\u001b[1;32m   1146\u001b[0m         \u001b[38;5;28;01mreturn\u001b[39;00m \u001b[38;5;28mself\u001b[39m\u001b[38;5;241m.\u001b[39mobj\u001b[38;5;241m.\u001b[39m_get_value(\u001b[38;5;241m*\u001b[39mkey, takeable\u001b[38;5;241m=\u001b[39m\u001b[38;5;28mself\u001b[39m\u001b[38;5;241m.\u001b[39m_takeable)\n\u001b[0;32m-> 1147\u001b[0m     \u001b[38;5;28;01mreturn\u001b[39;00m \u001b[38;5;28;43mself\u001b[39;49m\u001b[38;5;241;43m.\u001b[39;49m\u001b[43m_getitem_tuple\u001b[49m\u001b[43m(\u001b[49m\u001b[43mkey\u001b[49m\u001b[43m)\u001b[49m\n\u001b[1;32m   1148\u001b[0m \u001b[38;5;28;01melse\u001b[39;00m:\n\u001b[1;32m   1149\u001b[0m     \u001b[38;5;66;03m# we by definition only have the 0th axis\u001b[39;00m\n\u001b[1;32m   1150\u001b[0m     axis \u001b[38;5;241m=\u001b[39m \u001b[38;5;28mself\u001b[39m\u001b[38;5;241m.\u001b[39maxis \u001b[38;5;129;01mor\u001b[39;00m \u001b[38;5;241m0\u001b[39m\n",
      "File \u001b[0;32m~/teaching/lib/python3.11/site-packages/pandas/core/indexing.py:1652\u001b[0m, in \u001b[0;36m_iLocIndexer._getitem_tuple\u001b[0;34m(self, tup)\u001b[0m\n\u001b[1;32m   1651\u001b[0m \u001b[38;5;28;01mdef\u001b[39;00m \u001b[38;5;21m_getitem_tuple\u001b[39m(\u001b[38;5;28mself\u001b[39m, tup: \u001b[38;5;28mtuple\u001b[39m):\n\u001b[0;32m-> 1652\u001b[0m     tup \u001b[38;5;241m=\u001b[39m \u001b[38;5;28;43mself\u001b[39;49m\u001b[38;5;241;43m.\u001b[39;49m\u001b[43m_validate_tuple_indexer\u001b[49m\u001b[43m(\u001b[49m\u001b[43mtup\u001b[49m\u001b[43m)\u001b[49m\n\u001b[1;32m   1653\u001b[0m     \u001b[38;5;28;01mwith\u001b[39;00m suppress(IndexingError):\n\u001b[1;32m   1654\u001b[0m         \u001b[38;5;28;01mreturn\u001b[39;00m \u001b[38;5;28mself\u001b[39m\u001b[38;5;241m.\u001b[39m_getitem_lowerdim(tup)\n",
      "File \u001b[0;32m~/teaching/lib/python3.11/site-packages/pandas/core/indexing.py:940\u001b[0m, in \u001b[0;36m_LocationIndexer._validate_tuple_indexer\u001b[0;34m(self, key)\u001b[0m\n\u001b[1;32m    938\u001b[0m \u001b[38;5;28;01mfor\u001b[39;00m i, k \u001b[38;5;129;01min\u001b[39;00m \u001b[38;5;28menumerate\u001b[39m(key):\n\u001b[1;32m    939\u001b[0m     \u001b[38;5;28;01mtry\u001b[39;00m:\n\u001b[0;32m--> 940\u001b[0m         \u001b[38;5;28;43mself\u001b[39;49m\u001b[38;5;241;43m.\u001b[39;49m\u001b[43m_validate_key\u001b[49m\u001b[43m(\u001b[49m\u001b[43mk\u001b[49m\u001b[43m,\u001b[49m\u001b[43m \u001b[49m\u001b[43mi\u001b[49m\u001b[43m)\u001b[49m\n\u001b[1;32m    941\u001b[0m     \u001b[38;5;28;01mexcept\u001b[39;00m \u001b[38;5;167;01mValueError\u001b[39;00m \u001b[38;5;28;01mas\u001b[39;00m err:\n\u001b[1;32m    942\u001b[0m         \u001b[38;5;28;01mraise\u001b[39;00m \u001b[38;5;167;01mValueError\u001b[39;00m(\n\u001b[1;32m    943\u001b[0m             \u001b[38;5;124m\"\u001b[39m\u001b[38;5;124mLocation based indexing can only have \u001b[39m\u001b[38;5;124m\"\u001b[39m\n\u001b[1;32m    944\u001b[0m             \u001b[38;5;124mf\u001b[39m\u001b[38;5;124m\"\u001b[39m\u001b[38;5;124m[\u001b[39m\u001b[38;5;132;01m{\u001b[39;00m\u001b[38;5;28mself\u001b[39m\u001b[38;5;241m.\u001b[39m_valid_types\u001b[38;5;132;01m}\u001b[39;00m\u001b[38;5;124m] types\u001b[39m\u001b[38;5;124m\"\u001b[39m\n\u001b[1;32m    945\u001b[0m         ) \u001b[38;5;28;01mfrom\u001b[39;00m \u001b[38;5;21;01merr\u001b[39;00m\n",
      "File \u001b[0;32m~/teaching/lib/python3.11/site-packages/pandas/core/indexing.py:1540\u001b[0m, in \u001b[0;36m_iLocIndexer._validate_key\u001b[0;34m(self, key, axis)\u001b[0m\n\u001b[1;32m   1538\u001b[0m \u001b[38;5;28;01mif\u001b[39;00m \u001b[38;5;28mhasattr\u001b[39m(key, \u001b[38;5;124m\"\u001b[39m\u001b[38;5;124mindex\u001b[39m\u001b[38;5;124m\"\u001b[39m) \u001b[38;5;129;01mand\u001b[39;00m \u001b[38;5;28misinstance\u001b[39m(key\u001b[38;5;241m.\u001b[39mindex, Index):\n\u001b[1;32m   1539\u001b[0m     \u001b[38;5;28;01mif\u001b[39;00m key\u001b[38;5;241m.\u001b[39mindex\u001b[38;5;241m.\u001b[39minferred_type \u001b[38;5;241m==\u001b[39m \u001b[38;5;124m\"\u001b[39m\u001b[38;5;124minteger\u001b[39m\u001b[38;5;124m\"\u001b[39m:\n\u001b[0;32m-> 1540\u001b[0m         \u001b[38;5;28;01mraise\u001b[39;00m \u001b[38;5;167;01mNotImplementedError\u001b[39;00m(\n\u001b[1;32m   1541\u001b[0m             \u001b[38;5;124m\"\u001b[39m\u001b[38;5;124miLocation based boolean \u001b[39m\u001b[38;5;124m\"\u001b[39m\n\u001b[1;32m   1542\u001b[0m             \u001b[38;5;124m\"\u001b[39m\u001b[38;5;124mindexing on an integer type \u001b[39m\u001b[38;5;124m\"\u001b[39m\n\u001b[1;32m   1543\u001b[0m             \u001b[38;5;124m\"\u001b[39m\u001b[38;5;124mis not available\u001b[39m\u001b[38;5;124m\"\u001b[39m\n\u001b[1;32m   1544\u001b[0m         )\n\u001b[1;32m   1545\u001b[0m     \u001b[38;5;28;01mraise\u001b[39;00m \u001b[38;5;167;01mValueError\u001b[39;00m(\n\u001b[1;32m   1546\u001b[0m         \u001b[38;5;124m\"\u001b[39m\u001b[38;5;124miLocation based boolean indexing cannot use \u001b[39m\u001b[38;5;124m\"\u001b[39m\n\u001b[1;32m   1547\u001b[0m         \u001b[38;5;124m\"\u001b[39m\u001b[38;5;124man indexable as a mask\u001b[39m\u001b[38;5;124m\"\u001b[39m\n\u001b[1;32m   1548\u001b[0m     )\n\u001b[1;32m   1549\u001b[0m \u001b[38;5;28;01mreturn\u001b[39;00m\n",
      "\u001b[0;31mNotImplementedError\u001b[0m: iLocation based boolean indexing on an integer type is not available"
     ]
    }
   ],
   "source": [
    "covid_renamed.iloc[covid_renamed['province_state'].notna(), :]"
   ]
  },
  {
   "cell_type": "markdown",
   "id": "68901961-dfcc-4d49-ba6b-5d30c6b1a6a9",
   "metadata": {},
   "source": [
    "**Изучение переменных**"
   ]
  },
  {
   "cell_type": "code",
   "execution_count": 62,
   "id": "dbe9e6bf-92d5-41bc-9ae0-fe6c86a74820",
   "metadata": {},
   "outputs": [
    {
     "data": {
      "text/html": [
       "<div>\n",
       "<style scoped>\n",
       "    .dataframe tbody tr th:only-of-type {\n",
       "        vertical-align: middle;\n",
       "    }\n",
       "\n",
       "    .dataframe tbody tr th {\n",
       "        vertical-align: top;\n",
       "    }\n",
       "\n",
       "    .dataframe thead th {\n",
       "        text-align: right;\n",
       "    }\n",
       "</style>\n",
       "<table border=\"1\" class=\"dataframe\">\n",
       "  <thead>\n",
       "    <tr style=\"text-align: right;\">\n",
       "      <th></th>\n",
       "      <th>date</th>\n",
       "      <th>country_region</th>\n",
       "      <th>province_state</th>\n",
       "      <th>confirmed</th>\n",
       "      <th>recovered</th>\n",
       "      <th>deaths</th>\n",
       "      <th>date_dt</th>\n",
       "    </tr>\n",
       "  </thead>\n",
       "  <tbody>\n",
       "    <tr>\n",
       "      <th>0</th>\n",
       "      <td>2020-01-22</td>\n",
       "      <td>Afghanistan</td>\n",
       "      <td>NaN</td>\n",
       "      <td>0</td>\n",
       "      <td>0.0</td>\n",
       "      <td>0</td>\n",
       "      <td>2020-01-22</td>\n",
       "    </tr>\n",
       "    <tr>\n",
       "      <th>1</th>\n",
       "      <td>2020-01-23</td>\n",
       "      <td>Afghanistan</td>\n",
       "      <td>NaN</td>\n",
       "      <td>0</td>\n",
       "      <td>0.0</td>\n",
       "      <td>0</td>\n",
       "      <td>2020-01-23</td>\n",
       "    </tr>\n",
       "    <tr>\n",
       "      <th>2</th>\n",
       "      <td>2020-01-24</td>\n",
       "      <td>Afghanistan</td>\n",
       "      <td>NaN</td>\n",
       "      <td>0</td>\n",
       "      <td>0.0</td>\n",
       "      <td>0</td>\n",
       "      <td>2020-01-24</td>\n",
       "    </tr>\n",
       "    <tr>\n",
       "      <th>3</th>\n",
       "      <td>2020-01-25</td>\n",
       "      <td>Afghanistan</td>\n",
       "      <td>NaN</td>\n",
       "      <td>0</td>\n",
       "      <td>0.0</td>\n",
       "      <td>0</td>\n",
       "      <td>2020-01-25</td>\n",
       "    </tr>\n",
       "    <tr>\n",
       "      <th>4</th>\n",
       "      <td>2020-01-26</td>\n",
       "      <td>Afghanistan</td>\n",
       "      <td>NaN</td>\n",
       "      <td>0</td>\n",
       "      <td>0.0</td>\n",
       "      <td>0</td>\n",
       "      <td>2020-01-26</td>\n",
       "    </tr>\n",
       "  </tbody>\n",
       "</table>\n",
       "</div>"
      ],
      "text/plain": [
       "         date country_region province_state  confirmed  recovered  deaths  \\\n",
       "0  2020-01-22    Afghanistan            NaN          0        0.0       0   \n",
       "1  2020-01-23    Afghanistan            NaN          0        0.0       0   \n",
       "2  2020-01-24    Afghanistan            NaN          0        0.0       0   \n",
       "3  2020-01-25    Afghanistan            NaN          0        0.0       0   \n",
       "4  2020-01-26    Afghanistan            NaN          0        0.0       0   \n",
       "\n",
       "     date_dt  \n",
       "0 2020-01-22  \n",
       "1 2020-01-23  \n",
       "2 2020-01-24  \n",
       "3 2020-01-25  \n",
       "4 2020-01-26  "
      ]
     },
     "execution_count": 62,
     "metadata": {},
     "output_type": "execute_result"
    }
   ],
   "source": [
    "covid_sorted.head()"
   ]
  },
  {
   "cell_type": "code",
   "execution_count": 6,
   "id": "4416bff4-5cc0-4adc-83fe-f387c3beac26",
   "metadata": {},
   "outputs": [],
   "source": [
    "# numeric\n",
    "numeric = ['confirmed', 'recovered', 'deaths']"
   ]
  },
  {
   "cell_type": "code",
   "execution_count": 67,
   "id": "da67e955-7153-475c-ba3c-3bb66a1dd2c2",
   "metadata": {},
   "outputs": [
    {
     "data": {
      "text/plain": [
       "confirmed    513236.172302\n",
       "recovered    106211.623770\n",
       "deaths         9760.170231\n",
       "dtype: float64"
      ]
     },
     "execution_count": 67,
     "metadata": {},
     "output_type": "execute_result"
    }
   ],
   "source": [
    "covid_sorted.mean(numeric_only=True)"
   ]
  },
  {
   "cell_type": "code",
   "execution_count": 69,
   "id": "de9beed8-6e0c-4690-8592-13d6f4572824",
   "metadata": {},
   "outputs": [
    {
     "data": {
      "text/html": [
       "<div>\n",
       "<style scoped>\n",
       "    .dataframe tbody tr th:only-of-type {\n",
       "        vertical-align: middle;\n",
       "    }\n",
       "\n",
       "    .dataframe tbody tr th {\n",
       "        vertical-align: top;\n",
       "    }\n",
       "\n",
       "    .dataframe thead th {\n",
       "        text-align: right;\n",
       "    }\n",
       "</style>\n",
       "<table border=\"1\" class=\"dataframe\">\n",
       "  <thead>\n",
       "    <tr style=\"text-align: right;\">\n",
       "      <th></th>\n",
       "      <th>confirmed</th>\n",
       "      <th>recovered</th>\n",
       "      <th>deaths</th>\n",
       "    </tr>\n",
       "  </thead>\n",
       "  <tbody>\n",
       "    <tr>\n",
       "      <th>count</th>\n",
       "      <td>231744.00</td>\n",
       "      <td>218688.00</td>\n",
       "      <td>231744.00</td>\n",
       "    </tr>\n",
       "    <tr>\n",
       "      <th>mean</th>\n",
       "      <td>513236.17</td>\n",
       "      <td>106211.62</td>\n",
       "      <td>9760.17</td>\n",
       "    </tr>\n",
       "    <tr>\n",
       "      <th>std</th>\n",
       "      <td>3002239.15</td>\n",
       "      <td>839741.31</td>\n",
       "      <td>49749.87</td>\n",
       "    </tr>\n",
       "    <tr>\n",
       "      <th>min</th>\n",
       "      <td>0.00</td>\n",
       "      <td>0.00</td>\n",
       "      <td>0.00</td>\n",
       "    </tr>\n",
       "    <tr>\n",
       "      <th>25%</th>\n",
       "      <td>259.00</td>\n",
       "      <td>0.00</td>\n",
       "      <td>2.00</td>\n",
       "    </tr>\n",
       "    <tr>\n",
       "      <th>50%</th>\n",
       "      <td>5725.00</td>\n",
       "      <td>55.00</td>\n",
       "      <td>73.00</td>\n",
       "    </tr>\n",
       "    <tr>\n",
       "      <th>75%</th>\n",
       "      <td>109564.50</td>\n",
       "      <td>5002.00</td>\n",
       "      <td>1777.00</td>\n",
       "    </tr>\n",
       "    <tr>\n",
       "      <th>max</th>\n",
       "      <td>80625120.00</td>\n",
       "      <td>30974748.00</td>\n",
       "      <td>988609.00</td>\n",
       "    </tr>\n",
       "  </tbody>\n",
       "</table>\n",
       "</div>"
      ],
      "text/plain": [
       "         confirmed    recovered     deaths\n",
       "count    231744.00    218688.00  231744.00\n",
       "mean     513236.17    106211.62    9760.17\n",
       "std     3002239.15    839741.31   49749.87\n",
       "min           0.00         0.00       0.00\n",
       "25%         259.00         0.00       2.00\n",
       "50%        5725.00        55.00      73.00\n",
       "75%      109564.50      5002.00    1777.00\n",
       "max    80625120.00  30974748.00  988609.00"
      ]
     },
     "execution_count": 69,
     "metadata": {},
     "output_type": "execute_result"
    }
   ],
   "source": [
    "covid_sorted[numeric].describe().round(2)"
   ]
  },
  {
   "cell_type": "markdown",
   "id": "57d4664e",
   "metadata": {},
   "source": [
    "#### Задание 3\n",
    "\n",
    "Перед тем, как выполнять данное задание, подумайте, не лучше ли будет каким-либо образом поменять существующие показатели пандемии.\n",
    "\n",
    "- как меняется соотношения типа обнаруженные / умершие и т. д. во времени (в среднемировом разрезе)?\n",
    "- если смотреть в среднемировом разрезе, как можно оценить, на какой день болезни шанс заразить кого-нибудь больше всего? Попробуйте проверить, можно ли говорить о какой-либо статистической значимости в контексте вашего ответа;\n",
    "- если смотреть в среднемировом разрезе, как можно оценить, на какой день болезни шанс умереть больше всего? Попробуйте проверить, можно ли говорить о какой-либо статистической значимости в контексте вашего ответа."
   ]
  },
  {
   "cell_type": "code",
   "execution_count": 6,
   "id": "fdb9ed76-838e-4bef-b742-2cb5613c4658",
   "metadata": {},
   "outputs": [
    {
     "data": {
      "text/html": [
       "<div>\n",
       "<style scoped>\n",
       "    .dataframe tbody tr th:only-of-type {\n",
       "        vertical-align: middle;\n",
       "    }\n",
       "\n",
       "    .dataframe tbody tr th {\n",
       "        vertical-align: top;\n",
       "    }\n",
       "\n",
       "    .dataframe thead th {\n",
       "        text-align: right;\n",
       "    }\n",
       "</style>\n",
       "<table border=\"1\" class=\"dataframe\">\n",
       "  <thead>\n",
       "    <tr style=\"text-align: right;\">\n",
       "      <th></th>\n",
       "      <th>date</th>\n",
       "      <th>country_region</th>\n",
       "      <th>province_state</th>\n",
       "      <th>confirmed</th>\n",
       "      <th>recovered</th>\n",
       "      <th>deaths</th>\n",
       "      <th>date_dt</th>\n",
       "    </tr>\n",
       "  </thead>\n",
       "  <tbody>\n",
       "    <tr>\n",
       "      <th>0</th>\n",
       "      <td>2020-01-22</td>\n",
       "      <td>Afghanistan</td>\n",
       "      <td>NaN</td>\n",
       "      <td>0</td>\n",
       "      <td>0.0</td>\n",
       "      <td>0</td>\n",
       "      <td>2020-01-22</td>\n",
       "    </tr>\n",
       "    <tr>\n",
       "      <th>1</th>\n",
       "      <td>2020-01-23</td>\n",
       "      <td>Afghanistan</td>\n",
       "      <td>NaN</td>\n",
       "      <td>0</td>\n",
       "      <td>0.0</td>\n",
       "      <td>0</td>\n",
       "      <td>2020-01-23</td>\n",
       "    </tr>\n",
       "    <tr>\n",
       "      <th>2</th>\n",
       "      <td>2020-01-24</td>\n",
       "      <td>Afghanistan</td>\n",
       "      <td>NaN</td>\n",
       "      <td>0</td>\n",
       "      <td>0.0</td>\n",
       "      <td>0</td>\n",
       "      <td>2020-01-24</td>\n",
       "    </tr>\n",
       "    <tr>\n",
       "      <th>3</th>\n",
       "      <td>2020-01-25</td>\n",
       "      <td>Afghanistan</td>\n",
       "      <td>NaN</td>\n",
       "      <td>0</td>\n",
       "      <td>0.0</td>\n",
       "      <td>0</td>\n",
       "      <td>2020-01-25</td>\n",
       "    </tr>\n",
       "    <tr>\n",
       "      <th>4</th>\n",
       "      <td>2020-01-26</td>\n",
       "      <td>Afghanistan</td>\n",
       "      <td>NaN</td>\n",
       "      <td>0</td>\n",
       "      <td>0.0</td>\n",
       "      <td>0</td>\n",
       "      <td>2020-01-26</td>\n",
       "    </tr>\n",
       "  </tbody>\n",
       "</table>\n",
       "</div>"
      ],
      "text/plain": [
       "         date country_region province_state  confirmed  recovered  deaths  \\\n",
       "0  2020-01-22    Afghanistan            NaN          0        0.0       0   \n",
       "1  2020-01-23    Afghanistan            NaN          0        0.0       0   \n",
       "2  2020-01-24    Afghanistan            NaN          0        0.0       0   \n",
       "3  2020-01-25    Afghanistan            NaN          0        0.0       0   \n",
       "4  2020-01-26    Afghanistan            NaN          0        0.0       0   \n",
       "\n",
       "     date_dt  \n",
       "0 2020-01-22  \n",
       "1 2020-01-23  \n",
       "2 2020-01-24  \n",
       "3 2020-01-25  \n",
       "4 2020-01-26  "
      ]
     },
     "execution_count": 6,
     "metadata": {},
     "output_type": "execute_result"
    }
   ],
   "source": [
    "covid_sorted.head()"
   ]
  },
  {
   "cell_type": "code",
   "execution_count": null,
   "id": "159b4597-e845-4282-9bc3-cd39b0b76b33",
   "metadata": {},
   "outputs": [],
   "source": [
    "# 7 агрегировать значения всех переменных по тем странам, где есть данные по регионам: вариант 1\n",
    "\n"
   ]
  },
  {
   "cell_type": "code",
   "execution_count": 10,
   "id": "2bf91308-3c45-4bb6-ac63-35fa836426ef",
   "metadata": {},
   "outputs": [],
   "source": [
    "# %%timeit\n",
    "# 7 агрегировать значения всех переменных по тем странам, где есть данные по регионам: вариант 1\n",
    "\n",
    "# key (date, country_region, province_state) -> (date, country_region)\n",
    "covid_agg = covid_sorted.groupby(['date', 'date_dt', 'country_region'], as_index=False)[numeric].sum()\n",
    "# covid_agg.head()"
   ]
  },
  {
   "cell_type": "code",
   "execution_count": 20,
   "id": "29f83136-f8dd-4e59-b845-545183fdc427",
   "metadata": {},
   "outputs": [
    {
     "name": "stdout",
     "output_type": "stream",
     "text": [
      "27.9 ms ± 680 µs per loop (mean ± std. dev. of 7 runs, 10 loops each)\n"
     ]
    }
   ],
   "source": [
    "# %%timeit\n",
    "# вариант 2\n",
    "unusual_countries = covid_sorted.loc[covid_sorted['province_state'].notna(), 'country_region'].unique()\n",
    "\n",
    "covid_to_agg = covid_sorted[covid_sorted['country_region'].isin(unusual_countries)]\n",
    "covid_notto_agg = covid_sorted[~covid_sorted['country_region'].isin(unusual_countries)].drop(columns=['province_state'])\n",
    "\n",
    "covid_to_agg_agg = covid_to_agg.groupby(['date', 'date_dt', 'country_region'], as_index=False)[numeric].sum()\n",
    "\n",
    "covid_agg = pd.concat([covid_to_agg_agg, covid_notto_agg], ignore_index=True)"
   ]
  },
  {
   "cell_type": "code",
   "execution_count": 11,
   "id": "fc35ddf5-6950-41af-9cf6-f274691c3bca",
   "metadata": {},
   "outputs": [
    {
     "data": {
      "text/html": [
       "<div>\n",
       "<style scoped>\n",
       "    .dataframe tbody tr th:only-of-type {\n",
       "        vertical-align: middle;\n",
       "    }\n",
       "\n",
       "    .dataframe tbody tr th {\n",
       "        vertical-align: top;\n",
       "    }\n",
       "\n",
       "    .dataframe thead th {\n",
       "        text-align: right;\n",
       "    }\n",
       "</style>\n",
       "<table border=\"1\" class=\"dataframe\">\n",
       "  <thead>\n",
       "    <tr style=\"text-align: right;\">\n",
       "      <th></th>\n",
       "      <th>date</th>\n",
       "      <th>date_dt</th>\n",
       "      <th>confirmed</th>\n",
       "      <th>recovered</th>\n",
       "      <th>deaths</th>\n",
       "      <th>confirmed_diff</th>\n",
       "      <th>recovered_diff</th>\n",
       "      <th>deaths_diff</th>\n",
       "    </tr>\n",
       "    <tr>\n",
       "      <th>date_dt</th>\n",
       "      <th></th>\n",
       "      <th></th>\n",
       "      <th></th>\n",
       "      <th></th>\n",
       "      <th></th>\n",
       "      <th></th>\n",
       "      <th></th>\n",
       "      <th></th>\n",
       "    </tr>\n",
       "  </thead>\n",
       "  <tbody>\n",
       "    <tr>\n",
       "      <th>2020-01-22</th>\n",
       "      <td>2020-01-22</td>\n",
       "      <td>2020-01-22</td>\n",
       "      <td>557</td>\n",
       "      <td>30.0</td>\n",
       "      <td>17</td>\n",
       "      <td>0.0</td>\n",
       "      <td>0.0</td>\n",
       "      <td>0.0</td>\n",
       "    </tr>\n",
       "    <tr>\n",
       "      <th>2020-01-23</th>\n",
       "      <td>2020-01-23</td>\n",
       "      <td>2020-01-23</td>\n",
       "      <td>657</td>\n",
       "      <td>32.0</td>\n",
       "      <td>18</td>\n",
       "      <td>100.0</td>\n",
       "      <td>2.0</td>\n",
       "      <td>1.0</td>\n",
       "    </tr>\n",
       "    <tr>\n",
       "      <th>2020-01-24</th>\n",
       "      <td>2020-01-24</td>\n",
       "      <td>2020-01-24</td>\n",
       "      <td>944</td>\n",
       "      <td>39.0</td>\n",
       "      <td>26</td>\n",
       "      <td>287.0</td>\n",
       "      <td>7.0</td>\n",
       "      <td>8.0</td>\n",
       "    </tr>\n",
       "    <tr>\n",
       "      <th>2020-01-25</th>\n",
       "      <td>2020-01-25</td>\n",
       "      <td>2020-01-25</td>\n",
       "      <td>1437</td>\n",
       "      <td>42.0</td>\n",
       "      <td>42</td>\n",
       "      <td>493.0</td>\n",
       "      <td>3.0</td>\n",
       "      <td>16.0</td>\n",
       "    </tr>\n",
       "    <tr>\n",
       "      <th>2020-01-26</th>\n",
       "      <td>2020-01-26</td>\n",
       "      <td>2020-01-26</td>\n",
       "      <td>2120</td>\n",
       "      <td>56.0</td>\n",
       "      <td>56</td>\n",
       "      <td>683.0</td>\n",
       "      <td>14.0</td>\n",
       "      <td>14.0</td>\n",
       "    </tr>\n",
       "  </tbody>\n",
       "</table>\n",
       "</div>"
      ],
      "text/plain": [
       "                  date    date_dt  confirmed  recovered  deaths  \\\n",
       "date_dt                                                           \n",
       "2020-01-22  2020-01-22 2020-01-22        557       30.0      17   \n",
       "2020-01-23  2020-01-23 2020-01-23        657       32.0      18   \n",
       "2020-01-24  2020-01-24 2020-01-24        944       39.0      26   \n",
       "2020-01-25  2020-01-25 2020-01-25       1437       42.0      42   \n",
       "2020-01-26  2020-01-26 2020-01-26       2120       56.0      56   \n",
       "\n",
       "            confirmed_diff  recovered_diff  deaths_diff  \n",
       "date_dt                                                  \n",
       "2020-01-22             0.0             0.0          0.0  \n",
       "2020-01-23           100.0             2.0          1.0  \n",
       "2020-01-24           287.0             7.0          8.0  \n",
       "2020-01-25           493.0             3.0         16.0  \n",
       "2020-01-26           683.0            14.0         14.0  "
      ]
     },
     "execution_count": 11,
     "metadata": {},
     "output_type": "execute_result"
    }
   ],
   "source": [
    "covid_world = covid_agg.groupby(['date', 'date_dt'], as_index=False)[numeric].sum()\n",
    "\n",
    "covid_world['confirmed_diff'] = covid_world['confirmed'].diff().fillna(0)\n",
    "covid_world['recovered_diff'] = covid_world['recovered'].diff().fillna(0)\n",
    "covid_world['deaths_diff'] = covid_world['deaths'].diff().fillna(0)\n",
    "\n",
    "covid_world.index = covid_world['date_dt']\n",
    "\n",
    "covid_world.head()"
   ]
  },
  {
   "cell_type": "code",
   "execution_count": null,
   "id": "3cf00573-9177-47ae-b1ca-236db99f8968",
   "metadata": {},
   "outputs": [],
   "source": [
    "# нужно перейти от накопленной суммы к приросту за день"
   ]
  },
  {
   "cell_type": "code",
   "execution_count": 32,
   "id": "e2e5bd29-52d4-4c8d-aa49-888409330b9a",
   "metadata": {},
   "outputs": [
    {
     "data": {
      "image/png": "[encoded data removed]",
      "text/plain": [
       "<Figure size 640x480 with 1 Axes>"
      ]
     },
     "metadata": {},
     "output_type": "display_data"
    }
   ],
   "source": [
    "covid_world['confirmed_diff'].plot.line();"
   ]
  },
  {
   "cell_type": "code",
   "execution_count": 37,
   "id": "462939ea-9160-4973-8e20-c198d4009151",
   "metadata": {},
   "outputs": [
    {
     "data": {
      "image/png": "[encoded data removed]",
      "text/plain": [
       "<Figure size 640x480 with 1 Axes>"
      ]
     },
     "metadata": {},
     "output_type": "display_data"
    }
   ],
   "source": [
    "# как меняется соотношения типа обнаруженные / умершие и т. д. во времени (в среднемировом разрезе)?\n",
    "\n",
    "(covid_world['deaths_diff'] / covid_world['confirmed_diff']).plot.line();"
   ]
  },
  {
   "cell_type": "code",
   "execution_count": 35,
   "id": "fce1befc-138b-456d-94a4-a38e02386517",
   "metadata": {},
   "outputs": [
    {
     "data": {
      "text/plain": [
       "0   NaN\n",
       "1   NaN\n",
       "2   NaN\n",
       "3   NaN\n",
       "4   NaN\n",
       "5   NaN\n",
       "dtype: float64"
      ]
     },
     "execution_count": 35,
     "metadata": {},
     "output_type": "execute_result"
    }
   ],
   "source": [
    "pd.Series([0, 1, 2], index=[0, 1, 2]) - pd.Series([0, 1, 2], index=[3, 4, 5])"
   ]
  },
  {
   "cell_type": "code",
   "execution_count": 36,
   "id": "dd134172-df24-497c-8188-35f8b65cdbaa",
   "metadata": {},
   "outputs": [
    {
     "data": {
      "text/plain": [
       "array([0, 0, 0])"
      ]
     },
     "execution_count": 36,
     "metadata": {},
     "output_type": "execute_result"
    }
   ],
   "source": [
    "pd.Series([0, 1, 2], index=[0, 1, 2]).values - pd.Series([0, 1, 2], index=[3, 4, 5]).values"
   ]
  },
  {
   "cell_type": "markdown",
   "id": "7d5153c5-91f1-497b-b9ce-0fe7c1884154",
   "metadata": {},
   "source": [
    "если смотреть в среднемировом разрезе, как можно оценить, на какой день болезни шанс умереть больше всего? Попробуйте проверить, можно ли говорить о какой-либо статистической значимости в контексте вашего ответа."
   ]
  },
  {
   "cell_type": "code",
   "execution_count": null,
   "id": "02223c8e-2992-4b3e-9485-60634e32cfa4",
   "metadata": {},
   "outputs": [],
   "source": [
    "X ... симптомы ... госпитализация ... выздоровление"
   ]
  },
  {
   "cell_type": "code",
   "execution_count": null,
   "id": "3883e795-06b6-4f47-bc31-4b262e7efb33",
   "metadata": {},
   "outputs": [],
   "source": [
    "# измерить взаимосвязь между приростом заболевших (с лагом N) и умерших"
   ]
  },
  {
   "cell_type": "code",
   "execution_count": 12,
   "id": "cb42dff3-8087-4617-a281-e19f39b1bb8b",
   "metadata": {},
   "outputs": [],
   "source": [
    "lags = [*range(51)]\n",
    "coefs = []\n",
    "\n",
    "for lag in lags:\n",
    "    confirmed_shifted = covid_world['confirmed_diff'].shift(lag).fillna(0).values\n",
    "    coef = np.corrcoef(confirmed_shifted, covid_world['deaths_diff'].values)[0, 1]\n",
    "\n",
    "    coefs.append(coef)"
   ]
  },
  {
   "cell_type": "code",
   "execution_count": 13,
   "id": "8b0a9c4e-e9d7-4c08-9ef6-de22c32f1a93",
   "metadata": {},
   "outputs": [
    {
     "data": {
      "image/png": "[encoded data removed]",
      "text/plain": [
       "<Figure size 640x480 with 1 Axes>"
      ]
     },
     "metadata": {},
     "output_type": "display_data"
    }
   ],
   "source": [
    "import matplotlib.pyplot as plt\n",
    "\n",
    "fig, ax = plt.subplots()\n",
    "\n",
    "ax.plot(lags, coefs);"
   ]
  },
  {
   "cell_type": "code",
   "execution_count": 14,
   "id": "4914dcc8-eafb-4243-9fb3-66466b9cffdc",
   "metadata": {},
   "outputs": [
    {
     "data": {
      "text/plain": [
       "14"
      ]
     },
     "execution_count": 14,
     "metadata": {},
     "output_type": "execute_result"
    }
   ],
   "source": [
    "np.array(coefs).argmax()"
   ]
  },
  {
   "cell_type": "code",
   "execution_count": 15,
   "id": "f243411f-7f4c-4e3b-8725-cc4e38e3c0a2",
   "metadata": {},
   "outputs": [
    {
     "data": {
      "text/plain": [
       "0.30937864295218315"
      ]
     },
     "execution_count": 15,
     "metadata": {},
     "output_type": "execute_result"
    }
   ],
   "source": [
    "np.corrcoef(covid_world['confirmed_diff'].values, covid_world['deaths_diff'].values)[0, 1]"
   ]
  },
  {
   "cell_type": "code",
   "execution_count": null,
   "id": "87f98e4a-7945-4b6c-9b61-978d340a88dc",
   "metadata": {},
   "outputs": [],
   "source": [
    "# H0: взаимосвязи нет, корреляция случайна\n",
    "# необходимо найти распределение корреляций как если бы нулевая гипотеза была верна\n",
    "\n",
    "# вектор 1 фиксируем\n",
    "# вектор 2 перемешиваем случайным образом\n",
    "# считаем коэффициент корреляция\n",
    "# повторяем много"
   ]
  },
  {
   "cell_type": "code",
   "execution_count": 19,
   "id": "df9d7c1f-03e0-4e80-a93a-8a9cde368b3a",
   "metadata": {},
   "outputs": [],
   "source": [
    "def simulate_cor(vector1, vector2):\n",
    "    vector2_p = np.random.permutation(vector2)\n",
    "\n",
    "    return np.corrcoef(vector1, vector2_p)[0, 1]\n",
    "\n",
    "N = 100000\n",
    "\n",
    "random_coefs = np.array(\n",
    "    [\n",
    "        simulate_cor(covid_world['confirmed_diff'].shift(14, fill_value=0).values, covid_world['deaths_diff'].values)\n",
    "        for i\n",
    "        in range(N)\n",
    "    ]\n",
    ")"
   ]
  },
  {
   "cell_type": "code",
   "execution_count": 20,
   "id": "044c51d4-d88b-4583-a2d6-9289575c66fb",
   "metadata": {},
   "outputs": [
    {
     "data": {
      "image/png": "[encoded data removed]",
      "text/plain": [
       "<Figure size 640x480 with 1 Axes>"
      ]
     },
     "metadata": {},
     "output_type": "display_data"
    }
   ],
   "source": [
    "import matplotlib.pyplot as plt\n",
    "\n",
    "fig, ax = plt.subplots()\n",
    "\n",
    "ax.hist(random_coefs, bins=100, edgecolor='black');"
   ]
  },
  {
   "cell_type": "code",
   "execution_count": 21,
   "id": "5d0a7613-12b4-4a72-a47b-9968eb2a77aa",
   "metadata": {},
   "outputs": [
    {
     "data": {
      "text/plain": [
       "0.33347777103125126"
      ]
     },
     "execution_count": 21,
     "metadata": {},
     "output_type": "execute_result"
    }
   ],
   "source": [
    "np.corrcoef(covid_world['confirmed_diff'].shift(14, fill_value=0).values, covid_world['deaths_diff'].values)[0, 1]"
   ]
  },
  {
   "cell_type": "markdown",
   "id": "485765fc-117d-4bcf-a8d8-8dd469723f74",
   "metadata": {},
   "source": [
    "#### Задание 4\n",
    "\n",
    "Изобразите распределение всех трех показателей прироста с помощью:\n",
    "\n",
    "1. Гистограммы\n",
    "2. Ящика с усами (boxplot)\n",
    "3. Функции распределения\n",
    "\n",
    "На одном графике.\n",
    "\n",
    "Повторите то же самое для логарифмированных показателей."
   ]
  },
  {
   "cell_type": "code",
   "execution_count": 51,
   "id": "2e8117d3-eb0b-4197-a9f9-12b2192f0aa7",
   "metadata": {},
   "outputs": [],
   "source": [
    "def country_diff(minidf: pd.DataFrame) -> pd.DataFrame:\n",
    "    minidf = minidf.sort_values(by='date_dt')  # create new minidf\n",
    "\n",
    "    for col in numeric:\n",
    "        minidf[f'{col}_delta'] = minidf[col].diff().fillna(0)\n",
    "        minidf.loc[minidf[f'{col}_delta'] < 0, f'{col}_delta'] = 0\n",
    "\n",
    "    return minidf\n",
    "\n",
    "covid_delta = covid_agg.groupby(['country_region'], as_index=False).apply(country_diff).reset_index(drop=True)\n",
    "\n",
    "for col in numeric:\n",
    "    covid_delta[f'{col}_delta'] = np.log(covid_delta[f'{col}_delta'].values + 1)"
   ]
  },
  {
   "cell_type": "code",
   "execution_count": 32,
   "id": "089fc039-c593-4017-98fb-eaf2a401cc4b",
   "metadata": {},
   "outputs": [],
   "source": [
    "import matplotlib.pyplot as plt"
   ]
  },
  {
   "cell_type": "code",
   "execution_count": 52,
   "id": "be7a831b-eebd-474d-8754-a37e5a5c8c1d",
   "metadata": {},
   "outputs": [
    {
     "data": {
      "image/png": "[encoded data removed]",
      "text/plain": [
       "<Figure size 640x480 with 1 Axes>"
      ]
     },
     "metadata": {},
     "output_type": "display_data"
    }
   ],
   "source": [
    "fig, ax = plt.subplots()\n",
    "\n",
    "ax.hist(covid_delta['confirmed_delta'], bins=20, edgecolor='black');"
   ]
  },
  {
   "cell_type": "code",
   "execution_count": 45,
   "id": "8bab79e7-2d92-439d-bd54-7b8bcfcec0c4",
   "metadata": {},
   "outputs": [
    {
     "data": {
      "text/plain": [
       "['confirmed', 'recovered', 'deaths']"
      ]
     },
     "execution_count": 45,
     "metadata": {},
     "output_type": "execute_result"
    }
   ],
   "source": [
    "numeric"
   ]
  },
  {
   "cell_type": "code",
   "execution_count": 69,
   "id": "bc34a8a2-a73f-4f11-958e-c09674a50aff",
   "metadata": {},
   "outputs": [
    {
     "data": {
      "image/png": "[encoded data removed]",
      "text/plain": [
       "<Figure size 1200x800 with 9 Axes>"
      ]
     },
     "metadata": {},
     "output_type": "display_data"
    }
   ],
   "source": [
    "fig, axes = plt.subplots(3, 3, figsize=(12, 8))\n",
    "\n",
    "for index in range(len(numeric)):\n",
    "    column_name = numeric[index] + '_delta'\n",
    "\n",
    "    column_mean = covid_delta[column_name].mean()\n",
    "    column_median = covid_delta[column_name].median()\n",
    "\n",
    "    # histogram\n",
    "    axes[0, index].hist(covid_delta[column_name], bins=20, edgecolor='black')\n",
    "    axes[0, index].set_title(column_name)\n",
    "    \n",
    "    axes[0, index].axvline(column_mean, color='red', label='mean value')\n",
    "    axes[0, index].axvline(column_median, color='orange', linestyle='dashed', label='median value')\n",
    "\n",
    "    if index == 2:\n",
    "        axes[0, index].legend()\n",
    "\n",
    "    if index == 0:\n",
    "        axes[0, index].set_ylabel('histogram')\n",
    "\n",
    "    # boxplot\n",
    "    axes[1, index].boxplot(covid_delta[column_name], vert=False)\n",
    "    axes[1, index].set_yticks([])\n",
    "\n",
    "    if index == 0:\n",
    "        axes[1, index].set_ylabel('boxplot')"
   ]
  },
  {
   "cell_type": "code",
   "execution_count": null,
   "id": "f2476d16-7efa-4e7d-a721-c915d2f30a63",
   "metadata": {},
   "outputs": [],
   "source": [
    "по оси X значения переменной (xi), а по оси Y значения F(xi)"
   ]
  },
  {
   "cell_type": "code",
   "execution_count": null,
   "id": "8f21a3bf-0248-4f2c-abfc-35d7a62fb95d",
   "metadata": {},
   "outputs": [],
   "source": []
  },
  {
   "cell_type": "code",
   "execution_count": 41,
   "id": "17656c9d-a7f1-4bf4-aa50-cea005013055",
   "metadata": {},
   "outputs": [
    {
     "data": {
      "text/plain": [
       "array([[<Axes: >, <Axes: >, <Axes: >],\n",
       "       [<Axes: >, <Axes: >, <Axes: >],\n",
       "       [<Axes: >, <Axes: >, <Axes: >]], dtype=object)"
      ]
     },
     "execution_count": 41,
     "metadata": {},
     "output_type": "execute_result"
    }
   ],
   "source": [
    "5, 6, 1, -8, 0\n",
    "\n",
    "-8, 0, 1, 5, 6"
   ]
  },
  {
   "cell_type": "code",
   "execution_count": null,
   "id": "8c961d01-4c1a-4b55-9f6c-f1026b97bf63",
   "metadata": {},
   "outputs": [],
   "source": [
    "F(1) = 0.6\n",
    "F(6) = 1\n",
    "F(-100) = 0"
   ]
  },
  {
   "cell_type": "code",
   "execution_count": null,
   "id": "442dc568-657e-4da9-b55c-f139ba3bee03",
   "metadata": {},
   "outputs": [],
   "source": [
    "F(x) = P(X <= x)"
   ]
  },
  {
   "cell_type": "markdown",
   "id": "305b4d5f-d675-416e-9d4b-17b1ae5d1fe0",
   "metadata": {},
   "source": [
    "#### Задание 5\n",
    "\n",
    "Изобразите для шести понравившихся вам стран взаимосвязь между логарифмированными показателями прироста заболевших и умерших (по графику на страну, все на одной картинке). Сделайте это тремя способами: с помощью `matplotlib`, `seaborn` и `plotly`."
   ]
  },
  {
   "cell_type": "code",
   "execution_count": 25,
   "id": "53e952d5-f291-443c-846e-101f04f2762b",
   "metadata": {},
   "outputs": [],
   "source": [
    "def country_diff(minidf: pd.DataFrame) -> pd.DataFrame:\n",
    "    minidf = minidf.sort_values(by='date_dt')  # create new minidf\n",
    "\n",
    "    for col in numeric:\n",
    "        minidf[f'{col}_delta'] = minidf[col].diff().fillna(0)\n",
    "\n",
    "    return minidf"
   ]
  },
  {
   "cell_type": "code",
   "execution_count": 28,
   "id": "a1fa6322-7268-40aa-9eaa-de08bd5807cc",
   "metadata": {},
   "outputs": [],
   "source": [
    "covid_delta = covid_agg.groupby(['country_region'], as_index=False).apply(country_diff).reset_index(drop=True)"
   ]
  }
 ],
 "metadata": {
  "kernelspec": {
   "display_name": "Python 3 (ipykernel)",
   "language": "python",
   "name": "python3"
  },
  "language_info": {
   "codemirror_mode": {
    "name": "ipython",
    "version": 3
   },
   "file_extension": ".py",
   "mimetype": "text/x-python",
   "name": "python",
   "nbconvert_exporter": "python",
   "pygments_lexer": "ipython3",
   "version": "3.11.5"
  }
 },
 "nbformat": 4,
 "nbformat_minor": 5
}
