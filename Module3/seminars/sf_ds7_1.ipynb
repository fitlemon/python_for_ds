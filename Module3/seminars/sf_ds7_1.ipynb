{
 "cells": [
  {
   "cell_type": "markdown",
   "id": "87dec23c",
   "metadata": {},
   "source": [
    "# Программирование на Python\n",
    "## Семинар 7. Python для анализа данных\n",
    "**Data source:** https://www.kaggle.com/datasets/spscientist/students-performance-in-exams.\n",
    "\n",
    "**Columns:**\n",
    "- `gender` (binary variable);\n",
    "- `race/ethnicity` (categorical variable);\n",
    "- `parental level of education` (categorical variable, student's parents' level of education);\n",
    "- `lunch` (categorical variable, quality of student's lunch);\n",
    "- `test preparation course` (categorical variable, whether student managed to complete preparation course for the test);\n",
    "- `math score` (numeric variable, score for Math test);\n",
    "- `reading score` (numeric variable, score for Reading part);\n",
    "- `writing score` (numeric variable, score for Writing part).\n",
    "\n",
    "#### Задание 1\n",
    "Загрузите файл StudentsPerformance.csv используя модуль `csv` и возможности модуля `collections`. Не забудьте о том, что для удобства числовые типы данных будет удобнее привести сразу. На выходе должен получиться словарь с ключами-названиями колонок и значениями-колонками."
   ]
  },
  {
   "cell_type": "code",
   "execution_count": 1,
   "id": "1346b1da-4cf9-401b-9a45-3a0e4c720350",
   "metadata": {},
   "outputs": [],
   "source": [
    "import csv\n",
    "from collections import defaultdict\n",
    "\n",
    "path = '../Занятие 1/StudentsPerformance.csv'\n",
    "data = defaultdict(list)\n",
    "\n",
    "int_cols = ['math score', 'reading score', 'writing score']\n",
    "\n",
    "with open(path, mode='r', newline='') as file:\n",
    "    csvfile = csv.DictReader(file, delimiter=',')\n",
    "\n",
    "    for line in csvfile:\n",
    "        for key, value in line.items():\n",
    "            if key in int_cols:\n",
    "                data[key].append(int(value))\n",
    "            else:\n",
    "                data[key].append(value)"
   ]
  },
  {
   "cell_type": "markdown",
   "id": "97e1ebf8-c656-49b9-bd09-9a379b7a2263",
   "metadata": {},
   "source": [
    "#### Задание 2\n",
    "Напишите функцию `show`, которая будет выводить название и первые `n` значений каждой колонки в виде таблицы."
   ]
  },
  {
   "cell_type": "code",
   "execution_count": null,
   "id": "7fa04084-e76f-466f-94c4-b47ea150171e",
   "metadata": {},
   "outputs": [],
   "source": [
    "# наш код здесь"
   ]
  },
  {
   "cell_type": "markdown",
   "id": "904d8564-3373-4690-b22a-1b7c26fac7df",
   "metadata": {},
   "source": [
    "#### Задание 3\n",
    "Подготовка и анализ данных почти всегда подразумевают изпользование таких pipeline'ов, как \"group->aggregate\" и \"group->apply\". Имеется в виду, что значения переменной X делятся на группы по значениям переменной Y, и над этими группами производятся различные операции. Реализуйте следующие функции:\n",
    "\n",
    "- `group`: принимает на вход векторы X и Y и возвращает словарь, в котором ключами являются уникальные значения переменной Y, а значениями - списки соответствующих значений переменной X;\n",
    "- `aggregate`: принимает на вход словарь, возвращаемый функцией `group`, а также функцию `fun`, которая должна быть применена к каждому его значению. Возвращаться должен словарь, состоящий из тех же ключей и значений-результатов применения функции `fun`."
   ]
  },
  {
   "cell_type": "code",
   "execution_count": 2,
   "id": "897c9569-f89e-4430-9b5f-29dc699874fe",
   "metadata": {},
   "outputs": [
    {
     "data": {
      "text/plain": [
       "[72, 69, 90, 47, 76, 71, 88, 40, 64, 38]"
      ]
     },
     "execution_count": 2,
     "metadata": {},
     "output_type": "execute_result"
    }
   ],
   "source": [
    "data['math score'][:10]"
   ]
  },
  {
   "cell_type": "code",
   "execution_count": 3,
   "id": "9c78ad52-426a-48c8-b42a-a452f91d81a7",
   "metadata": {},
   "outputs": [
    {
     "data": {
      "text/plain": [
       "['none',\n",
       " 'completed',\n",
       " 'none',\n",
       " 'none',\n",
       " 'none',\n",
       " 'none',\n",
       " 'completed',\n",
       " 'none',\n",
       " 'completed',\n",
       " 'none']"
      ]
     },
     "execution_count": 3,
     "metadata": {},
     "output_type": "execute_result"
    }
   ],
   "source": [
    "data['test preparation course'][:10]"
   ]
  },
  {
   "cell_type": "code",
   "execution_count": 8,
   "id": "415e837e-29bf-4fb2-9ab4-49408edf487f",
   "metadata": {},
   "outputs": [],
   "source": [
    "from statistics import mean\n",
    "\n",
    "def group(vector, grouping):\n",
    "    grouped = defaultdict(list)\n",
    "    \n",
    "    for v, g in zip(vector, grouping):\n",
    "        grouped[g].append(v)\n",
    "\n",
    "    return grouped\n",
    "\n",
    "def aggregate(grouped, fun):\n",
    "    aggregated = {key: fun(value) for key, value in grouped.items()}\n",
    "\n",
    "    return aggregated"
   ]
  },
  {
   "cell_type": "code",
   "execution_count": 9,
   "id": "9fa7e695-085d-4bb8-bfaf-fc423fbd8b94",
   "metadata": {},
   "outputs": [
    {
     "data": {
      "text/plain": [
       "{'none': 64.0778816199377, 'completed': 69.69553072625699}"
      ]
     },
     "execution_count": 9,
     "metadata": {},
     "output_type": "execute_result"
    }
   ],
   "source": [
    "math_grouped_by_cource = group(data['math score'], data['test preparation course'])\n",
    "aggregate(math_grouped_by_cource, mean)"
   ]
  },
  {
   "cell_type": "markdown",
   "id": "c09ce39b-a496-4543-9fb6-3b7661b4518e",
   "metadata": {},
   "source": [
    "#### Задание 4\n",
    "Выдвините гипотезы о взаимодействии числовой и категориальной переменных и протестируйте их используя подготовленные вами функции."
   ]
  },
  {
   "cell_type": "code",
   "execution_count": 10,
   "id": "e7211156-522b-4967-9a42-e5125c2c5118",
   "metadata": {},
   "outputs": [],
   "source": [
    "from collections import Counter"
   ]
  },
  {
   "cell_type": "code",
   "execution_count": null,
   "id": "c5e2cdd4-7a2d-45d7-bd48-f6f2782cbbc2",
   "metadata": {},
   "outputs": [],
   "source": [
    "# I1: как связаны race и успеваемость\n",
    "\n",
    "# переменные:\n",
    "# race/ethnicity - категория\n",
    "# _ score - числовая переменная\n",
    "\n",
    "# "
   ]
  },
  {
   "cell_type": "code",
   "execution_count": 11,
   "id": "620757f7-8633-47c4-8de0-6c52e2ea178d",
   "metadata": {},
   "outputs": [
    {
     "data": {
      "text/plain": [
       "Counter({'group C': 319,\n",
       "         'group D': 262,\n",
       "         'group B': 190,\n",
       "         'group E': 140,\n",
       "         'group A': 89})"
      ]
     },
     "execution_count": 11,
     "metadata": {},
     "output_type": "execute_result"
    }
   ],
   "source": [
    "# race/ethnicity\n",
    "Counter(data['race/ethnicity'])"
   ]
  },
  {
   "cell_type": "code",
   "execution_count": 12,
   "id": "efa36d9d-703f-44f4-b832-d0c90966f5ed",
   "metadata": {},
   "outputs": [
    {
     "name": "stdout",
     "output_type": "stream",
     "text": [
      "For column math score metric min is 0, mean is 66.089 max is 100.\n",
      "For column reading score metric min is 17, mean is 69.169 max is 100.\n",
      "For column writing score metric min is 10, mean is 68.054 max is 100.\n"
     ]
    }
   ],
   "source": [
    "# _ score\n",
    "for col in int_cols:\n",
    "    col_mean = mean(data[col])\n",
    "    col_min = min(data[col])\n",
    "    col_max = max(data[col])\n",
    "\n",
    "    print(f'For column {col} metric min is {col_min}, mean is {col_mean} max is {col_max}.')"
   ]
  },
  {
   "cell_type": "code",
   "execution_count": 19,
   "id": "3b3eaaad-11b4-4c11-9563-c5a570928beb",
   "metadata": {},
   "outputs": [
    {
     "name": "stdout",
     "output_type": "stream",
     "text": [
      "Comparison for variable col math score: {'group A': 62, 'group B': 63, 'group C': 64, 'group D': 67, 'group E': 74}\n",
      "Comparison for variable col reading score: {'group A': 65, 'group B': 67, 'group C': 69, 'group D': 70, 'group E': 73}\n",
      "Comparison for variable col writing score: {'group A': 63, 'group B': 66, 'group C': 68, 'group D': 70, 'group E': 71}\n"
     ]
    }
   ],
   "source": [
    "for col in int_cols:\n",
    "    col_grouped_by_race = group(data[col], data['race/ethnicity'])\n",
    "    print(f'Comparison for variable col {col}:', end=' ')\n",
    "    agg = {key: round(value) for key, value in aggregate(col_grouped_by_race, mean).items()}\n",
    "    agg_sorted = dict(sorted(agg.items(), key=lambda item: item[1]))\n",
    "    print(agg_sorted)"
   ]
  },
  {
   "cell_type": "code",
   "execution_count": 17,
   "id": "323b720d-1f6b-4a0d-9f79-e27eddef783a",
   "metadata": {},
   "outputs": [
    {
     "data": {
      "text/plain": [
       "['group A', 'group B', 'group C', 'group D', 'group E']"
      ]
     },
     "execution_count": 17,
     "metadata": {},
     "output_type": "execute_result"
    }
   ],
   "source": [
    "sorted(agg)"
   ]
  }
 ],
 "metadata": {
  "kernelspec": {
   "display_name": "Python 3 (ipykernel)",
   "language": "python",
   "name": "python3"
  },
  "language_info": {
   "codemirror_mode": {
    "name": "ipython",
    "version": 3
   },
   "file_extension": ".py",
   "mimetype": "text/x-python",
   "name": "python",
   "nbconvert_exporter": "python",
   "pygments_lexer": "ipython3",
   "version": "3.11.5"
  }
 },
 "nbformat": 4,
 "nbformat_minor": 5
}
