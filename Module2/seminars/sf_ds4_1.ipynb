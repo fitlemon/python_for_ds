{
 "cells": [
  {
   "cell_type": "markdown",
   "id": "87dec23c",
   "metadata": {},
   "source": [
    "# Программирование на Python\n",
    "## Семинар 3. Повторение основ\n",
    "#### Задача с прошлого занятия\n",
    "Мы хотим автоматизировать процесс перекладки текстовых файлов с данными из хранилища в БД (Postgres). Предположим, что таблицы каждый раз разные. Соответственно, перед записью данных необходимо создать таблицу. Это можно сделать примерно так:\n",
    "\n",
    "```\n",
    "CREATE TABLE distributors (\n",
    "    did integer,\n",
    "    name varchar(40)\n",
    ");\n",
    "```\n",
    "\n",
    "PostgreSQL [располагает](https://www.postgresql.org/docs/current/datatype.html) следующими типами данных (это не все, что есть, но все, что нам сейчас пригодится):\n",
    "\n",
    "<table>\n",
    "    <tr>\n",
    "        <th>Python</th>\n",
    "        <th>PostgreSQL</th>\n",
    "    </tr>\n",
    "    <tr>\n",
    "        <td>int</td>\n",
    "        <td>smallint, integer, bigint</td>\n",
    "    </tr>\n",
    "    <tr>\n",
    "        <td>float</td>\n",
    "        <td>real</td>\n",
    "    </tr>\n",
    "    <tr>\n",
    "        <td>bool</td>\n",
    "        <td>boolean</td>\n",
    "    </tr>\n",
    "    <tr>\n",
    "        <td>str</td>\n",
    "        <td>varchar, text</td>\n",
    "    </tr>\n",
    "</table>\n",
    "\n",
    "Реализуйте соответствующую функцию. Она должна иметь следующие аргументы:\n",
    "\n",
    "- `filename` (строка) - путь к текстовому файлу;\n",
    "- `sep` (строка, по дефолту для CSV) - разделитель;\n",
    "- `tablename` (строка, по дефолту соответствует названию файла без расширения);\n",
    "- `varnames` (либо должны быть предоставлены в виде списка, либо добываются из данных если `None`);\n",
    "- `dtypes` (либо должны быть предоставлены в виде списка, либо добываются из данных если `None`).\n",
    "\n",
    "Функция должна записывать получившийся скрипт в файл 'create_table.sql' и возвращать путь к этому файлу."
   ]
  },
  {
   "cell_type": "code",
   "execution_count": null,
   "id": "e1e7b51c-04f2-40db-85b1-fa5862053830",
   "metadata": {},
   "outputs": [],
   "source": [
    "# надо проверять на bool\n",
    "# надо проверять на int -> smallint, integer, bigint\n",
    "# надо проверять на float\n",
    "# все, что осталось в строки"
   ]
  },
  {
   "cell_type": "code",
   "execution_count": 55,
   "id": "e03e8f7b-ff17-4fb7-8ee1-c4a02984753d",
   "metadata": {},
   "outputs": [],
   "source": [
    "big_list = list(range(100000))\n",
    "big_set = set(range(100000))"
   ]
  },
  {
   "cell_type": "code",
   "execution_count": 56,
   "id": "43b16627-bbc5-4e34-9564-0324a01d567e",
   "metadata": {},
   "outputs": [
    {
     "name": "stdout",
     "output_type": "stream",
     "text": [
      "743 µs ± 46.9 µs per loop (mean ± std. dev. of 7 runs, 1,000 loops each)\n"
     ]
    }
   ],
   "source": [
    "%%timeit\n",
    "\n",
    "_ = 50000 in big_list"
   ]
  },
  {
   "cell_type": "code",
   "execution_count": 57,
   "id": "7195ef20-7e30-4677-a6b9-d1f8d0ce6fad",
   "metadata": {},
   "outputs": [
    {
     "name": "stdout",
     "output_type": "stream",
     "text": [
      "56.1 ns ± 3.53 ns per loop (mean ± std. dev. of 7 runs, 10,000,000 loops each)\n"
     ]
    }
   ],
   "source": [
    "%%timeit\n",
    "\n",
    "_ = 50000 in big_set"
   ]
  },
  {
   "cell_type": "code",
   "execution_count": 58,
   "id": "cf189471-9d0a-4612-96b3-a64988eb3a4e",
   "metadata": {},
   "outputs": [
    {
     "data": {
      "text/plain": [
       "True"
      ]
     },
     "execution_count": 58,
     "metadata": {},
     "output_type": "execute_result"
    }
   ],
   "source": [
    "all([True, True])"
   ]
  },
  {
   "cell_type": "code",
   "execution_count": 59,
   "id": "aa535603-69f9-4e5d-af58-99272bb5ae15",
   "metadata": {},
   "outputs": [
    {
     "data": {
      "text/plain": [
       "True"
      ]
     },
     "execution_count": 59,
     "metadata": {},
     "output_type": "execute_result"
    }
   ],
   "source": [
    "all([1, 1])"
   ]
  },
  {
   "cell_type": "code",
   "execution_count": 43,
   "id": "5d98630f-2429-46d7-9fd2-25317c6f52d6",
   "metadata": {},
   "outputs": [],
   "source": [
    "some_zip = zip(cnames, dts)"
   ]
  },
  {
   "cell_type": "code",
   "execution_count": 27,
   "id": "a88911fa-b22c-4bd6-919a-b00f80070729",
   "metadata": {},
   "outputs": [
    {
     "data": {
      "text/plain": [
       "<zip at 0x22b6a3ee640>"
      ]
     },
     "execution_count": 27,
     "metadata": {},
     "output_type": "execute_result"
    }
   ],
   "source": [
    "some_zip"
   ]
  },
  {
   "cell_type": "code",
   "execution_count": 28,
   "id": "1a4e3039-4c0f-46b1-bb64-cb490576c51e",
   "metadata": {},
   "outputs": [],
   "source": [
    "some_zip_iter = iter(some_zip)"
   ]
  },
  {
   "cell_type": "code",
   "execution_count": 37,
   "id": "9c33d143-7018-4b70-b8b2-9dff80187c1d",
   "metadata": {},
   "outputs": [
    {
     "ename": "StopIteration",
     "evalue": "",
     "output_type": "error",
     "traceback": [
      "\u001b[1;31m---------------------------------------------------------------------------\u001b[0m",
      "\u001b[1;31mStopIteration\u001b[0m                             Traceback (most recent call last)",
      "Cell \u001b[1;32mIn[37], line 1\u001b[0m\n\u001b[1;32m----> 1\u001b[0m \u001b[38;5;28;43mnext\u001b[39;49m\u001b[43m(\u001b[49m\u001b[43msome_zip_iter\u001b[49m\u001b[43m)\u001b[49m\n",
      "\u001b[1;31mStopIteration\u001b[0m: "
     ]
    }
   ],
   "source": [
    "next(some_zip_iter)"
   ]
  },
  {
   "cell_type": "code",
   "execution_count": 44,
   "id": "cb17b2e9-2a04-4fa9-aec8-2056bd62b5be",
   "metadata": {},
   "outputs": [
    {
     "name": "stdout",
     "output_type": "stream",
     "text": [
      "dtype for column gender is text\n",
      "dtype for column race/ethnicity is text\n",
      "dtype for column parental level of education is text\n",
      "dtype for column lunch is text\n",
      "dtype for column test preparation course is text\n",
      "dtype for column math score is integer\n",
      "dtype for column reading score is integer\n",
      "dtype for column writing score is integer\n"
     ]
    }
   ],
   "source": [
    "for n, d in some_zip:\n",
    "    print(f'dtype for column {n} is {d}')"
   ]
  },
  {
   "cell_type": "code",
   "execution_count": 41,
   "id": "554f0572-7c0d-4c13-b3d7-a3401c952961",
   "metadata": {},
   "outputs": [
    {
     "data": {
      "text/plain": [
       "<zip at 0x22b6a3a8780>"
      ]
     },
     "execution_count": 41,
     "metadata": {},
     "output_type": "execute_result"
    }
   ],
   "source": [
    "some_zip"
   ]
  },
  {
   "cell_type": "code",
   "execution_count": 56,
   "id": "23721b76-d0d1-4b46-b344-4c972397e9c4",
   "metadata": {},
   "outputs": [],
   "source": [
    "import re\n",
    "\n",
    "# {0,1} == ?\n",
    "# {0,} == *\n",
    "# {1,} == +\n",
    "\n",
    "trash_symbols = '\" \\n'\n",
    "pattern_int = re.compile('-{0,1}\\d+')\n",
    "pattern_float = re.compile('-{0,1}\\d*\\.\\d*')\n",
    "template = 'CREATE TABLE {tablename} (\\n{pairs}\\n);'\n",
    "\n",
    "def check_dtype(vector, fun) -> bool:\n",
    "    # strict rule\n",
    "    return all(fun(elem) for elem in vector)\n",
    "\n",
    "def check_int(value: str) -> bool:\n",
    "    return pattern_int.fullmatch(value) is not None\n",
    "\n",
    "def check_float(value: str) -> bool:\n",
    "    return pattern_float.fullmatch(value) is not None\n",
    "\n",
    "def check_bool(value: str) -> bool:\n",
    "    return value.lower() in {'true', 'false'}\n",
    "\n",
    "def guess_type(vector) -> str:\n",
    "    if check_dtype(vector, check_bool):\n",
    "        return 'boolean'\n",
    "    elif check_dtype(vector, check_int):\n",
    "        return 'integer'\n",
    "    elif check_dtype(vector, check_float):\n",
    "        return 'float'\n",
    "    else:\n",
    "        return 'text'\n",
    "\n",
    "def tablename_from_path(path):\n",
    "    slash_index = path.rfind('/')\n",
    "    dot_index = path.rfind('.')\n",
    "\n",
    "    return path[slash_index + 1:dot_index]\n",
    "\n",
    "def sql_from_file(\n",
    "    filename: str,\n",
    "    fileoutname: str,\n",
    "    sep=',',  # sep: str = ','\n",
    "    tablename=None,\n",
    "    varnames=None,\n",
    "    dtypes=None\n",
    ") -> str:\n",
    "    # read file\n",
    "    with open(filename, 'r') as file:  # file = open(path, 'r')\n",
    "        lines = []\n",
    "        \n",
    "        for line in file:  # iter(file) -> next\n",
    "            line_split = line.split(sep)\n",
    "            line_clean = [elem.strip(trash_symbols) for elem in line_split]\n",
    "            \n",
    "            lines.append(line_clean)\n",
    "\n",
    "    # guess tablename\n",
    "    if tablename is None:\n",
    "        tablename = tablename_from_path(filename)\n",
    "\n",
    "    # guess varnames\n",
    "    if varnames is None:\n",
    "        varnames = lines[0].copy()  # list(lines[0])\n",
    "\n",
    "    # transpose lines\n",
    "    lines_t = zip(*lines[1:])\n",
    "    \n",
    "    # guess dtypes\n",
    "    if dtypes is None:\n",
    "        dtypes = [guess_type(v) for v in lines_t]\n",
    "\n",
    "    # create sql-request\n",
    "    pairs = ',\\n'.join([f'    \"{name}\" {dtype}' for name, dtype in zip(varnames, dtypes)])\n",
    "    sql_request = template.format(tablename=tablename, pairs=pairs)\n",
    "\n",
    "    # write sql-request\n",
    "    with open(fileoutname, 'w') as file:\n",
    "        file.write(sql_request)\n",
    "\n",
    "    return fileoutname"
   ]
  },
  {
   "cell_type": "code",
   "execution_count": 57,
   "id": "5d3ed30e-b3f8-498e-b54b-f1cc6d7ddd8d",
   "metadata": {},
   "outputs": [],
   "source": [
    "path = '../Занятие 1/StudentsPerformance.csv'\n",
    "sqlpath = 'create_table.sql'\n",
    "\n",
    "_ = sql_from_file(\n",
    "    path,\n",
    "    sqlpath\n",
    ")"
   ]
  },
  {
   "cell_type": "code",
   "execution_count": 50,
   "id": "487f1dcc-e819-4d55-8550-6e04d9f8865f",
   "metadata": {},
   "outputs": [],
   "source": [
    "pairs = ',\\n'.join([f'    \"{name}\" {dtype}' for name, dtype in zip(cnames, dts)])"
   ]
  },
  {
   "cell_type": "code",
   "execution_count": 52,
   "id": "167712cc-1e4c-47e6-82d3-102809d74293",
   "metadata": {},
   "outputs": [
    {
     "name": "stdout",
     "output_type": "stream",
     "text": [
      "CREATE TABLE StudentsPerformance (\n",
      "    \"gender\" text,\n",
      "    \"race/ethnicity\" text,\n",
      "    \"parental level of education\" text,\n",
      "    \"lunch\" text,\n",
      "    \"test preparation course\" text,\n",
      "    \"math score\" integer,\n",
      "    \"reading score\" integer,\n",
      "    \"writing score\" integer\n",
      ");\n"
     ]
    }
   ],
   "source": [
    "template = 'CREATE TABLE {tablename} (\\n{pairs}\\n);'\n",
    "print(template.format(tablename=tname, pairs=pairs))"
   ]
  },
  {
   "cell_type": "code",
   "execution_count": null,
   "id": "0d1d4142-ede2-4520-8c48-6dfd2a747031",
   "metadata": {},
   "outputs": [],
   "source": []
  },
  {
   "cell_type": "code",
   "execution_count": null,
   "id": "f8ffad70-5525-4f8c-b010-89ec4a0f1943",
   "metadata": {},
   "outputs": [],
   "source": [
    "CREATE TABLE distributors (\n",
    "    did integer,\n",
    "    name varchar(40)\n",
    ");"
   ]
  },
  {
   "cell_type": "code",
   "execution_count": 10,
   "id": "2e07b184-bb27-43bc-b3ea-41716ea005db",
   "metadata": {},
   "outputs": [
    {
     "data": {
      "text/plain": [
       "('StudentsPerformance',\n",
       " ['gender',\n",
       "  'race/ethnicity',\n",
       "  'parental level of education',\n",
       "  'lunch',\n",
       "  'test preparation course',\n",
       "  'math score',\n",
       "  'reading score',\n",
       "  'writing score'],\n",
       " ['text', 'text', 'text', 'text', 'text', 'integer', 'integer', 'integer'])"
      ]
     },
     "execution_count": 10,
     "metadata": {},
     "output_type": "execute_result"
    }
   ],
   "source": [
    "check"
   ]
  },
  {
   "cell_type": "code",
   "execution_count": 8,
   "id": "9344d70d-c338-4ee2-97bc-ad265ffb510c",
   "metadata": {},
   "outputs": [],
   "source": [
    "trash_symbols = '\" \\n'\n",
    "\n",
    "with open(path, 'r') as file:  # file = open(path, 'r')\n",
    "    lines = []\n",
    "    \n",
    "    for line in file:  # iter(file) -> next\n",
    "        line_split = line.split(',')\n",
    "        line_clean = [elem.strip(trash_symbols) for elem in line_split]\n",
    "        \n",
    "        lines.append(line_clean)"
   ]
  },
  {
   "cell_type": "code",
   "execution_count": null,
   "id": "45aac1eb-b2f3-4404-b4c7-8b4f604c5d4c",
   "metadata": {},
   "outputs": [],
   "source": [
    "for elem in sequence:  # для чего, где\n",
    "    do_smth(elem)  # сделать что\n",
    "\n",
    "[do_smth(elem) for elem in sequence]  # сделать что, для чего, где"
   ]
  },
  {
   "cell_type": "code",
   "execution_count": 7,
   "id": "a1765379-7292-45cf-8e37-bbd73e873c16",
   "metadata": {},
   "outputs": [
    {
     "data": {
      "text/plain": [
       "['gender',\n",
       " 'race/ethnicity',\n",
       " 'parental level of education',\n",
       " 'lunch',\n",
       " 'test preparation course',\n",
       " 'math score',\n",
       " 'reading score',\n",
       " 'writing score']"
      ]
     },
     "execution_count": 7,
     "metadata": {},
     "output_type": "execute_result"
    }
   ],
   "source": [
    "[elem.strip(trash_symbols) for elem in lines[0]]"
   ]
  },
  {
   "cell_type": "code",
   "execution_count": 20,
   "id": "e73b39b8-8a4f-49e8-9772-e4edc3f1eb1d",
   "metadata": {},
   "outputs": [
    {
     "data": {
      "text/plain": [
       "{1}"
      ]
     },
     "execution_count": 20,
     "metadata": {},
     "output_type": "execute_result"
    }
   ],
   "source": [
    "{(-1) ** i for i in range(10) if i % 2 == 0}"
   ]
  },
  {
   "cell_type": "code",
   "execution_count": 17,
   "id": "d6ca7cc2-f174-412a-a445-4487f82e3c1b",
   "metadata": {},
   "outputs": [
    {
     "ename": "SyntaxError",
     "evalue": "invalid syntax (1997625108.py, line 1)",
     "output_type": "error",
     "traceback": [
      "\u001b[1;36m  Cell \u001b[1;32mIn[17], line 1\u001b[1;36m\u001b[0m\n\u001b[1;33m    ((-1) ** i for i in range(10),)\u001b[0m\n\u001b[1;37m                                 ^\u001b[0m\n\u001b[1;31mSyntaxError\u001b[0m\u001b[1;31m:\u001b[0m invalid syntax\n"
     ]
    }
   ],
   "source": [
    "((-1) ** i for i in range(10),)"
   ]
  },
  {
   "cell_type": "code",
   "execution_count": 22,
   "id": "8ca6c048-6bad-4409-8e06-279f0fc02aca",
   "metadata": {},
   "outputs": [
    {
     "data": {
      "text/plain": [
       "{'word': 4, 'wooord': 4, 'wooooooord': 4, 'wrd': 3}"
      ]
     },
     "execution_count": 22,
     "metadata": {},
     "output_type": "execute_result"
    }
   ],
   "source": [
    "words = ['word', 'wooord', 'wooooooord', 'wrd']\n",
    "\n",
    "wdict = {}\n",
    "\n",
    "for word in words:\n",
    "    wdict[word] = len(set(word))  # wdict.update({word: len(set(word))})\n",
    "\n",
    "wdict"
   ]
  },
  {
   "cell_type": "code",
   "execution_count": 24,
   "id": "65cf6b57-ff38-4d28-944f-6f82d16d869f",
   "metadata": {},
   "outputs": [
    {
     "data": {
      "text/plain": [
       "{'WORD': 4, 'WOOORD': 4, 'WOOOOOOORD': 4, 'WRD': 3}"
      ]
     },
     "execution_count": 24,
     "metadata": {},
     "output_type": "execute_result"
    }
   ],
   "source": [
    "wdict = {word: len(set(word)) for word in words}\n",
    "wdict"
   ]
  },
  {
   "cell_type": "code",
   "execution_count": 6,
   "id": "62b32d68-5787-47bc-acce-f1e73c0a6893",
   "metadata": {},
   "outputs": [
    {
     "data": {
      "text/plain": [
       "'gender'"
      ]
     },
     "execution_count": 6,
     "metadata": {},
     "output_type": "execute_result"
    }
   ],
   "source": [
    "' \"gender\"a'.strip('\" a')"
   ]
  },
  {
   "cell_type": "markdown",
   "id": "a06b17e2-555c-40de-a921-52d7629e35fd",
   "metadata": {},
   "source": [
    "#### Задача 1\n",
    "\n",
    "Известно, что подготовка и исследование данных для машинного обучения занимают куда больше времени, чем собственно машинное обучение. В частности, существует такая процедура, как создание т. н. dummy-переменных.\n",
    "\n",
    "![dummy](https://www.statology.org/wp-content/uploads/2021/02/dummyvartrap1-768x344.png)\n",
    "\n",
    "В `pandas` уже есть функция, которая принимает на вход текстовую колонку таблицы и возвращает вместо нее много колонок с dummy-переменными. Однако проблема в том, что в ваших данных есть переменные, значения которых представляют из себя словосочетания со знаками препинания (количество таких слов формально не ограничено). Некоторые алгоритмы \"любят\" только простые названия переменных вида `variable` или `simple_variable`. Кроме того, так или иначе для последующей работы неплохо было бы стандартизировать все названия.\n",
    "\n",
    "Поэтому вам нужно создать функцию, которая бы принимала на вход список из значений переменной и производила следующую предобработку всех значений в колонке:\n",
    "\n",
    "- удаление всех знаков препинания;\n",
    "- приведение всех букв к нижнему регистру;\n",
    "- замену всех пробелов на нижнее подчеркивание;\n",
    "- ограничение длины каждого слова первыми четырьмя буквами.\n",
    "\n",
    "Функция должна возвращать словарь (т. н. mapper), по которому можно преобразовать переменную в новый вид (с помощью методов `.map()` / `.apply` - о них вам расскажут позднее). Ключами должны быть старые значения, а собственно значениями - новые.\n",
    "\n",
    "Не всегда бывает так, что значения переменной написаны на латинице. Напишите вашу функцию таким образом, чтобы по дефолту она обрабатывала англоязычные переменные, но также имела возможность (при соответствующем значении аргумента) обработать и кириллические. Вам может пригодиться функция `translit` из модуля `transliterate` (пример работы с кириллицей можете найти ниже).\n",
    "\n",
    "**Пример**\n",
    "\n",
    "```\n",
    "function input:\n",
    "['Agree', 'Agree', 'Neither agree nor disagree', \"Don't know\", 'Neither agree nor disagree', 'Neither agree nor disagree', 'Disagree', 'No answer', 'Agree strongly', 'No answer', 'Agree', 'Refusal', 'Refusal', 'Disagree strongly', 'Disagree']\n",
    "\n",
    "function return:\n",
    "{\n",
    "    'Agree strongly': 'agre_stro',\n",
    "    'Agree': 'agre',\n",
    "    'Neither agree nor disagree': 'neit_agre_nor_disa',\n",
    "    'Disagree': 'disa',\n",
    "    'Disagree strongly': 'disa_stro',\n",
    "    'Refusal': 'refu',\n",
    "    \"Don't know\": 'dont_know',\n",
    "    'No answer': 'no_answ'\n",
    "}\n",
    "```"
   ]
  },
  {
   "cell_type": "code",
   "execution_count": 80,
   "id": "392b336d-959a-4bfd-a1fe-9cc552db836c",
   "metadata": {},
   "outputs": [],
   "source": [
    "import re\n",
    "\n",
    "from string import punctuation\n",
    "\n",
    "punctuation = f'[{re.escape(punctuation.replace(\"_\", \"\"))}]'\n",
    "punctuation_re = re.compile(punctuation)\n",
    "\n",
    "def fix_string(string: str) -> str:\n",
    "    string = translit(string, 'ru', reversed=True)\n",
    "    string = punctuation_re.sub('', string).lower()\n",
    "\n",
    "    return '_'.join([word[:4] for word in string.split()])\n",
    "\n",
    "def get_mapper(vector) -> dict:\n",
    "    return {string: fix_string(string) for string in set(vector)}"
   ]
  },
  {
   "cell_type": "code",
   "execution_count": 81,
   "id": "ffc99bc0-153a-45ff-98f7-dd21c252204b",
   "metadata": {},
   "outputs": [],
   "source": [
    "check = ['Agree', 'Agree', 'Neither agree nor disagree', \"Don't know\", 'Neither agree nor disagree', 'Neither agree nor disagree', 'Disagree', 'No answer', 'Agree strongly', 'No answer', 'Agree', 'Refusal', 'Refusal', 'Disagree strongly', 'Disagree']"
   ]
  },
  {
   "cell_type": "code",
   "execution_count": 82,
   "id": "8e889814-21a4-43b0-8abc-aaa479a4d60a",
   "metadata": {},
   "outputs": [
    {
     "data": {
      "text/plain": [
       "{'Disagree': 'disa',\n",
       " 'Agree': 'agre',\n",
       " 'Disagree strongly': 'disa_stro',\n",
       " 'Refusal': 'refu',\n",
       " 'Agree strongly': 'agre_stro',\n",
       " \"Don't know\": 'dont_know',\n",
       " 'Neither agree nor disagree': 'neit_agre_nor_disa',\n",
       " 'No answer': 'no_answ'}"
      ]
     },
     "execution_count": 82,
     "metadata": {},
     "output_type": "execute_result"
    }
   ],
   "source": [
    "get_mapper(check)"
   ]
  },
  {
   "cell_type": "code",
   "execution_count": 79,
   "id": "df9ba499-9c1c-4974-b0ef-03e200a91bcd",
   "metadata": {},
   "outputs": [
    {
     "data": {
      "text/plain": [
       "['neither', 'agree', 'nor', 'disagree']"
      ]
     },
     "execution_count": 79,
     "metadata": {},
     "output_type": "execute_result"
    }
   ],
   "source": [
    "[word[:4] for word in example.split()]"
   ]
  },
  {
   "cell_type": "code",
   "execution_count": 71,
   "id": "389ff92b-18ae-4299-8495-d5e89570b348",
   "metadata": {},
   "outputs": [
    {
     "name": "stdout",
     "output_type": "stream",
     "text": [
      "[!\"\\#\\$%\\&'\\(\\)\\*\\+,\\-\\./:;<=>\\?@\\[\\\\\\]\\^`\\{\\|\\}\\~]\n"
     ]
    }
   ],
   "source": [
    "print(punctuation)"
   ]
  },
  {
   "cell_type": "code",
   "execution_count": 59,
   "id": "0d684e81-0afe-4550-a391-c56592c5ad93",
   "metadata": {},
   "outputs": [],
   "source": [
    "punctuation_re = re.compile('\\W')"
   ]
  },
  {
   "cell_type": "code",
   "execution_count": 61,
   "id": "be5bfd2b-79a7-4a08-bdbe-4e4d64acdaf3",
   "metadata": {},
   "outputs": [
    {
     "data": {
      "text/plain": [
       "<re.Match object; span=(1, 2), match=','>"
      ]
     },
     "execution_count": 61,
     "metadata": {},
     "output_type": "execute_result"
    }
   ],
   "source": [
    "punctuation_re.search('_,.-')"
   ]
  },
  {
   "cell_type": "code",
   "execution_count": 83,
   "id": "4c8ecd3c-17aa-479a-a59c-6eea4c697804",
   "metadata": {},
   "outputs": [
    {
     "name": "stdout",
     "output_type": "stream",
     "text": [
      "Polnost'ju ne soglasen\n"
     ]
    }
   ],
   "source": [
    "# пример работы функции translit\n",
    "\n",
    "from transliterate import translit\n",
    "\n",
    "print(translit('Полностью не согласен', 'ru', reversed=True))"
   ]
  },
  {
   "cell_type": "code",
   "execution_count": null,
   "id": "f7ba3888-77ca-42f1-929f-48788e85d838",
   "metadata": {},
   "outputs": [],
   "source": [
    "# наш код здесь"
   ]
  },
  {
   "cell_type": "markdown",
   "id": "d5b970bc-9e5b-431d-9ef7-55a765a68dd0",
   "metadata": {},
   "source": [
    "#### Задача 2\n",
    "Предположим, что перед нами стоит задача создать dummy-переменные в PostgreSQL. К сожалению, это не `pandas`, и готовой функции на этот случай не предусмотрено. Однако вы знаете, что можно создавать новые переменные базируясь на значении старых используя конструкцию case...when...then...end:\n",
    "\n",
    "```\n",
    "PostgreSQL:\n",
    "CASE WHEN <condition> THEN <value1> ELSE <value2> END AS <variable_name>\n",
    "В ТОМ СЛУЧАЕ КОГДА <условие> ТОГДА <значение1> ИНАЧЕ <значение2> КОНЕЦ НАЗВАТЬ <имя_переменной>\n",
    "\n",
    "Python:\n",
    "if <condition>:\n",
    "    <value1>\n",
    "else:\n",
    "    <value2>\n",
    "```\n",
    "\n",
    "Если категорий немного, то написать такой код несложно. Однако что делать, если их, к примеру, 100? В этом случае придется писать `CASE WHEN` столько раз, сколько уникальных значений содержит ваша переменная, да еще и придумывать каждый раз соответствующее название.\n",
    "\n",
    "Используйте свои знания Python, чтобы автоматизировать процесс написания SQL-запроса. Напишите соответствующую функцию. Для автоматизированной генерации названия переменной используйте наработки предыдущей задачи. Учтите, что значения переменной не обязательно будут написаны на латинице.\n",
    "\n",
    "На выходе функция должна печатать (в таком же формате, как в примере ниже) законченный блок SQL-запроса.\n",
    "\n",
    "**Пример**\n",
    "```\n",
    "function return:\n",
    "    CASE WHEN gincdif = 'Agree strongly' THEN 1 ELSE 0 END AS agre_stro,\n",
    "    CASE WHEN gincdif = 'Agree' THEN 1 ELSE 0 END AS agre,\n",
    "    CASE WHEN gincdif = 'Neither agree nor disagree' THEN 1 ELSE 0 END AS neit_agre_nor_disa,\n",
    "    CASE WHEN gincdif = 'Disagree' THEN 1 ELSE 0 END AS disa,\n",
    "    CASE WHEN gincdif = 'Disagree strongly' THEN 1 ELSE 0 END AS disa_stro,\n",
    "    CASE WHEN gincdif = 'Refusal' THEN 1 ELSE 0 END AS refu,\n",
    "    CASE WHEN ginsdif = \"Don't know\" THEN 1 ELSE 0 END AS dont_know,\n",
    "    CASE WHEN ginsdif = \"No answer\" THEN 1 ELSE 0 END AS no_answ\n",
    "```"
   ]
  },
  {
   "cell_type": "code",
   "execution_count": null,
   "id": "a8106130-6eaa-4262-b82d-79c8cba66795",
   "metadata": {},
   "outputs": [],
   "source": [
    "# наш код здесь"
   ]
  }
 ],
 "metadata": {
  "kernelspec": {
   "display_name": "Python 3 (ipykernel)",
   "language": "python",
   "name": "python3"
  },
  "language_info": {
   "codemirror_mode": {
    "name": "ipython",
    "version": 3
   },
   "file_extension": ".py",
   "mimetype": "text/x-python",
   "name": "python",
   "nbconvert_exporter": "python",
   "pygments_lexer": "ipython3",
   "version": "3.11.1"
  }
 },
 "nbformat": 4,
 "nbformat_minor": 5
}
