{
 "cells": [
  {
   "cell_type": "markdown",
   "metadata": {},
   "source": [
    "###  Задание 10.1\n",
    "Чем отличается тип данных int8 от uint8?\n",
    "- int8 содержит 0 среди возможных значений\n",
    "- int8 позволяет сохранить в два раза меньше различных чисел\n",
    "- int8 включает в себя отрицательные числа\n",
    "- Максимальное число, которое можно сохранить, — 128 \n",
    "\n",
    "<details>\n",
    "<summary><strong>Show answer</strong> (Click Here)</summary>\n",
    "    &emsp; &emsp; <code>\n",
    " int8 включает в себя отрицательные числа\n",
    "</code>\n",
    "</details>"
   ]
  },
  {
   "cell_type": "markdown",
   "metadata": {},
   "source": [
    "###   Задание 10.2\n",
    "Переменная num задана следующим образом: num = \"-65536\". Можно ли положить её в массив чисел типа int16 без потери точности?\n",
    "- Да, можно\n",
    "- Нельзя, поскольку это строка\n",
    "- Нельзя, поскольку число отрицательное\n",
    "- Нельзя, так как выделено недостаточно памяти для сохранения числа целиком \n",
    "\n",
    "<details>\n",
    "<summary><strong>Show answer</strong> (Click Here)</summary>\n",
    "    &emsp; &emsp; <code> - Нельзя, так как выделено недостаточно памяти для сохранения числа целиком <br>\n",
    " Число превратится в другое число, отличное от того, что было изначально, поскольку памяти для сохранения числа целиком не хватит (минимальное число в int16 — -32768).\n",
    "</code>\n",
    "</details>"
   ]
  },
  {
   "cell_type": "code",
   "execution_count": 2,
   "metadata": {},
   "outputs": [],
   "source": [
    "import numpy as np"
   ]
  },
  {
   "cell_type": "code",
   "execution_count": 4,
   "metadata": {},
   "outputs": [
    {
     "data": {
      "text/plain": [
       "iinfo(min=-32768, max=32767, dtype=int16)"
      ]
     },
     "execution_count": 4,
     "metadata": {},
     "output_type": "execute_result"
    }
   ],
   "source": [
    "np.iinfo(np.int16)"
   ]
  },
  {
   "cell_type": "markdown",
   "metadata": {},
   "source": [
    "###    Задание 10.3\n",
    "В чём преимущество массивов по сравнению со списками?\n",
    "- Массивы позволяют хранить объекты разных типов одновременно\n",
    "- Массивы обладают ограниченной длиной\n",
    "- Массивы позволяют получать элементы по индексу за одинаковое время\n",
    "- Массивы могут быть вложенными друг в друга \n",
    "\n",
    "<details>\n",
    "<summary><strong>Show answer</strong> (Click Here)</summary>\n",
    "    &emsp; &emsp; <code> \n",
    "    - Массивы позволяют получать элементы по индексу за одинаковое время\n",
    "</code>\n",
    "</details>"
   ]
  },
  {
   "cell_type": "markdown",
   "metadata": {},
   "source": [
    "###    Задание 10.4\n",
    "Какие способы позволяют достоверно сравнить переменную elem с числом np.nan?\n",
    "\n",
    "Отметьте все подходящие варианты ответов.\n",
    "- elem == np.nan\n",
    "\n",
    "- elem == None\n",
    "\n",
    "- np.isnan(elem)\n",
    "\n",
    "- elem is np.nan \n",
    "<details>\n",
    "<summary><strong>Show answer</strong> (Click Here)</summary>\n",
    "    &emsp; &emsp; <code> \n",
    "C Эта функция вернёт True, если в переменной будет лежать np.nan. <br>\n",
    "D np.nan можно сравнивать друг с другом (а точнее, проверять объекты на эквивалентность) с помощью оператора is.\n",
    "</code>\n",
    "</details>"
   ]
  },
  {
   "cell_type": "markdown",
   "metadata": {},
   "source": [
    "###    Задание 10.5\n",
    "Получите сумму чисел, сохранённых в переменных x и y.\n",
    "<details>\n",
    "<summary><strong>Show answer</strong> (Click Here)</summary>\n",
    "    &emsp; &emsp; <code> \n",
    "print(np.int64(x)+np.int64(y))\n",
    "</code>\n",
    "</details>"
   ]
  },
  {
   "cell_type": "markdown",
   "metadata": {},
   "source": [
    "###   Задание 10.6 \n",
    "Напишите функцию get_chess, которая принимает на вход длину стороны квадрата a и возвращает двумерный массив формы (a, a), заполненный 0 и 1 в шахматном порядке. В левом верхнем углу всегда должен быть ноль.\n",
    "\n",
    "Примечание: воспользуйтесь функцией zeros из библиотеки numpy, а затем с помощью срезов без циклов задайте необходимым элементам значение 1.\n",
    "\n",
    "Напоминание: в Python для получения каждого второго элемента используется срез [::2]. Подумайте, как грамотно применить этот принцип к двумерному массиву.\n",
    "Пример:\n",
    "<pre>\n",
    "<code>\n",
    "get_chess(1)\n",
    "# array([[0.]])\n",
    "get_chess(4)\n",
    "# array([[0., 1., 0., 1.],\n",
    "#        [1., 0., 1., 0.],\n",
    "#        [0., 1., 0., 1.],\n",
    "#        [1., 0., 1., 0.]])\n",
    "</code>\n",
    "</pre>\n",
    "<details>\n",
    "<summary><strong>Show answer</strong> (Click Here)</summary>\n",
    "    &emsp; &emsp;\n",
    "<pre>\n",
    "<code>\n",
    "import numpy as np\n",
    "\n",
    "def get_chess(a):\n",
    "    new_array = np.zeros((a, a))\n",
    "    new_array[::2,1::2] = 1\n",
    "    new_array[1::2,::2] = 1\n",
    "    return new_array\n",
    "\n",
    "print(get_chess(5))\n",
    "</code>\n",
    "</details>"
   ]
  },
  {
   "cell_type": "code",
   "execution_count": 11,
   "metadata": {},
   "outputs": [
    {
     "name": "stdout",
     "output_type": "stream",
     "text": [
      "[[0. 1. 0. 1. 0.]\n",
      " [1. 0. 1. 0. 1.]\n",
      " [0. 1. 0. 1. 0.]\n",
      " [1. 0. 1. 0. 1.]\n",
      " [0. 1. 0. 1. 0.]]\n"
     ]
    }
   ],
   "source": [
    "import numpy as np\n",
    "\n",
    "\n",
    "def get_chess(a):\n",
    "    new_array = np.zeros((a, a))\n",
    "    new_array[::2,1::2] = 1\n",
    "    new_array[1::2,::2] = 1\n",
    "    return new_array\n",
    "\n",
    "print(get_chess(5))"
   ]
  },
  {
   "cell_type": "markdown",
   "metadata": {},
   "source": [
    "###   Задание 10.7\n",
    "Вы разрабатываете приложение для прослушивания музыки. Конечно же, там будет доступна функция перемешивания плейлиста. Пользователю может настолько понравиться перемешанная версия плейлиста, что он захочет сохранить его копию. Однако вы не хотите хранить в памяти новую версию плейлиста, а просто хотите сохранять тот seed, с которым он был сгенерирован.\n",
    "\n",
    "Для этого напишите функцию shuffle_seed(<array>),  которая принимает на вход массив из чисел, генерирует случайное число для seed в диапазоне от 0 до 2**32 - 1 (включительно) и возвращает кортеж: перемешанный с данным seed массив (исходный массив должен оставаться без изменений), а также seed, с которым этот массив был получен.\n",
    "\n",
    "Пример:\n",
    "<pre>\n",
    "<code>\n",
    "array = [1, 2, 3, 4, 5]\n",
    "shuffle_seed(array)\n",
    "# (array([1, 3, 2, 4, 5]), 2332342819)\n",
    "shuffle_seed(array)\n",
    "# (array([4, 5, 2, 3, 1]), 4155165971)\n",
    "</code>\n",
    "</pre>\n",
    "<details>\n",
    "<summary><strong>Show answer</strong> (Click Here)</summary>\n",
    "    &emsp; &emsp; <code> \n",
    "import numpy as np\n",
    "<pre>\n",
    "<code>\n",
    "def shuffle_seed(arr):\n",
    "    seed = np.random.randint(0, 2**32)\n",
    "    np.random.seed(seed)\n",
    "    return np.random.permutation(arr), seed\n",
    "</code>\n",
    "</details>"
   ]
  },
  {
   "cell_type": "code",
   "execution_count": 13,
   "metadata": {},
   "outputs": [
    {
     "data": {
      "text/plain": [
       "(array([2, 3, 1, 4, 5]), 1428937871)"
      ]
     },
     "execution_count": 13,
     "metadata": {},
     "output_type": "execute_result"
    }
   ],
   "source": [
    "def shuffle_seed(arr):\n",
    "    seed = np.random.randint(0, 2**32)\n",
    "    np.random.seed(seed)\n",
    "    return np.random.permutation(arr), seed\n",
    "array = [1, 2, 3, 4, 5]\n",
    "shuffle_seed(array)\n",
    "# (array([1, 3, 2, 4, 5]), 2332342819)\n",
    "shuffle_seed(array)\n",
    "# (array([4, 5, 2, 3, 1]), 4155165971)\n"
   ]
  },
  {
   "cell_type": "markdown",
   "metadata": {},
   "source": [
    "###   Задание 10.8 \n",
    "Напишите функцию min_max_dist, которая принимает на вход неограниченное число векторов через запятую. Гарантируется, что все векторы, которые передаются, одинаковой длины.\n",
    "\n",
    "Функция возвращает минимальное и максимальное расстояние между векторами в виде кортежа.\n",
    "\n",
    "Пример:\n",
    "<pre>\n",
    "<code>\n",
    "vec1 = np.array([1,2,3])\n",
    "vec2 = np.array([4,5,6])\n",
    "vec3 = np.array([7, 8, 9])\n",
    " \n",
    "min_max_dist(vec1, vec2, vec3)\n",
    "# (5.196152422706632, 10.392304845413264)\n",
    "</code>\n",
    "</pre>\n",
    "<details>\n",
    "<summary><strong>Show answer</strong> (Click Here)</summary>\n",
    "    &emsp; &emsp; \n",
    "<pre>\n",
    "<code>\n",
    "import numpy as np\n",
    "\n",
    "\n",
    "def min_max_dist(*vectors):\n",
    "    if vectors:\n",
    "        vector1 = vectors[0]\n",
    "    min_dist = min(np.linalg.norm(vector1 - vec) for vec in vectors[1:])\n",
    "    max_dist = max(np.linalg.norm(vector1 - vec) for vec in vectors[1:])\n",
    "    return min_dist, max_dist\n",
    "\n",
    "vec1 = np.array([1,2,3])\n",
    "vec2 = np.array([4,5,6])\n",
    "vec3 = np.array([7, 8, 9])\n",
    "</code>\n",
    "</details>"
   ]
  },
  {
   "cell_type": "code",
   "execution_count": 1,
   "metadata": {},
   "outputs": [
    {
     "data": {
      "text/plain": [
       "(5.196152422706632, 10.392304845413264)"
      ]
     },
     "execution_count": 1,
     "metadata": {},
     "output_type": "execute_result"
    }
   ],
   "source": [
    "import numpy as np\n",
    "\n",
    "\n",
    "def min_max_dist(*vectors):\n",
    "    if vectors:\n",
    "        vector1 = vectors[0]\n",
    "    min_dist = min(np.linalg.norm(vector1 - vec) for vec in vectors[1:])\n",
    "    max_dist = max(np.linalg.norm(vector1 - vec) for vec in vectors[1:])\n",
    "    return min_dist, max_dist\n",
    "\n",
    "vec1 = np.array([1,2,3])\n",
    "vec2 = np.array([4,5,6])\n",
    "vec3 = np.array([7, 8, 9])\n",
    "\n",
    "min_max_dist(vec1, vec2, vec3)\n",
    "# (5.196152422706632, 10.392304845413264)\n"
   ]
  },
  {
   "cell_type": "markdown",
   "metadata": {},
   "source": [
    "###  Задание 10.9\n",
    "Напишите функцию any_normal, которая принимает на вход неограниченное число векторов через запятую. Гарантируется, что все векторы, которые передаются, одинаковой длины.\n",
    "\n",
    "Функция возвращает True, если есть хотя бы одна пара перпендикулярных векторов. Иначе возвращает False.\n",
    "\n",
    "Пример:\n",
    "<pre>\n",
    "<code>\n",
    "vec1 = np.array([2, 1])\n",
    "vec2 = np.array([-1, 2])\n",
    "vec3 = np.array([3,4])\n",
    "print(any_normal(vec1, vec2, vec3))\n",
    "# True\n",
    "</code>\n",
    "</pre>\n",
    "<details>\n",
    "<summary><strong>Show answer</strong> (Click Here)</summary>\n",
    "    &emsp; &emsp; \n",
    "<pre>\n",
    "<code>import numpy as np\n",
    "\n",
    "\n",
    "def any_normal(*vectors):\n",
    "    flag = not all(np.dot(vectors[0], vector) for vector in vectors[1:])\n",
    "    return flag\n",
    "</code>\n",
    "</details>"
   ]
  },
  {
   "cell_type": "code",
   "execution_count": 2,
   "metadata": {},
   "outputs": [
    {
     "name": "stdout",
     "output_type": "stream",
     "text": [
      "True\n"
     ]
    }
   ],
   "source": [
    "import numpy as np\n",
    "\n",
    "\n",
    "def any_normal(*vectors):\n",
    "    flag = not all(np.dot(vectors[0], vector) for vector in vectors[1:])\n",
    "    return flag\n",
    "\n",
    "vec1 = np.array([2, 1])\n",
    "vec2 = np.array([-1, 2])\n",
    "vec3 = np.array([3,4])\n",
    "print(any_normal(vec1, vec2, vec3))\n",
    "# True"
   ]
  },
  {
   "cell_type": "markdown",
   "metadata": {},
   "source": [
    "###  Задание 10.10\n",
    "Напишите функцию get_loto(num), генерирующую трёхмерный массив случайных целых чисел от 1 до 100 (включительно). Это поля для игры в лото.\n",
    "\n",
    "Трёхмерный массив должен состоять из таблиц чисел формы 5х5, то есть итоговая форма — (num, 5, 5).\n",
    "\n",
    "Функция возвращает полученный массив.\n",
    "\n",
    "Результат:\n",
    "<pre>\n",
    "<code>\n",
    "get_loto(3)\n",
    "array([[[ 35,  66,  38,  11,  32],\n",
    "       [ 32,   7,  37,  83,  42],\n",
    "       [ 89,  37,  19,  51,  89],\n",
    "       [ 70, 100,  83,   5,  11],\n",
    "       [ 20,  13,  60,  26,  41]],\n",
    " \n",
    "      [[ 23,  49,  76,  44,  43],\n",
    "       [ 59,  63,  99,  92,   2],\n",
    "       [ 83,   4,  25,  73,  19],\n",
    "       [ 10,  18,  40,  11,  21],\n",
    "       [ 58,  45,  73,  93,  61]],\n",
    " \n",
    "      [[100,  88,  70,  34,  51],\n",
    "       [  5,  35,  36,  85,  88],\n",
    "       [ 72,  23,  87,  30,  40],\n",
    "       [ 29,  21,  51,  73,  81],\n",
    "       [ 91,  19,  87,  60,  27]]])\n",
    "</code>\n",
    "</pre>\n",
    "<details>\n",
    "<summary><strong>Show answer</strong> (Click Here)</summary>\n",
    "    &emsp; &emsp; \n",
    "<pre>\n",
    "<code>import numpy as np\n",
    "\n",
    "\n",
    "def get_loto(num):\n",
    "    arr = np.random.randint(1, 101, size= (num, 5, 5))\n",
    "    return arr\n",
    "</code>\n",
    "</details>"
   ]
  },
  {
   "cell_type": "code",
   "execution_count": 3,
   "metadata": {},
   "outputs": [
    {
     "data": {
      "text/plain": [
       "array([[[69, 99, 45, 40, 93],\n",
       "        [56, 76, 20,  7, 59],\n",
       "        [74, 78,  8,  8, 12],\n",
       "        [63, 30, 42, 62, 91],\n",
       "        [82, 40, 52, 81, 13]],\n",
       "\n",
       "       [[63, 33, 44, 32, 99],\n",
       "        [ 9, 19, 84, 63,  4],\n",
       "        [86, 48, 45, 27, 23],\n",
       "        [ 2, 68, 87, 34, 51],\n",
       "        [23,  3, 86, 23,  7]],\n",
       "\n",
       "       [[24, 82, 31, 53, 16],\n",
       "        [93, 90, 64, 33, 79],\n",
       "        [63, 27, 71, 95, 34],\n",
       "        [96,  8, 81, 86, 33],\n",
       "        [62, 34, 22,  6, 54]]])"
      ]
     },
     "execution_count": 3,
     "metadata": {},
     "output_type": "execute_result"
    }
   ],
   "source": [
    "import numpy as np\n",
    "\n",
    "\n",
    "def get_loto(num):\n",
    "    arr = np.random.randint(1, 101, size= (num, 5, 5))\n",
    "    return arr\n",
    "\n"
   ]
  },
  {
   "cell_type": "markdown",
   "metadata": {},
   "source": [
    "### Задание 10.11 \n",
    "Напишите функцию get_unique_loto(num). Она так же, как и функция в задании 10.10, генерирует num полей для игры в лото, однако теперь на каждом поле 5х5 числа не могут повторяться.\n",
    "\n",
    "Функция также должна возвращать массив формы num x 5 x 5.\n",
    "\n",
    "Пример:\n",
    "<pre>\n",
    "<code>\n",
    "get_unique_loto(3)\n",
    "\n",
    "Результат:\n",
    "\n",
    "array([[[26, 91, 73,  7, 16],\n",
    "       [46, 85, 78, 77, 51],\n",
    "       [84, 86, 55, 71, 58],\n",
    "       [17, 61, 50, 30, 97],\n",
    "       [66, 29, 38, 41, 32]],\n",
    " \n",
    "      [[49, 32,  3, 21, 85],\n",
    "       [45,  8, 94, 46, 96],\n",
    "       [41, 38, 58, 37, 98],\n",
    "       [66, 77, 54, 80, 26],\n",
    "       [62, 63, 72,  5, 43]],\n",
    " \n",
    "      [[55, 60,  6, 80, 97],\n",
    "       [23, 69, 94,  9, 24],\n",
    "       [17, 98, 27, 63, 79],\n",
    "       [84, 74, 51, 39, 54],\n",
    "       [77, 30, 48, 75, 85]]])\n",
    "\n",
    "</code>\n",
    "</pre>\n",
    "<details>\n",
    "<summary><strong>Show answer</strong> (Click Here)</summary>\n",
    "    &emsp; &emsp; \n",
    "<pre>\n",
    "<code>import numpy as np\n",
    "def get_unique_loto(num):\n",
    "    nums = np.arange(1,101)\n",
    "    arr = np.zeros((num, 5, 5), dtype=np.int32)\n",
    "    for i in range(num):\n",
    "        arr[i] = np.random.choice(nums, size=(5, 5), replace=False)\n",
    "    return arr\n",
    "</code>\n",
    "</details>"
   ]
  },
  {
   "cell_type": "code",
   "execution_count": 23,
   "metadata": {},
   "outputs": [
    {
     "data": {
      "text/plain": [
       "array([[[ 99,   1,  96,   7,  97],\n",
       "        [ 53,  56,  27,  50,   8],\n",
       "        [ 46,  85,   9,  40,  69],\n",
       "        [ 98,  22,  43,  30,  24],\n",
       "        [ 49,  19,  32,  39,  12]],\n",
       "\n",
       "       [[ 82,  73,  10,   8,  60],\n",
       "        [ 23,  18,  40,  54,  33],\n",
       "        [ 27,  70,  36,  52,  84],\n",
       "        [ 17,  95,  80, 100,  92],\n",
       "        [  4,  46,  38,  94,  45]],\n",
       "\n",
       "       [[ 16,  41,  46,  72,  54],\n",
       "        [ 52,  97,  28,  49,  94],\n",
       "        [ 76,  67,  56,  57,   1],\n",
       "        [ 33,  60,  98, 100,  24],\n",
       "        [  2,  31,  37,  80,   3]]])"
      ]
     },
     "execution_count": 23,
     "metadata": {},
     "output_type": "execute_result"
    }
   ],
   "source": [
    "import numpy as np\n",
    "\n",
    "\n",
    "# #My solution:\n",
    "# def get_unique_loto(num):\n",
    "#     nums = np.arange(1,101)\n",
    "#     arr = np.zeros((num, 5, 5), dtype=np.int32)\n",
    "#     for i in range(num):\n",
    "#         arr[i] = np.random.choice(nums, size=(5, 5), replace=False)\n",
    "#     return arr\n",
    "#Recommended solution\n",
    "def get_unique_loto(num):\n",
    "    nums = np.arange(1,101)\n",
    "    arr = list()\n",
    "    for i in range(num):\n",
    "        arr.append(np.random.choice(nums, size=(5, 5), replace=False))\n",
    "    arr = np.array(arr)\n",
    "    return arr\n",
    "\n",
    "get_unique_loto(3)"
   ]
  }
 ],
 "metadata": {
  "kernelspec": {
   "display_name": ".venv",
   "language": "python",
   "name": "python3"
  },
  "language_info": {
   "codemirror_mode": {
    "name": "ipython",
    "version": 3
   },
   "file_extension": ".py",
   "mimetype": "text/x-python",
   "name": "python",
   "nbconvert_exporter": "python",
   "pygments_lexer": "ipython3",
   "version": "3.10.12"
  },
  "orig_nbformat": 4
 },
 "nbformat": 4,
 "nbformat_minor": 2
}
