{
 "cells": [
  {
   "cell_type": "markdown",
   "metadata": {},
   "source": [
    "# Немного о Pandas"
   ]
  },
  {
   "cell_type": "markdown",
   "metadata": {},
   "source": [
    "<div style=\"background-color: #f5f5f5; padding: 15px; color: black; width: 80%;\">→ Pandas является наиболее продвинутой и быстроразвивающейся библиотекой для анализа данных и их предобработки."
   ]
  },
  {
   "cell_type": "markdown",
   "metadata": {},
   "source": [
    "<div style=\"background-color: #e0ffd1;color: black;border: 3px solid black; padding: 15px; margin-right: 500px; width: 80%;\">\n",
    "\n",
    "Данная библиотека построена поверх уже знакомой вам библиотеки NumPy, которая в свою очередь написана на языке С. Такая особенность даёт большой скачок в производительности операций библиотеки.\n",
    "\n",
    "Ещё одним большим плюсом Pandas является <a href=\"https://pandas.pydata.org/pandas-docs/stable/index.html\">подробная документация</a> с детальным описанием всех функций и примерами их использования. Более того, так как Pandas является очень популярной библиотекой, то вы практически всегда сможете найти ответ на интересующий вас вопрос в интернете, главное — уметь правильно искать.\n"
   ]
  },
  {
   "cell_type": "markdown",
   "metadata": {},
   "source": [
    "# Что умеет Pandas?"
   ]
  },
  {
   "cell_type": "markdown",
   "metadata": {},
   "source": [
    "Среди основных возможностей библиотеки, необходимых специалисту в Data Science, можно выделить следующие:\n",
    "\n",
    "<img src=\"../static/img/checkbox.png\"> Работа с различными форматами данных (csv, excel, json, sql и т. д.).\n",
    "\n",
    "<img src=\"../static/img/checkbox.png\"> Фильтрация данных (извлечение данных по условиям).\n",
    "\n",
    "<img src=\"../static/img/checkbox.png\"> Быстрые математические операции с таблицами и их столбцами.\n",
    "\n",
    "<img src=\"../static/img/checkbox.png\"> Использование методов статистического анализа.\n",
    "\n",
    "<img src=\"../static/img/checkbox.png\"> Группировка данных и построение сводных таблиц.\n",
    "\n",
    "<img src=\"../static/img/checkbox.png\"> Объединение нескольких таблиц.\n",
    "\n",
    "<img src=\"../static/img/checkbox.png\"> Встроенная визуализация (возможность построения графиков по данным)."
   ]
  },
  {
   "cell_type": "markdown",
   "metadata": {},
   "source": [
    "# Зачем мне Pandas?"
   ]
  },
  {
   "cell_type": "markdown",
   "metadata": {},
   "source": [
    "Сегодня владение Pandas является одним из основных критериев на рынке труда для всех профессий, связанных с анализом и предобработкой данных. Среди специалистов даже существует поговорка «Анализ данных начинается с импорта Pandas». Это связано с тем, что в большинстве задач по работе с данными Pandas является ключевым инструментом."
   ]
  },
  {
   "cell_type": "markdown",
   "metadata": {},
   "source": [
    "<div style=\"background-color: #f5f5f5; padding: 15px; color: black; width: 80%;\"> ⭐ Чем большим количеством возможностей библиотеки владеет специалист, тем большим объёмом навыков работы с данными он обладает, что, несомненно, влечёт рост ценности такого специалиста. "
   ]
  },
  {
   "cell_type": "markdown",
   "metadata": {},
   "source": [
    "Целями данного модуля являются:\n",
    "\n",
    "- изучить основные структуры данных в Pandas;\n",
    "- получить навыки работы с данными, представленными в различных форматах, с помощью Pandas;\n",
    "- научиться получать информацию о структуре данных;\n",
    "- освоить фильтрацию данных.\n"
   ]
  },
  {
   "cell_type": "markdown",
   "metadata": {},
   "source": [
    "# Импорт библиотеки Pandas"
   ]
  },
  {
   "cell_type": "markdown",
   "metadata": {},
   "source": [
    "Библиотека Pandas является стандартным пакетом в Anaconda, поэтому, если вы уже используете эту среду, устанавливать Pandas не нужно. Если же вы не используете Anaconda, то пакет устанавливается стандартно:"
   ]
  },
  {
   "cell_type": "code",
   "execution_count": null,
   "metadata": {
    "vscode": {
     "languageId": "powershell"
    }
   },
   "outputs": [],
   "source": [
    "#pip install pandas"
   ]
  },
  {
   "cell_type": "markdown",
   "metadata": {},
   "source": [
    "В общепринятой практике Pandas импортируется и используется под псевдонимом pd:"
   ]
  },
  {
   "cell_type": "code",
   "execution_count": 1,
   "metadata": {},
   "outputs": [],
   "source": [
    "import pandas as pd"
   ]
  },
  {
   "cell_type": "markdown",
   "metadata": {},
   "source": [
    "Чтобы удостовериться, что импорт прошёл успешно, можно воспользоваться командой для проверки версии библиотеки:"
   ]
  },
  {
   "cell_type": "code",
   "execution_count": 2,
   "metadata": {},
   "outputs": [
    {
     "data": {
      "text/plain": [
       "'2.1.1'"
      ]
     },
     "execution_count": 2,
     "metadata": {},
     "output_type": "execute_result"
    }
   ],
   "source": [
    "pd.__version__"
   ]
  },
  {
   "cell_type": "markdown",
   "metadata": {},
   "source": [
    "<div style=\"border: 1px solid green; padding: 5px; margin-right: auto;  width: 80%;\"> \n",
    "\n",
    "Для того чтобы лучше разобраться в материале, советуем вам выполнять весь код, который используется в модуле.\n",
    "\n",
    "Ваша версия библиотеки может отличаться, так как Pandas не стоит на месте и постоянно обновляется.\n",
    "\n",
    "Если библиотека импортирована под псевдонимом, то в дальнейшем, обращаясь к методам и классам из этой библиотеки, необходимо использовать заданный псевдоним, например pd.get_dummies().\n"
   ]
  },
  {
   "cell_type": "markdown",
   "metadata": {},
   "source": [
    "<div style=\"background-color: #f5f5f5; padding: 15px; color: black; width: 80%;\">✍ Основными структурами данных в Pandas являются Series и DataFrame. Далее мы рассмотрим их подробнее. "
   ]
  }
 ],
 "metadata": {
  "kernelspec": {
   "display_name": ".venv",
   "language": "python",
   "name": "python3"
  },
  "language_info": {
   "codemirror_mode": {
    "name": "ipython",
    "version": 3
   },
   "file_extension": ".py",
   "mimetype": "text/x-python",
   "name": "python",
   "nbconvert_exporter": "python",
   "pygments_lexer": "ipython3",
   "version": "3.10.12"
  },
  "orig_nbformat": 4
 },
 "nbformat": 4,
 "nbformat_minor": 2
}
