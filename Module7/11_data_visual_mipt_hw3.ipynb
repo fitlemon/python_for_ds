{
 "cells": [
  {
   "cell_type": "markdown",
   "metadata": {},
   "source": [
    "### Module 2. HW №3"
   ]
  },
  {
   "cell_type": "markdown",
   "metadata": {},
   "source": [
    "Построение и визуализация 3D-цилиндра\n",
    "\n",
    "Напишите программу для построения и визуализации 3D-цилиндра с помощью библиотеки matplotlib.\n",
    "\n",
    "Шаги выполнения задания:\n",
    "\n",
    "1.\tСформируйте вершины для построения цилиндра из 20 угловых секторов. Сначала постройте вершины одного основания (круга) — используйте углы поворота и радиус окружности равный 1.\n",
    "\n",
    "Координаты вершин основания определяются по формуле:\n",
    "\n",
    "0,cos(2*pi*(i)/N),sin(2*pi*(i)/N),\n",
    "\n",
    "где выражение (2*pi*(i)/N) задает углы поворота на каждом шаге i.\n",
    "\n",
    "2.\tАналогично постройте вершины второго основания, взяв высоту равную 1. Координаты вершин основания можно найти по формуле:\n",
    "\n",
    "1,cos(2*pi*(i)/N),sin(2*pi*(i)/N)\n",
    "\n",
    "3.\tИспользуйте библиотеку spatial, чтобы сформировать грани для построения цилиндра из 20 угловых секторов. \n",
    "\n",
    "4.\tСоздайте сетку для построения цилиндра. \n",
    "\n",
    "5.\tВизуализируйте полученный цилиндр.\n",
    "\n",
    "6.\tСохраните изображение в формате stl.\n",
    "\n",
    "Как должно получиться:<br>\n",
    "<img src='../static/img/data_visual_25.png'>"
   ]
  },
  {
   "cell_type": "code",
   "execution_count": 25,
   "metadata": {},
   "outputs": [],
   "source": [
    "import numpy as np\n",
    "\n",
    "from matplotlib import pyplot as plt\n",
    "from mpl_toolkits import mplot3d\n",
    "from scipy import spatial\n",
    "from stl import mesh"
   ]
  },
  {
   "cell_type": "code",
   "execution_count": 26,
   "metadata": {},
   "outputs": [],
   "source": [
    "# Функция отображения вершин\n",
    "def plot_verticles(vertices, isosurf=False, filename=None):\n",
    "    # создание новой графики\n",
    "    fig = plt.figure()\n",
    "    ax = fig.add_subplot(111, projection=\"3d\")\n",
    "    x = [v[0] for v in vertices]\n",
    "    y = [v[1] for v in vertices]\n",
    "    z = [v[2] for v in vertices]\n",
    "    if isosurf:\n",
    "        ax.plot_trisurf(x, y, z, linewidth=0.2, antialiased=True)\n",
    "    else:\n",
    "        ax.scatter(x, y, z, c=\"r\", marker=\"o\")\n",
    "    ax.set_xlabel(\"X\")\n",
    "    ax.set_ylabel(\"Y\")\n",
    "    ax.set_zlabel(\"Z\")\n",
    "    # Отображение файла или запись файла\n",
    "    if filename is None:\n",
    "        plt.show()\n",
    "    else:\n",
    "        plt.savefig(filename)\n",
    "\n",
    "\n",
    "# Функция отображения сетки\n",
    "def plot_mesh(your_mesh, size_x=10, size_y=10, dpi=80, filename=None):\n",
    "    # Создание нового 3D отображения\n",
    "    figure = plt.figure(figsize=(size_x, size_y), dpi=dpi)\n",
    "    # axes = mplot3d.Axes3D(figure, auto_add_to_figure=False)\n",
    "    axes = mplot3d.Axes3D(figure)\n",
    "    axes.add_collection3d(\n",
    "        mplot3d.art3d.Poly3DCollection(your_mesh.vectors, edgecolor=\"black\")\n",
    "    )\n",
    "    figure.add_axes(axes)\n",
    "    # Auto scale к размеру сетки\n",
    "    scale = your_mesh.points.flatten()\n",
    "    axes.auto_scale_xyz(scale, scale, scale)\n",
    "    # Отображение и запись графика\n",
    "    if filename is None:\n",
    "        plt.show()\n",
    "    else:\n",
    "        # matplotlib.use('Agg')\n",
    "        plt.savefig(filename)"
   ]
  },
  {
   "cell_type": "code",
   "execution_count": 20,
   "metadata": {},
   "outputs": [],
   "source": [
    "# 0,cos(2*pi*(i)/N),sin(2*pi*(i)/N)\n",
    "def create_circle(x, N=20):\n",
    "    vertices_ = np.empty([0, 3])\n",
    "    for i in range(N):\n",
    "        y = np.cos(2 * np.pi * (i) / N)\n",
    "        z = np.sin(2 * np.pi * (i) / N)\n",
    "        vertices_ = np.append(vertices_, [[x, y, z]], axis=0)\n",
    "\n",
    "    return vertices_"
   ]
  },
  {
   "cell_type": "code",
   "execution_count": 35,
   "metadata": {},
   "outputs": [
    {
     "data": {
      "text/plain": [
       "array([[ 0.00000000e+00,  1.00000000e+00,  0.00000000e+00],\n",
       "       [ 0.00000000e+00,  9.51056516e-01,  3.09016994e-01],\n",
       "       [ 0.00000000e+00,  8.09016994e-01,  5.87785252e-01],\n",
       "       [ 0.00000000e+00,  5.87785252e-01,  8.09016994e-01],\n",
       "       [ 0.00000000e+00,  3.09016994e-01,  9.51056516e-01],\n",
       "       [ 0.00000000e+00,  6.12323400e-17,  1.00000000e+00],\n",
       "       [ 0.00000000e+00, -3.09016994e-01,  9.51056516e-01],\n",
       "       [ 0.00000000e+00, -5.87785252e-01,  8.09016994e-01],\n",
       "       [ 0.00000000e+00, -8.09016994e-01,  5.87785252e-01],\n",
       "       [ 0.00000000e+00, -9.51056516e-01,  3.09016994e-01],\n",
       "       [ 0.00000000e+00, -1.00000000e+00,  1.22464680e-16],\n",
       "       [ 0.00000000e+00, -9.51056516e-01, -3.09016994e-01],\n",
       "       [ 0.00000000e+00, -8.09016994e-01, -5.87785252e-01],\n",
       "       [ 0.00000000e+00, -5.87785252e-01, -8.09016994e-01],\n",
       "       [ 0.00000000e+00, -3.09016994e-01, -9.51056516e-01],\n",
       "       [ 0.00000000e+00, -1.83697020e-16, -1.00000000e+00],\n",
       "       [ 0.00000000e+00,  3.09016994e-01, -9.51056516e-01],\n",
       "       [ 0.00000000e+00,  5.87785252e-01, -8.09016994e-01],\n",
       "       [ 0.00000000e+00,  8.09016994e-01, -5.87785252e-01],\n",
       "       [ 0.00000000e+00,  9.51056516e-01, -3.09016994e-01]])"
      ]
     },
     "execution_count": 35,
     "metadata": {},
     "output_type": "execute_result"
    }
   ],
   "source": [
    "vertices_1 = create_circle(0, N=20)\n",
    "vertices_1"
   ]
  },
  {
   "cell_type": "code",
   "execution_count": 34,
   "metadata": {},
   "outputs": [
    {
     "data": {
      "text/plain": [
       "array([[ 1.00000000e+00,  1.00000000e+00,  0.00000000e+00],\n",
       "       [ 1.00000000e+00,  9.51056516e-01,  3.09016994e-01],\n",
       "       [ 1.00000000e+00,  8.09016994e-01,  5.87785252e-01],\n",
       "       [ 1.00000000e+00,  5.87785252e-01,  8.09016994e-01],\n",
       "       [ 1.00000000e+00,  3.09016994e-01,  9.51056516e-01],\n",
       "       [ 1.00000000e+00,  6.12323400e-17,  1.00000000e+00],\n",
       "       [ 1.00000000e+00, -3.09016994e-01,  9.51056516e-01],\n",
       "       [ 1.00000000e+00, -5.87785252e-01,  8.09016994e-01],\n",
       "       [ 1.00000000e+00, -8.09016994e-01,  5.87785252e-01],\n",
       "       [ 1.00000000e+00, -9.51056516e-01,  3.09016994e-01],\n",
       "       [ 1.00000000e+00, -1.00000000e+00,  1.22464680e-16],\n",
       "       [ 1.00000000e+00, -9.51056516e-01, -3.09016994e-01],\n",
       "       [ 1.00000000e+00, -8.09016994e-01, -5.87785252e-01],\n",
       "       [ 1.00000000e+00, -5.87785252e-01, -8.09016994e-01],\n",
       "       [ 1.00000000e+00, -3.09016994e-01, -9.51056516e-01],\n",
       "       [ 1.00000000e+00, -1.83697020e-16, -1.00000000e+00],\n",
       "       [ 1.00000000e+00,  3.09016994e-01, -9.51056516e-01],\n",
       "       [ 1.00000000e+00,  5.87785252e-01, -8.09016994e-01],\n",
       "       [ 1.00000000e+00,  8.09016994e-01, -5.87785252e-01],\n",
       "       [ 1.00000000e+00,  9.51056516e-01, -3.09016994e-01]])"
      ]
     },
     "execution_count": 34,
     "metadata": {},
     "output_type": "execute_result"
    }
   ],
   "source": [
    "vertices_2 = create_circle(1, N=20)\n",
    "vertices_2"
   ]
  },
  {
   "cell_type": "code",
   "execution_count": 41,
   "metadata": {},
   "outputs": [
    {
     "ename": "ValueError",
     "evalue": "The truth value of an array with more than one element is ambiguous. Use a.any() or a.all()",
     "output_type": "error",
     "traceback": [
      "\u001b[0;31m---------------------------------------------------------------------------\u001b[0m",
      "\u001b[0;31mValueError\u001b[0m                                Traceback (most recent call last)",
      "\u001b[1;32m/home/fitlemon/code/python_for_ds/Module7/11_data_visual_mipt_hw3.ipynb Cell 8\u001b[0m line \u001b[0;36m2\n\u001b[1;32m      <a href='vscode-notebook-cell:/home/fitlemon/code/python_for_ds/Module7/11_data_visual_mipt_hw3.ipynb#X14sZmlsZQ%3D%3D?line=0'>1</a>\u001b[0m \u001b[39m# Функция создание граней из вершин\u001b[39;00m\n\u001b[0;32m----> <a href='vscode-notebook-cell:/home/fitlemon/code/python_for_ds/Module7/11_data_visual_mipt_hw3.ipynb#X14sZmlsZQ%3D%3D?line=1'>2</a>\u001b[0m hull \u001b[39m=\u001b[39m spatial\u001b[39m.\u001b[39;49mConvexHull(vertices_1, vertices_2)\n\u001b[1;32m      <a href='vscode-notebook-cell:/home/fitlemon/code/python_for_ds/Module7/11_data_visual_mipt_hw3.ipynb#X14sZmlsZQ%3D%3D?line=2'>3</a>\u001b[0m \u001b[39m#faces = hull.simplices # Массив faces содержит описание граней\u001b[39;00m\n\u001b[1;32m      <a href='vscode-notebook-cell:/home/fitlemon/code/python_for_ds/Module7/11_data_visual_mipt_hw3.ipynb#X14sZmlsZQ%3D%3D?line=3'>4</a>\u001b[0m \u001b[39m#faces\u001b[39;00m\n",
      "File \u001b[0;32m_qhull.pyx:2431\u001b[0m, in \u001b[0;36mscipy.spatial._qhull.ConvexHull.__init__\u001b[0;34m()\u001b[0m\n",
      "File \u001b[0;32m_qhull.pyx:298\u001b[0m, in \u001b[0;36mscipy.spatial._qhull._Qhull.__init__\u001b[0;34m()\u001b[0m\n",
      "\u001b[0;31mValueError\u001b[0m: The truth value of an array with more than one element is ambiguous. Use a.any() or a.all()"
     ]
    }
   ],
   "source": [
    "# Функция создание граней из вершин\n",
    "hull = spatial.ConvexHull(vertices_1, vertices_2)\n",
    "# faces = hull.simplices # Массив faces содержит описание граней\n",
    "# faces"
   ]
  }
 ],
 "metadata": {
  "kernelspec": {
   "display_name": ".venv",
   "language": "python",
   "name": "python3"
  },
  "language_info": {
   "codemirror_mode": {
    "name": "ipython",
    "version": 3
   },
   "file_extension": ".py",
   "mimetype": "text/x-python",
   "name": "python",
   "nbconvert_exporter": "python",
   "pygments_lexer": "ipython3",
   "version": "3.10.12"
  }
 },
 "nbformat": 4,
 "nbformat_minor": 2
}
