{
 "cells": [
  {
   "cell_type": "markdown",
   "metadata": {},
   "source": [
    "<div style=\"border: 1px solid white; padding: 5px; margin-right: auto;  width: 80%;\"> ✍️ Настало время потренироваться в очистке данных! В этот раз тема особенно важная — поговорим о диабете.</div>"
   ]
  },
  {
   "cell_type": "markdown",
   "metadata": {},
   "source": [
    "Вам предоставлен набор данных, первоначально полученный в Национальном институте диабета, болезней органов пищеварения и почек. \n",
    "\n",
    "Этот набор данных создан для того, чтобы на основе определённых диагностических измерений предсказать, есть ли у пациента диабет. \n",
    "\n",
    "На выбор этих экземпляров из более крупной базы данных было наложено несколько ограничений. В частности, все пациенты здесь — женщины не моложе 21 года индейского происхождения Пима.\n",
    "\n",
    "Прочитаем наши данные и выведем первые пять строк таблицы:"
   ]
  },
  {
   "cell_type": "code",
   "execution_count": 2,
   "metadata": {},
   "outputs": [],
   "source": [
    "import pandas as pd"
   ]
  },
  {
   "cell_type": "code",
   "execution_count": 15,
   "metadata": {},
   "outputs": [
    {
     "data": {
      "text/html": [
       "<div>\n",
       "<style scoped>\n",
       "    .dataframe tbody tr th:only-of-type {\n",
       "        vertical-align: middle;\n",
       "    }\n",
       "\n",
       "    .dataframe tbody tr th {\n",
       "        vertical-align: top;\n",
       "    }\n",
       "\n",
       "    .dataframe thead th {\n",
       "        text-align: right;\n",
       "    }\n",
       "</style>\n",
       "<table border=\"1\" class=\"dataframe\">\n",
       "  <thead>\n",
       "    <tr style=\"text-align: right;\">\n",
       "      <th></th>\n",
       "      <th>Pregnancies</th>\n",
       "      <th>Glucose</th>\n",
       "      <th>BloodPressure</th>\n",
       "      <th>SkinThickness</th>\n",
       "      <th>Insulin</th>\n",
       "      <th>BMI</th>\n",
       "      <th>DiabetesPedigreeFunction</th>\n",
       "      <th>Age</th>\n",
       "      <th>Outcome</th>\n",
       "      <th>Gender</th>\n",
       "    </tr>\n",
       "  </thead>\n",
       "  <tbody>\n",
       "    <tr>\n",
       "      <th>0</th>\n",
       "      <td>6</td>\n",
       "      <td>98</td>\n",
       "      <td>58</td>\n",
       "      <td>33</td>\n",
       "      <td>190</td>\n",
       "      <td>34.0</td>\n",
       "      <td>0.430</td>\n",
       "      <td>43</td>\n",
       "      <td>0</td>\n",
       "      <td>Female</td>\n",
       "    </tr>\n",
       "    <tr>\n",
       "      <th>1</th>\n",
       "      <td>2</td>\n",
       "      <td>112</td>\n",
       "      <td>75</td>\n",
       "      <td>32</td>\n",
       "      <td>0</td>\n",
       "      <td>35.7</td>\n",
       "      <td>0.148</td>\n",
       "      <td>21</td>\n",
       "      <td>0</td>\n",
       "      <td>Female</td>\n",
       "    </tr>\n",
       "    <tr>\n",
       "      <th>2</th>\n",
       "      <td>2</td>\n",
       "      <td>108</td>\n",
       "      <td>64</td>\n",
       "      <td>0</td>\n",
       "      <td>0</td>\n",
       "      <td>30.8</td>\n",
       "      <td>0.158</td>\n",
       "      <td>21</td>\n",
       "      <td>0</td>\n",
       "      <td>Female</td>\n",
       "    </tr>\n",
       "    <tr>\n",
       "      <th>3</th>\n",
       "      <td>8</td>\n",
       "      <td>107</td>\n",
       "      <td>80</td>\n",
       "      <td>0</td>\n",
       "      <td>0</td>\n",
       "      <td>24.6</td>\n",
       "      <td>0.856</td>\n",
       "      <td>34</td>\n",
       "      <td>0</td>\n",
       "      <td>Female</td>\n",
       "    </tr>\n",
       "    <tr>\n",
       "      <th>4</th>\n",
       "      <td>7</td>\n",
       "      <td>136</td>\n",
       "      <td>90</td>\n",
       "      <td>0</td>\n",
       "      <td>0</td>\n",
       "      <td>29.9</td>\n",
       "      <td>0.210</td>\n",
       "      <td>50</td>\n",
       "      <td>0</td>\n",
       "      <td>Female</td>\n",
       "    </tr>\n",
       "  </tbody>\n",
       "</table>\n",
       "</div>"
      ],
      "text/plain": [
       "   Pregnancies  Glucose  BloodPressure  SkinThickness  Insulin   BMI  \\\n",
       "0            6       98             58             33      190  34.0   \n",
       "1            2      112             75             32        0  35.7   \n",
       "2            2      108             64              0        0  30.8   \n",
       "3            8      107             80              0        0  24.6   \n",
       "4            7      136             90              0        0  29.9   \n",
       "\n",
       "   DiabetesPedigreeFunction  Age  Outcome  Gender  \n",
       "0                     0.430   43        0  Female  \n",
       "1                     0.148   21        0  Female  \n",
       "2                     0.158   21        0  Female  \n",
       "3                     0.856   34        0  Female  \n",
       "4                     0.210   50        0  Female  "
      ]
     },
     "execution_count": 15,
     "metadata": {},
     "output_type": "execute_result"
    }
   ],
   "source": [
    "init_df = pd.read_csv('./data/diabetes_data.csv')\n",
    "diabetes = init_df.copy()\n",
    "diabetes.head()"
   ]
  },
  {
   "cell_type": "markdown",
   "metadata": {},
   "source": [
    "### Признаки в данных:"
   ]
  },
  {
   "cell_type": "markdown",
   "metadata": {},
   "source": [
    "- Pregnancies — количество беременностей.\n",
    "\n",
    "- Glucose — концентрация глюкозы в плазме через два часа при пероральном тесте на толерантность к глюкозе.\n",
    "\n",
    "- BloodPressure — диастолическое артериальное давление (мм рт. ст.).\n",
    "\n",
    "- SkinThickness — толщина кожной складки трицепса (мм).\n",
    "\n",
    "- Insulin — двухчасовой сывороточный инсулин (ме Ед/мл).\n",
    "\n",
    "- BMI — индекс массы тела (весвкг / роствм).\n",
    "\n",
    "- DiabetesPedigreeFunction — функция родословной диабета (чем она выше, тем выше шанс наследственной заболеваемости).\n",
    "\n",
    "- Age — возраст.\n",
    "\n",
    "- Outcome — наличие диабета (0 — нет, 1 — да)."
   ]
  },
  {
   "cell_type": "markdown",
   "metadata": {},
   "source": [
    "<div style=\"background-color: #f5f5f5; padding: 15px; color: black; width: 80%;\">Предварительно вы можете провести небольшой разведывательный анализ: посмотреть на распределения признаков и оценить их взаимосвязь с признаком наличия диабета.</div>"
   ]
  },
  {
   "cell_type": "markdown",
   "metadata": {},
   "source": [
    "### Задание 8.1\n",
    "\n",
    "Начнём с поиска дубликатов в данных. Найдите все повторяющиеся строки в данных и удалите их. Для поиска используйте все признаки в данных. Сколько записей осталось в данных?\n",
    "\n",
    "<details>\n",
    "<summary><strong>Show answer</strong> (Click Here)</summary>\n",
    "    &emsp; &emsp; <code>\n",
    "768\n",
    "</code>\n",
    "</details>"
   ]
  },
  {
   "cell_type": "code",
   "execution_count": 16,
   "metadata": {},
   "outputs": [
    {
     "data": {
      "text/plain": [
       "(768, 10)"
      ]
     },
     "execution_count": 16,
     "metadata": {},
     "output_type": "execute_result"
    }
   ],
   "source": [
    "diabetes.drop_duplicates(inplace=True)\n",
    "diabetes.shape"
   ]
  },
  {
   "cell_type": "markdown",
   "metadata": {},
   "source": [
    "###  Задание 8.2\n",
    "\n",
    "Далее найдите все неинформативные признаки в данных и избавьтесь от них. В качестве порога информативности возьмите 0.95: удалите все признаки, для которых 95 % значений повторяются или 95 % записей уникальны. В ответ запишите имена признаков, которые вы нашли (без кавычек).\n",
    "<details>\n",
    "<summary><strong>Show answer</strong> (Click Here)</summary>\n",
    "    &emsp; &emsp; <code>\n",
    "Gender\n",
    "</code>\n",
    "</details>"
   ]
  },
  {
   "cell_type": "code",
   "execution_count": 17,
   "metadata": {},
   "outputs": [
    {
     "name": "stdout",
     "output_type": "stream",
     "text": [
      "Gender\n"
     ]
    }
   ],
   "source": [
    "for col in diabetes.columns:\n",
    "    unique_ratio = diabetes[col].nunique(col) / diabetes[col].shape[0]\n",
    "    dupl_ratio = diabetes[col].value_counts(normalize=True).max()\n",
    "    if unique_ratio > 0.95 or dupl_ratio > 0.95:\n",
    "        diabetes.drop(col, axis=1, inplace=True)\n",
    "        print(col)"
   ]
  },
  {
   "cell_type": "markdown",
   "metadata": {},
   "source": [
    "###   Задание 8.3\n",
    "\n",
    "Попробуйте найти пропуски в данных с помощью метода isnull().\n",
    "<div style=\"background-color: #f5f5f5; padding: 15px; color: black; width: 80%;\"> \n",
    "Спойлер: ничего не найдёте. А они есть! Просто они скрыты от наших глаз. В таблице пропуски в столбцах Glucose, BloodPressure, SkinThickness, Insulin и BMI обозначены нулём, поэтому традиционные методы поиска пропусков ничего вам не покажут. Давайте это исправим!\n",
    "</div>\n",
    "Замените все записи, равные 0, в столбцах Glucose, BloodPressure, SkinThickness, Insulin и BMI на символ пропуска. Его вы можете взять из библиотеки numpy: np.nan.\n",
    "\n",
    "Какая доля пропусков содержится в столбце Insulin? Ответ округлите до сотых.<details>\n",
    "<summary><strong>Show answer</strong> (Click Here)</summary>\n",
    "    &emsp; &emsp; <code>\n",
    "0.49\n",
    "</code>\n",
    "</details>"
   ]
  },
  {
   "cell_type": "code",
   "execution_count": 18,
   "metadata": {},
   "outputs": [
    {
     "data": {
      "text/plain": [
       "Pregnancies                 0.0\n",
       "Glucose                     0.0\n",
       "BloodPressure               0.0\n",
       "SkinThickness               0.0\n",
       "Insulin                     0.0\n",
       "BMI                         0.0\n",
       "DiabetesPedigreeFunction    0.0\n",
       "Age                         0.0\n",
       "Outcome                     0.0\n",
       "dtype: float64"
      ]
     },
     "execution_count": 18,
     "metadata": {},
     "output_type": "execute_result"
    }
   ],
   "source": [
    "diabetes.isna().mean()"
   ]
  },
  {
   "cell_type": "code",
   "execution_count": 20,
   "metadata": {},
   "outputs": [
    {
     "data": {
      "text/plain": [
       "0.4869791666666667"
      ]
     },
     "execution_count": 20,
     "metadata": {},
     "output_type": "execute_result"
    }
   ],
   "source": [
    "import numpy as np \n",
    "\n",
    "columns_with_zero = ['Glucose', 'BloodPressure', 'SkinThickness', 'Insulin', 'BMI']\n",
    "for col in columns_with_zero:\n",
    "    diabetes.loc[diabetes[col] == 0, col] = np.nan\n",
    "diabetes['Insulin'].isna().mean()"
   ]
  },
  {
   "cell_type": "markdown",
   "metadata": {},
   "source": [
    "###    Задание 8.4\n",
    "\n",
    "Удалите из данных признаки, где число пропусков составляет более 30 %. Сколько признаков осталось в ваших данных (с учетом удаленных неинформативных признаков в задании 8.2)?<details>\n",
    "<summary><strong>Show answer</strong> (Click Here)</summary>\n",
    "    &emsp; &emsp; <code>\n",
    "8\n",
    "</code>\n",
    "</details>"
   ]
  },
  {
   "cell_type": "code",
   "execution_count": 22,
   "metadata": {},
   "outputs": [
    {
     "name": "stdout",
     "output_type": "stream",
     "text": [
      "0.0\n",
      "0.006510416666666667\n",
      "0.045572916666666664\n",
      "0.2955729166666667\n",
      "0.4869791666666667\n",
      "0.014322916666666666\n",
      "0.0\n",
      "0.0\n",
      "0.0\n"
     ]
    },
    {
     "data": {
      "text/plain": [
       "(768, 8)"
      ]
     },
     "execution_count": 22,
     "metadata": {},
     "output_type": "execute_result"
    }
   ],
   "source": [
    "for col in diabetes.columns:\n",
    "    print(diabetes[col].isna().mean())\n",
    "    if diabetes[col].isna().mean() > 0.3:\n",
    "        diabetes.drop([col], axis=1, inplace=True)\n",
    "diabetes.shape"
   ]
  },
  {
   "cell_type": "markdown",
   "metadata": {},
   "source": [
    "###    Задание 8.5\n",
    "\n",
    "Удалите из данных только те строки, в которых содержится более двух пропусков одновременно. Чему равно результирующее число записей в таблице?<details>\n",
    "<summary><strong>Show answer</strong> (Click Here)</summary>\n",
    "    &emsp; &emsp; <code>\n",
    "8\n",
    "</code>\n",
    "</details>"
   ]
  },
  {
   "cell_type": "code",
   "execution_count": 29,
   "metadata": {},
   "outputs": [
    {
     "data": {
      "text/plain": [
       "(761, 8)"
      ]
     },
     "execution_count": 29,
     "metadata": {},
     "output_type": "execute_result"
    }
   ],
   "source": [
    "n = diabetes.shape[1]\n",
    "diabetes = diabetes.dropna(thresh=n-2, axis=0)\n",
    "diabetes.shape"
   ]
  },
  {
   "cell_type": "markdown",
   "metadata": {},
   "source": [
    "###     Задание 8.6\n",
    "\n",
    "В оставшихся записях замените пропуски на медиану. Чему равно среднее значение в столбце SkinThickness? Ответ округлите до десятых. <details>\n",
    "<summary><strong>Show answer</strong> (Click Here)</summary>\n",
    "    &emsp; &emsp; <code>\n",
    "29.1\n",
    "</code>\n",
    "</details>"
   ]
  },
  {
   "cell_type": "code",
   "execution_count": 30,
   "metadata": {},
   "outputs": [
    {
     "data": {
      "text/plain": [
       "29.109067017082786"
      ]
     },
     "execution_count": 30,
     "metadata": {},
     "output_type": "execute_result"
    }
   ],
   "source": [
    "for col in diabetes.columns:\n",
    "    if diabetes[col].isna().sum() > 0:\n",
    "        diabetes.loc[diabetes[col].isna(), col] = diabetes[col].median()\n",
    "diabetes['SkinThickness'].mean()"
   ]
  },
  {
   "cell_type": "markdown",
   "metadata": {},
   "source": [
    "###      Задание 8.7\n",
    "\n",
    "Сколько выбросов найдёт классический метод межквартильного размаха в признаке SkinThickness?<details>\n",
    "<summary><strong>Show answer</strong> (Click Here)</summary>\n",
    "    &emsp; &emsp; <code>\n",
    "87\n",
    "</code>\n",
    "</details>"
   ]
  },
  {
   "cell_type": "code",
   "execution_count": 31,
   "metadata": {},
   "outputs": [],
   "source": [
    "def outliers_iqr_mod(data, feature, left=1.5, right=1.5):\n",
    "    x = data[feature]\n",
    "    quartile_1, quartile_3 = x.quantile(0.25), x.quantile(0.75)\n",
    "    iqr = quartile_3 - quartile_1\n",
    "    lower_bound = quartile_1 - (iqr*left)\n",
    "    upper_bound = quartile_3 + (iqr*right)\n",
    "    outliers = data[(x < lower_bound) | (x > upper_bound)]\n",
    "    cleaned = data[(x >= lower_bound) & (x <= upper_bound)]\n",
    "    return outliers, cleaned"
   ]
  },
  {
   "cell_type": "code",
   "execution_count": 32,
   "metadata": {},
   "outputs": [
    {
     "name": "stdout",
     "output_type": "stream",
     "text": [
      "Число выбросов по методу Тьюки: 87\n"
     ]
    }
   ],
   "source": [
    "outliers, cleaned = outliers_iqr_mod(diabetes, 'SkinThickness')\n",
    "print(f'Число выбросов по методу Тьюки: {outliers.shape[0]}')"
   ]
  },
  {
   "cell_type": "markdown",
   "metadata": {},
   "source": [
    "###     Задание 8.8\n",
    "\n",
    "Сколько выбросов найдёт классический метод z-отклонения в признаке SkinThickness?\n",
    "\n",
    "<details>\n",
    "<summary><strong>Show answer</strong> (Click Here)</summary>\n",
    "    &emsp; &emsp; <code>\n",
    "4\n",
    "</code>\n",
    "</details>"
   ]
  },
  {
   "cell_type": "code",
   "execution_count": 39,
   "metadata": {},
   "outputs": [],
   "source": [
    "def outliers_z_score_mod(data, feature, log_scale=False, left=3, right=3):\n",
    "    if log_scale:\n",
    "        x = np.log(data[feature])\n",
    "    else:\n",
    "        x = data[feature]\n",
    "    mu = x.mean()\n",
    "    sigma = x.std()\n",
    "    lower_bound = mu - left * sigma\n",
    "    upper_bound = mu + right * sigma\n",
    "    outliers = data[(x < lower_bound) | (x > upper_bound)]\n",
    "    cleaned = data[(x >= lower_bound) & (x <= upper_bound)]\n",
    "    return outliers, cleaned"
   ]
  },
  {
   "cell_type": "code",
   "execution_count": 35,
   "metadata": {},
   "outputs": [
    {
     "name": "stdout",
     "output_type": "stream",
     "text": [
      "Число выбросов по методу z-отклонения: 4\n",
      "Результирующее число записей: 757\n"
     ]
    }
   ],
   "source": [
    "outliers, cleaned = outliers_z_score_mod(diabetes, 'SkinThickness')\n",
    "print(f'Число выбросов по методу z-отклонения: {outliers.shape[0]}')\n",
    "print(f'Результирующее число записей: {cleaned.shape[0]}')"
   ]
  },
  {
   "cell_type": "markdown",
   "metadata": {},
   "source": [
    "###     Задание 8.9\n",
    "\n",
    "На приведённой гистограмме показано распределение признака DiabetesPedigreeFunction. Такой вид распределения очень похож на логнормальный, и он заставляет задуматься о логарифмировании признака. Найдите сначала число выбросов в признаке DiabetesPedigreeFunction с помощью классического метода межквартильного размаха.\n",
    "<img src='../static/img/data_cleaning_12.png' style='width: 400px;'><br>\n",
    "Затем найдите число выбросов в этом же признаке в логарифмическом масштабе (при логарифмировании единицу прибавлять не нужно!). Какова разница между двумя этими числами (вычтите из первого второе)?\n",
    "<details>\n",
    "<summary><strong>Show answer</strong> (Click Here)</summary>\n",
    "    &emsp; &emsp; <code>\n",
    "29\n",
    "</code>\n",
    "</details>"
   ]
  },
  {
   "cell_type": "code",
   "execution_count": 38,
   "metadata": {},
   "outputs": [
    {
     "name": "stdout",
     "output_type": "stream",
     "text": [
      "Число выбросов по методу Тьюки: 29\n",
      "Результирующее число записей: 732\n"
     ]
    }
   ],
   "source": [
    "outliers, cleaned = outliers_iqr_mod(diabetes, 'DiabetesPedigreeFunction')\n",
    "print(f'Число выбросов по методу Тьюки: {outliers.shape[0]}')\n",
    "print(f'Результирующее число записей: {cleaned.shape[0]}')"
   ]
  },
  {
   "cell_type": "code",
   "execution_count": 40,
   "metadata": {},
   "outputs": [
    {
     "name": "stdout",
     "output_type": "stream",
     "text": [
      "Число выбросов по методу z-отклонения: 0\n",
      "Результирующее число записей: 761\n"
     ]
    }
   ],
   "source": [
    "outliers, cleaned = outliers_z_score_mod(diabetes, 'DiabetesPedigreeFunction', log_scale=True)\n",
    "print(f'Число выбросов по методу z-отклонения: {outliers.shape[0]}')\n",
    "print(f'Результирующее число записей: {cleaned.shape[0]}')"
   ]
  },
  {
   "cell_type": "code",
   "execution_count": null,
   "metadata": {},
   "outputs": [],
   "source": []
  }
 ],
 "metadata": {
  "kernelspec": {
   "display_name": ".venv",
   "language": "python",
   "name": "python3"
  },
  "language_info": {
   "codemirror_mode": {
    "name": "ipython",
    "version": 3
   },
   "file_extension": ".py",
   "mimetype": "text/x-python",
   "name": "python",
   "nbconvert_exporter": "python",
   "pygments_lexer": "ipython3",
   "version": "3.10.12"
  }
 },
 "nbformat": 4,
 "nbformat_minor": 2
}
