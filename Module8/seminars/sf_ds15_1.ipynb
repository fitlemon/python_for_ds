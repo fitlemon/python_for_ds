{
 "cells": [
  {
   "cell_type": "code",
   "execution_count": 1,
   "id": "3dd596e0",
   "metadata": {},
<<<<<<< HEAD
   "outputs": [],
=======
   "outputs": [
    {
     "ename": "ModuleNotFoundError",
     "evalue": "No module named 'requests'",
     "output_type": "error",
     "traceback": [
      "\u001b[0;31m---------------------------------------------------------------------------\u001b[0m",
      "\u001b[0;31mModuleNotFoundError\u001b[0m                       Traceback (most recent call last)",
      "\u001b[1;32m/home/fitlemon/code/python_for_ds/Module8/seminars/sf_ds15_1.ipynb Cell 1\u001b[0m line \u001b[0;36m1\n\u001b[0;32m----> <a href='vscode-notebook-cell:/home/fitlemon/code/python_for_ds/Module8/seminars/sf_ds15_1.ipynb#W0sZmlsZQ%3D%3D?line=0'>1</a>\u001b[0m \u001b[39mimport\u001b[39;00m \u001b[39mrequests\u001b[39;00m\n\u001b[1;32m      <a href='vscode-notebook-cell:/home/fitlemon/code/python_for_ds/Module8/seminars/sf_ds15_1.ipynb#W0sZmlsZQ%3D%3D?line=1'>2</a>\u001b[0m \u001b[39mimport\u001b[39;00m \u001b[39mtime\u001b[39;00m\n\u001b[1;32m      <a href='vscode-notebook-cell:/home/fitlemon/code/python_for_ds/Module8/seminars/sf_ds15_1.ipynb#W0sZmlsZQ%3D%3D?line=2'>3</a>\u001b[0m \u001b[39mimport\u001b[39;00m \u001b[39mjson\u001b[39;00m\n",
      "\u001b[0;31mModuleNotFoundError\u001b[0m: No module named 'requests'"
     ]
    }
   ],
>>>>>>> 4d9c283 (seminars)
   "source": [
    "import requests\n",
    "import time\n",
    "import json\n",
    "import pandas as pd\n",
    "import numpy as np\n",
    "import re\n",
    "import pickle\n",
    "import os\n",
    "from warnings import warn\n",
    "from datetime import datetime"
   ]
  },
  {
<<<<<<< HEAD
=======
   "cell_type": "code",
   "execution_count": 3,
   "id": "fb9b9fbe",
   "metadata": {},
   "outputs": [],
   "source": [
    "import pandas as pd"
   ]
  },
  {
   "cell_type": "code",
   "execution_count": 5,
   "id": "57ae1263",
   "metadata": {},
   "outputs": [
    {
     "data": {
      "text/plain": [
       "Timestamp('2019-01-01 00:00:00')"
      ]
     },
     "execution_count": 5,
     "metadata": {},
     "output_type": "execute_result"
    }
   ],
   "source": [
    "pd.to_datetime(\"2019-01-01\")"
   ]
  },
  {
>>>>>>> 4d9c283 (seminars)
   "cell_type": "markdown",
   "id": "9579df9d",
   "metadata": {},
   "source": [
    "## Исследование заработной платы по описанию вакансии\n",
    "На этом занятии будем исследовать данные с HH. Для этого нам пригодится [HH API](https://dev.hh.ru/).\n",
    "\n",
    "#### Получим ID 2000 вакансий"
   ]
  },
  {
   "cell_type": "code",
<<<<<<< HEAD
   "execution_count": 2,
=======
   "execution_count": null,
>>>>>>> 4d9c283 (seminars)
   "id": "a06441ab-59e5-47fc-8d59-173db233c0fc",
   "metadata": {},
   "outputs": [],
   "source": [
    "# если мы не хотим всматриваться в содержимое ячеек, а просто быстро исполнить код\n",
<<<<<<< HEAD
    "if 'ids' in globals():\n",
    "    pass\n",
    "elif os.path.exists('tmp/ids.pickle'):\n",
    "    with open('ids.pickle', 'rb') as infile:\n",
    "        ids = pickle.load(infile)\n",
    "else:\n",
    "    params = {\n",
    "        'text': 'NAME:Аналитик',  # в имени должно быть слово \"Аналитик\"\n",
    "        'area': 1,  # поиск ощуществляется по вакансиям города Москва\n",
    "        'page': 0,  # индекс страницы поиска на HH\n",
    "        'per_page': 100,  # кол-во вакансий на 1 странице\n",
    "        'only_with_salary': 'true'  # берем только те вакансии, где указана заработная плата\n",
    "    }\n",
    "    \n",
    "    ids = []\n",
    "    \n",
    "    while True:\n",
    "        request = requests.get('https://api.hh.ru/vacancies/', params)\n",
    "        page = request.content.decode() # декодируем из байтов в текст\n",
    "        request.close()\n",
    "        \n",
    "        page_dict = json.loads(page)\n",
    "        ids_ = [dct['id'] for dct in page_dict['items']]\n",
    "    \n",
    "        print(f'on page {params[\"page\"]} {len(ids_)} vacancies found')\n",
    "    \n",
=======
    "if \"ids\" in globals():\n",
    "    pass\n",
    "elif os.path.exists(\"tmp/ids.pickle\"):\n",
    "    with open(\"ids.pickle\", \"rb\") as infile:\n",
    "        ids = pickle.load(infile)\n",
    "else:\n",
    "    params = {\n",
    "        \"text\": \"NAME:Аналитик\",  # в имени должно быть слово \"Аналитик\"\n",
    "        \"area\": 1,  # поиск ощуществляется по вакансиям города Москва\n",
    "        \"page\": 0,  # индекс страницы поиска на HH\n",
    "        \"per_page\": 100,  # кол-во вакансий на 1 странице\n",
    "        \"only_with_salary\": \"true\",  # берем только те вакансии, где указана заработная плата\n",
    "    }\n",
    "\n",
    "    ids = []\n",
    "\n",
    "    while True:\n",
    "        request = requests.get(\"https://api.hh.ru/vacancies/\", params)\n",
    "        page = request.content.decode()  # декодируем из байтов в текст\n",
    "        request.close()\n",
    "\n",
    "        page_dict = json.loads(page)\n",
    "        ids_ = [dct[\"id\"] for dct in page_dict[\"items\"]]\n",
    "\n",
    "        print(f'on page {params[\"page\"]} {len(ids_)} vacancies found')\n",
    "\n",
>>>>>>> 4d9c283 (seminars)
    "        # break loop if len(ids_) == 0\n",
    "        if len(ids_) == 0:\n",
    "            break\n",
    "        else:\n",
<<<<<<< HEAD
    "            ids.extend([dct['id'] for dct in page_dict['items']])\n",
    "            params['page'] += 1\n",
    "            time.sleep(0.5)\n",
    "\n",
    "    with open('/tmp/ids.pickle', 'wb') as outfile:\n",
=======
    "            ids.extend([dct[\"id\"] for dct in page_dict[\"items\"]])\n",
    "            params[\"page\"] += 1\n",
    "            time.sleep(0.5)\n",
    "\n",
    "    with open(\"/tmp/ids.pickle\", \"wb\") as outfile:\n",
>>>>>>> 4d9c283 (seminars)
    "        pickle.dump(ids, outfile)"
   ]
  },
  {
   "cell_type": "code",
   "execution_count": null,
   "id": "fadde312",
   "metadata": {
    "scrolled": true
   },
   "outputs": [],
   "source": [
    "params = {\n",
<<<<<<< HEAD
    "    'text': 'NAME:Аналитик',  # в имени должно быть слово \"Аналитик\"\n",
    "    'area': 1,  # поиск ощуществляется по вакансиям города Москва\n",
    "    'page': 0,  # индекс страницы поиска на HH\n",
    "    'per_page': 100,  # кол-во вакансий на 1 странице\n",
    "    'only_with_salary': 'true'  # берем только те вакансии, где указана заработная плата\n",
=======
    "    \"text\": \"NAME:Аналитик\",  # в имени должно быть слово \"Аналитик\"\n",
    "    \"area\": 1,  # поиск ощуществляется по вакансиям города Москва\n",
    "    \"page\": 0,  # индекс страницы поиска на HH\n",
    "    \"per_page\": 100,  # кол-во вакансий на 1 странице\n",
    "    \"only_with_salary\": \"true\",  # берем только те вакансии, где указана заработная плата\n",
>>>>>>> 4d9c283 (seminars)
    "}\n",
    "\n",
    "ids = []\n",
    "\n",
    "while True:\n",
<<<<<<< HEAD
    "    request = requests.get('https://api.hh.ru/vacancies/', params)\n",
    "    page = request.content.decode() # декодируем из байтов в текст\n",
    "    request.close()\n",
    "    \n",
    "    page_dict = json.loads(page)\n",
    "    ids_ = [dct['id'] for dct in page_dict['items']]\n",
=======
    "    request = requests.get(\"https://api.hh.ru/vacancies/\", params)\n",
    "    page = request.content.decode()  # декодируем из байтов в текст\n",
    "    request.close()\n",
    "\n",
    "    page_dict = json.loads(page)\n",
    "    ids_ = [dct[\"id\"] for dct in page_dict[\"items\"]]\n",
>>>>>>> 4d9c283 (seminars)
    "\n",
    "    print(f'on page {params[\"page\"]} {len(ids_)} vacancies found')\n",
    "\n",
    "    # break loop if len(ids_) == 0\n",
    "    if len(ids_) == 0:\n",
    "        break\n",
    "    else:\n",
<<<<<<< HEAD
    "        ids.extend([dct['id'] for dct in page_dict['items']])\n",
    "        params['page'] += 1\n",
=======
    "        ids.extend([dct[\"id\"] for dct in page_dict[\"items\"]])\n",
    "        params[\"page\"] += 1\n",
>>>>>>> 4d9c283 (seminars)
    "        time.sleep(0.5)"
   ]
  },
  {
   "cell_type": "code",
   "execution_count": null,
   "id": "fef379b8-6a38-46e7-860f-f97dd4a85fca",
   "metadata": {},
   "outputs": [],
   "source": [
<<<<<<< HEAD
    "with open('/tmp/ids.pickle', 'wb') as outfile:\n",
=======
    "with open(\"/tmp/ids.pickle\", \"wb\") as outfile:\n",
>>>>>>> 4d9c283 (seminars)
    "    pickle.dump(ids, outfile)"
   ]
  },
  {
   "cell_type": "code",
   "execution_count": null,
   "id": "05d99f42-ef47-4fb4-8b10-f3275e8b0a4b",
   "metadata": {},
   "outputs": [],
   "source": [
    "# with open('ids.pickle', 'rb') as infile:\n",
    "#     ids = pickle.load(infile)"
   ]
  },
  {
   "cell_type": "markdown",
   "id": "f9e22f3e-c58f-4a6d-8ef7-dee16011b5ab",
   "metadata": {},
   "source": [
    "#### Получим данные по каждой вакансии"
   ]
  },
  {
   "cell_type": "code",
<<<<<<< HEAD
   "execution_count": 4,
=======
   "execution_count": null,
>>>>>>> 4d9c283 (seminars)
   "id": "607b9470-a513-4628-bde5-1c1deb4a7421",
   "metadata": {},
   "outputs": [
    {
     "data": {
      "text/plain": [
       "1746"
      ]
     },
     "execution_count": 4,
     "metadata": {},
     "output_type": "execute_result"
    }
   ],
   "source": [
    "len(ids)"
   ]
  },
  {
   "cell_type": "code",
<<<<<<< HEAD
   "execution_count": 6,
=======
   "execution_count": null,
>>>>>>> 4d9c283 (seminars)
   "id": "7c6f565a-b518-4d58-a056-38e48486d4f1",
   "metadata": {},
   "outputs": [
    {
     "data": {
      "text/plain": [
       "14.55"
      ]
     },
     "execution_count": 6,
     "metadata": {},
     "output_type": "execute_result"
    }
   ],
   "source": [
    "(1746 * 0.5) / 60"
   ]
  },
  {
   "cell_type": "code",
<<<<<<< HEAD
   "execution_count": 10,
=======
   "execution_count": null,
>>>>>>> 4d9c283 (seminars)
   "id": "0e5d9073-4d48-44c1-b81e-c8983d5df83e",
   "metadata": {
    "scrolled": true
   },
   "outputs": [
    {
     "name": "stdout",
     "output_type": "stream",
     "text": [
      "1/1746 processed, 0 minutes and 0 seconds passed...\n",
      "11/1746 processed, 0 minutes and 6 seconds passed...\n",
      "21/1746 processed, 0 minutes and 12 seconds passed...\n",
      "31/1746 processed, 0 minutes and 18 seconds passed...\n",
      "41/1746 processed, 0 minutes and 24 seconds passed...\n",
      "51/1746 processed, 0 minutes and 30 seconds passed...\n",
      "61/1746 processed, 0 minutes and 36 seconds passed...\n",
      "71/1746 processed, 0 minutes and 42 seconds passed...\n",
      "81/1746 processed, 0 minutes and 48 seconds passed...\n",
      "91/1746 processed, 0 minutes and 54 seconds passed...\n",
      "101/1746 processed, 1 minutes and 0 seconds passed...\n",
      "111/1746 processed, 1 minutes and 6 seconds passed...\n",
      "121/1746 processed, 1 minutes and 12 seconds passed...\n",
      "131/1746 processed, 1 minutes and 18 seconds passed...\n",
      "141/1746 processed, 1 minutes and 24 seconds passed...\n",
      "151/1746 processed, 1 minutes and 32 seconds passed...\n",
      "161/1746 processed, 1 minutes and 38 seconds passed...\n",
      "171/1746 processed, 1 minutes and 44 seconds passed...\n",
      "181/1746 processed, 1 minutes and 50 seconds passed...\n",
      "191/1746 processed, 1 minutes and 56 seconds passed...\n",
      "201/1746 processed, 2 minutes and 2 seconds passed...\n",
      "211/1746 processed, 2 minutes and 8 seconds passed...\n",
      "221/1746 processed, 2 minutes and 14 seconds passed...\n",
      "231/1746 processed, 2 minutes and 20 seconds passed...\n"
     ]
    },
    {
     "name": "stderr",
     "output_type": "stream",
     "text": [
      "/var/folders/h6/lv17v1r10lz21g745pd6774h0tgc4z/T/ipykernel_5887/2360980563.py:20: UserWarning: Request finished with exit code 404.\n",
      "  warn(message)\n"
     ]
    },
    {
     "name": "stdout",
     "output_type": "stream",
     "text": [
      "241/1746 processed, 2 minutes and 27 seconds passed...\n",
      "251/1746 processed, 2 minutes and 33 seconds passed...\n",
      "261/1746 processed, 2 minutes and 39 seconds passed...\n",
      "271/1746 processed, 2 minutes and 46 seconds passed...\n",
      "281/1746 processed, 2 minutes and 52 seconds passed...\n",
      "291/1746 processed, 2 minutes and 58 seconds passed...\n",
      "301/1746 processed, 3 minutes and 4 seconds passed...\n",
      "311/1746 processed, 3 minutes and 10 seconds passed...\n",
      "321/1746 processed, 3 minutes and 16 seconds passed...\n",
      "331/1746 processed, 3 minutes and 22 seconds passed...\n",
      "341/1746 processed, 3 minutes and 28 seconds passed...\n",
      "351/1746 processed, 3 minutes and 34 seconds passed...\n",
      "361/1746 processed, 3 minutes and 41 seconds passed...\n",
      "371/1746 processed, 3 minutes and 47 seconds passed...\n",
      "381/1746 processed, 3 minutes and 53 seconds passed...\n",
      "391/1746 processed, 3 minutes and 59 seconds passed...\n",
      "401/1746 processed, 4 minutes and 5 seconds passed...\n",
      "411/1746 processed, 4 minutes and 12 seconds passed...\n",
      "421/1746 processed, 4 minutes and 18 seconds passed...\n",
      "431/1746 processed, 4 minutes and 25 seconds passed...\n",
      "441/1746 processed, 4 minutes and 31 seconds passed...\n",
      "451/1746 processed, 4 minutes and 37 seconds passed...\n",
      "461/1746 processed, 4 minutes and 43 seconds passed...\n",
      "471/1746 processed, 4 minutes and 50 seconds passed...\n",
      "481/1746 processed, 4 minutes and 56 seconds passed...\n",
      "491/1746 processed, 5 minutes and 2 seconds passed...\n",
      "501/1746 processed, 5 minutes and 8 seconds passed...\n",
      "511/1746 processed, 5 minutes and 14 seconds passed...\n",
      "521/1746 processed, 5 minutes and 21 seconds passed...\n",
      "531/1746 processed, 5 minutes and 27 seconds passed...\n",
      "541/1746 processed, 5 minutes and 33 seconds passed...\n",
      "551/1746 processed, 5 minutes and 39 seconds passed...\n",
      "561/1746 processed, 5 minutes and 46 seconds passed...\n",
      "571/1746 processed, 5 minutes and 52 seconds passed...\n",
      "581/1746 processed, 5 minutes and 58 seconds passed...\n",
      "591/1746 processed, 6 minutes and 4 seconds passed...\n",
      "601/1746 processed, 6 minutes and 11 seconds passed...\n",
      "611/1746 processed, 6 minutes and 17 seconds passed...\n",
      "621/1746 processed, 6 minutes and 23 seconds passed...\n",
      "631/1746 processed, 6 minutes and 29 seconds passed...\n",
      "641/1746 processed, 6 minutes and 35 seconds passed...\n",
      "651/1746 processed, 6 minutes and 42 seconds passed...\n",
      "661/1746 processed, 6 minutes and 48 seconds passed...\n",
      "671/1746 processed, 6 minutes and 54 seconds passed...\n",
      "681/1746 processed, 7 minutes and 0 seconds passed...\n",
      "691/1746 processed, 7 minutes and 8 seconds passed...\n",
      "701/1746 processed, 7 minutes and 14 seconds passed...\n",
      "711/1746 processed, 7 minutes and 20 seconds passed...\n",
      "721/1746 processed, 7 minutes and 26 seconds passed...\n",
      "731/1746 processed, 7 minutes and 33 seconds passed...\n",
      "741/1746 processed, 7 minutes and 39 seconds passed...\n",
      "751/1746 processed, 7 minutes and 45 seconds passed...\n",
      "761/1746 processed, 7 minutes and 52 seconds passed...\n",
      "771/1746 processed, 7 minutes and 58 seconds passed...\n",
      "781/1746 processed, 8 minutes and 4 seconds passed...\n",
      "791/1746 processed, 8 minutes and 10 seconds passed...\n",
      "801/1746 processed, 8 minutes and 17 seconds passed...\n",
      "811/1746 processed, 8 minutes and 23 seconds passed...\n",
      "821/1746 processed, 8 minutes and 29 seconds passed...\n",
      "831/1746 processed, 8 minutes and 35 seconds passed...\n",
      "841/1746 processed, 8 minutes and 41 seconds passed...\n",
      "851/1746 processed, 8 minutes and 48 seconds passed...\n",
      "861/1746 processed, 8 minutes and 54 seconds passed...\n",
      "871/1746 processed, 9 minutes and 0 seconds passed...\n",
      "881/1746 processed, 9 minutes and 11 seconds passed...\n",
      "891/1746 processed, 9 minutes and 17 seconds passed...\n",
      "901/1746 processed, 9 minutes and 23 seconds passed...\n",
      "911/1746 processed, 9 minutes and 29 seconds passed...\n",
      "921/1746 processed, 9 minutes and 36 seconds passed...\n",
      "931/1746 processed, 9 minutes and 42 seconds passed...\n",
      "941/1746 processed, 9 minutes and 48 seconds passed...\n",
      "951/1746 processed, 9 minutes and 54 seconds passed...\n",
      "961/1746 processed, 10 minutes and 0 seconds passed...\n",
      "971/1746 processed, 10 minutes and 7 seconds passed...\n",
      "981/1746 processed, 10 minutes and 16 seconds passed...\n",
      "991/1746 processed, 10 minutes and 22 seconds passed...\n",
      "1001/1746 processed, 10 minutes and 28 seconds passed...\n",
      "1011/1746 processed, 10 minutes and 34 seconds passed...\n",
      "1021/1746 processed, 10 minutes and 40 seconds passed...\n",
      "1031/1746 processed, 10 minutes and 47 seconds passed...\n",
      "1041/1746 processed, 10 minutes and 53 seconds passed...\n",
      "1051/1746 processed, 10 minutes and 59 seconds passed...\n",
      "1061/1746 processed, 11 minutes and 5 seconds passed...\n",
      "1071/1746 processed, 11 minutes and 11 seconds passed...\n",
      "1081/1746 processed, 11 minutes and 17 seconds passed...\n",
      "1091/1746 processed, 11 minutes and 24 seconds passed...\n",
      "1101/1746 processed, 11 minutes and 30 seconds passed...\n",
      "1111/1746 processed, 11 minutes and 36 seconds passed...\n",
      "1121/1746 processed, 11 minutes and 43 seconds passed...\n",
      "1131/1746 processed, 11 minutes and 49 seconds passed...\n",
      "1141/1746 processed, 11 minutes and 56 seconds passed...\n",
      "1151/1746 processed, 12 minutes and 2 seconds passed...\n",
      "1161/1746 processed, 12 minutes and 8 seconds passed...\n",
      "1171/1746 processed, 12 minutes and 14 seconds passed...\n",
      "1181/1746 processed, 12 minutes and 20 seconds passed...\n",
      "1191/1746 processed, 12 minutes and 27 seconds passed...\n",
      "1201/1746 processed, 12 minutes and 33 seconds passed...\n",
      "1211/1746 processed, 12 minutes and 39 seconds passed...\n",
      "1221/1746 processed, 12 minutes and 45 seconds passed...\n",
      "1231/1746 processed, 12 minutes and 51 seconds passed...\n",
      "1241/1746 processed, 12 minutes and 57 seconds passed...\n",
      "1251/1746 processed, 13 minutes and 4 seconds passed...\n",
      "1261/1746 processed, 13 minutes and 10 seconds passed...\n",
      "1271/1746 processed, 13 minutes and 16 seconds passed...\n",
      "1281/1746 processed, 13 minutes and 22 seconds passed...\n",
      "1291/1746 processed, 13 minutes and 28 seconds passed...\n",
      "1301/1746 processed, 13 minutes and 34 seconds passed...\n",
      "1311/1746 processed, 13 minutes and 40 seconds passed...\n",
      "1321/1746 processed, 13 minutes and 47 seconds passed...\n",
      "1331/1746 processed, 13 minutes and 53 seconds passed...\n",
      "1341/1746 processed, 13 minutes and 59 seconds passed...\n",
      "1351/1746 processed, 14 minutes and 5 seconds passed...\n",
      "1361/1746 processed, 14 minutes and 11 seconds passed...\n",
      "1371/1746 processed, 14 minutes and 18 seconds passed...\n",
      "1381/1746 processed, 14 minutes and 24 seconds passed...\n",
      "1391/1746 processed, 14 minutes and 30 seconds passed...\n",
      "1401/1746 processed, 14 minutes and 36 seconds passed...\n",
      "1411/1746 processed, 14 minutes and 42 seconds passed...\n",
      "1421/1746 processed, 14 minutes and 48 seconds passed...\n",
      "1431/1746 processed, 14 minutes and 54 seconds passed...\n",
      "1441/1746 processed, 15 minutes and 0 seconds passed...\n",
      "1451/1746 processed, 15 minutes and 6 seconds passed...\n",
      "1461/1746 processed, 15 minutes and 14 seconds passed...\n",
      "1471/1746 processed, 15 minutes and 20 seconds passed...\n",
      "1481/1746 processed, 15 minutes and 26 seconds passed...\n",
      "1491/1746 processed, 15 minutes and 32 seconds passed...\n",
      "1501/1746 processed, 15 minutes and 38 seconds passed...\n",
      "1511/1746 processed, 15 minutes and 44 seconds passed...\n",
      "1521/1746 processed, 15 minutes and 50 seconds passed...\n",
      "1531/1746 processed, 15 minutes and 57 seconds passed...\n",
      "1541/1746 processed, 16 minutes and 3 seconds passed...\n",
      "1551/1746 processed, 16 minutes and 9 seconds passed...\n",
      "1561/1746 processed, 16 minutes and 15 seconds passed...\n",
      "1571/1746 processed, 16 minutes and 21 seconds passed...\n",
      "1581/1746 processed, 16 minutes and 27 seconds passed...\n",
      "1591/1746 processed, 16 minutes and 33 seconds passed...\n",
      "1601/1746 processed, 16 minutes and 40 seconds passed...\n",
      "1611/1746 processed, 16 minutes and 46 seconds passed...\n",
      "1621/1746 processed, 16 minutes and 52 seconds passed...\n",
      "1631/1746 processed, 16 minutes and 59 seconds passed...\n",
      "1641/1746 processed, 17 minutes and 5 seconds passed...\n",
      "1651/1746 processed, 17 minutes and 11 seconds passed...\n",
      "1661/1746 processed, 17 minutes and 17 seconds passed...\n",
      "1671/1746 processed, 17 minutes and 23 seconds passed...\n",
      "1681/1746 processed, 17 minutes and 29 seconds passed...\n",
      "1691/1746 processed, 17 minutes and 36 seconds passed...\n",
      "1701/1746 processed, 17 minutes and 42 seconds passed...\n",
      "1711/1746 processed, 17 minutes and 48 seconds passed...\n",
      "1721/1746 processed, 17 minutes and 54 seconds passed...\n",
      "1731/1746 processed, 18 minutes and 0 seconds passed...\n",
      "1741/1746 processed, 18 minutes and 6 seconds passed...\n"
     ]
    }
   ],
   "source": [
<<<<<<< HEAD
    "main_host = 'https://api.hh.ru'  # host of HH.API\n",
    "entity = 'vacancies'  # сущность, по которой мы ищем\n",
=======
    "main_host = \"https://api.hh.ru\"  # host of HH.API\n",
    "entity = \"vacancies\"  # сущность, по которой мы ищем\n",
>>>>>>> 4d9c283 (seminars)
    "\n",
    "vacancies = []\n",
    "\n",
    "ids_count = len(ids)\n",
    "time_init = datetime.now()\n",
    "\n",
    "for index, id_ in enumerate(ids):\n",
    "    # load vacancy info\n",
<<<<<<< HEAD
    "    response = requests.get(f'{main_host}/{entity}/{id_}')\n",
    "    \n",
    "    if response.status_code == 200:\n",
    "        response_content = response.content.decode()  # response.json()\n",
    "        response_dict = json.loads(response_content)\n",
    "        \n",
    "        vacancies.append(response_dict)\n",
    "        \n",
    "    else:\n",
    "        message = f'Request finished with exit code {response.status_code}.'\n",
=======
    "    response = requests.get(f\"{main_host}/{entity}/{id_}\")\n",
    "\n",
    "    if response.status_code == 200:\n",
    "        response_content = response.content.decode()  # response.json()\n",
    "        response_dict = json.loads(response_content)\n",
    "\n",
    "        vacancies.append(response_dict)\n",
    "\n",
    "    else:\n",
    "        message = f\"Request finished with exit code {response.status_code}.\"\n",
>>>>>>> 4d9c283 (seminars)
    "        warn(message)\n",
    "\n",
    "        vacancies.append({})  # {'id': None}\n",
    "\n",
    "    # logs\n",
    "    if index % 10 == 0:\n",
    "        time_between = datetime.now()\n",
    "        delta = time_between - time_init  # class timedelta\n",
    "        delta_seconds_total = delta.seconds\n",
<<<<<<< HEAD
    "        \n",
    "        delta_minutes = delta_seconds_total // 60\n",
    "        delta_seconds = delta_seconds_total % 60\n",
    "        \n",
    "        print(f'{len(vacancies)}/{ids_count} processed, {delta_minutes} minutes and {delta_seconds} seconds passed...')\n",
    "    \n",
=======
    "\n",
    "        delta_minutes = delta_seconds_total // 60\n",
    "        delta_seconds = delta_seconds_total % 60\n",
    "\n",
    "        print(\n",
    "            f\"{len(vacancies)}/{ids_count} processed, {delta_minutes} minutes and {delta_seconds} seconds passed...\"\n",
    "        )\n",
    "\n",
>>>>>>> 4d9c283 (seminars)
    "    time.sleep(0.5)"
   ]
  },
  {
   "cell_type": "code",
<<<<<<< HEAD
   "execution_count": 35,
=======
   "execution_count": null,
>>>>>>> 4d9c283 (seminars)
   "id": "ab6116d5-cb45-435b-9db0-7ac68999ef2f",
   "metadata": {},
   "outputs": [],
   "source": [
    "t1 = datetime.now()"
   ]
  },
  {
   "cell_type": "code",
<<<<<<< HEAD
   "execution_count": 36,
=======
   "execution_count": null,
>>>>>>> 4d9c283 (seminars)
   "id": "2300ee67-e1bb-4532-8d1a-ac978fee8d33",
   "metadata": {},
   "outputs": [],
   "source": [
    "t2 = datetime.now()"
   ]
  },
  {
   "cell_type": "code",
<<<<<<< HEAD
   "execution_count": 37,
=======
   "execution_count": null,
>>>>>>> 4d9c283 (seminars)
   "id": "f879054f-b604-4241-a515-ebc4b360cf25",
   "metadata": {},
   "outputs": [],
   "source": [
    "td = t2 - t1"
   ]
  },
  {
   "cell_type": "code",
<<<<<<< HEAD
   "execution_count": 38,
=======
   "execution_count": null,
>>>>>>> 4d9c283 (seminars)
   "id": "caca6a6d-53eb-408b-a58a-1e0c5e7b0168",
   "metadata": {},
   "outputs": [
    {
     "data": {
      "text/plain": [
       "datetime.timedelta(seconds=6, microseconds=966809)"
      ]
     },
     "execution_count": 38,
     "metadata": {},
     "output_type": "execute_result"
    }
   ],
   "source": [
    "td"
   ]
  },
  {
   "cell_type": "code",
<<<<<<< HEAD
   "execution_count": 13,
=======
   "execution_count": null,
>>>>>>> 4d9c283 (seminars)
   "id": "50d22f58-b2f2-4f08-91e8-77105ba04bf5",
   "metadata": {},
   "outputs": [],
   "source": [
<<<<<<< HEAD
    "with open('tmp/vacancies.pickle', 'wb') as outfile:\n",
=======
    "with open(\"tmp/vacancies.pickle\", \"wb\") as outfile:\n",
>>>>>>> 4d9c283 (seminars)
    "    pickle.dump(vacancies, outfile)"
   ]
  },
  {
   "cell_type": "code",
<<<<<<< HEAD
   "execution_count": 14,
=======
   "execution_count": null,
>>>>>>> 4d9c283 (seminars)
   "id": "7c0d64a3-f0cc-478e-a2e4-80f94d29010b",
   "metadata": {},
   "outputs": [],
   "source": [
<<<<<<< HEAD
    "with open('tmp/vacancies.pickle', 'rb') as infile:\n",
=======
    "with open(\"tmp/vacancies.pickle\", \"rb\") as infile:\n",
>>>>>>> 4d9c283 (seminars)
    "    vacancies = pickle.load(infile)"
   ]
  },
  {
   "cell_type": "code",
<<<<<<< HEAD
   "execution_count": 15,
=======
   "execution_count": null,
>>>>>>> 4d9c283 (seminars)
   "id": "7493d6e4-5dd1-4cfd-b94d-d2dfd99ef106",
   "metadata": {},
   "outputs": [],
   "source": [
<<<<<<< HEAD
    "salary_params = ['from', 'to', 'currency', 'gross']\n",
    "address_params = ['lat', 'lng']\n",
=======
    "salary_params = [\"from\", \"to\", \"currency\", \"gross\"]\n",
    "address_params = [\"lat\", \"lng\"]\n",
    "\n",
>>>>>>> 4d9c283 (seminars)
    "\n",
    "def process_vacancy(vacancy_dict: dict) -> dict:\n",
    "    vacancy_processed = {}\n",
    "\n",
    "    # id\n",
<<<<<<< HEAD
    "    vacancy_processed['id'] = vacancy_dict.get('id')\n",
    "\n",
    "    # response_letter_required\n",
    "    vacancy_processed['response_letter_required'] = vacancy_dict.get('response_letter_required')\n",
    "\n",
    "    # salary\n",
    "    salary_exists = vacancy_dict.get('salary') is not None\n",
    "    \n",
    "    for sp in salary_params:\n",
    "        if salary_exists:\n",
    "            vacancy_processed[f'salary_{sp}'] = vacancy_dict['salary'].get(sp)\n",
    "        else:\n",
    "            vacancy_processed[f'salary_{sp}'] = None\n",
    "\n",
    "    # address\n",
    "    address_exists = vacancy_dict.get('address') is not None\n",
    "    \n",
    "    for ap in address_params:\n",
    "        if address_exists:\n",
    "            vacancy_processed[f'address_{ap}'] = vacancy_dict['address'].get(ap)\n",
    "        else:\n",
    "            vacancy_processed[f'address_{ap}'] = None\n",
    "\n",
    "    # key_skills\n",
    "    key_skills_exists = vacancy_dict.get('key_skills') is not None\n",
    "\n",
    "    if key_skills_exists:\n",
    "        vacancy_processed['key_skills'] = [skill['name'] for skill in vacancy_dict['key_skills']]\n",
    "    else:\n",
    "        vacancy_processed['key_skills'] = None\n",
=======
    "    vacancy_processed[\"id\"] = vacancy_dict.get(\"id\")\n",
    "\n",
    "    # response_letter_required\n",
    "    vacancy_processed[\"response_letter_required\"] = vacancy_dict.get(\n",
    "        \"response_letter_required\"\n",
    "    )\n",
    "\n",
    "    # salary\n",
    "    salary_exists = vacancy_dict.get(\"salary\") is not None\n",
    "\n",
    "    for sp in salary_params:\n",
    "        if salary_exists:\n",
    "            vacancy_processed[f\"salary_{sp}\"] = vacancy_dict[\"salary\"].get(sp)\n",
    "        else:\n",
    "            vacancy_processed[f\"salary_{sp}\"] = None\n",
    "\n",
    "    # address\n",
    "    address_exists = vacancy_dict.get(\"address\") is not None\n",
    "\n",
    "    for ap in address_params:\n",
    "        if address_exists:\n",
    "            vacancy_processed[f\"address_{ap}\"] = vacancy_dict[\"address\"].get(ap)\n",
    "        else:\n",
    "            vacancy_processed[f\"address_{ap}\"] = None\n",
    "\n",
    "    # key_skills\n",
    "    key_skills_exists = vacancy_dict.get(\"key_skills\") is not None\n",
    "\n",
    "    if key_skills_exists:\n",
    "        vacancy_processed[\"key_skills\"] = [\n",
    "            skill[\"name\"] for skill in vacancy_dict[\"key_skills\"]\n",
    "        ]\n",
    "    else:\n",
    "        vacancy_processed[\"key_skills\"] = None\n",
>>>>>>> 4d9c283 (seminars)
    "\n",
    "    return vacancy_processed"
   ]
  },
  {
   "cell_type": "code",
<<<<<<< HEAD
   "execution_count": 16,
=======
   "execution_count": null,
>>>>>>> 4d9c283 (seminars)
   "id": "e21b3014-7269-450f-ad6c-ecedfbac7b8b",
   "metadata": {},
   "outputs": [],
   "source": [
    "vacancies_processed = [process_vacancy(v) for v in vacancies]"
   ]
  },
  {
   "cell_type": "markdown",
   "id": "d2f0dff0-adaf-4393-b4ae-bd9a39fd3111",
   "metadata": {},
   "source": [
    "#### Обработка данных"
   ]
  },
  {
   "cell_type": "code",
<<<<<<< HEAD
   "execution_count": 18,
=======
   "execution_count": null,
>>>>>>> 4d9c283 (seminars)
   "id": "e03cc319-ee50-4724-b794-700968dd2f42",
   "metadata": {},
   "outputs": [
    {
     "name": "stdout",
     "output_type": "stream",
     "text": [
      "<class 'pandas.core.frame.DataFrame'>\n",
      "RangeIndex: 1746 entries, 0 to 1745\n",
      "Data columns (total 9 columns):\n",
      " #   Column                    Non-Null Count  Dtype  \n",
      "---  ------                    --------------  -----  \n",
      " 0   id                        1744 non-null   object \n",
      " 1   response_letter_required  1744 non-null   object \n",
      " 2   salary_from               1399 non-null   float64\n",
      " 3   salary_to                 1046 non-null   float64\n",
      " 4   salary_currency           1735 non-null   object \n",
      " 5   salary_gross              1734 non-null   object \n",
      " 6   address_lat               955 non-null    float64\n",
      " 7   address_lng               955 non-null    float64\n",
      " 8   key_skills                1744 non-null   object \n",
      "dtypes: float64(4), object(5)\n",
      "memory usage: 122.9+ KB\n"
     ]
    }
   ],
   "source": [
    "vacancies_df = pd.DataFrame(vacancies_processed)\n",
    "vacancies_df.info()"
   ]
  },
  {
   "cell_type": "code",
<<<<<<< HEAD
   "execution_count": 19,
=======
   "execution_count": null,
>>>>>>> 4d9c283 (seminars)
   "id": "2a4a55be-08d6-48c4-b5ea-ee5379c2d5a4",
   "metadata": {},
   "outputs": [
    {
     "data": {
      "text/html": [
       "<div>\n",
       "<style scoped>\n",
       "    .dataframe tbody tr th:only-of-type {\n",
       "        vertical-align: middle;\n",
       "    }\n",
       "\n",
       "    .dataframe tbody tr th {\n",
       "        vertical-align: top;\n",
       "    }\n",
       "\n",
       "    .dataframe thead th {\n",
       "        text-align: right;\n",
       "    }\n",
       "</style>\n",
       "<table border=\"1\" class=\"dataframe\">\n",
       "  <thead>\n",
       "    <tr style=\"text-align: right;\">\n",
       "      <th></th>\n",
       "      <th>id</th>\n",
       "      <th>response_letter_required</th>\n",
       "      <th>salary_from</th>\n",
       "      <th>salary_to</th>\n",
       "      <th>salary_currency</th>\n",
       "      <th>salary_gross</th>\n",
       "      <th>address_lat</th>\n",
       "      <th>address_lng</th>\n",
       "      <th>key_skills</th>\n",
       "    </tr>\n",
       "  </thead>\n",
       "  <tbody>\n",
       "    <tr>\n",
       "      <th>0</th>\n",
       "      <td>88603203</td>\n",
       "      <td>True</td>\n",
       "      <td>NaN</td>\n",
       "      <td>60000.0</td>\n",
       "      <td>RUR</td>\n",
       "      <td>True</td>\n",
       "      <td>55.746593</td>\n",
       "      <td>37.537371</td>\n",
       "      <td>[SQL, Python]</td>\n",
       "    </tr>\n",
       "    <tr>\n",
       "      <th>1</th>\n",
       "      <td>81879828</td>\n",
       "      <td>False</td>\n",
       "      <td>300000.0</td>\n",
       "      <td>NaN</td>\n",
       "      <td>RUR</td>\n",
       "      <td>True</td>\n",
       "      <td>NaN</td>\n",
       "      <td>NaN</td>\n",
       "      <td>[]</td>\n",
       "    </tr>\n",
       "    <tr>\n",
       "      <th>2</th>\n",
       "      <td>88629159</td>\n",
       "      <td>False</td>\n",
       "      <td>NaN</td>\n",
       "      <td>56000.0</td>\n",
       "      <td>RUR</td>\n",
       "      <td>True</td>\n",
       "      <td>NaN</td>\n",
       "      <td>NaN</td>\n",
       "      <td>[]</td>\n",
       "    </tr>\n",
       "    <tr>\n",
       "      <th>3</th>\n",
       "      <td>88587403</td>\n",
       "      <td>False</td>\n",
       "      <td>NaN</td>\n",
       "      <td>70000.0</td>\n",
       "      <td>RUR</td>\n",
       "      <td>True</td>\n",
       "      <td>55.971663</td>\n",
       "      <td>37.491602</td>\n",
       "      <td>[]</td>\n",
       "    </tr>\n",
       "    <tr>\n",
       "      <th>4</th>\n",
       "      <td>88564624</td>\n",
       "      <td>False</td>\n",
       "      <td>80000.0</td>\n",
       "      <td>NaN</td>\n",
       "      <td>RUR</td>\n",
       "      <td>False</td>\n",
       "      <td>55.803479</td>\n",
       "      <td>37.390514</td>\n",
       "      <td>[SQL, Power BI, MS PowerPoint, Работа с больши...</td>\n",
       "    </tr>\n",
       "  </tbody>\n",
       "</table>\n",
       "</div>"
      ],
      "text/plain": [
       "         id response_letter_required  salary_from  salary_to salary_currency  \\\n",
       "0  88603203                     True          NaN    60000.0             RUR   \n",
       "1  81879828                    False     300000.0        NaN             RUR   \n",
       "2  88629159                    False          NaN    56000.0             RUR   \n",
       "3  88587403                    False          NaN    70000.0             RUR   \n",
       "4  88564624                    False      80000.0        NaN             RUR   \n",
       "\n",
       "  salary_gross  address_lat  address_lng  \\\n",
       "0         True    55.746593    37.537371   \n",
       "1         True          NaN          NaN   \n",
       "2         True          NaN          NaN   \n",
       "3         True    55.971663    37.491602   \n",
       "4        False    55.803479    37.390514   \n",
       "\n",
       "                                          key_skills  \n",
       "0                                      [SQL, Python]  \n",
       "1                                                 []  \n",
       "2                                                 []  \n",
       "3                                                 []  \n",
       "4  [SQL, Power BI, MS PowerPoint, Работа с больши...  "
      ]
     },
     "execution_count": 19,
     "metadata": {},
     "output_type": "execute_result"
    }
   ],
   "source": [
    "vacancies_df.head()"
   ]
  },
  {
   "cell_type": "code",
   "execution_count": null,
   "id": "1554fd49-ae65-46c8-a6d2-322729f291aa",
   "metadata": {},
   "outputs": [],
   "source": [
    "# ЗАМЕТКА\n",
    "# пропущенные значения для разных переменных находятся в разных местах. Сколько останется наблюдений, если оставить только \"полные\"\n",
    "# строки?"
   ]
  },
  {
   "cell_type": "code",
<<<<<<< HEAD
   "execution_count": 20,
=======
   "execution_count": null,
>>>>>>> 4d9c283 (seminars)
   "id": "40b8c6ec-01e5-4d8b-b55f-0bf202c682c6",
   "metadata": {},
   "outputs": [
    {
     "data": {
      "text/plain": [
       "(392, 9)"
      ]
     },
     "execution_count": 20,
     "metadata": {},
     "output_type": "execute_result"
    }
   ],
   "source": [
    "vacancies_df.dropna().shape"
   ]
  },
  {
   "cell_type": "code",
   "execution_count": null,
   "id": "73831d26-688f-43d3-a241-20aab60e78c8",
   "metadata": {},
   "outputs": [],
   "source": [
    "# РАБОТА С ПРОПУЩЕННЫМИ ЗНАЧЕНИЯМИ: ОБЫЧНЫЙ DROPNA НЕ ПОДХОДИТ"
   ]
  },
  {
   "cell_type": "markdown",
   "id": "5076d7ff-b384-48fb-bbc9-0715033a2d6d",
   "metadata": {},
   "source": [
    "**Подготовим целевую переменную**"
   ]
  },
  {
   "cell_type": "code",
<<<<<<< HEAD
   "execution_count": 21,
=======
   "execution_count": null,
>>>>>>> 4d9c283 (seminars)
   "id": "dab87e3d-25b5-4d45-a2ec-4edeacef15cf",
   "metadata": {},
   "outputs": [
    {
     "data": {
      "text/plain": [
       "710"
      ]
     },
     "execution_count": 21,
     "metadata": {},
     "output_type": "execute_result"
    }
   ],
   "source": [
<<<<<<< HEAD
    "(vacancies_df['salary_from'].notna() & vacancies_df['salary_to'].notna()).sum()"
=======
    "(vacancies_df[\"salary_from\"].notna() & vacancies_df[\"salary_to\"].notna()).sum()"
>>>>>>> 4d9c283 (seminars)
   ]
  },
  {
   "cell_type": "code",
   "execution_count": null,
   "id": "75a2d306-9224-458d-8daf-dcb2e201961b",
   "metadata": {},
   "outputs": [],
   "source": [
    "# что делать с salary_from и salary_to?\n",
    "\n",
    "# 1) Усреднить там, где есть оба значения\n",
    "#   + оптимальная метрика\n",
    "#   - останется меньше 50% значений\n",
    "\n",
    "# 2) Оставить одну колонку (там, где меньше всего пропущенных значений)\n",
    "#   + значений будет больше по сравнению с предыдщим вариантом\n",
    "#   - само наличие \"верхней границы\" [исключащее или] \"нижней границы\" - признак\n",
    "\n",
    "# 3) Экстраполяция одного значения по другому\n",
    "#   - это рискованно - мы сами \"додумываем\" данные\n",
    "#   + это интересно и познавательно"
   ]
  },
  {
   "cell_type": "code",
<<<<<<< HEAD
   "execution_count": 23,
=======
   "execution_count": null,
>>>>>>> 4d9c283 (seminars)
   "id": "39677be9-5e4d-45de-8a68-bc38d9eb72d6",
   "metadata": {},
   "outputs": [
    {
     "data": {
      "text/plain": [
       "salary_currency\n",
       "RUR    1708\n",
       "USD      25\n",
       "EUR       2\n",
       "Name: count, dtype: int64"
      ]
     },
     "execution_count": 23,
     "metadata": {},
     "output_type": "execute_result"
    }
   ],
   "source": [
<<<<<<< HEAD
    "vacancies_df['salary_currency'].value_counts()"
=======
    "vacancies_df[\"salary_currency\"].value_counts()"
>>>>>>> 4d9c283 (seminars)
   ]
  },
  {
   "cell_type": "code",
   "execution_count": null,
   "id": "a716d878-3932-4fc2-8a86-7fb3574dbb50",
   "metadata": {},
   "outputs": [],
   "source": [
    "def convert_to_rubles()"
   ]
  },
  {
   "cell_type": "code",
   "execution_count": null,
   "id": "83f6b20b-eda5-4bf0-b0c1-6cf0fca7b446",
   "metadata": {},
   "outputs": [],
   "source": [
    "# как итерировать по строкам датафрейма?"
   ]
  },
  {
   "cell_type": "code",
<<<<<<< HEAD
   "execution_count": 27,
=======
   "execution_count": null,
>>>>>>> 4d9c283 (seminars)
   "id": "956f9fbe-b7cc-495a-86e7-511f91e0cf5c",
   "metadata": {},
   "outputs": [
    {
     "data": {
      "text/plain": [
       "0            NaN\n",
       "1       261000.0\n",
       "2            NaN\n",
       "3            NaN\n",
       "4        80000.0\n",
       "          ...   \n",
       "1741     80000.0\n",
       "1742     80000.0\n",
       "1743    230000.0\n",
       "1744    180000.0\n",
       "1745     50000.0\n",
       "Length: 1746, dtype: float64"
      ]
     },
     "execution_count": 27,
     "metadata": {},
     "output_type": "execute_result"
    }
   ],
   "source": [
<<<<<<< HEAD
    "vacancies_df[['salary_from', 'salary_gross']].apply(\n",
    "    lambda series: series['salary_from'] * 0.87 if series['salary_gross'] else series['salary_from'],\n",
    "    axis=1\n",
=======
    "vacancies_df[[\"salary_from\", \"salary_gross\"]].apply(\n",
    "    lambda series: series[\"salary_from\"] * 0.87\n",
    "    if series[\"salary_gross\"]\n",
    "    else series[\"salary_from\"],\n",
    "    axis=1,\n",
>>>>>>> 4d9c283 (seminars)
    ")"
   ]
  },
  {
   "cell_type": "code",
<<<<<<< HEAD
   "execution_count": 28,
=======
   "execution_count": null,
>>>>>>> 4d9c283 (seminars)
   "id": "46702870-21d2-4993-9e54-23f4a34a3d2c",
   "metadata": {},
   "outputs": [],
   "source": [
    "from collections import namedtuple"
   ]
  },
  {
   "cell_type": "code",
   "execution_count": null,
   "id": "4b6d6373-9ad8-4737-8cb0-44c174b82510",
   "metadata": {},
   "outputs": [],
   "source": [
<<<<<<< HEAD
    "vacancies_df[['salary_from', 'salary_gross']].itertuples()"
=======
    "vacancies_df[[\"salary_from\", \"salary_gross\"]].itertuples()"
>>>>>>> 4d9c283 (seminars)
   ]
  },
  {
   "cell_type": "markdown",
   "id": "068522d4-b896-4134-8408-e164d67ee48c",
   "metadata": {},
   "source": [
    "**Экстраполируем пропущенные значения с помощью линейной регрессии**"
   ]
  },
  {
   "cell_type": "code",
   "execution_count": null,
   "id": "6d247ef5-c3ad-4649-9c51-22d57555168f",
   "metadata": {},
   "outputs": [],
   "source": []
  },
  {
   "cell_type": "code",
   "execution_count": null,
   "id": "dd6beffe-d265-4a54-bbe4-617e8728c1fd",
   "metadata": {},
   "outputs": [],
   "source": []
  }
 ],
 "metadata": {
  "kernelspec": {
   "display_name": "Python 3 (ipykernel)",
   "language": "python",
   "name": "python3"
  },
  "language_info": {
   "codemirror_mode": {
    "name": "ipython",
    "version": 3
   },
   "file_extension": ".py",
   "mimetype": "text/x-python",
   "name": "python",
   "nbconvert_exporter": "python",
   "pygments_lexer": "ipython3",
<<<<<<< HEAD
   "version": "3.11.5"
=======
   "version": "3.10.12"
>>>>>>> 4d9c283 (seminars)
  }
 },
 "nbformat": 4,
 "nbformat_minor": 5
}
