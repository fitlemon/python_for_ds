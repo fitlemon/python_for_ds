{
 "cells": [
  {
   "cell_type": "markdown",
   "id": "87dec23c",
   "metadata": {},
   "source": [
    "# Программирование на Python\n",
    "## Семинар 8. Python для анализа данных\n",
    "#### Задача 1\n",
    "Вам дан массив данных, представленный в виде списка списков. Каждый вложенный список представляет собой измерение одного параметра для разных индивидуумов. В процессе обработки данных вам часто придется сталкиваться с тем, что параметры могут иметь разную шкалу. Существуют различные способы решения данной проблемы, среди которых - т. н. стандартизация, приводящее значения к стандартному нормальному распределению (большинство значений от -3 до 3). Формула выглядит следующим образом (в данном случае `x` - каждое значение, т. е. операцию ниже необходимо выполнить с каждым значением наших данных):\n",
    "\n",
    "![standardization](https://i.ibb.co/THbWKqM/1-YSAAU-v-I8-Ol-HQz-G5-A1-Sg.png)\n",
    "\n",
    "Напишите функцию, которая выполняет эту стандартизацию для двухмерного массива. При этом должна быть предусмотрена возможность осуществить это по строкам, по колонкам и для всего массива в целом.\n",
    "\n",
    "Решите задачу в двух вариантах: 1) используя ТОЛЬКО встроенные средства Python и 2) с помощью `numpy`. Сравните эффективность двух подходов."
   ]
  },
  {
   "cell_type": "code",
   "execution_count": 1,
   "id": "3decf547-699c-4ecb-98b1-b967db710583",
   "metadata": {},
   "outputs": [],
   "source": [
    "import numpy as np\n",
    "\n",
    "# (псевдо)случайно генерируем матрицу 10 * 10000 из равномерного распределения с границами от -1000 до 1000\n",
    "simulated_data = np.random.uniform(-1000, 1000, (10, 10000))\n",
    "simulated_data_list = simulated_data.tolist()"
   ]
  },
  {
   "cell_type": "markdown",
   "id": "1b0c983f-a2aa-4d18-a5d9-2cdfbaa691ff",
   "metadata": {},
   "source": [
    "**Python**"
   ]
  },
  {
   "cell_type": "code",
   "execution_count": 3,
   "id": "52dd4d4f-b236-4cd3-8bdc-79755fb61cf7",
   "metadata": {},
   "outputs": [],
   "source": [
    "def mean(vector):\n",
    "    return sum(vector) / len(vector)\n",
    "\n",
    "def std(vector):\n",
    "    vector_mean = mean(vector)\n",
    "    vector_std = (sum([(x - vector_mean) ** 2 for x in vector]) / len(vector)) ** (1 / 2)\n",
    "\n",
    "    return vector_std\n",
    "\n",
    "def standardize1d(vector):\n",
    "    vector_mean = mean(vector)\n",
    "    vector_sd = std(vector)\n",
    "    \n",
    "    vector_std = [(x - vector_mean) / vector_sd for x in vector]\n",
    "\n",
    "    return vector_std\n",
    "\n",
    "def standardize(matrix):\n",
    "    return [standardize1d(vector) for vector in matrix]"
   ]
  },
  {
   "cell_type": "code",
   "execution_count": 29,
   "id": "5125f939-efbd-4712-bd1f-90f7b13be7c4",
   "metadata": {},
   "outputs": [],
   "source": [
    "simulated_data_list_sd = standardize(simulated_data_list)"
   ]
  },
  {
   "cell_type": "code",
   "execution_count": 4,
   "id": "b3e60f44-1b74-4f33-93ad-6b3fe06c1705",
   "metadata": {},
   "outputs": [
    {
     "name": "stdout",
     "output_type": "stream",
     "text": [
      "7.97 ms ± 28.1 µs per loop (mean ± std. dev. of 7 runs, 100 loops each)\n"
     ]
    }
   ],
   "source": [
    "%%timeit\n",
    "simulated_data_list_sd = standardize(simulated_data_list)"
   ]
  },
  {
   "cell_type": "markdown",
   "id": "6106e873-d117-41e9-9cdc-090116f73ddf",
   "metadata": {},
   "source": [
    "**NumPy**"
   ]
  },
  {
   "cell_type": "code",
   "execution_count": 7,
   "id": "dc8e11c2-40e6-4f72-88cf-52bfc2f1859c",
   "metadata": {},
   "outputs": [
    {
     "data": {
      "text/plain": [
       "100000"
      ]
     },
     "execution_count": 7,
     "metadata": {},
     "output_type": "execute_result"
    }
   ],
   "source": [
    "simulated_data.size"
   ]
  },
  {
   "cell_type": "code",
   "execution_count": 6,
   "id": "924f048e-341b-44ee-b42c-8f1718c206c3",
   "metadata": {},
   "outputs": [
    {
     "data": {
      "text/plain": [
       "(10, 10000)"
      ]
     },
     "execution_count": 6,
     "metadata": {},
     "output_type": "execute_result"
    }
   ],
   "source": [
    "simulated_data.shape"
   ]
  },
  {
   "cell_type": "code",
   "execution_count": 31,
   "id": "caf50865-4cb2-4fac-88ee-b58890717076",
   "metadata": {},
   "outputs": [
    {
     "name": "stdout",
     "output_type": "stream",
     "text": [
      "160 µs ± 1.13 µs per loop (mean ± std. dev. of 7 runs, 10,000 loops each)\n"
     ]
    }
   ],
   "source": [
    "%%timeit\n",
    "n_rows = simulated_data.shape[0]\n",
    "\n",
    "means = simulated_data.mean(axis=1).reshape((n_rows, 1))\n",
    "stds = simulated_data.std(axis=1).reshape((n_rows, 1))\n",
    "\n",
    "simulated_data_std = (simulated_data - means) / stds"
   ]
  },
  {
   "cell_type": "code",
   "execution_count": 20,
   "id": "84bdb0c8-d59f-4588-b664-c4fc28f51d3b",
   "metadata": {},
   "outputs": [
    {
     "data": {
      "text/plain": [
       "(10,)"
      ]
     },
     "execution_count": 20,
     "metadata": {},
     "output_type": "execute_result"
    }
   ],
   "source": [
    "means.shape"
   ]
  },
  {
   "cell_type": "code",
   "execution_count": 23,
   "id": "bad1c14f-6311-4251-b0d9-91818f8d7f3f",
   "metadata": {},
   "outputs": [
    {
     "data": {
      "text/plain": [
       "array([[ 0.04790673],\n",
       "       [ 5.12854698],\n",
       "       [-3.98848723],\n",
       "       [-2.1937482 ],\n",
       "       [-6.48586082],\n",
       "       [-9.74727056],\n",
       "       [ 2.44615233],\n",
       "       [-1.54783524],\n",
       "       [ 0.08228267],\n",
       "       [ 8.99893467]])"
      ]
     },
     "execution_count": 23,
     "metadata": {},
     "output_type": "execute_result"
    }
   ],
   "source": [
    "means.reshape((10, 1))"
   ]
  },
  {
   "cell_type": "code",
   "execution_count": 24,
   "id": "82e4481f-0a87-40d9-9213-acd69e5ccfbf",
   "metadata": {},
   "outputs": [
    {
     "data": {
      "text/plain": [
       "array([[-588.86136521,  582.3442177 , -850.28044123, ...,  921.05202814,\n",
       "          10.42308749, -761.49291579],\n",
       "       [ -63.74822235,  -89.79287153,  923.07805173, ..., -746.46578641,\n",
       "        -729.39649998, -265.9508967 ],\n",
       "       [ 404.79319765, -882.15460697, -946.22642183, ..., -388.76498264,\n",
       "         716.01905256,  327.24052581],\n",
       "       ...,\n",
       "       [ 497.56828704, -647.01112677,  654.59338139, ..., -522.36118802,\n",
       "         855.28575335,  496.46639058],\n",
       "       [-322.2363365 , -313.97956971, -279.84498165, ...,  -71.14285719,\n",
       "          71.76106779,  133.9982277 ],\n",
       "       [-258.97318248,  226.69325403,  691.401883  , ...,  299.78351125,\n",
       "         400.31791866, -904.39099707]])"
      ]
     },
     "execution_count": 24,
     "metadata": {},
     "output_type": "execute_result"
    }
   ],
   "source": [
    "simulated_data - means.reshape((10, 1))"
   ]
  },
  {
   "cell_type": "code",
   "execution_count": 18,
   "id": "41f0cd34-f479-4b47-b819-a8932ec3cfda",
   "metadata": {},
   "outputs": [
    {
     "ename": "ValueError",
     "evalue": "operands could not be broadcast together with shapes (10,10000) (10,) ",
     "output_type": "error",
     "traceback": [
      "\u001b[0;31m---------------------------------------------------------------------------\u001b[0m",
      "\u001b[0;31mValueError\u001b[0m                                Traceback (most recent call last)",
      "Cell \u001b[0;32mIn[18], line 1\u001b[0m\n\u001b[0;32m----> 1\u001b[0m \u001b[43msimulated_data\u001b[49m\u001b[43m \u001b[49m\u001b[38;5;241;43m-\u001b[39;49m\u001b[43m \u001b[49m\u001b[43mmeans\u001b[49m\n",
      "\u001b[0;31mValueError\u001b[0m: operands could not be broadcast together with shapes (10,10000) (10,) "
     ]
    }
   ],
   "source": [
    "simulated_data - means"
   ]
  },
  {
   "cell_type": "markdown",
   "id": "65cf0c47-4f55-44e6-a604-fa10f188a03e",
   "metadata": {},
   "source": [
    "#### Задача 2\n",
    "Используя средства numpy, проведите вычислительный эксперимент и выясните, можно ли считать статистически значимым результат проверки одной из выдвинутых на прошлом занятии гипотез.\n",
    "\n",
    "**Data source:** https://www.kaggle.com/datasets/spscientist/students-performance-in-exams.\n",
    "\n",
    "**Columns:**\n",
    "- `gender` (binary variable);\n",
    "- `race/ethnicity` (categorical variable);\n",
    "- `parental level of education` (categorical variable, student's parents' level of education);\n",
    "- `lunch` (categorical variable, quality of student's lunch);\n",
    "- `test preparation course` (categorical variable, whether student managed to complete preparation course for the test);\n",
    "- `math score` (numeric variable, score for Math test);\n",
    "- `reading score` (numeric variable, score for Reading part);\n",
    "- `writing score` (numeric variable, score for Writing part).\n",
    "\n",
    "#### Задание 1\n",
    "Загрузите файл StudentsPerformance.csv используя модуль `csv` и возможности модуля `collections`. Не забудьте о том, что для удобства числовые типы данных будет удобнее привести сразу. На выходе должен получиться словарь с ключами-названиями колонок и значениями-колонками."
   ]
  },
  {
   "cell_type": "code",
   "execution_count": 33,
   "id": "1346b1da-4cf9-401b-9a45-3a0e4c720350",
   "metadata": {},
   "outputs": [],
   "source": [
    "import csv\n",
    "from collections import defaultdict\n",
    "\n",
    "def group(vector, grouping):\n",
    "    grouped = defaultdict(list)\n",
    "    \n",
    "    for v, g in zip(vector, grouping):\n",
    "        grouped[g].append(v)\n",
    "\n",
    "    return grouped\n",
    "\n",
    "def aggregate(grouped, fun):\n",
    "    aggregated = {key: fun(value) for key, value in grouped.items()}\n",
    "\n",
    "    return aggregated\n",
    "\n",
    "path = '../Занятие 1/StudentsPerformance.csv'\n",
    "int_cols = ['math score', 'reading score', 'writing score']\n",
    "data = defaultdict(list)\n",
    "\n",
    "with open(path, mode='r', newline='') as file:\n",
    "    csvfile = csv.DictReader(file, delimiter=',')\n",
    "\n",
    "    for dct in csvfile:\n",
    "        for key, value in dct.items():\n",
    "            if key in int_cols:\n",
    "                data[key].append(int(value))\n",
    "            else:\n",
    "                data[key].append(value)"
   ]
  },
  {
   "cell_type": "code",
   "execution_count": 35,
   "id": "078d0352-9497-4e2f-8925-f48028cd251d",
   "metadata": {},
   "outputs": [
    {
     "data": {
      "text/plain": [
       "1000"
      ]
     },
     "execution_count": 35,
     "metadata": {},
     "output_type": "execute_result"
    }
   ],
   "source": [
    "len(data['math score'])"
   ]
  },
  {
   "cell_type": "code",
   "execution_count": 37,
   "id": "99a53cef-2805-4b22-a4e4-e8e9d57f3ee2",
   "metadata": {},
   "outputs": [
    {
     "data": {
      "text/plain": [
       "{'none': 64.0778816199377, 'completed': 69.69553072625699}"
      ]
     },
     "execution_count": 37,
     "metadata": {},
     "output_type": "execute_result"
    }
   ],
   "source": [
    "math_grouped_by_cource = group(data['math score'], data['test preparation course'])\n",
    "agg = aggregate(math_grouped_by_cource, np.mean)\n",
    "agg"
   ]
  },
  {
   "cell_type": "code",
   "execution_count": 38,
   "id": "c77d94ab-b8d7-4903-88c7-b6d270d0c394",
   "metadata": {},
   "outputs": [
    {
     "data": {
      "text/plain": [
       "5.617649106319291"
      ]
     },
     "execution_count": 38,
     "metadata": {},
     "output_type": "execute_result"
    }
   ],
   "source": [
    "current_diff = agg['completed'] - agg['none']\n",
    "current_diff"
   ]
  },
  {
   "cell_type": "code",
   "execution_count": null,
   "id": "5e309bc6-3a05-4e2c-a519-20cf5bcffea8",
   "metadata": {},
   "outputs": [],
   "source": [
    "# H0: различия на самом деле нет, все по случайным причинам\n",
    "\n",
    "# ВОПРОС: какие вообще значения разницы могут получаться по случайным причинам? Насколько текущее значение (реально полученное)\n",
    "# от них отличается?\n",
    "\n",
    "# ЗАДАЧА: получить распределение \"разниц\" при условии, что они возникают только \"случайно\""
   ]
  },
  {
   "cell_type": "code",
   "execution_count": 39,
   "id": "6a974282-2c38-46fc-a804-03bc8b2a6157",
   "metadata": {},
   "outputs": [],
   "source": [
    "none = np.array(math_grouped_by_cource['none'])\n",
    "completed = np.array(math_grouped_by_cource['completed'])"
   ]
  },
  {
   "cell_type": "code",
   "execution_count": 41,
   "id": "ed5d7a16-af89-4733-b971-65a1b0d95abd",
   "metadata": {},
   "outputs": [],
   "source": [
    "concat = np.concatenate((none, completed))\n",
    "permutated = np.random.permutation(concat)"
   ]
  },
  {
   "cell_type": "code",
   "execution_count": 48,
   "id": "1b704960-28cb-4fd6-882e-5dbdb28f4a70",
   "metadata": {},
   "outputs": [
    {
     "data": {
      "text/plain": [
       "\u001b[0;31mDocstring:\u001b[0m\n",
       "permutation(x)\n",
       "\n",
       "Randomly permute a sequence, or return a permuted range.\n",
       "\n",
       "If `x` is a multi-dimensional array, it is only shuffled along its\n",
       "first index.\n",
       "\n",
       ".. note::\n",
       "    New code should use the\n",
       "    `~numpy.random.Generator.permutation`\n",
       "    method of a `~numpy.random.Generator` instance instead;\n",
       "    please see the :ref:`random-quick-start`.\n",
       "\n",
       "Parameters\n",
       "----------\n",
       "x : int or array_like\n",
       "    If `x` is an integer, randomly permute ``np.arange(x)``.\n",
       "    If `x` is an array, make a copy and shuffle the elements\n",
       "    randomly.\n",
       "\n",
       "Returns\n",
       "-------\n",
       "out : ndarray\n",
       "    Permuted sequence or array range.\n",
       "\n",
       "See Also\n",
       "--------\n",
       "random.Generator.permutation: which should be used for new code.\n",
       "\n",
       "Examples\n",
       "--------\n",
       ">>> np.random.permutation(10)\n",
       "array([1, 7, 4, 3, 0, 9, 2, 5, 8, 6]) # random\n",
       "\n",
       ">>> np.random.permutation([1, 4, 9, 12, 15])\n",
       "array([15,  1,  9,  4, 12]) # random\n",
       "\n",
       ">>> arr = np.arange(9).reshape((3, 3))\n",
       ">>> np.random.permutation(arr)\n",
       "array([[6, 7, 8], # random\n",
       "       [0, 1, 2],\n",
       "       [3, 4, 5]])\n",
       "\u001b[0;31mType:\u001b[0m      builtin_function_or_method"
      ]
     },
     "metadata": {},
     "output_type": "display_data"
    }
   ],
   "source": [
    "?np.random.permutation"
   ]
  },
  {
   "cell_type": "code",
   "execution_count": null,
   "id": "13c4e3da-d338-4afb-81e9-391edc9bdd0d",
   "metadata": {},
   "outputs": [],
   "source": [
    "# объединим два массива\n",
    "# перемешаем значения в них\n",
    "# разделим обратно на массивы таких же размеров\n",
    "# посчитаем разницу в средних\n",
    "# повторить эксперимент N раз"
   ]
  },
  {
   "cell_type": "code",
   "execution_count": null,
   "id": "6c276cc9-1637-4a6b-ba20-5155e66de9d0",
   "metadata": {},
   "outputs": [],
   "source": [
    "def simulate_diff(vector1, vector2):\n",
    "    pass"
   ]
  },
  {
   "cell_type": "markdown",
   "id": "ce726d23-a696-4f9e-b472-dd32c2cf653c",
   "metadata": {},
   "source": [
    "#### Задача 3\n",
    "Сделайте данное вам ниже изображение черно-белым."
   ]
  },
  {
   "cell_type": "code",
   "execution_count": null,
   "id": "210d999a-7d52-46bd-91d9-37f43c840a0c",
   "metadata": {},
   "outputs": [],
   "source": [
    "from imageio import imread\n",
    "import matplotlib.pyplot as plt\n",
    "\n",
    "img1 = imread('./google_maps.png')\n",
    "plt.imshow(img1);"
   ]
  },
  {
   "cell_type": "code",
   "execution_count": null,
   "id": "f1a646a4-6cf9-4abc-8399-5bf8c4aa3edd",
   "metadata": {},
   "outputs": [],
   "source": [
    "# наш код здесь"
   ]
  }
 ],
 "metadata": {
  "kernelspec": {
   "display_name": "Python 3 (ipykernel)",
   "language": "python",
   "name": "python3"
  },
  "language_info": {
   "codemirror_mode": {
    "name": "ipython",
    "version": 3
   },
   "file_extension": ".py",
   "mimetype": "text/x-python",
   "name": "python",
   "nbconvert_exporter": "python",
   "pygments_lexer": "ipython3",
   "version": "3.11.5"
  }
 },
 "nbformat": 4,
 "nbformat_minor": 5
}
