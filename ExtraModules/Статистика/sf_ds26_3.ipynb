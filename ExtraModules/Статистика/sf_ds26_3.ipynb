{
 "cells": [
  {
   "cell_type": "markdown",
   "id": "df89755a-5c93-4763-9436-38d0e22c7ddb",
   "metadata": {},
   "source": [
    "# Программирование на языке Python\n",
    "## Семинар 26. Проверка гипотез: краткий обзор\n",
    "### Содержание\n",
    "![](images/all.png)\n",
    "\n",
    "### Пререквизиты\n",
    "![](images/e_disp.png)\n",
    "\n",
    "![](images/continuity.png)\n",
    "\n",
    "### Проверка гипотез? Зачем?\n",
    "**Общий смысл**\n",
    "\n",
    "- видим в данных какую-то закономерность\n",
    "- думаем, как ее измерить\n",
    "- насколько вероятно получить такое случайно?\n",
    "- для ответа требуется: 1) понять, какие вообще результаты получаются случайно и 2) проверить, как соотносится с этим распределением полученное нами значение\n",
    "- если укладывается - закономерность случайна, нет - отвергаем случайность закономерности\n",
    "\n",
    "**Формализация**\n",
    "\n",
    "1. Выдвигаем H0 (нулевая гипотеза) о том, что все случайно (Ha - альтернативная гипотеза - будет противоположна H0);\n",
    "2. Выбираем статистику критерия (исходя из задачи и типа закономерности). Можем хоть сами придумать, главное чтобы она работала (вопрос: а как проверить что она работает?);\n",
    "3. Подсчитываем наблюдаемую статистику критерия;\n",
    "4. Подсчитываем вероятность получить ее по случайным причинам;\n",
    "5. Оцениваем вероятность и делаем вывод.\n",
    "\n",
    "**Что хотим получить и чего хотели бы избежать?**\n",
    "\n",
    "![](https://i.redd.it/ob8za0yst6f21.png)\n",
    "\n",
    "\n",
    "### Сравнение выборки с заданным распределением\n",
    "#### t-тест и z-тест для одной выборки\n",
    "\n",
    "![](https://i.ytimg.com/vi/PUm3oq2lQWs/maxresdefault.jpg)"
   ]
  },
  {
   "cell_type": "code",
   "execution_count": 2,
   "id": "d8ffdebe-6b8f-4327-8d0e-f284f8ee2f4d",
   "metadata": {},
   "outputs": [
    {
     "data": {
      "text/plain": [
       "-3.1622776601683795"
      ]
     },
     "execution_count": 2,
     "metadata": {},
     "output_type": "execute_result"
    }
   ],
   "source": [
    "theoretic_mean = 170\n",
    "\n",
    "n = 10\n",
    "sample_mean = 165\n",
    "sample_std = 5\n",
    "\n",
    "# Насколько вероятно, что мы в своем времени?\n",
    "\n",
    "# H0: sample_mean = theoretic_mean (sample_mean - theoretic_mean = 0)\n",
    "\n",
    "# Ha: sample_mean != theoretic_mean (sample_mean - theoretic_mean != 0)  two-sided ++++++++++++++\n",
    "# Ha: sample_mean > theoretic_mean (sample_mean - theoretic_mean > 0)    right-sided\n",
    "# Ha: sample_mean < theoretic_mean (sample_mean - theoretic_mean < 0)    left-sided\n",
    "\n",
    "########### далее исходим из того, что верна H0 (мы выдвинули гипотезу. Все, что дальше - проверяемое следствие)\n",
    "\n",
    "# рассчитываем т. н. статистику по формуле\n",
    "\n",
    "statistic = (sample_mean - theoretic_mean) / (sample_std / n ** (1 / 2))\n",
    "\n",
    "# при верной H0 statistic ~ t(df), df = n - 1, НО при n > 100 statistic ~ N(0, 1) ~ Z\n",
    "# n -> Inf, t(df) -> N(0, 1) -> Z-test \n",
    "\n",
    "# зачем считать именно statistic? для statistic (при верной H0) заранее известно и хорошо изучено распределение\n",
    "\n",
    "statistic"
   ]
  },
  {
   "cell_type": "code",
   "execution_count": null,
   "id": "e41a2ee5-b6de-46c5-9252-36c2bed8bd7e",
   "metadata": {},
   "outputs": [],
   "source": [
    "# далее надо понять, насколько экстремальной получилась метрика\n",
    "# для этого существует показатель p-value\n",
    "# p-value - это вероятность получить такое же или БОЛЕЕ ЭКСТРЕМАЛЬНОЕ значение статистики при верной H0\n",
    "# ИЛИ отвержение H0 при верной H0 (т. е. type I error)"
   ]
  },
  {
   "cell_type": "code",
   "execution_count": 4,
   "id": "12cdc671-32a4-45d8-9b4f-719e3c5f8d6f",
   "metadata": {},
   "outputs": [],
   "source": [
    "from scipy import stats\n",
    "import numpy as np\n",
    "\n",
    "df = n - 1\n",
    "\n",
    "t_distribution = stats.t(df)"
   ]
  },
  {
   "cell_type": "code",
   "execution_count": 6,
   "id": "5e402856-1303-491d-8979-ebc93ef31db3",
   "metadata": {},
   "outputs": [
    {
     "data": {
      "text/plain": [
       "0.005753992582971826"
      ]
     },
     "execution_count": 6,
     "metadata": {},
     "output_type": "execute_result"
    }
   ],
   "source": [
    "# протестируем H0 против левосторонней альтернативы\n",
    "# Ha: sample_mean < theoretic_mean (sample_mean - theoretic_mean < 0)    left-sided\n",
    "\n",
    "t_distribution.cdf(statistic)  # p-value\n",
    "\n",
    "# p-value - велико -> проверяемое следствие вероятно -> не отвергаем H0\n",
    "# p-value - мало   -> проверяемое следствие маловероятно -> отвергаем H0\n",
    "\n",
    "# для определения можно выбрать некоторый порог (обычно 0.05)"
   ]
  },
  {
   "cell_type": "code",
   "execution_count": 7,
   "id": "dced4d03-38eb-4ab3-bb61-76585a923acd",
   "metadata": {},
   "outputs": [
    {
     "data": {
      "text/plain": [
       "0.9942460074170282"
      ]
     },
     "execution_count": 7,
     "metadata": {},
     "output_type": "execute_result"
    }
   ],
   "source": [
    "# протестируем H0 против правосторонней альтернативы\n",
    "# Ha: sample_mean > theoretic_mean (sample_mean - theoretic_mean > 0)    right-sided\n",
    "\n",
    "1 - t_distribution.cdf(statistic)  # p-value\n",
    "# не отвергаем"
   ]
  },
  {
   "cell_type": "code",
   "execution_count": 8,
   "id": "9bd7d743-11e4-4029-bd4d-d2b71ec4ea76",
   "metadata": {},
   "outputs": [
    {
     "data": {
      "text/plain": [
       "0.011507985165943651"
      ]
     },
     "execution_count": 8,
     "metadata": {},
     "output_type": "execute_result"
    }
   ],
   "source": [
    "# протестируем H0 против двусторонней альтернативы\n",
    "# Ha: sample_mean != theoretic_mean (sample_mean - theoretic_mean != 0)    two-sided\n",
    "\n",
    "t_distribution.cdf(statistic) * 2  # p-value\n",
    "# отвергаем"
   ]
  },
  {
   "cell_type": "code",
   "execution_count": null,
   "id": "79ee6fd9-30a4-4ee4-acf9-d142804ce3f9",
   "metadata": {},
   "outputs": [],
   "source": []
  },
  {
   "cell_type": "code",
   "execution_count": null,
   "id": "2804d895-d426-4d76-aeb0-dc7d30bb1336",
   "metadata": {},
   "outputs": [],
   "source": []
  },
  {
   "cell_type": "code",
   "execution_count": 9,
   "id": "439705b4-afa9-4853-982a-adcf35a97811",
   "metadata": {},
   "outputs": [
    {
     "data": {
      "image/png": "[encoded data removed]",
      "text/plain": [
       "<Figure size 640x480 with 1 Axes>"
      ]
     },
     "metadata": {},
     "output_type": "display_data"
    }
   ],
   "source": [
    "t_values = t_distribution.rvs(size=1000)\n",
    "\n",
    "import matplotlib.pyplot as plt\n",
    "\n",
    "fig, ax = plt.subplots()\n",
    "\n",
    "ax.axvline(statistic, color='red')\n",
    "ax.axvline(-statistic, color='red')\n",
    "\n",
    "ax.hist(t_values, bins=30);"
   ]
  },
  {
   "cell_type": "markdown",
   "id": "9fdf2883-c438-4aa3-9bb4-9b30ddb5bd31",
   "metadata": {},
   "source": [
    "**Поговорим про распределение выборочного среднего**"
   ]
  },
  {
   "cell_type": "code",
   "execution_count": 21,
   "id": "e0d36d90-e506-4251-a9c9-a18e406673d6",
   "metadata": {},
   "outputs": [],
   "source": [
    "population = np.random.uniform(-10, 4, 100000)\n",
    "expectation = population.mean()"
   ]
  },
  {
   "cell_type": "code",
   "execution_count": 18,
   "id": "e19fb4d9-e908-4c41-a3cf-0d915fc064cc",
   "metadata": {},
   "outputs": [],
   "source": [
    "def get_sample_means(population, sample_size, n_samples=10000):\n",
    "    sample_means = []\n",
    "    \n",
    "    for i in range(n_samples):\n",
    "        sample = np.random.choice(population, sample_size)\n",
    "        sample_means.append(sample.mean())\n",
    "\n",
    "    return sample_means"
   ]
  },
  {
   "cell_type": "code",
   "execution_count": 27,
   "id": "6dce5aa2-66a6-453b-af6f-c2011970a2b1",
   "metadata": {},
   "outputs": [
    {
     "data": {
      "image/png": "[encoded data removed]",
      "text/plain": [
       "<Figure size 640x480 with 1 Axes>"
      ]
     },
     "metadata": {},
     "output_type": "display_data"
    }
   ],
   "source": [
    "import matplotlib.pyplot as plt\n",
    "\n",
    "fig, ax = plt.subplots()\n",
    "ax.axvline(expectation, color='red')\n",
    "\n",
    "sample_sizes = [5, 10, 30, 100]\n",
    "\n",
    "for sample_size in sample_sizes:\n",
    "    sample_means = get_sample_means(population, sample_size)\n",
    "    \n",
    "    ax.hist(sample_means, bins=100, label=f'sample size: {sample_size}', alpha=.3)\n",
    "\n",
    "ax.legend();"
   ]
  },
  {
   "cell_type": "markdown",
   "id": "4960acd3-3368-4110-9827-1bd2e8e94d15",
   "metadata": {},
   "source": [
    "E(sample_mean) ~ N(E(X), Var(X) / sample_size ** (1 / 2))"
   ]
  },
  {
   "cell_type": "markdown",
   "id": "889ec88f-1326-4904-bfa4-301f67de3be8",
   "metadata": {},
   "source": [
    "**Задача**"
   ]
  },
  {
   "cell_type": "code",
   "execution_count": 28,
   "id": "a790ebbd-c7d3-4ef9-bb3b-1e769e4dca84",
   "metadata": {},
   "outputs": [],
   "source": [
    "mean = 1.8\n",
    "std = 0.2\n",
    "\n",
    "value = 2.3"
   ]
  },
  {
   "cell_type": "code",
   "execution_count": 30,
   "id": "2c0dcb10-ef0c-4ea6-96ab-9a5fc90eccc3",
   "metadata": {},
   "outputs": [],
   "source": [
    "normal_distrib = stats.norm(mean, std)"
   ]
  },
  {
   "cell_type": "code",
   "execution_count": 32,
   "id": "e9b27fd7-f7ab-4481-bc9d-706e5d400af6",
   "metadata": {},
   "outputs": [
    {
     "data": {
      "text/plain": [
       "0.006209665325776159"
      ]
     },
     "execution_count": 32,
     "metadata": {},
     "output_type": "execute_result"
    }
   ],
   "source": [
    "1 - normal_distrib.cdf(value)"
   ]
  },
  {
   "cell_type": "code",
   "execution_count": 6,
   "id": "3e595525-84c3-4f1f-98fe-9f8941ad77b2",
   "metadata": {},
   "outputs": [
    {
     "name": "stdout",
     "output_type": "stream",
     "text": [
      "<class 'pandas.core.frame.DataFrame'>\n",
      "RangeIndex: 35987 entries, 0 to 35986\n",
      "Data columns (total 8 columns):\n",
      " #   Column    Non-Null Count  Dtype \n",
      "---  ------    --------------  ----- \n",
      " 0   cntry     35987 non-null  object\n",
      " 1   netusoft  35987 non-null  object\n",
      " 2   ppltrst   35987 non-null  int64 \n",
      " 3   clsprty   35987 non-null  object\n",
      " 4   rlgatnd   35987 non-null  object\n",
      " 5   gndr      35987 non-null  object\n",
      " 6   agea      35987 non-null  int64 \n",
      " 7   tporgwk   35987 non-null  object\n",
      "dtypes: int64(2), object(6)\n",
      "memory usage: 2.2+ MB\n"
     ]
    }
   ],
   "source": [
    "import numpy as np\n",
    "import pandas as pd\n",
    "from scipy import stats\n",
    "\n",
    "data = pd.read_excel('ess_data.xlsx')\n",
    "data.info()"
   ]
  },
  {
   "cell_type": "code",
   "execution_count": 2,
   "id": "dbf741dd-cab5-498d-8601-9a1dfcc4e35d",
   "metadata": {},
   "outputs": [
    {
     "data": {
      "text/plain": [
       "1384"
      ]
     },
     "execution_count": 2,
     "metadata": {},
     "output_type": "execute_result"
    }
   ],
   "source": [
    "sweden_age = data.loc[data['cntry'] == 'Norway', 'agea'].values\n",
    "sweden_age.size"
   ]
  },
  {
   "cell_type": "code",
   "execution_count": 3,
   "id": "f42ae21f-2e58-40fa-ad94-e153047bad44",
   "metadata": {},
   "outputs": [
    {
     "data": {
      "text/plain": [
       "47.229046242774565"
      ]
     },
     "execution_count": 3,
     "metadata": {},
     "output_type": "execute_result"
    }
   ],
   "source": [
    "sample_mean = sweden_age.mean()\n",
    "sample_std = sweden_age.std(ddof=1)\n",
    "theoretic_mean = 45\n",
    "sample_mean"
   ]
  },
  {
   "cell_type": "code",
   "execution_count": 6,
   "id": "6271b560-5ed0-4b06-b377-7a94e77a4a84",
   "metadata": {},
   "outputs": [
    {
     "data": {
      "text/plain": [
       "4.559245576182668"
      ]
     },
     "execution_count": 6,
     "metadata": {},
     "output_type": "execute_result"
    }
   ],
   "source": [
    "# H0: sample_mean = theoretic_mean\n",
    "# Ha: sample_mean != theoretic_mean\n",
    "\n",
    "statistic = (sample_mean - theoretic_mean) / (sample_std / sweden_age.size ** (1 / 2))\n",
    "statistic  # n > 100, t -> Z"
   ]
  },
  {
   "cell_type": "code",
   "execution_count": 4,
   "id": "4d2d87ef-ed83-4c67-a511-334d9de90491",
   "metadata": {},
   "outputs": [],
   "source": [
    "norm_distribution = stats.norm(0, 1)"
   ]
  },
  {
   "cell_type": "code",
   "execution_count": 7,
   "id": "c4652203-0d35-4701-b1a6-4e107f278299",
   "metadata": {},
   "outputs": [
    {
     "data": {
      "text/plain": [
       "5.133771061182503e-06"
      ]
     },
     "execution_count": 7,
     "metadata": {},
     "output_type": "execute_result"
    }
   ],
   "source": [
    "norm_distribution.cdf(-statistic) * 2  # H0 отвергаем"
   ]
  },
  {
   "cell_type": "code",
   "execution_count": 8,
   "id": "a5b84cb7-99d3-4851-b6d3-6e03fba6e74a",
   "metadata": {},
   "outputs": [
    {
     "data": {
      "text/plain": [
       "TtestResult(statistic=4.559245576182668, pvalue=5.587337945236918e-06, df=1383)"
      ]
     },
     "execution_count": 8,
     "metadata": {},
     "output_type": "execute_result"
    }
   ],
   "source": [
    "stats.ttest_1samp(\n",
    "    sweden_age,\n",
    "    theoretic_mean,\n",
    "    alternative='two-sided'\n",
    ")"
   ]
  },
  {
   "cell_type": "markdown",
   "id": "20952e2f-42b5-461a-8e6d-c43916923180",
   "metadata": {},
   "source": [
    "**Задача.** При каком интервале теоретических значений среднего H0 не будет отвергнута против двусторонней альтернативы?"
   ]
  },
  {
   "cell_type": "code",
   "execution_count": null,
   "id": "bc059e99-9fc0-4fda-a973-d02eafc6a0bd",
   "metadata": {},
   "outputs": [],
   "source": [
    "p-value >= 0.05 <=> P(Z <= -statistic0) + P(Z >= statistic0)\n",
    "\n",
    "P(Z <= -statistic0) >= 0.025\n",
    "statistic = (sample_mean - theoretic_mean) / (sample_std / sweden_age.size ** (1 / 2))"
   ]
  },
  {
   "cell_type": "code",
   "execution_count": 29,
   "id": "8eac3047-be26-4587-9236-041aad2c09ec",
   "metadata": {},
   "outputs": [
    {
     "data": {
      "text/plain": [
       "-1.9599639845400545"
      ]
     },
     "execution_count": 29,
     "metadata": {},
     "output_type": "execute_result"
    }
   ],
   "source": [
    "norm_distribution.ppf(0.025)"
   ]
  },
  {
   "cell_type": "code",
   "execution_count": null,
   "id": "42a9a889-375d-4b9b-ad85-4d99dbc86735",
   "metadata": {},
   "outputs": [],
   "source": [
    "P(Z <= -statistic0) >= 0.025 -> (-1.9599639845400545, 1.9599639845400545)"
   ]
  },
  {
   "cell_type": "code",
   "execution_count": null,
   "id": "477bfb75-f5d4-4294-b75a-9252689bd049",
   "metadata": {},
   "outputs": [],
   "source": [
    "statistic = (sample_mean - theoretic_mean) / (sample_std / sweden_age.size ** (1 / 2))\n",
    "(sample_mean - theoretic_mean) = (sample_std / sweden_age.size ** (1 / 2)) * statistic\n",
    "theoretic_mean = - (sample_std / sweden_age.size ** (1 / 2)) * statistic + sample_mean\n",
    "theoretic_mean = sample_mean - statistic * (sample_std / sweden_age.size ** (1 / 2))"
   ]
  },
  {
   "cell_type": "code",
   "execution_count": 32,
   "id": "1a21c198-d94d-43cb-95ca-754312b3c674",
   "metadata": {},
   "outputs": [
    {
     "data": {
      "text/plain": [
       "(46.27080648957171, 47.229046242774565, 48.18728599597742)"
      ]
     },
     "execution_count": 32,
     "metadata": {},
     "output_type": "execute_result"
    }
   ],
   "source": [
    "sample_mean -1.9599639845400545 * (sample_std / sweden_age.size ** (1 / 2)), sample_mean, sample_mean + 1.9599639845400545 * (sample_std / sweden_age.size ** (1 / 2))"
   ]
  },
  {
   "cell_type": "markdown",
   "id": "fdd61821-dda6-4820-9bea-8344b3532124",
   "metadata": {},
   "source": [
    "$H_0: \\mu_x=a$ <br>\n",
    "$H_A: \\mu \\neq a$ <br>\n",
    "$\\mu$ - mean <br>\n",
    "$a$ - some value\n",
    "\n",
    "Допущения:\n",
    "- та переменная, из который мы рассматриваем выборку, является числовой (не order);\n",
    "- X (здесь и далее X - генеральная совокупность) имеет нормальное распределение.\n",
    "\n",
    "1. Те величины, на которые влияет большое количество разнонаправленных слабых факторов, скорее всего, распределены нормально;\n",
    "2. Есть специальный тест, который позволяет оценить гипотезу, что выборка пришла из нормального распределения."
   ]
  },
  {
   "cell_type": "markdown",
   "id": "7041c7e1-77ae-4b84-a110-73f5bd0e1f65",
   "metadata": {},
   "source": [
    "### Парные наблюдения\n",
    "#### Парный t-test\n",
    "\n",
    "$H_0: \\mu_{after}=\\mu_{before}$ <br>\n",
    "$H_A: \\mu_{after} \\neq \\mu_{before}$ <br>\n",
    "$\\hat{\\mu}$ - sample mean <br>\n",
    "\n",
    "Допущения:\n",
    "\n",
    "- X (здесь и далее X - генеральная совокупность) имеет нормальное распределение\n",
    "- обе выборки представляют собой измерения одних и тех же объектов"
   ]
  },
  {
   "cell_type": "code",
   "execution_count": null,
   "id": "0eea9b6b-0edd-4587-bac0-3ae4e716d11f",
   "metadata": {},
   "outputs": [],
   "source": [
    "#  BEFORE AFTER    DIFF\n",
    "#1   3     3.4     0.4\n",
    "#2   2.4   2.6     0.2\n",
    "#3   3.2   3.3     0.1\n",
    "#4   3.9   3.4     -0.5\n",
    "#5   1.8   1.97    0.17"
   ]
  },
  {
   "cell_type": "markdown",
   "id": "46498a09-e452-456b-939c-2c5b542b6630",
   "metadata": {},
   "source": [
    "$H_0: \\mu_{difference}=0$ <br>\n",
    "$H_a: \\mu_{difference} \\neq 0$"
   ]
  },
  {
   "cell_type": "code",
   "execution_count": 11,
   "id": "675fff87-d4da-405d-8c5f-0471ff88d02f",
   "metadata": {},
   "outputs": [
    {
     "data": {
      "text/plain": [
       "0.48713737841224136"
      ]
     },
     "execution_count": 11,
     "metadata": {},
     "output_type": "execute_result"
    }
   ],
   "source": [
    "before = [3, 2.4, 3.2, 3.9, 1.8]\n",
    "after = [3.4, 2.6, 3.3, 3.4, 1.97]\n",
    "\n",
    "diff = np.array([0.4, 0.2, 0.1, -0.5, 0.17])\n",
    "\n",
    "sample_mean = diff.mean()\n",
    "sample_std = diff.std(ddof=1)\n",
    "sample_size = diff.size\n",
    "\n",
    "statistic = (sample_mean - 0) / (sample_std / sample_size ** (1 / 2))\n",
    "statistic  # насколько вероятно получить такое же или более экстремальное значение статистики при условии верной H0?"
   ]
  },
  {
   "cell_type": "code",
   "execution_count": 10,
   "id": "b7097eea-04c0-4a7f-bf1b-b2779e51f1d6",
   "metadata": {},
   "outputs": [
    {
     "data": {
      "text/plain": [
       "0.6516514312574402"
      ]
     },
     "execution_count": 10,
     "metadata": {},
     "output_type": "execute_result"
    }
   ],
   "source": [
    "df = sample_size - 1\n",
    "\n",
    "t_distrib = stats.t(df)\n",
    "\n",
    "t_distrib.cdf(-statistic) * 2  # p-value"
   ]
  },
  {
   "cell_type": "code",
   "execution_count": 13,
   "id": "08130cf5-ba1e-414c-9b6a-af80f30fec58",
   "metadata": {},
   "outputs": [
    {
     "data": {
      "text/plain": [
       "TtestResult(statistic=0.4871373784122409, pvalue=0.6516514312574404, df=4)"
      ]
     },
     "execution_count": 13,
     "metadata": {},
     "output_type": "execute_result"
    }
   ],
   "source": [
    "stats.ttest_rel(after, before)"
   ]
  },
  {
   "cell_type": "markdown",
   "id": "15d40606-8194-432f-8d11-12877cdf73ec",
   "metadata": {},
   "source": [
    "#### Критерий знаков\n",
    "\n",
    "![](https://slideplayer.com/slide/6959440/24/images/4/Bernoulli+Distribution.jpg)\n",
    "\n",
    "![](https://slideplayer.com/slide/5269821/17/images/24/Binomial+Distribution+Formula.jpg)\n",
    "\n",
    "![](https://slideplayer.com/slide/17819162/106/images/60/4-7+Normal+Approximation+to+the+Binomial+and+Poisson+Distributions.jpg)\n",
    "\n",
    "$H_0: median_x = median_y$ <br>\n",
    "$H_A: median_x \\neq median_y$ <br>\n",
    "\n",
    "Допущения:\n",
    "\n",
    "- обе выборки представляют собой измерения одних и тех же объектов"
   ]
  },
  {
   "cell_type": "code",
   "execution_count": null,
   "id": "c8f98f8c-f02a-43fd-8735-4ed889b80af9",
   "metadata": {},
   "outputs": [],
   "source": [
    "# Bernoulli:\n",
    "# - E(X) = p\n",
    "# - Var(X) = p * (1 - p)\n",
    "\n",
    "# Binomial:\n",
    "# - E(X) = n * p\n",
    "# - Var(X) = n * p * (1 - p)"
   ]
  },
  {
   "cell_type": "code",
   "execution_count": null,
   "id": "c3614c59-0fcd-4363-a8de-8cf2c8bf720f",
   "metadata": {},
   "outputs": [],
   "source": [
    "#  BEFORE AFTER   IS_SUCCESS(AFTER > BEFORE)\n",
    "#1   3     3.4             1\n",
    "#2   2.4   2.6             1\n",
    "#3   3.2   3.3             1\n",
    "#4   3.9   3.4             0\n",
    "#5   1.8   1.97            1"
   ]
  },
  {
   "cell_type": "code",
   "execution_count": 5,
   "id": "4578369b-8687-4674-95a5-06179e3da0e0",
   "metadata": {},
   "outputs": [],
   "source": [
    "before = [3, 2.4, 3.2, 3.9, 1.8]\n",
    "after = [3.4, 2.6, 3.3, 3.4, 1.97]"
   ]
  },
  {
   "cell_type": "code",
   "execution_count": null,
   "id": "7e053896-ffcc-4b48-9019-7ae0f1098811",
   "metadata": {},
   "outputs": [],
   "source": [
    "# statistic = n_success = 4"
   ]
  },
  {
   "cell_type": "code",
   "execution_count": null,
   "id": "fbc0bfa2-f2ec-4bb8-80f9-34c86cb0e3d6",
   "metadata": {},
   "outputs": [],
   "source": [
    "# при верной H0 statistic имеет биномиальное распределение с параметрами:\n",
    "# n = 5\n",
    "# p = 0.5\n",
    "\n",
    "# а какая вероятность получить такое же или более экстремальное значение статистики при верной H0?\n",
    "\n",
    "# экстремально в большую сторону: 4, 5\n",
    "# экстремально в меньшую сторону: вначале посчитаем среднее, чтобы найти симметричную статистику (0, 1)"
   ]
  },
  {
   "cell_type": "code",
   "execution_count": 24,
   "id": "55bf1a49-7d49-4c77-9eba-a26f265d12d1",
   "metadata": {},
   "outputs": [
    {
     "data": {
      "text/plain": [
       "2.5"
      ]
     },
     "execution_count": 24,
     "metadata": {},
     "output_type": "execute_result"
    }
   ],
   "source": [
    "# среднее - n * p:\n",
    "5 * 0.5"
   ]
  },
  {
   "cell_type": "code",
   "execution_count": null,
   "id": "c042cf8a-87cd-45e8-a5cb-3a6022353b65",
   "metadata": {},
   "outputs": [],
   "source": [
    "[0, 1], 2, (2.5), 3, [4, 5]"
   ]
  },
  {
   "cell_type": "code",
   "execution_count": 25,
   "id": "b3857bd7-2515-4a96-9267-402822807aae",
   "metadata": {},
   "outputs": [],
   "source": [
    "binom_distrib = stats.binom(5, 0.5)"
   ]
  },
  {
   "cell_type": "code",
   "execution_count": 27,
   "id": "597f4885-4776-44c0-b330-aa56b1e455f0",
   "metadata": {},
   "outputs": [
    {
     "data": {
      "text/plain": [
       "0.37499999999999994"
      ]
     },
     "execution_count": 27,
     "metadata": {},
     "output_type": "execute_result"
    }
   ],
   "source": [
    "binom_distrib.pmf([0, 1, 4, 5]).sum()"
   ]
  },
  {
   "cell_type": "markdown",
   "id": "773ee670-d269-4fdc-8545-51c37db966c3",
   "metadata": {},
   "source": [
    "**Задача.** Возможно ли на данном размере выборки вообще отклонить H0 при пороговом значении p-value равном 0.05 (при односторонней альтернативе)?"
   ]
  },
  {
   "cell_type": "code",
   "execution_count": 28,
   "id": "0421c539-0327-43d7-a4d2-bbbe48048bbf",
   "metadata": {},
   "outputs": [
    {
     "data": {
      "text/plain": [
       "0.03125"
      ]
     },
     "execution_count": 28,
     "metadata": {},
     "output_type": "execute_result"
    }
   ],
   "source": [
    "# самое экстремальное значение статистики при правосторонней альтернативе будет 5\n",
    "\n",
    "binom_distrib.pmf(5)  # да, на указанном пороге p-value возможно"
   ]
  },
  {
   "cell_type": "code",
   "execution_count": null,
   "id": "2e66ef09-58f6-4a9e-b1a4-568a8b895baf",
   "metadata": {},
   "outputs": [],
   "source": [
    "# а возможно ли вообще отвергнуть H0 для выборок размером 4"
   ]
  },
  {
   "cell_type": "code",
   "execution_count": 29,
   "id": "42a94c69-f1f7-4561-b019-ca01722a4694",
   "metadata": {},
   "outputs": [
    {
     "data": {
      "text/plain": [
       "0.0625"
      ]
     },
     "execution_count": 29,
     "metadata": {},
     "output_type": "execute_result"
    }
   ],
   "source": [
    "stats.binom(4, 0.5).pmf(4)  # при n <= 4 H0 невозможно отвергнуть"
   ]
  },
  {
   "cell_type": "markdown",
   "id": "430e8433-d66e-47e6-9cd0-3da4eb2d0b8b",
   "metadata": {},
   "source": [
    "**Задача.** Николаю надо ответить минимум на 3 вопроса из 6 возможных. В каждом вопрое 4 варианта ответа, правильный один. Какова вероятность, что Николай сдаст экзамен не готовясь?"
   ]
  },
  {
   "cell_type": "code",
   "execution_count": 21,
   "id": "e218c00e-d044-4e9c-a1af-cbdf1ad0bd87",
   "metadata": {},
   "outputs": [],
   "source": [
    "n = 6\n",
    "p = 0.25\n",
    "\n",
    "binom_distrib = stats.binom(n, p)"
   ]
  },
  {
   "cell_type": "code",
   "execution_count": 23,
   "id": "c396210c-e6c9-476c-9862-2d07c5401580",
   "metadata": {},
   "outputs": [
    {
     "data": {
      "text/plain": [
       "0.1694335937499999"
      ]
     },
     "execution_count": 23,
     "metadata": {},
     "output_type": "execute_result"
    }
   ],
   "source": [
    "binom_distrib.pmf([3, 4, 5, 6]).sum()"
   ]
  },
  {
   "cell_type": "markdown",
   "id": "2dc61c9a-5c62-4e04-8904-8c9213951cc9",
   "metadata": {},
   "source": [
    "Биномиальное распределение может быть аппроксимировано к стандартному нормальному:"
   ]
  },
  {
   "cell_type": "code",
   "execution_count": 32,
   "id": "66e63cac-b0b6-43c8-92fc-f01efc0d87d0",
   "metadata": {},
   "outputs": [],
   "source": [
    "import matplotlib.pyplot as plt\n",
    "\n",
    "def plot_binom_values(n, p):\n",
    "    binom_distrib = stats.binom(n, p)\n",
    "    outcomes = np.arange(n + 1)\n",
    "    probs = binom_distrib.pmf(outcomes)\n",
    "\n",
    "    fig, ax = plt.subplots()\n",
    "\n",
    "    ax.bar(outcomes, probs)\n",
    "    ax.set_xlabel('outcome')\n",
    "    ax.set_ylabel('probability')\n",
    "    \n",
    "    ax.set_title(f'binom(n={n}, p={p})')\n",
    "\n",
    "    if n <= 20:\n",
    "        ax.set_xticks(outcomes, outcomes)"
   ]
  },
  {
   "cell_type": "code",
   "execution_count": 33,
   "id": "766143b3-764e-48c2-8d7f-d65bbd029a8f",
   "metadata": {},
   "outputs": [
    {
     "data": {
      "image/png": "[encoded data removed]",
      "text/plain": [
       "<Figure size 640x480 with 1 Axes>"
      ]
     },
     "metadata": {},
     "output_type": "display_data"
    }
   ],
   "source": [
    "plot_binom_values(9, 0.5)"
   ]
  },
  {
   "cell_type": "code",
   "execution_count": 34,
   "id": "acf85d08-5c5e-4ab5-804b-9f7342ff1183",
   "metadata": {},
   "outputs": [
    {
     "data": {
      "image/png": "[encoded data removed]",
      "text/plain": [
       "<Figure size 640x480 with 1 Axes>"
      ]
     },
     "metadata": {},
     "output_type": "display_data"
    }
   ],
   "source": [
    "plot_binom_values(20, 0.5)"
   ]
  },
  {
   "cell_type": "code",
   "execution_count": 35,
   "id": "d8d845bd-cef9-47ab-8fcb-871cd017dc0d",
   "metadata": {},
   "outputs": [
    {
     "data": {
      "image/png": "[encoded data removed]",
      "text/plain": [
       "<Figure size 640x480 with 1 Axes>"
      ]
     },
     "metadata": {},
     "output_type": "display_data"
    }
   ],
   "source": [
    "plot_binom_values(100, 0.5)"
   ]
  },
  {
   "cell_type": "code",
   "execution_count": 36,
   "id": "eeb81ccb-4427-49a3-aad8-99ceddae238e",
   "metadata": {},
   "outputs": [
    {
     "data": {
      "image/png": "[encoded data removed]",
      "text/plain": [
       "<Figure size 640x480 with 1 Axes>"
      ]
     },
     "metadata": {},
     "output_type": "display_data"
    }
   ],
   "source": [
    "plot_binom_values(100, 0.3)"
   ]
  },
  {
   "cell_type": "markdown",
   "id": "c69abfc4-d53e-4100-a80a-2627cdd546b3",
   "metadata": {},
   "source": [
    "**Задача.** Использовать критерий знаков."
   ]
  },
  {
   "cell_type": "code",
   "execution_count": 7,
   "id": "0dcd3397-51b3-432e-826c-f119fdaceebd",
   "metadata": {},
   "outputs": [
    {
     "data": {
      "text/plain": [
       "TtestResult(statistic=-0.4871373784122409, pvalue=0.6516514312574404, df=4)"
      ]
     },
     "execution_count": 7,
     "metadata": {},
     "output_type": "execute_result"
    }
   ],
   "source": [
    "# парный t-test\n",
    "stats.ttest_rel(\n",
    "    before,\n",
    "    after,\n",
    "    alternative='two-sided'\n",
    ")"
   ]
  },
  {
   "cell_type": "code",
   "execution_count": null,
   "id": "a6e213ca-dff0-404f-9cb2-2ed3596baab7",
   "metadata": {},
   "outputs": [],
   "source": [
    "# парный критерий знаков\n",
    "# p-value: 0.38"
   ]
  },
  {
   "cell_type": "markdown",
   "id": "2a2d20de-b973-4596-8326-2ccd4885fb6d",
   "metadata": {},
   "source": [
    "#### Парный критерий Уилкоксона\n",
    "\n",
    "$H_0: median_x = median_y$ <br>\n",
    "$H_A: median_x \\neq median_y$ <br>\n",
    "\n",
    "Допущения:\n",
    "\n",
    "- обе выборки представляют собой измерения одних и тех же объектов\n",
    "- значения разности более должы быть вариативны (т. е. не -1/0/1: для таких случаев лучше критерий знаков)\n",
    "- n >= 5. При этом случаи, когда разность равна 0, исключаются из подсчета статистики\n",
    "\n",
    "Подробнее см. [тут](https://medstatistic.ru/methods/methods3.html)."
   ]
  },
  {
   "cell_type": "code",
   "execution_count": null,
   "id": "ef55e710-8733-407b-954c-f141f9369913",
   "metadata": {},
   "outputs": [],
   "source": [
    "#  BEFORE AFTER    DIFF   RANK\n",
    "#1   3     3.4     0.4     4\n",
    "#2   2.4   2.6     0.2     2\n",
    "#3   3.2   3.3     0.1     1\n",
    "#4   3.9   3.4     -0.5    0\n",
    "#5   1.8   1.97    0.17    3"
   ]
  },
  {
   "cell_type": "code",
   "execution_count": 8,
   "id": "7e324463-8b83-440e-ba53-8fa50f1583dd",
   "metadata": {},
   "outputs": [
    {
     "data": {
      "text/plain": [
       "WilcoxonResult(statistic=5.0, pvalue=0.625)"
      ]
     },
     "execution_count": 8,
     "metadata": {},
     "output_type": "execute_result"
    }
   ],
   "source": [
    "stats.wilcoxon(\n",
    "    before,\n",
    "    after,\n",
    "    alternative='two-sided'\n",
    ")"
   ]
  },
  {
   "cell_type": "markdown",
   "id": "4ef51050-f3a0-4b2b-b5cb-2c2e8c6f9ac1",
   "metadata": {},
   "source": [
    "### Сравнение двух выборок\n",
    "#### Двухвыборочный t-test (не путать с парным)\n",
    "![](https://cdn1.qualitygurus.com/wp-content/uploads/2022/12/Two-sample-t-test-formulas.png?lossy=1&ssl=1)\n",
    "\n",
    "$H_0: \\mu_x = \\mu_y$ <br>\n",
    "$H_A: \\mu_x \\neq \\mu_y$ <br>\n",
    "\n",
    "Допущения:\n",
    "\n",
    "- X и Y имеют нормальное распределение\n",
    "\n",
    "**Как вы думаете, что будет, если вместо этого теста использовать парный критерий?**"
   ]
  },
  {
   "cell_type": "code",
   "execution_count": 12,
   "id": "2586c1f2-37ac-4e85-bfbb-380ba817e116",
   "metadata": {},
   "outputs": [],
   "source": [
    "age_male = data.loc[(data['cntry'] == 'Norway') & (data['gndr'] == 'Male'), 'agea'].values\n",
    "age_female = data.loc[(data['cntry'] == 'Norway') & (data['gndr'] == 'Female'), 'agea'].values"
   ]
  },
  {
   "cell_type": "code",
   "execution_count": 10,
   "id": "c70eed7e-5a4e-44d9-9aa4-93b5e91ab539",
   "metadata": {},
   "outputs": [
    {
     "data": {
      "text/plain": [
       "(47.77574047954866, 46.65481481481481)"
      ]
     },
     "execution_count": 10,
     "metadata": {},
     "output_type": "execute_result"
    }
   ],
   "source": [
    "age_male.mean(), age_female.mean()"
   ]
  },
  {
   "cell_type": "code",
   "execution_count": null,
   "id": "fbed8a97-0e2f-4d6d-8c3f-4cc38500d908",
   "metadata": {},
   "outputs": [],
   "source": [
    "# H0: средний возраст мужчин и женщин равен"
   ]
  },
  {
   "cell_type": "code",
   "execution_count": 19,
   "id": "215e7009-f893-4d2a-ad75-05841cb91e6f",
   "metadata": {},
   "outputs": [
    {
     "data": {
      "text/plain": [
       "1.1209256647338464"
      ]
     },
     "execution_count": 19,
     "metadata": {},
     "output_type": "execute_result"
    }
   ],
   "source": [
    "age_male.mean() - age_female.mean()"
   ]
  },
  {
   "cell_type": "code",
   "execution_count": 17,
   "id": "922443c7-3191-430b-851c-db77e1eb6de3",
   "metadata": {},
   "outputs": [
    {
     "data": {
      "text/plain": [
       "TtestResult(statistic=1.1473481001455839, pvalue=0.2514363738928764, df=1381.943195299341)"
      ]
     },
     "execution_count": 17,
     "metadata": {},
     "output_type": "execute_result"
    }
   ],
   "source": [
    "stats.ttest_ind(\n",
    "    age_male,\n",
    "    age_female,\n",
    "    alternative='two-sided',\n",
    "    equal_var=False\n",
    ")\n",
    "# pvalue - вероятность получить имеющееся значение статистики (statistic) при условии верной H0 (т. е. получить случайно)"
   ]
  },
  {
   "cell_type": "markdown",
   "id": "ceedd4f5-4cec-42f5-bfd5-f9cdad9219e0",
   "metadata": {},
   "source": [
    "#### F-тест о равенстве дисперсий\n",
    "Имеется и непараметрический вариант: Levene test.\n",
    "![](https://image.slideserve.com/963492/f-test-example-solution1-l.jpg)\n",
    "\n",
    "Допущения:\n",
    "\n",
    "- X и Y имеют нормальное распределение"
   ]
  },
  {
   "cell_type": "code",
   "execution_count": 14,
   "id": "d780d303-2c95-4986-86e4-d1f2773bcd77",
   "metadata": {},
   "outputs": [],
   "source": [
    "def f_test(sample1, sample2):\n",
    "    var1 = sample1.var(ddof=1)\n",
    "    var2 = sample2.var(ddof=1)\n",
    "\n",
    "    # compute statistic\n",
    "    if var1 >= var2:\n",
    "        statistic = var1 / var2\n",
    "        df1, df2 = sample1.size, sample2.size\n",
    "    else:\n",
    "        statistic = var2 / var1\n",
    "        df1, df2 = sample2.size, sample1.size\n",
    "\n",
    "    # get distribution\n",
    "    f_distrib = stats.f(df1, df2)\n",
    "\n",
    "    # compute p-value\n",
    "    return statistic, 1 - f_distrib.cdf(statistic)"
   ]
  },
  {
   "cell_type": "code",
   "execution_count": 15,
   "id": "a7f220b4-5e28-4a3d-9112-5ddc5c0f0598",
   "metadata": {},
   "outputs": [
    {
     "data": {
      "text/plain": [
       "(1.0892965881947765, 0.13070458804739526)"
      ]
     },
     "execution_count": 15,
     "metadata": {},
     "output_type": "execute_result"
    }
   ],
   "source": [
    "# посмотрим, имеем ли мы право поставить ниже в equal_var True\n",
    "f_test(\n",
    "    age_male,\n",
    "    age_female\n",
    ")"
   ]
  },
  {
   "cell_type": "code",
   "execution_count": 16,
   "id": "24862a98-0eba-444d-ae0d-6560f76b6d1b",
   "metadata": {},
   "outputs": [
    {
     "data": {
      "text/plain": [
       "TtestResult(statistic=1.1461431790107866, pvalue=0.2519343265853811, df=1382.0)"
      ]
     },
     "execution_count": 16,
     "metadata": {},
     "output_type": "execute_result"
    }
   ],
   "source": [
    "stats.ttest_ind(\n",
    "    age_male,\n",
    "    age_female,\n",
    "    alternative='two-sided',\n",
    "    equal_var=True\n",
    ")"
   ]
  },
  {
   "cell_type": "code",
   "execution_count": 17,
   "id": "2c6bf982-e34b-4fa3-9e3c-93e9b44e6f50",
   "metadata": {},
   "outputs": [
    {
     "data": {
      "text/plain": [
       "LeveneResult(statistic=2.173100611732319, pvalue=0.1406705603208207)"
      ]
     },
     "execution_count": 17,
     "metadata": {},
     "output_type": "execute_result"
    }
   ],
   "source": [
    "stats.levene(\n",
    "    age_male,\n",
    "    age_female\n",
    ")"
   ]
  },
  {
   "cell_type": "markdown",
   "id": "861a6bdc-5c50-49fa-a644-0c230915634f",
   "metadata": {},
   "source": [
    "#### Критерии Уилкоксона и Манна-Уитни\n",
    "![](images/wilcox.png)\n",
    "![](images/mann_whitney.png)"
   ]
  },
  {
   "cell_type": "code",
   "execution_count": 14,
   "id": "28cfca09-95f5-43a3-809b-f6001ba28666",
   "metadata": {},
   "outputs": [
    {
     "data": {
      "text/plain": [
       "TtestResult(statistic=1.1473481001455839, pvalue=0.2514363738928764, df=1381.943195299341)"
      ]
     },
     "execution_count": 14,
     "metadata": {},
     "output_type": "execute_result"
    }
   ],
   "source": [
    "stats.ttest_ind(\n",
    "    age_male,\n",
    "    age_female,\n",
    "    alternative='two-sided',\n",
    "    equal_var=False\n",
    ")"
   ]
  },
  {
   "cell_type": "code",
   "execution_count": 15,
   "id": "36f0397c-3f12-4d57-aa40-5993a2c15424",
   "metadata": {},
   "outputs": [
    {
     "data": {
      "text/plain": [
       "MannwhitneyuResult(statistic=247264.0, pvalue=0.28312057544024005)"
      ]
     },
     "execution_count": 15,
     "metadata": {},
     "output_type": "execute_result"
    }
   ],
   "source": [
    "stats.mannwhitneyu(\n",
    "    age_male,\n",
    "    age_female,\n",
    "    alternative='two-sided'\n",
    ")"
   ]
  },
  {
   "cell_type": "markdown",
   "id": "01e466b4-e3f0-4243-93da-75f254f72985",
   "metadata": {},
   "source": [
    "#### Критерий Колмогорова-Смирнова"
   ]
  },
  {
   "cell_type": "code",
   "execution_count": 16,
   "id": "2b043dc3-120f-4704-a1e3-2a6192c0df6d",
   "metadata": {},
   "outputs": [
    {
     "data": {
      "text/plain": [
       "KstestResult(statistic=0.051210364101760435, pvalue=0.3100250775915103, statistic_location=65, statistic_sign=-1)"
      ]
     },
     "execution_count": 16,
     "metadata": {},
     "output_type": "execute_result"
    }
   ],
   "source": [
    "# возраст мужчин и женщин имеет равную дисперсию и средние. Может, эти две выборки пришли из одной и той же генеральной совокупности?\n",
    "\n",
    "# H0: из одного распределения\n",
    "# Ha: не из одного распределения\n",
    "stats.kstest(\n",
    "    age_male,\n",
    "    age_female\n",
    ")"
   ]
  },
  {
   "cell_type": "markdown",
   "id": "db1e3708-58de-4c0b-96c4-f56600d78b4b",
   "metadata": {},
   "source": [
    "### Сравнение многих выборок\n",
    "#### ANOVA (он же однофакторный дисперсионный анализ)\n",
    "![](https://i.pinimg.com/originals/eb/94/f9/eb94f9bae12be2d6617549bd22e7d216.jpg)\n",
    "![](./images/anova.png)\n",
    "\n",
    "$H_0: \\mu_{x_1} = \\mu_{x_2} = ... = \\mu_{x_n}, X \\sim N(\\mu, \\delta)$<br>\n",
    "$H_A: \\mu_{x_1} \\neq \\mu_{x_2} \\neq ... \\neq \\mu_{x_n}, X \\sim N(_, \\delta)$\n",
    "\n",
    "**Допущения.**\n",
    "1. Количественный непрерывный тип данных, дискретные данные менее желательны.\n",
    "2. Независимые между собой выборки.\n",
    "3. Нормальное распределение признака в генеральных совокупностях, из которых извлечены выборки.\n",
    "4. Равенство (гомогенность) дисперсий изучаемого признака в генеральных совокупностях, из которых извлечены выборки.\n",
    "5. Независимые наблюдения в каждой из выборок.\n",
    "\n",
    "**Вопрос.** Отличается ли вообще возраст во всех представленных в данных странах?"
   ]
  },
  {
   "cell_type": "code",
   "execution_count": 21,
   "id": "b1121b59-e345-43d9-a242-1aefa5fe010f",
   "metadata": {},
   "outputs": [
    {
     "data": {
      "text/html": [
       "<div>\n",
       "<style scoped>\n",
       "    .dataframe tbody tr th:only-of-type {\n",
       "        vertical-align: middle;\n",
       "    }\n",
       "\n",
       "    .dataframe tbody tr th {\n",
       "        vertical-align: top;\n",
       "    }\n",
       "\n",
       "    .dataframe thead th {\n",
       "        text-align: right;\n",
       "    }\n",
       "</style>\n",
       "<table border=\"1\" class=\"dataframe\">\n",
       "  <thead>\n",
       "    <tr style=\"text-align: right;\">\n",
       "      <th></th>\n",
       "      <th>cntry</th>\n",
       "      <th>netusoft</th>\n",
       "      <th>ppltrst</th>\n",
       "      <th>clsprty</th>\n",
       "      <th>rlgatnd</th>\n",
       "      <th>gndr</th>\n",
       "      <th>agea</th>\n",
       "      <th>tporgwk</th>\n",
       "    </tr>\n",
       "  </thead>\n",
       "  <tbody>\n",
       "    <tr>\n",
       "      <th>0</th>\n",
       "      <td>Belgium</td>\n",
       "      <td>Every day</td>\n",
       "      <td>6</td>\n",
       "      <td>No</td>\n",
       "      <td>Once a week</td>\n",
       "      <td>Female</td>\n",
       "      <td>16</td>\n",
       "      <td>Not applicable</td>\n",
       "    </tr>\n",
       "    <tr>\n",
       "      <th>1</th>\n",
       "      <td>Belgium</td>\n",
       "      <td>Every day</td>\n",
       "      <td>3</td>\n",
       "      <td>No</td>\n",
       "      <td>Never</td>\n",
       "      <td>Female</td>\n",
       "      <td>24</td>\n",
       "      <td>A private firm</td>\n",
       "    </tr>\n",
       "    <tr>\n",
       "      <th>2</th>\n",
       "      <td>Belgium</td>\n",
       "      <td>Every day</td>\n",
       "      <td>6</td>\n",
       "      <td>Yes</td>\n",
       "      <td>Never</td>\n",
       "      <td>Male</td>\n",
       "      <td>58</td>\n",
       "      <td>A private firm</td>\n",
       "    </tr>\n",
       "    <tr>\n",
       "      <th>3</th>\n",
       "      <td>Belgium</td>\n",
       "      <td>Every day</td>\n",
       "      <td>7</td>\n",
       "      <td>No</td>\n",
       "      <td>Never</td>\n",
       "      <td>Male</td>\n",
       "      <td>35</td>\n",
       "      <td>Other</td>\n",
       "    </tr>\n",
       "    <tr>\n",
       "      <th>4</th>\n",
       "      <td>Belgium</td>\n",
       "      <td>Every day</td>\n",
       "      <td>3</td>\n",
       "      <td>No</td>\n",
       "      <td>Never</td>\n",
       "      <td>Male</td>\n",
       "      <td>61</td>\n",
       "      <td>Other public sector (such as education and hea...</td>\n",
       "    </tr>\n",
       "  </tbody>\n",
       "</table>\n",
       "</div>"
      ],
      "text/plain": [
       "     cntry   netusoft  ppltrst clsprty      rlgatnd    gndr  agea  \\\n",
       "0  Belgium  Every day        6      No  Once a week  Female    16   \n",
       "1  Belgium  Every day        3      No        Never  Female    24   \n",
       "2  Belgium  Every day        6     Yes        Never    Male    58   \n",
       "3  Belgium  Every day        7      No        Never    Male    35   \n",
       "4  Belgium  Every day        3      No        Never    Male    61   \n",
       "\n",
       "                                             tporgwk  \n",
       "0                                     Not applicable  \n",
       "1                                     A private firm  \n",
       "2                                     A private firm  \n",
       "3                                              Other  \n",
       "4  Other public sector (such as education and hea...  "
      ]
     },
     "execution_count": 21,
     "metadata": {},
     "output_type": "execute_result"
    }
   ],
   "source": [
    "data.head()"
   ]
  },
  {
   "cell_type": "code",
   "execution_count": 22,
   "id": "33c24330-87ad-448c-a7e9-b681bd10cf6d",
   "metadata": {},
   "outputs": [],
   "source": [
    "ages = [series.values for group, series in data.groupby('cntry')['agea']]"
   ]
  },
  {
   "cell_type": "code",
   "execution_count": 23,
   "id": "a6aa2e86-9ffe-4c80-a2d9-5c214f6507c7",
   "metadata": {},
   "outputs": [
    {
     "data": {
      "text/plain": [
       "F_onewayResult(statistic=21.134386131194894, pvalue=2.623811625933467e-80)"
      ]
     },
     "execution_count": 23,
     "metadata": {},
     "output_type": "execute_result"
    }
   ],
   "source": [
    "stats.f_oneway(*ages)"
   ]
  },
  {
   "cell_type": "markdown",
   "id": "de33d7ae-0ba5-45b0-8e16-2ac75b5909ba",
   "metadata": {},
   "source": [
    "#### Kruskal Wallis Test (критерий Краскелла-Уоллиса)\n",
    "Минус допущение о нормальности генеральных совокупностей. Однако, этот критерий служит только для проверки сдвига!"
   ]
  },
  {
   "cell_type": "code",
   "execution_count": 24,
   "id": "fa3b48c7-128e-4f85-823e-17e0fe480486",
   "metadata": {},
   "outputs": [
    {
     "data": {
      "text/plain": [
       "KruskalResult(statistic=422.81394650307897, pvalue=1.7429411866934363e-76)"
      ]
     },
     "execution_count": 24,
     "metadata": {},
     "output_type": "execute_result"
    }
   ],
   "source": [
    "stats.kruskal(*ages)"
   ]
  },
  {
   "cell_type": "markdown",
   "id": "4f318b8f-27c3-44b7-9c2a-841e1ab86601",
   "metadata": {},
   "source": [
    "#### Бонус: поправка на множественное сравнение\n",
    "**Задача 1.** Мы хотим исследовать среднюю продолжительность жизни в 10 российских регионах. Сколько попарных сравнений нам надо сделать?"
   ]
  },
  {
   "cell_type": "code",
   "execution_count": 19,
   "id": "eb866e5d-a012-4c8a-a658-558d9685c395",
   "metadata": {},
   "outputs": [
    {
     "data": {
      "text/plain": [
       "44"
      ]
     },
     "execution_count": 19,
     "metadata": {},
     "output_type": "execute_result"
    }
   ],
   "source": [
    "np.arange(2, 10).sum()"
   ]
  },
  {
   "cell_type": "markdown",
   "id": "fe93e18c-c919-462c-94db-6bd8fb2ce47b",
   "metadata": {},
   "source": [
    "**Задача 2.** Пусть приемлемый порог p-value составляет 0.05. Какова вероятность ни разу не совершить ошибку 1 рода за все 44 попытки?"
   ]
  },
  {
   "cell_type": "code",
   "execution_count": 21,
   "id": "85d35102-eb44-4472-9a0e-257364625a4e",
   "metadata": {},
   "outputs": [
    {
     "data": {
      "text/plain": [
       "0.10467395472325519"
      ]
     },
     "execution_count": 21,
     "metadata": {},
     "output_type": "execute_result"
    }
   ],
   "source": [
    "# совершение ошибки I рода - успех\n",
    "# binom:\n",
    "n = 44\n",
    "p = 0.05\n",
    "\n",
    "# нас интересует вероятность получить 0 успехов за 44 попытки при вероятности успеха в каждой 0.05\n",
    "binom_distrib = stats.binom(n, p)\n",
    "binom_distrib.pmf(0)"
   ]
  },
  {
   "cell_type": "code",
   "execution_count": 23,
   "id": "8f7f1e59-98c3-47f0-933f-4d6e3bfd416d",
   "metadata": {},
   "outputs": [
    {
     "data": {
      "text/plain": [
       "2.2"
      ]
     },
     "execution_count": 23,
     "metadata": {},
     "output_type": "execute_result"
    }
   ],
   "source": [
    "44 * 0.05  # сколько ошибок мы в среднем сделаем"
   ]
  },
  {
   "cell_type": "markdown",
   "id": "6728fd59-f742-4d8b-b12e-ce006abfbf56",
   "metadata": {},
   "source": [
    "**Задание 3.** Каким должно быть пороговое p-value для отдельного теста, если мы хотим вероятность совершить ошибку I рода не более 0.05 (вероятность ее НЕ совершить ни разу будет 0.95?"
   ]
  },
  {
   "cell_type": "code",
   "execution_count": 27,
   "id": "93778425-f1c8-4ce5-a07b-c6a1e34d29e4",
   "metadata": {},
   "outputs": [],
   "source": [
    "p_current = p\n",
    "prob = binom_distrib.pmf(0)\n",
    "\n",
    "while prob < 0.95:\n",
    "    p_current += -1e-4\n",
    "    binom_distrib_current = stats.binom(n, p_current)\n",
    "    prob = binom_distrib_current.pmf(0)"
   ]
  },
  {
   "cell_type": "code",
   "execution_count": 29,
   "id": "5c4ac8a2-7d92-4d3e-a688-5af96c7e9fa4",
   "metadata": {},
   "outputs": [
    {
     "data": {
      "text/plain": [
       "0.0010999999999996015"
      ]
     },
     "execution_count": 29,
     "metadata": {},
     "output_type": "execute_result"
    }
   ],
   "source": [
    "p_current  # поправка в порог p-value (поправка на множественное сравнение)"
   ]
  },
  {
   "cell_type": "code",
   "execution_count": 30,
   "id": "648eb9f4-b859-48c4-a3f8-d2260da66033",
   "metadata": {},
   "outputs": [
    {
     "data": {
      "text/plain": [
       "0.0011363636363636365"
      ]
     },
     "execution_count": 30,
     "metadata": {},
     "output_type": "execute_result"
    }
   ],
   "source": [
    "# поправка Bonferroni\n",
    "p / n"
   ]
  },
  {
   "cell_type": "markdown",
   "id": "057a0cd3-a112-4424-8e8f-5e50bd334861",
   "metadata": {},
   "source": [
    "**Задача.** Необходимо проверить, во всех ли странах есть значимые различия между возрастом мужчин и женщин."
   ]
  },
  {
   "cell_type": "code",
   "execution_count": 17,
   "id": "d6c292b5-e012-4e1f-ad05-a4a59fbffee3",
   "metadata": {},
   "outputs": [],
   "source": [
    "result = []\n",
    "\n",
    "for country, df in data.groupby('cntry'):\n",
    "    male = df.loc[df['gndr'] == 'Male', 'agea']\n",
    "    female = df.loc[df['gndr'] == 'Female', 'agea']\n",
    "\n",
    "    result.append([country, stats.mannwhitneyu(male, female).pvalue])"
   ]
  },
  {
   "cell_type": "code",
   "execution_count": 19,
   "id": "b88b44cd-4250-48c7-aa06-fcd51421f18f",
   "metadata": {},
   "outputs": [
    {
     "data": {
      "text/html": [
       "<div>\n",
       "<style scoped>\n",
       "    .dataframe tbody tr th:only-of-type {\n",
       "        vertical-align: middle;\n",
       "    }\n",
       "\n",
       "    .dataframe tbody tr th {\n",
       "        vertical-align: top;\n",
       "    }\n",
       "\n",
       "    .dataframe thead th {\n",
       "        text-align: right;\n",
       "    }\n",
       "</style>\n",
       "<table border=\"1\" class=\"dataframe\">\n",
       "  <thead>\n",
       "    <tr style=\"text-align: right;\">\n",
       "      <th></th>\n",
       "      <th>country</th>\n",
       "      <th>p_value</th>\n",
       "      <th>signif</th>\n",
       "      <th>signif_adjusted</th>\n",
       "    </tr>\n",
       "  </thead>\n",
       "  <tbody>\n",
       "    <tr>\n",
       "      <th>0</th>\n",
       "      <td>Belgium</td>\n",
       "      <td>3.714186e-01</td>\n",
       "      <td>False</td>\n",
       "      <td>False</td>\n",
       "    </tr>\n",
       "    <tr>\n",
       "      <th>1</th>\n",
       "      <td>Bulgaria</td>\n",
       "      <td>4.556073e-07</td>\n",
       "      <td>True</td>\n",
       "      <td>True</td>\n",
       "    </tr>\n",
       "    <tr>\n",
       "      <th>2</th>\n",
       "      <td>Croatia</td>\n",
       "      <td>5.883318e-01</td>\n",
       "      <td>False</td>\n",
       "      <td>False</td>\n",
       "    </tr>\n",
       "    <tr>\n",
       "      <th>3</th>\n",
       "      <td>Czechia</td>\n",
       "      <td>4.284426e-01</td>\n",
       "      <td>False</td>\n",
       "      <td>False</td>\n",
       "    </tr>\n",
       "    <tr>\n",
       "      <th>4</th>\n",
       "      <td>Estonia</td>\n",
       "      <td>4.310573e-04</td>\n",
       "      <td>True</td>\n",
       "      <td>True</td>\n",
       "    </tr>\n",
       "  </tbody>\n",
       "</table>\n",
       "</div>"
      ],
      "text/plain": [
       "    country       p_value  signif  signif_adjusted\n",
       "0   Belgium  3.714186e-01   False            False\n",
       "1  Bulgaria  4.556073e-07    True             True\n",
       "2   Croatia  5.883318e-01   False            False\n",
       "3   Czechia  4.284426e-01   False            False\n",
       "4   Estonia  4.310573e-04    True             True"
      ]
     },
     "execution_count": 19,
     "metadata": {},
     "output_type": "execute_result"
    }
   ],
   "source": [
    "cutoff = 0.05\n",
    "\n",
    "result_df = pd.DataFrame(result, columns=['country', 'p_value'])\n",
    "result_df['signif'] = result_df['p_value'] < cutoff\n",
    "result_df['signif_adjusted'] = result_df['p_value'] < (cutoff / result_df['country'].size)\n",
    "result_df.head()"
   ]
  },
  {
   "cell_type": "code",
   "execution_count": 20,
   "id": "74f48a85-9e70-4cf6-90f8-c66a01228019",
   "metadata": {},
   "outputs": [
    {
     "data": {
      "text/plain": [
       "signif             9\n",
       "signif_adjusted    5\n",
       "dtype: int64"
      ]
     },
     "execution_count": 20,
     "metadata": {},
     "output_type": "execute_result"
    }
   ],
   "source": [
    "result_df[['signif', 'signif_adjusted']].sum()"
   ]
  },
  {
   "cell_type": "markdown",
   "id": "59549df6-a2db-4f74-a3a9-9b5b230347f5",
   "metadata": {},
   "source": [
    "### Сравнение выборки с заданным распределением\n",
    "#### Полиномиальный тест"
   ]
  },
  {
   "cell_type": "code",
   "execution_count": null,
   "id": "e0cecf62-df0d-45f0-810f-ac63f826c25e",
   "metadata": {},
   "outputs": [],
   "source": []
  },
  {
   "cell_type": "markdown",
   "id": "e8c2209d-9d6a-45b3-b5ab-e75d789c6b55",
   "metadata": {},
   "source": [
    "#### Критерий согласия Chi-squared\n",
    "![](https://cf2.ppt-online.org/files2/slide/p/p1fDJoE9zLG0R5OgWv4PtcSihTYa2unFX6qwdm8QVU/slide-38.jpg)\n",
    "\n",
    "Критерий согласия хи-квадрат применим, только если ожидаемое значение в каждой ячейке больше 5, а общее количество объектов не менее 20.\n",
    "\n",
    "**Задача.** Есть 5 магазинов. В каждом из них за день продано определенное количество товара. Надо проверить, есть ли разница между магазинам в продажах?"
   ]
  },
  {
   "cell_type": "code",
   "execution_count": 9,
   "id": "b5465cfd-d727-43a1-87bf-39fd00204937",
   "metadata": {},
   "outputs": [
    {
     "data": {
      "text/plain": [
       "17.5"
      ]
     },
     "execution_count": 9,
     "metadata": {},
     "output_type": "execute_result"
    }
   ],
   "source": [
    "# H0: значения пришли из одного дискретного распределения\n",
    "# Ha: !H0\n",
    "\n",
    "sales = np.array([60, 54, 32, 43, 71])\n",
    "sales_mean = sales.mean()\n",
    "\n",
    "statistic = ((sales - sales_mean) ** 2).sum() / sales_mean\n",
    "statistic"
   ]
  },
  {
   "cell_type": "code",
   "execution_count": 10,
   "id": "a028d80a-6e15-48c1-bdb7-b10f36f9718e",
   "metadata": {},
   "outputs": [
    {
     "data": {
      "text/plain": [
       "0.0015449979198786101"
      ]
     },
     "execution_count": 10,
     "metadata": {},
     "output_type": "execute_result"
    }
   ],
   "source": [
    "df = sales.size - 1\n",
    "\n",
    "1 - stats.chi2(df).cdf(statistic)  # H0 отвергается"
   ]
  },
  {
   "cell_type": "markdown",
   "id": "c71cdc43-ba71-40ef-a2da-8ffa298d5b7f",
   "metadata": {},
   "source": [
    "**Задача.** Есть ли значимые отличия в количестве респондентов в разных странах?"
   ]
  },
  {
   "cell_type": "code",
   "execution_count": null,
   "id": "358a7192-4c3d-4f5d-a568-a56c57c04cf0",
   "metadata": {},
   "outputs": [],
   "source": [
    "# наш код здесь"
   ]
  },
  {
   "cell_type": "markdown",
   "id": "436817c6-01c2-422c-b0cb-e4e8734f8264",
   "metadata": {},
   "source": [
    "#### Критерий Колмогорова\n",
    "Проверка совпадения распределений генеральной совокупностей двух выборок:"
   ]
  },
  {
   "cell_type": "code",
   "execution_count": 11,
   "id": "5f1719da-1029-4c37-ba8a-235a3f54f2c8",
   "metadata": {},
   "outputs": [
    {
     "data": {
      "image/png": "[encoded data removed]",
      "text/plain": [
       "<Figure size 640x480 with 1 Axes>"
      ]
     },
     "metadata": {},
     "output_type": "display_data"
    }
   ],
   "source": [
    "import seaborn as sns\n",
    "\n",
    "sns.histplot(data=data[data['cntry'] == 'Norway'], x='agea', hue='gndr');"
   ]
  },
  {
   "cell_type": "code",
   "execution_count": 13,
   "id": "787f65b2-629a-4e8b-8461-a4f077929f5d",
   "metadata": {},
   "outputs": [
    {
     "data": {
      "text/plain": [
       "KstestResult(statistic=0.06220106463965877, pvalue=0.00792628715801556, statistic_location=30, statistic_sign=1)"
      ]
     },
     "execution_count": 13,
     "metadata": {},
     "output_type": "execute_result"
    }
   ],
   "source": [
    "# H0: выборка пришла из данного распределения\n",
    "# Ha: ~\n",
    "\n",
    "# распределен ли возраст мужчин в Норвегии нормально с параметрами sample_mean, sample_var\n",
    "stats.kstest(\n",
    "    rvs=age_male,\n",
    "    cdf=stats.norm.cdf, args=(age_male.mean(), age_male.std(ddof=1))\n",
    ")  # H0 отвергается -> возраст мужчин в Норвегии не распределен нормально"
   ]
  },
  {
   "cell_type": "markdown",
   "id": "42d7b7f4-fcee-4877-a6e2-8c4ba27de5e4",
   "metadata": {},
   "source": [
    "### Таблица сопряженности\n",
    "Взаимодействие двух категориальных переменных.\n",
    "\n",
    "#### Точный тест Фишера\n",
    "\n",
    "ТОЛЬКО таблица 2 * 2 (В R есть расширенная версия - fisher.test)."
   ]
  },
  {
   "cell_type": "code",
   "execution_count": 27,
   "id": "e5d1f518-68d3-43b9-b3eb-765cd0a83b84",
   "metadata": {},
   "outputs": [
    {
     "data": {
      "text/html": [
       "<div>\n",
       "<style scoped>\n",
       "    .dataframe tbody tr th:only-of-type {\n",
       "        vertical-align: middle;\n",
       "    }\n",
       "\n",
       "    .dataframe tbody tr th {\n",
       "        vertical-align: top;\n",
       "    }\n",
       "\n",
       "    .dataframe thead th {\n",
       "        text-align: right;\n",
       "    }\n",
       "</style>\n",
       "<table border=\"1\" class=\"dataframe\">\n",
       "  <thead>\n",
       "    <tr style=\"text-align: right;\">\n",
       "      <th></th>\n",
       "      <th>cntry</th>\n",
       "      <th>netusoft</th>\n",
       "      <th>ppltrst</th>\n",
       "      <th>clsprty</th>\n",
       "      <th>rlgatnd</th>\n",
       "      <th>gndr</th>\n",
       "      <th>agea</th>\n",
       "      <th>tporgwk</th>\n",
       "    </tr>\n",
       "  </thead>\n",
       "  <tbody>\n",
       "    <tr>\n",
       "      <th>0</th>\n",
       "      <td>Norway</td>\n",
       "      <td>Every day</td>\n",
       "      <td>7</td>\n",
       "      <td>No</td>\n",
       "      <td>Less often</td>\n",
       "      <td>Male</td>\n",
       "      <td>55</td>\n",
       "      <td>A private firm</td>\n",
       "    </tr>\n",
       "    <tr>\n",
       "      <th>1</th>\n",
       "      <td>Norway</td>\n",
       "      <td>Every day</td>\n",
       "      <td>9</td>\n",
       "      <td>Yes</td>\n",
       "      <td>Less often</td>\n",
       "      <td>Female</td>\n",
       "      <td>58</td>\n",
       "      <td>Other public sector (such as education and hea...</td>\n",
       "    </tr>\n",
       "    <tr>\n",
       "      <th>2</th>\n",
       "      <td>Norway</td>\n",
       "      <td>Every day</td>\n",
       "      <td>8</td>\n",
       "      <td>No</td>\n",
       "      <td>Only on special holy days</td>\n",
       "      <td>Female</td>\n",
       "      <td>35</td>\n",
       "      <td>Other public sector (such as education and hea...</td>\n",
       "    </tr>\n",
       "    <tr>\n",
       "      <th>3</th>\n",
       "      <td>Norway</td>\n",
       "      <td>Every day</td>\n",
       "      <td>3</td>\n",
       "      <td>No</td>\n",
       "      <td>Never</td>\n",
       "      <td>Male</td>\n",
       "      <td>18</td>\n",
       "      <td>A private firm</td>\n",
       "    </tr>\n",
       "    <tr>\n",
       "      <th>4</th>\n",
       "      <td>Norway</td>\n",
       "      <td>Every day</td>\n",
       "      <td>3</td>\n",
       "      <td>Yes</td>\n",
       "      <td>Only on special holy days</td>\n",
       "      <td>Male</td>\n",
       "      <td>22</td>\n",
       "      <td>A private firm</td>\n",
       "    </tr>\n",
       "  </tbody>\n",
       "</table>\n",
       "</div>"
      ],
      "text/plain": [
       "    cntry   netusoft  ppltrst clsprty                    rlgatnd    gndr  \\\n",
       "0  Norway  Every day        7      No                 Less often    Male   \n",
       "1  Norway  Every day        9     Yes                 Less often  Female   \n",
       "2  Norway  Every day        8      No  Only on special holy days  Female   \n",
       "3  Norway  Every day        3      No                      Never    Male   \n",
       "4  Norway  Every day        3     Yes  Only on special holy days    Male   \n",
       "\n",
       "   agea                                            tporgwk  \n",
       "0    55                                     A private firm  \n",
       "1    58  Other public sector (such as education and hea...  \n",
       "2    35  Other public sector (such as education and hea...  \n",
       "3    18                                     A private firm  \n",
       "4    22                                     A private firm  "
      ]
     },
     "execution_count": 27,
     "metadata": {},
     "output_type": "execute_result"
    }
   ],
   "source": [
    "data_norway = data[data['cntry'] == 'Norway'].reset_index(drop=True)\n",
    "data_norway.head()"
   ]
  },
  {
   "cell_type": "code",
   "execution_count": 29,
   "id": "94e0fc17-5927-43ed-af8a-6b004ac6cde9",
   "metadata": {},
   "outputs": [],
   "source": [
    "crosstab = pd.crosstab(data_norway['clsprty'], data_norway['gndr'])"
   ]
  },
  {
   "cell_type": "code",
   "execution_count": 30,
   "id": "f97a0fdb-2e07-46f8-9416-e6ab38e1b8bb",
   "metadata": {},
   "outputs": [
    {
     "data": {
      "text/plain": [
       "SignificanceResult(statistic=1.0293462286066468, pvalue=0.8201536989824305)"
      ]
     },
     "execution_count": 30,
     "metadata": {},
     "output_type": "execute_result"
    }
   ],
   "source": [
    "stats.fisher_exact(crosstab)"
   ]
  },
  {
   "cell_type": "markdown",
   "id": "8d33a1f8-10c9-4766-8ff2-39e9530c1ea3",
   "metadata": {},
   "source": [
    "#### Критерий Chi-squared\n",
    "![](https://www.statstest.com/wp-content/uploads/2020/10/Chi-Square-Test-of-Independence-1.jpg)\n",
    "\n",
    "Теперь рассматриваем взаимодействие двух категориальных переменных."
   ]
  },
  {
   "cell_type": "code",
   "execution_count": 26,
   "id": "54743047-4e35-4942-a0f6-f3d6f5419e8d",
   "metadata": {},
   "outputs": [
    {
     "data": {
      "text/html": [
       "<div>\n",
       "<style scoped>\n",
       "    .dataframe tbody tr th:only-of-type {\n",
       "        vertical-align: middle;\n",
       "    }\n",
       "\n",
       "    .dataframe tbody tr th {\n",
       "        vertical-align: top;\n",
       "    }\n",
       "\n",
       "    .dataframe thead th {\n",
       "        text-align: right;\n",
       "    }\n",
       "</style>\n",
       "<table border=\"1\" class=\"dataframe\">\n",
       "  <thead>\n",
       "    <tr style=\"text-align: right;\">\n",
       "      <th></th>\n",
       "      <th>cntry</th>\n",
       "      <th>netusoft</th>\n",
       "      <th>ppltrst</th>\n",
       "      <th>clsprty</th>\n",
       "      <th>rlgatnd</th>\n",
       "      <th>gndr</th>\n",
       "      <th>agea</th>\n",
       "      <th>tporgwk</th>\n",
       "    </tr>\n",
       "  </thead>\n",
       "  <tbody>\n",
       "    <tr>\n",
       "      <th>0</th>\n",
       "      <td>Norway</td>\n",
       "      <td>Every day</td>\n",
       "      <td>7</td>\n",
       "      <td>No</td>\n",
       "      <td>Less often</td>\n",
       "      <td>Male</td>\n",
       "      <td>55</td>\n",
       "      <td>A private firm</td>\n",
       "    </tr>\n",
       "    <tr>\n",
       "      <th>1</th>\n",
       "      <td>Norway</td>\n",
       "      <td>Every day</td>\n",
       "      <td>9</td>\n",
       "      <td>Yes</td>\n",
       "      <td>Less often</td>\n",
       "      <td>Female</td>\n",
       "      <td>58</td>\n",
       "      <td>Other public sector (such as education and hea...</td>\n",
       "    </tr>\n",
       "    <tr>\n",
       "      <th>2</th>\n",
       "      <td>Norway</td>\n",
       "      <td>Every day</td>\n",
       "      <td>8</td>\n",
       "      <td>No</td>\n",
       "      <td>Only on special holy days</td>\n",
       "      <td>Female</td>\n",
       "      <td>35</td>\n",
       "      <td>Other public sector (such as education and hea...</td>\n",
       "    </tr>\n",
       "    <tr>\n",
       "      <th>3</th>\n",
       "      <td>Norway</td>\n",
       "      <td>Every day</td>\n",
       "      <td>3</td>\n",
       "      <td>No</td>\n",
       "      <td>Never</td>\n",
       "      <td>Male</td>\n",
       "      <td>18</td>\n",
       "      <td>A private firm</td>\n",
       "    </tr>\n",
       "    <tr>\n",
       "      <th>4</th>\n",
       "      <td>Norway</td>\n",
       "      <td>Every day</td>\n",
       "      <td>3</td>\n",
       "      <td>Yes</td>\n",
       "      <td>Only on special holy days</td>\n",
       "      <td>Male</td>\n",
       "      <td>22</td>\n",
       "      <td>A private firm</td>\n",
       "    </tr>\n",
       "  </tbody>\n",
       "</table>\n",
       "</div>"
      ],
      "text/plain": [
       "    cntry   netusoft  ppltrst clsprty                    rlgatnd    gndr  \\\n",
       "0  Norway  Every day        7      No                 Less often    Male   \n",
       "1  Norway  Every day        9     Yes                 Less often  Female   \n",
       "2  Norway  Every day        8      No  Only on special holy days  Female   \n",
       "3  Norway  Every day        3      No                      Never    Male   \n",
       "4  Norway  Every day        3     Yes  Only on special holy days    Male   \n",
       "\n",
       "   agea                                            tporgwk  \n",
       "0    55                                     A private firm  \n",
       "1    58  Other public sector (such as education and hea...  \n",
       "2    35  Other public sector (such as education and hea...  \n",
       "3    18                                     A private firm  \n",
       "4    22                                     A private firm  "
      ]
     },
     "execution_count": 26,
     "metadata": {},
     "output_type": "execute_result"
    }
   ],
   "source": [
    "data_norway = data[data['cntry'] == 'Norway'].reset_index(drop=True)\n",
    "data_norway.head()"
   ]
  },
  {
   "cell_type": "markdown",
   "id": "6eabbb31-ebc8-4c01-a717-c1fbd172d89f",
   "metadata": {},
   "source": [
    "Есть ли взаимосвязь между гендером и политической заинтересованностью?\n",
    "\n",
    "`clsprty` - feel closer to one party than others<br>\n",
    "`gndr`    - пол"
   ]
  },
  {
   "cell_type": "code",
   "execution_count": 35,
   "id": "e9e4710e-cbe1-4fc3-8a9b-3a249a4ba5ed",
   "metadata": {},
   "outputs": [
    {
     "data": {
      "text/html": [
       "<div>\n",
       "<style scoped>\n",
       "    .dataframe tbody tr th:only-of-type {\n",
       "        vertical-align: middle;\n",
       "    }\n",
       "\n",
       "    .dataframe tbody tr th {\n",
       "        vertical-align: top;\n",
       "    }\n",
       "\n",
       "    .dataframe thead th {\n",
       "        text-align: right;\n",
       "    }\n",
       "</style>\n",
       "<table border=\"1\" class=\"dataframe\">\n",
       "  <thead>\n",
       "    <tr style=\"text-align: right;\">\n",
       "      <th>gndr</th>\n",
       "      <th>Female</th>\n",
       "      <th>Male</th>\n",
       "    </tr>\n",
       "    <tr>\n",
       "      <th>clsprty</th>\n",
       "      <th></th>\n",
       "      <th></th>\n",
       "    </tr>\n",
       "  </thead>\n",
       "  <tbody>\n",
       "    <tr>\n",
       "      <th>No</th>\n",
       "      <td>230</td>\n",
       "      <td>237</td>\n",
       "    </tr>\n",
       "    <tr>\n",
       "      <th>Yes</th>\n",
       "      <td>445</td>\n",
       "      <td>472</td>\n",
       "    </tr>\n",
       "  </tbody>\n",
       "</table>\n",
       "</div>"
      ],
      "text/plain": [
       "gndr     Female  Male\n",
       "clsprty              \n",
       "No          230   237\n",
       "Yes         445   472"
      ]
     },
     "execution_count": 35,
     "metadata": {},
     "output_type": "execute_result"
    }
   ],
   "source": [
    "crosstab = pd.crosstab(data_norway['clsprty'], data_norway['gndr'])\n",
    "crosstab"
   ]
  },
  {
   "cell_type": "code",
   "execution_count": 36,
   "id": "47d000ff-705a-4521-a316-49dea9da07b9",
   "metadata": {},
   "outputs": [
    {
     "data": {
      "text/html": [
       "<div>\n",
       "<style scoped>\n",
       "    .dataframe tbody tr th:only-of-type {\n",
       "        vertical-align: middle;\n",
       "    }\n",
       "\n",
       "    .dataframe tbody tr th {\n",
       "        vertical-align: top;\n",
       "    }\n",
       "\n",
       "    .dataframe thead th {\n",
       "        text-align: right;\n",
       "    }\n",
       "</style>\n",
       "<table border=\"1\" class=\"dataframe\">\n",
       "  <thead>\n",
       "    <tr style=\"text-align: right;\">\n",
       "      <th>gndr</th>\n",
       "      <th>Female</th>\n",
       "      <th>Male</th>\n",
       "    </tr>\n",
       "    <tr>\n",
       "      <th>clsprty</th>\n",
       "      <th></th>\n",
       "      <th></th>\n",
       "    </tr>\n",
       "  </thead>\n",
       "  <tbody>\n",
       "    <tr>\n",
       "      <th>No</th>\n",
       "      <td>0.340741</td>\n",
       "      <td>0.334274</td>\n",
       "    </tr>\n",
       "    <tr>\n",
       "      <th>Yes</th>\n",
       "      <td>0.659259</td>\n",
       "      <td>0.665726</td>\n",
       "    </tr>\n",
       "  </tbody>\n",
       "</table>\n",
       "</div>"
      ],
      "text/plain": [
       "gndr       Female      Male\n",
       "clsprty                    \n",
       "No       0.340741  0.334274\n",
       "Yes      0.659259  0.665726"
      ]
     },
     "execution_count": 36,
     "metadata": {},
     "output_type": "execute_result"
    }
   ],
   "source": [
    "# какая доля мужчин и женщин отвечает \"да\" на вопрос о большей близости к одной из политических партий?\n",
    "pd.crosstab(data_norway['clsprty'], data_norway['gndr'], normalize=1)"
   ]
  },
  {
   "cell_type": "markdown",
   "id": "744bc6c3-d0d0-448d-827b-ee5961146fba",
   "metadata": {},
   "source": [
    "Для проверки значимости этих различий существует т. н. Chi-squared independence test.\n",
    "\n",
    "H0: взаимосвязи нет<br>\n",
    "Ha: взаимосвязь есть.\n",
    "\n",
    "Статистика для теста при верной H0 имеет распределение Chi-squared."
   ]
  },
  {
   "cell_type": "code",
   "execution_count": 38,
   "id": "e6d58c04-3e4e-465e-98c6-2835c9f6849a",
   "metadata": {},
   "outputs": [],
   "source": [
    "chi2_result = stats.chi2_contingency(crosstab)"
   ]
  },
  {
   "cell_type": "code",
   "execution_count": 39,
   "id": "8584d2ec-f327-46b0-8d63-bbc502b25bfc",
   "metadata": {},
   "outputs": [
    {
     "data": {
      "text/plain": [
       "array([[227.76372832, 239.23627168],\n",
       "       [447.23627168, 469.76372832]])"
      ]
     },
     "execution_count": 39,
     "metadata": {},
     "output_type": "execute_result"
    }
   ],
   "source": [
    "chi2_result.expected_freq  # expected requencies under H0"
   ]
  },
  {
   "cell_type": "code",
   "execution_count": 40,
   "id": "64451ef4-37e1-4641-b610-59f3a3fd2136",
   "metadata": {},
   "outputs": [
    {
     "data": {
      "text/plain": [
       "0.038994863771994"
      ]
     },
     "execution_count": 40,
     "metadata": {},
     "output_type": "execute_result"
    }
   ],
   "source": [
    "chi2_result.statistic"
   ]
  },
  {
   "cell_type": "code",
   "execution_count": 41,
   "id": "02e03cc0-baf0-4957-9da4-7e7bbad5774f",
   "metadata": {},
   "outputs": [
    {
     "data": {
      "text/plain": [
       "0.8434588386642923"
      ]
     },
     "execution_count": 41,
     "metadata": {},
     "output_type": "execute_result"
    }
   ],
   "source": [
    "chi2_result.pvalue  # H0 не отвергается"
   ]
  },
  {
   "cell_type": "markdown",
   "id": "6b63a3f2-f961-4cfc-95a1-baafedd1ac95",
   "metadata": {},
   "source": [
    "Посмотрим на взаимосвязь netusoft (как часто использует Интернет) и clsprty:"
   ]
  },
  {
   "cell_type": "code",
   "execution_count": 44,
   "id": "de31d475-a0a6-4f09-aed9-e6585d625b0d",
   "metadata": {},
   "outputs": [
    {
     "data": {
      "text/html": [
       "<div>\n",
       "<style scoped>\n",
       "    .dataframe tbody tr th:only-of-type {\n",
       "        vertical-align: middle;\n",
       "    }\n",
       "\n",
       "    .dataframe tbody tr th {\n",
       "        vertical-align: top;\n",
       "    }\n",
       "\n",
       "    .dataframe thead th {\n",
       "        text-align: right;\n",
       "    }\n",
       "</style>\n",
       "<table border=\"1\" class=\"dataframe\">\n",
       "  <thead>\n",
       "    <tr style=\"text-align: right;\">\n",
       "      <th>netusoft</th>\n",
       "      <th>Never</th>\n",
       "      <th>Only occasionally</th>\n",
       "      <th>A few times a week</th>\n",
       "      <th>Most days</th>\n",
       "      <th>Every day</th>\n",
       "    </tr>\n",
       "    <tr>\n",
       "      <th>clsprty</th>\n",
       "      <th></th>\n",
       "      <th></th>\n",
       "      <th></th>\n",
       "      <th></th>\n",
       "      <th></th>\n",
       "    </tr>\n",
       "  </thead>\n",
       "  <tbody>\n",
       "    <tr>\n",
       "      <th>No</th>\n",
       "      <td>3</td>\n",
       "      <td>4</td>\n",
       "      <td>3</td>\n",
       "      <td>15</td>\n",
       "      <td>442</td>\n",
       "    </tr>\n",
       "    <tr>\n",
       "      <th>Yes</th>\n",
       "      <td>16</td>\n",
       "      <td>11</td>\n",
       "      <td>13</td>\n",
       "      <td>61</td>\n",
       "      <td>816</td>\n",
       "    </tr>\n",
       "  </tbody>\n",
       "</table>\n",
       "</div>"
      ],
      "text/plain": [
       "netusoft  Never  Only occasionally  A few times a week  Most days  Every day\n",
       "clsprty                                                                     \n",
       "No            3                  4                   3         15        442\n",
       "Yes          16                 11                  13         61        816"
      ]
     },
     "execution_count": 44,
     "metadata": {},
     "output_type": "execute_result"
    }
   ],
   "source": [
    "order = ['Never', 'Only occasionally', 'A few times a week', 'Most days', 'Every day']\n",
    "\n",
    "crosstab = pd.crosstab(data_norway['clsprty'], data_norway['netusoft'])\n",
    "crosstab.loc[:, order]"
   ]
  },
  {
   "cell_type": "code",
   "execution_count": 45,
   "id": "6bee4715-4106-4535-a70f-c94c37e4f4d4",
   "metadata": {},
   "outputs": [
    {
     "data": {
      "text/html": [
       "<div>\n",
       "<style scoped>\n",
       "    .dataframe tbody tr th:only-of-type {\n",
       "        vertical-align: middle;\n",
       "    }\n",
       "\n",
       "    .dataframe tbody tr th {\n",
       "        vertical-align: top;\n",
       "    }\n",
       "\n",
       "    .dataframe thead th {\n",
       "        text-align: right;\n",
       "    }\n",
       "</style>\n",
       "<table border=\"1\" class=\"dataframe\">\n",
       "  <thead>\n",
       "    <tr style=\"text-align: right;\">\n",
       "      <th>netusoft</th>\n",
       "      <th>Never</th>\n",
       "      <th>Only occasionally</th>\n",
       "      <th>A few times a week</th>\n",
       "      <th>Most days</th>\n",
       "      <th>Every day</th>\n",
       "    </tr>\n",
       "    <tr>\n",
       "      <th>clsprty</th>\n",
       "      <th></th>\n",
       "      <th></th>\n",
       "      <th></th>\n",
       "      <th></th>\n",
       "      <th></th>\n",
       "    </tr>\n",
       "  </thead>\n",
       "  <tbody>\n",
       "    <tr>\n",
       "      <th>No</th>\n",
       "      <td>0.157895</td>\n",
       "      <td>0.266667</td>\n",
       "      <td>0.1875</td>\n",
       "      <td>0.197368</td>\n",
       "      <td>0.351351</td>\n",
       "    </tr>\n",
       "    <tr>\n",
       "      <th>Yes</th>\n",
       "      <td>0.842105</td>\n",
       "      <td>0.733333</td>\n",
       "      <td>0.8125</td>\n",
       "      <td>0.802632</td>\n",
       "      <td>0.648649</td>\n",
       "    </tr>\n",
       "  </tbody>\n",
       "</table>\n",
       "</div>"
      ],
      "text/plain": [
       "netusoft     Never  Only occasionally  A few times a week  Most days  \\\n",
       "clsprty                                                                \n",
       "No        0.157895           0.266667              0.1875   0.197368   \n",
       "Yes       0.842105           0.733333              0.8125   0.802632   \n",
       "\n",
       "netusoft  Every day  \n",
       "clsprty              \n",
       "No         0.351351  \n",
       "Yes        0.648649  "
      ]
     },
     "execution_count": 45,
     "metadata": {},
     "output_type": "execute_result"
    }
   ],
   "source": [
    "pd.crosstab(data_norway['clsprty'], data_norway['netusoft'], normalize=1).loc[:, order]"
   ]
  },
  {
   "cell_type": "code",
   "execution_count": 46,
   "id": "c71586b3-7200-424e-803e-94f608ec8e9a",
   "metadata": {},
   "outputs": [
    {
     "data": {
      "text/plain": [
       "Chi2ContingencyResult(statistic=12.443145338124966, pvalue=0.014342904504516472, dof=4, expected_freq=array([[  5.39884393, 424.48410405,  25.64450867,   6.41112717,\n",
       "          5.06141618],\n",
       "       [ 10.60115607, 833.51589595,  50.35549133,  12.58887283,\n",
       "          9.93858382]]))"
      ]
     },
     "execution_count": 46,
     "metadata": {},
     "output_type": "execute_result"
    }
   ],
   "source": [
    "stats.chi2_contingency(crosstab)"
   ]
  },
  {
   "cell_type": "markdown",
   "id": "5ed10682-085d-4779-9562-cf6d39a58a87",
   "metadata": {},
   "source": [
    "### Сравнение чисел наблюдений\n",
    "#### Число успехов при заданном числе испытаний\n",
    "Проверим предыдущую гипотезу (о том, что и мужчины и женщины одинаково отвечают \"да\" на вопрос о наличии любимой партии), но другим способом. Пусть имеется $n$ успехов при $N$ испытаниях и $m$ успехов при $M$ испытаниях.\n",
    "\n",
    "$H_0:$ доля успехов в двух случаях одна и та же<br>\n",
    "$H_A:$ доли успехов в двух случаях различаются\n",
    "\n",
    "Тогда при верной $H_0:$\n",
    "\n",
    "$p=\\frac{n + m}{N + M}$<br><br>\n",
    "$D_1=\\frac{p(1-p)}{N}$<br>\n",
    "$D_2=\\frac{p(1-p)}{M}$<br><br>\n",
    "$Z=\\frac{\\frac{n}{N} - \\frac{m}{M}}{\\sqrt{D_1 + D_2}}$<br>\n",
    "$Z \\sim N(0, 1)$"
   ]
  },
  {
   "cell_type": "code",
   "execution_count": null,
   "id": "dc548bff-0fb6-4c10-b19f-830967c2c3d0",
   "metadata": {},
   "outputs": [],
   "source": [
    "# наш код здесь"
   ]
  },
  {
   "cell_type": "markdown",
   "id": "00ff95d2-566b-44db-90af-854dee1c46b1",
   "metadata": {},
   "source": [
    "#### Число успехов при неопределенном максимуме\n",
    "![poisson](https://cf.ppt-online.org/files/slide/m/MI9r1WpmVsd8JtknYfC4KRUSoc5QGADiTuezyO/slide-9.jpg)\n",
    "**Задача.** Мальчик поймал за сезон 50 рыжих майских жуков и 33 чёрных. Можно ли утверждать, что рыжие встречаются в этом году чаще?\n",
    "\n",
    "$D_1=\\frac{n + m}{2}$<br>\n",
    "$D_2=\\frac{n + m}{2}$<br><br>\n",
    "\n",
    "$Z=\\frac{n - m}{\\sqrt{D_1 + D_2}}=\\frac{n - m}{\\sqrt{n + m}}$\n",
    "\n",
    "**!NB!** Данный способ может применяться только при достаточно большом среднем (> 20)."
   ]
  },
  {
   "cell_type": "code",
   "execution_count": null,
   "id": "b7acae9c-a992-44d3-bf89-22540539934f",
   "metadata": {},
   "outputs": [],
   "source": [
    "# наш код здесь"
   ]
  },
  {
   "cell_type": "markdown",
   "id": "7f88cfd0-b007-4783-86a2-a5547c1117f7",
   "metadata": {},
   "source": [
    "### Сравнение коэффициента корреляции с нулем\n",
    "$H_0:$ корреляция равна 0<br>\n",
    "$H_A:$ корреляция не равна 0\n",
    "\n",
    "Связь двух числовых (порядковых) переменных:"
   ]
  },
  {
   "cell_type": "code",
   "execution_count": null,
   "id": "b4820bd0-f571-4ed4-a032-66497c0c8d64",
   "metadata": {},
   "outputs": [],
   "source": [
    "# numeric & numeric\n",
    "# ppltrst - степень доверия случайным людям от 0 до 10\n",
    "# agea"
   ]
  },
  {
   "cell_type": "code",
   "execution_count": 31,
   "id": "1f5c2498-b9e7-4e17-90ca-fdc34dd438eb",
   "metadata": {},
   "outputs": [
    {
     "data": {
      "text/plain": [
       "PearsonRResult(statistic=0.15900242188850106, pvalue=2.7183164677164256e-09)"
      ]
     },
     "execution_count": 31,
     "metadata": {},
     "output_type": "execute_result"
    }
   ],
   "source": [
    "# X, Y должны происходить из генеральных совокупностей, распределенных нормально\n",
    "# мера линейной взаимосвязи\n",
    "\n",
    "stats.pearsonr(data_norway['ppltrst'], data_norway['agea'])  # корреляция доверия к людям и возраста слабая, но значимая"
   ]
  },
  {
   "cell_type": "code",
   "execution_count": 32,
   "id": "fcf24460-2c4a-469b-a11d-e037f82d10f4",
   "metadata": {},
   "outputs": [
    {
     "data": {
      "text/plain": [
       "SignificanceResult(statistic=0.17812730502508445, pvalue=2.486273813337128e-11)"
      ]
     },
     "execution_count": 32,
     "metadata": {},
     "output_type": "execute_result"
    }
   ],
   "source": [
    "# нет требования к нормальности\n",
    "# ~ мера линейной взаимосвязи\n",
    "stats.spearmanr(data_norway['ppltrst'], data_norway['agea'])"
   ]
  },
  {
   "cell_type": "code",
   "execution_count": 33,
   "id": "cc0e280f-014d-4097-9721-43f5776b0631",
   "metadata": {},
   "outputs": [
    {
     "data": {
      "text/plain": [
       "SignificanceResult(statistic=0.1316238639494908, pvalue=1.5937051688443437e-11)"
      ]
     },
     "execution_count": 33,
     "metadata": {},
     "output_type": "execute_result"
    }
   ],
   "source": [
    "# нет требования к нормальности\n",
    "# мера не только линейной взаимосвязи\n",
    "# только для ранговых данных\n",
    "stats.kendalltau(data_norway['ppltrst'], data_norway['agea'])"
   ]
  },
  {
   "cell_type": "markdown",
   "id": "00c78ec5-40f1-4d62-a1a1-39edee7c67e7",
   "metadata": {},
   "source": [
    "### Немного о регрессии со статистической точки зрения"
   ]
  },
  {
   "cell_type": "code",
   "execution_count": null,
   "id": "e790ed17-c6a4-4879-83bb-8fbd028561ee",
   "metadata": {},
   "outputs": [],
   "source": [
    "from statsmodels.formula.api import ols"
   ]
  },
  {
   "cell_type": "code",
   "execution_count": null,
   "id": "a5960f0f-5753-4cc8-a4e8-e1cf39bb98fe",
   "metadata": {},
   "outputs": [],
   "source": [
    "print(ols( 'ppltrst ~ agea', data=norway_data).fit().summary())"
   ]
  },
  {
   "cell_type": "code",
   "execution_count": 1,
   "id": "cad07a31-db8b-41c7-87ce-cecb0915ae76",
   "metadata": {},
   "outputs": [],
   "source": [
    "import torch"
   ]
  },
  {
   "cell_type": "code",
   "execution_count": 4,
   "id": "77774ef8-13a0-4dfa-a83e-c08728544210",
   "metadata": {},
   "outputs": [
    {
     "data": {
      "text/plain": [
       "tensor([[1, 2, 3]])"
      ]
     },
     "execution_count": 4,
     "metadata": {},
     "output_type": "execute_result"
    }
   ],
   "source": [
    "torch.tensor([1, 2, 3]).unsqueeze(0)"
   ]
  }
 ],
 "metadata": {
  "kernelspec": {
   "display_name": "Python 3 (ipykernel)",
   "language": "python",
   "name": "python3"
  },
  "language_info": {
   "codemirror_mode": {
    "name": "ipython",
    "version": 3
   },
   "file_extension": ".py",
   "mimetype": "text/x-python",
   "name": "python",
   "nbconvert_exporter": "python",
   "pygments_lexer": "ipython3",
   "version": "3.11.6"
  }
 },
 "nbformat": 4,
 "nbformat_minor": 5
}
