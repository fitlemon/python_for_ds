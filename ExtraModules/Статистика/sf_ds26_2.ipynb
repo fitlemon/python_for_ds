{
 "cells": [
  {
   "cell_type": "markdown",
   "id": "df89755a-5c93-4763-9436-38d0e22c7ddb",
   "metadata": {},
   "source": [
    "# Программирование на языке Python\n",
    "## Семинар 26. Проверка гипотез: краткий обзор\n",
    "### Содержание\n",
    "![](images/all.png)\n",
    "\n",
    "### Пререквизиты\n",
    "![](images/e_disp.png)\n",
    "\n",
    "![](images/continuity.png)\n",
    "\n",
    "### Проверка гипотез? Зачем?\n",
    "**Общий смысл**\n",
    "\n",
    "- видим в данных какую-то закономерность\n",
    "- думаем, как ее измерить\n",
    "- насколько вероятно получить такое случайно?\n",
    "- для ответа требуется: 1) понять, какие вообще результаты получаются случайно и 2) проверить, как соотносится с этим распределением полученное нами значение\n",
    "- если укладывается - закономерность случайна, нет - отвергаем случайность закономерности\n",
    "\n",
    "**Формализация**\n",
    "\n",
    "1. Выдвигаем H0 (нулевая гипотеза) о том, что все случайно (Ha - альтернативная гипотеза - будет противоположна H0);\n",
    "2. Выбираем статистику критерия (исходя из задачи и типа закономерности). Можем хоть сами придумать, главное чтобы она работала (вопрос: а как проверить что она работает?);\n",
    "3. Подсчитываем наблюдаемую статистику критерия;\n",
    "4. Подсчитываем вероятность получить ее по случайным причинам;\n",
    "5. Оцениваем вероятность и делаем вывод.\n",
    "\n",
    "**Что хотим получить и чего хотели бы избежать?**\n",
    "\n",
    "![](https://i.redd.it/ob8za0yst6f21.png)\n",
    "\n",
    "\n",
    "### Сравнение выборки с заданным распределением\n",
    "#### t-тест и z-тест для одной выборки\n",
    "\n",
    "![](https://i.ytimg.com/vi/PUm3oq2lQWs/maxresdefault.jpg)"
   ]
  },
  {
   "cell_type": "code",
   "execution_count": 2,
   "id": "d8ffdebe-6b8f-4327-8d0e-f284f8ee2f4d",
   "metadata": {},
   "outputs": [],
   "source": [
    "theoretic_mean = 1.8\n",
    "sample_mean = 2.3  #  несколько клыков\n",
    "sample_std = 0.2\n",
    "n = 6"
   ]
  },
  {
   "cell_type": "code",
   "execution_count": null,
   "id": "b180b98e-c834-4fc6-99c7-5b9fb5100744",
   "metadata": {},
   "outputs": [],
   "source": [
    "# H0: sample_mean == theoretic_mean (sample_mean - theoretic_mean == 0)\n",
    "\n",
    "# HA: sample_mean != theoretic_mean (sample_mean - theoretic_mean != 0) - two-sided +++++++\n",
    "# HA: sample_mean > theoretic_mean (sample_mean - theoretic_mean > 0) - right-sided\n",
    "# HA: sample_mean < theoretic_mean (sample_mean - theoretic_mean < 0) - left-sided\n",
    "\n",
    "# выдвинем проверямое следствие из этой гипотезы\n",
    "\n",
    "# а как распределяется (metric = sample_mean - theoretic_mean) при верной H0\n",
    "# если мы проведем с metric некоторые преобразования, то полученное значение (statistic) при выполнении некоторых условий\n",
    "\n",
    "# **\n",
    "# условие 1: выборка должна быть из нормального распределения\n",
    "# условие 2: \n",
    "# **\n",
    "\n",
    "# имеет хорошо известное и хорошо изученное распределение (при условии H0)\n",
    "# в нашем случае это t-распределение\n",
    "\n",
    "# statistic ~ t(df), df = n - 1, n - размер выборки (проверямое следствие из этой гипотезы)\n",
    "# при n -> Inf (n > 1000), statistic ~ Z ~ N(0, 1)\n",
    "\n",
    "# n > 1000, t-test -> Z-test\n",
    "\n",
    "# metric / std(statistic)\n",
    "# std(statistic) = std(X) / sample_size"
   ]
  },
  {
   "cell_type": "code",
   "execution_count": 4,
   "id": "c94d0de8-2658-440c-9365-ee4b34c02843",
   "metadata": {},
   "outputs": [
    {
     "data": {
      "text/plain": [
       "6.1237243569579425"
      ]
     },
     "execution_count": 4,
     "metadata": {},
     "output_type": "execute_result"
    }
   ],
   "source": [
    "statistic = (sample_mean - theoretic_mean) / (sample_std / n ** (1 / 2))\n",
    "statistic  # наблюдаемое значение статистики "
   ]
  },
  {
   "cell_type": "code",
   "execution_count": 3,
   "id": "50b36aa6-39e4-4efa-838b-f249865750cd",
   "metadata": {},
   "outputs": [
    {
     "data": {
      "text/plain": [
       "6.1237243569579425"
      ]
     },
     "execution_count": 3,
     "metadata": {},
     "output_type": "execute_result"
    }
   ],
   "source": [
    "# укладывается ли значение статистики в теоретическое распределение?\n",
    "# эта мера - p-value: вероятность получить такое же или более ЭКСТРЕМАЛЬНОЕ наблюдаемое значение статистики (при верной H0)\n",
    "# ИЛИ это вероятность отвергнуть H0 при верное H0 (то есть ОШИБКА 1 РОДА)"
   ]
  },
  {
   "cell_type": "code",
   "execution_count": 7,
   "id": "a67bc848-88bb-418e-835e-4f044bbfdc66",
   "metadata": {},
   "outputs": [
    {
     "data": {
      "text/plain": [
       "0.0008423289851465787"
      ]
     },
     "execution_count": 7,
     "metadata": {},
     "output_type": "execute_result"
    }
   ],
   "source": [
    "from scipy import stats\n",
    "\n",
    "# проверим нулевую гипотезу против правосторонней альтернативы\n",
    "# HA: sample_mean > theoretic_mean (sample_mean - theoretic_mean > 0) - right-sided\n",
    "\n",
    "# p-value = 1 - F(statistic) = 1 - P(t <= statistic)\n",
    "\n",
    "df = n - 1\n",
    "\n",
    "t_distribution = stats.t(df)\n",
    "\n",
    "p_value = 1 - t_distribution.cdf(statistic)\n",
    "p_value\n",
    "\n",
    "# p-value большое - значит проверямое следствие из гипотезы (H0) получить вероятно\n",
    "# p-value маленькое - значит проверямое следствие из гипотезы (H0) получить маловероятно -> отвергаем нулевую гипотезу\n",
    "\n",
    "# нужен порог: обычно это 0.05 -> отвергаем"
   ]
  },
  {
   "cell_type": "code",
   "execution_count": 8,
   "id": "f09aa4f7-fab0-4963-b611-64b71ac04237",
   "metadata": {},
   "outputs": [
    {
     "data": {
      "text/plain": [
       "0.9991576710148534"
      ]
     },
     "execution_count": 8,
     "metadata": {},
     "output_type": "execute_result"
    }
   ],
   "source": [
    "# проверим нулевую гипотезу против левосторонней альтернативы\n",
    "# HA: sample_mean < theoretic_mean (sample_mean - theoretic_mean < 0) - left-sided\n",
    "\n",
    "# p-value = F(statistic)\n",
    "\n",
    "df = n - 1\n",
    "\n",
    "p_value = t_distribution.cdf(statistic)\n",
    "p_value\n",
    "\n",
    "# p-value большое - значит проверямое следствие из гипотезы (H0) получить вероятно\n",
    "# p-value маленькое - значит проверямое следствие из гипотезы (H0) получить маловероятно -> отвергаем нулевую гипотезу\n",
    "\n",
    "# нужен порог: обычно это 0.05 -> не отвергаем"
   ]
  },
  {
   "cell_type": "code",
   "execution_count": 9,
   "id": "d2fe37df-cdf9-41f9-bd24-d5ed138a4e0e",
   "metadata": {},
   "outputs": [
    {
     "data": {
      "text/plain": [
       "0.001684657970293156"
      ]
     },
     "execution_count": 9,
     "metadata": {},
     "output_type": "execute_result"
    }
   ],
   "source": [
    "# проверим нулевую гипотезу против двусторонней альтернативы\n",
    "# HA: sample_mean != theoretic_mean (sample_mean - theoretic_mean != 0) - two-sided\n",
    "\n",
    "# p-value = F(-statistic) * 2\n",
    "\n",
    "df = n - 1\n",
    "\n",
    "p_value = t_distribution.cdf(-statistic) * 2\n",
    "p_value\n",
    "\n",
    "# p-value большое - значит проверямое следствие из гипотезы (H0) получить вероятно\n",
    "# p-value маленькое - значит проверямое следствие из гипотезы (H0) получить маловероятно -> отвергаем нулевую гипотезу\n",
    "\n",
    "# нужен порог: обычно это 0.05 -> не отвергаем"
   ]
  },
  {
   "cell_type": "markdown",
   "id": "310cfc07-2109-4495-8a15-b35d80d52075",
   "metadata": {},
   "source": [
    "**Задача из примера**"
   ]
  },
  {
   "cell_type": "code",
   "execution_count": 29,
   "id": "3f10f498-7ae0-43b3-97e8-12b9540818d2",
   "metadata": {},
   "outputs": [],
   "source": [
    "#1\n",
    "value_observed = 2.3\n",
    "\n",
    "mean = 1.8\n",
    "std = 0.2\n",
    "\n",
    "value_observed_st = (value_observed - mean) / std  # mean -> 0, std -> 1, N(1.8, 0.2) -> N(0, 1) -> Z"
   ]
  },
  {
   "cell_type": "code",
   "execution_count": 34,
   "id": "daf56307-a6ba-4f7b-8c62-addd5abd7561",
   "metadata": {},
   "outputs": [
    {
     "data": {
      "text/plain": [
       "0.012419330651552315"
      ]
     },
     "execution_count": 34,
     "metadata": {},
     "output_type": "execute_result"
    }
   ],
   "source": [
    "stnorm_distribution = stats.norm(0, 1)\n",
    "stnorm_distribution.cdf(-value_observed_st) * 2"
   ]
  },
  {
   "cell_type": "code",
   "execution_count": 36,
   "id": "450a00c7-0bfe-4d83-95fb-d96ba71473ec",
   "metadata": {},
   "outputs": [
    {
     "data": {
      "text/plain": [
       "0.012419330651552318"
      ]
     },
     "execution_count": 36,
     "metadata": {},
     "output_type": "execute_result"
    }
   ],
   "source": [
    "#2\n",
    "norm_distribution = stats.norm(1.8, 0.2)\n",
    "\n",
    "(1 - norm_distribution.cdf(value_observed)) * 2"
   ]
  },
  {
   "cell_type": "markdown",
   "id": "ee089178-ecef-41ba-823b-94150a7e03df",
   "metadata": {},
   "source": [
    "**Как вообще распределяется выборочное среднее?**"
   ]
  },
  {
   "cell_type": "code",
   "execution_count": 2,
   "id": "1f2b6ab1-8af5-4183-a177-611041cb9fad",
   "metadata": {},
   "outputs": [],
   "source": [
    "import numpy as np\n",
    "\n",
    "population = np.random.normal(-3, 9, 100000)\n",
    "expectation = population.mean()"
   ]
  },
  {
   "cell_type": "code",
   "execution_count": 12,
   "id": "a7f58944-a4f3-4a1c-85f8-14fb770970c0",
   "metadata": {},
   "outputs": [
    {
     "data": {
      "text/plain": [
       "array([  1.27506465,   1.58227485, -17.8189887 ,  -3.00399294,\n",
       "       -24.7055506 ,  -9.41690828,   4.94289788,  -2.25777083,\n",
       "         0.04558298,  -2.47115781])"
      ]
     },
     "execution_count": 12,
     "metadata": {},
     "output_type": "execute_result"
    }
   ],
   "source": [
    "sample_size = 10\n",
    "np.random.choice(population, sample_size)"
   ]
  },
  {
   "cell_type": "code",
   "execution_count": 14,
   "id": "985fc0e5-3484-4feb-816c-22b62060e13a",
   "metadata": {},
   "outputs": [],
   "source": [
    "def get_sample_means(sample_size, n_samples=10000):\n",
    "    sample_means = []\n",
    "    \n",
    "    for i in range(n_samples):\n",
    "        sample = np.random.choice(population, sample_size)\n",
    "        sample_mean = sample.mean()\n",
    "        sample_means.append(sample_mean)\n",
    "\n",
    "    return sample_means"
   ]
  },
  {
   "cell_type": "code",
   "execution_count": 22,
   "id": "f30a63b4-e140-407d-8ed8-7d8bd63ad066",
   "metadata": {},
   "outputs": [
    {
     "data": {
      "image/png": "[encoded data removed]",
      "text/plain": [
       "<Figure size 640x480 with 1 Axes>"
      ]
     },
     "metadata": {},
     "output_type": "display_data"
    }
   ],
   "source": [
    "import matplotlib.pyplot as plt\n",
    "\n",
    "sample_means10 = get_sample_means(100)\n",
    "\n",
    "fig, ax = plt.subplots()\n",
    "ax.axvline(expectation, color='red')\n",
    "\n",
    "sample_sizes = [2, 10, 30, 100, 1000]\n",
    "\n",
    "for sample_size in sample_sizes:\n",
    "    sample_means = get_sample_means(sample_size)\n",
    "    \n",
    "    ax.hist(sample_means, bins=100, alpha=0.3, label=f'sample size is {sample_size}')\n",
    "\n",
    "ax.legend();"
   ]
  },
  {
   "cell_type": "markdown",
   "id": "b029821b-71c2-4d61-9830-a2560bfbae21",
   "metadata": {},
   "source": [
    "**Свойства выборочного среднего**\n",
    "\n",
    "1. при n_samples -> Inf, E(sample_mean) = E(X)\n",
    "2. при sample_size -> Inf, sample_mean -> E(X)"
   ]
  },
  {
   "cell_type": "code",
   "execution_count": 1,
   "id": "cb814c1b-7db0-4d87-bdd7-61398e72a805",
   "metadata": {},
   "outputs": [
    {
     "name": "stdout",
     "output_type": "stream",
     "text": [
      "<class 'pandas.core.frame.DataFrame'>\n",
      "RangeIndex: 35987 entries, 0 to 35986\n",
      "Data columns (total 8 columns):\n",
      " #   Column    Non-Null Count  Dtype \n",
      "---  ------    --------------  ----- \n",
      " 0   cntry     35987 non-null  object\n",
      " 1   netusoft  35987 non-null  object\n",
      " 2   ppltrst   35987 non-null  int64 \n",
      " 3   clsprty   35987 non-null  object\n",
      " 4   rlgatnd   35987 non-null  object\n",
      " 5   gndr      35987 non-null  object\n",
      " 6   agea      35987 non-null  int64 \n",
      " 7   tporgwk   35987 non-null  object\n",
      "dtypes: int64(2), object(6)\n",
      "memory usage: 2.2+ MB\n"
     ]
    }
   ],
   "source": [
    "import numpy as np\n",
    "import pandas as pd\n",
    "from scipy import stats\n",
    "\n",
    "data = pd.read_excel('ess_data.xlsx')\n",
    "data.info()"
   ]
  },
  {
   "cell_type": "markdown",
   "id": "047e2511-b7a3-43f3-b6cc-00d82a0165c8",
   "metadata": {},
   "source": [
    "$H_0: \\mu_x=a$ <br>\n",
    "$H_A: \\mu \\neq a$ <br>\n",
    "$\\mu$ - mean <br>\n",
    "$a$ - some value\n",
    "\n",
    "Допущения:\n",
    "- X - количественная (numeric) переменная;\n",
    "- X (здесь и далее X - генеральная совокупность) имеет нормальное распределение.\n",
    "\n",
    "1) Если на величину скорее всего влияют много слабых разнонаправленных факторов, она распределена нормально (рост, вес и т. д.);\n",
    "2) Можно протестировать, вышла ли выборка из нормально распределенной генеральной совокупности."
   ]
  },
  {
   "cell_type": "code",
   "execution_count": 33,
   "id": "1c5a94c9-e1a6-4784-a152-eb4df591f878",
   "metadata": {},
   "outputs": [],
   "source": [
    "norway_age = data.loc[data['cntry'] == 'Norway', 'agea'].values"
   ]
  },
  {
   "cell_type": "code",
   "execution_count": 34,
   "id": "4b8cd9d6-5aab-46f6-943c-80bd669e1a44",
   "metadata": {},
   "outputs": [
    {
     "data": {
      "text/plain": [
       "47.229046242774565"
      ]
     },
     "execution_count": 34,
     "metadata": {},
     "output_type": "execute_result"
    }
   ],
   "source": [
    "sample_mean = norway_age.mean()\n",
    "sample_std = norway_age.std(ddof=1)  # unbiased estimation\n",
    "sample_mean"
   ]
  },
  {
   "cell_type": "code",
   "execution_count": 35,
   "id": "4ab2f140-2e4a-49ae-85d9-1f54c793d952",
   "metadata": {},
   "outputs": [],
   "source": [
    "population_mean = 40"
   ]
  },
  {
   "cell_type": "code",
   "execution_count": 36,
   "id": "e50ce174-be53-4f4e-a2c7-d80ae03531bb",
   "metadata": {},
   "outputs": [
    {
     "data": {
      "text/plain": [
       "14.786143270569728"
      ]
     },
     "execution_count": 36,
     "metadata": {},
     "output_type": "execute_result"
    }
   ],
   "source": [
    "# H0: средний возраст жителей Норвегии на самом деле 40 лет\n",
    "# HA: на самом деле не 40\n",
    "\n",
    "# рассчитаем значение статистики\n",
    "statistic = (sample_mean - population_mean) / (sample_std / norway_age.size ** (1 / 2))\n",
    "statistic"
   ]
  },
  {
   "cell_type": "code",
   "execution_count": 37,
   "id": "7dfc88f7-34c9-4e26-b7d8-31f847e21335",
   "metadata": {},
   "outputs": [
    {
     "data": {
      "text/plain": [
       "1.7997513933815474e-49"
      ]
     },
     "execution_count": 37,
     "metadata": {},
     "output_type": "execute_result"
    }
   ],
   "source": [
    "# надо сравнить statistic с теоретическим распределением\n",
    "\n",
    "norm_distribution = stats.norm(0, 1)\n",
    "norm_distribution.cdf(-statistic) * 2  # p-value"
   ]
  },
  {
   "cell_type": "code",
   "execution_count": 38,
   "id": "2793723f-eb7c-493a-b126-0f7b9067dced",
   "metadata": {},
   "outputs": [
    {
     "data": {
      "text/plain": [
       "TtestResult(statistic=14.786143270569728, pvalue=4.849408790456409e-46, df=1383)"
      ]
     },
     "execution_count": 38,
     "metadata": {},
     "output_type": "execute_result"
    }
   ],
   "source": [
    "stats.ttest_1samp(\n",
    "    norway_age,\n",
    "    population_mean,\n",
    "    alternative='two-sided'\n",
    ")"
   ]
  },
  {
   "cell_type": "markdown",
   "id": "3d5b43db-cd44-4b13-b017-24b895b0e60a",
   "metadata": {},
   "source": [
    "**Задание**\n",
    "\n",
    "Найти такое теоретическое значения возраста, при котором нулевая гипотеза не отвергалась (при двусторонней альтернативе)."
   ]
  },
  {
   "cell_type": "code",
   "execution_count": null,
   "id": "c0a59cba-96c4-4bf4-a85c-b5dde47036eb",
   "metadata": {},
   "outputs": [],
   "source": [
    "1) statistic_i > 0\n",
    "2) F(-statistic_i) * 2 >= 0.05  ->  F(-statistic_i) >= 0.025 (квантиль уровня 0.025)"
   ]
  },
  {
   "cell_type": "code",
   "execution_count": 26,
   "id": "c20aa144-0291-40c3-a64a-74fdf2c71646",
   "metadata": {},
   "outputs": [],
   "source": [
    "statistic_i = norm_distribution.ppf(0.025)"
   ]
  },
  {
   "cell_type": "code",
   "execution_count": 27,
   "id": "e83b8a63-604a-4ffe-89c0-b8848468359f",
   "metadata": {},
   "outputs": [
    {
     "data": {
      "text/plain": [
       "-1.9599639845400545"
      ]
     },
     "execution_count": 27,
     "metadata": {},
     "output_type": "execute_result"
    }
   ],
   "source": [
    "statistic_i"
   ]
  },
  {
   "cell_type": "code",
   "execution_count": 30,
   "id": "dc614189-c947-46d3-a6de-c3294c357299",
   "metadata": {},
   "outputs": [],
   "source": [
    "# (sample_mean - population_mean) / (sample_std / norway_age.size ** (1 / 2)) = -1.9599639845400545\n",
    "# (sample_mean - population_mean) = -1.9599639845400545 * (sample_std / norway_age.size ** (1 / 2))\n",
    "population_mean_i = -1.9599639845400545 * (sample_std / norway_age.size ** (1 / 2)) + sample_mean"
   ]
  },
  {
   "cell_type": "code",
   "execution_count": 31,
   "id": "6519792c-be19-48e7-a119-8163fb11a259",
   "metadata": {},
   "outputs": [
    {
     "data": {
      "text/plain": [
       "46.27080648957171"
      ]
     },
     "execution_count": 31,
     "metadata": {},
     "output_type": "execute_result"
    }
   ],
   "source": [
    "population_mean_i  # тот теоретический возраст, начиная с которого H0 могла бы быть корректной"
   ]
  },
  {
   "cell_type": "markdown",
   "id": "7041c7e1-77ae-4b84-a110-73f5bd0e1f65",
   "metadata": {},
   "source": [
    "### Парные наблюдения\n",
    "#### Парный t-test\n",
    "\n",
    "$H_0: \\mu_{after}=\\mu_{before}$ <br>\n",
    "$H_A: \\mu_{after} \\neq \\mu_{before}$ <br>\n",
    "$\\mu$ - mean <br>\n",
    "\n",
    "Допущения:\n",
    "\n",
    "- X (здесь и далее X - генеральная совокупность) имеет нормальное распределение\n",
    "- обе выборки представляют собой измерения одних и тех же объектов"
   ]
  },
  {
   "cell_type": "code",
   "execution_count": 4,
   "id": "0eea9b6b-0edd-4587-bac0-3ae4e716d11f",
   "metadata": {},
   "outputs": [],
   "source": [
    "from scipy import stats\n",
    "\n",
    "#  BEFORE AFTER   DIFF\n",
    "#1   3     3.4     0.4\n",
    "#2   2.4   2.6     0.2\n",
    "#3   3.2   3.3     0.1\n",
    "#4   3.9   3.4     -0.5\n",
    "#5   1.8   1.97    0.17"
   ]
  },
  {
   "cell_type": "code",
   "execution_count": 4,
   "id": "3721d68a-f3ca-43db-9fc4-d3376aa78d42",
   "metadata": {},
   "outputs": [],
   "source": [
    "before = [3, 2.4, 3.2, 3.9, 1.8]\n",
    "after = [3.4, 2.6, 3.3, 3.4, 1.97]"
   ]
  },
  {
   "cell_type": "markdown",
   "id": "d07cb445-3983-4902-aeda-11dad087f76b",
   "metadata": {},
   "source": [
    "Сводим к одновыборочному t-тесту, где сравниваем среднее разницы с 0:\n",
    "\n",
    "$H_0: \\mu_{diff}=0$<br>"
   ]
  },
  {
   "cell_type": "code",
   "execution_count": 8,
   "id": "3e7b1029-f328-4b88-b8f8-61443bd43e74",
   "metadata": {},
   "outputs": [
    {
     "data": {
      "text/plain": [
       "0.48713737841224136"
      ]
     },
     "execution_count": 8,
     "metadata": {},
     "output_type": "execute_result"
    }
   ],
   "source": [
    "diff = np.array([0.4, 0.2, 0.1, -0.5, 0.17])\n",
    "\n",
    "sample_mean = diff.mean()\n",
    "sample_std = diff.std(ddof=1)\n",
    "sample_size = diff.size\n",
    "\n",
    "statistic = (sample_mean - 0) / (sample_std / sample_size ** (1 / 2))\n",
    "statistic  # насколько вероятно получить такое же или более экстремальное значение статистики при условии верной H0"
   ]
  },
  {
   "cell_type": "code",
   "execution_count": 9,
   "id": "5d1aefcb-b3fa-417f-a174-f13eb113a2f2",
   "metadata": {},
   "outputs": [],
   "source": [
    "df = sample_size - 1\n",
    "t_distrib = stats.t(df)"
   ]
  },
  {
   "cell_type": "code",
   "execution_count": 10,
   "id": "06971929-2d1e-4095-ad6f-49b2e835071d",
   "metadata": {},
   "outputs": [
    {
     "data": {
      "text/plain": [
       "0.6516514312574402"
      ]
     },
     "execution_count": 10,
     "metadata": {},
     "output_type": "execute_result"
    }
   ],
   "source": [
    "t_distrib.cdf(-statistic) * 2"
   ]
  },
  {
   "cell_type": "code",
   "execution_count": 5,
   "id": "1d4afd7d-57fa-4fcf-b05a-b9a24ae9ad98",
   "metadata": {},
   "outputs": [
    {
     "data": {
      "text/plain": [
       "TtestResult(statistic=-0.4871373784122409, pvalue=0.6516514312574404, df=4)"
      ]
     },
     "execution_count": 5,
     "metadata": {},
     "output_type": "execute_result"
    }
   ],
   "source": [
    "stats.ttest_rel(\n",
    "    before,\n",
    "    after,\n",
    "    alternative='two-sided'\n",
    ")"
   ]
  },
  {
   "cell_type": "markdown",
   "id": "15d40606-8194-432f-8d11-12877cdf73ec",
   "metadata": {},
   "source": [
    "#### Критерий знаков\n",
    "\n",
    "![](https://slideplayer.com/slide/6959440/24/images/4/Bernoulli+Distribution.jpg)\n",
    "\n",
    "![](https://slideplayer.com/slide/5269821/17/images/24/Binomial+Distribution+Formula.jpg)\n",
    "\n",
    "![](https://slideplayer.com/slide/17819162/106/images/60/4-7+Normal+Approximation+to+the+Binomial+and+Poisson+Distributions.jpg)\n",
    "\n",
    "$H_0: median_x = median_y$ <br>\n",
    "$H_A: median_x \\neq median_y$ <br>\n",
    "\n",
    "Допущения:\n",
    "\n",
    "- обе выборки представляют собой измерения одних и тех же объектов"
   ]
  },
  {
   "cell_type": "code",
   "execution_count": null,
   "id": "e05acca3-be4a-4cbc-b98f-96173659cfbf",
   "metadata": {},
   "outputs": [],
   "source": [
    "#  BEFORE AFTER   IF_SUCCESS (AFTER > BEFORE)\n",
    "#1   3     3.4        1\n",
    "#2   2.4   2.6        1\n",
    "#3   3.2   3.3        1\n",
    "#4   3.9   3.4        0\n",
    "#5   1.8   1.97       1"
   ]
  },
  {
   "cell_type": "code",
   "execution_count": 46,
   "id": "646225eb-03f3-493b-b666-56f3ef085194",
   "metadata": {},
   "outputs": [],
   "source": [
    "# H0: нет никакого систематического увеличения AFTER по сравнению с BEFORE\n",
    "# Ha: есть (one-sided)\n",
    "\n",
    "# однозначно количество успехов - это про биномиальное распределение\n",
    "\n",
    "# при верной H0: n = 5, p = 0.5\n",
    "\n",
    "# насколько вероятно получить X и более экстремальное количество успехов при верной H0\n",
    "\n",
    "# X = 4\n",
    "\n",
    "# P(X = 4) + P(X = 5)\n",
    "\n",
    "binom_distribution = stats.binom(5, 0.5)"
   ]
  },
  {
   "cell_type": "code",
   "execution_count": null,
   "id": "b3214868-6be9-4a1a-ac80-17a7a837758c",
   "metadata": {},
   "outputs": [],
   "source": [
    "0, 1, 2, (2.5), 3, [4, 5]"
   ]
  },
  {
   "cell_type": "code",
   "execution_count": 48,
   "id": "c863ee2f-eca4-49d2-a3c4-086dd2132884",
   "metadata": {},
   "outputs": [
    {
     "data": {
      "text/plain": [
       "0.1875"
      ]
     },
     "execution_count": 48,
     "metadata": {},
     "output_type": "execute_result"
    }
   ],
   "source": [
    "binom_distribution.pmf([4, 5]).sum()  # p-value"
   ]
  },
  {
   "cell_type": "code",
   "execution_count": null,
   "id": "a13019cc-bfbf-402d-aa7f-09ef31ecc29c",
   "metadata": {},
   "outputs": [],
   "source": [
    "# Ha: есть (two-sided)\n",
    "\n",
    "# чтобы найти симметричное количество успехов (как в случае с симметричным значением t-статистики), надо для начала понять относительно чего\n",
    "# смотреть (посчитать среднее)\n",
    "\n",
    "# Bernoulli:\n",
    "# E(X) = p\n",
    "# Var(X) = p * (1 - p)\n",
    "\n",
    "# Binomial:\n",
    "# E(X) = n * p\n",
    "# Var(X) = n * p * (1 - p)"
   ]
  },
  {
   "cell_type": "code",
   "execution_count": 49,
   "id": "2646eacc-e0d3-4191-bbd5-4c095aa5dc10",
   "metadata": {},
   "outputs": [
    {
     "data": {
      "text/plain": [
       "2.5"
      ]
     },
     "execution_count": 49,
     "metadata": {},
     "output_type": "execute_result"
    }
   ],
   "source": [
    "5 * 0.5"
   ]
  },
  {
   "cell_type": "code",
   "execution_count": null,
   "id": "5154d6b4-bfbe-47ac-a548-927f8ebd41cf",
   "metadata": {},
   "outputs": [],
   "source": [
    "[0, 1], 2, (2.5), 3, [4, 5]"
   ]
  },
  {
   "cell_type": "code",
   "execution_count": 50,
   "id": "69ab0941-c8f5-4fc8-ad94-db8480cde45c",
   "metadata": {},
   "outputs": [
    {
     "data": {
      "text/plain": [
       "0.37499999999999994"
      ]
     },
     "execution_count": 50,
     "metadata": {},
     "output_type": "execute_result"
    }
   ],
   "source": [
    "binom_distribution.pmf([0, 1, 4, 5]).sum()"
   ]
  },
  {
   "cell_type": "markdown",
   "id": "4372c1a0-dc02-482c-9282-9762557290ed",
   "metadata": {},
   "source": [
    "**Задача.** Рассмотрим одностороннюю (право) альтернативу. Есть ли у нас вообще на такой выборке возможность отвергнуть H0 (при пороговом p-value равном 0.05)?"
   ]
  },
  {
   "cell_type": "code",
   "execution_count": null,
   "id": "e5bda019-cbb3-4310-9f8e-641844ed82c0",
   "metadata": {},
   "outputs": [],
   "source": [
    "# самое \"невероятное\", экстремальное значение успехов для binom(5, 0.5) - это 5 успехов. Посчитаем p-value:"
   ]
  },
  {
   "cell_type": "code",
   "execution_count": 51,
   "id": "eaadb69d-a4e9-4bae-b4ca-374b4ebe7070",
   "metadata": {},
   "outputs": [
    {
     "data": {
      "text/plain": [
       "0.03125"
      ]
     },
     "execution_count": 51,
     "metadata": {},
     "output_type": "execute_result"
    }
   ],
   "source": [
    "binom_distribution.pmf(5)"
   ]
  },
  {
   "cell_type": "code",
   "execution_count": null,
   "id": "bc62e690-9eb2-4ca8-b3fe-832895d3ce91",
   "metadata": {},
   "outputs": [],
   "source": [
    "# есть ли вообще смысл использовать критерий знаков на выборках < 5\n",
    "\n",
    "# посчитаем вероятность самого экстремального значения для n = 4:"
   ]
  },
  {
   "cell_type": "code",
   "execution_count": 54,
   "id": "d0b4dc69-3bb4-4353-862e-f0ebd87e8663",
   "metadata": {},
   "outputs": [
    {
     "data": {
      "text/plain": [
       "0.0625"
      ]
     },
     "execution_count": 54,
     "metadata": {},
     "output_type": "execute_result"
    }
   ],
   "source": [
    "stats.binom(4, 0.5).pmf(4)  # при n <= 4 мы вообще не имеем возможности отвергнуть H0 (при пороге 0.05)"
   ]
  },
  {
   "cell_type": "markdown",
   "id": "dba1e472-f1ad-4c0e-8fde-1c85f0e1b9d8",
   "metadata": {},
   "source": [
    "Критерий знаков при больших N:"
   ]
  },
  {
   "cell_type": "code",
   "execution_count": 56,
   "id": "f6353d61-cad5-4716-bff7-1a8ee2fc919a",
   "metadata": {},
   "outputs": [],
   "source": [
    "a = np.random.normal(0, 1, 100)\n",
    "b = np.random.normal(0, 1, 100)"
   ]
  },
  {
   "cell_type": "code",
   "execution_count": 57,
   "id": "954810be-9c1c-4ba6-baa7-d35f5af782eb",
   "metadata": {},
   "outputs": [
    {
     "data": {
      "text/plain": [
       "60"
      ]
     },
     "execution_count": 57,
     "metadata": {},
     "output_type": "execute_result"
    }
   ],
   "source": [
    "n_success = (b > a).sum()\n",
    "n_success"
   ]
  },
  {
   "cell_type": "code",
   "execution_count": 58,
   "id": "9814a399-358d-48f8-be58-78b7a98bcaf8",
   "metadata": {},
   "outputs": [],
   "source": [
    "# при H0 количество успехов будет распределяться биномиально с параметрами:\n",
    "n = a.size\n",
    "p = 0.5"
   ]
  },
  {
   "cell_type": "code",
   "execution_count": 63,
   "id": "83ea5793-3de6-4d49-9342-6809fc60c925",
   "metadata": {},
   "outputs": [
    {
     "data": {
      "text/plain": [
       "2.1"
      ]
     },
     "execution_count": 63,
     "metadata": {},
     "output_type": "execute_result"
    }
   ],
   "source": [
    "# аппроксимируем к стандартному нормальному распределению!\n",
    "statistic = (n_success + 0.5 - n * p) / (n * p * (1 - p)) ** (1 / 2)\n",
    "statistic  # из стандартного нормального распределения"
   ]
  },
  {
   "cell_type": "code",
   "execution_count": 65,
   "id": "bd35e361-da4d-4817-bfde-ff52fcd254bc",
   "metadata": {},
   "outputs": [
    {
     "data": {
      "text/plain": [
       "0.035728841125633085"
      ]
     },
     "execution_count": 65,
     "metadata": {},
     "output_type": "execute_result"
    }
   ],
   "source": [
    "# two-sided alternative\n",
    "stats.norm(0, 1).cdf(-2.1) * 2"
   ]
  },
  {
   "cell_type": "code",
   "execution_count": null,
   "id": "a03a629e-020b-486c-8927-c74b2c19ad62",
   "metadata": {},
   "outputs": [],
   "source": [
    "# для перехода от биномиального к стандартному нормальному:\n",
    "(X - E(X)) / SD(X) ~ N(0, 1)"
   ]
  },
  {
   "cell_type": "code",
   "execution_count": 67,
   "id": "832f677e-2371-49da-a39f-5fb2156ff712",
   "metadata": {},
   "outputs": [
    {
     "data": {
      "text/plain": [
       "0.05688793364098071"
      ]
     },
     "execution_count": 67,
     "metadata": {},
     "output_type": "execute_result"
    }
   ],
   "source": [
    "stats.binom(100, 0.5).pmf(np.arange(60, 101)).sum() * 2"
   ]
  },
  {
   "cell_type": "code",
   "execution_count": null,
   "id": "6ae22aea-7dfa-4aef-948a-9b43fc67ed40",
   "metadata": {},
   "outputs": [],
   "source": []
  },
  {
   "cell_type": "code",
   "execution_count": null,
   "id": "844551eb-8175-4919-be30-5dbb6670074b",
   "metadata": {},
   "outputs": [],
   "source": []
  },
  {
   "cell_type": "code",
   "execution_count": null,
   "id": "3f0a8787-1862-4891-ad84-8e3d85c9e6a1",
   "metadata": {},
   "outputs": [],
   "source": []
  },
  {
   "cell_type": "markdown",
   "id": "91c39d06-ee97-4370-ac9e-8791f86348f8",
   "metadata": {},
   "source": [
    "**Задача.** В тесте 6 вопросов. В каждом 4 варианта ответа. Чтобы получить зачет, Николаю надо правильно ответить хотя бы на три из шести. Какова вероятность того, что Николай сдаст не готовясь? Готовы ли вы встать на место Николая?"
   ]
  },
  {
   "cell_type": "code",
   "execution_count": 11,
   "id": "d2ce6df2-9a87-4afb-a46b-8671a2d2dad0",
   "metadata": {},
   "outputs": [],
   "source": [
    "n = 6\n",
    "p = 0.25\n",
    "\n",
    "# P_final = P(x=3) + P(x=4) + P(x=5) + P(x=6)"
   ]
  },
  {
   "cell_type": "code",
   "execution_count": 15,
   "id": "f6360fef-2a6e-4879-bd2d-5918000fdbec",
   "metadata": {},
   "outputs": [],
   "source": [
    "binom_distribution = stats.binom(n, p)"
   ]
  },
  {
   "cell_type": "code",
   "execution_count": 16,
   "id": "44018671-14ae-44c4-b4b5-bff93f18a4d7",
   "metadata": {},
   "outputs": [
    {
     "data": {
      "text/plain": [
       "0.1694335937499999"
      ]
     },
     "execution_count": 16,
     "metadata": {},
     "output_type": "execute_result"
    }
   ],
   "source": [
    "successes = [3, 4, 5, 6]\n",
    "\n",
    "binom_distribution.pmf(successes).sum()"
   ]
  },
  {
   "cell_type": "markdown",
   "id": "f285b6b9-fe89-4c6b-ac88-285ec1386b4c",
   "metadata": {},
   "source": [
    "**Биномиальное распределение может быть аппроксимировано к нормальному:**"
   ]
  },
  {
   "cell_type": "code",
   "execution_count": 19,
   "id": "b3d6cf44-2a03-4ca9-8b85-9f7fc1485d30",
   "metadata": {},
   "outputs": [],
   "source": [
    "def get_binomial_probs(n, p):\n",
    "    binom_distribution = stats.binom(n, p)\n",
    "    outcomes = np.arange(n + 1)\n",
    "\n",
    "    return outcomes, binom_distribution.pmf(outcomes)"
   ]
  },
  {
   "cell_type": "code",
   "execution_count": 26,
   "id": "b4c75c80-0afd-4ec6-bffa-ee7361214c19",
   "metadata": {},
   "outputs": [
    {
     "data": {
      "image/png": "[encoded data removed]",
      "text/plain": [
       "<Figure size 640x480 with 1 Axes>"
      ]
     },
     "metadata": {},
     "output_type": "display_data"
    }
   ],
   "source": [
    "import matplotlib.pyplot as plt\n",
    "\n",
    "n = 9\n",
    "p = 0.5\n",
    "\n",
    "fig, ax = plt.subplots()\n",
    "\n",
    "outcomes, probs = get_binomial_probs(n, p)\n",
    "ax.bar(outcomes, probs)\n",
    "ax.set_xticks(outcomes, outcomes)\n",
    "\n",
    "ax.set_xlabel('outcome')\n",
    "ax.set_ylabel('probability')\n",
    "\n",
    "ax.set_title(f'binomial(n = {n}, p = {p})');"
   ]
  },
  {
   "cell_type": "code",
   "execution_count": 28,
   "id": "5415a907-ceda-4aa9-a499-8ad57f539134",
   "metadata": {},
   "outputs": [
    {
     "data": {
      "image/png": "[encoded data removed]",
      "text/plain": [
       "<Figure size 640x480 with 1 Axes>"
      ]
     },
     "metadata": {},
     "output_type": "display_data"
    }
   ],
   "source": [
    "n = 9\n",
    "p = 0.2\n",
    "\n",
    "fig, ax = plt.subplots()\n",
    "\n",
    "outcomes, probs = get_binomial_probs(n, p)\n",
    "ax.bar(outcomes, probs)\n",
    "ax.set_xticks(outcomes, outcomes)\n",
    "\n",
    "ax.set_xlabel('outcome')\n",
    "ax.set_ylabel('probability')\n",
    "\n",
    "ax.set_title(f'binomial(n = {n}, p = {p})');"
   ]
  },
  {
   "cell_type": "code",
   "execution_count": 30,
   "id": "17ebfae2-7c19-464a-819b-d62ed1c22f20",
   "metadata": {},
   "outputs": [
    {
     "data": {
      "image/png": "[encoded data removed]",
      "text/plain": [
       "<Figure size 640x480 with 1 Axes>"
      ]
     },
     "metadata": {},
     "output_type": "display_data"
    }
   ],
   "source": [
    "n = 100\n",
    "p = 0.5\n",
    "\n",
    "fig, ax = plt.subplots()\n",
    "\n",
    "outcomes, probs = get_binomial_probs(n, p)\n",
    "ax.bar(outcomes, probs)\n",
    "# ax.set_xticks(outcomes, outcomes)\n",
    "\n",
    "ax.set_xlabel('outcome')\n",
    "ax.set_ylabel('probability')\n",
    "\n",
    "ax.set_title(f'binomial(n = {n}, p = {p})');"
   ]
  },
  {
   "cell_type": "code",
   "execution_count": 31,
   "id": "2e1cb23d-1490-462a-8971-1533b7de3dd3",
   "metadata": {},
   "outputs": [
    {
     "data": {
      "image/png": "[encoded data removed]",
      "text/plain": [
       "<Figure size 640x480 with 1 Axes>"
      ]
     },
     "metadata": {},
     "output_type": "display_data"
    }
   ],
   "source": [
    "n = 100\n",
    "p = 0.3\n",
    "\n",
    "fig, ax = plt.subplots()\n",
    "\n",
    "outcomes, probs = get_binomial_probs(n, p)\n",
    "ax.bar(outcomes, probs)\n",
    "# ax.set_xticks(outcomes, outcomes)\n",
    "\n",
    "ax.set_xlabel('outcome')\n",
    "ax.set_ylabel('probability')\n",
    "\n",
    "ax.set_title(f'binomial(n = {n}, p = {p})');"
   ]
  },
  {
   "cell_type": "markdown",
   "id": "2a2d20de-b973-4596-8326-2ccd4885fb6d",
   "metadata": {},
   "source": [
    "#### Парный критерий Уилкоксона\n",
    "\n",
    "$H_0: median_x = median_y$ <br>\n",
    "$H_A: median_x \\neq median_y$ <br>\n",
    "\n",
    "Допущения:\n",
    "\n",
    "- обе выборки представляют собой измерения одних и тех же объектов\n",
    "- значения разности должы быть вариативны (т. е. не -1/0/1: для таких случаев лучше критерий знаков)\n",
    "- n >= 5. При этом случаи, когда разность равна 0, исключаются из подсчета статистики\n",
    "\n",
    "Подробнее см. [тут](https://medstatistic.ru/methods/methods3.html)."
   ]
  },
  {
   "cell_type": "code",
   "execution_count": null,
   "id": "288cf902-de46-4f65-b9e5-f58005b06511",
   "metadata": {},
   "outputs": [],
   "source": [
    "#  BEFORE AFTER   DIFF   RANK\n",
    "#1   3     3.4     0.4     4\n",
    "#2   2.4   2.6     0.2     3\n",
    "#3   3.2   3.3     0.1     1\n",
    "#4   3.9   3.4     -0.5    0\n",
    "#5   1.8   1.97    0.17    2"
   ]
  },
  {
   "cell_type": "code",
   "execution_count": null,
   "id": "1c7e53fb-181b-4b56-bb35-d6ee58f83afd",
   "metadata": {},
   "outputs": [],
   "source": [
    "# критерий знаков:     0.19\n",
    "# t-test:              0.65\n",
    "# критерий вилкоксона: 0.625"
   ]
  },
  {
   "cell_type": "code",
   "execution_count": 6,
   "id": "7e324463-8b83-440e-ba53-8fa50f1583dd",
   "metadata": {},
   "outputs": [
    {
     "data": {
      "text/plain": [
       "WilcoxonResult(statistic=5.0, pvalue=0.625)"
      ]
     },
     "execution_count": 6,
     "metadata": {},
     "output_type": "execute_result"
    }
   ],
   "source": [
    "stats.wilcoxon(\n",
    "    before,\n",
    "    after,\n",
    "    alternative='two-sided'\n",
    ")"
   ]
  },
  {
   "cell_type": "markdown",
   "id": "4ef51050-f3a0-4b2b-b5cb-2c2e8c6f9ac1",
   "metadata": {},
   "source": [
    "### Сравнение двух выборок\n",
    "#### Двухвыборочный t-test (не путать с парным)\n",
    "![](https://cdn1.qualitygurus.com/wp-content/uploads/2022/12/Two-sample-t-test-formulas.png?lossy=1&ssl=1)\n",
    "\n",
    "$H_0: \\mu_x = \\mu_y$ <br>\n",
    "$H_A: \\mu_x \\neq \\mu_y$ <br>\n",
    "\n",
    "Допущения:\n",
    "\n",
    "- X и Y имеют нормальное распределение\n",
    "\n",
    "**Как вы думаете, что будет, если вместо этого теста использовать парный критерий?**"
   ]
  },
  {
   "cell_type": "code",
   "execution_count": 2,
   "id": "2586c1f2-37ac-4e85-bfbb-380ba817e116",
   "metadata": {},
   "outputs": [],
   "source": [
    "age_male = data.loc[(data['cntry'] == 'Norway') & (data['gndr'] == 'Male'), 'agea'].values\n",
    "age_female = data.loc[(data['cntry'] == 'Norway') & (data['gndr'] == 'Female'), 'agea'].values"
   ]
  },
  {
   "cell_type": "code",
   "execution_count": 3,
   "id": "c2341ae2-1f83-421b-9cbc-e609408ff274",
   "metadata": {},
   "outputs": [
    {
     "data": {
      "text/plain": [
       "(47.77574047954866, 46.65481481481481)"
      ]
     },
     "execution_count": 3,
     "metadata": {},
     "output_type": "execute_result"
    }
   ],
   "source": [
    "age_male.mean(), age_female.mean()"
   ]
  },
  {
   "cell_type": "code",
   "execution_count": 4,
   "id": "5c9fbbdd-966e-4204-aa0d-dd4a65f9252b",
   "metadata": {},
   "outputs": [
    {
     "data": {
      "text/plain": [
       "TtestResult(statistic=1.1473481001455839, pvalue=0.2514363738928764, df=1381.943195299341)"
      ]
     },
     "execution_count": 4,
     "metadata": {},
     "output_type": "execute_result"
    }
   ],
   "source": [
    "stats.ttest_ind(\n",
    "    age_male,\n",
    "    age_female,\n",
    "    alternative='two-sided',\n",
    "    equal_var=False\n",
    ")"
   ]
  },
  {
   "cell_type": "markdown",
   "id": "ceedd4f5-4cec-42f5-bfd5-f9cdad9219e0",
   "metadata": {},
   "source": [
    "#### F-тест о равенстве дисперсий\n",
    "Имеется и непараметрический вариант: Levene test.\n",
    "![](https://image.slideserve.com/963492/f-test-example-solution1-l.jpg)\n",
    "\n",
    "Допущения:\n",
    "\n",
    "- X и Y имеют нормальное распределение"
   ]
  },
  {
   "cell_type": "code",
   "execution_count": 12,
   "id": "8eaed87f-da5b-414e-a190-22e6fbaeb9f9",
   "metadata": {},
   "outputs": [],
   "source": [
    "vars = []\n",
    "\n",
    "for i in range(100000):\n",
    "    sample1 = np.random.normal(0, 1, 100)\n",
    "    sample2 = np.random.normal(5, 1, 100)\n",
    "\n",
    "    vars.append(sample1.var(ddof=1) / sample2.var(ddof=1))"
   ]
  },
  {
   "cell_type": "code",
   "execution_count": 15,
   "id": "f9ca534e-cf8d-4493-a3ae-399a68d6c8f2",
   "metadata": {},
   "outputs": [
    {
     "data": {
      "image/png": "[encoded data removed]",
      "text/plain": [
       "<Figure size 640x480 with 1 Axes>"
      ]
     },
     "metadata": {},
     "output_type": "display_data"
    }
   ],
   "source": [
    "import matplotlib.pyplot as plt\n",
    "\n",
    "fig, ax = plt.subplots()\n",
    "\n",
    "ax.hist(vars, bins=100);"
   ]
  },
  {
   "cell_type": "code",
   "execution_count": 16,
   "id": "d780d303-2c95-4986-86e4-d1f2773bcd77",
   "metadata": {},
   "outputs": [],
   "source": [
    "def f_test(sample1, sample2):\n",
    "    var1 = sample1.var(ddof=1)\n",
    "    var2 = sample2.var(ddof=1)\n",
    "\n",
    "    if var1 >= var2:\n",
    "        statistic = var1 / var2\n",
    "    else:\n",
    "        statistic = var2 / var1\n",
    "\n",
    "    df1 = sample1.size - 1\n",
    "    df2 = sample2.size - 1\n",
    "\n",
    "    f_distrib = stats.f(df1, df2)\n",
    "\n",
    "    p_value = 1 - f_distrib.cdf(statistic)\n",
    "\n",
    "    return statistic, p_value"
   ]
  },
  {
   "cell_type": "code",
   "execution_count": 17,
   "id": "8794fe14-8d40-40f1-b162-3e612999b5ef",
   "metadata": {},
   "outputs": [
    {
     "data": {
      "text/plain": [
       "(1.0892965881947765, 0.13087787094441605)"
      ]
     },
     "execution_count": 17,
     "metadata": {},
     "output_type": "execute_result"
    }
   ],
   "source": [
    "# имеем ли мы право поставить ниже True в аргумент equal_var?\n",
    "f_test(\n",
    "    age_male,\n",
    "    age_female\n",
    ")  # H0 не отвергается, нет причин поставить не True"
   ]
  },
  {
   "cell_type": "code",
   "execution_count": 18,
   "id": "1b695d6d-d328-44aa-99a6-f98aee6398a7",
   "metadata": {},
   "outputs": [
    {
     "data": {
      "text/plain": [
       "TtestResult(statistic=1.1461431790107866, pvalue=0.2519343265853811, df=1382.0)"
      ]
     },
     "execution_count": 18,
     "metadata": {},
     "output_type": "execute_result"
    }
   ],
   "source": [
    "stats.ttest_ind(\n",
    "    age_male,\n",
    "    age_female,\n",
    "    alternative='two-sided',\n",
    "    equal_var=True\n",
    ")"
   ]
  },
  {
   "cell_type": "code",
   "execution_count": 19,
   "id": "172baa02-0cf6-4269-9f62-afe74cff7c0f",
   "metadata": {},
   "outputs": [
    {
     "data": {
      "text/plain": [
       "LeveneResult(statistic=2.173100611732319, pvalue=0.1406705603208207)"
      ]
     },
     "execution_count": 19,
     "metadata": {},
     "output_type": "execute_result"
    }
   ],
   "source": [
    "stats.levene(\n",
    "    age_male,\n",
    "    age_female\n",
    ")"
   ]
  },
  {
   "cell_type": "markdown",
   "id": "861a6bdc-5c50-49fa-a644-0c230915634f",
   "metadata": {},
   "source": [
    "#### Критерии Уилкоксона и Манна-Уитни\n",
    "![](images/wilcox.png)\n",
    "![](images/mann_whitney.png)"
   ]
  },
  {
   "cell_type": "code",
   "execution_count": 5,
   "id": "d47f50c9-bbaa-4471-bb30-81b24d11d0ca",
   "metadata": {},
   "outputs": [
    {
     "data": {
      "text/plain": [
       "TtestResult(statistic=1.1473481001455839, pvalue=0.2514363738928764, df=1381.943195299341)"
      ]
     },
     "execution_count": 5,
     "metadata": {},
     "output_type": "execute_result"
    }
   ],
   "source": [
    "stats.ttest_ind(\n",
    "    age_male,\n",
    "    age_female,\n",
    "    alternative='two-sided',\n",
    "    equal_var=False\n",
    ")"
   ]
  },
  {
   "cell_type": "code",
   "execution_count": 6,
   "id": "36f0397c-3f12-4d57-aa40-5993a2c15424",
   "metadata": {},
   "outputs": [
    {
     "data": {
      "text/plain": [
       "MannwhitneyuResult(statistic=247264.0, pvalue=0.28312057544024005)"
      ]
     },
     "execution_count": 6,
     "metadata": {},
     "output_type": "execute_result"
    }
   ],
   "source": [
    "stats.mannwhitneyu(\n",
    "    age_male,\n",
    "    age_female,\n",
    "    alternative='two-sided'\n",
    ")"
   ]
  },
  {
   "cell_type": "markdown",
   "id": "c9ef655f-1b6b-4d80-b7a5-e6ecdb8727eb",
   "metadata": {},
   "source": [
    "#### Критерий Колмогорова-Смирнова"
   ]
  },
  {
   "cell_type": "code",
   "execution_count": 8,
   "id": "026b7b56-b40c-49bf-b990-effac74318d1",
   "metadata": {},
   "outputs": [
    {
     "data": {
      "image/png": "[encoded data removed]",
      "text/plain": [
       "<Figure size 640x480 with 1 Axes>"
      ]
     },
     "metadata": {},
     "output_type": "display_data"
    }
   ],
   "source": [
    "import seaborn as sns\n",
    "\n",
    "sns.histplot(data=data[data['cntry'] == 'Norway'], x='agea', hue='gndr');"
   ]
  },
  {
   "cell_type": "code",
   "execution_count": 7,
   "id": "4974be6d-cc95-4b9a-b6a5-c7343179eba2",
   "metadata": {},
   "outputs": [
    {
     "data": {
      "text/plain": [
       "KstestResult(statistic=0.051210364101760435, pvalue=0.3100250775915103, statistic_location=65, statistic_sign=-1)"
      ]
     },
     "execution_count": 7,
     "metadata": {},
     "output_type": "execute_result"
    }
   ],
   "source": [
    "# возраст мужчин и женщин имеет равную дисперсию и средние. Может, эти две выборки пришли из одной и той же генеральной совокупности?\n",
    "\n",
    "# H0: из одного распределения\n",
    "# Ha: не из одного распределения\n",
    "stats.kstest(\n",
    "    age_male,\n",
    "    age_female\n",
    ")"
   ]
  },
  {
   "cell_type": "markdown",
   "id": "db1e3708-58de-4c0b-96c4-f56600d78b4b",
   "metadata": {},
   "source": [
    "### Сравнение многих выборок\n",
    "#### ANOVA (он же однофакторный дисперсионный анализ)\n",
    "![](https://i.pinimg.com/originals/eb/94/f9/eb94f9bae12be2d6617549bd22e7d216.jpg)\n",
    "![](./images/anova.png)\n",
    "\n",
    "$H_0: \\mu_{x_1} = \\mu_{x_2} = ... = \\mu_{x_n}, X \\sim N(\\mu, \\delta)$<br>\n",
    "$H_A: \\mu_{x_1} \\neq \\mu_{x_2} \\neq ... \\neq \\mu_{x_n}, X \\sim N(_, \\delta)$\n",
    "\n",
    "**Допущения.**\n",
    "1. Количественный непрерывный тип данных, дискретные данные менее желательны.\n",
    "2. Независимые между собой выборки.\n",
    "3. Нормальное распределение признака в генеральных совокупностях, из которых извлечены выборки.\n",
    "4. Равенство (гомогенность) дисперсий изучаемого признака в генеральных совокупностях, из которых извлечены выборки.\n",
    "5. Независимые наблюдения в каждой из выборок.\n",
    "\n",
    "**Вопрос.** Отличается ли вообще возраст во всех представленных в данных странах?"
   ]
  },
  {
   "cell_type": "code",
   "execution_count": 9,
   "id": "b1121b59-e345-43d9-a242-1aefa5fe010f",
   "metadata": {},
   "outputs": [
    {
     "data": {
      "text/html": [
       "<div>\n",
       "<style scoped>\n",
       "    .dataframe tbody tr th:only-of-type {\n",
       "        vertical-align: middle;\n",
       "    }\n",
       "\n",
       "    .dataframe tbody tr th {\n",
       "        vertical-align: top;\n",
       "    }\n",
       "\n",
       "    .dataframe thead th {\n",
       "        text-align: right;\n",
       "    }\n",
       "</style>\n",
       "<table border=\"1\" class=\"dataframe\">\n",
       "  <thead>\n",
       "    <tr style=\"text-align: right;\">\n",
       "      <th></th>\n",
       "      <th>cntry</th>\n",
       "      <th>netusoft</th>\n",
       "      <th>ppltrst</th>\n",
       "      <th>clsprty</th>\n",
       "      <th>rlgatnd</th>\n",
       "      <th>gndr</th>\n",
       "      <th>agea</th>\n",
       "      <th>tporgwk</th>\n",
       "    </tr>\n",
       "  </thead>\n",
       "  <tbody>\n",
       "    <tr>\n",
       "      <th>0</th>\n",
       "      <td>Belgium</td>\n",
       "      <td>Every day</td>\n",
       "      <td>6</td>\n",
       "      <td>No</td>\n",
       "      <td>Once a week</td>\n",
       "      <td>Female</td>\n",
       "      <td>16</td>\n",
       "      <td>Not applicable</td>\n",
       "    </tr>\n",
       "    <tr>\n",
       "      <th>1</th>\n",
       "      <td>Belgium</td>\n",
       "      <td>Every day</td>\n",
       "      <td>3</td>\n",
       "      <td>No</td>\n",
       "      <td>Never</td>\n",
       "      <td>Female</td>\n",
       "      <td>24</td>\n",
       "      <td>A private firm</td>\n",
       "    </tr>\n",
       "    <tr>\n",
       "      <th>2</th>\n",
       "      <td>Belgium</td>\n",
       "      <td>Every day</td>\n",
       "      <td>6</td>\n",
       "      <td>Yes</td>\n",
       "      <td>Never</td>\n",
       "      <td>Male</td>\n",
       "      <td>58</td>\n",
       "      <td>A private firm</td>\n",
       "    </tr>\n",
       "    <tr>\n",
       "      <th>3</th>\n",
       "      <td>Belgium</td>\n",
       "      <td>Every day</td>\n",
       "      <td>7</td>\n",
       "      <td>No</td>\n",
       "      <td>Never</td>\n",
       "      <td>Male</td>\n",
       "      <td>35</td>\n",
       "      <td>Other</td>\n",
       "    </tr>\n",
       "    <tr>\n",
       "      <th>4</th>\n",
       "      <td>Belgium</td>\n",
       "      <td>Every day</td>\n",
       "      <td>3</td>\n",
       "      <td>No</td>\n",
       "      <td>Never</td>\n",
       "      <td>Male</td>\n",
       "      <td>61</td>\n",
       "      <td>Other public sector (such as education and hea...</td>\n",
       "    </tr>\n",
       "  </tbody>\n",
       "</table>\n",
       "</div>"
      ],
      "text/plain": [
       "     cntry   netusoft  ppltrst clsprty      rlgatnd    gndr  agea  \\\n",
       "0  Belgium  Every day        6      No  Once a week  Female    16   \n",
       "1  Belgium  Every day        3      No        Never  Female    24   \n",
       "2  Belgium  Every day        6     Yes        Never    Male    58   \n",
       "3  Belgium  Every day        7      No        Never    Male    35   \n",
       "4  Belgium  Every day        3      No        Never    Male    61   \n",
       "\n",
       "                                             tporgwk  \n",
       "0                                     Not applicable  \n",
       "1                                     A private firm  \n",
       "2                                     A private firm  \n",
       "3                                              Other  \n",
       "4  Other public sector (such as education and hea...  "
      ]
     },
     "execution_count": 9,
     "metadata": {},
     "output_type": "execute_result"
    }
   ],
   "source": [
    "data.head()"
   ]
  },
  {
   "cell_type": "code",
   "execution_count": 12,
   "id": "91da111e-76bd-4738-8bac-0a2b3a229ee5",
   "metadata": {},
   "outputs": [],
   "source": [
    "Xij = [series.values for group, series in data.groupby('cntry')['agea']]"
   ]
  },
  {
   "cell_type": "code",
   "execution_count": 11,
   "id": "1638bcbe-38f5-42e8-9c72-3c814702f732",
   "metadata": {},
   "outputs": [],
   "source": [
    "mu = data['agea'].mean()\n",
    "mu_i = data.groupby('cntry')['agea'].mean().values"
   ]
  },
  {
   "cell_type": "code",
   "execution_count": 23,
   "id": "8a3cd924-6a73-48a0-9b21-bbbf4f0212e1",
   "metadata": {},
   "outputs": [],
   "source": [
    "s0 = np.concatenate([(xij - mui) ** 2 for xij, mui in zip(Xij, mu_i)]).sum() / (data.groupby('cntry').size().values.sum() - data['cntry'].nunique())"
   ]
  },
  {
   "cell_type": "code",
   "execution_count": 24,
   "id": "69a95ca7-059d-4681-99a4-5f7c3272bc33",
   "metadata": {},
   "outputs": [],
   "source": [
    "s1 = (data.groupby('cntry').size().values * (mu - mu_i) ** 2).sum() / (data['cntry'].nunique() - 1)"
   ]
  },
  {
   "cell_type": "code",
   "execution_count": 25,
   "id": "d3456cac-4ac4-48d7-9d2a-58235269144a",
   "metadata": {},
   "outputs": [
    {
     "data": {
      "text/plain": [
       "21.134386131194912"
      ]
     },
     "execution_count": 25,
     "metadata": {},
     "output_type": "execute_result"
    }
   ],
   "source": [
    "s1 / s0"
   ]
  },
  {
   "cell_type": "code",
   "execution_count": 26,
   "id": "dff68220-1602-471e-bafe-fb1abd14bccd",
   "metadata": {},
   "outputs": [
    {
     "data": {
      "text/plain": [
       "F_onewayResult(statistic=21.134386131194894, pvalue=2.623811625933467e-80)"
      ]
     },
     "execution_count": 26,
     "metadata": {},
     "output_type": "execute_result"
    }
   ],
   "source": [
    "stats.f_oneway(*Xij)  # H0 отвергается"
   ]
  },
  {
   "cell_type": "code",
   "execution_count": 27,
   "id": "0b720113-b16f-45b3-9381-450a61ed0005",
   "metadata": {},
   "outputs": [
    {
     "data": {
      "text/plain": [
       "array([49.02108434, 52.68146718, 50.17905405, 48.23954849, 51.68149117,\n",
       "       52.66921606, 49.55856325, 50.30888469, 50.60982659, 50.24376417,\n",
       "       53.56975381, 51.63011998, 51.30304956, 47.50043066, 48.67545076,\n",
       "       51.55855856, 47.22904624, 53.8661773 , 53.13083397, 49.35515548,\n",
       "       49.66825613, 55.71855761])"
      ]
     },
     "execution_count": 27,
     "metadata": {},
     "output_type": "execute_result"
    }
   ],
   "source": [
    "mu_i"
   ]
  },
  {
   "cell_type": "markdown",
   "id": "de33d7ae-0ba5-45b0-8e16-2ac75b5909ba",
   "metadata": {},
   "source": [
    "#### Kruskal Wallis Test (критерий Краскелла-Уоллиса)\n",
    "Минус допущение о нормальности генеральных совокупностей. Однако, этот критерий служит только для проверки сдвига!"
   ]
  },
  {
   "cell_type": "code",
   "execution_count": 28,
   "id": "fa3b48c7-128e-4f85-823e-17e0fe480486",
   "metadata": {},
   "outputs": [
    {
     "data": {
      "text/plain": [
       "KruskalResult(statistic=422.81394650307897, pvalue=1.7429411866934363e-76)"
      ]
     },
     "execution_count": 28,
     "metadata": {},
     "output_type": "execute_result"
    }
   ],
   "source": [
    "stats.kruskal(*Xij)  # H0 отвергается"
   ]
  },
  {
   "cell_type": "markdown",
   "id": "4f318b8f-27c3-44b7-9c2a-841e1ab86601",
   "metadata": {},
   "source": [
    "#### Бонус: поправка на множественное сравнение\n",
    "**Задача 1.** Представим себе, что мы рассматриваем среднюю ожидаемую продолжительность жизни в 10 российских регионах. Нам интересно, насколько она разная. Сколько сравнений нам надо сделать?"
   ]
  },
  {
   "cell_type": "code",
   "execution_count": 22,
   "id": "eb866e5d-a012-4c8a-a658-558d9685c395",
   "metadata": {},
   "outputs": [
    {
     "data": {
      "text/plain": [
       "45"
      ]
     },
     "execution_count": 22,
     "metadata": {},
     "output_type": "execute_result"
    }
   ],
   "source": [
    "np.arange(1, 10).sum()  # 45 сравнений"
   ]
  },
  {
   "cell_type": "markdown",
   "id": "54574469-cdc6-467d-9556-8cba649252c0",
   "metadata": {},
   "source": [
    "**Задача 2.** Представим, что мы выбрали порог для p-value равный 0.05. Какова вероятность ни разу не словить ошибку 1 рода за все 45 сравнений?"
   ]
  },
  {
   "cell_type": "code",
   "execution_count": 21,
   "id": "b5ca9e65-fd7a-4ce7-b79a-3153f785e9f1",
   "metadata": {},
   "outputs": [],
   "source": [
    "# binom:\n",
    "n = 45\n",
    "p = 0.05  # успех - совершение ошибки I рода"
   ]
  },
  {
   "cell_type": "code",
   "execution_count": 23,
   "id": "edcdff02-349e-4656-9abe-136b683024b4",
   "metadata": {},
   "outputs": [
    {
     "data": {
      "text/plain": [
       "0.09944025698709248"
      ]
     },
     "execution_count": 23,
     "metadata": {},
     "output_type": "execute_result"
    }
   ],
   "source": [
    "stats.binom(n, p).pmf(0)  # это маленькая вероятность, а мы ведь хотел совершать ошибку I рода не чаще, чем 5% раз"
   ]
  },
  {
   "cell_type": "markdown",
   "id": "33fd3b09-4bde-4947-b79f-e9a8dda1df0a",
   "metadata": {},
   "source": [
    "**Задача 3.** Видно, что надо сделать поправку к нашему p-value. Иными словами, каким оно должно быть, чтобы за 45 повторений мы словили ошибку I рода не более 5% раз?"
   ]
  },
  {
   "cell_type": "code",
   "execution_count": 26,
   "id": "03c6b26f-6b50-44dc-b64d-3c48623fdc7c",
   "metadata": {},
   "outputs": [],
   "source": [
    "p_current = p\n",
    "prob = stats.binom(n, p_current).pmf(0)\n",
    "\n",
    "while prob < 0.95:\n",
    "    p_current += - 1e-4\n",
    "    prob = stats.binom(n, p_current).pmf(0)"
   ]
  },
  {
   "cell_type": "code",
   "execution_count": 27,
   "id": "f815868e-235c-4d4a-86a2-0d608e2f6a87",
   "metadata": {},
   "outputs": [
    {
     "data": {
      "text/plain": [
       "0.0010999999999996015"
      ]
     },
     "execution_count": 27,
     "metadata": {},
     "output_type": "execute_result"
    }
   ],
   "source": [
    "p_current  # тот савый порог p-value, который мы должны использовать для каждой пары, чтобы наше изначальное желание ошибаться не более 5%\n",
    "# раз было удовлетворено"
   ]
  },
  {
   "cell_type": "markdown",
   "id": "4e48a94d-fb73-4d77-b17c-6ff55604c72b",
   "metadata": {},
   "source": [
    "Сейчас мы сделали т. н. поправку на множественное сравнение (тестирование)."
   ]
  },
  {
   "cell_type": "code",
   "execution_count": 28,
   "id": "7c9ba8fa-0a68-4933-9307-8643d2e8c0f4",
   "metadata": {},
   "outputs": [
    {
     "data": {
      "text/plain": [
       "0.0011111111111111111"
      ]
     },
     "execution_count": 28,
     "metadata": {},
     "output_type": "execute_result"
    }
   ],
   "source": [
    "# поправка Bonferroni: p-value_cutoff / n\n",
    "0.05 / 45"
   ]
  },
  {
   "cell_type": "markdown",
   "id": "7f38d7a7-33a7-4750-808e-5b0ebdf8155e",
   "metadata": {},
   "source": [
    "**Задача 4.** Выполните множественное сравнение парными t-тестами с поправкой. Можно ли сказать, что в разных странах средние значения возраста мужчин и женщин одинаковы?"
   ]
  },
  {
   "cell_type": "code",
   "execution_count": 46,
   "id": "4aaa9c43-9f29-4080-9293-f5dc8e10f883",
   "metadata": {},
   "outputs": [],
   "source": [
    "result = []\n",
    "\n",
    "for country, df in data.groupby('cntry'):\n",
    "    male = df.loc[df['gndr'] == 'Male', 'agea'].values\n",
    "    female = df.loc[df['gndr'] == 'Female', 'agea'].values\n",
    "    \n",
    "    result.append([country, stats.ttest_ind(male, female, equal_var=False).pvalue])"
   ]
  },
  {
   "cell_type": "code",
   "execution_count": 47,
   "id": "b349efc4-c85c-47d6-b71d-50e3e418ffea",
   "metadata": {},
   "outputs": [],
   "source": [
    "result_df = pd.DataFrame(result, columns=['country', 'p_value'])\n",
    "result_df['signif'] = result_df['p_value'] < 0.05\n",
    "result_df['signif_adj'] = result_df['p_value'] < (0.05 / result_df['country'].size)"
   ]
  },
  {
   "cell_type": "code",
   "execution_count": 49,
   "id": "b390d7f1-a065-468b-b7af-2eab1b83030d",
   "metadata": {},
   "outputs": [
    {
     "data": {
      "text/plain": [
       "signif        9\n",
       "signif_adj    5\n",
       "dtype: int64"
      ]
     },
     "execution_count": 49,
     "metadata": {},
     "output_type": "execute_result"
    }
   ],
   "source": [
    "result_df[['signif', 'signif_adj']].sum()"
   ]
  },
  {
   "cell_type": "code",
   "execution_count": null,
   "id": "2f6338a1-1521-4fa1-bf3a-b4f0b2797856",
   "metadata": {},
   "outputs": [],
   "source": []
  },
  {
   "cell_type": "markdown",
   "id": "59549df6-a2db-4f74-a3a9-9b5b230347f5",
   "metadata": {},
   "source": [
    "### Сравнение выборки с заданным распределением\n",
    "#### Полиномиальный тест"
   ]
  },
  {
   "cell_type": "code",
   "execution_count": null,
   "id": "e0cecf62-df0d-45f0-810f-ac63f826c25e",
   "metadata": {},
   "outputs": [],
   "source": []
  },
  {
   "cell_type": "markdown",
   "id": "e8c2209d-9d6a-45b3-b5ab-e75d789c6b55",
   "metadata": {},
   "source": [
    "#### Критерий согласия Chi-squared\n",
    "![](https://cf2.ppt-online.org/files2/slide/p/p1fDJoE9zLG0R5OgWv4PtcSihTYa2unFX6qwdm8QVU/slide-38.jpg)\n",
    "\n",
    "Критерий согласия хи-квадрат применим, только если ожидаемое значение в каждой ячейке больше 5, а общее количество объектов не менее 20.\n",
    "\n",
    "**Задача.** Есть 5 магазинов. В каждом из них за день продано определенное количество товара. Надо проверить, есть ли разница между магазинам в продажах?"
   ]
  },
  {
   "cell_type": "code",
   "execution_count": 53,
   "id": "b5465cfd-d727-43a1-87bf-39fd00204937",
   "metadata": {},
   "outputs": [
    {
     "data": {
      "text/plain": [
       "17.5"
      ]
     },
     "execution_count": 53,
     "metadata": {},
     "output_type": "execute_result"
    }
   ],
   "source": [
    "# H0: значения пришли из одного дискретного распределения\n",
    "# Ha: !H0\n",
    "\n",
    "sales = np.array([60, 54, 32, 43, 71])\n",
    "sales_mean = sales.mean()\n",
    "\n",
    "statistic = ((sales - sales_mean) ** 2).sum() / sales_mean\n",
    "statistic"
   ]
  },
  {
   "cell_type": "code",
   "execution_count": 54,
   "id": "798b50f5-f105-4748-b99b-b07491cf49e3",
   "metadata": {},
   "outputs": [
    {
     "data": {
      "text/plain": [
       "0.0015449979198786101"
      ]
     },
     "execution_count": 54,
     "metadata": {},
     "output_type": "execute_result"
    }
   ],
   "source": [
    "df = sales.size - 1\n",
    "\n",
    "1 - stats.chi2(df).cdf(statistic)"
   ]
  },
  {
   "cell_type": "markdown",
   "id": "76d21354-1757-4b46-8798-6441d86eddcf",
   "metadata": {},
   "source": [
    "**Задача.** Есть ли значимые отличия в количестве респондентов в разных странах?"
   ]
  },
  {
   "cell_type": "code",
   "execution_count": null,
   "id": "b5f682ca-3d0b-4fee-b21c-c0b6de5d7dee",
   "metadata": {},
   "outputs": [],
   "source": [
    "# наш код здесь"
   ]
  },
  {
   "cell_type": "markdown",
   "id": "436817c6-01c2-422c-b0cb-e4e8734f8264",
   "metadata": {},
   "source": [
    "#### Критерий Колмогорова\n",
    "Проверка совпадения распределений генеральной совокупностей двух выборок:"
   ]
  },
  {
   "cell_type": "code",
   "execution_count": 50,
   "id": "5f1719da-1029-4c37-ba8a-235a3f54f2c8",
   "metadata": {},
   "outputs": [
    {
     "data": {
      "text/plain": [
       "KstestResult(statistic=0.06220106463965877, pvalue=0.00792628715801556, statistic_location=30, statistic_sign=1)"
      ]
     },
     "execution_count": 50,
     "metadata": {},
     "output_type": "execute_result"
    }
   ],
   "source": [
    "# распределен ли возраст мужчин в Норвегии нормально с параметрами sample_mean, sample_var\n",
    "stats.kstest(\n",
    "    rvs=age_male,\n",
    "    cdf=stats.norm.cdf, args=(age_male.mean(), age_male.std(ddof=1))\n",
    ")  # H0 отвергается -> возраст мужчин в Норвегии не распределен нормально"
   ]
  },
  {
   "cell_type": "markdown",
   "id": "42d7b7f4-fcee-4877-a6e2-8c4ba27de5e4",
   "metadata": {},
   "source": [
    "### Таблица сопряженности\n",
    "#### Точный тест Фишера\n",
    "Если матрица 2 * 2"
   ]
  },
  {
   "cell_type": "code",
   "execution_count": 60,
   "id": "94e0fc17-5927-43ed-af8a-6b004ac6cde9",
   "metadata": {},
   "outputs": [],
   "source": [
    "crosstab = pd.crosstab(norway_data['clsprty'], norway_data['gndr'])"
   ]
  },
  {
   "cell_type": "code",
   "execution_count": 61,
   "id": "b81b89b9-0f0a-4298-8182-6df91a5626ac",
   "metadata": {},
   "outputs": [
    {
     "data": {
      "text/plain": [
       "SignificanceResult(statistic=1.0293462286066468, pvalue=0.8201536989824305)"
      ]
     },
     "execution_count": 61,
     "metadata": {},
     "output_type": "execute_result"
    }
   ],
   "source": [
    "stats.fisher_exact(crosstab)"
   ]
  },
  {
   "cell_type": "markdown",
   "id": "8d33a1f8-10c9-4766-8ff2-39e9530c1ea3",
   "metadata": {},
   "source": [
    "#### Критерий Chi-squared\n",
    "![](https://www.statstest.com/wp-content/uploads/2020/10/Chi-Square-Test-of-Independence-1.jpg)\n",
    "\n",
    "Теперь рассматриваем взаимодействие двух категориальных переменных."
   ]
  },
  {
   "cell_type": "code",
   "execution_count": 56,
   "id": "ba21bef3-3389-479a-aa7e-cacb845d8063",
   "metadata": {},
   "outputs": [],
   "source": [
    "norway_data = data[data['cntry'] == 'Norway'].reset_index(drop=True)"
   ]
  },
  {
   "cell_type": "code",
   "execution_count": 31,
   "id": "54743047-4e35-4942-a0f6-f3d6f5419e8d",
   "metadata": {},
   "outputs": [
    {
     "data": {
      "text/html": [
       "<div>\n",
       "<style scoped>\n",
       "    .dataframe tbody tr th:only-of-type {\n",
       "        vertical-align: middle;\n",
       "    }\n",
       "\n",
       "    .dataframe tbody tr th {\n",
       "        vertical-align: top;\n",
       "    }\n",
       "\n",
       "    .dataframe thead th {\n",
       "        text-align: right;\n",
       "    }\n",
       "</style>\n",
       "<table border=\"1\" class=\"dataframe\">\n",
       "  <thead>\n",
       "    <tr style=\"text-align: right;\">\n",
       "      <th></th>\n",
       "      <th>cntry</th>\n",
       "      <th>netusoft</th>\n",
       "      <th>ppltrst</th>\n",
       "      <th>clsprty</th>\n",
       "      <th>rlgatnd</th>\n",
       "      <th>gndr</th>\n",
       "      <th>agea</th>\n",
       "      <th>tporgwk</th>\n",
       "    </tr>\n",
       "  </thead>\n",
       "  <tbody>\n",
       "    <tr>\n",
       "      <th>0</th>\n",
       "      <td>Norway</td>\n",
       "      <td>Every day</td>\n",
       "      <td>7</td>\n",
       "      <td>No</td>\n",
       "      <td>Less often</td>\n",
       "      <td>Male</td>\n",
       "      <td>55</td>\n",
       "      <td>A private firm</td>\n",
       "    </tr>\n",
       "    <tr>\n",
       "      <th>1</th>\n",
       "      <td>Norway</td>\n",
       "      <td>Every day</td>\n",
       "      <td>9</td>\n",
       "      <td>Yes</td>\n",
       "      <td>Less often</td>\n",
       "      <td>Female</td>\n",
       "      <td>58</td>\n",
       "      <td>Other public sector (such as education and hea...</td>\n",
       "    </tr>\n",
       "    <tr>\n",
       "      <th>2</th>\n",
       "      <td>Norway</td>\n",
       "      <td>Every day</td>\n",
       "      <td>8</td>\n",
       "      <td>No</td>\n",
       "      <td>Only on special holy days</td>\n",
       "      <td>Female</td>\n",
       "      <td>35</td>\n",
       "      <td>Other public sector (such as education and hea...</td>\n",
       "    </tr>\n",
       "    <tr>\n",
       "      <th>3</th>\n",
       "      <td>Norway</td>\n",
       "      <td>Every day</td>\n",
       "      <td>3</td>\n",
       "      <td>No</td>\n",
       "      <td>Never</td>\n",
       "      <td>Male</td>\n",
       "      <td>18</td>\n",
       "      <td>A private firm</td>\n",
       "    </tr>\n",
       "    <tr>\n",
       "      <th>4</th>\n",
       "      <td>Norway</td>\n",
       "      <td>Every day</td>\n",
       "      <td>3</td>\n",
       "      <td>Yes</td>\n",
       "      <td>Only on special holy days</td>\n",
       "      <td>Male</td>\n",
       "      <td>22</td>\n",
       "      <td>A private firm</td>\n",
       "    </tr>\n",
       "  </tbody>\n",
       "</table>\n",
       "</div>"
      ],
      "text/plain": [
       "    cntry   netusoft  ppltrst clsprty                    rlgatnd    gndr  \\\n",
       "0  Norway  Every day        7      No                 Less often    Male   \n",
       "1  Norway  Every day        9     Yes                 Less often  Female   \n",
       "2  Norway  Every day        8      No  Only on special holy days  Female   \n",
       "3  Norway  Every day        3      No                      Never    Male   \n",
       "4  Norway  Every day        3     Yes  Only on special holy days    Male   \n",
       "\n",
       "   agea                                            tporgwk  \n",
       "0    55                                     A private firm  \n",
       "1    58  Other public sector (such as education and hea...  \n",
       "2    35  Other public sector (such as education and hea...  \n",
       "3    18                                     A private firm  \n",
       "4    22                                     A private firm  "
      ]
     },
     "execution_count": 31,
     "metadata": {},
     "output_type": "execute_result"
    }
   ],
   "source": [
    "norway_data.head()"
   ]
  },
  {
   "cell_type": "code",
   "execution_count": 57,
   "id": "c14c97fd-ff3e-4ef4-a441-7b2d6677e149",
   "metadata": {},
   "outputs": [],
   "source": [
    "# как связаны между собой наличие политических предпочтений и пол?\n",
    "crosstab = pd.crosstab(norway_data['clsprty'], norway_data['gndr'])"
   ]
  },
  {
   "cell_type": "code",
   "execution_count": 59,
   "id": "4edc7e82-f98a-456e-a514-7317b4e22fad",
   "metadata": {},
   "outputs": [
    {
     "data": {
      "text/html": [
       "<div>\n",
       "<style scoped>\n",
       "    .dataframe tbody tr th:only-of-type {\n",
       "        vertical-align: middle;\n",
       "    }\n",
       "\n",
       "    .dataframe tbody tr th {\n",
       "        vertical-align: top;\n",
       "    }\n",
       "\n",
       "    .dataframe thead th {\n",
       "        text-align: right;\n",
       "    }\n",
       "</style>\n",
       "<table border=\"1\" class=\"dataframe\">\n",
       "  <thead>\n",
       "    <tr style=\"text-align: right;\">\n",
       "      <th>gndr</th>\n",
       "      <th>Female</th>\n",
       "      <th>Male</th>\n",
       "    </tr>\n",
       "    <tr>\n",
       "      <th>clsprty</th>\n",
       "      <th></th>\n",
       "      <th></th>\n",
       "    </tr>\n",
       "  </thead>\n",
       "  <tbody>\n",
       "    <tr>\n",
       "      <th>No</th>\n",
       "      <td>230</td>\n",
       "      <td>237</td>\n",
       "    </tr>\n",
       "    <tr>\n",
       "      <th>Yes</th>\n",
       "      <td>445</td>\n",
       "      <td>472</td>\n",
       "    </tr>\n",
       "  </tbody>\n",
       "</table>\n",
       "</div>"
      ],
      "text/plain": [
       "gndr     Female  Male\n",
       "clsprty              \n",
       "No          230   237\n",
       "Yes         445   472"
      ]
     },
     "execution_count": 59,
     "metadata": {},
     "output_type": "execute_result"
    }
   ],
   "source": [
    "crosstab"
   ]
  },
  {
   "cell_type": "code",
   "execution_count": 58,
   "id": "cdd12683-1f14-4a81-b1e8-160e8a7608ef",
   "metadata": {},
   "outputs": [
    {
     "data": {
      "text/html": [
       "<div>\n",
       "<style scoped>\n",
       "    .dataframe tbody tr th:only-of-type {\n",
       "        vertical-align: middle;\n",
       "    }\n",
       "\n",
       "    .dataframe tbody tr th {\n",
       "        vertical-align: top;\n",
       "    }\n",
       "\n",
       "    .dataframe thead th {\n",
       "        text-align: right;\n",
       "    }\n",
       "</style>\n",
       "<table border=\"1\" class=\"dataframe\">\n",
       "  <thead>\n",
       "    <tr style=\"text-align: right;\">\n",
       "      <th>gndr</th>\n",
       "      <th>Female</th>\n",
       "      <th>Male</th>\n",
       "    </tr>\n",
       "    <tr>\n",
       "      <th>clsprty</th>\n",
       "      <th></th>\n",
       "      <th></th>\n",
       "    </tr>\n",
       "  </thead>\n",
       "  <tbody>\n",
       "    <tr>\n",
       "      <th>No</th>\n",
       "      <td>0.340741</td>\n",
       "      <td>0.334274</td>\n",
       "    </tr>\n",
       "    <tr>\n",
       "      <th>Yes</th>\n",
       "      <td>0.659259</td>\n",
       "      <td>0.665726</td>\n",
       "    </tr>\n",
       "  </tbody>\n",
       "</table>\n",
       "</div>"
      ],
      "text/plain": [
       "gndr       Female      Male\n",
       "clsprty                    \n",
       "No       0.340741  0.334274\n",
       "Yes      0.659259  0.665726"
      ]
     },
     "execution_count": 58,
     "metadata": {},
     "output_type": "execute_result"
    }
   ],
   "source": [
    "# какая доля мужчин и женщин (не) имеет политических предпочтений?\n",
    "pd.crosstab(norway_data['clsprty'], norway_data['gndr'], normalize=1)"
   ]
  },
  {
   "cell_type": "markdown",
   "id": "658a3e57-7a0f-4bc8-818b-fde068bac968",
   "metadata": {},
   "source": [
    "Чтобы проверить, значимы ли эти различия, мы можем использовать т. н. критерий Chi-2.\n",
    "\n",
    "Та таблица, которую мы имеем, - это наблюдаемая таблица. Но какую мы ожидали бы увидеть при условии H0?\n",
    "\n",
    "H0: между переменными нет связи<br>\n",
    "Ha: она есть\n",
    "\n",
    "**Алгоритм:**\n",
    "\n",
    "1) Построить таблицу с ожидаемыми частотами;\n",
    "2) Посчитать \"расстояние\" между ожидаемой таблицей и наблюдаемой;\n",
    "3) Расстояние будет иметь chi-2 распределение, нам останется посчитать p-value."
   ]
  },
  {
   "cell_type": "code",
   "execution_count": 41,
   "id": "33f343ed-f462-43b6-be92-32090d94f621",
   "metadata": {},
   "outputs": [
    {
     "data": {
      "text/html": [
       "<div>\n",
       "<style scoped>\n",
       "    .dataframe tbody tr th:only-of-type {\n",
       "        vertical-align: middle;\n",
       "    }\n",
       "\n",
       "    .dataframe tbody tr th {\n",
       "        vertical-align: top;\n",
       "    }\n",
       "\n",
       "    .dataframe thead th {\n",
       "        text-align: right;\n",
       "    }\n",
       "</style>\n",
       "<table border=\"1\" class=\"dataframe\">\n",
       "  <thead>\n",
       "    <tr style=\"text-align: right;\">\n",
       "      <th>gndr</th>\n",
       "      <th>Female</th>\n",
       "      <th>Male</th>\n",
       "    </tr>\n",
       "    <tr>\n",
       "      <th>clsprty</th>\n",
       "      <th></th>\n",
       "      <th></th>\n",
       "    </tr>\n",
       "  </thead>\n",
       "  <tbody>\n",
       "    <tr>\n",
       "      <th>No</th>\n",
       "      <td>230</td>\n",
       "      <td>237</td>\n",
       "    </tr>\n",
       "    <tr>\n",
       "      <th>Yes</th>\n",
       "      <td>445</td>\n",
       "      <td>472</td>\n",
       "    </tr>\n",
       "  </tbody>\n",
       "</table>\n",
       "</div>"
      ],
      "text/plain": [
       "gndr     Female  Male\n",
       "clsprty              \n",
       "No          230   237\n",
       "Yes         445   472"
      ]
     },
     "execution_count": 41,
     "metadata": {},
     "output_type": "execute_result"
    }
   ],
   "source": [
    "crosstab"
   ]
  },
  {
   "cell_type": "code",
   "execution_count": 43,
   "id": "5d9934a8-7de6-46e1-b8c7-54785e28f23a",
   "metadata": {},
   "outputs": [],
   "source": [
    "chi2_test = stats.chi2_contingency(crosstab)"
   ]
  },
  {
   "cell_type": "code",
   "execution_count": 44,
   "id": "43c406ee-d278-43b8-b60e-f868acfd03cd",
   "metadata": {},
   "outputs": [
    {
     "data": {
      "text/plain": [
       "array([[227.76372832, 239.23627168],\n",
       "       [447.23627168, 469.76372832]])"
      ]
     },
     "execution_count": 44,
     "metadata": {},
     "output_type": "execute_result"
    }
   ],
   "source": [
    "chi2_test.expected_freq"
   ]
  },
  {
   "cell_type": "code",
   "execution_count": 45,
   "id": "80026f2e-bfaa-419c-8952-8da51a9db820",
   "metadata": {},
   "outputs": [
    {
     "data": {
      "text/plain": [
       "0.038994863771994"
      ]
     },
     "execution_count": 45,
     "metadata": {},
     "output_type": "execute_result"
    }
   ],
   "source": [
    "chi2_test.statistic"
   ]
  },
  {
   "cell_type": "code",
   "execution_count": 46,
   "id": "b17289ae-1f4f-4aac-a227-79748aadbbc7",
   "metadata": {},
   "outputs": [
    {
     "data": {
      "text/plain": [
       "0.8434588386642923"
      ]
     },
     "execution_count": 46,
     "metadata": {},
     "output_type": "execute_result"
    }
   ],
   "source": [
    "chi2_test.pvalue"
   ]
  },
  {
   "cell_type": "markdown",
   "id": "5ed10682-085d-4779-9562-cf6d39a58a87",
   "metadata": {},
   "source": [
    "### Сравнение чисел наблюдений\n",
    "#### Число успехов при заданном числе испытаний\n",
    "Проверим предыдущую гипотезу, но другим способом. Пусть имеется $n$ успехов при $N$ испытаниях и $m$ успехов при $M$ испытаниях.\n",
    "\n",
    "$H_0:$ доля успехов в двух случаях одна и та же<br>\n",
    "$H_A:$ доли успехов в двух случаях различаются\n",
    "\n",
    "Тогда при верной $H_0:$\n",
    "\n",
    "$p=\\frac{n + m}{N + M}$<br><br>\n",
    "$D_1=\\frac{p(1-p)}{N}$<br>\n",
    "$D_2=\\frac{p(1-p)}{M}$<br><br>\n",
    "$Z=\\frac{\\frac{n}{N} - \\frac{m}{M}}{\\sqrt{D_1 + D_2}}$"
   ]
  },
  {
   "cell_type": "code",
   "execution_count": null,
   "id": "a62d7743-7e2b-40f0-9733-792dbf65c57d",
   "metadata": {},
   "outputs": [],
   "source": [
    "# наш код здесь"
   ]
  },
  {
   "cell_type": "markdown",
   "id": "00ff95d2-566b-44db-90af-854dee1c46b1",
   "metadata": {},
   "source": [
    "#### Число успехов при неопределенном максимуме\n",
    "![poisson](https://cf.ppt-online.org/files/slide/m/MI9r1WpmVsd8JtknYfC4KRUSoc5QGADiTuezyO/slide-9.jpg)\n",
    "**Задача.** Мальчик поймал за сезон 50 рыжих майских жуков и 33 чёрных. Можно ли утверждать, что рыжие встречаются в этом году чаще?\n",
    "\n",
    "$D_1=\\frac{n + m}{2}$<br>\n",
    "$D_2=\\frac{n + m}{2}$<br><br>\n",
    "\n",
    "$Z=\\frac{n - m}{\\sqrt{D_1 + D_2}}=\\frac{n - m}{\\sqrt{n + m}}$\n",
    "\n",
    "**!NB!** Данный способ может применяться только при достаточно большом среднем (> 20)."
   ]
  },
  {
   "cell_type": "code",
   "execution_count": null,
   "id": "b7acae9c-a992-44d3-bf89-22540539934f",
   "metadata": {},
   "outputs": [],
   "source": [
    "# наш код здесь"
   ]
  },
  {
   "cell_type": "markdown",
   "id": "7f88cfd0-b007-4783-86a2-a5547c1117f7",
   "metadata": {},
   "source": [
    "### Сравнение коэффициента корреляции с нулем\n",
    "$H_0:$ корреляция равна 0<br>\n",
    "$H_A:$ корреляция не равна 0\n",
    "\n",
    "Теперь взаимодействуют две числовые переменные:"
   ]
  },
  {
   "cell_type": "code",
   "execution_count": null,
   "id": "ab6a1300-944d-46ff-aef8-7d49cfced1ad",
   "metadata": {},
   "outputs": [],
   "source": [
    "# numeric & numeric\n",
    "# ppltrst - степень доверия случайным людям от 0 до 10\n",
    "# agea"
   ]
  },
  {
   "cell_type": "code",
   "execution_count": 62,
   "id": "45e212a8-eb9e-4316-958a-e77a581aef40",
   "metadata": {},
   "outputs": [
    {
     "data": {
      "text/plain": [
       "PearsonRResult(statistic=0.15900242188850106, pvalue=2.7183164677164256e-09)"
      ]
     },
     "execution_count": 62,
     "metadata": {},
     "output_type": "execute_result"
    }
   ],
   "source": [
    "# выборки происходят из нормальных генеральных совокупностей\n",
    "stats.pearsonr(norway_data['agea'], norway_data['ppltrst'])"
   ]
  },
  {
   "cell_type": "code",
   "execution_count": 63,
   "id": "b4820bd0-f571-4ed4-a032-66497c0c8d64",
   "metadata": {},
   "outputs": [
    {
     "data": {
      "text/plain": [
       "SignificanceResult(statistic=0.17812730502508442, pvalue=2.486273813337128e-11)"
      ]
     },
     "execution_count": 63,
     "metadata": {},
     "output_type": "execute_result"
    }
   ],
   "source": [
    "# выборки НЕ ОБЯЗАТЕЛЬНО происходят из нормальных генеральных совокупностей (больше для РАНГОВЫХ данных)\n",
    "stats.spearmanr(norway_data['agea'], norway_data['ppltrst'])"
   ]
  },
  {
   "cell_type": "code",
   "execution_count": 64,
   "id": "2c0fde9c-d4a9-4c30-87ec-98e6cf9dfa4a",
   "metadata": {},
   "outputs": [
    {
     "data": {
      "text/plain": [
       "SignificanceResult(statistic=0.1316238639494908, pvalue=1.5937051688443437e-11)"
      ]
     },
     "execution_count": 64,
     "metadata": {},
     "output_type": "execute_result"
    }
   ],
   "source": [
    "# выборки НЕ ОБЯЗАТЕЛЬНО происходят из нормальных генеральных совокупностей (ТОЛЬКО для РАНГОВЫХ данных)\n",
    "stats.kendalltau(norway_data['agea'], norway_data['ppltrst'])"
   ]
  }
 ],
 "metadata": {
  "kernelspec": {
   "display_name": "Python 3 (ipykernel)",
   "language": "python",
   "name": "python3"
  },
  "language_info": {
   "codemirror_mode": {
    "name": "ipython",
    "version": 3
   },
   "file_extension": ".py",
   "mimetype": "text/x-python",
   "name": "python",
   "nbconvert_exporter": "python",
   "pygments_lexer": "ipython3",
   "version": "3.11.6"
  }
 },
 "nbformat": 4,
 "nbformat_minor": 5
}
