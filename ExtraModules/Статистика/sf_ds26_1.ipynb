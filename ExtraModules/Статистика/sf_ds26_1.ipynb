{
 "cells": [
  {
   "cell_type": "markdown",
   "id": "df89755a-5c93-4763-9436-38d0e22c7ddb",
   "metadata": {},
   "source": [
    "# Программирование на языке Python\n",
    "## Семинар 26. Проверка гипотез: краткий обзор\n",
    "### Содержание\n",
    "![](images/all.png)\n",
    "\n",
    "### Пререквизиты\n",
    "![](images/e_disp.png)\n",
    "\n",
    "![](images/continuity.png)\n",
    "\n",
    "### Проверка гипотез? Зачем?\n",
    "**Общий смысл**\n",
    "\n",
    "- видим в данных какую-то закономерность\n",
    "- думаем, как ее измерить\n",
    "- насколько вероятно получить такое случайно?\n",
    "- для ответа требуется: 1) понять, какие вообще результаты получаются случайно и 2) проверить, как соотносится с этим распределением полученное нами значение\n",
    "- если укладывается - закономерность случайна, нет - отвергаем случайность закономерности\n",
    "\n",
    "**Формализация**\n",
    "\n",
    "1. Выдвигаем H0 (нулевая гипотеза) о том, что все случайно (Ha - альтернативная гипотеза - будет противоположна H0);\n",
    "2. Выбираем статистику критерия (исходя из задачи и типа закономерности). Можем хоть сами придумать, главное чтобы она работала (вопрос: а как проверить что она работает?);\n",
    "3. Подсчитываем наблюдаемую статистику критерия;\n",
    "4. Подсчитываем вероятность получить ее по случайным причинам;\n",
    "5. Оцениваем вероятность и делаем вывод.\n",
    "\n",
    "**Что хотим получить и чего хотели бы избежать?**\n",
    "\n",
    "![](https://i.redd.it/ob8za0yst6f21.png)\n",
    "\n",
    "\n",
    "### Сравнение выборки с заданным распределением\n",
    "#### t-тест и z-тест для одной выборки\n",
    "\n",
    "![](https://i.ytimg.com/vi/PUm3oq2lQWs/maxresdefault.jpg)"
   ]
  },
  {
   "cell_type": "code",
   "execution_count": 8,
   "id": "6af79c02-a03e-4437-88e6-270928cb8262",
   "metadata": {},
   "outputs": [],
   "source": [
    "import numpy as np\n",
    "from scipy import stats\n",
    "\n",
    "n = 20\n",
    "\n",
    "sample = np.random.uniform(-9, 4, n)\n",
    "sample_mean = sample.mean()\n",
    "sample_std = sample.std(ddof=1)"
   ]
  },
  {
   "cell_type": "code",
   "execution_count": 9,
   "id": "084d895a-d437-4734-9256-a7dc1b3bb0b5",
   "metadata": {},
   "outputs": [
    {
     "data": {
      "text/plain": [
       "-1.6391442312054907"
      ]
     },
     "execution_count": 9,
     "metadata": {},
     "output_type": "execute_result"
    }
   ],
   "source": [
    "sample_mean"
   ]
  },
  {
   "cell_type": "code",
   "execution_count": 4,
   "id": "b4af1a80-94ad-4718-8774-bc1dfafc4d6b",
   "metadata": {},
   "outputs": [],
   "source": [
    "population_mean = -3\n",
    "\n",
    "# H0:            sample_mean = population_mean (sample_mean - population_mean = 0)\n",
    "\n",
    "# HA-left:       sample_mean < population_mean\n",
    "# HA-right:      sample_mean > population_mean\n",
    "# HA-two-sided:  sample_mean != population_mean +++++++++++++"
   ]
  },
  {
   "cell_type": "code",
   "execution_count": null,
   "id": "e643df02-fa18-4381-94be-ee1fef513a14",
   "metadata": {},
   "outputs": [],
   "source": [
    "# применяем к метрике которую проверяем некоторые преобразования\n",
    "# цель - получить универсальную статистику (она имеет хорошо изученное распределение при верной H0)\n",
    "\n",
    "# (вариация == дисперсия == variation)"
   ]
  },
  {
   "cell_type": "code",
   "execution_count": 15,
   "id": "64a38cf4-ebad-42ae-871c-8a5cf6a66a7b",
   "metadata": {},
   "outputs": [
    {
     "data": {
      "text/plain": [
       "1.678643593763355"
      ]
     },
     "execution_count": 15,
     "metadata": {},
     "output_type": "execute_result"
    }
   ],
   "source": [
    "# считаем статистику (реальное значение)\n",
    "statistic = (sample_mean - population_mean) / (sample_std / n ** (1 / 2))\n",
    "\n",
    "degrees_of_freedom = n - 1\n",
    "\n",
    "statistic  # какое место оно занимает в теоретическом распределении?"
   ]
  },
  {
   "cell_type": "code",
   "execution_count": 12,
   "id": "20f37313-e43c-4148-b414-b13b23a9d480",
   "metadata": {},
   "outputs": [],
   "source": [
    "# при верной H0 statistic ~ t-распределение (df = n - 1)\n",
    "# насколько наблюдаемое значение вписывается в это распределение?\n",
    "# для меры этого придумали т. н. p-value\n",
    "# p-value - это вероятность (при верной H0) получить такое же или более ЭКСТРЕМАЛЬНОЕ значение\n",
    "# ИЛИ это вероятность отвергнуть верную H0\n",
    "# ИЛИ это вероятность ошибки первого рода"
   ]
  },
  {
   "cell_type": "code",
   "execution_count": 19,
   "id": "21a03f01-55d5-4234-b271-aa6cff43d2fc",
   "metadata": {},
   "outputs": [
    {
     "data": {
      "text/plain": [
       "0.05479657244191982"
      ]
     },
     "execution_count": 19,
     "metadata": {},
     "output_type": "execute_result"
    }
   ],
   "source": [
    "# тестируем против ПРАВОСТОРОННЕЙ АЛЬТЕРНАТИВЫ\n",
    "# HA-right:      sample_mean > population_mean\n",
    "\n",
    "# рассчитаем p-value:\n",
    "# 1 - F(statistic) = 1 - P(t <= statistic)\n",
    "\n",
    "t_distribution = stats.t(df=degrees_of_freedom)\n",
    "\n",
    "1 - t_distribution.cdf(statistic)  # p-value\n",
    "\n",
    "# p-value большое -> значит проверяемое следствие из нулевой гипотезы очень вероятно получить\n",
    "# p-value маленькое -> значит проверяемое следствие из нулевой гипотезы получить маловероятно -> нулевая гипотеза должна быть отвергнута\n",
    "# конвенциональный порог - 0.05\n",
    "\n",
    "# нулевая гипотеза ПРОТИВ ПРАВОСТОРОННЕЙ АЛЬТЕРНАТИВЫ не отвергается"
   ]
  },
  {
   "cell_type": "code",
   "execution_count": 20,
   "id": "4b495429-0e5f-4505-a4fe-f40b6612a7c8",
   "metadata": {},
   "outputs": [
    {
     "data": {
      "text/plain": [
       "0.9452034275580802"
      ]
     },
     "execution_count": 20,
     "metadata": {},
     "output_type": "execute_result"
    }
   ],
   "source": [
    "# тестируем против ЛЕВОСТОРОННЕЙ АЛЬТЕРНАТИВЫ\n",
    "# HA-left:      sample_mean < population_mean\n",
    "\n",
    "t_distribution.cdf(statistic)  # p-value\n",
    "\n",
    "# нулевая гипотеза ПРОТИВ ЛЕВОСТОРОННЕЙ АЛЬТЕРНАТИВЫ не отвергается"
   ]
  },
  {
   "cell_type": "code",
   "execution_count": 21,
   "id": "b3195bc1-7a39-4f5f-b327-88cd69c96a38",
   "metadata": {},
   "outputs": [
    {
     "data": {
      "text/plain": [
       "0.10959314488383952"
      ]
     },
     "execution_count": 21,
     "metadata": {},
     "output_type": "execute_result"
    }
   ],
   "source": [
    "# тестируем против ДВУХСТОРОННЕЙ АЛЬТЕРНАТИВЫ\n",
    "# HA-two-sided:  sample_mean != population_mean\n",
    "\n",
    "t_distribution.cdf(-statistic) * 2  # p-value\n",
    "\n",
    "# нулевая гипотеза ПРОТИВ ДВУХСТОРОННЕЙ АЛЬТЕРНАТИВЫ не отвергается"
   ]
  },
  {
   "cell_type": "code",
   "execution_count": 23,
   "id": "0c5552d5-6955-47ca-a5d5-751b5126efe8",
   "metadata": {},
   "outputs": [
    {
     "data": {
      "text/plain": [
       "TtestResult(statistic=1.678643593763355, pvalue=0.10959314488383952, df=19)"
      ]
     },
     "execution_count": 23,
     "metadata": {},
     "output_type": "execute_result"
    }
   ],
   "source": [
    "# scipy\n",
    "\n",
    "stats.ttest_1samp(sample, -3)"
   ]
  },
  {
   "cell_type": "code",
   "execution_count": 27,
   "id": "5d4f4bb2-37a5-41fb-95df-bd77bb17e695",
   "metadata": {},
   "outputs": [
    {
     "data": {
      "text/plain": [
       "TtestResult(statistic=1.678643593763355, pvalue=0.05479657244191976, df=19)"
      ]
     },
     "execution_count": 27,
     "metadata": {},
     "output_type": "execute_result"
    }
   ],
   "source": [
    "stats.ttest_1samp(sample, -3, alternative='greater')"
   ]
  },
  {
   "cell_type": "code",
   "execution_count": 28,
   "id": "5c7c53ad-575b-4da3-87bf-5d5da7c927b9",
   "metadata": {},
   "outputs": [
    {
     "data": {
      "text/plain": [
       "TtestResult(statistic=1.678643593763355, pvalue=0.9452034275580802, df=19)"
      ]
     },
     "execution_count": 28,
     "metadata": {},
     "output_type": "execute_result"
    }
   ],
   "source": [
    "stats.ttest_1samp(sample, -3, alternative='less')"
   ]
  },
  {
   "cell_type": "code",
   "execution_count": null,
   "id": "2f3da9e8-a1b0-49ea-b47f-0cc8dc3ad1b5",
   "metadata": {},
   "outputs": [],
   "source": [
    "# при (n -> Inf) t-distribution -> N(0, 1), Z\n",
    "# n > 100"
   ]
  },
  {
   "cell_type": "markdown",
   "id": "08f83919-6260-4f83-aa46-0e3f4bc365a6",
   "metadata": {},
   "source": [
    "#### О важности степеней свободы"
   ]
  },
  {
   "cell_type": "code",
   "execution_count": 1,
   "id": "887bde7d-931a-4c3e-be49-204c6ff1685f",
   "metadata": {},
   "outputs": [],
   "source": [
    "from scipy import stats"
   ]
  },
  {
   "cell_type": "code",
   "execution_count": 2,
   "id": "13b4b37c-af32-4ee3-85fc-1724416cb0a2",
   "metadata": {},
   "outputs": [],
   "source": [
    "population = np.random.normal(5, 7, 100000)"
   ]
  },
  {
   "cell_type": "code",
   "execution_count": 17,
   "id": "5f01810c-457a-4a0f-833c-8d4444c8c746",
   "metadata": {},
   "outputs": [
    {
     "data": {
      "text/plain": [
       "5.0336065388829585"
      ]
     },
     "execution_count": 17,
     "metadata": {},
     "output_type": "execute_result"
    }
   ],
   "source": [
    "popmean = population.mean()\n",
    "popvar = population.var()\n",
    "popmean"
   ]
  },
  {
   "cell_type": "code",
   "execution_count": 13,
   "id": "7094e8ce-26b4-43a8-bb4d-cfe038262d56",
   "metadata": {},
   "outputs": [],
   "source": [
    "def generate_sample_means(population, sample_size, n_samples=1000):\n",
    "    sample_means = []\n",
    "\n",
    "    for _ in range(n_samples):\n",
    "        sample_i = np.random.choice(population, sample_size)\n",
    "        sample_mean = sample_i.mean()\n",
    "    \n",
    "        sample_means.append(sample_mean)\n",
    "\n",
    "\n",
    "    return sample_means"
   ]
  },
  {
   "cell_type": "code",
   "execution_count": 16,
   "id": "2d89fcac-283d-4709-b4ec-30ea66a9ab9f",
   "metadata": {},
   "outputs": [
    {
     "data": {
      "image/png": "[encoded data removed]",
      "text/plain": [
       "<Figure size 640x480 with 1 Axes>"
      ]
     },
     "metadata": {},
     "output_type": "display_data"
    }
   ],
   "source": [
    "import matplotlib.pyplot as plt\n",
    "\n",
    "fig, ax = plt.subplots()\n",
    "\n",
    "ax.axvline(popmean, color='red', label='real_mean')\n",
    "\n",
    "sample_sizes = [2, 10, 20, 50, 1000]\n",
    "\n",
    "for sample_size in sample_sizes:\n",
    "    sample_means = generate_sample_means(population, sample_size)\n",
    "\n",
    "    if sample_size < 50:\n",
    "        dist = 'student'\n",
    "    else:\n",
    "        dist = 'norm'\n",
    "    \n",
    "    ax.hist(sample_means, bins=30, alpha=.3, label=f'sample_size={sample_size} ({dist})')\n",
    "    \n",
    "    ax.legend();"
   ]
  },
  {
   "cell_type": "code",
   "execution_count": 19,
   "id": "18aa5883-c94b-4dcd-a6e1-1437ffbf798a",
   "metadata": {},
   "outputs": [
    {
     "data": {
      "image/png": "[encoded data removed]",
      "text/plain": [
       "<Figure size 640x480 with 1 Axes>"
      ]
     },
     "metadata": {},
     "output_type": "display_data"
    }
   ],
   "source": [
    "import matplotlib.pyplot as plt\n",
    "\n",
    "fig, ax = plt.subplots()\n",
    "\n",
    "# ax.axvline(popmean, color='red', label='real_mean')\n",
    "\n",
    "sample_sizes = [2, 10, 20, 50, 1000]\n",
    "\n",
    "for sample_size in sample_sizes:\n",
    "    sample_means = generate_sample_means(population, sample_size)\n",
    "\n",
    "    if sample_size < 50:\n",
    "        dist = 'student'\n",
    "    else:\n",
    "        dist = 'norm'\n",
    "\n",
    "    sample_means = (sample_means - popmean) / (popvar / sample_size ** 1 / 2) \n",
    "    \n",
    "    ax.hist(sample_means, bins=30, alpha=.3, label=f'sample_size={sample_size} ({dist})')\n",
    "    \n",
    "    ax.legend();"
   ]
  },
  {
   "cell_type": "markdown",
   "id": "c9a31cc2-895f-4163-89cd-6dd13f93529b",
   "metadata": {},
   "source": [
    "$E(\\mu_X)=E(X)$, n -> Inf\n",
    "\n",
    "$E(\\mu_X) \\sim N(E(X), Var(X) / \\sqrt(n))$ (sample_size -> Inf)"
   ]
  },
  {
   "cell_type": "code",
   "execution_count": 1,
   "id": "544432f3-c30d-4310-a43a-dce681bcfdee",
   "metadata": {},
   "outputs": [
    {
     "name": "stdout",
     "output_type": "stream",
     "text": [
      "<class 'pandas.core.frame.DataFrame'>\n",
      "RangeIndex: 35987 entries, 0 to 35986\n",
      "Data columns (total 8 columns):\n",
      " #   Column    Non-Null Count  Dtype \n",
      "---  ------    --------------  ----- \n",
      " 0   cntry     35987 non-null  object\n",
      " 1   netusoft  35987 non-null  object\n",
      " 2   ppltrst   35987 non-null  int64 \n",
      " 3   clsprty   35987 non-null  object\n",
      " 4   rlgatnd   35987 non-null  object\n",
      " 5   gndr      35987 non-null  object\n",
      " 6   agea      35987 non-null  int64 \n",
      " 7   tporgwk   35987 non-null  object\n",
      "dtypes: int64(2), object(6)\n",
      "memory usage: 2.2+ MB\n"
     ]
    }
   ],
   "source": [
    "import numpy as np\n",
    "import pandas as pd\n",
    "from scipy import stats\n",
    "\n",
    "data = pd.read_excel('ess_data.xlsx')\n",
    "data.info()\n",
    "\n",
    "norway_data = data[data['cntry'] == 'Norway'].reset_index(drop=True)"
   ]
  },
  {
   "cell_type": "markdown",
   "id": "7f5ef70c-7e2c-4f53-be99-5d0a5ea0fdb9",
   "metadata": {},
   "source": [
    "$H_0: \\mu_x=a$ <br>\n",
    "$H_A: \\mu_x \\neq a$ <br>\n",
    "$\\mu$ - mean <br>\n",
    "$a$ - some value\n",
    "\n",
    "Допущения:\n",
    "- X (здесь и далее X - генеральная совокупность) имеет нормальное распределение\n",
    "- применяется только к т. н. numeric переменным\n",
    "\n",
    "Если на показатель влияет большое количество мелких разнонаправленных факторов, показатель скорее всего распределен нормально (биологические показатели: рост, вес и т. д.). На самом деле есть тест на проверку того, что выборка пришла из нормального распределения."
   ]
  },
  {
   "cell_type": "code",
   "execution_count": 3,
   "id": "583e3f52-0432-4f85-af1e-84ccf24fc46a",
   "metadata": {},
   "outputs": [],
   "source": [
    "age_norway = data.loc[data['cntry'] == 'Norway', 'agea'].copy()"
   ]
  },
  {
   "cell_type": "code",
   "execution_count": 6,
   "id": "ef490fd2-32cb-4b46-865f-819b6a9e1405",
   "metadata": {},
   "outputs": [
    {
     "data": {
      "text/plain": [
       "47.229046242774565"
      ]
     },
     "execution_count": 6,
     "metadata": {},
     "output_type": "execute_result"
    }
   ],
   "source": [
    "age_norway_mean = age_norway.mean()\n",
    "age_norway_std = age_norway.std(ddof=1)\n",
    "age_norway_size = age_norway.size\n",
    "age_norway_mean"
   ]
  },
  {
   "cell_type": "code",
   "execution_count": null,
   "id": "93e84061-1c35-4ec6-81c7-cfc7a5fa51e4",
   "metadata": {},
   "outputs": [],
   "source": [
    "#H0: возраст на самом деле 40\n",
    "#HA: возраст на самом деле не 40"
   ]
  },
  {
   "cell_type": "code",
   "execution_count": 7,
   "id": "2eca34b6-a61e-4880-b02c-a42343f3fe84",
   "metadata": {},
   "outputs": [
    {
     "data": {
      "text/plain": [
       "14.786143270569728"
      ]
     },
     "execution_count": 7,
     "metadata": {},
     "output_type": "execute_result"
    }
   ],
   "source": [
    "# считаем статистику (реальное значение)\n",
    "statistic = (age_norway_mean - 40) / (age_norway_std / age_norway_size ** (1 / 2))\n",
    "\n",
    "# degrees_of_freedom = n - 1 -> не надо, т. к. Z-тест\n",
    "\n",
    "statistic  # какое место оно занимает в теоретическом распределении?"
   ]
  },
  {
   "cell_type": "code",
   "execution_count": 9,
   "id": "4f87635e-bdb5-489f-b949-4edfe32d3e45",
   "metadata": {},
   "outputs": [
    {
     "data": {
      "text/plain": [
       "1.7997513933815474e-49"
      ]
     },
     "execution_count": 9,
     "metadata": {},
     "output_type": "execute_result"
    }
   ],
   "source": [
    "norm_distribution = stats.norm(0, 1)\n",
    "norm_distribution.cdf(-statistic) * 2  # p-value\n",
    "\n",
    "# h0 отвергнута -> можно считать, что жители Норвегии на самом деле не могут быть в среднем сорокалетними"
   ]
  },
  {
   "cell_type": "code",
   "execution_count": 24,
   "id": "32b8ee7a-6fe6-4a73-a48b-e61f435f02ef",
   "metadata": {},
   "outputs": [
    {
     "data": {
      "text/plain": [
       "TtestResult(statistic=14.786143270569728, pvalue=4.849408790456409e-46, df=1383)"
      ]
     },
     "execution_count": 24,
     "metadata": {},
     "output_type": "execute_result"
    }
   ],
   "source": [
    "stats.ttest_1samp(age_norway, 40)"
   ]
  },
  {
   "cell_type": "markdown",
   "id": "6eddc3d1-36e3-453e-8653-80afadc48f2d",
   "metadata": {},
   "source": [
    "**Задача.** При каких значениях теоретического возраста мы бы не стали отвергать H0 (при условии, что пороговый p-value 0.05, и при двусторонней альтернативе)?"
   ]
  },
  {
   "cell_type": "code",
   "execution_count": null,
   "id": "a1f2efd4-58a3-4978-add7-9394e48083a9",
   "metadata": {},
   "outputs": [],
   "source": [
    "Q - квантиль\n",
    "\n",
    "1) p-value >= 0.05\n",
    "\n",
    "2)\n",
    "p-value = P(Z >= statistic) + P(Z <= -statistic), statistic >= 0\n",
    "p-value = F(-statistic) * 2, statistic >= 0\n",
    "\n",
    "3)\n",
    "F(-statistic) * 2 >= 0.05, statistic >= 0\n",
    "F(-statistic) >= 0.025, statistic >= 0\n",
    "F(-statistic) == 0.025, statistic >= 0\n",
    "-statistic = Q(0.025)\n",
    "statistic = Q(0.975)\n",
    "\n",
    "\n",
    "\n",
    "3)\n",
    "statistic = (age_norway_mean - theoretic_mean) / (age_norway_std / age_norway_size ** (1 / 2))\n",
    "(age_norway_mean - theoretic_mean) = statistic * (age_norway_std / age_norway_size ** (1 / 2))\n",
    "\n",
    "theoretic_mean = age_norway_mean - statistic * (age_norway_std / age_norway_size ** (1 / 2))\n",
    "\n",
    "theoretic_mean1 = age_norway_mean - statistic * (age_norway_std / age_norway_size ** (1 / 2))\n",
    "theoretic_mean2 = age_norway_mean + statistic * (age_norway_std / age_norway_size ** (1 / 2))\n",
    "\n",
    "theoretic_mean1 = age_norway_mean - Q(0.025) * (age_norway_std / age_norway_size ** (1 / 2))\n",
    "theoretic_mean2 = age_norway_mean + Q(0.975) * (age_norway_std / age_norway_size ** (1 / 2))\n",
    "\n",
    "theoretic_mean1 < age_norway_mean < theoretic_mean2"
   ]
  },
  {
   "cell_type": "code",
   "execution_count": null,
   "id": "ebf3135f-83de-4081-bf1d-80b569299501",
   "metadata": {},
   "outputs": [],
   "source": [
    "Q(0.025) = norm_distribution.ppf(0.025)\n",
    "Q(0.975) = norm_distribution.ppf(0.975)"
   ]
  },
  {
   "cell_type": "code",
   "execution_count": 11,
   "id": "e9f92639-998e-4c0d-8563-a05d6a1987f5",
   "metadata": {},
   "outputs": [
    {
     "data": {
      "text/plain": [
       "-1.9599639845400545"
      ]
     },
     "execution_count": 11,
     "metadata": {},
     "output_type": "execute_result"
    }
   ],
   "source": [
    "norm_distribution.ppf(0.025)"
   ]
  },
  {
   "cell_type": "code",
   "execution_count": 12,
   "id": "cbef8f8d-2925-49fe-9e13-a1d93122ee6f",
   "metadata": {},
   "outputs": [
    {
     "data": {
      "text/plain": [
       "(46.27080648957171, 47.229046242774565, 48.18728599597742)"
      ]
     },
     "execution_count": 12,
     "metadata": {},
     "output_type": "execute_result"
    }
   ],
   "source": [
    "(\n",
    "    age_norway_mean + norm_distribution.ppf(0.025) * (age_norway_std / age_norway_size ** (1 / 2)),\n",
    "    age_norway_mean,\n",
    "    age_norway_mean + norm_distribution.ppf(0.975) * (age_norway_std / age_norway_size ** (1 / 2)),\n",
    ")\n",
    "# то теоретическое значение, которое войдет в этот интервал, не повлечет отвержение H0 (при двусторонней альтернативе и пороге p-value=0.05)"
   ]
  },
  {
   "cell_type": "markdown",
   "id": "7041c7e1-77ae-4b84-a110-73f5bd0e1f65",
   "metadata": {},
   "source": [
    "### Парные наблюдения\n",
    "#### Парный t-test\n",
    "\n",
    "$H_0: \\mu_{after}=\\mu_{before}$ <br>\n",
    "$H_A: \\mu_{after} \\neq \\mu_{before}$ <br>\n",
    "$\\mu$ - mean <br>\n",
    "\n",
    "Допущения:\n",
    "\n",
    "- X (здесь и далее X - генеральная совокупность) имеет нормальное распределение\n",
    "- обе выборки представляют собой измерения одних и тех же объектов"
   ]
  },
  {
   "cell_type": "code",
   "execution_count": null,
   "id": "0eea9b6b-0edd-4587-bac0-3ae4e716d11f",
   "metadata": {},
   "outputs": [],
   "source": [
    "# TREATMENT\n",
    "#  T1   T2   DIFF\n",
    "# 2.7   2.9  0.2\n",
    "# 3.2   3.0  -0.2\n",
    "# 4.1   4.5  0.4\n",
    "# 2.9   3.2  0.3"
   ]
  },
  {
   "cell_type": "code",
   "execution_count": null,
   "id": "3304691b-36fe-4d9b-b34b-7770ae128428",
   "metadata": {},
   "outputs": [],
   "source": [
    "# далее сравниваем mean(DIFF) с 0 -> одновыборочный t-test, где DIFF - выборка, а теоретическое среднее - 0"
   ]
  },
  {
   "cell_type": "code",
   "execution_count": 17,
   "id": "5bb36b7b-f332-4972-8ac1-cdaf89413c9b",
   "metadata": {},
   "outputs": [
    {
     "data": {
      "text/plain": [
       "1.3308209261014035"
      ]
     },
     "execution_count": 17,
     "metadata": {},
     "output_type": "execute_result"
    }
   ],
   "source": [
    "diff = np.array([0.2, -0.2, 0.4, 0.3])\n",
    "\n",
    "diff_mean = diff.mean()\n",
    "diff_std = diff.std(ddof=1)\n",
    "n = diff.size\n",
    "\n",
    "theoretic_diff = 0\n",
    "\n",
    "df = n - 1\n",
    "\n",
    "statistic = (diff_mean - theoretic_diff) / (diff_std / n ** (1 / 2))\n",
    "statistic"
   ]
  },
  {
   "cell_type": "code",
   "execution_count": 18,
   "id": "c52056a1-bac6-47f5-b988-64ed03c8c0c7",
   "metadata": {},
   "outputs": [],
   "source": [
    "t_distrib = stats.t(df)"
   ]
  },
  {
   "cell_type": "code",
   "execution_count": 19,
   "id": "7d27e0f4-2591-408e-afaf-1dedf573177a",
   "metadata": {},
   "outputs": [
    {
     "data": {
      "text/plain": [
       "0.27535418453911603"
      ]
     },
     "execution_count": 19,
     "metadata": {},
     "output_type": "execute_result"
    }
   ],
   "source": [
    "t_distrib.cdf(-statistic) * 2  # p-value"
   ]
  },
  {
   "cell_type": "code",
   "execution_count": null,
   "id": "53c2bf93-30cc-4182-9472-b6fe48552137",
   "metadata": {},
   "outputs": [],
   "source": [
    "# CONTROL\n",
    "#  T1   T2\n",
    "# 2.7   ...\n",
    "# 3.2   ...\n",
    "# 4.1   ...\n",
    "# 2.9   ..."
   ]
  },
  {
   "cell_type": "markdown",
   "id": "15d40606-8194-432f-8d11-12877cdf73ec",
   "metadata": {},
   "source": [
    "#### Критерий знаков\n",
    "\n",
    "![](https://slideplayer.com/slide/6959440/24/images/4/Bernoulli+Distribution.jpg)\n",
    "\n",
    "![](https://slideplayer.com/slide/5269821/17/images/24/Binomial+Distribution+Formula.jpg)\n",
    "\n",
    "![](https://slideplayer.com/slide/17819162/106/images/60/4-7+Normal+Approximation+to+the+Binomial+and+Poisson+Distributions.jpg)\n",
    "\n",
    "$H_0: median_x = median_y$ <br>\n",
    "$H_A: median_x \\neq median_y$ <br>\n",
    "\n",
    "Допущения:\n",
    "\n",
    "- обе выборки представляют собой измерения одних и тех же объектов"
   ]
  },
  {
   "cell_type": "code",
   "execution_count": null,
   "id": "64c45f38-9bd3-462b-b77f-d9654d66578e",
   "metadata": {},
   "outputs": [],
   "source": [
    "# Bernoulli\n",
    "# - E(X) = p\n",
    "# - Var(X) = p * (1 - p)\n",
    "\n",
    "# Binomial\n",
    "# - E(X) = n * p\n",
    "# - Var(X) = n * p * (1 - p)"
   ]
  },
  {
   "cell_type": "code",
   "execution_count": null,
   "id": "47ba5eea-97f7-4a89-8f18-b20312d893b0",
   "metadata": {},
   "outputs": [],
   "source": [
    "#  T1   T2   IS_SUCCESS (T2 > T1)\n",
    "# 2.7   2.9     1\n",
    "# 3.2   3.0     0\n",
    "# 4.1   4.5     1\n",
    "# 2.9   3.2     1"
   ]
  },
  {
   "cell_type": "code",
   "execution_count": 8,
   "id": "323d17f4-d617-48bb-b2d4-7cb647be6f5f",
   "metadata": {},
   "outputs": [],
   "source": [
    "statistic = 3  # число успехов"
   ]
  },
  {
   "cell_type": "code",
   "execution_count": 12,
   "id": "d2963445-37b6-4d11-b970-09d000c7aa44",
   "metadata": {},
   "outputs": [],
   "source": [
    "# binom\n",
    "n = 4\n",
    "p = 0.5"
   ]
  },
  {
   "cell_type": "code",
   "execution_count": null,
   "id": "528e7315-7d4e-4304-9226-ab08068b467c",
   "metadata": {},
   "outputs": [],
   "source": [
    "# все исходы:\n",
    "# 0, 1, 2, 3, 4\n",
    "\n",
    "# E(X) = 2"
   ]
  },
  {
   "cell_type": "code",
   "execution_count": null,
   "id": "8a25d8b7-92bd-4e76-8bf8-81b5a835c65e",
   "metadata": {},
   "outputs": [],
   "source": [
    "# что такое такое же или более экстремальное?\n",
    "# в большую сторону: 0, 1, 2, [3, 4]\n",
    "# в меньшую сторону: [0, 1], 2, 3, 4\n",
    "# в обе:             [0, 1], 2, [3, 4]"
   ]
  },
  {
   "cell_type": "code",
   "execution_count": 13,
   "id": "ba642581-88be-480d-ab41-3dbf2827dfed",
   "metadata": {},
   "outputs": [],
   "source": [
    "binom_distrib = stats.binom(n, p)"
   ]
  },
  {
   "cell_type": "code",
   "execution_count": 14,
   "id": "bb9c5ccb-4611-4798-8da0-0bd92e9e43d0",
   "metadata": {},
   "outputs": [
    {
     "data": {
      "text/plain": [
       "0.6249999999999998"
      ]
     },
     "execution_count": 14,
     "metadata": {},
     "output_type": "execute_result"
    }
   ],
   "source": [
    "1 - binom_distrib.pmf(2)  # p-value (при двусторонней альтернативе)"
   ]
  },
  {
   "cell_type": "markdown",
   "id": "ea79bbf0-1f67-4cad-a1b1-c0e910cc899e",
   "metadata": {},
   "source": [
    "А есть вообще при таких условиях возожность хотя бы теоретически отвергнуть H0 (при пороге p-value = 0.05)?"
   ]
  },
  {
   "cell_type": "code",
   "execution_count": 15,
   "id": "78f2a479-755d-4407-a304-f99f03958547",
   "metadata": {},
   "outputs": [
    {
     "data": {
      "text/plain": [
       "0.125"
      ]
     },
     "execution_count": 15,
     "metadata": {},
     "output_type": "execute_result"
    }
   ],
   "source": [
    "# а какое вообще самое маленькое p-value можно тут получить? Будет ли оно меньше 0.05?\n",
    "\n",
    "binom_distrib.pmf([0, 4]).sum()  # самое маленькое p-value, которое мы можем получить"
   ]
  },
  {
   "cell_type": "code",
   "execution_count": 17,
   "id": "4fbb97b3-1ce4-434b-9958-885386aa4784",
   "metadata": {},
   "outputs": [
    {
     "data": {
      "text/plain": [
       "0.062499999999999986"
      ]
     },
     "execution_count": 17,
     "metadata": {},
     "output_type": "execute_result"
    }
   ],
   "source": [
    "stats.binom(5, 0.5).pmf([0, 5]).sum()"
   ]
  },
  {
   "cell_type": "markdown",
   "id": "386f53fd-6403-47df-86d0-98de7e19eb2e",
   "metadata": {},
   "source": [
    "**Задача.** Чтобы сдать экзамен, Николаю надо ответить правильно по крайней мере на 3 вопроса из 6. В каждом вопросе 4 варианта ответов (при единственно верном). Какова вероятность, что Николай сможет сдать экзамен не готовясь?"
   ]
  },
  {
   "cell_type": "code",
   "execution_count": 9,
   "id": "f382e40a-4a58-47a7-bec9-60165be84321",
   "metadata": {},
   "outputs": [],
   "source": [
    "n = 6  # количество попыток\n",
    "p = 0.25  # вероятность успехов\n",
    "\n",
    "# надо посчитать суммарную вероятность 3, 4, 5 и 6 успехов\n",
    "binom_distrib = stats.binom(n, p)"
   ]
  },
  {
   "cell_type": "code",
   "execution_count": 10,
   "id": "b437ce51-f968-48d9-8cfa-f428e957b91a",
   "metadata": {},
   "outputs": [
    {
     "data": {
      "text/plain": [
       "0.1694335937499999"
      ]
     },
     "execution_count": 10,
     "metadata": {},
     "output_type": "execute_result"
    }
   ],
   "source": [
    "binom_distrib.pmf([3, 4, 5, 6]).sum()"
   ]
  },
  {
   "cell_type": "code",
   "execution_count": 11,
   "id": "4d74bc60-eb47-4d1d-a2e5-285a9e629783",
   "metadata": {},
   "outputs": [
    {
     "data": {
      "text/plain": [
       "0.17797851562499994"
      ]
     },
     "execution_count": 11,
     "metadata": {},
     "output_type": "execute_result"
    }
   ],
   "source": [
    "binom_distrib.pmf(0)"
   ]
  },
  {
   "cell_type": "markdown",
   "id": "2a2d20de-b973-4596-8326-2ccd4885fb6d",
   "metadata": {},
   "source": [
    "#### Парный критерий Уилкоксона\n",
    "\n",
    "$H_0: median_x = median_y$ <br>\n",
    "$H_A: median_x \\neq median_y$ <br>\n",
    "\n",
    "Допущения:\n",
    "\n",
    "- обе выборки представляют собой измерения одних и тех же объектов\n",
    "- значения разности более должы быть вариативны (т. е. не -1/0/1: для таких случаев лучше критерий знаков)\n",
    "- n >= 5. При этом случаи, когда разность равна 0, исключаются из подсчета статистики\n",
    "\n",
    "Подробнее см. [тут](https://medstatistic.ru/methods/methods3.html)."
   ]
  },
  {
   "cell_type": "code",
   "execution_count": null,
   "id": "4def4609-2100-4156-903a-046a1fda7e41",
   "metadata": {},
   "outputs": [],
   "source": [
    "#  T1   T2   DIFF  RANK\n",
    "# 2.7   2.9  0.2    1\n",
    "# 3.2   3.0  -0.2   0\n",
    "# 4.1   4.5  0.4    3\n",
    "# 2.9   3.2  0.3    2"
   ]
  },
  {
   "cell_type": "code",
   "execution_count": 18,
   "id": "a2374643-1ff3-44b9-849e-c9577f655498",
   "metadata": {},
   "outputs": [],
   "source": [
    "t1 = [2.7, 3.2, 4.1, 2.9]\n",
    "t2 = [2.9, 3.0, 4.5, 3.2]"
   ]
  },
  {
   "cell_type": "code",
   "execution_count": 19,
   "id": "a417ef85-4473-42ea-97cd-33d64d1dd433",
   "metadata": {},
   "outputs": [
    {
     "data": {
      "text/plain": [
       "TtestResult(statistic=-1.3308209261014028, pvalue=0.2753541845391162, df=3)"
      ]
     },
     "execution_count": 19,
     "metadata": {},
     "output_type": "execute_result"
    }
   ],
   "source": [
    "stats.ttest_rel(\n",
    "    t1,\n",
    "    t2,\n",
    "    alternative='two-sided'\n",
    ")"
   ]
  },
  {
   "cell_type": "code",
   "execution_count": 20,
   "id": "603d4f0b-0fe0-41fe-8e3c-ab5e3ce39fc0",
   "metadata": {},
   "outputs": [
    {
     "data": {
      "text/plain": [
       "WilcoxonResult(statistic=2.0, pvalue=0.375)"
      ]
     },
     "execution_count": 20,
     "metadata": {},
     "output_type": "execute_result"
    }
   ],
   "source": [
    "stats.wilcoxon(\n",
    "    t1,\n",
    "    t2,\n",
    "    alternative='two-sided'\n",
    ")"
   ]
  },
  {
   "cell_type": "code",
   "execution_count": null,
   "id": "d6437cb9-62d1-4294-9cb0-0008b1ded9ba",
   "metadata": {},
   "outputs": [],
   "source": [
    "# p-value\n",
    "# критерий знаков: 0.62\n",
    "# парный t-test:   0.28\n",
    "# wilcoxon:        0.375"
   ]
  },
  {
   "cell_type": "markdown",
   "id": "4ef51050-f3a0-4b2b-b5cb-2c2e8c6f9ac1",
   "metadata": {},
   "source": [
    "### Сравнение двух выборок\n",
    "#### Двухвыборочный t-test (не путать с парным)\n",
    "![](https://cdn1.qualitygurus.com/wp-content/uploads/2022/12/Two-sample-t-test-formulas.png?lossy=1&ssl=1)\n",
    "\n",
    "$H_0: \\mu_x = \\mu_y$ <br>\n",
    "$H_A: \\mu_x \\neq \\mu_y$ <br>\n",
    "\n",
    "Допущения:\n",
    "\n",
    "- X и Y имеют нормальное распределение\n",
    "\n",
    "**Как вы думаете, что будет, если вместо этого теста использовать парный критерий?**"
   ]
  },
  {
   "cell_type": "code",
   "execution_count": 3,
   "id": "2586c1f2-37ac-4e85-bfbb-380ba817e116",
   "metadata": {},
   "outputs": [],
   "source": [
    "age_male = data.loc[(data['cntry'] == 'Norway') & (data['gndr'] == 'Male'), 'agea'].values\n",
    "age_female = data.loc[(data['cntry'] == 'Norway') & (data['gndr'] == 'Female'), 'agea'].values"
   ]
  },
  {
   "cell_type": "code",
   "execution_count": 22,
   "id": "4362c364-0b92-49b4-b1ac-26e99b6d7772",
   "metadata": {},
   "outputs": [
    {
     "data": {
      "text/plain": [
       "(47.77574047954866, 46.65481481481481)"
      ]
     },
     "execution_count": 22,
     "metadata": {},
     "output_type": "execute_result"
    }
   ],
   "source": [
    "age_male.mean(), age_female.mean()"
   ]
  },
  {
   "cell_type": "code",
   "execution_count": 33,
   "id": "eed9d1b9-e5ca-44be-bfc0-fc266cc71518",
   "metadata": {},
   "outputs": [
    {
     "data": {
      "text/plain": [
       "TtestResult(statistic=1.1473481001455839, pvalue=0.2514363738928764, df=1381.943195299341)"
      ]
     },
     "execution_count": 33,
     "metadata": {},
     "output_type": "execute_result"
    }
   ],
   "source": [
    "stats.ttest_ind(\n",
    "    age_male,\n",
    "    age_female,\n",
    "    alternative='two-sided',\n",
    "    equal_var=False\n",
    ")"
   ]
  },
  {
   "cell_type": "markdown",
   "id": "ceedd4f5-4cec-42f5-bfd5-f9cdad9219e0",
   "metadata": {},
   "source": [
    "#### F-тест о равенстве дисперсий\n",
    "Имеется и непараметрический вариант: Levene test.\n",
    "![](https://image.slideserve.com/963492/f-test-example-solution1-l.jpg)\n",
    "\n",
    "Допущения:\n",
    "\n",
    "- X и Y имеют нормальное распределение"
   ]
  },
  {
   "cell_type": "code",
   "execution_count": null,
   "id": "d780d303-2c95-4986-86e4-d1f2773bcd77",
   "metadata": {},
   "outputs": [],
   "source": [
    "# только односторонняя альтернатива"
   ]
  },
  {
   "cell_type": "code",
   "execution_count": 25,
   "id": "2aabe50b-315c-4e41-a8b2-b32c1a25be73",
   "metadata": {},
   "outputs": [],
   "source": [
    "def f_test(sample1, sample2):\n",
    "    var1 = sample1.var(ddof=1)\n",
    "    var2 = sample2.var(ddof=1)\n",
    "\n",
    "    if var1 >= var2:\n",
    "        statistic = var1 / var2\n",
    "    else:\n",
    "        statistic = var2 / var1\n",
    "\n",
    "    df1 = sample1.size - 1\n",
    "    df2 = sample2.size - 1\n",
    "\n",
    "    f_distrib = stats.f(df1, df2)\n",
    "\n",
    "    p_value = 1 - f_distrib.cdf(statistic)\n",
    "\n",
    "    return statistic, p_value"
   ]
  },
  {
   "cell_type": "code",
   "execution_count": 26,
   "id": "3f3b64c8-6e9b-4c9c-a270-9aedcdcd85a5",
   "metadata": {},
   "outputs": [
    {
     "data": {
      "text/plain": [
       "(1.0892965881947765, 0.13087787094441605)"
      ]
     },
     "execution_count": 26,
     "metadata": {},
     "output_type": "execute_result"
    }
   ],
   "source": [
    "# проверим, имеем ли мы основание поставить True ниже в equal_var\n",
    "f_test(\n",
    "    age_male,\n",
    "    age_female\n",
    ")  # H0 о равенстве дисперсий не отвергаем, можно ставить True"
   ]
  },
  {
   "cell_type": "code",
   "execution_count": 27,
   "id": "66b6b60f-e23e-4af6-9f4b-ef409a1a8488",
   "metadata": {},
   "outputs": [
    {
     "data": {
      "text/plain": [
       "TtestResult(statistic=1.1461431790107866, pvalue=0.2519343265853811, df=1382.0)"
      ]
     },
     "execution_count": 27,
     "metadata": {},
     "output_type": "execute_result"
    }
   ],
   "source": [
    "stats.ttest_ind(\n",
    "    age_male,\n",
    "    age_female,\n",
    "    alternative='two-sided',\n",
    "    equal_var=True\n",
    ")"
   ]
  },
  {
   "cell_type": "code",
   "execution_count": 28,
   "id": "3da94321-ecc1-466e-ad5f-7eb498a01bd0",
   "metadata": {},
   "outputs": [
    {
     "data": {
      "text/plain": [
       "LeveneResult(statistic=2.173100611732319, pvalue=0.1406705603208207)"
      ]
     },
     "execution_count": 28,
     "metadata": {},
     "output_type": "execute_result"
    }
   ],
   "source": [
    "stats.levene(\n",
    "    age_male,\n",
    "    age_female\n",
    ")"
   ]
  },
  {
   "cell_type": "markdown",
   "id": "861a6bdc-5c50-49fa-a644-0c230915634f",
   "metadata": {},
   "source": [
    "#### Критерии Уилкоксона и Манна-Уитни\n",
    "![](images/wilcox.png)\n",
    "![](images/mann_whitney.png)"
   ]
  },
  {
   "cell_type": "code",
   "execution_count": 96,
   "id": "1c8b4a4b-d50d-49e4-ae6f-66099087a2ea",
   "metadata": {},
   "outputs": [
    {
     "data": {
      "text/plain": [
       "TtestResult(statistic=1.1473481001455839, pvalue=0.2514363738928764, df=1381.943195299341)"
      ]
     },
     "execution_count": 96,
     "metadata": {},
     "output_type": "execute_result"
    }
   ],
   "source": [
    "stats.ttest_ind(\n",
    "    age_male,\n",
    "    age_female,\n",
    "    alternative='two-sided',\n",
    "    equal_var=False\n",
    ")"
   ]
  },
  {
   "cell_type": "code",
   "execution_count": 97,
   "id": "36f0397c-3f12-4d57-aa40-5993a2c15424",
   "metadata": {},
   "outputs": [
    {
     "data": {
      "text/plain": [
       "MannwhitneyuResult(statistic=247264.0, pvalue=0.28312057544024005)"
      ]
     },
     "execution_count": 97,
     "metadata": {},
     "output_type": "execute_result"
    }
   ],
   "source": [
    "stats.mannwhitneyu(\n",
    "    age_male,\n",
    "    age_female,\n",
    "    alternative='two-sided',\n",
    ")"
   ]
  },
  {
   "cell_type": "markdown",
   "id": "e24bee9a-f8f7-4448-a837-521d470302ce",
   "metadata": {},
   "source": [
    "#### Критерий Колмогорова-Смирнова"
   ]
  },
  {
   "cell_type": "code",
   "execution_count": 98,
   "id": "1f9dd9f2-f1ea-4950-b515-ff569a7932fe",
   "metadata": {},
   "outputs": [
    {
     "data": {
      "text/plain": [
       "KstestResult(statistic=0.051210364101760435, pvalue=0.3100250775915103, statistic_location=65, statistic_sign=-1)"
      ]
     },
     "execution_count": 98,
     "metadata": {},
     "output_type": "execute_result"
    }
   ],
   "source": [
    "# возраст мужчин и женщин имеет равную дисперсию и средние. Может, эти две выборки пришли из одной и той же генеральной совокупности?\n",
    "\n",
    "# H0: из одного распределения\n",
    "# Ha: не из одного распределения\n",
    "stats.kstest(\n",
    "    age_male,\n",
    "    age_female\n",
    ")  # H0 нет оснований отвергнуть\n",
    "\n",
    "# исходя из всех проведенных тестов можно сказать, что возраст мужчин и женщин в Норвегии (на текущих данные) не отличается"
   ]
  },
  {
   "cell_type": "markdown",
   "id": "db1e3708-58de-4c0b-96c4-f56600d78b4b",
   "metadata": {},
   "source": [
    "### Сравнение многих выборок\n",
    "#### ANOVA (он же однофакторный дисперсионный анализ)\n",
    "![](https://i.pinimg.com/originals/eb/94/f9/eb94f9bae12be2d6617549bd22e7d216.jpg)\n",
    "\n",
    "![](./images/anova.png)\n",
    "\n",
    "$H_0: \\mu_{x_1} = \\mu_{x_2} = ... = \\mu_{x_n}, X \\sim N(\\mu, \\delta)$<br>\n",
    "$H_A: \\mu_{x_1} \\neq \\mu_{x_2} \\neq ... \\neq \\mu_{x_n}, X \\sim N(_, \\delta)$\n",
    "\n",
    "**Допущения.**\n",
    "1. Количественный непрерывный тип данных, дискретные данные менее желательны.\n",
    "2. Независимые между собой выборки.\n",
    "3. Нормальное распределение признака в генеральных совокупностях, из которых извлечены выборки.\n",
    "4. Равенство (гомогенность) дисперсий изучаемого признака в генеральных совокупностях, из которых извлечены выборки.\n",
    "5. Независимые наблюдения в каждой из выборок.\n",
    "\n",
    "**Вопрос.** Отличается ли вообще возраст во всех представленных в данных странах?"
   ]
  },
  {
   "cell_type": "code",
   "execution_count": 5,
   "id": "b1121b59-e345-43d9-a242-1aefa5fe010f",
   "metadata": {},
   "outputs": [
    {
     "data": {
      "text/html": [
       "<div>\n",
       "<style scoped>\n",
       "    .dataframe tbody tr th:only-of-type {\n",
       "        vertical-align: middle;\n",
       "    }\n",
       "\n",
       "    .dataframe tbody tr th {\n",
       "        vertical-align: top;\n",
       "    }\n",
       "\n",
       "    .dataframe thead th {\n",
       "        text-align: right;\n",
       "    }\n",
       "</style>\n",
       "<table border=\"1\" class=\"dataframe\">\n",
       "  <thead>\n",
       "    <tr style=\"text-align: right;\">\n",
       "      <th></th>\n",
       "      <th>cntry</th>\n",
       "      <th>netusoft</th>\n",
       "      <th>ppltrst</th>\n",
       "      <th>clsprty</th>\n",
       "      <th>rlgatnd</th>\n",
       "      <th>gndr</th>\n",
       "      <th>agea</th>\n",
       "      <th>tporgwk</th>\n",
       "    </tr>\n",
       "  </thead>\n",
       "  <tbody>\n",
       "    <tr>\n",
       "      <th>0</th>\n",
       "      <td>Belgium</td>\n",
       "      <td>Every day</td>\n",
       "      <td>6</td>\n",
       "      <td>No</td>\n",
       "      <td>Once a week</td>\n",
       "      <td>Female</td>\n",
       "      <td>16</td>\n",
       "      <td>Not applicable</td>\n",
       "    </tr>\n",
       "    <tr>\n",
       "      <th>1</th>\n",
       "      <td>Belgium</td>\n",
       "      <td>Every day</td>\n",
       "      <td>3</td>\n",
       "      <td>No</td>\n",
       "      <td>Never</td>\n",
       "      <td>Female</td>\n",
       "      <td>24</td>\n",
       "      <td>A private firm</td>\n",
       "    </tr>\n",
       "    <tr>\n",
       "      <th>2</th>\n",
       "      <td>Belgium</td>\n",
       "      <td>Every day</td>\n",
       "      <td>6</td>\n",
       "      <td>Yes</td>\n",
       "      <td>Never</td>\n",
       "      <td>Male</td>\n",
       "      <td>58</td>\n",
       "      <td>A private firm</td>\n",
       "    </tr>\n",
       "    <tr>\n",
       "      <th>3</th>\n",
       "      <td>Belgium</td>\n",
       "      <td>Every day</td>\n",
       "      <td>7</td>\n",
       "      <td>No</td>\n",
       "      <td>Never</td>\n",
       "      <td>Male</td>\n",
       "      <td>35</td>\n",
       "      <td>Other</td>\n",
       "    </tr>\n",
       "    <tr>\n",
       "      <th>4</th>\n",
       "      <td>Belgium</td>\n",
       "      <td>Every day</td>\n",
       "      <td>3</td>\n",
       "      <td>No</td>\n",
       "      <td>Never</td>\n",
       "      <td>Male</td>\n",
       "      <td>61</td>\n",
       "      <td>Other public sector (such as education and hea...</td>\n",
       "    </tr>\n",
       "  </tbody>\n",
       "</table>\n",
       "</div>"
      ],
      "text/plain": [
       "     cntry   netusoft  ppltrst clsprty      rlgatnd    gndr  agea  \\\n",
       "0  Belgium  Every day        6      No  Once a week  Female    16   \n",
       "1  Belgium  Every day        3      No        Never  Female    24   \n",
       "2  Belgium  Every day        6     Yes        Never    Male    58   \n",
       "3  Belgium  Every day        7      No        Never    Male    35   \n",
       "4  Belgium  Every day        3      No        Never    Male    61   \n",
       "\n",
       "                                             tporgwk  \n",
       "0                                     Not applicable  \n",
       "1                                     A private firm  \n",
       "2                                     A private firm  \n",
       "3                                              Other  \n",
       "4  Other public sector (such as education and hea...  "
      ]
     },
     "execution_count": 5,
     "metadata": {},
     "output_type": "execute_result"
    }
   ],
   "source": [
    "data.head()"
   ]
  },
  {
   "cell_type": "code",
   "execution_count": 101,
   "id": "be651997-fc3e-4d29-936a-d442d36279f0",
   "metadata": {},
   "outputs": [],
   "source": [
    "Xij = [series.values for group, series in data.groupby('cntry')['agea']]"
   ]
  },
  {
   "cell_type": "code",
   "execution_count": 100,
   "id": "4bef8c82-9765-4fa0-b2c2-62db1cc9602f",
   "metadata": {},
   "outputs": [
    {
     "data": {
      "text/plain": [
       "(50.8717870342068,\n",
       " array([49.02108434, 52.68146718, 50.17905405, 48.23954849, 51.68149117,\n",
       "        52.66921606, 49.55856325, 50.30888469, 50.60982659, 50.24376417,\n",
       "        53.56975381, 51.63011998, 51.30304956, 47.50043066, 48.67545076,\n",
       "        51.55855856, 47.22904624, 53.8661773 , 53.13083397, 49.35515548,\n",
       "        49.66825613, 55.71855761]))"
      ]
     },
     "execution_count": 100,
     "metadata": {},
     "output_type": "execute_result"
    }
   ],
   "source": [
    "# считаем средние\n",
    "mu = data['agea'].values.mean()\n",
    "mu_i = data.groupby('cntry')['agea'].mean().values\n",
    "mu, mu_i"
   ]
  },
  {
   "cell_type": "code",
   "execution_count": 104,
   "id": "d056fdd7-ee83-408d-87e7-0c1cddef846a",
   "metadata": {},
   "outputs": [],
   "source": [
    "s2_0 = np.concatenate([(xij - mui) ** 2 for xij, mui in zip(Xij, mu_i)]).sum() / (data.groupby('cntry').size().sum() - data['cntry'].nunique())"
   ]
  },
  {
   "cell_type": "code",
   "execution_count": 108,
   "id": "dec24bee-cd19-46c1-be5a-59da6f2178c6",
   "metadata": {},
   "outputs": [],
   "source": [
    "s2_1 = (data.groupby('cntry').size().values * (mu_i - mu) ** 2).sum() / (mu_i.size - 1)"
   ]
  },
  {
   "cell_type": "code",
   "execution_count": 109,
   "id": "a4b23ac5-9557-4cbc-9159-d04b807a7834",
   "metadata": {},
   "outputs": [
    {
     "data": {
      "text/plain": [
       "21.134386131194912"
      ]
     },
     "execution_count": 109,
     "metadata": {},
     "output_type": "execute_result"
    }
   ],
   "source": [
    "s2_1 / s2_0"
   ]
  },
  {
   "cell_type": "code",
   "execution_count": 110,
   "id": "0a7658a8-0833-4f79-9870-72784bf8c1cb",
   "metadata": {},
   "outputs": [
    {
     "data": {
      "text/plain": [
       "F_onewayResult(statistic=21.134386131194894, pvalue=2.623811625933467e-80)"
      ]
     },
     "execution_count": 110,
     "metadata": {},
     "output_type": "execute_result"
    }
   ],
   "source": [
    "stats.f_oneway(*Xij)  # H0 отвергается"
   ]
  },
  {
   "cell_type": "markdown",
   "id": "de33d7ae-0ba5-45b0-8e16-2ac75b5909ba",
   "metadata": {},
   "source": [
    "#### Kruskal Wallis Test (критерий Краскелла-Уоллиса)\n",
    "Минус допущение о нормальности генеральных совокупностей. Однако, этот критерий служит только для проверки сдвига!"
   ]
  },
  {
   "cell_type": "code",
   "execution_count": 111,
   "id": "fa3b48c7-128e-4f85-823e-17e0fe480486",
   "metadata": {},
   "outputs": [
    {
     "data": {
      "text/plain": [
       "KruskalResult(statistic=422.81394650307897, pvalue=1.7429411866934363e-76)"
      ]
     },
     "execution_count": 111,
     "metadata": {},
     "output_type": "execute_result"
    }
   ],
   "source": [
    "stats.kruskal(*Xij)  # H0 отвергается"
   ]
  },
  {
   "cell_type": "markdown",
   "id": "4f318b8f-27c3-44b7-9c2a-841e1ab86601",
   "metadata": {},
   "source": [
    "#### Бонус: поправка на множественное сравнение\n",
    "**Задача 1.** Представим, что нам надо сравнить среднюю ожидаемую продолжительность жизни в 10 регионах РФ. Сколько попарных сравнений нам надо сделать?"
   ]
  },
  {
   "cell_type": "code",
   "execution_count": 7,
   "id": "eb866e5d-a012-4c8a-a658-558d9685c395",
   "metadata": {},
   "outputs": [
    {
     "data": {
      "text/plain": [
       "45"
      ]
     },
     "execution_count": 7,
     "metadata": {},
     "output_type": "execute_result"
    }
   ],
   "source": [
    "np.arange(1, 10).sum()"
   ]
  },
  {
   "cell_type": "markdown",
   "id": "0a215c5d-ed01-4eef-aed0-66f3cb08f663",
   "metadata": {},
   "source": [
    "**Задача 2.** Пусть порог p-value для этих тестирований будет равен 0.05. Какая вероятность при этом пороге ни разу не совершить ошибку 1 рода за все 45 тестирований?"
   ]
  },
  {
   "cell_type": "code",
   "execution_count": 14,
   "id": "29effa96-f407-4f50-90b5-4ed2f41b329e",
   "metadata": {},
   "outputs": [
    {
     "data": {
      "text/plain": [
       "0.09944025698709248"
      ]
     },
     "execution_count": 14,
     "metadata": {},
     "output_type": "execute_result"
    }
   ],
   "source": [
    "# имеем 45 попыток. \"Успех\" - совершение ошибки 1 рода. Вероятность успеха - 0.05. Это биномиальные\n",
    "n = 45\n",
    "p = 0.05\n",
    "\n",
    "# надо посчитать вероятность ни разу не ошибиться -> P(X = 0)\n",
    "\n",
    "binom_distrib = stats.binom(n, p)\n",
    "binom_distrib.pmf(0)"
   ]
  },
  {
   "cell_type": "code",
   "execution_count": 15,
   "id": "579beddf-f7b9-4a48-9cd1-c95d94385512",
   "metadata": {},
   "outputs": [
    {
     "data": {
      "text/plain": [
       "0.9005597430129075"
      ]
     },
     "execution_count": 15,
     "metadata": {},
     "output_type": "execute_result"
    }
   ],
   "source": [
    "1 - binom_distrib.pmf(0)  # но мы-то хотели 0.05!"
   ]
  },
  {
   "cell_type": "code",
   "execution_count": 17,
   "id": "322bf89f-c840-4cdd-9c07-57f937e3f747",
   "metadata": {},
   "outputs": [
    {
     "data": {
      "text/plain": [
       "(0.23551639812732422, 2.25)"
      ]
     },
     "execution_count": 17,
     "metadata": {},
     "output_type": "execute_result"
    }
   ],
   "source": [
    "binom_distrib.pmf(1), n * p"
   ]
  },
  {
   "cell_type": "markdown",
   "id": "2cc56dc6-0630-4f5a-957d-9cc810218ff4",
   "metadata": {},
   "source": [
    "**Задача 3.** Найти такое значение порога p-value (для i-го тестирования), что вероятность хоть раз совершить ошибку 1 рода будет 0.05 (как и задумывалось изначально)."
   ]
  },
  {
   "cell_type": "code",
   "execution_count": 19,
   "id": "1f7cee15-cfb5-431d-b5f3-ec1000ceb3f9",
   "metadata": {},
   "outputs": [],
   "source": [
    "p_current = p\n",
    "prob_not_mistake = stats.binom(n, p_current).pmf(0)\n",
    "\n",
    "while prob_not_mistake <= 0.95:\n",
    "    p_current += -1e-4\n",
    "    prob_not_mistake = stats.binom(n, p_current).pmf(0)"
   ]
  },
  {
   "cell_type": "code",
   "execution_count": 20,
   "id": "fe2f4d80-65b6-4794-98e5-a71c5077cdd7",
   "metadata": {},
   "outputs": [
    {
     "data": {
      "text/plain": [
       "0.0010999999999996015"
      ]
     },
     "execution_count": 20,
     "metadata": {},
     "output_type": "execute_result"
    }
   ],
   "source": [
    "p_current  # новое пороговое значение (такое значение эквивалентно порогу 0.05 при n=1)"
   ]
  },
  {
   "cell_type": "code",
   "execution_count": 21,
   "id": "71b266f4-2ffb-47c9-9aa2-f2820d1449b6",
   "metadata": {},
   "outputs": [
    {
     "data": {
      "text/plain": [
       "0.0011111111111111111"
      ]
     },
     "execution_count": 21,
     "metadata": {},
     "output_type": "execute_result"
    }
   ],
   "source": [
    "# поправка Bonferroni\n",
    "p / n"
   ]
  },
  {
   "cell_type": "markdown",
   "id": "59549df6-a2db-4f74-a3a9-9b5b230347f5",
   "metadata": {},
   "source": [
    "### Сравнение выборки с заданным распределением\n",
    "#### Полиномиальный тест"
   ]
  },
  {
   "cell_type": "code",
   "execution_count": null,
   "id": "e0cecf62-df0d-45f0-810f-ac63f826c25e",
   "metadata": {},
   "outputs": [],
   "source": []
  },
  {
   "attachments": {},
   "cell_type": "markdown",
   "id": "e8c2209d-9d6a-45b3-b5ab-e75d789c6b55",
   "metadata": {},
   "source": [
    "#### Критерий согласия Chi-squared\n",
    "![](https://cf2.ppt-online.org/files2/slide/p/p1fDJoE9zLG0R5OgWv4PtcSihTYa2unFX6qwdm8QVU/slide-38.jpg)\n",
    "\n",
    "Критерий согласия хи-квадрат применим, только если ожидаемое значение в каждой ячейке больше 5, а общее количество объектов не менее 20.\n",
    "\n",
    "**Задача.** Есть 5 магазинов. В каждом из них за день продано определенное количество товара. Надо проверить, есть ли разница между магазинам в продажах?"
   ]
  },
  {
   "cell_type": "code",
   "execution_count": 112,
   "id": "b5465cfd-d727-43a1-87bf-39fd00204937",
   "metadata": {},
   "outputs": [
    {
     "data": {
      "text/plain": [
       "17.5"
      ]
     },
     "execution_count": 112,
     "metadata": {},
     "output_type": "execute_result"
    }
   ],
   "source": [
    "# H0: значения пришли из одного дискретного распределения\n",
    "# Ha: !H0\n",
    "\n",
    "sales = np.array([60, 54, 32, 43, 71])\n",
    "\n",
    "sales_mean = sales.mean()\n",
    "\n",
    "statistic = (((sales - sales_mean) ** 2) / sales_mean).sum()\n",
    "statistic"
   ]
  },
  {
   "cell_type": "code",
   "execution_count": 113,
   "id": "7a655d8a-30c9-4544-ab93-6fc026a98d04",
   "metadata": {},
   "outputs": [],
   "source": [
    "chi2_distrib = stats.chi2(df=sales.size - 1)"
   ]
  },
  {
   "cell_type": "code",
   "execution_count": 114,
   "id": "0899cfb2-ea3d-48a4-8ec9-477c1eeab57c",
   "metadata": {},
   "outputs": [
    {
     "data": {
      "text/plain": [
       "0.0015449979198786101"
      ]
     },
     "execution_count": 114,
     "metadata": {},
     "output_type": "execute_result"
    }
   ],
   "source": [
    "1 - chi2_distrib.cdf(statistic)  # p-value"
   ]
  },
  {
   "cell_type": "markdown",
   "id": "42fecf1d-86fc-446e-ab6c-8c6fc26460fd",
   "metadata": {},
   "source": [
    "**Задача.** Есть ли значимые отличия в количестве респондентов в разных странах?"
   ]
  },
  {
   "cell_type": "code",
   "execution_count": 117,
   "id": "a39f7641-52c7-4dcb-a7a8-5aab77489c15",
   "metadata": {},
   "outputs": [
    {
     "data": {
      "text/plain": [
       "2999.450829466196"
      ]
     },
     "execution_count": 117,
     "metadata": {},
     "output_type": "execute_result"
    }
   ],
   "source": [
    "respondents_counts = data.groupby('cntry').size().values\n",
    "\n",
    "mean = respondents_counts.mean()\n",
    "\n",
    "statistic = (((respondents_counts - mean) ** 2) / mean).sum()\n",
    "statistic"
   ]
  },
  {
   "cell_type": "markdown",
   "id": "436817c6-01c2-422c-b0cb-e4e8734f8264",
   "metadata": {},
   "source": [
    "#### Критерий Колмогорова\n",
    "Проверка совпадения распределений генеральной совокупностей двух выборок:"
   ]
  },
  {
   "cell_type": "code",
   "execution_count": 5,
   "id": "98d2373a-b220-4a70-9ae6-b80716245fda",
   "metadata": {},
   "outputs": [
    {
     "data": {
      "image/png": "[encoded data removed]",
      "text/plain": [
       "<Figure size 640x480 with 1 Axes>"
      ]
     },
     "metadata": {},
     "output_type": "display_data"
    }
   ],
   "source": [
    "import seaborn as sns\n",
    "\n",
    "sns.histplot(data=data[data['cntry'] == 'Norway'], x='agea', hue='gndr');"
   ]
  },
  {
   "cell_type": "code",
   "execution_count": 118,
   "id": "bd5d22bb-130e-491a-b0fc-1ad00a92bf0b",
   "metadata": {},
   "outputs": [
    {
     "data": {
      "text/plain": [
       "KstestResult(statistic=0.06220106463965877, pvalue=0.00792628715801556, statistic_location=30, statistic_sign=1)"
      ]
     },
     "execution_count": 118,
     "metadata": {},
     "output_type": "execute_result"
    }
   ],
   "source": [
    "# распределен ли возраст мужчин в Норвегии нормально с параметрами sample_mean, sample_var\n",
    "stats.kstest(\n",
    "    rvs=age_male,\n",
    "    cdf=stats.norm.cdf, args=(age_male.mean(), age_male.std(ddof=1))\n",
    ")  # H0 отвергается -> возраст мужчин в Норвегии не распределен нормально"
   ]
  },
  {
   "cell_type": "markdown",
   "id": "42d7b7f4-fcee-4877-a6e2-8c4ba27de5e4",
   "metadata": {},
   "source": [
    "### Таблица сопряженности\n",
    "#### Точный тест Фишера\n",
    "Если count'ы малы."
   ]
  },
  {
   "cell_type": "code",
   "execution_count": 119,
   "id": "25de5062-8391-40ef-b1a0-0827b74b3216",
   "metadata": {},
   "outputs": [
    {
     "data": {
      "text/html": [
       "<div>\n",
       "<style scoped>\n",
       "    .dataframe tbody tr th:only-of-type {\n",
       "        vertical-align: middle;\n",
       "    }\n",
       "\n",
       "    .dataframe tbody tr th {\n",
       "        vertical-align: top;\n",
       "    }\n",
       "\n",
       "    .dataframe thead th {\n",
       "        text-align: right;\n",
       "    }\n",
       "</style>\n",
       "<table border=\"1\" class=\"dataframe\">\n",
       "  <thead>\n",
       "    <tr style=\"text-align: right;\">\n",
       "      <th>gndr</th>\n",
       "      <th>Female</th>\n",
       "      <th>Male</th>\n",
       "    </tr>\n",
       "    <tr>\n",
       "      <th>clsprty</th>\n",
       "      <th></th>\n",
       "      <th></th>\n",
       "    </tr>\n",
       "  </thead>\n",
       "  <tbody>\n",
       "    <tr>\n",
       "      <th>No</th>\n",
       "      <td>230</td>\n",
       "      <td>237</td>\n",
       "    </tr>\n",
       "    <tr>\n",
       "      <th>Yes</th>\n",
       "      <td>445</td>\n",
       "      <td>472</td>\n",
       "    </tr>\n",
       "  </tbody>\n",
       "</table>\n",
       "</div>"
      ],
      "text/plain": [
       "gndr     Female  Male\n",
       "clsprty              \n",
       "No          230   237\n",
       "Yes         445   472"
      ]
     },
     "execution_count": 119,
     "metadata": {},
     "output_type": "execute_result"
    }
   ],
   "source": [
    "crosstab = pd.crosstab(data_norway['clsprty'], data_norway['gndr'])\n",
    "crosstab"
   ]
  },
  {
   "cell_type": "code",
   "execution_count": 122,
   "id": "94e0fc17-5927-43ed-af8a-6b004ac6cde9",
   "metadata": {},
   "outputs": [
    {
     "data": {
      "text/plain": [
       "SignificanceResult(statistic=1.0293462286066468, pvalue=0.8201536989824305)"
      ]
     },
     "execution_count": 122,
     "metadata": {},
     "output_type": "execute_result"
    }
   ],
   "source": [
    "stats.fisher_exact(crosstab)"
   ]
  },
  {
   "cell_type": "markdown",
   "id": "8d33a1f8-10c9-4766-8ff2-39e9530c1ea3",
   "metadata": {},
   "source": [
    "#### Критерий Chi-squared\n",
    "![](https://www.statstest.com/wp-content/uploads/2020/10/Chi-Square-Test-of-Independence-1.jpg)\n",
    "\n",
    "Теперь рассматриваем взаимодействие двух категориальных переменных."
   ]
  },
  {
   "cell_type": "code",
   "execution_count": 93,
   "id": "54743047-4e35-4942-a0f6-f3d6f5419e8d",
   "metadata": {},
   "outputs": [
    {
     "data": {
      "text/html": [
       "<div>\n",
       "<style scoped>\n",
       "    .dataframe tbody tr th:only-of-type {\n",
       "        vertical-align: middle;\n",
       "    }\n",
       "\n",
       "    .dataframe tbody tr th {\n",
       "        vertical-align: top;\n",
       "    }\n",
       "\n",
       "    .dataframe thead th {\n",
       "        text-align: right;\n",
       "    }\n",
       "</style>\n",
       "<table border=\"1\" class=\"dataframe\">\n",
       "  <thead>\n",
       "    <tr style=\"text-align: right;\">\n",
       "      <th></th>\n",
       "      <th>cntry</th>\n",
       "      <th>netusoft</th>\n",
       "      <th>ppltrst</th>\n",
       "      <th>clsprty</th>\n",
       "      <th>rlgatnd</th>\n",
       "      <th>gndr</th>\n",
       "      <th>agea</th>\n",
       "      <th>tporgwk</th>\n",
       "    </tr>\n",
       "  </thead>\n",
       "  <tbody>\n",
       "    <tr>\n",
       "      <th>0</th>\n",
       "      <td>Norway</td>\n",
       "      <td>Every day</td>\n",
       "      <td>7</td>\n",
       "      <td>No</td>\n",
       "      <td>Less often</td>\n",
       "      <td>Male</td>\n",
       "      <td>55</td>\n",
       "      <td>A private firm</td>\n",
       "    </tr>\n",
       "    <tr>\n",
       "      <th>1</th>\n",
       "      <td>Norway</td>\n",
       "      <td>Every day</td>\n",
       "      <td>9</td>\n",
       "      <td>Yes</td>\n",
       "      <td>Less often</td>\n",
       "      <td>Female</td>\n",
       "      <td>58</td>\n",
       "      <td>Other public sector (such as education and hea...</td>\n",
       "    </tr>\n",
       "    <tr>\n",
       "      <th>2</th>\n",
       "      <td>Norway</td>\n",
       "      <td>Every day</td>\n",
       "      <td>8</td>\n",
       "      <td>No</td>\n",
       "      <td>Only on special holy days</td>\n",
       "      <td>Female</td>\n",
       "      <td>35</td>\n",
       "      <td>Other public sector (such as education and hea...</td>\n",
       "    </tr>\n",
       "    <tr>\n",
       "      <th>3</th>\n",
       "      <td>Norway</td>\n",
       "      <td>Every day</td>\n",
       "      <td>3</td>\n",
       "      <td>No</td>\n",
       "      <td>Never</td>\n",
       "      <td>Male</td>\n",
       "      <td>18</td>\n",
       "      <td>A private firm</td>\n",
       "    </tr>\n",
       "    <tr>\n",
       "      <th>4</th>\n",
       "      <td>Norway</td>\n",
       "      <td>Every day</td>\n",
       "      <td>3</td>\n",
       "      <td>Yes</td>\n",
       "      <td>Only on special holy days</td>\n",
       "      <td>Male</td>\n",
       "      <td>22</td>\n",
       "      <td>A private firm</td>\n",
       "    </tr>\n",
       "  </tbody>\n",
       "</table>\n",
       "</div>"
      ],
      "text/plain": [
       "    cntry   netusoft  ppltrst clsprty                    rlgatnd    gndr  \\\n",
       "0  Norway  Every day        7      No                 Less often    Male   \n",
       "1  Norway  Every day        9     Yes                 Less often  Female   \n",
       "2  Norway  Every day        8      No  Only on special holy days  Female   \n",
       "3  Norway  Every day        3      No                      Never    Male   \n",
       "4  Norway  Every day        3     Yes  Only on special holy days    Male   \n",
       "\n",
       "   agea                                            tporgwk  \n",
       "0    55                                     A private firm  \n",
       "1    58  Other public sector (such as education and hea...  \n",
       "2    35  Other public sector (such as education and hea...  \n",
       "3    18                                     A private firm  \n",
       "4    22                                     A private firm  "
      ]
     },
     "execution_count": 93,
     "metadata": {},
     "output_type": "execute_result"
    }
   ],
   "source": [
    "data_norway = data[data['cntry'] == 'Norway'].reset_index(drop=True)\n",
    "data_norway.head()"
   ]
  },
  {
   "cell_type": "code",
   "execution_count": null,
   "id": "cf2fb4ad-c6f8-4958-bdef-849d5abed923",
   "metadata": {},
   "outputs": [],
   "source": [
    "# clsprty - есть ли партия, которая вам ближе других?\n",
    "# gndr"
   ]
  },
  {
   "cell_type": "code",
   "execution_count": 94,
   "id": "3e2f48fb-e52b-49ad-8cc3-9b7dbeebb14d",
   "metadata": {},
   "outputs": [
    {
     "data": {
      "text/html": [
       "<div>\n",
       "<style scoped>\n",
       "    .dataframe tbody tr th:only-of-type {\n",
       "        vertical-align: middle;\n",
       "    }\n",
       "\n",
       "    .dataframe tbody tr th {\n",
       "        vertical-align: top;\n",
       "    }\n",
       "\n",
       "    .dataframe thead th {\n",
       "        text-align: right;\n",
       "    }\n",
       "</style>\n",
       "<table border=\"1\" class=\"dataframe\">\n",
       "  <thead>\n",
       "    <tr style=\"text-align: right;\">\n",
       "      <th>gndr</th>\n",
       "      <th>Female</th>\n",
       "      <th>Male</th>\n",
       "    </tr>\n",
       "    <tr>\n",
       "      <th>clsprty</th>\n",
       "      <th></th>\n",
       "      <th></th>\n",
       "    </tr>\n",
       "  </thead>\n",
       "  <tbody>\n",
       "    <tr>\n",
       "      <th>No</th>\n",
       "      <td>230</td>\n",
       "      <td>237</td>\n",
       "    </tr>\n",
       "    <tr>\n",
       "      <th>Yes</th>\n",
       "      <td>445</td>\n",
       "      <td>472</td>\n",
       "    </tr>\n",
       "  </tbody>\n",
       "</table>\n",
       "</div>"
      ],
      "text/plain": [
       "gndr     Female  Male\n",
       "clsprty              \n",
       "No          230   237\n",
       "Yes         445   472"
      ]
     },
     "execution_count": 94,
     "metadata": {},
     "output_type": "execute_result"
    }
   ],
   "source": [
    "crosstab = pd.crosstab(data_norway['clsprty'], data_norway['gndr'])\n",
    "crosstab"
   ]
  },
  {
   "cell_type": "code",
   "execution_count": 41,
   "id": "3b08f636-8020-4f2e-83e5-1d21f3b7bf24",
   "metadata": {},
   "outputs": [
    {
     "data": {
      "text/html": [
       "<div>\n",
       "<style scoped>\n",
       "    .dataframe tbody tr th:only-of-type {\n",
       "        vertical-align: middle;\n",
       "    }\n",
       "\n",
       "    .dataframe tbody tr th {\n",
       "        vertical-align: top;\n",
       "    }\n",
       "\n",
       "    .dataframe thead th {\n",
       "        text-align: right;\n",
       "    }\n",
       "</style>\n",
       "<table border=\"1\" class=\"dataframe\">\n",
       "  <thead>\n",
       "    <tr style=\"text-align: right;\">\n",
       "      <th>gndr</th>\n",
       "      <th>Female</th>\n",
       "      <th>Male</th>\n",
       "    </tr>\n",
       "    <tr>\n",
       "      <th>clsprty</th>\n",
       "      <th></th>\n",
       "      <th></th>\n",
       "    </tr>\n",
       "  </thead>\n",
       "  <tbody>\n",
       "    <tr>\n",
       "      <th>No</th>\n",
       "      <td>0.340741</td>\n",
       "      <td>0.334274</td>\n",
       "    </tr>\n",
       "    <tr>\n",
       "      <th>Yes</th>\n",
       "      <td>0.659259</td>\n",
       "      <td>0.665726</td>\n",
       "    </tr>\n",
       "  </tbody>\n",
       "</table>\n",
       "</div>"
      ],
      "text/plain": [
       "gndr       Female      Male\n",
       "clsprty                    \n",
       "No       0.340741  0.334274\n",
       "Yes      0.659259  0.665726"
      ]
     },
     "execution_count": 41,
     "metadata": {},
     "output_type": "execute_result"
    }
   ],
   "source": [
    "# какая доля среди женщин и мужчин отвечает \"Да\" на этот вопрос?\n",
    "pd.crosstab(data_norway['clsprty'], data_norway['gndr'], normalize=1)"
   ]
  },
  {
   "cell_type": "code",
   "execution_count": 42,
   "id": "43a1311e-902d-4848-9596-294c821a93a7",
   "metadata": {},
   "outputs": [],
   "source": [
    "# H0: признаки не связаны между собой\n",
    "# Ha: признаки связаны\n",
    "\n",
    "chi2_result = stats.chi2_contingency(crosstab)"
   ]
  },
  {
   "cell_type": "code",
   "execution_count": 43,
   "id": "2e91aff5-4c2e-4036-b498-0aa62c2878fc",
   "metadata": {},
   "outputs": [
    {
     "data": {
      "text/plain": [
       "array([[227.76372832, 239.23627168],\n",
       "       [447.23627168, 469.76372832]])"
      ]
     },
     "execution_count": 43,
     "metadata": {},
     "output_type": "execute_result"
    }
   ],
   "source": [
    "chi2_result.expected_freq"
   ]
  },
  {
   "cell_type": "code",
   "execution_count": 44,
   "id": "5ef33850-a5d6-49a1-8ad6-f2191ece6a0b",
   "metadata": {},
   "outputs": [
    {
     "data": {
      "text/plain": [
       "0.038994863771994"
      ]
     },
     "execution_count": 44,
     "metadata": {},
     "output_type": "execute_result"
    }
   ],
   "source": [
    "chi2_result.statistic"
   ]
  },
  {
   "cell_type": "code",
   "execution_count": 45,
   "id": "d3cd58e5-35af-4f29-b683-0aaa6f178b63",
   "metadata": {},
   "outputs": [
    {
     "data": {
      "text/plain": [
       "0.8434588386642923"
      ]
     },
     "execution_count": 45,
     "metadata": {},
     "output_type": "execute_result"
    }
   ],
   "source": [
    "chi2_result.pvalue"
   ]
  },
  {
   "cell_type": "markdown",
   "id": "5ed10682-085d-4779-9562-cf6d39a58a87",
   "metadata": {},
   "source": [
    "### Сравнение чисел наблюдений\n",
    "#### Число успехов при заданном числе испытаний\n",
    "Проверим предыдущую гипотезу, но другим способом. Пусть имеется $n$ успехов при $N$ испытаниях и $m$ успехов при $M$ испытаниях.\n",
    "\n",
    "$H_0:$ доля успехов в двух случаях одна и та же<br>\n",
    "$H_A:$ доли успехов в двух случаях различаются\n",
    "\n",
    "Тогда при верной $H_0:$\n",
    "\n",
    "$p=\\frac{n + m}{N + M}$<br><br>\n",
    "$D_1=\\frac{p(1-p)}{N}$<br>\n",
    "$D_2=\\frac{p(1-p)}{M}$<br><br>\n",
    "$Z=\\frac{\\frac{n}{N} - \\frac{m}{M}}{\\sqrt{D_1 + D_2}}$"
   ]
  },
  {
   "cell_type": "code",
   "execution_count": 128,
   "id": "1e1af1c8-fc91-4ad6-b2c8-3ddf37e8c30a",
   "metadata": {},
   "outputs": [],
   "source": [
    "# наш код здесь"
   ]
  },
  {
   "attachments": {},
   "cell_type": "markdown",
   "id": "00ff95d2-566b-44db-90af-854dee1c46b1",
   "metadata": {},
   "source": [
    "#### Число успехов при неопределенном максимуме\n",
    "![poisson](https://cf.ppt-online.org/files/slide/m/MI9r1WpmVsd8JtknYfC4KRUSoc5QGADiTuezyO/slide-9.jpg)\n",
    "**Задача.** Мальчик поймал за сезон 50 рыжих майских жуков и 33 чёрных. Можно ли утверждать, что рыжие встречаются в этом году чаще?\n",
    "\n",
    "$D_1=\\frac{n + m}{2}$<br>\n",
    "$D_2=\\frac{n + m}{2}$<br><br>\n",
    "\n",
    "$Z=\\frac{n - m}{\\sqrt{D_1 + D_2}}=\\frac{n - m}{\\sqrt{n + m}}$\n"
   ]
  },
  {
   "cell_type": "code",
   "execution_count": null,
   "id": "b7acae9c-a992-44d3-bf89-22540539934f",
   "metadata": {},
   "outputs": [],
   "source": [
    "# наш код здесь"
   ]
  },
  {
   "cell_type": "markdown",
   "id": "7f88cfd0-b007-4783-86a2-a5547c1117f7",
   "metadata": {},
   "source": [
    "### Сравнение коэффициента корреляции с нулем\n",
    "$H_0:$ корреляция равна 0<br>\n",
    "$H_A:$ корреляция не равна 0\n",
    "\n",
    "Связь двух числовых / ординальных признаков."
   ]
  },
  {
   "cell_type": "code",
   "execution_count": 47,
   "id": "2a7a40c9-a0fc-4908-ab98-ca5682312474",
   "metadata": {},
   "outputs": [
    {
     "data": {
      "text/html": [
       "<div>\n",
       "<style scoped>\n",
       "    .dataframe tbody tr th:only-of-type {\n",
       "        vertical-align: middle;\n",
       "    }\n",
       "\n",
       "    .dataframe tbody tr th {\n",
       "        vertical-align: top;\n",
       "    }\n",
       "\n",
       "    .dataframe thead th {\n",
       "        text-align: right;\n",
       "    }\n",
       "</style>\n",
       "<table border=\"1\" class=\"dataframe\">\n",
       "  <thead>\n",
       "    <tr style=\"text-align: right;\">\n",
       "      <th></th>\n",
       "      <th>cntry</th>\n",
       "      <th>netusoft</th>\n",
       "      <th>ppltrst</th>\n",
       "      <th>clsprty</th>\n",
       "      <th>rlgatnd</th>\n",
       "      <th>gndr</th>\n",
       "      <th>agea</th>\n",
       "      <th>tporgwk</th>\n",
       "    </tr>\n",
       "  </thead>\n",
       "  <tbody>\n",
       "    <tr>\n",
       "      <th>0</th>\n",
       "      <td>Norway</td>\n",
       "      <td>Every day</td>\n",
       "      <td>7</td>\n",
       "      <td>No</td>\n",
       "      <td>Less often</td>\n",
       "      <td>Male</td>\n",
       "      <td>55</td>\n",
       "      <td>A private firm</td>\n",
       "    </tr>\n",
       "    <tr>\n",
       "      <th>1</th>\n",
       "      <td>Norway</td>\n",
       "      <td>Every day</td>\n",
       "      <td>9</td>\n",
       "      <td>Yes</td>\n",
       "      <td>Less often</td>\n",
       "      <td>Female</td>\n",
       "      <td>58</td>\n",
       "      <td>Other public sector (such as education and hea...</td>\n",
       "    </tr>\n",
       "    <tr>\n",
       "      <th>2</th>\n",
       "      <td>Norway</td>\n",
       "      <td>Every day</td>\n",
       "      <td>8</td>\n",
       "      <td>No</td>\n",
       "      <td>Only on special holy days</td>\n",
       "      <td>Female</td>\n",
       "      <td>35</td>\n",
       "      <td>Other public sector (such as education and hea...</td>\n",
       "    </tr>\n",
       "    <tr>\n",
       "      <th>3</th>\n",
       "      <td>Norway</td>\n",
       "      <td>Every day</td>\n",
       "      <td>3</td>\n",
       "      <td>No</td>\n",
       "      <td>Never</td>\n",
       "      <td>Male</td>\n",
       "      <td>18</td>\n",
       "      <td>A private firm</td>\n",
       "    </tr>\n",
       "    <tr>\n",
       "      <th>4</th>\n",
       "      <td>Norway</td>\n",
       "      <td>Every day</td>\n",
       "      <td>3</td>\n",
       "      <td>Yes</td>\n",
       "      <td>Only on special holy days</td>\n",
       "      <td>Male</td>\n",
       "      <td>22</td>\n",
       "      <td>A private firm</td>\n",
       "    </tr>\n",
       "  </tbody>\n",
       "</table>\n",
       "</div>"
      ],
      "text/plain": [
       "    cntry   netusoft  ppltrst clsprty                    rlgatnd    gndr  \\\n",
       "0  Norway  Every day        7      No                 Less often    Male   \n",
       "1  Norway  Every day        9     Yes                 Less often  Female   \n",
       "2  Norway  Every day        8      No  Only on special holy days  Female   \n",
       "3  Norway  Every day        3      No                      Never    Male   \n",
       "4  Norway  Every day        3     Yes  Only on special holy days    Male   \n",
       "\n",
       "   agea                                            tporgwk  \n",
       "0    55                                     A private firm  \n",
       "1    58  Other public sector (such as education and hea...  \n",
       "2    35  Other public sector (such as education and hea...  \n",
       "3    18                                     A private firm  \n",
       "4    22                                     A private firm  "
      ]
     },
     "execution_count": 47,
     "metadata": {},
     "output_type": "execute_result"
    }
   ],
   "source": [
    "data_norway.head()"
   ]
  },
  {
   "cell_type": "code",
   "execution_count": null,
   "id": "2e813134-62c8-498c-b3ac-a61ef649630e",
   "metadata": {},
   "outputs": [],
   "source": [
    "# numeric & numeric\n",
    "# ppltrst - степень доверия случайным людям от 0 до 10\n",
    "# agea"
   ]
  },
  {
   "cell_type": "code",
   "execution_count": 48,
   "id": "e73b9b60-dbc2-4c8b-9783-0a0d9dc12b7f",
   "metadata": {},
   "outputs": [
    {
     "data": {
      "text/plain": [
       "PearsonRResult(statistic=0.15900242188850106, pvalue=2.7183164677164256e-09)"
      ]
     },
     "execution_count": 48,
     "metadata": {},
     "output_type": "execute_result"
    }
   ],
   "source": [
    "# X, Y должны происходить из генеральных совокупностей, распределенных нормально\n",
    "# H0: corr = 0\n",
    "# Ha: corr != 0\n",
    "\n",
    "stats.pearsonr(data_norway['ppltrst'], data_norway['agea'])  # корреляция доверия к людям и возраста слабая, но значимая"
   ]
  },
  {
   "cell_type": "code",
   "execution_count": 49,
   "id": "a05516a9-3506-4669-875e-81a091402469",
   "metadata": {},
   "outputs": [
    {
     "data": {
      "text/plain": [
       "SignificanceResult(statistic=0.17812730502508445, pvalue=2.486273813337128e-11)"
      ]
     },
     "execution_count": 49,
     "metadata": {},
     "output_type": "execute_result"
    }
   ],
   "source": [
    "# нет требования к нормальности\n",
    "stats.spearmanr(data_norway['ppltrst'], data_norway['agea'])"
   ]
  },
  {
   "cell_type": "code",
   "execution_count": 51,
   "id": "91fce64b-eaaf-4f77-b95f-44deff854833",
   "metadata": {},
   "outputs": [
    {
     "data": {
      "text/plain": [
       "SignificanceResult(statistic=0.1316238639494908, pvalue=1.5937051688443437e-11)"
      ]
     },
     "execution_count": 51,
     "metadata": {},
     "output_type": "execute_result"
    }
   ],
   "source": [
    "# нет требования к нормальности (чисто для рангов)\n",
    "stats.kendalltau(data_norway['ppltrst'], data_norway['agea'])"
   ]
  }
 ],
 "metadata": {
  "kernelspec": {
   "display_name": "Python 3 (ipykernel)",
   "language": "python",
   "name": "python3"
  },
  "language_info": {
   "codemirror_mode": {
    "name": "ipython",
    "version": 3
   },
   "file_extension": ".py",
   "mimetype": "text/x-python",
   "name": "python",
   "nbconvert_exporter": "python",
   "pygments_lexer": "ipython3",
   "version": "3.11.6"
  }
 },
 "nbformat": 4,
 "nbformat_minor": 5
}
