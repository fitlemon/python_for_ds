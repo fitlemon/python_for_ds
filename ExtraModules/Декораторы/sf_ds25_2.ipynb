{
 "cells": [
  {
   "cell_type": "markdown",
   "id": "0d7c1ac1",
   "metadata": {},
   "source": [
    "# Программирование на языке Python\n",
    "## Семинар 25. Функции, замыкание и декораторы\n",
    "Полезная информация для понимания темы:\n",
    "\n",
    "1. [Функции - это объекты первого класса](https://habr.com/ru/companies/otus/articles/725374/);\n",
    "2. [Декораторы](https://habr.com/ru/companies/otus/articles/727590/);\n",
    "3. [Некоторые встроенные декораторы](https://www.geeksforgeeks.org/top-python-built-in-decorators-that-optimize-python-code-significantly/).\n",
    "\n",
    "#### План занятия\n",
    "1. Немного теории;\n",
    "2. Некоторые полезные декораторы;\n",
    "3. Практикум: настроим логи с помощью декоратора.\n",
    "\n",
    "#### Лексическое замыкание\n",
    "Это способность функции \"запоминать\" состояние родительской функции.\n",
    "\n",
    "Рассмотрим на примере:"
   ]
  },
  {
   "cell_type": "code",
   "execution_count": 1,
   "id": "162fb173-8ce1-4277-8c95-f1a67f51849d",
   "metadata": {},
   "outputs": [],
   "source": [
    "def enclosing_function():  # функция высшего порядка\n",
    "    def show_local_state():\n",
    "        return 'local state'\n",
    "\n",
    "    return show_local_state"
   ]
  },
  {
   "cell_type": "code",
   "execution_count": 3,
   "id": "b51d44bc-edca-42fa-8fb0-82522e8528e1",
   "metadata": {},
   "outputs": [
    {
     "data": {
      "text/plain": [
       "'local state'"
      ]
     },
     "execution_count": 3,
     "metadata": {},
     "output_type": "execute_result"
    }
   ],
   "source": [
    "fun_from_fun = enclosing_function()  # функция сама по себе может быть возвращена другой функцией\n",
    "fun_from_fun()"
   ]
  },
  {
   "cell_type": "code",
   "execution_count": 4,
   "id": "a459d6b6-b937-409e-8feb-440ed55a93db",
   "metadata": {},
   "outputs": [
    {
     "data": {
      "text/plain": [
       "<function __main__.enclosing_function()>"
      ]
     },
     "execution_count": 4,
     "metadata": {},
     "output_type": "execute_result"
    }
   ],
   "source": [
    "enclosing_function"
   ]
  },
  {
   "cell_type": "code",
   "execution_count": 5,
   "id": "b17ca379-9e50-4ced-92c5-629fa0b715d2",
   "metadata": {},
   "outputs": [
    {
     "data": {
      "text/plain": [
       "<function __main__.enclosing_function.<locals>.show_local_state()>"
      ]
     },
     "execution_count": 5,
     "metadata": {},
     "output_type": "execute_result"
    }
   ],
   "source": [
    "fun_from_fun"
   ]
  },
  {
   "cell_type": "code",
   "execution_count": 7,
   "id": "bed418b9-bed9-4b7f-b6a7-fe628eb1d25a",
   "metadata": {},
   "outputs": [
    {
     "data": {
      "text/plain": [
       "False"
      ]
     },
     "execution_count": 7,
     "metadata": {},
     "output_type": "execute_result"
    }
   ],
   "source": [
    "callable(4)"
   ]
  },
  {
   "cell_type": "code",
   "execution_count": 8,
   "id": "7d2f01a6-25d5-4d8e-807a-3b8d7ec42e17",
   "metadata": {},
   "outputs": [],
   "source": [
    "class SomeCallable:\n",
    "    def __call__(self):\n",
    "        return 'you called your callable object'"
   ]
  },
  {
   "cell_type": "code",
   "execution_count": 10,
   "id": "5c5a602a-2768-4a4a-a253-cf7a27211b8e",
   "metadata": {},
   "outputs": [
    {
     "data": {
      "text/plain": [
       "'you called your callable object'"
      ]
     },
     "execution_count": 10,
     "metadata": {},
     "output_type": "execute_result"
    }
   ],
   "source": [
    "sc = SomeCallable()\n",
    "sc()"
   ]
  },
  {
   "cell_type": "code",
   "execution_count": 11,
   "id": "69d6db89-6677-4380-a94a-e17c18da216b",
   "metadata": {},
   "outputs": [
    {
     "data": {
      "text/plain": [
       "True"
      ]
     },
     "execution_count": 11,
     "metadata": {},
     "output_type": "execute_result"
    }
   ],
   "source": [
    "callable(sc)"
   ]
  },
  {
   "cell_type": "code",
   "execution_count": 12,
   "id": "46f72a64-9ba1-4dac-8113-e37c27fd6805",
   "metadata": {},
   "outputs": [
    {
     "data": {
      "text/plain": [
       "True"
      ]
     },
     "execution_count": 12,
     "metadata": {},
     "output_type": "execute_result"
    }
   ],
   "source": [
    "hasattr(sc, '__call__')"
   ]
  },
  {
   "cell_type": "markdown",
   "id": "dc5df11a-405a-4f64-b7c5-fcf245408faf",
   "metadata": {},
   "source": [
    "**Задание 1**\n",
    "\n",
    "Поменяйте предложенный ниже код, перенеся условную конструкцию в функцию."
   ]
  },
  {
   "cell_type": "code",
   "execution_count": 14,
   "id": "f2445f97-1bcb-4888-820c-3f8ae11b2e8c",
   "metadata": {},
   "outputs": [
    {
     "name": "stdout",
     "output_type": "stream",
     "text": [
      "892834282939493932\n"
     ]
    }
   ],
   "source": [
    "const = 48\n",
    "\n",
    "def int1_to_str(number: int) -> str:  # baseline function\n",
    "    return chr(number + const)\n",
    "\n",
    "def int_to_str(number: int) -> str:  # while\n",
    "    a = abs(number)\n",
    "\n",
    "    if number != 0:\n",
    "        result = ''\n",
    "        \n",
    "        while a != 0:  # a > 0\n",
    "            num = a % 10\n",
    "            result += int1_to_str(num)  # result = result + int1_to_str(num)\n",
    "            a //= 10  # a = a // 10\n",
    "        \n",
    "        result = result[::-1]  # result = '-' * (some_int < 0) + result[::-1]\n",
    "        \n",
    "        if number < 0:\n",
    "            result = '-' + result\n",
    "\n",
    "    else:\n",
    "        result = int1_to_str(number)  # result = '0'\n",
    "    \n",
    "    return result\n",
    "\n",
    "def int_to_str_r(number: int) -> str:  # recursion\n",
    "    if number < 10:\n",
    "        return int1_to_str(number)\n",
    "    else:\n",
    "        return int_to_str_r(number // 10) + int1_to_str(number % 10)\n",
    "\n",
    "\n",
    "# select appropriate function depending on number size\n",
    "number = 892834282939493932\n",
    "\n",
    "if number // 1e6 > 0:\n",
    "    result = int_to_str(number)\n",
    "else:\n",
    "    result = int_to_str_r(number)\n",
    "\n",
    "print(result)"
   ]
  },
  {
   "cell_type": "code",
   "execution_count": 15,
   "id": "7f574bab-5a04-44dd-b2de-10e6c7a883d6",
   "metadata": {},
   "outputs": [],
   "source": [
    "def get_converter(number):\n",
    "    const = 48\n",
    "\n",
    "    def int1_to_str(number: int) -> str:  # baseline function\n",
    "        return chr(number + const)\n",
    "    \n",
    "    def int_to_str(number: int) -> str:  # while\n",
    "        a = abs(number)\n",
    "    \n",
    "        if number != 0:\n",
    "            result = ''\n",
    "            \n",
    "            while a != 0:  # a > 0\n",
    "                num = a % 10\n",
    "                result += int1_to_str(num)  # result = result + int1_to_str(num)\n",
    "                a //= 10  # a = a // 10\n",
    "            \n",
    "            result = result[::-1]  # result = '-' * (some_int < 0) + result[::-1]\n",
    "            \n",
    "            if number < 0:\n",
    "                result = '-' + result\n",
    "    \n",
    "        else:\n",
    "            result = int1_to_str(number)  # result = '0'\n",
    "        \n",
    "        return result\n",
    "    \n",
    "    def int_to_str_r(number: int) -> str:  # recursion\n",
    "        if number < 10:\n",
    "            return int1_to_str(number)\n",
    "        else:\n",
    "            return int_to_str_r(number // 10) + int1_to_str(number % 10)\n",
    "\n",
    "    if number // 1e6 > 0:\n",
    "        return int_to_str\n",
    "    else:\n",
    "        return int_to_str_r "
   ]
  },
  {
   "cell_type": "code",
   "execution_count": 16,
   "id": "ab3c2baf-44c5-4909-a125-05dcb1bbac28",
   "metadata": {},
   "outputs": [],
   "source": [
    "converter = get_converter(number)"
   ]
  },
  {
   "cell_type": "code",
   "execution_count": 17,
   "id": "4f75b09b-4aba-4167-a76c-888eb9ea73d8",
   "metadata": {},
   "outputs": [
    {
     "data": {
      "text/plain": [
       "<function __main__.get_converter.<locals>.int_to_str(number: int) -> str>"
      ]
     },
     "execution_count": 17,
     "metadata": {},
     "output_type": "execute_result"
    }
   ],
   "source": [
    "converter"
   ]
  },
  {
   "cell_type": "code",
   "execution_count": 18,
   "id": "41275712-b520-4c64-bfe7-0634ddbaa807",
   "metadata": {},
   "outputs": [
    {
     "data": {
      "text/plain": [
       "'892834282939493932'"
      ]
     },
     "execution_count": 18,
     "metadata": {},
     "output_type": "execute_result"
    }
   ],
   "source": [
    "converter(number)"
   ]
  },
  {
   "cell_type": "markdown",
   "id": "ff93915f-d204-4547-a0a4-a4b2c69d1ff6",
   "metadata": {},
   "source": [
    "Теперь рассмотрим непосредственно замыкание:"
   ]
  },
  {
   "cell_type": "code",
   "execution_count": 20,
   "id": "3f70dd10-96b0-43d6-93c4-9560c6cf38d0",
   "metadata": {},
   "outputs": [],
   "source": [
    "def enclosing_function(mode):  # функция высшего порядка\n",
    "    if mode == 1:\n",
    "        local_state = 'local state 1'\n",
    "    elif mode == 2:\n",
    "        local_state = 'local state 2'\n",
    "        \n",
    "    def show_local_state():  # функция \"вытаскивает в себя\" локальное состояние функции enclosing_function через return\n",
    "        return local_state\n",
    "\n",
    "    return show_local_state"
   ]
  },
  {
   "cell_type": "code",
   "execution_count": 21,
   "id": "4c8e7ae4-aab4-437c-bbbb-339d0d83adaf",
   "metadata": {},
   "outputs": [
    {
     "data": {
      "text/plain": [
       "'local state 1'"
      ]
     },
     "execution_count": 21,
     "metadata": {},
     "output_type": "execute_result"
    }
   ],
   "source": [
    "local_func = enclosing_function(1)\n",
    "local_func()"
   ]
  },
  {
   "cell_type": "code",
   "execution_count": 22,
   "id": "f7ae3f05-c118-4f30-a642-2a688ec15684",
   "metadata": {},
   "outputs": [
    {
     "data": {
      "text/plain": [
       "<function __main__.enclosing_function.<locals>.show_local_state()>"
      ]
     },
     "execution_count": 22,
     "metadata": {},
     "output_type": "execute_result"
    }
   ],
   "source": [
    "local_func"
   ]
  },
  {
   "cell_type": "code",
   "execution_count": 23,
   "id": "8f842994-3300-4047-9440-144fd873a858",
   "metadata": {},
   "outputs": [
    {
     "data": {
      "text/plain": [
       "'local state 2'"
      ]
     },
     "execution_count": 23,
     "metadata": {},
     "output_type": "execute_result"
    }
   ],
   "source": [
    "local_func = enclosing_function(2)\n",
    "local_func()"
   ]
  },
  {
   "cell_type": "code",
   "execution_count": 24,
   "id": "716b1d49-6db9-4033-a4ee-a43e6a610029",
   "metadata": {},
   "outputs": [
    {
     "data": {
      "text/plain": [
       "<function __main__.enclosing_function.<locals>.show_local_state()>"
      ]
     },
     "execution_count": 24,
     "metadata": {},
     "output_type": "execute_result"
    }
   ],
   "source": [
    "local_func"
   ]
  },
  {
   "cell_type": "markdown",
   "id": "e314a9a9-e360-49c3-a971-b74124f8ce20",
   "metadata": {},
   "source": [
    "**Задание 2**\n",
    "\n",
    "Реализуйте ООП-решение задачи предыдущего семинара в парадигме функционального программирования. Обязательно используйте замыкание."
   ]
  },
  {
   "cell_type": "code",
   "execution_count": 35,
   "id": "d2575090-a0b4-4166-b719-52dffb848f07",
   "metadata": {},
   "outputs": [],
   "source": [
    "import numpy as np\n",
    "import pandas as pd\n",
    "\n",
    "def get_transformer(ttype='std'):\n",
    "    _valid_structures = [list, tuple, np.ndarray, pd.DataFrame]\n",
    "    _valid_dtypes = [int, float]\n",
    "\n",
    "    # fork\n",
    "    if ttype == 'std':\n",
    "        from std_functions import get_params, apply_params\n",
    "    else:\n",
    "        from norm_functions import get_params, apply_params\n",
    "\n",
    "    def validate_data(data):\n",
    "        # check data structure\n",
    "        structure = type(data)\n",
    "        if structure not in _valid_structures:\n",
    "            raise ValueError(f'invalid structure {structure}, use only authorized structures: {_valid_structures}!')\n",
    "        \n",
    "        # <data> -> np.ndarray\n",
    "        if structure in [list, tuple]:\n",
    "            data = np.array(data)\n",
    "        elif structure == pd.DataFrame:\n",
    "            data = data.values\n",
    "        \n",
    "        # check dtype\n",
    "        if data.dtype not in _valid_dtypes:\n",
    "            raise ValueError(f'invalid dtype {data.dtype}, use only authorized dtypes: {_valid_dtypes}!')\n",
    "\n",
    "        # shape\n",
    "        if data.ndim != 2:\n",
    "            raise ValueError(f'invalid shape {data.ndim}, must be 2!')\n",
    "\n",
    "        return data\n",
    "\n",
    "    def fit(data):\n",
    "        # validate data\n",
    "        data_valid = validate_data(data)\n",
    "        \n",
    "        # compute params\n",
    "        params = get_params(data_valid)\n",
    "            \n",
    "        # save params\n",
    "        return params\n",
    "\n",
    "    def transform(data, params) -> pd.DataFrame:\n",
    "        # validate data\n",
    "        data_valid = validate_data(data)\n",
    "\n",
    "        # apply params to data\n",
    "        data_transformed = apply_params(data_valid, params)\n",
    "\n",
    "        return data_transformed\n",
    "\n",
    "    return fit, transform"
   ]
  },
  {
   "cell_type": "code",
   "execution_count": 36,
   "id": "8d56474c-9b25-47af-8d46-9f06d47cf9d0",
   "metadata": {},
   "outputs": [],
   "source": [
    "X = np.random.uniform(-10, 10, (100, 2))\n",
    "y = np.random.normal(0, 1, 100)\n",
    "\n",
    "X_new = np.random.uniform(-10, 10, (50, 2))\n",
    "\n",
    "# main.py\n",
    "fit, transform = get_transformer()\n",
    "\n",
    "params = fit(X)\n",
    "X_transformed = transform(X, params)"
   ]
  },
  {
   "cell_type": "code",
   "execution_count": 37,
   "id": "36f1afd9-2d93-4fc4-93f2-e42f09aaaba4",
   "metadata": {
    "scrolled": true
   },
   "outputs": [
    {
     "data": {
      "text/plain": [
       "array([[ 0.17799244, -1.21908303],\n",
       "       [-0.9613307 ,  1.73313658],\n",
       "       [ 1.09113191,  0.81234865],\n",
       "       [ 0.89466438,  0.52373211],\n",
       "       [-0.52581817,  0.98691854],\n",
       "       [-1.52767193,  0.93017996],\n",
       "       [ 1.32084349, -0.72570074],\n",
       "       [-0.54925808,  0.55226873],\n",
       "       [ 0.72186514,  1.20508598],\n",
       "       [-0.00489674,  1.87178796],\n",
       "       [ 1.46746842,  0.65245267],\n",
       "       [ 1.12125366, -0.25405326],\n",
       "       [ 0.58458188, -1.09847009],\n",
       "       [-1.32104969, -0.41330441],\n",
       "       [ 1.44213494,  0.62396097],\n",
       "       [-0.09006467, -1.48701157],\n",
       "       [-0.66563935, -0.34649125],\n",
       "       [ 1.00961818, -0.14224949],\n",
       "       [-0.85206454,  0.15113212],\n",
       "       [-1.10470645,  1.29885297],\n",
       "       [ 0.92164715,  1.35331364],\n",
       "       [ 0.37163103,  1.40726751],\n",
       "       [-1.33195924,  0.32540815],\n",
       "       [-0.57733473,  1.79568603],\n",
       "       [ 0.40539095,  1.7730987 ],\n",
       "       [ 1.65169132, -0.30928663],\n",
       "       [ 0.89268624,  0.51670355],\n",
       "       [ 0.97959194, -0.65045565],\n",
       "       [-0.32579379, -1.05671529],\n",
       "       [-1.21234395, -1.14546305],\n",
       "       [-1.08050766,  0.44997093],\n",
       "       [-0.84139218, -0.07708129],\n",
       "       [ 1.19411335,  1.08626187],\n",
       "       [-1.0944204 , -1.30201864],\n",
       "       [-1.45806138, -1.14547131],\n",
       "       [-0.40428045,  1.17886232],\n",
       "       [-0.95521602, -1.28582195],\n",
       "       [-1.35355484, -1.16554235],\n",
       "       [-1.38450474,  0.52607031],\n",
       "       [-0.04523293,  1.79280697],\n",
       "       [-0.61692281,  0.89569268],\n",
       "       [-0.67856117, -1.42059528],\n",
       "       [ 0.18811651, -1.59824531],\n",
       "       [ 0.28707498, -0.52984199],\n",
       "       [-0.19329204, -0.42000902],\n",
       "       [-0.780821  , -0.53741156],\n",
       "       [ 0.61771574,  1.78072784],\n",
       "       [-1.37626819,  0.25943317],\n",
       "       [ 1.60803361, -0.23385487],\n",
       "       [ 0.77845798,  1.55580303],\n",
       "       [ 1.17293186, -1.24825073],\n",
       "       [-0.8299565 , -0.4266325 ],\n",
       "       [-0.52449347,  1.21938665],\n",
       "       [-0.90008773, -1.51263007],\n",
       "       [-1.45123205,  1.29222211],\n",
       "       [ 1.64383575, -1.42363333],\n",
       "       [ 0.95375957, -0.37115925],\n",
       "       [-0.41813373,  0.32716042],\n",
       "       [ 0.6001159 ,  0.18982547],\n",
       "       [ 1.70737675,  0.31345734],\n",
       "       [-0.28652123,  0.93133844],\n",
       "       [ 0.83494504, -0.17614593],\n",
       "       [-0.62472263, -1.69664903],\n",
       "       [-0.77751063, -0.51949684],\n",
       "       [-0.4672194 , -1.02784284],\n",
       "       [ 0.78297581,  0.26648344],\n",
       "       [-0.14514588, -1.13406301],\n",
       "       [-1.16517025, -0.37751769],\n",
       "       [-0.54461643, -1.40709543],\n",
       "       [ 1.80915209, -0.85118014],\n",
       "       [-1.50067628,  1.31329431],\n",
       "       [-1.35874293,  0.62676446],\n",
       "       [ 1.76783224, -0.1759067 ],\n",
       "       [-0.11090176, -0.01063876],\n",
       "       [-0.33534346, -0.04672437],\n",
       "       [ 0.17644228, -1.63491116],\n",
       "       [ 1.72560756,  1.67898332],\n",
       "       [ 0.34876081,  0.35959629],\n",
       "       [ 0.68067005, -0.0121618 ],\n",
       "       [-0.69484513,  0.86728935],\n",
       "       [ 0.37781958, -0.98079805],\n",
       "       [ 1.48501535, -1.42651403],\n",
       "       [ 0.42356182,  0.3007672 ],\n",
       "       [ 0.2799452 , -0.85330988],\n",
       "       [-1.55604207, -1.51375519],\n",
       "       [ 0.97160269, -0.95867039],\n",
       "       [-0.3242914 , -0.85092406],\n",
       "       [ 1.46154718,  0.15165756],\n",
       "       [ 1.5095217 , -0.20148112],\n",
       "       [ 0.06979601, -0.26603894],\n",
       "       [-0.33839664,  1.21671757],\n",
       "       [-0.35780311, -0.62692872],\n",
       "       [-1.01020324, -0.59653582],\n",
       "       [-0.40638701,  0.36985036],\n",
       "       [ 1.55508745,  0.79432259],\n",
       "       [-1.19481332, -0.69606356],\n",
       "       [-0.51964704, -1.34110107],\n",
       "       [-1.1582821 ,  0.84436354],\n",
       "       [ 1.59501934,  0.77233786],\n",
       "       [-1.34687409,  1.05415624]])"
      ]
     },
     "execution_count": 37,
     "metadata": {},
     "output_type": "execute_result"
    }
   ],
   "source": [
    "X_transformed"
   ]
  },
  {
   "cell_type": "markdown",
   "id": "e11c6937-2fea-4012-8866-36cf6ed05bfa",
   "metadata": {},
   "source": [
    "#### Декораторы\n",
    "Декоратор - это, в сущности, функция, которая принимает на вход другую функцию и возвращает ее модификацию:"
   ]
  },
  {
   "cell_type": "code",
   "execution_count": 38,
   "id": "474384fe-d68d-4fe5-81a6-bf889b708144",
   "metadata": {},
   "outputs": [],
   "source": [
    "from datetime import datetime\n",
    "\n",
    "def what_time_is_it():\n",
    "    now = datetime.now()\n",
    "\n",
    "    return now"
   ]
  },
  {
   "cell_type": "code",
   "execution_count": 39,
   "id": "d95a1ad9-47c8-40e7-999f-c48918678ec1",
   "metadata": {},
   "outputs": [
    {
     "data": {
      "text/plain": [
       "<function __main__.what_time_is_it()>"
      ]
     },
     "execution_count": 39,
     "metadata": {},
     "output_type": "execute_result"
    }
   ],
   "source": [
    "what_time_is_it"
   ]
  },
  {
   "cell_type": "code",
   "execution_count": 40,
   "id": "c61ab866-0234-46c5-a4ea-68ccc5600394",
   "metadata": {},
   "outputs": [
    {
     "data": {
      "text/plain": [
       "datetime.datetime(2023, 11, 27, 20, 32, 46, 279650)"
      ]
     },
     "execution_count": 40,
     "metadata": {},
     "output_type": "execute_result"
    }
   ],
   "source": [
    "what_time_is_it()"
   ]
  },
  {
   "cell_type": "code",
   "execution_count": 41,
   "id": "34fb7c8d-5741-42ed-b367-44c6c4c2a65e",
   "metadata": {},
   "outputs": [],
   "source": [
    "def prettifier(func):\n",
    "    def wrapper():\n",
    "        now = func()\n",
    "        pretty_now = now.strftime('%d.%m.%Y %H:%M:%S')\n",
    "        \n",
    "        return pretty_now\n",
    "        \n",
    "    return wrapper"
   ]
  },
  {
   "cell_type": "markdown",
   "id": "7bf7ef1d-c576-4759-a553-bf4522142175",
   "metadata": {},
   "source": [
    "**БЕЗ СИНТАКСИЧЕСКОГО САХАРА:**"
   ]
  },
  {
   "cell_type": "code",
   "execution_count": 43,
   "id": "78d4bd62-fa80-4659-972b-a4cf24e4cc5e",
   "metadata": {},
   "outputs": [],
   "source": [
    "def what_time_is_it():\n",
    "    now = datetime.now()\n",
    "\n",
    "    return now\n",
    "\n",
    "what_time_is_it = prettifier(what_time_is_it)"
   ]
  },
  {
   "cell_type": "code",
   "execution_count": 44,
   "id": "97662024-d04c-4cc4-8f5c-a381fffa378b",
   "metadata": {},
   "outputs": [
    {
     "data": {
      "text/plain": [
       "<function __main__.prettifier.<locals>.wrapper()>"
      ]
     },
     "execution_count": 44,
     "metadata": {},
     "output_type": "execute_result"
    }
   ],
   "source": [
    "what_time_is_it"
   ]
  },
  {
   "cell_type": "markdown",
   "id": "d3332a73-864d-4bf4-ac06-3c23e1d16e7a",
   "metadata": {},
   "source": [
    "**С СИНТАКСИЧЕСКИМ САХАРОМ:**"
   ]
  },
  {
   "cell_type": "code",
   "execution_count": 47,
   "id": "0b98fcc8-046e-42ab-8fc1-d0c3b3637a47",
   "metadata": {},
   "outputs": [],
   "source": [
    "def what_time_is_it():\n",
    "    now = datetime.now()\n",
    "\n",
    "    return now"
   ]
  },
  {
   "cell_type": "code",
   "execution_count": 48,
   "id": "73804d8d-2633-444f-88b2-71b2b9c2fb02",
   "metadata": {},
   "outputs": [],
   "source": [
    "@prettifier\n",
    "def what_time_is_it():\n",
    "    now = datetime.now()\n",
    "\n",
    "    return now"
   ]
  },
  {
   "cell_type": "code",
   "execution_count": 49,
   "id": "ef4115cf-6c3f-499d-b6be-759765a13fc3",
   "metadata": {},
   "outputs": [
    {
     "data": {
      "text/plain": [
       "<function __main__.prettifier.<locals>.wrapper()>"
      ]
     },
     "execution_count": 49,
     "metadata": {},
     "output_type": "execute_result"
    }
   ],
   "source": [
    "what_time_is_it"
   ]
  },
  {
   "cell_type": "code",
   "execution_count": 50,
   "id": "48b22602-5791-44a9-b7ab-20d2d18ce037",
   "metadata": {},
   "outputs": [
    {
     "data": {
      "text/plain": [
       "'27.11.2023 20:38:08'"
      ]
     },
     "execution_count": 50,
     "metadata": {},
     "output_type": "execute_result"
    }
   ],
   "source": [
    "what_time_is_it()"
   ]
  },
  {
   "cell_type": "markdown",
   "id": "5fd0170f-54d8-4f6f-83ea-13b9df8f2301",
   "metadata": {},
   "source": [
    "А как с аргументами?"
   ]
  },
  {
   "cell_type": "code",
   "execution_count": 51,
   "id": "38bc9dab-8f6e-4634-9cd4-d7a6dcebb150",
   "metadata": {},
   "outputs": [],
   "source": [
    "from pathlib import Path\n",
    "import openpyxl\n",
    "\n",
    "def parse_info(path: Path) -> dict:\n",
    "    wb = openpyxl.load_workbook(path)\n",
    "    ws = wb.active\n",
    "\n",
    "    info_dict = {\n",
    "        (row[0].value, row[1].value): {'fio': row[2].value, 'email': row[3].value}\n",
    "        for row\n",
    "        in ws.iter_rows()\n",
    "        if row[0].value != 'Блок'\n",
    "    }\n",
    "\n",
    "    wb.close()\n",
    "\n",
    "    return info_dict"
   ]
  },
  {
   "cell_type": "code",
   "execution_count": 52,
   "id": "52436361-2633-4170-b306-8fd581015239",
   "metadata": {
    "scrolled": true
   },
   "outputs": [
    {
     "data": {
      "text/plain": [
       "{('Блок 1', 'Департамент A'): {'fio': 'Довгополый Иоанн Алексеевич',\n",
       "  'email': 'ioannundseineigentum@gmail.com'},\n",
       " ('Блок 1', 'Департамент B'): {'fio': 'Довгополый Иоанн Алексеевич',\n",
       "  'email': 'ioannundseineigentum@gmail.com'},\n",
       " ('Блок 1', 'Департамент C'): {'fio': 'Довгополый Иоанн Алексеевич',\n",
       "  'email': 'ioannundseineigentum@gmail.com'},\n",
       " ('Блок 2', 'Департамент A'): {'fio': 'Довгополый Иоанн Алексеевич',\n",
       "  'email': 'ioannundseineigentum@gmail.com'},\n",
       " ('Блок 2', 'Департамент B'): {'fio': 'Довгополый Иоанн Алексеевич',\n",
       "  'email': 'ioannundseineigentum@gmail.com'},\n",
       " ('Блок 2', 'Департамент C'): {'fio': 'Довгополый Иоанн Алексеевич',\n",
       "  'email': 'ioannundseineigentum@gmail.com'},\n",
       " ('Блок 2', 'Департамент D'): {'fio': 'Довгополый Иоанн Алексеевич',\n",
       "  'email': 'ioannundseineigentum@gmail.com'},\n",
       " ('Блок 2', 'Департамент E'): {'fio': 'Довгополый Иоанн Алексеевич',\n",
       "  'email': 'ioannundseineigentum@gmail.com'},\n",
       " ('Блок 2', 'Департамент F'): {'fio': 'Довгополый Иоанн Алексеевич',\n",
       "  'email': 'ioannundseineigentum@gmail.com'},\n",
       " ('Блок 2', 'Департамент G'): {'fio': 'Довгополый Иоанн Алексеевич',\n",
       "  'email': 'ioannundseineigentum@gmail.com'},\n",
       " ('Блок 3', 'Департамент A'): {'fio': 'Довгополый Иоанн Алексеевич',\n",
       "  'email': 'ioannundseineigentum@gmail.com'},\n",
       " ('Блок 3', 'Департамент B'): {'fio': 'Довгополый Иоанн Алексеевич',\n",
       "  'email': 'ioannundseineigentum@gmail.com'},\n",
       " ('Блок 4', 'Департамент A'): {'fio': 'Довгополый Иоанн Алексеевич',\n",
       "  'email': 'ioannundseineigentum@gmail.com'},\n",
       " ('Блок 5', 'Департамент A'): {'fio': 'Довгополый Иоанн Алексеевич',\n",
       "  'email': 'ioannundseineigentum@gmail.com'},\n",
       " ('Блок 5', 'Департамент B'): {'fio': 'Довгополый Иоанн Алексеевич',\n",
       "  'email': 'ioannundseineigentum@gmail.com'},\n",
       " ('Блок 5', 'Департамент C'): {'fio': 'Довгополый Иоанн Алексеевич',\n",
       "  'email': 'ioannundseineigentum@gmail.com'},\n",
       " ('Блок 5', 'Департамент D'): {'fio': 'Довгополый Иоанн Алексеевич',\n",
       "  'email': 'ioannundseineigentum@gmail.com'},\n",
       " ('Блок 5', 'Департамент E'): {'fio': 'Довгополый Иоанн Алексеевич',\n",
       "  'email': 'ioannundseineigentum@gmail.com'},\n",
       " ('Блок 5', 'Департамент F'): {'fio': 'Довгополый Иоанн Алексеевич',\n",
       "  'email': 'ioannundseineigentum@gmail.com'},\n",
       " ('Блок 5', 'Департамент G'): {'fio': 'Довгополый Иоанн Алексеевич',\n",
       "  'email': 'ioannundseineigentum@gmail.com'},\n",
       " ('Блок 5', 'Департамент H'): {'fio': 'Довгополый Иоанн Алексеевич',\n",
       "  'email': 'ioannundseineigentum@gmail.com'},\n",
       " ('Блок 5', 'Департамент I'): {'fio': 'Довгополый Иоанн Алексеевич',\n",
       "  'email': 'ioannundseineigentum@gmail.com'},\n",
       " ('Блок 5', 'Департамент J'): {'fio': 'Довгополый Иоанн Алексеевич',\n",
       "  'email': 'ioannundseineigentum@gmail.com'},\n",
       " ('Блок 5', 'Департамент K'): {'fio': 'Довгополый Иоанн Алексеевич',\n",
       "  'email': 'ioannundseineigentum@gmail.com'},\n",
       " ('Блок 5', 'Департамент L'): {'fio': 'Довгополый Иоанн Алексеевич',\n",
       "  'email': 'ioannundseineigentum@gmail.com'},\n",
       " ('Блок 6', 'Департамент A'): {'fio': 'Довгополый Иоанн Алексеевич',\n",
       "  'email': 'ioannundseineigentum@gmail.com'},\n",
       " ('Блок 6', 'Департамент B'): {'fio': 'Довгополый Иоанн Алексеевич',\n",
       "  'email': 'ioannundseineigentum@gmail.com'},\n",
       " ('Блок 6', 'Департамент C'): {'fio': 'Довгополый Иоанн Алексеевич',\n",
       "  'email': 'ioannundseineigentum@gmail.com'},\n",
       " ('Блок 6', 'Департамент D'): {'fio': 'Довгополый Иоанн Алексеевич',\n",
       "  'email': 'ioannundseineigentum@gmail.com'},\n",
       " ('Блок 6', 'Департамент E'): {'fio': 'Довгополый Иоанн Алексеевич',\n",
       "  'email': 'ioannundseineigentum@gmail.com'},\n",
       " ('Блок 6', 'Департамент F'): {'fio': 'Довгополый Иоанн Алексеевич',\n",
       "  'email': 'ioannundseineigentum@gmail.com'},\n",
       " ('Блок 6', 'Департамент G'): {'fio': 'Довгополый Иоанн Алексеевич',\n",
       "  'email': 'ioannundseineigentum@gmail.com'},\n",
       " ('Блок 6', 'Департамент H'): {'fio': 'Довгополый Иоанн Алексеевич',\n",
       "  'email': 'ioannundseineigentum@gmail.com'},\n",
       " ('Блок 6', 'Департамент I'): {'fio': 'Довгополый Иоанн Алексеевич',\n",
       "  'email': 'ioannundseineigentum@gmail.com'},\n",
       " ('Блок 6', 'Департамент J'): {'fio': 'Довгополый Иоанн Алексеевич',\n",
       "  'email': 'ioannundseineigentum@gmail.com'},\n",
       " ('Блок 6', 'Департамент K'): {'fio': 'Довгополый Иоанн Алексеевич',\n",
       "  'email': 'ioannundseineigentum@gmail.com'},\n",
       " ('Блок 6', 'Департамент L'): {'fio': 'Довгополый Иоанн Алексеевич',\n",
       "  'email': 'ioannundseineigentum@gmail.com'},\n",
       " ('Блок 7', 'Департамент A'): {'fio': 'Довгополый Иоанн Алексеевич',\n",
       "  'email': 'ioannundseineigentum@gmail.com'},\n",
       " ('Блок 7', 'Департамент B'): {'fio': 'Довгополый Иоанн Алексеевич',\n",
       "  'email': 'ioannundseineigentum@gmail.com'},\n",
       " ('Блок 7', 'Департамент C'): {'fio': 'Довгополый Иоанн Алексеевич',\n",
       "  'email': 'ioannundseineigentum@gmail.com'},\n",
       " ('Блок 7', 'Департамент D'): {'fio': 'Довгополый Иоанн Алексеевич',\n",
       "  'email': 'ioannundseineigentum@gmail.com'},\n",
       " ('Блок 7', 'Департамент E'): {'fio': 'Довгополый Иоанн Алексеевич',\n",
       "  'email': 'ioannundseineigentum@gmail.com'},\n",
       " ('Блок 7', 'Департамент F'): {'fio': 'Довгополый Иоанн Алексеевич',\n",
       "  'email': 'ioannundseineigentum@gmail.com'},\n",
       " ('Блок 7', 'Департамент G'): {'fio': 'Довгополый Иоанн Алексеевич',\n",
       "  'email': 'ioannundseineigentum@gmail.com'},\n",
       " ('Блок 7', 'Департамент H'): {'fio': 'Довгополый Иоанн Алексеевич',\n",
       "  'email': 'ioannundseineigentum@gmail.com'},\n",
       " ('Блок 7', 'Департамент I'): {'fio': 'Довгополый Иоанн Алексеевич',\n",
       "  'email': 'ioannundseineigentum@gmail.com'},\n",
       " ('Блок 7', 'Департамент J'): {'fio': 'Довгополый Иоанн Алексеевич',\n",
       "  'email': 'ioannundseineigentum@gmail.com'},\n",
       " ('Блок 7', 'Департамент K'): {'fio': 'Довгополый Иоанн Алексеевич',\n",
       "  'email': 'ioannundseineigentum@gmail.com'},\n",
       " ('Блок 7', 'Департамент L'): {'fio': 'Довгополый Иоанн Алексеевич',\n",
       "  'email': 'ioannundseineigentum@gmail.com'},\n",
       " ('Блок 8', 'Департамент A'): {'fio': 'Довгополый Иоанн Алексеевич',\n",
       "  'email': 'ioannundseineigentum@gmail.com'},\n",
       " ('Блок 8', 'Департамент B'): {'fio': 'Довгополый Иоанн Алексеевич',\n",
       "  'email': 'ioannundseineigentum@gmail.com'},\n",
       " ('Блок 8', 'Департамент C'): {'fio': 'Довгополый Иоанн Алексеевич',\n",
       "  'email': 'ioannundseineigentum@gmail.com'},\n",
       " ('Блок 8', 'Департамент D'): {'fio': 'Довгополый Иоанн Алексеевич',\n",
       "  'email': 'ioannundseineigentum@gmail.com'},\n",
       " ('Блок 8', 'Департамент E'): {'fio': 'Довгополый Иоанн Алексеевич',\n",
       "  'email': 'ioannundseineigentum@gmail.com'},\n",
       " ('Блок 8', 'Департамент F'): {'fio': 'Довгополый Иоанн Алексеевич',\n",
       "  'email': 'ioannundseineigentum@gmail.com'},\n",
       " ('Блок 9', 'Департамент A'): {'fio': 'Довгополый Иоанн Алексеевич',\n",
       "  'email': 'ioannundseineigentum@gmail.com'},\n",
       " ('Блок 9', 'Департамент B'): {'fio': 'Довгополый Иоанн Алексеевич',\n",
       "  'email': 'ioannundseineigentum@gmail.com'}}"
      ]
     },
     "execution_count": 52,
     "metadata": {},
     "output_type": "execute_result"
    }
   ],
   "source": [
    "info_path = Path('../Занятие 5/sources/Справочник.xlsx')\n",
    "\n",
    "parse_info(info_path)"
   ]
  },
  {
   "cell_type": "code",
   "execution_count": 63,
   "id": "7df3074f-fc3a-4b48-9a69-fe4077bac881",
   "metadata": {},
   "outputs": [],
   "source": [
    "import pandas as pd\n",
    "\n",
    "def pandify(func):\n",
    "    def wrapper(*args, **kwargs):\n",
    "        dictlike = func(*args, **kwargs)\n",
    "        \n",
    "        list_to_pandas = [{'block': key[0], 'department': key[1], **value} for key, value in dictlike.items()]\n",
    "\n",
    "        df = pd.DataFrame(list_to_pandas)\n",
    "\n",
    "        return df\n",
    "\n",
    "    return wrapper"
   ]
  },
  {
   "cell_type": "code",
   "execution_count": 55,
   "id": "a862075f-8a5b-4ed4-b1c9-607d22c69679",
   "metadata": {},
   "outputs": [],
   "source": [
    "def std(*args, ddof=0):\n",
    "    mean = sum(args) / len(args)\n",
    "    std = (sum([(xi - mean) ** 2 for xi in args]) / (len(args) - ddof)) ** (1 / 2)\n",
    "    \n",
    "    return std"
   ]
  },
  {
   "cell_type": "code",
   "execution_count": 60,
   "id": "993c108c-a076-4940-bfff-de52c60c74bd",
   "metadata": {},
   "outputs": [],
   "source": [
    "args = [6, 7, 8]\n",
    "kwargs = {'ddof': 1}"
   ]
  },
  {
   "cell_type": "code",
   "execution_count": 62,
   "id": "06793368-6cb3-4a5a-8192-c8af84939c5d",
   "metadata": {},
   "outputs": [
    {
     "data": {
      "text/plain": [
       "1.0"
      ]
     },
     "execution_count": 62,
     "metadata": {},
     "output_type": "execute_result"
    }
   ],
   "source": [
    "std(*args, **kwargs)"
   ]
  },
  {
   "cell_type": "code",
   "execution_count": 58,
   "id": "fe5dc66f-e8ae-40e5-bbb4-164d290b3033",
   "metadata": {},
   "outputs": [
    {
     "data": {
      "text/plain": [
       "1.2909944487358056"
      ]
     },
     "execution_count": 58,
     "metadata": {},
     "output_type": "execute_result"
    }
   ],
   "source": [
    "std(1, 2, 3, 4, ddof=1)"
   ]
  },
  {
   "cell_type": "code",
   "execution_count": null,
   "id": "6bc23539-588e-4b51-bcd5-d7b9bca5949e",
   "metadata": {},
   "outputs": [],
   "source": []
  },
  {
   "cell_type": "code",
   "execution_count": 64,
   "id": "2f9fb340-ae64-4ba7-b399-36b0f92828e0",
   "metadata": {},
   "outputs": [],
   "source": [
    "@pandify\n",
    "def parse_info(path: Path) -> dict:\n",
    "    wb = openpyxl.load_workbook(path)\n",
    "    ws = wb.active\n",
    "\n",
    "    info_dict = {\n",
    "        (row[0].value, row[1].value): {'fio': row[2].value, 'email': row[3].value}\n",
    "        for row\n",
    "        in ws.iter_rows()\n",
    "        if row[0].value != 'Блок'\n",
    "    }\n",
    "\n",
    "    wb.close()\n",
    "\n",
    "    return info_dict"
   ]
  },
  {
   "cell_type": "code",
   "execution_count": 65,
   "id": "144fe90f-2739-4cd9-aceb-3a1cda34e832",
   "metadata": {
    "scrolled": true
   },
   "outputs": [
    {
     "data": {
      "text/html": [
       "<div>\n",
       "<style scoped>\n",
       "    .dataframe tbody tr th:only-of-type {\n",
       "        vertical-align: middle;\n",
       "    }\n",
       "\n",
       "    .dataframe tbody tr th {\n",
       "        vertical-align: top;\n",
       "    }\n",
       "\n",
       "    .dataframe thead th {\n",
       "        text-align: right;\n",
       "    }\n",
       "</style>\n",
       "<table border=\"1\" class=\"dataframe\">\n",
       "  <thead>\n",
       "    <tr style=\"text-align: right;\">\n",
       "      <th></th>\n",
       "      <th>block</th>\n",
       "      <th>department</th>\n",
       "      <th>fio</th>\n",
       "      <th>email</th>\n",
       "    </tr>\n",
       "  </thead>\n",
       "  <tbody>\n",
       "    <tr>\n",
       "      <th>0</th>\n",
       "      <td>Блок 1</td>\n",
       "      <td>Департамент A</td>\n",
       "      <td>Довгополый Иоанн Алексеевич</td>\n",
       "      <td>ioannundseineigentum@gmail.com</td>\n",
       "    </tr>\n",
       "    <tr>\n",
       "      <th>1</th>\n",
       "      <td>Блок 1</td>\n",
       "      <td>Департамент B</td>\n",
       "      <td>Довгополый Иоанн Алексеевич</td>\n",
       "      <td>ioannundseineigentum@gmail.com</td>\n",
       "    </tr>\n",
       "    <tr>\n",
       "      <th>2</th>\n",
       "      <td>Блок 1</td>\n",
       "      <td>Департамент C</td>\n",
       "      <td>Довгополый Иоанн Алексеевич</td>\n",
       "      <td>ioannundseineigentum@gmail.com</td>\n",
       "    </tr>\n",
       "    <tr>\n",
       "      <th>3</th>\n",
       "      <td>Блок 2</td>\n",
       "      <td>Департамент A</td>\n",
       "      <td>Довгополый Иоанн Алексеевич</td>\n",
       "      <td>ioannundseineigentum@gmail.com</td>\n",
       "    </tr>\n",
       "    <tr>\n",
       "      <th>4</th>\n",
       "      <td>Блок 2</td>\n",
       "      <td>Департамент B</td>\n",
       "      <td>Довгополый Иоанн Алексеевич</td>\n",
       "      <td>ioannundseineigentum@gmail.com</td>\n",
       "    </tr>\n",
       "    <tr>\n",
       "      <th>5</th>\n",
       "      <td>Блок 2</td>\n",
       "      <td>Департамент C</td>\n",
       "      <td>Довгополый Иоанн Алексеевич</td>\n",
       "      <td>ioannundseineigentum@gmail.com</td>\n",
       "    </tr>\n",
       "    <tr>\n",
       "      <th>6</th>\n",
       "      <td>Блок 2</td>\n",
       "      <td>Департамент D</td>\n",
       "      <td>Довгополый Иоанн Алексеевич</td>\n",
       "      <td>ioannundseineigentum@gmail.com</td>\n",
       "    </tr>\n",
       "    <tr>\n",
       "      <th>7</th>\n",
       "      <td>Блок 2</td>\n",
       "      <td>Департамент E</td>\n",
       "      <td>Довгополый Иоанн Алексеевич</td>\n",
       "      <td>ioannundseineigentum@gmail.com</td>\n",
       "    </tr>\n",
       "    <tr>\n",
       "      <th>8</th>\n",
       "      <td>Блок 2</td>\n",
       "      <td>Департамент F</td>\n",
       "      <td>Довгополый Иоанн Алексеевич</td>\n",
       "      <td>ioannundseineigentum@gmail.com</td>\n",
       "    </tr>\n",
       "    <tr>\n",
       "      <th>9</th>\n",
       "      <td>Блок 2</td>\n",
       "      <td>Департамент G</td>\n",
       "      <td>Довгополый Иоанн Алексеевич</td>\n",
       "      <td>ioannundseineigentum@gmail.com</td>\n",
       "    </tr>\n",
       "    <tr>\n",
       "      <th>10</th>\n",
       "      <td>Блок 3</td>\n",
       "      <td>Департамент A</td>\n",
       "      <td>Довгополый Иоанн Алексеевич</td>\n",
       "      <td>ioannundseineigentum@gmail.com</td>\n",
       "    </tr>\n",
       "    <tr>\n",
       "      <th>11</th>\n",
       "      <td>Блок 3</td>\n",
       "      <td>Департамент B</td>\n",
       "      <td>Довгополый Иоанн Алексеевич</td>\n",
       "      <td>ioannundseineigentum@gmail.com</td>\n",
       "    </tr>\n",
       "    <tr>\n",
       "      <th>12</th>\n",
       "      <td>Блок 4</td>\n",
       "      <td>Департамент A</td>\n",
       "      <td>Довгополый Иоанн Алексеевич</td>\n",
       "      <td>ioannundseineigentum@gmail.com</td>\n",
       "    </tr>\n",
       "    <tr>\n",
       "      <th>13</th>\n",
       "      <td>Блок 5</td>\n",
       "      <td>Департамент A</td>\n",
       "      <td>Довгополый Иоанн Алексеевич</td>\n",
       "      <td>ioannundseineigentum@gmail.com</td>\n",
       "    </tr>\n",
       "    <tr>\n",
       "      <th>14</th>\n",
       "      <td>Блок 5</td>\n",
       "      <td>Департамент B</td>\n",
       "      <td>Довгополый Иоанн Алексеевич</td>\n",
       "      <td>ioannundseineigentum@gmail.com</td>\n",
       "    </tr>\n",
       "    <tr>\n",
       "      <th>15</th>\n",
       "      <td>Блок 5</td>\n",
       "      <td>Департамент C</td>\n",
       "      <td>Довгополый Иоанн Алексеевич</td>\n",
       "      <td>ioannundseineigentum@gmail.com</td>\n",
       "    </tr>\n",
       "    <tr>\n",
       "      <th>16</th>\n",
       "      <td>Блок 5</td>\n",
       "      <td>Департамент D</td>\n",
       "      <td>Довгополый Иоанн Алексеевич</td>\n",
       "      <td>ioannundseineigentum@gmail.com</td>\n",
       "    </tr>\n",
       "    <tr>\n",
       "      <th>17</th>\n",
       "      <td>Блок 5</td>\n",
       "      <td>Департамент E</td>\n",
       "      <td>Довгополый Иоанн Алексеевич</td>\n",
       "      <td>ioannundseineigentum@gmail.com</td>\n",
       "    </tr>\n",
       "    <tr>\n",
       "      <th>18</th>\n",
       "      <td>Блок 5</td>\n",
       "      <td>Департамент F</td>\n",
       "      <td>Довгополый Иоанн Алексеевич</td>\n",
       "      <td>ioannundseineigentum@gmail.com</td>\n",
       "    </tr>\n",
       "    <tr>\n",
       "      <th>19</th>\n",
       "      <td>Блок 5</td>\n",
       "      <td>Департамент G</td>\n",
       "      <td>Довгополый Иоанн Алексеевич</td>\n",
       "      <td>ioannundseineigentum@gmail.com</td>\n",
       "    </tr>\n",
       "    <tr>\n",
       "      <th>20</th>\n",
       "      <td>Блок 5</td>\n",
       "      <td>Департамент H</td>\n",
       "      <td>Довгополый Иоанн Алексеевич</td>\n",
       "      <td>ioannundseineigentum@gmail.com</td>\n",
       "    </tr>\n",
       "    <tr>\n",
       "      <th>21</th>\n",
       "      <td>Блок 5</td>\n",
       "      <td>Департамент I</td>\n",
       "      <td>Довгополый Иоанн Алексеевич</td>\n",
       "      <td>ioannundseineigentum@gmail.com</td>\n",
       "    </tr>\n",
       "    <tr>\n",
       "      <th>22</th>\n",
       "      <td>Блок 5</td>\n",
       "      <td>Департамент J</td>\n",
       "      <td>Довгополый Иоанн Алексеевич</td>\n",
       "      <td>ioannundseineigentum@gmail.com</td>\n",
       "    </tr>\n",
       "    <tr>\n",
       "      <th>23</th>\n",
       "      <td>Блок 5</td>\n",
       "      <td>Департамент K</td>\n",
       "      <td>Довгополый Иоанн Алексеевич</td>\n",
       "      <td>ioannundseineigentum@gmail.com</td>\n",
       "    </tr>\n",
       "    <tr>\n",
       "      <th>24</th>\n",
       "      <td>Блок 5</td>\n",
       "      <td>Департамент L</td>\n",
       "      <td>Довгополый Иоанн Алексеевич</td>\n",
       "      <td>ioannundseineigentum@gmail.com</td>\n",
       "    </tr>\n",
       "    <tr>\n",
       "      <th>25</th>\n",
       "      <td>Блок 6</td>\n",
       "      <td>Департамент A</td>\n",
       "      <td>Довгополый Иоанн Алексеевич</td>\n",
       "      <td>ioannundseineigentum@gmail.com</td>\n",
       "    </tr>\n",
       "    <tr>\n",
       "      <th>26</th>\n",
       "      <td>Блок 6</td>\n",
       "      <td>Департамент B</td>\n",
       "      <td>Довгополый Иоанн Алексеевич</td>\n",
       "      <td>ioannundseineigentum@gmail.com</td>\n",
       "    </tr>\n",
       "    <tr>\n",
       "      <th>27</th>\n",
       "      <td>Блок 6</td>\n",
       "      <td>Департамент C</td>\n",
       "      <td>Довгополый Иоанн Алексеевич</td>\n",
       "      <td>ioannundseineigentum@gmail.com</td>\n",
       "    </tr>\n",
       "    <tr>\n",
       "      <th>28</th>\n",
       "      <td>Блок 6</td>\n",
       "      <td>Департамент D</td>\n",
       "      <td>Довгополый Иоанн Алексеевич</td>\n",
       "      <td>ioannundseineigentum@gmail.com</td>\n",
       "    </tr>\n",
       "    <tr>\n",
       "      <th>29</th>\n",
       "      <td>Блок 6</td>\n",
       "      <td>Департамент E</td>\n",
       "      <td>Довгополый Иоанн Алексеевич</td>\n",
       "      <td>ioannundseineigentum@gmail.com</td>\n",
       "    </tr>\n",
       "    <tr>\n",
       "      <th>30</th>\n",
       "      <td>Блок 6</td>\n",
       "      <td>Департамент F</td>\n",
       "      <td>Довгополый Иоанн Алексеевич</td>\n",
       "      <td>ioannundseineigentum@gmail.com</td>\n",
       "    </tr>\n",
       "    <tr>\n",
       "      <th>31</th>\n",
       "      <td>Блок 6</td>\n",
       "      <td>Департамент G</td>\n",
       "      <td>Довгополый Иоанн Алексеевич</td>\n",
       "      <td>ioannundseineigentum@gmail.com</td>\n",
       "    </tr>\n",
       "    <tr>\n",
       "      <th>32</th>\n",
       "      <td>Блок 6</td>\n",
       "      <td>Департамент H</td>\n",
       "      <td>Довгополый Иоанн Алексеевич</td>\n",
       "      <td>ioannundseineigentum@gmail.com</td>\n",
       "    </tr>\n",
       "    <tr>\n",
       "      <th>33</th>\n",
       "      <td>Блок 6</td>\n",
       "      <td>Департамент I</td>\n",
       "      <td>Довгополый Иоанн Алексеевич</td>\n",
       "      <td>ioannundseineigentum@gmail.com</td>\n",
       "    </tr>\n",
       "    <tr>\n",
       "      <th>34</th>\n",
       "      <td>Блок 6</td>\n",
       "      <td>Департамент J</td>\n",
       "      <td>Довгополый Иоанн Алексеевич</td>\n",
       "      <td>ioannundseineigentum@gmail.com</td>\n",
       "    </tr>\n",
       "    <tr>\n",
       "      <th>35</th>\n",
       "      <td>Блок 6</td>\n",
       "      <td>Департамент K</td>\n",
       "      <td>Довгополый Иоанн Алексеевич</td>\n",
       "      <td>ioannundseineigentum@gmail.com</td>\n",
       "    </tr>\n",
       "    <tr>\n",
       "      <th>36</th>\n",
       "      <td>Блок 6</td>\n",
       "      <td>Департамент L</td>\n",
       "      <td>Довгополый Иоанн Алексеевич</td>\n",
       "      <td>ioannundseineigentum@gmail.com</td>\n",
       "    </tr>\n",
       "    <tr>\n",
       "      <th>37</th>\n",
       "      <td>Блок 7</td>\n",
       "      <td>Департамент A</td>\n",
       "      <td>Довгополый Иоанн Алексеевич</td>\n",
       "      <td>ioannundseineigentum@gmail.com</td>\n",
       "    </tr>\n",
       "    <tr>\n",
       "      <th>38</th>\n",
       "      <td>Блок 7</td>\n",
       "      <td>Департамент B</td>\n",
       "      <td>Довгополый Иоанн Алексеевич</td>\n",
       "      <td>ioannundseineigentum@gmail.com</td>\n",
       "    </tr>\n",
       "    <tr>\n",
       "      <th>39</th>\n",
       "      <td>Блок 7</td>\n",
       "      <td>Департамент C</td>\n",
       "      <td>Довгополый Иоанн Алексеевич</td>\n",
       "      <td>ioannundseineigentum@gmail.com</td>\n",
       "    </tr>\n",
       "    <tr>\n",
       "      <th>40</th>\n",
       "      <td>Блок 7</td>\n",
       "      <td>Департамент D</td>\n",
       "      <td>Довгополый Иоанн Алексеевич</td>\n",
       "      <td>ioannundseineigentum@gmail.com</td>\n",
       "    </tr>\n",
       "    <tr>\n",
       "      <th>41</th>\n",
       "      <td>Блок 7</td>\n",
       "      <td>Департамент E</td>\n",
       "      <td>Довгополый Иоанн Алексеевич</td>\n",
       "      <td>ioannundseineigentum@gmail.com</td>\n",
       "    </tr>\n",
       "    <tr>\n",
       "      <th>42</th>\n",
       "      <td>Блок 7</td>\n",
       "      <td>Департамент F</td>\n",
       "      <td>Довгополый Иоанн Алексеевич</td>\n",
       "      <td>ioannundseineigentum@gmail.com</td>\n",
       "    </tr>\n",
       "    <tr>\n",
       "      <th>43</th>\n",
       "      <td>Блок 7</td>\n",
       "      <td>Департамент G</td>\n",
       "      <td>Довгополый Иоанн Алексеевич</td>\n",
       "      <td>ioannundseineigentum@gmail.com</td>\n",
       "    </tr>\n",
       "    <tr>\n",
       "      <th>44</th>\n",
       "      <td>Блок 7</td>\n",
       "      <td>Департамент H</td>\n",
       "      <td>Довгополый Иоанн Алексеевич</td>\n",
       "      <td>ioannundseineigentum@gmail.com</td>\n",
       "    </tr>\n",
       "    <tr>\n",
       "      <th>45</th>\n",
       "      <td>Блок 7</td>\n",
       "      <td>Департамент I</td>\n",
       "      <td>Довгополый Иоанн Алексеевич</td>\n",
       "      <td>ioannundseineigentum@gmail.com</td>\n",
       "    </tr>\n",
       "    <tr>\n",
       "      <th>46</th>\n",
       "      <td>Блок 7</td>\n",
       "      <td>Департамент J</td>\n",
       "      <td>Довгополый Иоанн Алексеевич</td>\n",
       "      <td>ioannundseineigentum@gmail.com</td>\n",
       "    </tr>\n",
       "    <tr>\n",
       "      <th>47</th>\n",
       "      <td>Блок 7</td>\n",
       "      <td>Департамент K</td>\n",
       "      <td>Довгополый Иоанн Алексеевич</td>\n",
       "      <td>ioannundseineigentum@gmail.com</td>\n",
       "    </tr>\n",
       "    <tr>\n",
       "      <th>48</th>\n",
       "      <td>Блок 7</td>\n",
       "      <td>Департамент L</td>\n",
       "      <td>Довгополый Иоанн Алексеевич</td>\n",
       "      <td>ioannundseineigentum@gmail.com</td>\n",
       "    </tr>\n",
       "    <tr>\n",
       "      <th>49</th>\n",
       "      <td>Блок 8</td>\n",
       "      <td>Департамент A</td>\n",
       "      <td>Довгополый Иоанн Алексеевич</td>\n",
       "      <td>ioannundseineigentum@gmail.com</td>\n",
       "    </tr>\n",
       "    <tr>\n",
       "      <th>50</th>\n",
       "      <td>Блок 8</td>\n",
       "      <td>Департамент B</td>\n",
       "      <td>Довгополый Иоанн Алексеевич</td>\n",
       "      <td>ioannundseineigentum@gmail.com</td>\n",
       "    </tr>\n",
       "    <tr>\n",
       "      <th>51</th>\n",
       "      <td>Блок 8</td>\n",
       "      <td>Департамент C</td>\n",
       "      <td>Довгополый Иоанн Алексеевич</td>\n",
       "      <td>ioannundseineigentum@gmail.com</td>\n",
       "    </tr>\n",
       "    <tr>\n",
       "      <th>52</th>\n",
       "      <td>Блок 8</td>\n",
       "      <td>Департамент D</td>\n",
       "      <td>Довгополый Иоанн Алексеевич</td>\n",
       "      <td>ioannundseineigentum@gmail.com</td>\n",
       "    </tr>\n",
       "    <tr>\n",
       "      <th>53</th>\n",
       "      <td>Блок 8</td>\n",
       "      <td>Департамент E</td>\n",
       "      <td>Довгополый Иоанн Алексеевич</td>\n",
       "      <td>ioannundseineigentum@gmail.com</td>\n",
       "    </tr>\n",
       "    <tr>\n",
       "      <th>54</th>\n",
       "      <td>Блок 8</td>\n",
       "      <td>Департамент F</td>\n",
       "      <td>Довгополый Иоанн Алексеевич</td>\n",
       "      <td>ioannundseineigentum@gmail.com</td>\n",
       "    </tr>\n",
       "    <tr>\n",
       "      <th>55</th>\n",
       "      <td>Блок 9</td>\n",
       "      <td>Департамент A</td>\n",
       "      <td>Довгополый Иоанн Алексеевич</td>\n",
       "      <td>ioannundseineigentum@gmail.com</td>\n",
       "    </tr>\n",
       "    <tr>\n",
       "      <th>56</th>\n",
       "      <td>Блок 9</td>\n",
       "      <td>Департамент B</td>\n",
       "      <td>Довгополый Иоанн Алексеевич</td>\n",
       "      <td>ioannundseineigentum@gmail.com</td>\n",
       "    </tr>\n",
       "  </tbody>\n",
       "</table>\n",
       "</div>"
      ],
      "text/plain": [
       "     block     department                          fio  \\\n",
       "0   Блок 1  Департамент A  Довгополый Иоанн Алексеевич   \n",
       "1   Блок 1  Департамент B  Довгополый Иоанн Алексеевич   \n",
       "2   Блок 1  Департамент C  Довгополый Иоанн Алексеевич   \n",
       "3   Блок 2  Департамент A  Довгополый Иоанн Алексеевич   \n",
       "4   Блок 2  Департамент B  Довгополый Иоанн Алексеевич   \n",
       "5   Блок 2  Департамент C  Довгополый Иоанн Алексеевич   \n",
       "6   Блок 2  Департамент D  Довгополый Иоанн Алексеевич   \n",
       "7   Блок 2  Департамент E  Довгополый Иоанн Алексеевич   \n",
       "8   Блок 2  Департамент F  Довгополый Иоанн Алексеевич   \n",
       "9   Блок 2  Департамент G  Довгополый Иоанн Алексеевич   \n",
       "10  Блок 3  Департамент A  Довгополый Иоанн Алексеевич   \n",
       "11  Блок 3  Департамент B  Довгополый Иоанн Алексеевич   \n",
       "12  Блок 4  Департамент A  Довгополый Иоанн Алексеевич   \n",
       "13  Блок 5  Департамент A  Довгополый Иоанн Алексеевич   \n",
       "14  Блок 5  Департамент B  Довгополый Иоанн Алексеевич   \n",
       "15  Блок 5  Департамент C  Довгополый Иоанн Алексеевич   \n",
       "16  Блок 5  Департамент D  Довгополый Иоанн Алексеевич   \n",
       "17  Блок 5  Департамент E  Довгополый Иоанн Алексеевич   \n",
       "18  Блок 5  Департамент F  Довгополый Иоанн Алексеевич   \n",
       "19  Блок 5  Департамент G  Довгополый Иоанн Алексеевич   \n",
       "20  Блок 5  Департамент H  Довгополый Иоанн Алексеевич   \n",
       "21  Блок 5  Департамент I  Довгополый Иоанн Алексеевич   \n",
       "22  Блок 5  Департамент J  Довгополый Иоанн Алексеевич   \n",
       "23  Блок 5  Департамент K  Довгополый Иоанн Алексеевич   \n",
       "24  Блок 5  Департамент L  Довгополый Иоанн Алексеевич   \n",
       "25  Блок 6  Департамент A  Довгополый Иоанн Алексеевич   \n",
       "26  Блок 6  Департамент B  Довгополый Иоанн Алексеевич   \n",
       "27  Блок 6  Департамент C  Довгополый Иоанн Алексеевич   \n",
       "28  Блок 6  Департамент D  Довгополый Иоанн Алексеевич   \n",
       "29  Блок 6  Департамент E  Довгополый Иоанн Алексеевич   \n",
       "30  Блок 6  Департамент F  Довгополый Иоанн Алексеевич   \n",
       "31  Блок 6  Департамент G  Довгополый Иоанн Алексеевич   \n",
       "32  Блок 6  Департамент H  Довгополый Иоанн Алексеевич   \n",
       "33  Блок 6  Департамент I  Довгополый Иоанн Алексеевич   \n",
       "34  Блок 6  Департамент J  Довгополый Иоанн Алексеевич   \n",
       "35  Блок 6  Департамент K  Довгополый Иоанн Алексеевич   \n",
       "36  Блок 6  Департамент L  Довгополый Иоанн Алексеевич   \n",
       "37  Блок 7  Департамент A  Довгополый Иоанн Алексеевич   \n",
       "38  Блок 7  Департамент B  Довгополый Иоанн Алексеевич   \n",
       "39  Блок 7  Департамент C  Довгополый Иоанн Алексеевич   \n",
       "40  Блок 7  Департамент D  Довгополый Иоанн Алексеевич   \n",
       "41  Блок 7  Департамент E  Довгополый Иоанн Алексеевич   \n",
       "42  Блок 7  Департамент F  Довгополый Иоанн Алексеевич   \n",
       "43  Блок 7  Департамент G  Довгополый Иоанн Алексеевич   \n",
       "44  Блок 7  Департамент H  Довгополый Иоанн Алексеевич   \n",
       "45  Блок 7  Департамент I  Довгополый Иоанн Алексеевич   \n",
       "46  Блок 7  Департамент J  Довгополый Иоанн Алексеевич   \n",
       "47  Блок 7  Департамент K  Довгополый Иоанн Алексеевич   \n",
       "48  Блок 7  Департамент L  Довгополый Иоанн Алексеевич   \n",
       "49  Блок 8  Департамент A  Довгополый Иоанн Алексеевич   \n",
       "50  Блок 8  Департамент B  Довгополый Иоанн Алексеевич   \n",
       "51  Блок 8  Департамент C  Довгополый Иоанн Алексеевич   \n",
       "52  Блок 8  Департамент D  Довгополый Иоанн Алексеевич   \n",
       "53  Блок 8  Департамент E  Довгополый Иоанн Алексеевич   \n",
       "54  Блок 8  Департамент F  Довгополый Иоанн Алексеевич   \n",
       "55  Блок 9  Департамент A  Довгополый Иоанн Алексеевич   \n",
       "56  Блок 9  Департамент B  Довгополый Иоанн Алексеевич   \n",
       "\n",
       "                             email  \n",
       "0   ioannundseineigentum@gmail.com  \n",
       "1   ioannundseineigentum@gmail.com  \n",
       "2   ioannundseineigentum@gmail.com  \n",
       "3   ioannundseineigentum@gmail.com  \n",
       "4   ioannundseineigentum@gmail.com  \n",
       "5   ioannundseineigentum@gmail.com  \n",
       "6   ioannundseineigentum@gmail.com  \n",
       "7   ioannundseineigentum@gmail.com  \n",
       "8   ioannundseineigentum@gmail.com  \n",
       "9   ioannundseineigentum@gmail.com  \n",
       "10  ioannundseineigentum@gmail.com  \n",
       "11  ioannundseineigentum@gmail.com  \n",
       "12  ioannundseineigentum@gmail.com  \n",
       "13  ioannundseineigentum@gmail.com  \n",
       "14  ioannundseineigentum@gmail.com  \n",
       "15  ioannundseineigentum@gmail.com  \n",
       "16  ioannundseineigentum@gmail.com  \n",
       "17  ioannundseineigentum@gmail.com  \n",
       "18  ioannundseineigentum@gmail.com  \n",
       "19  ioannundseineigentum@gmail.com  \n",
       "20  ioannundseineigentum@gmail.com  \n",
       "21  ioannundseineigentum@gmail.com  \n",
       "22  ioannundseineigentum@gmail.com  \n",
       "23  ioannundseineigentum@gmail.com  \n",
       "24  ioannundseineigentum@gmail.com  \n",
       "25  ioannundseineigentum@gmail.com  \n",
       "26  ioannundseineigentum@gmail.com  \n",
       "27  ioannundseineigentum@gmail.com  \n",
       "28  ioannundseineigentum@gmail.com  \n",
       "29  ioannundseineigentum@gmail.com  \n",
       "30  ioannundseineigentum@gmail.com  \n",
       "31  ioannundseineigentum@gmail.com  \n",
       "32  ioannundseineigentum@gmail.com  \n",
       "33  ioannundseineigentum@gmail.com  \n",
       "34  ioannundseineigentum@gmail.com  \n",
       "35  ioannundseineigentum@gmail.com  \n",
       "36  ioannundseineigentum@gmail.com  \n",
       "37  ioannundseineigentum@gmail.com  \n",
       "38  ioannundseineigentum@gmail.com  \n",
       "39  ioannundseineigentum@gmail.com  \n",
       "40  ioannundseineigentum@gmail.com  \n",
       "41  ioannundseineigentum@gmail.com  \n",
       "42  ioannundseineigentum@gmail.com  \n",
       "43  ioannundseineigentum@gmail.com  \n",
       "44  ioannundseineigentum@gmail.com  \n",
       "45  ioannundseineigentum@gmail.com  \n",
       "46  ioannundseineigentum@gmail.com  \n",
       "47  ioannundseineigentum@gmail.com  \n",
       "48  ioannundseineigentum@gmail.com  \n",
       "49  ioannundseineigentum@gmail.com  \n",
       "50  ioannundseineigentum@gmail.com  \n",
       "51  ioannundseineigentum@gmail.com  \n",
       "52  ioannundseineigentum@gmail.com  \n",
       "53  ioannundseineigentum@gmail.com  \n",
       "54  ioannundseineigentum@gmail.com  \n",
       "55  ioannundseineigentum@gmail.com  \n",
       "56  ioannundseineigentum@gmail.com  "
      ]
     },
     "execution_count": 65,
     "metadata": {},
     "output_type": "execute_result"
    }
   ],
   "source": [
    "info_path = Path('../Занятие 5/sources/Справочник.xlsx')\n",
    "\n",
    "parse_info(info_path)"
   ]
  },
  {
   "cell_type": "markdown",
   "id": "9f77edf7-72ef-466d-ab78-dc9b18bca96e",
   "metadata": {},
   "source": [
    "**Как быть с docstring?**"
   ]
  },
  {
   "cell_type": "code",
   "execution_count": 66,
   "id": "46374869-89d3-4826-be4c-56eeeb7b3bb5",
   "metadata": {},
   "outputs": [],
   "source": [
    "def func(n):\n",
    "    \"\"\"\n",
    "    This function powers input n by 2\n",
    "    \"\"\"\n",
    "    return n ** 2"
   ]
  },
  {
   "cell_type": "code",
   "execution_count": 67,
   "id": "29d9411d-90fe-4c87-ac4a-eaab30bf828b",
   "metadata": {},
   "outputs": [
    {
     "data": {
      "text/plain": [
       "'\\n    This function powers input n by 2\\n    '"
      ]
     },
     "execution_count": 67,
     "metadata": {},
     "output_type": "execute_result"
    }
   ],
   "source": [
    "func.__doc__"
   ]
  },
  {
   "cell_type": "code",
   "execution_count": 69,
   "id": "35464259-a112-41a1-b726-807c877ed3c1",
   "metadata": {},
   "outputs": [],
   "source": [
    "def divider(func):\n",
    "    def wrapper(*args, **kwargs):\n",
    "        result = func(*args, **kwargs)\n",
    "        return result ** (1 / 2)\n",
    "    return wrapper"
   ]
  },
  {
   "cell_type": "code",
   "execution_count": 71,
   "id": "16683d19-780b-49a1-b224-96044ae1c2e6",
   "metadata": {},
   "outputs": [],
   "source": [
    "@divider\n",
    "def func(n):\n",
    "    \"\"\"\n",
    "    This function powers input n by 2\n",
    "    \"\"\"\n",
    "    return n ** 2"
   ]
  },
  {
   "cell_type": "code",
   "execution_count": 72,
   "id": "4596d010-f16a-42b7-9953-4ed557ff6895",
   "metadata": {},
   "outputs": [
    {
     "data": {
      "text/plain": [
       "\u001b[0;31mSignature:\u001b[0m \u001b[0mfunc\u001b[0m\u001b[0;34m(\u001b[0m\u001b[0;34m*\u001b[0m\u001b[0margs\u001b[0m\u001b[0;34m,\u001b[0m \u001b[0;34m**\u001b[0m\u001b[0mkwargs\u001b[0m\u001b[0;34m)\u001b[0m\u001b[0;34m\u001b[0m\u001b[0;34m\u001b[0m\u001b[0m\n",
       "\u001b[0;31mDocstring:\u001b[0m <no docstring>\n",
       "\u001b[0;31mFile:\u001b[0m      /var/folders/h6/lv17v1r10lz21g745pd6774h0tgc4z/T/ipykernel_6350/3284642871.py\n",
       "\u001b[0;31mType:\u001b[0m      function"
      ]
     },
     "metadata": {},
     "output_type": "display_data"
    }
   ],
   "source": [
    "?func"
   ]
  },
  {
   "cell_type": "markdown",
   "id": "8c418eaf-3839-4f9e-9e38-d5425756d80f",
   "metadata": {},
   "source": [
    "**Решение**"
   ]
  },
  {
   "cell_type": "code",
   "execution_count": 73,
   "id": "fe24ea2b-e587-409c-b69e-dccae2f87f90",
   "metadata": {},
   "outputs": [],
   "source": [
    "def func(n):\n",
    "    \"\"\"\n",
    "    This function powers input n by 2\n",
    "    \"\"\"\n",
    "    return n ** 2"
   ]
  },
  {
   "cell_type": "code",
   "execution_count": 75,
   "id": "31801df0-09aa-4311-b594-ee73a913f2bd",
   "metadata": {},
   "outputs": [],
   "source": [
    "import functools\n",
    "\n",
    "def divider(func):\n",
    "    @functools.wraps(func)\n",
    "    def wrapper(*args, **kwargs):\n",
    "        result = func(*args, **kwargs)\n",
    "        return result ** (1 / 2)\n",
    "    return wrapper"
   ]
  },
  {
   "cell_type": "code",
   "execution_count": 76,
   "id": "f6be84c0-2125-41b6-a922-6487453841a8",
   "metadata": {},
   "outputs": [
    {
     "data": {
      "text/plain": [
       "\u001b[0;31mSignature:\u001b[0m \u001b[0mfunc\u001b[0m\u001b[0;34m(\u001b[0m\u001b[0mn\u001b[0m\u001b[0;34m)\u001b[0m\u001b[0;34m\u001b[0m\u001b[0;34m\u001b[0m\u001b[0m\n",
       "\u001b[0;31mDocstring:\u001b[0m This function powers input n by 2\n",
       "\u001b[0;31mFile:\u001b[0m      /var/folders/h6/lv17v1r10lz21g745pd6774h0tgc4z/T/ipykernel_6350/855151311.py\n",
       "\u001b[0;31mType:\u001b[0m      function"
      ]
     },
     "metadata": {},
     "output_type": "display_data"
    }
   ],
   "source": [
    "?func"
   ]
  },
  {
   "cell_type": "markdown",
   "id": "b986047d-5203-4403-bf28-849521adafd1",
   "metadata": {},
   "source": [
    "#### Некоторые полезные декораторы\n",
    "\n",
    "1. @classmethod (метод для класса, подразумевает аргумент cls);\n",
    "2. @staticmethod (метод для класса, не привязан классу никак кроме namespace);\n",
    "3. @abstractmethod (только обозначить наличие метода);\n",
    "4. @typing.final (обозначить, что от класса нельзя наследоваться);\n",
    "5. @lru_cache."
   ]
  },
  {
   "cell_type": "code",
   "execution_count": 78,
   "id": "07361a37-a840-42cd-893d-d72cc906a425",
   "metadata": {},
   "outputs": [],
   "source": [
    "from abc import ABC, abstractmethod"
   ]
  },
  {
   "cell_type": "code",
   "execution_count": 85,
   "id": "d0404a65-934c-449b-93c1-08df07b0e35b",
   "metadata": {},
   "outputs": [],
   "source": [
    "class Transformer(ABC):\n",
    "    @abstractmethod\n",
    "    def _get_params(self, data):  # must be specified in child class\n",
    "        pass\n",
    "        \n",
    "    @abstractmethod\n",
    "    def _apply_params(self, data):  # must be specified in child class\n",
    "        pass"
   ]
  },
  {
   "cell_type": "code",
   "execution_count": 86,
   "id": "36f6dac6-39fd-453f-af7e-70deb0282c4e",
   "metadata": {},
   "outputs": [
    {
     "ename": "TypeError",
     "evalue": "Can't instantiate abstract class Transformer with abstract methods _apply_params, _get_params",
     "output_type": "error",
     "traceback": [
      "\u001b[0;31m---------------------------------------------------------------------------\u001b[0m",
      "\u001b[0;31mTypeError\u001b[0m                                 Traceback (most recent call last)",
      "Cell \u001b[0;32mIn[86], line 1\u001b[0m\n\u001b[0;32m----> 1\u001b[0m tr \u001b[38;5;241m=\u001b[39m \u001b[43mTransformer\u001b[49m\u001b[43m(\u001b[49m\u001b[43m)\u001b[49m\n",
      "\u001b[0;31mTypeError\u001b[0m: Can't instantiate abstract class Transformer with abstract methods _apply_params, _get_params"
     ]
    }
   ],
   "source": [
    "tr = Transformer()"
   ]
  },
  {
   "cell_type": "markdown",
   "id": "a83143d5-0cfd-4617-8c90-05874a0c34e7",
   "metadata": {},
   "source": [
    "#### Практика\n",
    "Напишите декоратор для сохранения логов в файл stdout.txt. Модифицируйте проект по рассылке отчетов."
   ]
  },
  {
   "cell_type": "code",
   "execution_count": null,
   "id": "2b2cb594-6b2c-46f6-9bb1-e7b51d5e8970",
   "metadata": {},
   "outputs": [],
   "source": [
    "# наш код здесь"
   ]
  },
  {
   "cell_type": "code",
   "execution_count": 88,
   "id": "1e1d1866-9f73-46cb-9620-849612bc87aa",
   "metadata": {},
   "outputs": [],
   "source": [
    "def printer(number):\n",
    "    print(f'value {number} printed successfully')\n",
    "\n",
    "def printer2(number):\n",
    "    print(f'value {number} multiplied by 2 successfully: {number * 2}')"
   ]
  },
  {
   "cell_type": "code",
   "execution_count": 89,
   "id": "7767698b-0929-456d-a105-de3697251dbe",
   "metadata": {},
   "outputs": [
    {
     "name": "stdout",
     "output_type": "stream",
     "text": [
      "value 10 printed successfully\n",
      "value 10 multiplied by 2 successfully: 20\n"
     ]
    }
   ],
   "source": [
    "number = 10\n",
    "\n",
    "printer(number)\n",
    "printer2(number)"
   ]
  },
  {
   "cell_type": "code",
   "execution_count": 91,
   "id": "31e61ac2-641b-4acd-b197-859519762984",
   "metadata": {},
   "outputs": [
    {
     "data": {
      "text/plain": [
       "<ipykernel.iostream.OutStream at 0x10aa19960>"
      ]
     },
     "execution_count": 91,
     "metadata": {},
     "output_type": "execute_result"
    }
   ],
   "source": [
    "import sys\n",
    "\n",
    "sys.stdout"
   ]
  },
  {
   "cell_type": "code",
   "execution_count": 92,
   "id": "30ee2c54-fca5-4fac-8279-3ae0bcdd88a1",
   "metadata": {},
   "outputs": [],
   "source": [
    "def cache_log(func):\n",
    "    def wrapper(*args, **kwargs):\n",
    "        original_stdout = sys.stdout\n",
    "\n",
    "        with open('stdout.txt', 'a') as new_stdout:\n",
    "            sys.stdout = new_stdout\n",
    "            func(*args, **kwargs)\n",
    "\n",
    "        sys.stdout = original_stdout\n",
    "    \n",
    "    return wrapper"
   ]
  },
  {
   "cell_type": "code",
   "execution_count": 93,
   "id": "d9c1be1a-9e1e-44bc-86ed-16e3c8092f15",
   "metadata": {},
   "outputs": [],
   "source": [
    "@cache_log\n",
    "def printer(number):\n",
    "    print(f'value {number} printed successfully')\n",
    "\n",
    "@cache_log\n",
    "def printer2(number):\n",
    "    print(f'value {number} multiplied by 2 successfully: {number * 2}')"
   ]
  },
  {
   "cell_type": "code",
   "execution_count": 94,
   "id": "e53f7060-a303-461a-993e-066c1ad33a4c",
   "metadata": {},
   "outputs": [],
   "source": [
    "number = 10\n",
    "\n",
    "printer(number)\n",
    "printer2(number)"
   ]
  },
  {
   "cell_type": "code",
   "execution_count": 95,
   "id": "3deb739c-491c-4a92-bd05-099bb57b88f4",
   "metadata": {},
   "outputs": [
    {
     "name": "stdout",
     "output_type": "stream",
     "text": [
      "1\n"
     ]
    }
   ],
   "source": [
    "print(1)"
   ]
  }
 ],
 "metadata": {
  "kernelspec": {
   "display_name": "Python 3 (ipykernel)",
   "language": "python",
   "name": "python3"
  },
  "language_info": {
   "codemirror_mode": {
    "name": "ipython",
    "version": 3
   },
   "file_extension": ".py",
   "mimetype": "text/x-python",
   "name": "python",
   "nbconvert_exporter": "python",
   "pygments_lexer": "ipython3",
   "version": "3.11.5"
  }
 },
 "nbformat": 4,
 "nbformat_minor": 5
}
