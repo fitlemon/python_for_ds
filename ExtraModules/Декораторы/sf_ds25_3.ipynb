{
 "cells": [
  {
   "cell_type": "markdown",
   "id": "0d7c1ac1",
   "metadata": {},
   "source": [
    "# Программирование на языке Python\n",
    "## Семинар 25. Функции, замыкание и декораторы\n",
    "Полезная информация для понимания темы:\n",
    "\n",
    "1. [Функции - это объекты первого класса](https://habr.com/ru/companies/otus/articles/725374/);\n",
    "2. [Декораторы](https://habr.com/ru/companies/otus/articles/727590/);\n",
    "3. [Некоторые встроенные декораторы](https://www.geeksforgeeks.org/top-python-built-in-decorators-that-optimize-python-code-significantly/).\n",
    "\n",
    "#### План занятия\n",
    "1. Немного теории;\n",
    "2. Некоторые полезные декораторы;\n",
    "3. Практикум: настроим логи с помощью декоратора.\n",
    "\n",
    "#### Лексическое замыкание\n",
    "Это способность функции \"запоминать\" состояние родительской функции.\n",
    "\n",
    "Рассмотрим на примере:"
   ]
  },
  {
   "cell_type": "code",
   "execution_count": 1,
   "id": "162fb173-8ce1-4277-8c95-f1a67f51849d",
   "metadata": {},
   "outputs": [],
   "source": [
    "def enclosing_function():  # функция высшего порядка\n",
    "    def show_local_state():\n",
    "        return 'local state'\n",
    "\n",
    "    return show_local_state"
   ]
  },
  {
   "cell_type": "code",
   "execution_count": 3,
   "id": "b51d44bc-edca-42fa-8fb0-82522e8528e1",
   "metadata": {},
   "outputs": [
    {
     "data": {
      "text/plain": [
       "'local state'"
      ]
     },
     "execution_count": 3,
     "metadata": {},
     "output_type": "execute_result"
    }
   ],
   "source": [
    "fun_from_fun = enclosing_function()  # функция сама по себе может быть возвращена другой функцией\n",
    "fun_from_fun()"
   ]
  },
  {
   "cell_type": "code",
   "execution_count": 5,
   "id": "7b064245-fe1c-42c0-baa9-1efe70bad884",
   "metadata": {},
   "outputs": [
    {
     "data": {
      "text/plain": [
       "<function __main__.enclosing_function()>"
      ]
     },
     "execution_count": 5,
     "metadata": {},
     "output_type": "execute_result"
    }
   ],
   "source": [
    "enclosing_function"
   ]
  },
  {
   "cell_type": "code",
   "execution_count": 4,
   "id": "2e1b050c-baad-4a69-a1dc-3ecc29f21b5c",
   "metadata": {},
   "outputs": [
    {
     "data": {
      "text/plain": [
       "<function __main__.enclosing_function.<locals>.show_local_state()>"
      ]
     },
     "execution_count": 4,
     "metadata": {},
     "output_type": "execute_result"
    }
   ],
   "source": [
    "fun_from_fun"
   ]
  },
  {
   "cell_type": "code",
   "execution_count": 6,
   "id": "f2adaae7-b60a-4635-971a-f7bc48fd68c1",
   "metadata": {},
   "outputs": [
    {
     "data": {
      "text/plain": [
       "True"
      ]
     },
     "execution_count": 6,
     "metadata": {},
     "output_type": "execute_result"
    }
   ],
   "source": [
    "callable(fun_from_fun)"
   ]
  },
  {
   "cell_type": "code",
   "execution_count": 7,
   "id": "dc9b3b57-963e-4a0b-8afe-b11b4c093b45",
   "metadata": {},
   "outputs": [
    {
     "data": {
      "text/plain": [
       "True"
      ]
     },
     "execution_count": 7,
     "metadata": {},
     "output_type": "execute_result"
    }
   ],
   "source": [
    "hasattr(fun_from_fun, '__call__')"
   ]
  },
  {
   "cell_type": "code",
   "execution_count": 8,
   "id": "a1cf0fcb-8639-4c24-8b10-bf8a87defa08",
   "metadata": {},
   "outputs": [],
   "source": [
    "class SomeCallable:\n",
    "    def __init__(self):\n",
    "        pass\n",
    "\n",
    "    def __call__(self):\n",
    "        return 'I am callable object'"
   ]
  },
  {
   "cell_type": "code",
   "execution_count": 9,
   "id": "47b3c944-7446-414b-9570-580b50e780f6",
   "metadata": {},
   "outputs": [],
   "source": [
    "sc = SomeCallable()"
   ]
  },
  {
   "cell_type": "code",
   "execution_count": 10,
   "id": "100eced5-12b7-4d6c-9dce-03d2d2fc77b3",
   "metadata": {},
   "outputs": [
    {
     "data": {
      "text/plain": [
       "'I am callable object'"
      ]
     },
     "execution_count": 10,
     "metadata": {},
     "output_type": "execute_result"
    }
   ],
   "source": [
    "sc()"
   ]
  },
  {
   "cell_type": "markdown",
   "id": "dc5df11a-405a-4f64-b7c5-fcf245408faf",
   "metadata": {},
   "source": [
    "**Задание 1**\n",
    "\n",
    "Поменяйте предложенный ниже код, перенеся условную конструкцию в функцию."
   ]
  },
  {
   "cell_type": "code",
   "execution_count": 15,
   "id": "f2445f97-1bcb-4888-820c-3f8ae11b2e8c",
   "metadata": {},
   "outputs": [
    {
     "name": "stdout",
     "output_type": "stream",
     "text": [
      "892834282939493932\n"
     ]
    }
   ],
   "source": [
    "const = 48\n",
    "\n",
    "def int1_to_str(number: int) -> str:  # baseline function\n",
    "    return chr(number + const)\n",
    "\n",
    "def int_to_str(number: int) -> str:  # while\n",
    "    a = abs(number)\n",
    "\n",
    "    if number != 0:\n",
    "        result = ''\n",
    "        \n",
    "        while a != 0:  # a > 0\n",
    "            num = a % 10\n",
    "            result += int1_to_str(num)  # result = result + int1_to_str(num)\n",
    "            a //= 10  # a = a // 10\n",
    "        \n",
    "        result = result[::-1]  # result = '-' * (some_int < 0) + result[::-1]\n",
    "        \n",
    "        if number < 0:\n",
    "            result = '-' + result\n",
    "\n",
    "    else:\n",
    "        result = int1_to_str(number)  # result = '0'\n",
    "    \n",
    "    return result\n",
    "\n",
    "def int_to_str_r(number: int) -> str:  # recursion\n",
    "    if number < 10:\n",
    "        return int1_to_str(number)\n",
    "    else:\n",
    "        return int_to_str_r(number // 10) + int1_to_str(number % 10)\n",
    "\n",
    "\n",
    "# select appropriate function depending on number size\n",
    "number = 892834282939493932\n",
    "\n",
    "if number // 1e6 > 0:\n",
    "    result = int_to_str(number)\n",
    "else:\n",
    "    result = int_to_str_r(number)\n",
    "\n",
    "print(result)"
   ]
  },
  {
   "cell_type": "code",
   "execution_count": 16,
   "id": "cb096602-ea65-4e80-a560-fe19f0133a70",
   "metadata": {},
   "outputs": [],
   "source": [
    "def get_converter(number):\n",
    "    def int1_to_str(number: int) -> str:  # baseline function\n",
    "        return chr(number + const)\n",
    "    \n",
    "    def int_to_str(number: int) -> str:  # while\n",
    "        a = abs(number)\n",
    "    \n",
    "        if number != 0:\n",
    "            result = ''\n",
    "            \n",
    "            while a != 0:  # a > 0\n",
    "                num = a % 10\n",
    "                result += int1_to_str(num)  # result = result + int1_to_str(num)\n",
    "                a //= 10  # a = a // 10\n",
    "            \n",
    "            result = result[::-1]  # result = '-' * (some_int < 0) + result[::-1]\n",
    "            \n",
    "            if number < 0:\n",
    "                result = '-' + result\n",
    "    \n",
    "        else:\n",
    "            result = int1_to_str(number)  # result = '0'\n",
    "        \n",
    "        return result\n",
    "    \n",
    "    def int_to_str_r(number: int) -> str:  # recursion\n",
    "        if number < 10:\n",
    "            return int1_to_str(number)\n",
    "        else:\n",
    "            return int_to_str_r(number // 10) + int1_to_str(number % 10)\n",
    "        \n",
    "    if number // 1e6 > 0:\n",
    "        return int_to_str\n",
    "    else:\n",
    "        return int_to_str_r"
   ]
  },
  {
   "cell_type": "code",
   "execution_count": 18,
   "id": "649585ad-e2d5-4322-86bf-47644c7d1491",
   "metadata": {},
   "outputs": [
    {
     "data": {
      "text/plain": [
       "'892834282939493932'"
      ]
     },
     "execution_count": 18,
     "metadata": {},
     "output_type": "execute_result"
    }
   ],
   "source": [
    "converter = get_converter(number=number)\n",
    "converter(number)"
   ]
  },
  {
   "cell_type": "code",
   "execution_count": 19,
   "id": "f5dfdeae-56eb-4756-b7af-bffedb823544",
   "metadata": {},
   "outputs": [
    {
     "data": {
      "text/plain": [
       "<function __main__.get_converter.<locals>.int_to_str(number: int) -> str>"
      ]
     },
     "execution_count": 19,
     "metadata": {},
     "output_type": "execute_result"
    }
   ],
   "source": [
    "converter"
   ]
  },
  {
   "cell_type": "markdown",
   "id": "ff93915f-d204-4547-a0a4-a4b2c69d1ff6",
   "metadata": {},
   "source": [
    "Теперь рассмотрим непосредственно замыкание:"
   ]
  },
  {
   "cell_type": "code",
   "execution_count": 20,
   "id": "3f70dd10-96b0-43d6-93c4-9560c6cf38d0",
   "metadata": {},
   "outputs": [],
   "source": [
    "def enclosing_function(mode):  # функция высшего порядка\n",
    "    if mode == 1:\n",
    "        local_state = 'local state 1'\n",
    "    elif mode == 2:\n",
    "        local_state = 'local state 2'\n",
    "        \n",
    "    def show_local_state():  # функция \"вытаскивает в себя\" локальное состояние функции enclosing_function через return\n",
    "        return local_state\n",
    "\n",
    "    return show_local_state"
   ]
  },
  {
   "cell_type": "code",
   "execution_count": 21,
   "id": "4c8e7ae4-aab4-437c-bbbb-339d0d83adaf",
   "metadata": {},
   "outputs": [
    {
     "data": {
      "text/plain": [
       "'local state 1'"
      ]
     },
     "execution_count": 21,
     "metadata": {},
     "output_type": "execute_result"
    }
   ],
   "source": [
    "local_func = enclosing_function(1)\n",
    "local_func()"
   ]
  },
  {
   "cell_type": "code",
   "execution_count": 22,
   "id": "f7ae3f05-c118-4f30-a642-2a688ec15684",
   "metadata": {},
   "outputs": [
    {
     "data": {
      "text/plain": [
       "<function __main__.enclosing_function.<locals>.show_local_state()>"
      ]
     },
     "execution_count": 22,
     "metadata": {},
     "output_type": "execute_result"
    }
   ],
   "source": [
    "local_func"
   ]
  },
  {
   "cell_type": "code",
   "execution_count": 24,
   "id": "8f842994-3300-4047-9440-144fd873a858",
   "metadata": {},
   "outputs": [
    {
     "data": {
      "text/plain": [
       "'local state 2'"
      ]
     },
     "execution_count": 24,
     "metadata": {},
     "output_type": "execute_result"
    }
   ],
   "source": [
    "local_func = enclosing_function(2)\n",
    "local_func()"
   ]
  },
  {
   "cell_type": "code",
   "execution_count": 25,
   "id": "716b1d49-6db9-4033-a4ee-a43e6a610029",
   "metadata": {},
   "outputs": [
    {
     "data": {
      "text/plain": [
       "<function __main__.enclosing_function.<locals>.show_local_state()>"
      ]
     },
     "execution_count": 25,
     "metadata": {},
     "output_type": "execute_result"
    }
   ],
   "source": [
    "local_func"
   ]
  },
  {
   "cell_type": "markdown",
   "id": "e314a9a9-e360-49c3-a971-b74124f8ce20",
   "metadata": {},
   "source": [
    "**Задание 2**\n",
    "\n",
    "Реализуйте ООП-решение задачи предыдущего семинара в парадигме функционального программирования. Обязательно используйте замыкание."
   ]
  },
  {
   "cell_type": "code",
   "execution_count": 34,
   "id": "d2575090-a0b4-4166-b719-52dffb848f07",
   "metadata": {},
   "outputs": [],
   "source": [
    "import numpy as np\n",
    "import pandas as pd\n",
    "\n",
    "def get_transformer(ttype='norm'):\n",
    "    _valid_structures = [list, tuple, np.ndarray, pd.DataFrame]\n",
    "    _valid_dtypes = [int, float]\n",
    "\n",
    "    if ttype=='norm':\n",
    "        from norm_functions import get_params, apply_params\n",
    "    else:\n",
    "        from std_functions import get_params, apply_params\n",
    "\n",
    "    def _validate_data(data):\n",
    "        # check data structure\n",
    "        structure = type(data)\n",
    "        if structure not in _valid_structures:\n",
    "            raise ValueError(f'invalid structure {structure}, use only authorized structures: {_valid_structures}!')\n",
    "        \n",
    "        # <data> -> np.ndarray\n",
    "        if structure in [list, tuple]:\n",
    "            data = np.array(data)\n",
    "        elif structure == pd.DataFrame:\n",
    "            data = data.values\n",
    "        \n",
    "        # check dtype\n",
    "        if data.dtype not in _valid_dtypes:\n",
    "            raise ValueError(f'invalid dtype {data.dtype}, use only authorized dtypes: {_valid_dtypes}!')\n",
    "\n",
    "        # shape\n",
    "        if data.ndim != 2:\n",
    "            raise ValueError(f'invalid shape {data.ndim}, must be 2!')\n",
    "\n",
    "        return data\n",
    "\n",
    "    def fit(data):\n",
    "        # validate data\n",
    "        data_valid = _validate_data(data)\n",
    "        \n",
    "        # compute params\n",
    "        params = get_params(data_valid)\n",
    "            \n",
    "        # save params\n",
    "        return params\n",
    "\n",
    "    def transform(data, params) -> pd.DataFrame: \n",
    "        # validate data\n",
    "        data_valid = _validate_data(data)\n",
    "\n",
    "        # apply params to data\n",
    "        data_transformed = apply_params(data_valid, params)\n",
    "\n",
    "        return data_transformed\n",
    "\n",
    "    return fit, transform"
   ]
  },
  {
   "cell_type": "code",
   "execution_count": 35,
   "id": "75c1d019-7989-41ff-a7fd-1b9841721647",
   "metadata": {},
   "outputs": [],
   "source": [
    "X = np.random.uniform(-10, 10, (100, 2))\n",
    "y = np.random.normal(0, 1, 100)\n",
    "\n",
    "X_new = np.random.uniform(-10, 10, (50, 2))\n",
    "\n",
    "fit, transform = get_transformer(ttype='norm')\n",
    "\n",
    "params = fit(X)\n",
    "X_transformed = transform(X, params)"
   ]
  },
  {
   "cell_type": "code",
   "execution_count": 31,
   "id": "ad31585e-5ca5-46c2-ab0d-a9d0d2e369e8",
   "metadata": {},
   "outputs": [
    {
     "data": {
      "text/plain": [
       "(<function __main__.get_transformer.<locals>.fit(data)>,\n",
       " <function __main__.get_transformer.<locals>.transform(data, params) -> pandas.core.frame.DataFrame>)"
      ]
     },
     "execution_count": 31,
     "metadata": {},
     "output_type": "execute_result"
    }
   ],
   "source": [
    "fit, transform"
   ]
  },
  {
   "cell_type": "markdown",
   "id": "e11c6937-2fea-4012-8866-36cf6ed05bfa",
   "metadata": {},
   "source": [
    "#### Декораторы\n",
    "Декоратор - это, в сущности, функция, которая принимает на вход другую функцию и возвращает ее модификацию:"
   ]
  },
  {
   "cell_type": "code",
   "execution_count": 37,
   "id": "474384fe-d68d-4fe5-81a6-bf889b708144",
   "metadata": {},
   "outputs": [],
   "source": [
    "from datetime import datetime\n",
    "\n",
    "def what_time_is_it():\n",
    "    now = datetime.now()\n",
    "\n",
    "    return now"
   ]
  },
  {
   "cell_type": "code",
   "execution_count": 38,
   "id": "d95a1ad9-47c8-40e7-999f-c48918678ec1",
   "metadata": {},
   "outputs": [
    {
     "data": {
      "text/plain": [
       "<function __main__.what_time_is_it()>"
      ]
     },
     "execution_count": 38,
     "metadata": {},
     "output_type": "execute_result"
    }
   ],
   "source": [
    "what_time_is_it"
   ]
  },
  {
   "cell_type": "code",
   "execution_count": 39,
   "id": "c61ab866-0234-46c5-a4ea-68ccc5600394",
   "metadata": {},
   "outputs": [
    {
     "data": {
      "text/plain": [
       "datetime.datetime(2023, 11, 29, 18, 57, 28, 100784)"
      ]
     },
     "execution_count": 39,
     "metadata": {},
     "output_type": "execute_result"
    }
   ],
   "source": [
    "what_time_is_it()"
   ]
  },
  {
   "cell_type": "code",
   "execution_count": 40,
   "id": "34fb7c8d-5741-42ed-b367-44c6c4c2a65e",
   "metadata": {},
   "outputs": [],
   "source": [
    "def prettifier(func):\n",
    "    def wrapper():\n",
    "        now = func()\n",
    "        pretty_now = now.strftime('%d.%m.%Y %H:%M:%S')\n",
    "        \n",
    "        return pretty_now\n",
    "        \n",
    "    return wrapper"
   ]
  },
  {
   "cell_type": "markdown",
   "id": "f4ae2834-ad92-4e34-9741-30725aa95875",
   "metadata": {},
   "source": [
    "Без синтаксического сахара:"
   ]
  },
  {
   "cell_type": "code",
   "execution_count": 41,
   "id": "da85a6e3-11e0-4107-b5de-0b4dd81b8eae",
   "metadata": {},
   "outputs": [],
   "source": [
    "what_time_is_it = prettifier(what_time_is_it)"
   ]
  },
  {
   "cell_type": "code",
   "execution_count": 42,
   "id": "25a2452c-d90c-4a2f-8c81-6d2c1aa3aa30",
   "metadata": {},
   "outputs": [
    {
     "data": {
      "text/plain": [
       "<function __main__.prettifier.<locals>.wrapper()>"
      ]
     },
     "execution_count": 42,
     "metadata": {},
     "output_type": "execute_result"
    }
   ],
   "source": [
    "what_time_is_it"
   ]
  },
  {
   "cell_type": "markdown",
   "id": "97a19445-6067-404f-ad79-2a02a9d5e6cc",
   "metadata": {},
   "source": [
    "С синтаксическим сахаром:"
   ]
  },
  {
   "cell_type": "code",
   "execution_count": 44,
   "id": "73804d8d-2633-444f-88b2-71b2b9c2fb02",
   "metadata": {},
   "outputs": [],
   "source": [
    "from datetime import datetime\n",
    "\n",
    "@prettifier\n",
    "def what_time_is_it():\n",
    "    now = datetime.now()\n",
    "\n",
    "    return now"
   ]
  },
  {
   "cell_type": "code",
   "execution_count": 45,
   "id": "ef4115cf-6c3f-499d-b6be-759765a13fc3",
   "metadata": {},
   "outputs": [
    {
     "data": {
      "text/plain": [
       "<function __main__.prettifier.<locals>.wrapper()>"
      ]
     },
     "execution_count": 45,
     "metadata": {},
     "output_type": "execute_result"
    }
   ],
   "source": [
    "what_time_is_it"
   ]
  },
  {
   "cell_type": "code",
   "execution_count": 46,
   "id": "48b22602-5791-44a9-b7ab-20d2d18ce037",
   "metadata": {},
   "outputs": [
    {
     "data": {
      "text/plain": [
       "'29.11.2023 19:02:57'"
      ]
     },
     "execution_count": 46,
     "metadata": {},
     "output_type": "execute_result"
    }
   ],
   "source": [
    "what_time_is_it()"
   ]
  },
  {
   "cell_type": "markdown",
   "id": "5fd0170f-54d8-4f6f-83ea-13b9df8f2301",
   "metadata": {},
   "source": [
    "А как с аргументами?"
   ]
  },
  {
   "cell_type": "code",
   "execution_count": 47,
   "id": "38bc9dab-8f6e-4634-9cd4-d7a6dcebb150",
   "metadata": {},
   "outputs": [],
   "source": [
    "from pathlib import Path\n",
    "import openpyxl\n",
    "\n",
    "def parse_info(path: Path) -> dict:\n",
    "    wb = openpyxl.load_workbook(path)\n",
    "    ws = wb.active\n",
    "\n",
    "    info_dict = {\n",
    "        (row[0].value, row[1].value): {'fio': row[2].value, 'email': row[3].value}\n",
    "        for row\n",
    "        in ws.iter_rows()\n",
    "        if row[0].value != 'Блок'\n",
    "    }\n",
    "\n",
    "    wb.close()\n",
    "\n",
    "    return info_dict"
   ]
  },
  {
   "cell_type": "code",
   "execution_count": 48,
   "id": "52436361-2633-4170-b306-8fd581015239",
   "metadata": {
    "scrolled": true
   },
   "outputs": [
    {
     "data": {
      "text/plain": [
       "{('Блок 1', 'Департамент A'): {'fio': 'Довгополый Иоанн Алексеевич',\n",
       "  'email': 'ioannundseineigentum@gmail.com'},\n",
       " ('Блок 1', 'Департамент B'): {'fio': 'Довгополый Иоанн Алексеевич',\n",
       "  'email': 'ioannundseineigentum@gmail.com'},\n",
       " ('Блок 1', 'Департамент C'): {'fio': 'Довгополый Иоанн Алексеевич',\n",
       "  'email': 'ioannundseineigentum@gmail.com'},\n",
       " ('Блок 2', 'Департамент A'): {'fio': 'Довгополый Иоанн Алексеевич',\n",
       "  'email': 'ioannundseineigentum@gmail.com'},\n",
       " ('Блок 2', 'Департамент B'): {'fio': 'Довгополый Иоанн Алексеевич',\n",
       "  'email': 'ioannundseineigentum@gmail.com'},\n",
       " ('Блок 2', 'Департамент C'): {'fio': 'Довгополый Иоанн Алексеевич',\n",
       "  'email': 'ioannundseineigentum@gmail.com'},\n",
       " ('Блок 2', 'Департамент D'): {'fio': 'Довгополый Иоанн Алексеевич',\n",
       "  'email': 'ioannundseineigentum@gmail.com'},\n",
       " ('Блок 2', 'Департамент E'): {'fio': 'Довгополый Иоанн Алексеевич',\n",
       "  'email': 'ioannundseineigentum@gmail.com'},\n",
       " ('Блок 2', 'Департамент F'): {'fio': 'Довгополый Иоанн Алексеевич',\n",
       "  'email': 'ioannundseineigentum@gmail.com'},\n",
       " ('Блок 2', 'Департамент G'): {'fio': 'Довгополый Иоанн Алексеевич',\n",
       "  'email': 'ioannundseineigentum@gmail.com'},\n",
       " ('Блок 3', 'Департамент A'): {'fio': 'Довгополый Иоанн Алексеевич',\n",
       "  'email': 'ioannundseineigentum@gmail.com'},\n",
       " ('Блок 3', 'Департамент B'): {'fio': 'Довгополый Иоанн Алексеевич',\n",
       "  'email': 'ioannundseineigentum@gmail.com'},\n",
       " ('Блок 4', 'Департамент A'): {'fio': 'Довгополый Иоанн Алексеевич',\n",
       "  'email': 'ioannundseineigentum@gmail.com'},\n",
       " ('Блок 5', 'Департамент A'): {'fio': 'Довгополый Иоанн Алексеевич',\n",
       "  'email': 'ioannundseineigentum@gmail.com'},\n",
       " ('Блок 5', 'Департамент B'): {'fio': 'Довгополый Иоанн Алексеевич',\n",
       "  'email': 'ioannundseineigentum@gmail.com'},\n",
       " ('Блок 5', 'Департамент C'): {'fio': 'Довгополый Иоанн Алексеевич',\n",
       "  'email': 'ioannundseineigentum@gmail.com'},\n",
       " ('Блок 5', 'Департамент D'): {'fio': 'Довгополый Иоанн Алексеевич',\n",
       "  'email': 'ioannundseineigentum@gmail.com'},\n",
       " ('Блок 5', 'Департамент E'): {'fio': 'Довгополый Иоанн Алексеевич',\n",
       "  'email': 'ioannundseineigentum@gmail.com'},\n",
       " ('Блок 5', 'Департамент F'): {'fio': 'Довгополый Иоанн Алексеевич',\n",
       "  'email': 'ioannundseineigentum@gmail.com'},\n",
       " ('Блок 5', 'Департамент G'): {'fio': 'Довгополый Иоанн Алексеевич',\n",
       "  'email': 'ioannundseineigentum@gmail.com'},\n",
       " ('Блок 5', 'Департамент H'): {'fio': 'Довгополый Иоанн Алексеевич',\n",
       "  'email': 'ioannundseineigentum@gmail.com'},\n",
       " ('Блок 5', 'Департамент I'): {'fio': 'Довгополый Иоанн Алексеевич',\n",
       "  'email': 'ioannundseineigentum@gmail.com'},\n",
       " ('Блок 5', 'Департамент J'): {'fio': 'Довгополый Иоанн Алексеевич',\n",
       "  'email': 'ioannundseineigentum@gmail.com'},\n",
       " ('Блок 5', 'Департамент K'): {'fio': 'Довгополый Иоанн Алексеевич',\n",
       "  'email': 'ioannundseineigentum@gmail.com'},\n",
       " ('Блок 5', 'Департамент L'): {'fio': 'Довгополый Иоанн Алексеевич',\n",
       "  'email': 'ioannundseineigentum@gmail.com'},\n",
       " ('Блок 6', 'Департамент A'): {'fio': 'Довгополый Иоанн Алексеевич',\n",
       "  'email': 'ioannundseineigentum@gmail.com'},\n",
       " ('Блок 6', 'Департамент B'): {'fio': 'Довгополый Иоанн Алексеевич',\n",
       "  'email': 'ioannundseineigentum@gmail.com'},\n",
       " ('Блок 6', 'Департамент C'): {'fio': 'Довгополый Иоанн Алексеевич',\n",
       "  'email': 'ioannundseineigentum@gmail.com'},\n",
       " ('Блок 6', 'Департамент D'): {'fio': 'Довгополый Иоанн Алексеевич',\n",
       "  'email': 'ioannundseineigentum@gmail.com'},\n",
       " ('Блок 6', 'Департамент E'): {'fio': 'Довгополый Иоанн Алексеевич',\n",
       "  'email': 'ioannundseineigentum@gmail.com'},\n",
       " ('Блок 6', 'Департамент F'): {'fio': 'Довгополый Иоанн Алексеевич',\n",
       "  'email': 'ioannundseineigentum@gmail.com'},\n",
       " ('Блок 6', 'Департамент G'): {'fio': 'Довгополый Иоанн Алексеевич',\n",
       "  'email': 'ioannundseineigentum@gmail.com'},\n",
       " ('Блок 6', 'Департамент H'): {'fio': 'Довгополый Иоанн Алексеевич',\n",
       "  'email': 'ioannundseineigentum@gmail.com'},\n",
       " ('Блок 6', 'Департамент I'): {'fio': 'Довгополый Иоанн Алексеевич',\n",
       "  'email': 'ioannundseineigentum@gmail.com'},\n",
       " ('Блок 6', 'Департамент J'): {'fio': 'Довгополый Иоанн Алексеевич',\n",
       "  'email': 'ioannundseineigentum@gmail.com'},\n",
       " ('Блок 6', 'Департамент K'): {'fio': 'Довгополый Иоанн Алексеевич',\n",
       "  'email': 'ioannundseineigentum@gmail.com'},\n",
       " ('Блок 6', 'Департамент L'): {'fio': 'Довгополый Иоанн Алексеевич',\n",
       "  'email': 'ioannundseineigentum@gmail.com'},\n",
       " ('Блок 7', 'Департамент A'): {'fio': 'Довгополый Иоанн Алексеевич',\n",
       "  'email': 'ioannundseineigentum@gmail.com'},\n",
       " ('Блок 7', 'Департамент B'): {'fio': 'Довгополый Иоанн Алексеевич',\n",
       "  'email': 'ioannundseineigentum@gmail.com'},\n",
       " ('Блок 7', 'Департамент C'): {'fio': 'Довгополый Иоанн Алексеевич',\n",
       "  'email': 'ioannundseineigentum@gmail.com'},\n",
       " ('Блок 7', 'Департамент D'): {'fio': 'Довгополый Иоанн Алексеевич',\n",
       "  'email': 'ioannundseineigentum@gmail.com'},\n",
       " ('Блок 7', 'Департамент E'): {'fio': 'Довгополый Иоанн Алексеевич',\n",
       "  'email': 'ioannundseineigentum@gmail.com'},\n",
       " ('Блок 7', 'Департамент F'): {'fio': 'Довгополый Иоанн Алексеевич',\n",
       "  'email': 'ioannundseineigentum@gmail.com'},\n",
       " ('Блок 7', 'Департамент G'): {'fio': 'Довгополый Иоанн Алексеевич',\n",
       "  'email': 'ioannundseineigentum@gmail.com'},\n",
       " ('Блок 7', 'Департамент H'): {'fio': 'Довгополый Иоанн Алексеевич',\n",
       "  'email': 'ioannundseineigentum@gmail.com'},\n",
       " ('Блок 7', 'Департамент I'): {'fio': 'Довгополый Иоанн Алексеевич',\n",
       "  'email': 'ioannundseineigentum@gmail.com'},\n",
       " ('Блок 7', 'Департамент J'): {'fio': 'Довгополый Иоанн Алексеевич',\n",
       "  'email': 'ioannundseineigentum@gmail.com'},\n",
       " ('Блок 7', 'Департамент K'): {'fio': 'Довгополый Иоанн Алексеевич',\n",
       "  'email': 'ioannundseineigentum@gmail.com'},\n",
       " ('Блок 7', 'Департамент L'): {'fio': 'Довгополый Иоанн Алексеевич',\n",
       "  'email': 'ioannundseineigentum@gmail.com'},\n",
       " ('Блок 8', 'Департамент A'): {'fio': 'Довгополый Иоанн Алексеевич',\n",
       "  'email': 'ioannundseineigentum@gmail.com'},\n",
       " ('Блок 8', 'Департамент B'): {'fio': 'Довгополый Иоанн Алексеевич',\n",
       "  'email': 'ioannundseineigentum@gmail.com'},\n",
       " ('Блок 8', 'Департамент C'): {'fio': 'Довгополый Иоанн Алексеевич',\n",
       "  'email': 'ioannundseineigentum@gmail.com'},\n",
       " ('Блок 8', 'Департамент D'): {'fio': 'Довгополый Иоанн Алексеевич',\n",
       "  'email': 'ioannundseineigentum@gmail.com'},\n",
       " ('Блок 8', 'Департамент E'): {'fio': 'Довгополый Иоанн Алексеевич',\n",
       "  'email': 'ioannundseineigentum@gmail.com'},\n",
       " ('Блок 8', 'Департамент F'): {'fio': 'Довгополый Иоанн Алексеевич',\n",
       "  'email': 'ioannundseineigentum@gmail.com'},\n",
       " ('Блок 9', 'Департамент A'): {'fio': 'Довгополый Иоанн Алексеевич',\n",
       "  'email': 'ioannundseineigentum@gmail.com'},\n",
       " ('Блок 9', 'Департамент B'): {'fio': 'Довгополый Иоанн Алексеевич',\n",
       "  'email': 'ioannundseineigentum@gmail.com'}}"
      ]
     },
     "execution_count": 48,
     "metadata": {},
     "output_type": "execute_result"
    }
   ],
   "source": [
    "info_path = Path('../Занятие 5/sources/Справочник.xlsx')\n",
    "\n",
    "parse_info(info_path)"
   ]
  },
  {
   "cell_type": "code",
   "execution_count": 56,
   "id": "7df3074f-fc3a-4b48-9a69-fe4077bac881",
   "metadata": {},
   "outputs": [],
   "source": [
    "import pandas as pd\n",
    "\n",
    "def pandify(func):\n",
    "    def wrapper(*args, **kwargs):\n",
    "        dictlike = func(*args, **kwargs)\n",
    "        \n",
    "        list_to_pandas = [{'block': key[0], 'department': key[1], **value} for key, value in dictlike.items()]\n",
    "\n",
    "        df = pd.DataFrame(list_to_pandas)\n",
    "\n",
    "        return df\n",
    "\n",
    "    return wrapper"
   ]
  },
  {
   "cell_type": "code",
   "execution_count": 49,
   "id": "c41c53b4-2acc-4b37-aa68-7da6fa6c14f1",
   "metadata": {},
   "outputs": [],
   "source": [
    "def some_func(*args, **kwargs):\n",
    "    return args, kwargs"
   ]
  },
  {
   "cell_type": "code",
   "execution_count": 51,
   "id": "20084b75-3b2b-4ea9-a877-21c4d2a881fd",
   "metadata": {},
   "outputs": [
    {
     "data": {
      "text/plain": [
       "((1, 2, 3), {'a': 'a', 'b': 'b'})"
      ]
     },
     "execution_count": 51,
     "metadata": {},
     "output_type": "execute_result"
    }
   ],
   "source": [
    "some_func(1, 2, 3, a='a', b='b')"
   ]
  },
  {
   "cell_type": "code",
   "execution_count": 52,
   "id": "2cdeecbb-009b-4609-840a-3db9e98bc49f",
   "metadata": {},
   "outputs": [],
   "source": [
    "def some_func(a, b):\n",
    "    return a + b"
   ]
  },
  {
   "cell_type": "code",
   "execution_count": 53,
   "id": "b9343a14-6a87-4cd5-a35c-d4094c5b8b25",
   "metadata": {},
   "outputs": [],
   "source": [
    "values = {'a': 6, 'b': 11}"
   ]
  },
  {
   "cell_type": "code",
   "execution_count": 55,
   "id": "97628aae-01fa-409e-8343-1ccf36b86cc1",
   "metadata": {},
   "outputs": [
    {
     "data": {
      "text/plain": [
       "17"
      ]
     },
     "execution_count": 55,
     "metadata": {},
     "output_type": "execute_result"
    }
   ],
   "source": [
    "some_func(**values)"
   ]
  },
  {
   "cell_type": "code",
   "execution_count": null,
   "id": "68bf987f-199c-4973-ab3d-528ba5e3dff1",
   "metadata": {},
   "outputs": [],
   "source": []
  },
  {
   "cell_type": "code",
   "execution_count": 57,
   "id": "2f9fb340-ae64-4ba7-b399-36b0f92828e0",
   "metadata": {},
   "outputs": [],
   "source": [
    "@pandify\n",
    "def parse_info(path: Path) -> dict:\n",
    "    wb = openpyxl.load_workbook(path)\n",
    "    ws = wb.active\n",
    "\n",
    "    info_dict = {\n",
    "        (row[0].value, row[1].value): {'fio': row[2].value, 'email': row[3].value}\n",
    "        for row\n",
    "        in ws.iter_rows()\n",
    "        if row[0].value != 'Блок'\n",
    "    }\n",
    "\n",
    "    wb.close()\n",
    "\n",
    "    return info_dict"
   ]
  },
  {
   "cell_type": "code",
   "execution_count": 58,
   "id": "144fe90f-2739-4cd9-aceb-3a1cda34e832",
   "metadata": {
    "scrolled": true
   },
   "outputs": [
    {
     "data": {
      "text/html": [
       "<div>\n",
       "<style scoped>\n",
       "    .dataframe tbody tr th:only-of-type {\n",
       "        vertical-align: middle;\n",
       "    }\n",
       "\n",
       "    .dataframe tbody tr th {\n",
       "        vertical-align: top;\n",
       "    }\n",
       "\n",
       "    .dataframe thead th {\n",
       "        text-align: right;\n",
       "    }\n",
       "</style>\n",
       "<table border=\"1\" class=\"dataframe\">\n",
       "  <thead>\n",
       "    <tr style=\"text-align: right;\">\n",
       "      <th></th>\n",
       "      <th>block</th>\n",
       "      <th>department</th>\n",
       "      <th>fio</th>\n",
       "      <th>email</th>\n",
       "    </tr>\n",
       "  </thead>\n",
       "  <tbody>\n",
       "    <tr>\n",
       "      <th>0</th>\n",
       "      <td>Блок 1</td>\n",
       "      <td>Департамент A</td>\n",
       "      <td>Довгополый Иоанн Алексеевич</td>\n",
       "      <td>ioannundseineigentum@gmail.com</td>\n",
       "    </tr>\n",
       "    <tr>\n",
       "      <th>1</th>\n",
       "      <td>Блок 1</td>\n",
       "      <td>Департамент B</td>\n",
       "      <td>Довгополый Иоанн Алексеевич</td>\n",
       "      <td>ioannundseineigentum@gmail.com</td>\n",
       "    </tr>\n",
       "    <tr>\n",
       "      <th>2</th>\n",
       "      <td>Блок 1</td>\n",
       "      <td>Департамент C</td>\n",
       "      <td>Довгополый Иоанн Алексеевич</td>\n",
       "      <td>ioannundseineigentum@gmail.com</td>\n",
       "    </tr>\n",
       "    <tr>\n",
       "      <th>3</th>\n",
       "      <td>Блок 2</td>\n",
       "      <td>Департамент A</td>\n",
       "      <td>Довгополый Иоанн Алексеевич</td>\n",
       "      <td>ioannundseineigentum@gmail.com</td>\n",
       "    </tr>\n",
       "    <tr>\n",
       "      <th>4</th>\n",
       "      <td>Блок 2</td>\n",
       "      <td>Департамент B</td>\n",
       "      <td>Довгополый Иоанн Алексеевич</td>\n",
       "      <td>ioannundseineigentum@gmail.com</td>\n",
       "    </tr>\n",
       "    <tr>\n",
       "      <th>5</th>\n",
       "      <td>Блок 2</td>\n",
       "      <td>Департамент C</td>\n",
       "      <td>Довгополый Иоанн Алексеевич</td>\n",
       "      <td>ioannundseineigentum@gmail.com</td>\n",
       "    </tr>\n",
       "    <tr>\n",
       "      <th>6</th>\n",
       "      <td>Блок 2</td>\n",
       "      <td>Департамент D</td>\n",
       "      <td>Довгополый Иоанн Алексеевич</td>\n",
       "      <td>ioannundseineigentum@gmail.com</td>\n",
       "    </tr>\n",
       "    <tr>\n",
       "      <th>7</th>\n",
       "      <td>Блок 2</td>\n",
       "      <td>Департамент E</td>\n",
       "      <td>Довгополый Иоанн Алексеевич</td>\n",
       "      <td>ioannundseineigentum@gmail.com</td>\n",
       "    </tr>\n",
       "    <tr>\n",
       "      <th>8</th>\n",
       "      <td>Блок 2</td>\n",
       "      <td>Департамент F</td>\n",
       "      <td>Довгополый Иоанн Алексеевич</td>\n",
       "      <td>ioannundseineigentum@gmail.com</td>\n",
       "    </tr>\n",
       "    <tr>\n",
       "      <th>9</th>\n",
       "      <td>Блок 2</td>\n",
       "      <td>Департамент G</td>\n",
       "      <td>Довгополый Иоанн Алексеевич</td>\n",
       "      <td>ioannundseineigentum@gmail.com</td>\n",
       "    </tr>\n",
       "    <tr>\n",
       "      <th>10</th>\n",
       "      <td>Блок 3</td>\n",
       "      <td>Департамент A</td>\n",
       "      <td>Довгополый Иоанн Алексеевич</td>\n",
       "      <td>ioannundseineigentum@gmail.com</td>\n",
       "    </tr>\n",
       "    <tr>\n",
       "      <th>11</th>\n",
       "      <td>Блок 3</td>\n",
       "      <td>Департамент B</td>\n",
       "      <td>Довгополый Иоанн Алексеевич</td>\n",
       "      <td>ioannundseineigentum@gmail.com</td>\n",
       "    </tr>\n",
       "    <tr>\n",
       "      <th>12</th>\n",
       "      <td>Блок 4</td>\n",
       "      <td>Департамент A</td>\n",
       "      <td>Довгополый Иоанн Алексеевич</td>\n",
       "      <td>ioannundseineigentum@gmail.com</td>\n",
       "    </tr>\n",
       "    <tr>\n",
       "      <th>13</th>\n",
       "      <td>Блок 5</td>\n",
       "      <td>Департамент A</td>\n",
       "      <td>Довгополый Иоанн Алексеевич</td>\n",
       "      <td>ioannundseineigentum@gmail.com</td>\n",
       "    </tr>\n",
       "    <tr>\n",
       "      <th>14</th>\n",
       "      <td>Блок 5</td>\n",
       "      <td>Департамент B</td>\n",
       "      <td>Довгополый Иоанн Алексеевич</td>\n",
       "      <td>ioannundseineigentum@gmail.com</td>\n",
       "    </tr>\n",
       "    <tr>\n",
       "      <th>15</th>\n",
       "      <td>Блок 5</td>\n",
       "      <td>Департамент C</td>\n",
       "      <td>Довгополый Иоанн Алексеевич</td>\n",
       "      <td>ioannundseineigentum@gmail.com</td>\n",
       "    </tr>\n",
       "    <tr>\n",
       "      <th>16</th>\n",
       "      <td>Блок 5</td>\n",
       "      <td>Департамент D</td>\n",
       "      <td>Довгополый Иоанн Алексеевич</td>\n",
       "      <td>ioannundseineigentum@gmail.com</td>\n",
       "    </tr>\n",
       "    <tr>\n",
       "      <th>17</th>\n",
       "      <td>Блок 5</td>\n",
       "      <td>Департамент E</td>\n",
       "      <td>Довгополый Иоанн Алексеевич</td>\n",
       "      <td>ioannundseineigentum@gmail.com</td>\n",
       "    </tr>\n",
       "    <tr>\n",
       "      <th>18</th>\n",
       "      <td>Блок 5</td>\n",
       "      <td>Департамент F</td>\n",
       "      <td>Довгополый Иоанн Алексеевич</td>\n",
       "      <td>ioannundseineigentum@gmail.com</td>\n",
       "    </tr>\n",
       "    <tr>\n",
       "      <th>19</th>\n",
       "      <td>Блок 5</td>\n",
       "      <td>Департамент G</td>\n",
       "      <td>Довгополый Иоанн Алексеевич</td>\n",
       "      <td>ioannundseineigentum@gmail.com</td>\n",
       "    </tr>\n",
       "    <tr>\n",
       "      <th>20</th>\n",
       "      <td>Блок 5</td>\n",
       "      <td>Департамент H</td>\n",
       "      <td>Довгополый Иоанн Алексеевич</td>\n",
       "      <td>ioannundseineigentum@gmail.com</td>\n",
       "    </tr>\n",
       "    <tr>\n",
       "      <th>21</th>\n",
       "      <td>Блок 5</td>\n",
       "      <td>Департамент I</td>\n",
       "      <td>Довгополый Иоанн Алексеевич</td>\n",
       "      <td>ioannundseineigentum@gmail.com</td>\n",
       "    </tr>\n",
       "    <tr>\n",
       "      <th>22</th>\n",
       "      <td>Блок 5</td>\n",
       "      <td>Департамент J</td>\n",
       "      <td>Довгополый Иоанн Алексеевич</td>\n",
       "      <td>ioannundseineigentum@gmail.com</td>\n",
       "    </tr>\n",
       "    <tr>\n",
       "      <th>23</th>\n",
       "      <td>Блок 5</td>\n",
       "      <td>Департамент K</td>\n",
       "      <td>Довгополый Иоанн Алексеевич</td>\n",
       "      <td>ioannundseineigentum@gmail.com</td>\n",
       "    </tr>\n",
       "    <tr>\n",
       "      <th>24</th>\n",
       "      <td>Блок 5</td>\n",
       "      <td>Департамент L</td>\n",
       "      <td>Довгополый Иоанн Алексеевич</td>\n",
       "      <td>ioannundseineigentum@gmail.com</td>\n",
       "    </tr>\n",
       "    <tr>\n",
       "      <th>25</th>\n",
       "      <td>Блок 6</td>\n",
       "      <td>Департамент A</td>\n",
       "      <td>Довгополый Иоанн Алексеевич</td>\n",
       "      <td>ioannundseineigentum@gmail.com</td>\n",
       "    </tr>\n",
       "    <tr>\n",
       "      <th>26</th>\n",
       "      <td>Блок 6</td>\n",
       "      <td>Департамент B</td>\n",
       "      <td>Довгополый Иоанн Алексеевич</td>\n",
       "      <td>ioannundseineigentum@gmail.com</td>\n",
       "    </tr>\n",
       "    <tr>\n",
       "      <th>27</th>\n",
       "      <td>Блок 6</td>\n",
       "      <td>Департамент C</td>\n",
       "      <td>Довгополый Иоанн Алексеевич</td>\n",
       "      <td>ioannundseineigentum@gmail.com</td>\n",
       "    </tr>\n",
       "    <tr>\n",
       "      <th>28</th>\n",
       "      <td>Блок 6</td>\n",
       "      <td>Департамент D</td>\n",
       "      <td>Довгополый Иоанн Алексеевич</td>\n",
       "      <td>ioannundseineigentum@gmail.com</td>\n",
       "    </tr>\n",
       "    <tr>\n",
       "      <th>29</th>\n",
       "      <td>Блок 6</td>\n",
       "      <td>Департамент E</td>\n",
       "      <td>Довгополый Иоанн Алексеевич</td>\n",
       "      <td>ioannundseineigentum@gmail.com</td>\n",
       "    </tr>\n",
       "    <tr>\n",
       "      <th>30</th>\n",
       "      <td>Блок 6</td>\n",
       "      <td>Департамент F</td>\n",
       "      <td>Довгополый Иоанн Алексеевич</td>\n",
       "      <td>ioannundseineigentum@gmail.com</td>\n",
       "    </tr>\n",
       "    <tr>\n",
       "      <th>31</th>\n",
       "      <td>Блок 6</td>\n",
       "      <td>Департамент G</td>\n",
       "      <td>Довгополый Иоанн Алексеевич</td>\n",
       "      <td>ioannundseineigentum@gmail.com</td>\n",
       "    </tr>\n",
       "    <tr>\n",
       "      <th>32</th>\n",
       "      <td>Блок 6</td>\n",
       "      <td>Департамент H</td>\n",
       "      <td>Довгополый Иоанн Алексеевич</td>\n",
       "      <td>ioannundseineigentum@gmail.com</td>\n",
       "    </tr>\n",
       "    <tr>\n",
       "      <th>33</th>\n",
       "      <td>Блок 6</td>\n",
       "      <td>Департамент I</td>\n",
       "      <td>Довгополый Иоанн Алексеевич</td>\n",
       "      <td>ioannundseineigentum@gmail.com</td>\n",
       "    </tr>\n",
       "    <tr>\n",
       "      <th>34</th>\n",
       "      <td>Блок 6</td>\n",
       "      <td>Департамент J</td>\n",
       "      <td>Довгополый Иоанн Алексеевич</td>\n",
       "      <td>ioannundseineigentum@gmail.com</td>\n",
       "    </tr>\n",
       "    <tr>\n",
       "      <th>35</th>\n",
       "      <td>Блок 6</td>\n",
       "      <td>Департамент K</td>\n",
       "      <td>Довгополый Иоанн Алексеевич</td>\n",
       "      <td>ioannundseineigentum@gmail.com</td>\n",
       "    </tr>\n",
       "    <tr>\n",
       "      <th>36</th>\n",
       "      <td>Блок 6</td>\n",
       "      <td>Департамент L</td>\n",
       "      <td>Довгополый Иоанн Алексеевич</td>\n",
       "      <td>ioannundseineigentum@gmail.com</td>\n",
       "    </tr>\n",
       "    <tr>\n",
       "      <th>37</th>\n",
       "      <td>Блок 7</td>\n",
       "      <td>Департамент A</td>\n",
       "      <td>Довгополый Иоанн Алексеевич</td>\n",
       "      <td>ioannundseineigentum@gmail.com</td>\n",
       "    </tr>\n",
       "    <tr>\n",
       "      <th>38</th>\n",
       "      <td>Блок 7</td>\n",
       "      <td>Департамент B</td>\n",
       "      <td>Довгополый Иоанн Алексеевич</td>\n",
       "      <td>ioannundseineigentum@gmail.com</td>\n",
       "    </tr>\n",
       "    <tr>\n",
       "      <th>39</th>\n",
       "      <td>Блок 7</td>\n",
       "      <td>Департамент C</td>\n",
       "      <td>Довгополый Иоанн Алексеевич</td>\n",
       "      <td>ioannundseineigentum@gmail.com</td>\n",
       "    </tr>\n",
       "    <tr>\n",
       "      <th>40</th>\n",
       "      <td>Блок 7</td>\n",
       "      <td>Департамент D</td>\n",
       "      <td>Довгополый Иоанн Алексеевич</td>\n",
       "      <td>ioannundseineigentum@gmail.com</td>\n",
       "    </tr>\n",
       "    <tr>\n",
       "      <th>41</th>\n",
       "      <td>Блок 7</td>\n",
       "      <td>Департамент E</td>\n",
       "      <td>Довгополый Иоанн Алексеевич</td>\n",
       "      <td>ioannundseineigentum@gmail.com</td>\n",
       "    </tr>\n",
       "    <tr>\n",
       "      <th>42</th>\n",
       "      <td>Блок 7</td>\n",
       "      <td>Департамент F</td>\n",
       "      <td>Довгополый Иоанн Алексеевич</td>\n",
       "      <td>ioannundseineigentum@gmail.com</td>\n",
       "    </tr>\n",
       "    <tr>\n",
       "      <th>43</th>\n",
       "      <td>Блок 7</td>\n",
       "      <td>Департамент G</td>\n",
       "      <td>Довгополый Иоанн Алексеевич</td>\n",
       "      <td>ioannundseineigentum@gmail.com</td>\n",
       "    </tr>\n",
       "    <tr>\n",
       "      <th>44</th>\n",
       "      <td>Блок 7</td>\n",
       "      <td>Департамент H</td>\n",
       "      <td>Довгополый Иоанн Алексеевич</td>\n",
       "      <td>ioannundseineigentum@gmail.com</td>\n",
       "    </tr>\n",
       "    <tr>\n",
       "      <th>45</th>\n",
       "      <td>Блок 7</td>\n",
       "      <td>Департамент I</td>\n",
       "      <td>Довгополый Иоанн Алексеевич</td>\n",
       "      <td>ioannundseineigentum@gmail.com</td>\n",
       "    </tr>\n",
       "    <tr>\n",
       "      <th>46</th>\n",
       "      <td>Блок 7</td>\n",
       "      <td>Департамент J</td>\n",
       "      <td>Довгополый Иоанн Алексеевич</td>\n",
       "      <td>ioannundseineigentum@gmail.com</td>\n",
       "    </tr>\n",
       "    <tr>\n",
       "      <th>47</th>\n",
       "      <td>Блок 7</td>\n",
       "      <td>Департамент K</td>\n",
       "      <td>Довгополый Иоанн Алексеевич</td>\n",
       "      <td>ioannundseineigentum@gmail.com</td>\n",
       "    </tr>\n",
       "    <tr>\n",
       "      <th>48</th>\n",
       "      <td>Блок 7</td>\n",
       "      <td>Департамент L</td>\n",
       "      <td>Довгополый Иоанн Алексеевич</td>\n",
       "      <td>ioannundseineigentum@gmail.com</td>\n",
       "    </tr>\n",
       "    <tr>\n",
       "      <th>49</th>\n",
       "      <td>Блок 8</td>\n",
       "      <td>Департамент A</td>\n",
       "      <td>Довгополый Иоанн Алексеевич</td>\n",
       "      <td>ioannundseineigentum@gmail.com</td>\n",
       "    </tr>\n",
       "    <tr>\n",
       "      <th>50</th>\n",
       "      <td>Блок 8</td>\n",
       "      <td>Департамент B</td>\n",
       "      <td>Довгополый Иоанн Алексеевич</td>\n",
       "      <td>ioannundseineigentum@gmail.com</td>\n",
       "    </tr>\n",
       "    <tr>\n",
       "      <th>51</th>\n",
       "      <td>Блок 8</td>\n",
       "      <td>Департамент C</td>\n",
       "      <td>Довгополый Иоанн Алексеевич</td>\n",
       "      <td>ioannundseineigentum@gmail.com</td>\n",
       "    </tr>\n",
       "    <tr>\n",
       "      <th>52</th>\n",
       "      <td>Блок 8</td>\n",
       "      <td>Департамент D</td>\n",
       "      <td>Довгополый Иоанн Алексеевич</td>\n",
       "      <td>ioannundseineigentum@gmail.com</td>\n",
       "    </tr>\n",
       "    <tr>\n",
       "      <th>53</th>\n",
       "      <td>Блок 8</td>\n",
       "      <td>Департамент E</td>\n",
       "      <td>Довгополый Иоанн Алексеевич</td>\n",
       "      <td>ioannundseineigentum@gmail.com</td>\n",
       "    </tr>\n",
       "    <tr>\n",
       "      <th>54</th>\n",
       "      <td>Блок 8</td>\n",
       "      <td>Департамент F</td>\n",
       "      <td>Довгополый Иоанн Алексеевич</td>\n",
       "      <td>ioannundseineigentum@gmail.com</td>\n",
       "    </tr>\n",
       "    <tr>\n",
       "      <th>55</th>\n",
       "      <td>Блок 9</td>\n",
       "      <td>Департамент A</td>\n",
       "      <td>Довгополый Иоанн Алексеевич</td>\n",
       "      <td>ioannundseineigentum@gmail.com</td>\n",
       "    </tr>\n",
       "    <tr>\n",
       "      <th>56</th>\n",
       "      <td>Блок 9</td>\n",
       "      <td>Департамент B</td>\n",
       "      <td>Довгополый Иоанн Алексеевич</td>\n",
       "      <td>ioannundseineigentum@gmail.com</td>\n",
       "    </tr>\n",
       "  </tbody>\n",
       "</table>\n",
       "</div>"
      ],
      "text/plain": [
       "     block     department                          fio  \\\n",
       "0   Блок 1  Департамент A  Довгополый Иоанн Алексеевич   \n",
       "1   Блок 1  Департамент B  Довгополый Иоанн Алексеевич   \n",
       "2   Блок 1  Департамент C  Довгополый Иоанн Алексеевич   \n",
       "3   Блок 2  Департамент A  Довгополый Иоанн Алексеевич   \n",
       "4   Блок 2  Департамент B  Довгополый Иоанн Алексеевич   \n",
       "5   Блок 2  Департамент C  Довгополый Иоанн Алексеевич   \n",
       "6   Блок 2  Департамент D  Довгополый Иоанн Алексеевич   \n",
       "7   Блок 2  Департамент E  Довгополый Иоанн Алексеевич   \n",
       "8   Блок 2  Департамент F  Довгополый Иоанн Алексеевич   \n",
       "9   Блок 2  Департамент G  Довгополый Иоанн Алексеевич   \n",
       "10  Блок 3  Департамент A  Довгополый Иоанн Алексеевич   \n",
       "11  Блок 3  Департамент B  Довгополый Иоанн Алексеевич   \n",
       "12  Блок 4  Департамент A  Довгополый Иоанн Алексеевич   \n",
       "13  Блок 5  Департамент A  Довгополый Иоанн Алексеевич   \n",
       "14  Блок 5  Департамент B  Довгополый Иоанн Алексеевич   \n",
       "15  Блок 5  Департамент C  Довгополый Иоанн Алексеевич   \n",
       "16  Блок 5  Департамент D  Довгополый Иоанн Алексеевич   \n",
       "17  Блок 5  Департамент E  Довгополый Иоанн Алексеевич   \n",
       "18  Блок 5  Департамент F  Довгополый Иоанн Алексеевич   \n",
       "19  Блок 5  Департамент G  Довгополый Иоанн Алексеевич   \n",
       "20  Блок 5  Департамент H  Довгополый Иоанн Алексеевич   \n",
       "21  Блок 5  Департамент I  Довгополый Иоанн Алексеевич   \n",
       "22  Блок 5  Департамент J  Довгополый Иоанн Алексеевич   \n",
       "23  Блок 5  Департамент K  Довгополый Иоанн Алексеевич   \n",
       "24  Блок 5  Департамент L  Довгополый Иоанн Алексеевич   \n",
       "25  Блок 6  Департамент A  Довгополый Иоанн Алексеевич   \n",
       "26  Блок 6  Департамент B  Довгополый Иоанн Алексеевич   \n",
       "27  Блок 6  Департамент C  Довгополый Иоанн Алексеевич   \n",
       "28  Блок 6  Департамент D  Довгополый Иоанн Алексеевич   \n",
       "29  Блок 6  Департамент E  Довгополый Иоанн Алексеевич   \n",
       "30  Блок 6  Департамент F  Довгополый Иоанн Алексеевич   \n",
       "31  Блок 6  Департамент G  Довгополый Иоанн Алексеевич   \n",
       "32  Блок 6  Департамент H  Довгополый Иоанн Алексеевич   \n",
       "33  Блок 6  Департамент I  Довгополый Иоанн Алексеевич   \n",
       "34  Блок 6  Департамент J  Довгополый Иоанн Алексеевич   \n",
       "35  Блок 6  Департамент K  Довгополый Иоанн Алексеевич   \n",
       "36  Блок 6  Департамент L  Довгополый Иоанн Алексеевич   \n",
       "37  Блок 7  Департамент A  Довгополый Иоанн Алексеевич   \n",
       "38  Блок 7  Департамент B  Довгополый Иоанн Алексеевич   \n",
       "39  Блок 7  Департамент C  Довгополый Иоанн Алексеевич   \n",
       "40  Блок 7  Департамент D  Довгополый Иоанн Алексеевич   \n",
       "41  Блок 7  Департамент E  Довгополый Иоанн Алексеевич   \n",
       "42  Блок 7  Департамент F  Довгополый Иоанн Алексеевич   \n",
       "43  Блок 7  Департамент G  Довгополый Иоанн Алексеевич   \n",
       "44  Блок 7  Департамент H  Довгополый Иоанн Алексеевич   \n",
       "45  Блок 7  Департамент I  Довгополый Иоанн Алексеевич   \n",
       "46  Блок 7  Департамент J  Довгополый Иоанн Алексеевич   \n",
       "47  Блок 7  Департамент K  Довгополый Иоанн Алексеевич   \n",
       "48  Блок 7  Департамент L  Довгополый Иоанн Алексеевич   \n",
       "49  Блок 8  Департамент A  Довгополый Иоанн Алексеевич   \n",
       "50  Блок 8  Департамент B  Довгополый Иоанн Алексеевич   \n",
       "51  Блок 8  Департамент C  Довгополый Иоанн Алексеевич   \n",
       "52  Блок 8  Департамент D  Довгополый Иоанн Алексеевич   \n",
       "53  Блок 8  Департамент E  Довгополый Иоанн Алексеевич   \n",
       "54  Блок 8  Департамент F  Довгополый Иоанн Алексеевич   \n",
       "55  Блок 9  Департамент A  Довгополый Иоанн Алексеевич   \n",
       "56  Блок 9  Департамент B  Довгополый Иоанн Алексеевич   \n",
       "\n",
       "                             email  \n",
       "0   ioannundseineigentum@gmail.com  \n",
       "1   ioannundseineigentum@gmail.com  \n",
       "2   ioannundseineigentum@gmail.com  \n",
       "3   ioannundseineigentum@gmail.com  \n",
       "4   ioannundseineigentum@gmail.com  \n",
       "5   ioannundseineigentum@gmail.com  \n",
       "6   ioannundseineigentum@gmail.com  \n",
       "7   ioannundseineigentum@gmail.com  \n",
       "8   ioannundseineigentum@gmail.com  \n",
       "9   ioannundseineigentum@gmail.com  \n",
       "10  ioannundseineigentum@gmail.com  \n",
       "11  ioannundseineigentum@gmail.com  \n",
       "12  ioannundseineigentum@gmail.com  \n",
       "13  ioannundseineigentum@gmail.com  \n",
       "14  ioannundseineigentum@gmail.com  \n",
       "15  ioannundseineigentum@gmail.com  \n",
       "16  ioannundseineigentum@gmail.com  \n",
       "17  ioannundseineigentum@gmail.com  \n",
       "18  ioannundseineigentum@gmail.com  \n",
       "19  ioannundseineigentum@gmail.com  \n",
       "20  ioannundseineigentum@gmail.com  \n",
       "21  ioannundseineigentum@gmail.com  \n",
       "22  ioannundseineigentum@gmail.com  \n",
       "23  ioannundseineigentum@gmail.com  \n",
       "24  ioannundseineigentum@gmail.com  \n",
       "25  ioannundseineigentum@gmail.com  \n",
       "26  ioannundseineigentum@gmail.com  \n",
       "27  ioannundseineigentum@gmail.com  \n",
       "28  ioannundseineigentum@gmail.com  \n",
       "29  ioannundseineigentum@gmail.com  \n",
       "30  ioannundseineigentum@gmail.com  \n",
       "31  ioannundseineigentum@gmail.com  \n",
       "32  ioannundseineigentum@gmail.com  \n",
       "33  ioannundseineigentum@gmail.com  \n",
       "34  ioannundseineigentum@gmail.com  \n",
       "35  ioannundseineigentum@gmail.com  \n",
       "36  ioannundseineigentum@gmail.com  \n",
       "37  ioannundseineigentum@gmail.com  \n",
       "38  ioannundseineigentum@gmail.com  \n",
       "39  ioannundseineigentum@gmail.com  \n",
       "40  ioannundseineigentum@gmail.com  \n",
       "41  ioannundseineigentum@gmail.com  \n",
       "42  ioannundseineigentum@gmail.com  \n",
       "43  ioannundseineigentum@gmail.com  \n",
       "44  ioannundseineigentum@gmail.com  \n",
       "45  ioannundseineigentum@gmail.com  \n",
       "46  ioannundseineigentum@gmail.com  \n",
       "47  ioannundseineigentum@gmail.com  \n",
       "48  ioannundseineigentum@gmail.com  \n",
       "49  ioannundseineigentum@gmail.com  \n",
       "50  ioannundseineigentum@gmail.com  \n",
       "51  ioannundseineigentum@gmail.com  \n",
       "52  ioannundseineigentum@gmail.com  \n",
       "53  ioannundseineigentum@gmail.com  \n",
       "54  ioannundseineigentum@gmail.com  \n",
       "55  ioannundseineigentum@gmail.com  \n",
       "56  ioannundseineigentum@gmail.com  "
      ]
     },
     "execution_count": 58,
     "metadata": {},
     "output_type": "execute_result"
    }
   ],
   "source": [
    "info_path = Path('../Занятие 5/sources/Справочник.xlsx')\n",
    "\n",
    "parse_info(info_path)"
   ]
  },
  {
   "cell_type": "markdown",
   "id": "9f77edf7-72ef-466d-ab78-dc9b18bca96e",
   "metadata": {},
   "source": [
    "**Как быть с docstring?**"
   ]
  },
  {
   "cell_type": "code",
   "execution_count": 60,
   "id": "46374869-89d3-4826-be4c-56eeeb7b3bb5",
   "metadata": {},
   "outputs": [],
   "source": [
    "def func(n):\n",
    "    \"\"\"\n",
    "    This function powers input n by 2\n",
    "    \"\"\"\n",
    "    return n ** 2"
   ]
  },
  {
   "cell_type": "code",
   "execution_count": 61,
   "id": "29d9411d-90fe-4c87-ac4a-eaab30bf828b",
   "metadata": {},
   "outputs": [
    {
     "data": {
      "text/plain": [
       "'\\n    This function powers input n by 2\\n    '"
      ]
     },
     "execution_count": 61,
     "metadata": {},
     "output_type": "execute_result"
    }
   ],
   "source": [
    "func.__doc__"
   ]
  },
  {
   "cell_type": "code",
   "execution_count": 63,
   "id": "35464259-a112-41a1-b726-807c877ed3c1",
   "metadata": {},
   "outputs": [],
   "source": [
    "def divider(func):\n",
    "    def wrapper(*args, **kwargs):\n",
    "        result = func(*args, **kwargs)\n",
    "        return result ** (1 / 2)\n",
    "    return wrapper"
   ]
  },
  {
   "cell_type": "code",
   "execution_count": 64,
   "id": "16683d19-780b-49a1-b224-96044ae1c2e6",
   "metadata": {},
   "outputs": [],
   "source": [
    "@divider\n",
    "def func(n):\n",
    "    return n ** 2"
   ]
  },
  {
   "cell_type": "code",
   "execution_count": 65,
   "id": "4596d010-f16a-42b7-9953-4ed557ff6895",
   "metadata": {},
   "outputs": [
    {
     "data": {
      "text/plain": [
       "\u001b[0;31mSignature:\u001b[0m \u001b[0mfunc\u001b[0m\u001b[0;34m(\u001b[0m\u001b[0;34m*\u001b[0m\u001b[0margs\u001b[0m\u001b[0;34m,\u001b[0m \u001b[0;34m**\u001b[0m\u001b[0mkwargs\u001b[0m\u001b[0;34m)\u001b[0m\u001b[0;34m\u001b[0m\u001b[0;34m\u001b[0m\u001b[0m\n",
       "\u001b[0;31mDocstring:\u001b[0m <no docstring>\n",
       "\u001b[0;31mFile:\u001b[0m      /var/folders/h6/lv17v1r10lz21g745pd6774h0tgc4z/T/ipykernel_24880/3284642871.py\n",
       "\u001b[0;31mType:\u001b[0m      function"
      ]
     },
     "metadata": {},
     "output_type": "display_data"
    }
   ],
   "source": [
    "?func"
   ]
  },
  {
   "cell_type": "markdown",
   "id": "8c418eaf-3839-4f9e-9e38-d5425756d80f",
   "metadata": {},
   "source": [
    "**Решение**"
   ]
  },
  {
   "cell_type": "code",
   "execution_count": 78,
   "id": "282c053d-56d0-4d0f-9bdb-114ba81d2794",
   "metadata": {},
   "outputs": [],
   "source": [
    "def func(n):\n",
    "    \"\"\"\n",
    "    This function powers input n by 2\n",
    "    \"\"\"\n",
    "    return n ** 2"
   ]
  },
  {
   "cell_type": "code",
   "execution_count": 79,
   "id": "31801df0-09aa-4311-b594-ee73a913f2bd",
   "metadata": {},
   "outputs": [],
   "source": [
    "import functools\n",
    "\n",
    "def divider(func):\n",
    "    @functools.wraps(func)\n",
    "    def wrapper(*args, **kwargs):\n",
    "        result = func(*args, **kwargs)\n",
    "        return result ** (1 / 2)\n",
    "    return wrapper"
   ]
  },
  {
   "cell_type": "code",
   "execution_count": 82,
   "id": "ffc3b06f-6ebd-4223-bb44-d03d6bf7fe88",
   "metadata": {},
   "outputs": [],
   "source": [
    "@divider\n",
    "def func(n):\n",
    "    \"\"\"\n",
    "    This function powers input n by 2\n",
    "    \"\"\"\n",
    "    return n ** 2"
   ]
  },
  {
   "cell_type": "code",
   "execution_count": 83,
   "id": "f6be84c0-2125-41b6-a922-6487453841a8",
   "metadata": {},
   "outputs": [
    {
     "data": {
      "text/plain": [
       "\u001b[0;31mSignature:\u001b[0m \u001b[0mfunc\u001b[0m\u001b[0;34m(\u001b[0m\u001b[0mn\u001b[0m\u001b[0;34m)\u001b[0m\u001b[0;34m\u001b[0m\u001b[0;34m\u001b[0m\u001b[0m\n",
       "\u001b[0;31mDocstring:\u001b[0m This function powers input n by 2\n",
       "\u001b[0;31mFile:\u001b[0m      /var/folders/h6/lv17v1r10lz21g745pd6774h0tgc4z/T/ipykernel_24880/2309582757.py\n",
       "\u001b[0;31mType:\u001b[0m      function"
      ]
     },
     "metadata": {},
     "output_type": "display_data"
    }
   ],
   "source": [
    "?func"
   ]
  },
  {
   "cell_type": "code",
   "execution_count": 72,
   "id": "738e3967-f6fa-4338-97cd-6f4aba9f2037",
   "metadata": {},
   "outputs": [],
   "source": [
    "def func(n):\n",
    "    \"\"\"\n",
    "    This function powers input n by 2\n",
    "    \"\"\"\n",
    "    return n ** 2"
   ]
  },
  {
   "cell_type": "code",
   "execution_count": 88,
   "id": "0dbeadbb-b939-4c70-a49d-89c400d629c4",
   "metadata": {},
   "outputs": [],
   "source": [
    "def divider(func):\n",
    "    doc = func.__doc__\n",
    "    \n",
    "    def wrapper(*args, **kwargs):\n",
    "        result = func(*args, **kwargs)\n",
    "        return result ** (1 / 2)\n",
    "\n",
    "    wrapper.doc = doc\n",
    "    \n",
    "    return wrapper"
   ]
  },
  {
   "cell_type": "code",
   "execution_count": 89,
   "id": "9c09f9f1-fdf9-4468-afbe-f093d7e1e197",
   "metadata": {},
   "outputs": [],
   "source": [
    "@divider\n",
    "def func(n):\n",
    "    \"\"\"\n",
    "    This function powers input n by 2\n",
    "    \"\"\"\n",
    "    return n ** 2"
   ]
  },
  {
   "cell_type": "code",
   "execution_count": 90,
   "id": "5e6cf3b1-c908-44d0-881e-f18c6b3b1b6c",
   "metadata": {},
   "outputs": [
    {
     "data": {
      "text/plain": [
       "\u001b[0;31mSignature:\u001b[0m \u001b[0mfunc\u001b[0m\u001b[0;34m(\u001b[0m\u001b[0;34m*\u001b[0m\u001b[0margs\u001b[0m\u001b[0;34m,\u001b[0m \u001b[0;34m**\u001b[0m\u001b[0mkwargs\u001b[0m\u001b[0;34m)\u001b[0m\u001b[0;34m\u001b[0m\u001b[0;34m\u001b[0m\u001b[0m\n",
       "\u001b[0;31mDocstring:\u001b[0m <no docstring>\n",
       "\u001b[0;31mFile:\u001b[0m      /var/folders/h6/lv17v1r10lz21g745pd6774h0tgc4z/T/ipykernel_24880/126067108.py\n",
       "\u001b[0;31mType:\u001b[0m      function"
      ]
     },
     "metadata": {},
     "output_type": "display_data"
    }
   ],
   "source": [
    "?func"
   ]
  },
  {
   "cell_type": "markdown",
   "id": "b986047d-5203-4403-bf28-849521adafd1",
   "metadata": {},
   "source": [
    "#### Некоторые полезные декораторы\n",
    "\n",
    "1. @classmethod (метод для класса, подразумевает аргумент cls);\n",
    "2. @staticmethod (метод для класса, не привязан классу никак кроме namespace);\n",
    "3. @abstractmethod (только обозначить наличие метода);\n",
    "4. @typing.final (обозначить, что от класса нельзя наследоваться);\n",
    "5. @lru_cache."
   ]
  },
  {
   "cell_type": "code",
   "execution_count": 91,
   "id": "84bd917a-d0e6-4765-bc9c-75978af96d44",
   "metadata": {},
   "outputs": [],
   "source": [
    "from abc import ABC, abstractmethod"
   ]
  },
  {
   "cell_type": "code",
   "execution_count": 94,
   "id": "fa223a88-9ac6-4b4f-af79-17a044422e79",
   "metadata": {},
   "outputs": [],
   "source": [
    "class ParentOnly(ABC):\n",
    "    @abstractmethod\n",
    "    def _get_params(self, data):  # must be specified in child class\n",
    "        pass\n",
    "\n",
    "    @abstractmethod\n",
    "    def _apply_params(self, data):  # must be specified in child class\n",
    "        pass"
   ]
  },
  {
   "cell_type": "code",
   "execution_count": 95,
   "id": "12a426b7-adb3-47f9-bea1-4c6da329f918",
   "metadata": {},
   "outputs": [
    {
     "ename": "TypeError",
     "evalue": "Can't instantiate abstract class ParentOnly with abstract methods _apply_params, _get_params",
     "output_type": "error",
     "traceback": [
      "\u001b[0;31m---------------------------------------------------------------------------\u001b[0m",
      "\u001b[0;31mTypeError\u001b[0m                                 Traceback (most recent call last)",
      "Cell \u001b[0;32mIn[95], line 1\u001b[0m\n\u001b[0;32m----> 1\u001b[0m po \u001b[38;5;241m=\u001b[39m \u001b[43mParentOnly\u001b[49m\u001b[43m(\u001b[49m\u001b[43m)\u001b[49m\n",
      "\u001b[0;31mTypeError\u001b[0m: Can't instantiate abstract class ParentOnly with abstract methods _apply_params, _get_params"
     ]
    }
   ],
   "source": [
    "po = ParentOnly()"
   ]
  },
  {
   "cell_type": "code",
   "execution_count": 104,
   "id": "a871715f-c406-4f23-b851-c9a9892c847f",
   "metadata": {},
   "outputs": [],
   "source": [
    "import typing\n",
    "\n",
    "@typing.final\n",
    "class FinalDescendant:\n",
    "    def __init__(self):\n",
    "        super().__init__()"
   ]
  },
  {
   "cell_type": "code",
   "execution_count": 103,
   "id": "a918aa1c-fdd2-44b7-961f-0f0c9176709f",
   "metadata": {},
   "outputs": [
    {
     "data": {
      "text/plain": [
       "\u001b[0;31mInit signature:\u001b[0m \u001b[0mFinalDescendant\u001b[0m\u001b[0;34m(\u001b[0m\u001b[0;34m)\u001b[0m\u001b[0;34m\u001b[0m\u001b[0;34m\u001b[0m\u001b[0m\n",
       "\u001b[0;31mDocstring:\u001b[0m     \n",
       "Helper class that provides a standard way to create an ABC using\n",
       "inheritance.\n",
       "\u001b[0;31mType:\u001b[0m           ABCMeta\n",
       "\u001b[0;31mSubclasses:\u001b[0m     "
      ]
     },
     "metadata": {},
     "output_type": "display_data"
    }
   ],
   "source": [
    "?FinalDescendant"
   ]
  },
  {
   "cell_type": "code",
   "execution_count": 105,
   "id": "8c18809d-f328-421d-b3eb-00acf34e88ce",
   "metadata": {},
   "outputs": [],
   "source": [
    "class FinalFinalDescendant(FinalDescendant):\n",
    "    pass"
   ]
  },
  {
   "cell_type": "code",
   "execution_count": 106,
   "id": "07361a37-a840-42cd-893d-d72cc906a425",
   "metadata": {},
   "outputs": [],
   "source": [
    "f = FinalFinalDescendant()"
   ]
  },
  {
   "cell_type": "markdown",
   "id": "a83143d5-0cfd-4617-8c90-05874a0c34e7",
   "metadata": {},
   "source": [
    "#### Практика\n",
    "Напишите декоратор для сохранения логов в файл stdout.txt. Модифицируйте проект по рассылке отчетов."
   ]
  },
  {
   "cell_type": "code",
   "execution_count": 107,
   "id": "8cdb7839-c40f-4244-94f0-203469fdc268",
   "metadata": {},
   "outputs": [],
   "source": [
    "import sys"
   ]
  },
  {
   "cell_type": "code",
   "execution_count": 109,
   "id": "8bf70e14-906d-477c-a9d7-0a80b7de8541",
   "metadata": {},
   "outputs": [],
   "source": [
    "def printer(number):\n",
    "    print(number)\n",
    "\n",
    "def printer2(number):\n",
    "    print(str(number) * 10)"
   ]
  },
  {
   "cell_type": "code",
   "execution_count": 110,
   "id": "412e71a2-814d-4e13-9623-1d7ce0bf509e",
   "metadata": {},
   "outputs": [
    {
     "name": "stdout",
     "output_type": "stream",
     "text": [
      "9\n",
      "9999999999\n"
     ]
    }
   ],
   "source": [
    "number = 9\n",
    "\n",
    "printer(number)\n",
    "printer2(number)"
   ]
  },
  {
   "cell_type": "code",
   "execution_count": 1,
   "id": "348ad981-ab13-4f16-83b1-8a8a4f1d2f77",
   "metadata": {},
   "outputs": [],
   "source": [
    "import sys\n",
    "\n",
    "def catcher(func):\n",
    "    def wrapper(*args, **kwargs):\n",
    "        original_stdout = sys.stdout\n",
    "\n",
    "        with open('stdout.txt', 'a') as file:\n",
    "            sys.stdout = file\n",
    "            func(*args, **kwargs)\n",
    "\n",
    "        sys.stdout = original_stdout\n",
    "\n",
    "    return wrapper"
   ]
  },
  {
   "cell_type": "code",
   "execution_count": 2,
   "id": "439f2f5f-ab70-47ac-b7b3-37f8468550a1",
   "metadata": {},
   "outputs": [],
   "source": [
    "@catcher\n",
    "def printer(number):\n",
    "    print(number)\n",
    "\n",
    "@catcher\n",
    "def printer2(number):\n",
    "    print(str(number) * 10)"
   ]
  },
  {
   "cell_type": "code",
   "execution_count": 3,
   "id": "4b6043b7-a212-4c92-8b28-7c1a32d202ff",
   "metadata": {},
   "outputs": [],
   "source": [
    "for i in range(100):\n",
    "    printer(i)\n",
    "    printer2(i)"
   ]
  },
  {
   "cell_type": "code",
   "execution_count": null,
   "id": "146bc4b1-5b5e-4c2c-8194-a688c36078f1",
   "metadata": {},
   "outputs": [],
   "source": []
  },
  {
   "cell_type": "code",
   "execution_count": null,
   "id": "55485411-0dc1-4513-9b16-678a265ad18a",
   "metadata": {},
   "outputs": [],
   "source": []
  },
  {
   "cell_type": "code",
   "execution_count": 108,
   "id": "b2685e05-734d-40c1-9ff0-6709246ab801",
   "metadata": {},
   "outputs": [
    {
     "data": {
      "text/plain": [
       "<ipykernel.iostream.OutStream at 0x1076e1b70>"
      ]
     },
     "execution_count": 108,
     "metadata": {},
     "output_type": "execute_result"
    }
   ],
   "source": [
    "sys.stdout"
   ]
  },
  {
   "cell_type": "code",
   "execution_count": null,
   "id": "2b2cb594-6b2c-46f6-9bb1-e7b51d5e8970",
   "metadata": {},
   "outputs": [],
   "source": [
    "# наш код здесь"
   ]
  }
 ],
 "metadata": {
  "kernelspec": {
   "display_name": "Python 3 (ipykernel)",
   "language": "python",
   "name": "python3"
  },
  "language_info": {
   "codemirror_mode": {
    "name": "ipython",
    "version": 3
   },
   "file_extension": ".py",
   "mimetype": "text/x-python",
   "name": "python",
   "nbconvert_exporter": "python",
   "pygments_lexer": "ipython3",
   "version": "3.11.5"
  }
 },
 "nbformat": 4,
 "nbformat_minor": 5
}
