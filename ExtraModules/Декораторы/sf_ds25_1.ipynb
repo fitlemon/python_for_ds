{
 "cells": [
  {
   "cell_type": "markdown",
   "id": "0d7c1ac1",
   "metadata": {},
   "source": [
    "# Программирование на языке Python\n",
    "## Семинар 25. Функции, замыкание и декораторы\n",
    "Полезная информация для понимания темы:\n",
    "\n",
    "1. [Функции - это объекты первого класса](https://habr.com/ru/companies/otus/articles/725374/);\n",
    "2. [Декораторы](https://habr.com/ru/companies/otus/articles/727590/);\n",
    "3. [Некоторые встроенные декораторы](https://www.geeksforgeeks.org/top-python-built-in-decorators-that-optimize-python-code-significantly/).\n",
    "\n",
    "#### План занятия\n",
    "1. Немного теории;\n",
    "2. Некоторые полезные декораторы;\n",
    "3. Практикум: настроим логи с помощью декоратора.\n",
    "\n",
    "#### Лексическое замыкание\n",
    "Это способность функции \"запоминать\" состояние родительской функции.\n",
    "\n",
    "Рассмотрим на примере:"
   ]
  },
  {
   "cell_type": "code",
   "execution_count": 2,
   "id": "162fb173-8ce1-4277-8c95-f1a67f51849d",
   "metadata": {},
   "outputs": [],
   "source": [
    "def enclosing_function():  # функция высшего порядка\n",
    "    def show_local_state():\n",
    "        return 'local state'\n",
    "\n",
    "    return show_local_state"
   ]
  },
  {
   "cell_type": "code",
   "execution_count": 3,
   "id": "b51d44bc-edca-42fa-8fb0-82522e8528e1",
   "metadata": {},
   "outputs": [
    {
     "data": {
      "text/plain": [
       "'local state'"
      ]
     },
     "execution_count": 3,
     "metadata": {},
     "output_type": "execute_result"
    }
   ],
   "source": [
    "fun_from_fun = enclosing_function()  # функция сама по себе может быть возвращена другой функцией\n",
    "fun_from_fun()"
   ]
  },
  {
   "cell_type": "code",
   "execution_count": 5,
   "id": "bb28e47e-0192-4c4b-894b-242f3b86c43a",
   "metadata": {},
   "outputs": [
    {
     "data": {
      "text/plain": [
       "<function __main__.enclosing_function()>"
      ]
     },
     "execution_count": 5,
     "metadata": {},
     "output_type": "execute_result"
    }
   ],
   "source": [
    "enclosing_function"
   ]
  },
  {
   "cell_type": "code",
   "execution_count": 4,
   "id": "4172da53-67c0-4f89-a833-9d6ab58b3ae0",
   "metadata": {},
   "outputs": [
    {
     "data": {
      "text/plain": [
       "<function __main__.enclosing_function.<locals>.show_local_state()>"
      ]
     },
     "execution_count": 4,
     "metadata": {},
     "output_type": "execute_result"
    }
   ],
   "source": [
    "fun_from_fun"
   ]
  },
  {
   "cell_type": "code",
   "execution_count": 11,
   "id": "5072edb7-2c48-4567-b365-5a1b8c5f51f2",
   "metadata": {},
   "outputs": [],
   "source": [
    "class NotCallable:\n",
    "    def __init__(self):\n",
    "        self.is_collable = 'not callable'"
   ]
  },
  {
   "cell_type": "code",
   "execution_count": 12,
   "id": "b6d57193-7da1-4508-bc85-752343b7baec",
   "metadata": {},
   "outputs": [
    {
     "ename": "TypeError",
     "evalue": "'NotCallable' object is not callable",
     "output_type": "error",
     "traceback": [
      "\u001b[0;31m---------------------------------------------------------------------------\u001b[0m",
      "\u001b[0;31mTypeError\u001b[0m                                 Traceback (most recent call last)",
      "Cell \u001b[0;32mIn[12], line 2\u001b[0m\n\u001b[1;32m      1\u001b[0m nc \u001b[38;5;241m=\u001b[39m NotCallable()\n\u001b[0;32m----> 2\u001b[0m \u001b[43mnc\u001b[49m\u001b[43m(\u001b[49m\u001b[43m)\u001b[49m\n",
      "\u001b[0;31mTypeError\u001b[0m: 'NotCallable' object is not callable"
     ]
    }
   ],
   "source": [
    "nc = NotCallable()\n",
    "nc()"
   ]
  },
  {
   "cell_type": "code",
   "execution_count": 13,
   "id": "9c2d969c-3662-427d-81f5-ab489617f5c0",
   "metadata": {},
   "outputs": [],
   "source": [
    "class Callable:\n",
    "    def __init__(self):\n",
    "        self.is_collable = 'not callable'\n",
    "\n",
    "    def __call__(self):\n",
    "        return \"what you get when call me\""
   ]
  },
  {
   "cell_type": "code",
   "execution_count": 14,
   "id": "d0fb3df4-f830-45ca-8541-1161184d1631",
   "metadata": {},
   "outputs": [
    {
     "data": {
      "text/plain": [
       "'what you get when call me'"
      ]
     },
     "execution_count": 14,
     "metadata": {},
     "output_type": "execute_result"
    }
   ],
   "source": [
    "c = Callable()\n",
    "c()"
   ]
  },
  {
   "cell_type": "markdown",
   "id": "dc5df11a-405a-4f64-b7c5-fcf245408faf",
   "metadata": {},
   "source": [
    "**Задание 1**\n",
    "\n",
    "Поменяйте предложенный ниже код, перенеся условную конструкцию в функцию."
   ]
  },
  {
   "cell_type": "code",
   "execution_count": null,
   "id": "f2445f97-1bcb-4888-820c-3f8ae11b2e8c",
   "metadata": {},
   "outputs": [],
   "source": [
    "const = 48\n",
    "\n",
    "def int1_to_str(number: int) -> str:  # baseline function\n",
    "    return chr(number + const)\n",
    "\n",
    "def int_to_str(number: int) -> str:  # while\n",
    "    a = abs(number)\n",
    "\n",
    "    if number != 0:\n",
    "        result = ''\n",
    "        \n",
    "        while a != 0:  # a > 0\n",
    "            num = a % 10\n",
    "            result += int1_to_str(num)  # result = result + int1_to_str(num)\n",
    "            a //= 10  # a = a // 10\n",
    "        \n",
    "        result = result[::-1]  # result = '-' * (some_int < 0) + result[::-1]\n",
    "        \n",
    "        if number < 0:\n",
    "            result = '-' + result\n",
    "\n",
    "    else:\n",
    "        result = int1_to_str(number)  # result = '0'\n",
    "    \n",
    "    return result\n",
    "\n",
    "def int_to_str_r(number: int) -> str:  # recursion\n",
    "    if number < 10:\n",
    "        return int1_to_str(number)\n",
    "    else:\n",
    "        return int_to_str_r(number // 10) + int1_to_str(number % 10)\n",
    "\n",
    "\n",
    "# select appropriate function depending on number size\n",
    "number = 892834282939493932\n",
    "\n",
    "if number // 1e6 > 0:\n",
    "    result = int_to_str(number)\n",
    "else:\n",
    "    result = int_to_str_r(number)\n",
    "\n",
    "print(result)"
   ]
  },
  {
   "cell_type": "code",
   "execution_count": 15,
   "id": "88294f64-04ff-4c41-907d-1058de71aa3e",
   "metadata": {},
   "outputs": [],
   "source": [
    "def select_int_to_str(number):\n",
    "    const = 48\n",
    "\n",
    "    def int1_to_str(number: int) -> str:  # baseline function\n",
    "        return chr(number + const)\n",
    "    \n",
    "    def int_to_str(number: int) -> str:  # while\n",
    "        a = abs(number)\n",
    "    \n",
    "        if number != 0:\n",
    "            result = ''\n",
    "            \n",
    "            while a != 0:  # a > 0\n",
    "                num = a % 10\n",
    "                result += int1_to_str(num)  # result = result + int1_to_str(num)\n",
    "                a //= 10  # a = a // 10\n",
    "            \n",
    "            result = result[::-1]  # result = '-' * (some_int < 0) + result[::-1]\n",
    "            \n",
    "            if number < 0:\n",
    "                result = '-' + result\n",
    "    \n",
    "        else:\n",
    "            result = int1_to_str(number)  # result = '0'\n",
    "        \n",
    "        return result\n",
    "    \n",
    "    def int_to_str_r(number: int) -> str:  # recursion\n",
    "        if number < 10:\n",
    "            return int1_to_str(number)\n",
    "        else:\n",
    "            return int_to_str_r(number // 10) + int1_to_str(number % 10)\n",
    "\n",
    "    if number // 1e6 > 0:\n",
    "        return int_to_str\n",
    "    else:\n",
    "        return int_to_str_r"
   ]
  },
  {
   "cell_type": "code",
   "execution_count": 17,
   "id": "43710053-a4f2-4503-9722-a748dc83ff33",
   "metadata": {},
   "outputs": [],
   "source": [
    "number = 892834282939493932\n",
    "converter = select_int_to_str(number)"
   ]
  },
  {
   "cell_type": "code",
   "execution_count": 18,
   "id": "403d5a02-353b-42ae-9b24-b108340e9969",
   "metadata": {},
   "outputs": [
    {
     "data": {
      "text/plain": [
       "'892834282939493932'"
      ]
     },
     "execution_count": 18,
     "metadata": {},
     "output_type": "execute_result"
    }
   ],
   "source": [
    "converter(number)"
   ]
  },
  {
   "cell_type": "code",
   "execution_count": null,
   "id": "1b0a89aa-eeca-43a3-b260-e9c8dcd4aeee",
   "metadata": {},
   "outputs": [],
   "source": []
  },
  {
   "cell_type": "markdown",
   "id": "ff93915f-d204-4547-a0a4-a4b2c69d1ff6",
   "metadata": {},
   "source": [
    "Теперь рассмотрим непосредственно замыкание:"
   ]
  },
  {
   "cell_type": "code",
   "execution_count": 19,
   "id": "3f70dd10-96b0-43d6-93c4-9560c6cf38d0",
   "metadata": {},
   "outputs": [],
   "source": [
    "def enclosing_function(mode):  # функция высшего порядка\n",
    "    if mode == 1:\n",
    "        local_state = 'local state 1'\n",
    "    elif mode == 2:\n",
    "        local_state = 'local state 2'\n",
    "        \n",
    "    def show_local_state():  # функция \"вытаскивает в себя\" локальное состояние функции enclosing_function через return\n",
    "        return local_state\n",
    "\n",
    "    return show_local_state"
   ]
  },
  {
   "cell_type": "code",
   "execution_count": 20,
   "id": "4c8e7ae4-aab4-437c-bbbb-339d0d83adaf",
   "metadata": {},
   "outputs": [
    {
     "data": {
      "text/plain": [
       "'local state 1'"
      ]
     },
     "execution_count": 20,
     "metadata": {},
     "output_type": "execute_result"
    }
   ],
   "source": [
    "local_func = enclosing_function(1)\n",
    "local_func()"
   ]
  },
  {
   "cell_type": "code",
   "execution_count": 21,
   "id": "f7ae3f05-c118-4f30-a642-2a688ec15684",
   "metadata": {},
   "outputs": [
    {
     "data": {
      "text/plain": [
       "<function __main__.enclosing_function.<locals>.show_local_state()>"
      ]
     },
     "execution_count": 21,
     "metadata": {},
     "output_type": "execute_result"
    }
   ],
   "source": [
    "local_func"
   ]
  },
  {
   "cell_type": "code",
   "execution_count": 22,
   "id": "8f842994-3300-4047-9440-144fd873a858",
   "metadata": {},
   "outputs": [
    {
     "data": {
      "text/plain": [
       "'local state 2'"
      ]
     },
     "execution_count": 22,
     "metadata": {},
     "output_type": "execute_result"
    }
   ],
   "source": [
    "local_func = enclosing_function(2)\n",
    "local_func()"
   ]
  },
  {
   "cell_type": "code",
   "execution_count": 23,
   "id": "716b1d49-6db9-4033-a4ee-a43e6a610029",
   "metadata": {},
   "outputs": [
    {
     "data": {
      "text/plain": [
       "<function __main__.enclosing_function.<locals>.show_local_state()>"
      ]
     },
     "execution_count": 23,
     "metadata": {},
     "output_type": "execute_result"
    }
   ],
   "source": [
    "local_func"
   ]
  },
  {
   "cell_type": "markdown",
   "id": "e314a9a9-e360-49c3-a971-b74124f8ce20",
   "metadata": {},
   "source": [
    "**Задание 2**\n",
    "\n",
    "Реализуйте ООП-решение задачи предыдущего семинара в парадигме функционального программирования. Обязательно используйте замыкание."
   ]
  },
  {
   "cell_type": "code",
   "execution_count": 32,
   "id": "d2575090-a0b4-4166-b719-52dffb848f07",
   "metadata": {},
   "outputs": [],
   "source": [
    "import numpy as np\n",
    "import pandas as pd\n",
    "\n",
    "\n",
    "def get_transformer(ttype='std'):\n",
    "    _valid_structures = [list, tuple, np.ndarray, pd.DataFrame]\n",
    "    _valid_dtypes = [int, float]\n",
    "\n",
    "    if ttype=='std':\n",
    "        def get_params(data):\n",
    "            means = data.mean(axis=0)\n",
    "            stds = data.std(axis=0)\n",
    "            \n",
    "            params = {\n",
    "                'mean': means,\n",
    "                'std': stds\n",
    "            }\n",
    "            \n",
    "            return params\n",
    "\n",
    "        def apply_params(data, params):\n",
    "            data_transformed = (data - params['mean']) / params['std']\n",
    "            \n",
    "            return data_transformed\n",
    "    else:\n",
    "        def get_params(data):\n",
    "            mins = data_valid.min(axis=0)\n",
    "            maxs = data_valid.max(axis=0)\n",
    "            \n",
    "            params = {\n",
    "                'min': mins,\n",
    "                'max': maxs\n",
    "            }\n",
    "            \n",
    "            return params\n",
    "\n",
    "        def apply_params(data, params):\n",
    "            data_transformed = (data - params['min']) / (params['max'] - params['min'])\n",
    "            \n",
    "            return data_transformed\n",
    "        \n",
    "    def validate_data(data):\n",
    "        # check data structure\n",
    "        structure = type(data)\n",
    "        if structure not in _valid_structures:\n",
    "            raise ValueError(f'invalid structure {structure}, use only authorized structures: {_valid_structures}!')\n",
    "        \n",
    "        # <data> -> np.ndarray\n",
    "        if structure in [list, tuple]:\n",
    "            data = np.array(data)\n",
    "        elif structure == pd.DataFrame:\n",
    "            data = data.values\n",
    "        \n",
    "        # check dtype\n",
    "        if data.dtype not in _valid_dtypes:\n",
    "            raise ValueError(f'invalid dtype {data.dtype}, use only authorized dtypes: {_valid_dtypes}!')\n",
    "\n",
    "        # shape\n",
    "        if data.ndim != 2:\n",
    "            raise ValueError(f'invalid shape {data.ndim}, must be 2!')\n",
    "\n",
    "        return data\n",
    "\n",
    "    def fit(data):\n",
    "        # validate data\n",
    "        data_valid = validate_data(data)\n",
    "        \n",
    "        # compute params\n",
    "        params = get_params(data_valid)\n",
    "            \n",
    "        # save params\n",
    "        return params\n",
    "\n",
    "    def transform(data, params) -> pd.DataFrame:\n",
    "        # validate data\n",
    "        data_valid = validate_data(data)\n",
    "\n",
    "        # apply params to data\n",
    "        data_transformed = apply_params(data_valid, params)\n",
    "\n",
    "        return data_transformed\n",
    "\n",
    "    return fit, transform"
   ]
  },
  {
   "cell_type": "code",
   "execution_count": 33,
   "id": "10469924-f9fd-49ab-84b7-8998bd168af0",
   "metadata": {},
   "outputs": [],
   "source": [
    "X = np.random.uniform(-10, 10, (100, 2))\n",
    "y = np.random.normal(0, 1, 100)\n",
    "\n",
    "X_new = np.random.uniform(-10, 10, (50, 2))\n",
    "\n",
    "fitter, transformer = get_transformer()"
   ]
  },
  {
   "cell_type": "code",
   "execution_count": 36,
   "id": "7bd64ed3-1033-46fe-afa5-426a62f86458",
   "metadata": {
    "scrolled": true
   },
   "outputs": [
    {
     "data": {
      "text/plain": [
       "array([[ 1.29677052,  0.26400753],\n",
       "       [ 0.81529167, -1.2200083 ],\n",
       "       [-1.55309641, -1.76566267],\n",
       "       [ 1.68927352,  0.53520403],\n",
       "       [-0.82221032,  1.22516692],\n",
       "       [ 1.6851225 ,  0.10764058],\n",
       "       [ 1.3922126 , -0.35950585],\n",
       "       [-1.29898853,  1.44971013],\n",
       "       [-0.51380792,  1.41538168],\n",
       "       [-0.53332941, -1.90108028],\n",
       "       [ 1.2840311 , -0.58269687],\n",
       "       [-1.49009304,  1.24080317],\n",
       "       [-0.60180794,  1.63433368],\n",
       "       [ 1.12177642, -1.15667087],\n",
       "       [-0.08793865,  1.26693057],\n",
       "       [ 1.76785127,  0.11608779],\n",
       "       [ 0.69383633, -0.68814814],\n",
       "       [-0.31826811, -1.80094681],\n",
       "       [-0.54131126, -1.20492331],\n",
       "       [ 1.47667583, -0.81141903],\n",
       "       [ 0.54802032, -1.17083659],\n",
       "       [-0.06928106,  0.76774649],\n",
       "       [-0.75896266, -0.93133588],\n",
       "       [-0.34967076, -0.98360111],\n",
       "       [ 0.5217566 , -0.93922845],\n",
       "       [-1.15333991, -0.72768163],\n",
       "       [-1.39560797, -1.60351519],\n",
       "       [ 1.11134738,  0.7964338 ],\n",
       "       [-0.44884502, -0.70305642],\n",
       "       [ 0.6989773 ,  0.5547178 ],\n",
       "       [ 1.10940493, -0.77420022],\n",
       "       [ 0.09825344, -0.26985824],\n",
       "       [-0.83344203,  1.02392014],\n",
       "       [ 1.2733047 , -0.23536373],\n",
       "       [ 0.11932586,  0.76869384],\n",
       "       [ 1.65723224,  1.6616523 ],\n",
       "       [-1.19564592, -1.74828997],\n",
       "       [ 1.11074796,  1.29970305],\n",
       "       [-0.8019551 , -1.9226597 ],\n",
       "       [ 1.60376899, -1.06765781],\n",
       "       [-0.79667067, -1.20548987],\n",
       "       [-0.03708451,  0.77878692],\n",
       "       [ 0.45341263, -1.94621832],\n",
       "       [ 0.03484605,  1.16107797],\n",
       "       [-0.14443698,  1.58615908],\n",
       "       [-1.54925618,  1.48058518],\n",
       "       [-0.76038677, -0.89084429],\n",
       "       [-0.43371801, -0.08046292],\n",
       "       [ 0.07707304, -1.94284529],\n",
       "       [ 1.15934516,  0.83446804]])"
      ]
     },
     "execution_count": 36,
     "metadata": {},
     "output_type": "execute_result"
    }
   ],
   "source": [
    "params = fitter(X)\n",
    "transformer(X_new, params)"
   ]
  },
  {
   "cell_type": "markdown",
   "id": "e11c6937-2fea-4012-8866-36cf6ed05bfa",
   "metadata": {},
   "source": [
    "#### Декораторы\n",
    "Декоратор - это, в сущности, функция, которая принимает на вход другую функцию и возвращает ее модификацию:"
   ]
  },
  {
   "cell_type": "code",
   "execution_count": 37,
   "id": "474384fe-d68d-4fe5-81a6-bf889b708144",
   "metadata": {},
   "outputs": [],
   "source": [
    "from datetime import datetime\n",
    "\n",
    "def what_time_is_it():\n",
    "    now = datetime.now()\n",
    "\n",
    "    return now"
   ]
  },
  {
   "cell_type": "code",
   "execution_count": 38,
   "id": "d95a1ad9-47c8-40e7-999f-c48918678ec1",
   "metadata": {},
   "outputs": [
    {
     "data": {
      "text/plain": [
       "<function __main__.what_time_is_it()>"
      ]
     },
     "execution_count": 38,
     "metadata": {},
     "output_type": "execute_result"
    }
   ],
   "source": [
    "what_time_is_it"
   ]
  },
  {
   "cell_type": "code",
   "execution_count": 39,
   "id": "c61ab866-0234-46c5-a4ea-68ccc5600394",
   "metadata": {},
   "outputs": [
    {
     "data": {
      "text/plain": [
       "datetime.datetime(2023, 11, 27, 19, 3, 40, 903777)"
      ]
     },
     "execution_count": 39,
     "metadata": {},
     "output_type": "execute_result"
    }
   ],
   "source": [
    "what_time_is_it()"
   ]
  },
  {
   "cell_type": "code",
   "execution_count": 40,
   "id": "34fb7c8d-5741-42ed-b367-44c6c4c2a65e",
   "metadata": {},
   "outputs": [],
   "source": [
    "def prettifier(func):\n",
    "    def wrapper():\n",
    "        now = func()\n",
    "        pretty_now = now.strftime('%d.%m.%Y %H:%M:%S')\n",
    "        \n",
    "        return pretty_now\n",
    "        \n",
    "    return wrapper"
   ]
  },
  {
   "cell_type": "markdown",
   "id": "d3a1c3d4-e161-4fe3-95fe-a1ab27a2f394",
   "metadata": {},
   "source": [
    "Без синтаксического сахара:"
   ]
  },
  {
   "cell_type": "code",
   "execution_count": 42,
   "id": "b6844094-7e8a-4df9-803b-4a89e014926d",
   "metadata": {},
   "outputs": [],
   "source": [
    "def what_time_is_it():\n",
    "    now = datetime.now()\n",
    "\n",
    "    return now\n",
    "\n",
    "what_time_is_it = prettifier(what_time_is_it)"
   ]
  },
  {
   "cell_type": "markdown",
   "id": "9e67a513-02ec-4467-bc4b-d6918a156356",
   "metadata": {},
   "source": [
    "С синтаксисом декораторов:"
   ]
  },
  {
   "cell_type": "code",
   "execution_count": 46,
   "id": "c2d55306-b853-4b2e-8b4a-51207c9ee171",
   "metadata": {},
   "outputs": [],
   "source": [
    "def what_time_is_it():\n",
    "    now = datetime.now()\n",
    "\n",
    "    return now"
   ]
  },
  {
   "cell_type": "code",
   "execution_count": 47,
   "id": "dbd36bb4-f180-4b5d-8f62-ca9caa468ee4",
   "metadata": {},
   "outputs": [
    {
     "data": {
      "text/plain": [
       "<function __main__.what_time_is_it()>"
      ]
     },
     "execution_count": 47,
     "metadata": {},
     "output_type": "execute_result"
    }
   ],
   "source": [
    "what_time_is_it"
   ]
  },
  {
   "cell_type": "code",
   "execution_count": null,
   "id": "2c7ea299-54b2-490d-9613-6405b8cf78f7",
   "metadata": {},
   "outputs": [],
   "source": [
    "def oauth():\n",
    "    ...\n",
    "\n",
    "def ssh():\n",
    "    ...\n",
    "\n",
    "\n",
    "@ssh\n",
    "def request()"
   ]
  },
  {
   "cell_type": "code",
   "execution_count": 48,
   "id": "73804d8d-2633-444f-88b2-71b2b9c2fb02",
   "metadata": {},
   "outputs": [],
   "source": [
    "from datetime import datetime\n",
    "\n",
    "@prettifier\n",
    "def what_time_is_it():\n",
    "    now = datetime.now()\n",
    "\n",
    "    return now"
   ]
  },
  {
   "cell_type": "code",
   "execution_count": null,
   "id": "f2156c17-ba4f-4b5c-8f38-e4bbd74495e9",
   "metadata": {},
   "outputs": [],
   "source": [
    "def prettifier(func):\n",
    "    def wrapper():\n",
    "        now = func()\n",
    "        pretty_now = now.strftime('%d.%m.%Y %H:%M:%S')\n",
    "        \n",
    "        return pretty_now\n",
    "        \n",
    "    return wrapper"
   ]
  },
  {
   "cell_type": "code",
   "execution_count": 49,
   "id": "ef4115cf-6c3f-499d-b6be-759765a13fc3",
   "metadata": {},
   "outputs": [
    {
     "data": {
      "text/plain": [
       "<function __main__.prettifier.<locals>.wrapper()>"
      ]
     },
     "execution_count": 49,
     "metadata": {},
     "output_type": "execute_result"
    }
   ],
   "source": [
    "what_time_is_it"
   ]
  },
  {
   "cell_type": "code",
   "execution_count": 50,
   "id": "48b22602-5791-44a9-b7ab-20d2d18ce037",
   "metadata": {},
   "outputs": [
    {
     "data": {
      "text/plain": [
       "'27.11.2023 19:09:57'"
      ]
     },
     "execution_count": 50,
     "metadata": {},
     "output_type": "execute_result"
    }
   ],
   "source": [
    "what_time_is_it()"
   ]
  },
  {
   "cell_type": "markdown",
   "id": "5fd0170f-54d8-4f6f-83ea-13b9df8f2301",
   "metadata": {},
   "source": [
    "А как с аргументами?"
   ]
  },
  {
   "cell_type": "code",
   "execution_count": 51,
   "id": "38bc9dab-8f6e-4634-9cd4-d7a6dcebb150",
   "metadata": {},
   "outputs": [],
   "source": [
    "from pathlib import Path\n",
    "import openpyxl\n",
    "\n",
    "def parse_info(path: Path) -> dict:\n",
    "    wb = openpyxl.load_workbook(path)\n",
    "    ws = wb.active\n",
    "\n",
    "    info_dict = {\n",
    "        (row[0].value, row[1].value): {'fio': row[2].value, 'email': row[3].value}\n",
    "        for row\n",
    "        in ws.iter_rows()\n",
    "        if row[0].value != 'Блок'\n",
    "    }\n",
    "\n",
    "    wb.close()\n",
    "\n",
    "    return info_dict"
   ]
  },
  {
   "cell_type": "code",
   "execution_count": 52,
   "id": "52436361-2633-4170-b306-8fd581015239",
   "metadata": {
    "scrolled": true
   },
   "outputs": [
    {
     "data": {
      "text/plain": [
       "{('Блок 1', 'Департамент A'): {'fio': 'Довгополый Иоанн Алексеевич',\n",
       "  'email': 'ioannundseineigentum@gmail.com'},\n",
       " ('Блок 1', 'Департамент B'): {'fio': 'Довгополый Иоанн Алексеевич',\n",
       "  'email': 'ioannundseineigentum@gmail.com'},\n",
       " ('Блок 1', 'Департамент C'): {'fio': 'Довгополый Иоанн Алексеевич',\n",
       "  'email': 'ioannundseineigentum@gmail.com'},\n",
       " ('Блок 2', 'Департамент A'): {'fio': 'Довгополый Иоанн Алексеевич',\n",
       "  'email': 'ioannundseineigentum@gmail.com'},\n",
       " ('Блок 2', 'Департамент B'): {'fio': 'Довгополый Иоанн Алексеевич',\n",
       "  'email': 'ioannundseineigentum@gmail.com'},\n",
       " ('Блок 2', 'Департамент C'): {'fio': 'Довгополый Иоанн Алексеевич',\n",
       "  'email': 'ioannundseineigentum@gmail.com'},\n",
       " ('Блок 2', 'Департамент D'): {'fio': 'Довгополый Иоанн Алексеевич',\n",
       "  'email': 'ioannundseineigentum@gmail.com'},\n",
       " ('Блок 2', 'Департамент E'): {'fio': 'Довгополый Иоанн Алексеевич',\n",
       "  'email': 'ioannundseineigentum@gmail.com'},\n",
       " ('Блок 2', 'Департамент F'): {'fio': 'Довгополый Иоанн Алексеевич',\n",
       "  'email': 'ioannundseineigentum@gmail.com'},\n",
       " ('Блок 2', 'Департамент G'): {'fio': 'Довгополый Иоанн Алексеевич',\n",
       "  'email': 'ioannundseineigentum@gmail.com'},\n",
       " ('Блок 3', 'Департамент A'): {'fio': 'Довгополый Иоанн Алексеевич',\n",
       "  'email': 'ioannundseineigentum@gmail.com'},\n",
       " ('Блок 3', 'Департамент B'): {'fio': 'Довгополый Иоанн Алексеевич',\n",
       "  'email': 'ioannundseineigentum@gmail.com'},\n",
       " ('Блок 4', 'Департамент A'): {'fio': 'Довгополый Иоанн Алексеевич',\n",
       "  'email': 'ioannundseineigentum@gmail.com'},\n",
       " ('Блок 5', 'Департамент A'): {'fio': 'Довгополый Иоанн Алексеевич',\n",
       "  'email': 'ioannundseineigentum@gmail.com'},\n",
       " ('Блок 5', 'Департамент B'): {'fio': 'Довгополый Иоанн Алексеевич',\n",
       "  'email': 'ioannundseineigentum@gmail.com'},\n",
       " ('Блок 5', 'Департамент C'): {'fio': 'Довгополый Иоанн Алексеевич',\n",
       "  'email': 'ioannundseineigentum@gmail.com'},\n",
       " ('Блок 5', 'Департамент D'): {'fio': 'Довгополый Иоанн Алексеевич',\n",
       "  'email': 'ioannundseineigentum@gmail.com'},\n",
       " ('Блок 5', 'Департамент E'): {'fio': 'Довгополый Иоанн Алексеевич',\n",
       "  'email': 'ioannundseineigentum@gmail.com'},\n",
       " ('Блок 5', 'Департамент F'): {'fio': 'Довгополый Иоанн Алексеевич',\n",
       "  'email': 'ioannundseineigentum@gmail.com'},\n",
       " ('Блок 5', 'Департамент G'): {'fio': 'Довгополый Иоанн Алексеевич',\n",
       "  'email': 'ioannundseineigentum@gmail.com'},\n",
       " ('Блок 5', 'Департамент H'): {'fio': 'Довгополый Иоанн Алексеевич',\n",
       "  'email': 'ioannundseineigentum@gmail.com'},\n",
       " ('Блок 5', 'Департамент I'): {'fio': 'Довгополый Иоанн Алексеевич',\n",
       "  'email': 'ioannundseineigentum@gmail.com'},\n",
       " ('Блок 5', 'Департамент J'): {'fio': 'Довгополый Иоанн Алексеевич',\n",
       "  'email': 'ioannundseineigentum@gmail.com'},\n",
       " ('Блок 5', 'Департамент K'): {'fio': 'Довгополый Иоанн Алексеевич',\n",
       "  'email': 'ioannundseineigentum@gmail.com'},\n",
       " ('Блок 5', 'Департамент L'): {'fio': 'Довгополый Иоанн Алексеевич',\n",
       "  'email': 'ioannundseineigentum@gmail.com'},\n",
       " ('Блок 6', 'Департамент A'): {'fio': 'Довгополый Иоанн Алексеевич',\n",
       "  'email': 'ioannundseineigentum@gmail.com'},\n",
       " ('Блок 6', 'Департамент B'): {'fio': 'Довгополый Иоанн Алексеевич',\n",
       "  'email': 'ioannundseineigentum@gmail.com'},\n",
       " ('Блок 6', 'Департамент C'): {'fio': 'Довгополый Иоанн Алексеевич',\n",
       "  'email': 'ioannundseineigentum@gmail.com'},\n",
       " ('Блок 6', 'Департамент D'): {'fio': 'Довгополый Иоанн Алексеевич',\n",
       "  'email': 'ioannundseineigentum@gmail.com'},\n",
       " ('Блок 6', 'Департамент E'): {'fio': 'Довгополый Иоанн Алексеевич',\n",
       "  'email': 'ioannundseineigentum@gmail.com'},\n",
       " ('Блок 6', 'Департамент F'): {'fio': 'Довгополый Иоанн Алексеевич',\n",
       "  'email': 'ioannundseineigentum@gmail.com'},\n",
       " ('Блок 6', 'Департамент G'): {'fio': 'Довгополый Иоанн Алексеевич',\n",
       "  'email': 'ioannundseineigentum@gmail.com'},\n",
       " ('Блок 6', 'Департамент H'): {'fio': 'Довгополый Иоанн Алексеевич',\n",
       "  'email': 'ioannundseineigentum@gmail.com'},\n",
       " ('Блок 6', 'Департамент I'): {'fio': 'Довгополый Иоанн Алексеевич',\n",
       "  'email': 'ioannundseineigentum@gmail.com'},\n",
       " ('Блок 6', 'Департамент J'): {'fio': 'Довгополый Иоанн Алексеевич',\n",
       "  'email': 'ioannundseineigentum@gmail.com'},\n",
       " ('Блок 6', 'Департамент K'): {'fio': 'Довгополый Иоанн Алексеевич',\n",
       "  'email': 'ioannundseineigentum@gmail.com'},\n",
       " ('Блок 6', 'Департамент L'): {'fio': 'Довгополый Иоанн Алексеевич',\n",
       "  'email': 'ioannundseineigentum@gmail.com'},\n",
       " ('Блок 7', 'Департамент A'): {'fio': 'Довгополый Иоанн Алексеевич',\n",
       "  'email': 'ioannundseineigentum@gmail.com'},\n",
       " ('Блок 7', 'Департамент B'): {'fio': 'Довгополый Иоанн Алексеевич',\n",
       "  'email': 'ioannundseineigentum@gmail.com'},\n",
       " ('Блок 7', 'Департамент C'): {'fio': 'Довгополый Иоанн Алексеевич',\n",
       "  'email': 'ioannundseineigentum@gmail.com'},\n",
       " ('Блок 7', 'Департамент D'): {'fio': 'Довгополый Иоанн Алексеевич',\n",
       "  'email': 'ioannundseineigentum@gmail.com'},\n",
       " ('Блок 7', 'Департамент E'): {'fio': 'Довгополый Иоанн Алексеевич',\n",
       "  'email': 'ioannundseineigentum@gmail.com'},\n",
       " ('Блок 7', 'Департамент F'): {'fio': 'Довгополый Иоанн Алексеевич',\n",
       "  'email': 'ioannundseineigentum@gmail.com'},\n",
       " ('Блок 7', 'Департамент G'): {'fio': 'Довгополый Иоанн Алексеевич',\n",
       "  'email': 'ioannundseineigentum@gmail.com'},\n",
       " ('Блок 7', 'Департамент H'): {'fio': 'Довгополый Иоанн Алексеевич',\n",
       "  'email': 'ioannundseineigentum@gmail.com'},\n",
       " ('Блок 7', 'Департамент I'): {'fio': 'Довгополый Иоанн Алексеевич',\n",
       "  'email': 'ioannundseineigentum@gmail.com'},\n",
       " ('Блок 7', 'Департамент J'): {'fio': 'Довгополый Иоанн Алексеевич',\n",
       "  'email': 'ioannundseineigentum@gmail.com'},\n",
       " ('Блок 7', 'Департамент K'): {'fio': 'Довгополый Иоанн Алексеевич',\n",
       "  'email': 'ioannundseineigentum@gmail.com'},\n",
       " ('Блок 7', 'Департамент L'): {'fio': 'Довгополый Иоанн Алексеевич',\n",
       "  'email': 'ioannundseineigentum@gmail.com'},\n",
       " ('Блок 8', 'Департамент A'): {'fio': 'Довгополый Иоанн Алексеевич',\n",
       "  'email': 'ioannundseineigentum@gmail.com'},\n",
       " ('Блок 8', 'Департамент B'): {'fio': 'Довгополый Иоанн Алексеевич',\n",
       "  'email': 'ioannundseineigentum@gmail.com'},\n",
       " ('Блок 8', 'Департамент C'): {'fio': 'Довгополый Иоанн Алексеевич',\n",
       "  'email': 'ioannundseineigentum@gmail.com'},\n",
       " ('Блок 8', 'Департамент D'): {'fio': 'Довгополый Иоанн Алексеевич',\n",
       "  'email': 'ioannundseineigentum@gmail.com'},\n",
       " ('Блок 8', 'Департамент E'): {'fio': 'Довгополый Иоанн Алексеевич',\n",
       "  'email': 'ioannundseineigentum@gmail.com'},\n",
       " ('Блок 8', 'Департамент F'): {'fio': 'Довгополый Иоанн Алексеевич',\n",
       "  'email': 'ioannundseineigentum@gmail.com'},\n",
       " ('Блок 9', 'Департамент A'): {'fio': 'Довгополый Иоанн Алексеевич',\n",
       "  'email': 'ioannundseineigentum@gmail.com'},\n",
       " ('Блок 9', 'Департамент B'): {'fio': 'Довгополый Иоанн Алексеевич',\n",
       "  'email': 'ioannundseineigentum@gmail.com'}}"
      ]
     },
     "execution_count": 52,
     "metadata": {},
     "output_type": "execute_result"
    }
   ],
   "source": [
    "info_path = Path('../Занятие 5/sources/Справочник.xlsx')\n",
    "\n",
    "parse_info(info_path)"
   ]
  },
  {
   "cell_type": "code",
   "execution_count": 74,
   "id": "7df3074f-fc3a-4b48-9a69-fe4077bac881",
   "metadata": {},
   "outputs": [],
   "source": [
    "import pandas as pd\n",
    "\n",
    "def pandify(func):\n",
    "    def wrapper(*args, **kwargs):\n",
    "        dictlike = func(*args, **kwargs)\n",
    "        \n",
    "        list_to_pandas = [{'block': key[0], 'department': key[1], **value} for key, value in dictlike.items()]\n",
    "\n",
    "        df = pd.DataFrame(list_to_pandas)\n",
    "\n",
    "        return df\n",
    "\n",
    "    return wrapper"
   ]
  },
  {
   "cell_type": "code",
   "execution_count": 60,
   "id": "96edf1c6-cb26-4950-92d3-248d81926219",
   "metadata": {},
   "outputs": [],
   "source": [
    "def function_unlimited_args(*args, **kwards):\n",
    "    return args, kwards"
   ]
  },
  {
   "cell_type": "code",
   "execution_count": 68,
   "id": "287f69e0-ee5b-438e-8528-eb0a33619460",
   "metadata": {},
   "outputs": [],
   "source": [
    "kwargs = {'a': 5, 'b': 6}\n",
    "\n",
    "def multiply(a, b):\n",
    "    return a * b"
   ]
  },
  {
   "cell_type": "code",
   "execution_count": 70,
   "id": "d3eb8739-02af-4923-bcc0-dd5e78c3424f",
   "metadata": {},
   "outputs": [
    {
     "data": {
      "text/plain": [
       "30"
      ]
     },
     "execution_count": 70,
     "metadata": {},
     "output_type": "execute_result"
    }
   ],
   "source": [
    "multiply(**kwargs)"
   ]
  },
  {
   "cell_type": "code",
   "execution_count": 62,
   "id": "f8b59037-8dbc-4c92-874e-cd32e5c82236",
   "metadata": {},
   "outputs": [],
   "source": [
    "args, kwargs = function_unlimited_args(1, 2, 3, 4, a='a', b='b', c='c')"
   ]
  },
  {
   "cell_type": "code",
   "execution_count": 64,
   "id": "777d9cd1-4391-478c-9130-031b68b00c77",
   "metadata": {},
   "outputs": [
    {
     "data": {
      "text/plain": [
       "{'a': 'a', 'b': 'b', 'c': 'c'}"
      ]
     },
     "execution_count": 64,
     "metadata": {},
     "output_type": "execute_result"
    }
   ],
   "source": [
    "kwargs"
   ]
  },
  {
   "cell_type": "code",
   "execution_count": 72,
   "id": "2f9fb340-ae64-4ba7-b399-36b0f92828e0",
   "metadata": {},
   "outputs": [],
   "source": [
    "@pandify\n",
    "def parse_info(path: Path) -> dict:\n",
    "    wb = openpyxl.load_workbook(path)\n",
    "    ws = wb.active\n",
    "\n",
    "    info_dict = {\n",
    "        (row[0].value, row[1].value): {'fio': row[2].value, 'email': row[3].value}\n",
    "        for row\n",
    "        in ws.iter_rows()\n",
    "        if row[0].value != 'Блок'\n",
    "    }\n",
    "\n",
    "    wb.close()\n",
    "\n",
    "    return info_dict"
   ]
  },
  {
   "cell_type": "code",
   "execution_count": 73,
   "id": "144fe90f-2739-4cd9-aceb-3a1cda34e832",
   "metadata": {
    "scrolled": true
   },
   "outputs": [
    {
     "data": {
      "text/html": [
       "<div>\n",
       "<style scoped>\n",
       "    .dataframe tbody tr th:only-of-type {\n",
       "        vertical-align: middle;\n",
       "    }\n",
       "\n",
       "    .dataframe tbody tr th {\n",
       "        vertical-align: top;\n",
       "    }\n",
       "\n",
       "    .dataframe thead th {\n",
       "        text-align: right;\n",
       "    }\n",
       "</style>\n",
       "<table border=\"1\" class=\"dataframe\">\n",
       "  <thead>\n",
       "    <tr style=\"text-align: right;\">\n",
       "      <th></th>\n",
       "      <th>block</th>\n",
       "      <th>department</th>\n",
       "      <th>fio</th>\n",
       "      <th>email</th>\n",
       "    </tr>\n",
       "  </thead>\n",
       "  <tbody>\n",
       "    <tr>\n",
       "      <th>0</th>\n",
       "      <td>Блок 1</td>\n",
       "      <td>Департамент A</td>\n",
       "      <td>Довгополый Иоанн Алексеевич</td>\n",
       "      <td>ioannundseineigentum@gmail.com</td>\n",
       "    </tr>\n",
       "    <tr>\n",
       "      <th>1</th>\n",
       "      <td>Блок 1</td>\n",
       "      <td>Департамент B</td>\n",
       "      <td>Довгополый Иоанн Алексеевич</td>\n",
       "      <td>ioannundseineigentum@gmail.com</td>\n",
       "    </tr>\n",
       "    <tr>\n",
       "      <th>2</th>\n",
       "      <td>Блок 1</td>\n",
       "      <td>Департамент C</td>\n",
       "      <td>Довгополый Иоанн Алексеевич</td>\n",
       "      <td>ioannundseineigentum@gmail.com</td>\n",
       "    </tr>\n",
       "    <tr>\n",
       "      <th>3</th>\n",
       "      <td>Блок 2</td>\n",
       "      <td>Департамент A</td>\n",
       "      <td>Довгополый Иоанн Алексеевич</td>\n",
       "      <td>ioannundseineigentum@gmail.com</td>\n",
       "    </tr>\n",
       "    <tr>\n",
       "      <th>4</th>\n",
       "      <td>Блок 2</td>\n",
       "      <td>Департамент B</td>\n",
       "      <td>Довгополый Иоанн Алексеевич</td>\n",
       "      <td>ioannundseineigentum@gmail.com</td>\n",
       "    </tr>\n",
       "    <tr>\n",
       "      <th>5</th>\n",
       "      <td>Блок 2</td>\n",
       "      <td>Департамент C</td>\n",
       "      <td>Довгополый Иоанн Алексеевич</td>\n",
       "      <td>ioannundseineigentum@gmail.com</td>\n",
       "    </tr>\n",
       "    <tr>\n",
       "      <th>6</th>\n",
       "      <td>Блок 2</td>\n",
       "      <td>Департамент D</td>\n",
       "      <td>Довгополый Иоанн Алексеевич</td>\n",
       "      <td>ioannundseineigentum@gmail.com</td>\n",
       "    </tr>\n",
       "    <tr>\n",
       "      <th>7</th>\n",
       "      <td>Блок 2</td>\n",
       "      <td>Департамент E</td>\n",
       "      <td>Довгополый Иоанн Алексеевич</td>\n",
       "      <td>ioannundseineigentum@gmail.com</td>\n",
       "    </tr>\n",
       "    <tr>\n",
       "      <th>8</th>\n",
       "      <td>Блок 2</td>\n",
       "      <td>Департамент F</td>\n",
       "      <td>Довгополый Иоанн Алексеевич</td>\n",
       "      <td>ioannundseineigentum@gmail.com</td>\n",
       "    </tr>\n",
       "    <tr>\n",
       "      <th>9</th>\n",
       "      <td>Блок 2</td>\n",
       "      <td>Департамент G</td>\n",
       "      <td>Довгополый Иоанн Алексеевич</td>\n",
       "      <td>ioannundseineigentum@gmail.com</td>\n",
       "    </tr>\n",
       "    <tr>\n",
       "      <th>10</th>\n",
       "      <td>Блок 3</td>\n",
       "      <td>Департамент A</td>\n",
       "      <td>Довгополый Иоанн Алексеевич</td>\n",
       "      <td>ioannundseineigentum@gmail.com</td>\n",
       "    </tr>\n",
       "    <tr>\n",
       "      <th>11</th>\n",
       "      <td>Блок 3</td>\n",
       "      <td>Департамент B</td>\n",
       "      <td>Довгополый Иоанн Алексеевич</td>\n",
       "      <td>ioannundseineigentum@gmail.com</td>\n",
       "    </tr>\n",
       "    <tr>\n",
       "      <th>12</th>\n",
       "      <td>Блок 4</td>\n",
       "      <td>Департамент A</td>\n",
       "      <td>Довгополый Иоанн Алексеевич</td>\n",
       "      <td>ioannundseineigentum@gmail.com</td>\n",
       "    </tr>\n",
       "    <tr>\n",
       "      <th>13</th>\n",
       "      <td>Блок 5</td>\n",
       "      <td>Департамент A</td>\n",
       "      <td>Довгополый Иоанн Алексеевич</td>\n",
       "      <td>ioannundseineigentum@gmail.com</td>\n",
       "    </tr>\n",
       "    <tr>\n",
       "      <th>14</th>\n",
       "      <td>Блок 5</td>\n",
       "      <td>Департамент B</td>\n",
       "      <td>Довгополый Иоанн Алексеевич</td>\n",
       "      <td>ioannundseineigentum@gmail.com</td>\n",
       "    </tr>\n",
       "    <tr>\n",
       "      <th>15</th>\n",
       "      <td>Блок 5</td>\n",
       "      <td>Департамент C</td>\n",
       "      <td>Довгополый Иоанн Алексеевич</td>\n",
       "      <td>ioannundseineigentum@gmail.com</td>\n",
       "    </tr>\n",
       "    <tr>\n",
       "      <th>16</th>\n",
       "      <td>Блок 5</td>\n",
       "      <td>Департамент D</td>\n",
       "      <td>Довгополый Иоанн Алексеевич</td>\n",
       "      <td>ioannundseineigentum@gmail.com</td>\n",
       "    </tr>\n",
       "    <tr>\n",
       "      <th>17</th>\n",
       "      <td>Блок 5</td>\n",
       "      <td>Департамент E</td>\n",
       "      <td>Довгополый Иоанн Алексеевич</td>\n",
       "      <td>ioannundseineigentum@gmail.com</td>\n",
       "    </tr>\n",
       "    <tr>\n",
       "      <th>18</th>\n",
       "      <td>Блок 5</td>\n",
       "      <td>Департамент F</td>\n",
       "      <td>Довгополый Иоанн Алексеевич</td>\n",
       "      <td>ioannundseineigentum@gmail.com</td>\n",
       "    </tr>\n",
       "    <tr>\n",
       "      <th>19</th>\n",
       "      <td>Блок 5</td>\n",
       "      <td>Департамент G</td>\n",
       "      <td>Довгополый Иоанн Алексеевич</td>\n",
       "      <td>ioannundseineigentum@gmail.com</td>\n",
       "    </tr>\n",
       "    <tr>\n",
       "      <th>20</th>\n",
       "      <td>Блок 5</td>\n",
       "      <td>Департамент H</td>\n",
       "      <td>Довгополый Иоанн Алексеевич</td>\n",
       "      <td>ioannundseineigentum@gmail.com</td>\n",
       "    </tr>\n",
       "    <tr>\n",
       "      <th>21</th>\n",
       "      <td>Блок 5</td>\n",
       "      <td>Департамент I</td>\n",
       "      <td>Довгополый Иоанн Алексеевич</td>\n",
       "      <td>ioannundseineigentum@gmail.com</td>\n",
       "    </tr>\n",
       "    <tr>\n",
       "      <th>22</th>\n",
       "      <td>Блок 5</td>\n",
       "      <td>Департамент J</td>\n",
       "      <td>Довгополый Иоанн Алексеевич</td>\n",
       "      <td>ioannundseineigentum@gmail.com</td>\n",
       "    </tr>\n",
       "    <tr>\n",
       "      <th>23</th>\n",
       "      <td>Блок 5</td>\n",
       "      <td>Департамент K</td>\n",
       "      <td>Довгополый Иоанн Алексеевич</td>\n",
       "      <td>ioannundseineigentum@gmail.com</td>\n",
       "    </tr>\n",
       "    <tr>\n",
       "      <th>24</th>\n",
       "      <td>Блок 5</td>\n",
       "      <td>Департамент L</td>\n",
       "      <td>Довгополый Иоанн Алексеевич</td>\n",
       "      <td>ioannundseineigentum@gmail.com</td>\n",
       "    </tr>\n",
       "    <tr>\n",
       "      <th>25</th>\n",
       "      <td>Блок 6</td>\n",
       "      <td>Департамент A</td>\n",
       "      <td>Довгополый Иоанн Алексеевич</td>\n",
       "      <td>ioannundseineigentum@gmail.com</td>\n",
       "    </tr>\n",
       "    <tr>\n",
       "      <th>26</th>\n",
       "      <td>Блок 6</td>\n",
       "      <td>Департамент B</td>\n",
       "      <td>Довгополый Иоанн Алексеевич</td>\n",
       "      <td>ioannundseineigentum@gmail.com</td>\n",
       "    </tr>\n",
       "    <tr>\n",
       "      <th>27</th>\n",
       "      <td>Блок 6</td>\n",
       "      <td>Департамент C</td>\n",
       "      <td>Довгополый Иоанн Алексеевич</td>\n",
       "      <td>ioannundseineigentum@gmail.com</td>\n",
       "    </tr>\n",
       "    <tr>\n",
       "      <th>28</th>\n",
       "      <td>Блок 6</td>\n",
       "      <td>Департамент D</td>\n",
       "      <td>Довгополый Иоанн Алексеевич</td>\n",
       "      <td>ioannundseineigentum@gmail.com</td>\n",
       "    </tr>\n",
       "    <tr>\n",
       "      <th>29</th>\n",
       "      <td>Блок 6</td>\n",
       "      <td>Департамент E</td>\n",
       "      <td>Довгополый Иоанн Алексеевич</td>\n",
       "      <td>ioannundseineigentum@gmail.com</td>\n",
       "    </tr>\n",
       "    <tr>\n",
       "      <th>30</th>\n",
       "      <td>Блок 6</td>\n",
       "      <td>Департамент F</td>\n",
       "      <td>Довгополый Иоанн Алексеевич</td>\n",
       "      <td>ioannundseineigentum@gmail.com</td>\n",
       "    </tr>\n",
       "    <tr>\n",
       "      <th>31</th>\n",
       "      <td>Блок 6</td>\n",
       "      <td>Департамент G</td>\n",
       "      <td>Довгополый Иоанн Алексеевич</td>\n",
       "      <td>ioannundseineigentum@gmail.com</td>\n",
       "    </tr>\n",
       "    <tr>\n",
       "      <th>32</th>\n",
       "      <td>Блок 6</td>\n",
       "      <td>Департамент H</td>\n",
       "      <td>Довгополый Иоанн Алексеевич</td>\n",
       "      <td>ioannundseineigentum@gmail.com</td>\n",
       "    </tr>\n",
       "    <tr>\n",
       "      <th>33</th>\n",
       "      <td>Блок 6</td>\n",
       "      <td>Департамент I</td>\n",
       "      <td>Довгополый Иоанн Алексеевич</td>\n",
       "      <td>ioannundseineigentum@gmail.com</td>\n",
       "    </tr>\n",
       "    <tr>\n",
       "      <th>34</th>\n",
       "      <td>Блок 6</td>\n",
       "      <td>Департамент J</td>\n",
       "      <td>Довгополый Иоанн Алексеевич</td>\n",
       "      <td>ioannundseineigentum@gmail.com</td>\n",
       "    </tr>\n",
       "    <tr>\n",
       "      <th>35</th>\n",
       "      <td>Блок 6</td>\n",
       "      <td>Департамент K</td>\n",
       "      <td>Довгополый Иоанн Алексеевич</td>\n",
       "      <td>ioannundseineigentum@gmail.com</td>\n",
       "    </tr>\n",
       "    <tr>\n",
       "      <th>36</th>\n",
       "      <td>Блок 6</td>\n",
       "      <td>Департамент L</td>\n",
       "      <td>Довгополый Иоанн Алексеевич</td>\n",
       "      <td>ioannundseineigentum@gmail.com</td>\n",
       "    </tr>\n",
       "    <tr>\n",
       "      <th>37</th>\n",
       "      <td>Блок 7</td>\n",
       "      <td>Департамент A</td>\n",
       "      <td>Довгополый Иоанн Алексеевич</td>\n",
       "      <td>ioannundseineigentum@gmail.com</td>\n",
       "    </tr>\n",
       "    <tr>\n",
       "      <th>38</th>\n",
       "      <td>Блок 7</td>\n",
       "      <td>Департамент B</td>\n",
       "      <td>Довгополый Иоанн Алексеевич</td>\n",
       "      <td>ioannundseineigentum@gmail.com</td>\n",
       "    </tr>\n",
       "    <tr>\n",
       "      <th>39</th>\n",
       "      <td>Блок 7</td>\n",
       "      <td>Департамент C</td>\n",
       "      <td>Довгополый Иоанн Алексеевич</td>\n",
       "      <td>ioannundseineigentum@gmail.com</td>\n",
       "    </tr>\n",
       "    <tr>\n",
       "      <th>40</th>\n",
       "      <td>Блок 7</td>\n",
       "      <td>Департамент D</td>\n",
       "      <td>Довгополый Иоанн Алексеевич</td>\n",
       "      <td>ioannundseineigentum@gmail.com</td>\n",
       "    </tr>\n",
       "    <tr>\n",
       "      <th>41</th>\n",
       "      <td>Блок 7</td>\n",
       "      <td>Департамент E</td>\n",
       "      <td>Довгополый Иоанн Алексеевич</td>\n",
       "      <td>ioannundseineigentum@gmail.com</td>\n",
       "    </tr>\n",
       "    <tr>\n",
       "      <th>42</th>\n",
       "      <td>Блок 7</td>\n",
       "      <td>Департамент F</td>\n",
       "      <td>Довгополый Иоанн Алексеевич</td>\n",
       "      <td>ioannundseineigentum@gmail.com</td>\n",
       "    </tr>\n",
       "    <tr>\n",
       "      <th>43</th>\n",
       "      <td>Блок 7</td>\n",
       "      <td>Департамент G</td>\n",
       "      <td>Довгополый Иоанн Алексеевич</td>\n",
       "      <td>ioannundseineigentum@gmail.com</td>\n",
       "    </tr>\n",
       "    <tr>\n",
       "      <th>44</th>\n",
       "      <td>Блок 7</td>\n",
       "      <td>Департамент H</td>\n",
       "      <td>Довгополый Иоанн Алексеевич</td>\n",
       "      <td>ioannundseineigentum@gmail.com</td>\n",
       "    </tr>\n",
       "    <tr>\n",
       "      <th>45</th>\n",
       "      <td>Блок 7</td>\n",
       "      <td>Департамент I</td>\n",
       "      <td>Довгополый Иоанн Алексеевич</td>\n",
       "      <td>ioannundseineigentum@gmail.com</td>\n",
       "    </tr>\n",
       "    <tr>\n",
       "      <th>46</th>\n",
       "      <td>Блок 7</td>\n",
       "      <td>Департамент J</td>\n",
       "      <td>Довгополый Иоанн Алексеевич</td>\n",
       "      <td>ioannundseineigentum@gmail.com</td>\n",
       "    </tr>\n",
       "    <tr>\n",
       "      <th>47</th>\n",
       "      <td>Блок 7</td>\n",
       "      <td>Департамент K</td>\n",
       "      <td>Довгополый Иоанн Алексеевич</td>\n",
       "      <td>ioannundseineigentum@gmail.com</td>\n",
       "    </tr>\n",
       "    <tr>\n",
       "      <th>48</th>\n",
       "      <td>Блок 7</td>\n",
       "      <td>Департамент L</td>\n",
       "      <td>Довгополый Иоанн Алексеевич</td>\n",
       "      <td>ioannundseineigentum@gmail.com</td>\n",
       "    </tr>\n",
       "    <tr>\n",
       "      <th>49</th>\n",
       "      <td>Блок 8</td>\n",
       "      <td>Департамент A</td>\n",
       "      <td>Довгополый Иоанн Алексеевич</td>\n",
       "      <td>ioannundseineigentum@gmail.com</td>\n",
       "    </tr>\n",
       "    <tr>\n",
       "      <th>50</th>\n",
       "      <td>Блок 8</td>\n",
       "      <td>Департамент B</td>\n",
       "      <td>Довгополый Иоанн Алексеевич</td>\n",
       "      <td>ioannundseineigentum@gmail.com</td>\n",
       "    </tr>\n",
       "    <tr>\n",
       "      <th>51</th>\n",
       "      <td>Блок 8</td>\n",
       "      <td>Департамент C</td>\n",
       "      <td>Довгополый Иоанн Алексеевич</td>\n",
       "      <td>ioannundseineigentum@gmail.com</td>\n",
       "    </tr>\n",
       "    <tr>\n",
       "      <th>52</th>\n",
       "      <td>Блок 8</td>\n",
       "      <td>Департамент D</td>\n",
       "      <td>Довгополый Иоанн Алексеевич</td>\n",
       "      <td>ioannundseineigentum@gmail.com</td>\n",
       "    </tr>\n",
       "    <tr>\n",
       "      <th>53</th>\n",
       "      <td>Блок 8</td>\n",
       "      <td>Департамент E</td>\n",
       "      <td>Довгополый Иоанн Алексеевич</td>\n",
       "      <td>ioannundseineigentum@gmail.com</td>\n",
       "    </tr>\n",
       "    <tr>\n",
       "      <th>54</th>\n",
       "      <td>Блок 8</td>\n",
       "      <td>Департамент F</td>\n",
       "      <td>Довгополый Иоанн Алексеевич</td>\n",
       "      <td>ioannundseineigentum@gmail.com</td>\n",
       "    </tr>\n",
       "    <tr>\n",
       "      <th>55</th>\n",
       "      <td>Блок 9</td>\n",
       "      <td>Департамент A</td>\n",
       "      <td>Довгополый Иоанн Алексеевич</td>\n",
       "      <td>ioannundseineigentum@gmail.com</td>\n",
       "    </tr>\n",
       "    <tr>\n",
       "      <th>56</th>\n",
       "      <td>Блок 9</td>\n",
       "      <td>Департамент B</td>\n",
       "      <td>Довгополый Иоанн Алексеевич</td>\n",
       "      <td>ioannundseineigentum@gmail.com</td>\n",
       "    </tr>\n",
       "  </tbody>\n",
       "</table>\n",
       "</div>"
      ],
      "text/plain": [
       "     block     department                          fio  \\\n",
       "0   Блок 1  Департамент A  Довгополый Иоанн Алексеевич   \n",
       "1   Блок 1  Департамент B  Довгополый Иоанн Алексеевич   \n",
       "2   Блок 1  Департамент C  Довгополый Иоанн Алексеевич   \n",
       "3   Блок 2  Департамент A  Довгополый Иоанн Алексеевич   \n",
       "4   Блок 2  Департамент B  Довгополый Иоанн Алексеевич   \n",
       "5   Блок 2  Департамент C  Довгополый Иоанн Алексеевич   \n",
       "6   Блок 2  Департамент D  Довгополый Иоанн Алексеевич   \n",
       "7   Блок 2  Департамент E  Довгополый Иоанн Алексеевич   \n",
       "8   Блок 2  Департамент F  Довгополый Иоанн Алексеевич   \n",
       "9   Блок 2  Департамент G  Довгополый Иоанн Алексеевич   \n",
       "10  Блок 3  Департамент A  Довгополый Иоанн Алексеевич   \n",
       "11  Блок 3  Департамент B  Довгополый Иоанн Алексеевич   \n",
       "12  Блок 4  Департамент A  Довгополый Иоанн Алексеевич   \n",
       "13  Блок 5  Департамент A  Довгополый Иоанн Алексеевич   \n",
       "14  Блок 5  Департамент B  Довгополый Иоанн Алексеевич   \n",
       "15  Блок 5  Департамент C  Довгополый Иоанн Алексеевич   \n",
       "16  Блок 5  Департамент D  Довгополый Иоанн Алексеевич   \n",
       "17  Блок 5  Департамент E  Довгополый Иоанн Алексеевич   \n",
       "18  Блок 5  Департамент F  Довгополый Иоанн Алексеевич   \n",
       "19  Блок 5  Департамент G  Довгополый Иоанн Алексеевич   \n",
       "20  Блок 5  Департамент H  Довгополый Иоанн Алексеевич   \n",
       "21  Блок 5  Департамент I  Довгополый Иоанн Алексеевич   \n",
       "22  Блок 5  Департамент J  Довгополый Иоанн Алексеевич   \n",
       "23  Блок 5  Департамент K  Довгополый Иоанн Алексеевич   \n",
       "24  Блок 5  Департамент L  Довгополый Иоанн Алексеевич   \n",
       "25  Блок 6  Департамент A  Довгополый Иоанн Алексеевич   \n",
       "26  Блок 6  Департамент B  Довгополый Иоанн Алексеевич   \n",
       "27  Блок 6  Департамент C  Довгополый Иоанн Алексеевич   \n",
       "28  Блок 6  Департамент D  Довгополый Иоанн Алексеевич   \n",
       "29  Блок 6  Департамент E  Довгополый Иоанн Алексеевич   \n",
       "30  Блок 6  Департамент F  Довгополый Иоанн Алексеевич   \n",
       "31  Блок 6  Департамент G  Довгополый Иоанн Алексеевич   \n",
       "32  Блок 6  Департамент H  Довгополый Иоанн Алексеевич   \n",
       "33  Блок 6  Департамент I  Довгополый Иоанн Алексеевич   \n",
       "34  Блок 6  Департамент J  Довгополый Иоанн Алексеевич   \n",
       "35  Блок 6  Департамент K  Довгополый Иоанн Алексеевич   \n",
       "36  Блок 6  Департамент L  Довгополый Иоанн Алексеевич   \n",
       "37  Блок 7  Департамент A  Довгополый Иоанн Алексеевич   \n",
       "38  Блок 7  Департамент B  Довгополый Иоанн Алексеевич   \n",
       "39  Блок 7  Департамент C  Довгополый Иоанн Алексеевич   \n",
       "40  Блок 7  Департамент D  Довгополый Иоанн Алексеевич   \n",
       "41  Блок 7  Департамент E  Довгополый Иоанн Алексеевич   \n",
       "42  Блок 7  Департамент F  Довгополый Иоанн Алексеевич   \n",
       "43  Блок 7  Департамент G  Довгополый Иоанн Алексеевич   \n",
       "44  Блок 7  Департамент H  Довгополый Иоанн Алексеевич   \n",
       "45  Блок 7  Департамент I  Довгополый Иоанн Алексеевич   \n",
       "46  Блок 7  Департамент J  Довгополый Иоанн Алексеевич   \n",
       "47  Блок 7  Департамент K  Довгополый Иоанн Алексеевич   \n",
       "48  Блок 7  Департамент L  Довгополый Иоанн Алексеевич   \n",
       "49  Блок 8  Департамент A  Довгополый Иоанн Алексеевич   \n",
       "50  Блок 8  Департамент B  Довгополый Иоанн Алексеевич   \n",
       "51  Блок 8  Департамент C  Довгополый Иоанн Алексеевич   \n",
       "52  Блок 8  Департамент D  Довгополый Иоанн Алексеевич   \n",
       "53  Блок 8  Департамент E  Довгополый Иоанн Алексеевич   \n",
       "54  Блок 8  Департамент F  Довгополый Иоанн Алексеевич   \n",
       "55  Блок 9  Департамент A  Довгополый Иоанн Алексеевич   \n",
       "56  Блок 9  Департамент B  Довгополый Иоанн Алексеевич   \n",
       "\n",
       "                             email  \n",
       "0   ioannundseineigentum@gmail.com  \n",
       "1   ioannundseineigentum@gmail.com  \n",
       "2   ioannundseineigentum@gmail.com  \n",
       "3   ioannundseineigentum@gmail.com  \n",
       "4   ioannundseineigentum@gmail.com  \n",
       "5   ioannundseineigentum@gmail.com  \n",
       "6   ioannundseineigentum@gmail.com  \n",
       "7   ioannundseineigentum@gmail.com  \n",
       "8   ioannundseineigentum@gmail.com  \n",
       "9   ioannundseineigentum@gmail.com  \n",
       "10  ioannundseineigentum@gmail.com  \n",
       "11  ioannundseineigentum@gmail.com  \n",
       "12  ioannundseineigentum@gmail.com  \n",
       "13  ioannundseineigentum@gmail.com  \n",
       "14  ioannundseineigentum@gmail.com  \n",
       "15  ioannundseineigentum@gmail.com  \n",
       "16  ioannundseineigentum@gmail.com  \n",
       "17  ioannundseineigentum@gmail.com  \n",
       "18  ioannundseineigentum@gmail.com  \n",
       "19  ioannundseineigentum@gmail.com  \n",
       "20  ioannundseineigentum@gmail.com  \n",
       "21  ioannundseineigentum@gmail.com  \n",
       "22  ioannundseineigentum@gmail.com  \n",
       "23  ioannundseineigentum@gmail.com  \n",
       "24  ioannundseineigentum@gmail.com  \n",
       "25  ioannundseineigentum@gmail.com  \n",
       "26  ioannundseineigentum@gmail.com  \n",
       "27  ioannundseineigentum@gmail.com  \n",
       "28  ioannundseineigentum@gmail.com  \n",
       "29  ioannundseineigentum@gmail.com  \n",
       "30  ioannundseineigentum@gmail.com  \n",
       "31  ioannundseineigentum@gmail.com  \n",
       "32  ioannundseineigentum@gmail.com  \n",
       "33  ioannundseineigentum@gmail.com  \n",
       "34  ioannundseineigentum@gmail.com  \n",
       "35  ioannundseineigentum@gmail.com  \n",
       "36  ioannundseineigentum@gmail.com  \n",
       "37  ioannundseineigentum@gmail.com  \n",
       "38  ioannundseineigentum@gmail.com  \n",
       "39  ioannundseineigentum@gmail.com  \n",
       "40  ioannundseineigentum@gmail.com  \n",
       "41  ioannundseineigentum@gmail.com  \n",
       "42  ioannundseineigentum@gmail.com  \n",
       "43  ioannundseineigentum@gmail.com  \n",
       "44  ioannundseineigentum@gmail.com  \n",
       "45  ioannundseineigentum@gmail.com  \n",
       "46  ioannundseineigentum@gmail.com  \n",
       "47  ioannundseineigentum@gmail.com  \n",
       "48  ioannundseineigentum@gmail.com  \n",
       "49  ioannundseineigentum@gmail.com  \n",
       "50  ioannundseineigentum@gmail.com  \n",
       "51  ioannundseineigentum@gmail.com  \n",
       "52  ioannundseineigentum@gmail.com  \n",
       "53  ioannundseineigentum@gmail.com  \n",
       "54  ioannundseineigentum@gmail.com  \n",
       "55  ioannundseineigentum@gmail.com  \n",
       "56  ioannundseineigentum@gmail.com  "
      ]
     },
     "execution_count": 73,
     "metadata": {},
     "output_type": "execute_result"
    }
   ],
   "source": [
    "info_path = Path('../Занятие 5/sources/Справочник.xlsx')\n",
    "\n",
    "parse_info(info_path)"
   ]
  },
  {
   "cell_type": "markdown",
   "id": "9f77edf7-72ef-466d-ab78-dc9b18bca96e",
   "metadata": {},
   "source": [
    "**Как быть с docstring?**"
   ]
  },
  {
   "cell_type": "code",
   "execution_count": 76,
   "id": "46374869-89d3-4826-be4c-56eeeb7b3bb5",
   "metadata": {},
   "outputs": [],
   "source": [
    "def func(n):\n",
    "    \"\"\"\n",
    "    This function powers input n by 2\n",
    "    \"\"\"\n",
    "    return n ** 2"
   ]
  },
  {
   "cell_type": "code",
   "execution_count": 77,
   "id": "29d9411d-90fe-4c87-ac4a-eaab30bf828b",
   "metadata": {},
   "outputs": [
    {
     "data": {
      "text/plain": [
       "'\\n    This function powers input n by 2\\n    '"
      ]
     },
     "execution_count": 77,
     "metadata": {},
     "output_type": "execute_result"
    }
   ],
   "source": [
    "func.__doc__"
   ]
  },
  {
   "cell_type": "code",
   "execution_count": 78,
   "id": "35464259-a112-41a1-b726-807c877ed3c1",
   "metadata": {},
   "outputs": [],
   "source": [
    "def divider(func):\n",
    "    def wrapper(*args, **kwargs):\n",
    "        result = func(*args, **kwargs)\n",
    "        return result ** (1 / 2)\n",
    "    return wrapper"
   ]
  },
  {
   "cell_type": "code",
   "execution_count": 79,
   "id": "16683d19-780b-49a1-b224-96044ae1c2e6",
   "metadata": {},
   "outputs": [],
   "source": [
    "@divider\n",
    "def func(n):\n",
    "    return n ** 2"
   ]
  },
  {
   "cell_type": "code",
   "execution_count": 82,
   "id": "4596d010-f16a-42b7-9953-4ed557ff6895",
   "metadata": {},
   "outputs": [],
   "source": [
    "func.__doc__"
   ]
  },
  {
   "cell_type": "markdown",
   "id": "8c418eaf-3839-4f9e-9e38-d5425756d80f",
   "metadata": {},
   "source": [
    "**Решение**"
   ]
  },
  {
   "cell_type": "code",
   "execution_count": 84,
   "id": "fe24ea2b-e587-409c-b69e-dccae2f87f90",
   "metadata": {},
   "outputs": [],
   "source": [
    "def func(n):\n",
    "    \"\"\"\n",
    "    This function powers input n by 2\n",
    "    \"\"\"\n",
    "    return n ** 2"
   ]
  },
  {
   "cell_type": "code",
   "execution_count": 85,
   "id": "31801df0-09aa-4311-b594-ee73a913f2bd",
   "metadata": {},
   "outputs": [],
   "source": [
    "import functools\n",
    "\n",
    "def divider(func):\n",
    "    @functools.wraps(func)\n",
    "    def wrapper(*args, **kwargs):\n",
    "        result = func(*args, **kwargs)\n",
    "        return result ** (1 / 2)\n",
    "    return wrapper"
   ]
  },
  {
   "cell_type": "markdown",
   "id": "58fd9f2e-6469-4e52-acdc-86117a90fbac",
   "metadata": {},
   "source": [
    "**Перехватим docstring сами**"
   ]
  },
  {
   "cell_type": "code",
   "execution_count": 106,
   "id": "c26d1228-06b2-4e3a-9d76-91de4cf4d20a",
   "metadata": {},
   "outputs": [],
   "source": [
    "def func(n):\n",
    "    \"\"\"\n",
    "    This function powers input n by 2\n",
    "    \"\"\"\n",
    "    return n ** 2"
   ]
  },
  {
   "cell_type": "code",
   "execution_count": 109,
   "id": "351c8388-7a25-4482-9ef6-2a9d2418b4cf",
   "metadata": {},
   "outputs": [],
   "source": [
    "import functools\n",
    "\n",
    "def divider(func):\n",
    "    print(func)\n",
    "    # docstring = func\n",
    "    # print(docstring)\n",
    "    \n",
    "    def wrapper(*args, **kwargs):\n",
    "        result = func(*args, **kwargs)\n",
    "        return result ** (1 / 2)\n",
    "\n",
    "    # wrapper.__doc__ = docstring\n",
    "    \n",
    "    return wrapper"
   ]
  },
  {
   "cell_type": "code",
   "execution_count": 110,
   "id": "f6be84c0-2125-41b6-a922-6487453841a8",
   "metadata": {},
   "outputs": [
    {
     "name": "stdout",
     "output_type": "stream",
     "text": [
      "<function func at 0x1682fd940>\n"
     ]
    }
   ],
   "source": [
    "@divider\n",
    "def func(n):\n",
    "    return n ** 2"
   ]
  },
  {
   "cell_type": "code",
   "execution_count": 97,
   "id": "dbc984cf-d5e9-4993-9a33-997bc178cd20",
   "metadata": {},
   "outputs": [],
   "source": [
    "func.__doc__ = None"
   ]
  },
  {
   "cell_type": "code",
   "execution_count": 98,
   "id": "be4d2768-9fe0-4bdd-af64-ec2506950a40",
   "metadata": {},
   "outputs": [
    {
     "data": {
      "text/plain": [
       "\u001b[0;31mSignature:\u001b[0m \u001b[0mfunc\u001b[0m\u001b[0;34m(\u001b[0m\u001b[0mn\u001b[0m\u001b[0;34m)\u001b[0m\u001b[0;34m\u001b[0m\u001b[0;34m\u001b[0m\u001b[0m\n",
       "\u001b[0;31mDocstring:\u001b[0m <no docstring>\n",
       "\u001b[0;31mFile:\u001b[0m      /var/folders/h6/lv17v1r10lz21g745pd6774h0tgc4z/T/ipykernel_6168/855151311.py\n",
       "\u001b[0;31mType:\u001b[0m      function"
      ]
     },
     "metadata": {},
     "output_type": "display_data"
    }
   ],
   "source": [
    "?func"
   ]
  },
  {
   "cell_type": "markdown",
   "id": "b986047d-5203-4403-bf28-849521adafd1",
   "metadata": {},
   "source": [
    "#### Некоторые полезные декораторы\n",
    "\n",
    "1. @classmethod (метод для класса, подразумевает аргумент cls);\n",
    "2. @staticmethod (метод для класса, не привязан классу никак кроме namespace);\n",
    "3. @abstractmethod (только обозначить наличие метода);\n",
    "4. @typing.final (обозначить, что от класса нельзя наследоваться);\n",
    "5. @lru_cache."
   ]
  },
  {
   "cell_type": "code",
   "execution_count": 137,
   "id": "f062f7d9-dbe2-4244-91ef-b2509f71253b",
   "metadata": {},
   "outputs": [],
   "source": [
    "from abc import ABC, abstractmethod"
   ]
  },
  {
   "cell_type": "code",
   "execution_count": 138,
   "id": "7388f9f6-0f0c-49bf-99fa-a0fefbbf63eb",
   "metadata": {},
   "outputs": [],
   "source": [
    "class Transformer(ABC):\n",
    "    @abstractmethod\n",
    "    def _get_params(self, data):  # must be specified in child class\n",
    "        pass\n",
    "\n",
    "    @abstractmethod\n",
    "    def _apply_params(self, data):  # must be specified in child class\n",
    "        pass"
   ]
  },
  {
   "cell_type": "code",
   "execution_count": 139,
   "id": "5524ffa0-2970-4a1c-a364-7641f2823938",
   "metadata": {},
   "outputs": [
    {
     "ename": "TypeError",
     "evalue": "Can't instantiate abstract class Transformer with abstract methods _apply_params, _get_params",
     "output_type": "error",
     "traceback": [
      "\u001b[0;31m---------------------------------------------------------------------------\u001b[0m",
      "\u001b[0;31mTypeError\u001b[0m                                 Traceback (most recent call last)",
      "Cell \u001b[0;32mIn[139], line 1\u001b[0m\n\u001b[0;32m----> 1\u001b[0m tr \u001b[38;5;241m=\u001b[39m \u001b[43mTransformer\u001b[49m\u001b[43m(\u001b[49m\u001b[43m)\u001b[49m\n",
      "\u001b[0;31mTypeError\u001b[0m: Can't instantiate abstract class Transformer with abstract methods _apply_params, _get_params"
     ]
    }
   ],
   "source": [
    "tr = Transformer()"
   ]
  },
  {
   "cell_type": "code",
   "execution_count": 131,
   "id": "07361a37-a840-42cd-893d-d72cc906a425",
   "metadata": {},
   "outputs": [],
   "source": [
    "class SomeClass:\n",
    "    @classmethod\n",
    "    def method_of_class(cls):\n",
    "        print('class method')\n",
    "\n",
    "    def method_of_instance(self):\n",
    "        print('instance method')"
   ]
  },
  {
   "cell_type": "code",
   "execution_count": 132,
   "id": "18033abc-b803-4520-a502-596112044d5e",
   "metadata": {},
   "outputs": [],
   "source": [
    "sc = SomeClass()"
   ]
  },
  {
   "cell_type": "code",
   "execution_count": 133,
   "id": "8d81c23f-641d-4e04-bd4a-9b365654d208",
   "metadata": {},
   "outputs": [
    {
     "name": "stdout",
     "output_type": "stream",
     "text": [
      "class method\n"
     ]
    }
   ],
   "source": [
    "SomeClass.method_of_class()"
   ]
  },
  {
   "cell_type": "code",
   "execution_count": 134,
   "id": "cba78873-7304-4144-a0d8-098c42f0aeef",
   "metadata": {},
   "outputs": [
    {
     "name": "stdout",
     "output_type": "stream",
     "text": [
      "class method\n"
     ]
    }
   ],
   "source": [
    "sc.method_of_class()"
   ]
  },
  {
   "cell_type": "code",
   "execution_count": 135,
   "id": "1ae14259-583e-464d-a779-5cdfbc51cf8a",
   "metadata": {},
   "outputs": [
    {
     "name": "stdout",
     "output_type": "stream",
     "text": [
      "instance method\n"
     ]
    }
   ],
   "source": [
    "sc.method_of_instance()"
   ]
  },
  {
   "cell_type": "markdown",
   "id": "a83143d5-0cfd-4617-8c90-05874a0c34e7",
   "metadata": {},
   "source": [
    "#### Практика\n",
    "Напишите декоратор для сохранения логов в файл stdout.txt. Модифицируйте проект по рассылке отчетов."
   ]
  },
  {
   "cell_type": "code",
   "execution_count": 1,
   "id": "5c2783cc-4684-4898-b06a-6f9ccc6fbd56",
   "metadata": {},
   "outputs": [],
   "source": [
    "import sys"
   ]
  },
  {
   "cell_type": "code",
   "execution_count": 9,
   "id": "5ce26dfd-2b76-4b32-b1aa-041a61d171f1",
   "metadata": {},
   "outputs": [],
   "source": [
    "@print_catcher\n",
    "def printer(number):\n",
    "    print(number)\n",
    "\n",
    "@print_catcher\n",
    "def printer2(number):\n",
    "    print(str(number) * number)"
   ]
  },
  {
   "cell_type": "code",
   "execution_count": 10,
   "id": "67f7164d-882d-40cc-9432-4364e71bd842",
   "metadata": {},
   "outputs": [],
   "source": [
    "for i in range(10):\n",
    "    printer(i)\n",
    "    printer2(i)"
   ]
  },
  {
   "cell_type": "code",
   "execution_count": 8,
   "id": "4b5d4499-1a53-4fbb-9db5-ee7cd27d5f1f",
   "metadata": {},
   "outputs": [],
   "source": [
    "def print_catcher(func):\n",
    "    def wrapper(*args, **kwargs):\n",
    "        original_stdout = sys.stdout\n",
    "\n",
    "        with open('logs.txt', 'a') as stdout_log:\n",
    "            sys.stdout = stdout_log\n",
    "            func(*args, **kwargs)\n",
    "\n",
    "        sys.stdout = original_stdout\n",
    "\n",
    "    return wrapper"
   ]
  },
  {
   "cell_type": "code",
   "execution_count": null,
   "id": "d349dd71-0255-42a5-ace9-ca9c181cdb51",
   "metadata": {},
   "outputs": [],
   "source": []
  },
  {
   "cell_type": "code",
   "execution_count": 2,
   "id": "810000f8-ce07-4889-ac66-9b61d7c8bb10",
   "metadata": {},
   "outputs": [
    {
     "data": {
      "text/plain": [
       "<ipykernel.iostream.OutStream at 0x10608dc30>"
      ]
     },
     "execution_count": 2,
     "metadata": {},
     "output_type": "execute_result"
    }
   ],
   "source": [
    "sys.stdout"
   ]
  },
  {
   "cell_type": "code",
   "execution_count": null,
   "id": "29a80994-5efe-4409-8af6-8abb64156f2e",
   "metadata": {},
   "outputs": [],
   "source": []
  },
  {
   "cell_type": "code",
   "execution_count": null,
   "id": "2b2cb594-6b2c-46f6-9bb1-e7b51d5e8970",
   "metadata": {},
   "outputs": [],
   "source": [
    "# наш код здесь"
   ]
  }
 ],
 "metadata": {
  "kernelspec": {
   "display_name": "Python 3 (ipykernel)",
   "language": "python",
   "name": "python3"
  },
  "language_info": {
   "codemirror_mode": {
    "name": "ipython",
    "version": 3
   },
   "file_extension": ".py",
   "mimetype": "text/x-python",
   "name": "python",
   "nbconvert_exporter": "python",
   "pygments_lexer": "ipython3",
   "version": "3.11.6"
  }
 },
 "nbformat": 4,
 "nbformat_minor": 5
}
