{
 "cells": [
  {
   "cell_type": "markdown",
   "id": "0d7c1ac1",
   "metadata": {},
   "source": [
    "# Продвинутое программирование на языке Python\n",
    "## Семинар 1. Принципы ООП\n",
    "\n",
    "На этом занятии постараемся разобрать логику `.__init__()` -> `.fit()` -> `.transform()` (`.predict()`). Это пригодится нам при работе с `sklearn`."
   ]
  },
  {
   "cell_type": "code",
   "execution_count": 2,
   "id": "1a413ff2",
   "metadata": {},
   "outputs": [],
   "source": [
    "import numpy as np\n",
    "import pandas as pd\n",
    "\n",
    "from sklearn.linear_model import LinearRegression"
   ]
  },
  {
   "cell_type": "code",
   "execution_count": 3,
   "id": "7691ad7c",
   "metadata": {},
   "outputs": [],
   "source": [
    "X = np.random.uniform(-10, 10, (100, 2))\n",
    "y = np.random.normal(0, 1, 100)\n",
    "\n",
    "X_new = np.random.uniform(-10, 10, (50, 2))"
   ]
  },
  {
   "cell_type": "code",
   "execution_count": 4,
   "id": "aae734db",
   "metadata": {},
   "outputs": [],
   "source": [
    "lr = LinearRegression()  # .__init__()\n",
    "# Y = b1*X1 + b2*X2 + ... + bn*Xn"
   ]
  },
  {
   "cell_type": "code",
   "execution_count": 6,
   "id": "c88155c2-1f72-4cfe-91a6-e4cff57732fe",
   "metadata": {},
   "outputs": [
    {
     "data": {
      "text/plain": [
       "sklearn.linear_model._base.LinearRegression"
      ]
     },
     "execution_count": 6,
     "metadata": {},
     "output_type": "execute_result"
    }
   ],
   "source": [
    "type(lr)"
   ]
  },
  {
   "cell_type": "code",
   "execution_count": 7,
   "id": "0efa62c5-9cf8-4650-88dd-f4cd3d9e3f5c",
   "metadata": {
    "scrolled": true
   },
   "outputs": [
    {
     "data": {
      "text/plain": [
       "['__abstractmethods__',\n",
       " '__annotations__',\n",
       " '__class__',\n",
       " '__delattr__',\n",
       " '__dict__',\n",
       " '__dir__',\n",
       " '__doc__',\n",
       " '__eq__',\n",
       " '__format__',\n",
       " '__ge__',\n",
       " '__getattribute__',\n",
       " '__getstate__',\n",
       " '__gt__',\n",
       " '__hash__',\n",
       " '__init__',\n",
       " '__init_subclass__',\n",
       " '__le__',\n",
       " '__lt__',\n",
       " '__module__',\n",
       " '__ne__',\n",
       " '__new__',\n",
       " '__reduce__',\n",
       " '__reduce_ex__',\n",
       " '__repr__',\n",
       " '__setattr__',\n",
       " '__setstate__',\n",
       " '__sizeof__',\n",
       " '__sklearn_clone__',\n",
       " '__str__',\n",
       " '__subclasshook__',\n",
       " '__weakref__',\n",
       " '_abc_impl',\n",
       " '_build_request_for_signature',\n",
       " '_check_feature_names',\n",
       " '_check_n_features',\n",
       " '_decision_function',\n",
       " '_estimator_type',\n",
       " '_get_default_requests',\n",
       " '_get_metadata_request',\n",
       " '_get_param_names',\n",
       " '_get_tags',\n",
       " '_more_tags',\n",
       " '_parameter_constraints',\n",
       " '_repr_html_',\n",
       " '_repr_html_inner',\n",
       " '_repr_mimebundle_',\n",
       " '_set_intercept',\n",
       " '_validate_data',\n",
       " '_validate_params',\n",
       " 'copy_X',\n",
       " 'fit',\n",
       " 'fit_intercept',\n",
       " 'get_metadata_routing',\n",
       " 'get_params',\n",
       " 'n_jobs',\n",
       " 'positive',\n",
       " 'predict',\n",
       " 'score',\n",
       " 'set_fit_request',\n",
       " 'set_params',\n",
       " 'set_score_request']"
      ]
     },
     "execution_count": 7,
     "metadata": {},
     "output_type": "execute_result"
    }
   ],
   "source": [
    "dir(lr)"
   ]
  },
  {
   "cell_type": "code",
   "execution_count": 8,
   "id": "3d27a0c3-27a7-4ca7-9184-fedd4078c76c",
   "metadata": {},
   "outputs": [
    {
     "data": {
      "text/html": [
       "<style>#sk-container-id-1 {color: black;}#sk-container-id-1 pre{padding: 0;}#sk-container-id-1 div.sk-toggleable {background-color: white;}#sk-container-id-1 label.sk-toggleable__label {cursor: pointer;display: block;width: 100%;margin-bottom: 0;padding: 0.3em;box-sizing: border-box;text-align: center;}#sk-container-id-1 label.sk-toggleable__label-arrow:before {content: \"▸\";float: left;margin-right: 0.25em;color: #696969;}#sk-container-id-1 label.sk-toggleable__label-arrow:hover:before {color: black;}#sk-container-id-1 div.sk-estimator:hover label.sk-toggleable__label-arrow:before {color: black;}#sk-container-id-1 div.sk-toggleable__content {max-height: 0;max-width: 0;overflow: hidden;text-align: left;background-color: #f0f8ff;}#sk-container-id-1 div.sk-toggleable__content pre {margin: 0.2em;color: black;border-radius: 0.25em;background-color: #f0f8ff;}#sk-container-id-1 input.sk-toggleable__control:checked~div.sk-toggleable__content {max-height: 200px;max-width: 100%;overflow: auto;}#sk-container-id-1 input.sk-toggleable__control:checked~label.sk-toggleable__label-arrow:before {content: \"▾\";}#sk-container-id-1 div.sk-estimator input.sk-toggleable__control:checked~label.sk-toggleable__label {background-color: #d4ebff;}#sk-container-id-1 div.sk-label input.sk-toggleable__control:checked~label.sk-toggleable__label {background-color: #d4ebff;}#sk-container-id-1 input.sk-hidden--visually {border: 0;clip: rect(1px 1px 1px 1px);clip: rect(1px, 1px, 1px, 1px);height: 1px;margin: -1px;overflow: hidden;padding: 0;position: absolute;width: 1px;}#sk-container-id-1 div.sk-estimator {font-family: monospace;background-color: #f0f8ff;border: 1px dotted black;border-radius: 0.25em;box-sizing: border-box;margin-bottom: 0.5em;}#sk-container-id-1 div.sk-estimator:hover {background-color: #d4ebff;}#sk-container-id-1 div.sk-parallel-item::after {content: \"\";width: 100%;border-bottom: 1px solid gray;flex-grow: 1;}#sk-container-id-1 div.sk-label:hover label.sk-toggleable__label {background-color: #d4ebff;}#sk-container-id-1 div.sk-serial::before {content: \"\";position: absolute;border-left: 1px solid gray;box-sizing: border-box;top: 0;bottom: 0;left: 50%;z-index: 0;}#sk-container-id-1 div.sk-serial {display: flex;flex-direction: column;align-items: center;background-color: white;padding-right: 0.2em;padding-left: 0.2em;position: relative;}#sk-container-id-1 div.sk-item {position: relative;z-index: 1;}#sk-container-id-1 div.sk-parallel {display: flex;align-items: stretch;justify-content: center;background-color: white;position: relative;}#sk-container-id-1 div.sk-item::before, #sk-container-id-1 div.sk-parallel-item::before {content: \"\";position: absolute;border-left: 1px solid gray;box-sizing: border-box;top: 0;bottom: 0;left: 50%;z-index: -1;}#sk-container-id-1 div.sk-parallel-item {display: flex;flex-direction: column;z-index: 1;position: relative;background-color: white;}#sk-container-id-1 div.sk-parallel-item:first-child::after {align-self: flex-end;width: 50%;}#sk-container-id-1 div.sk-parallel-item:last-child::after {align-self: flex-start;width: 50%;}#sk-container-id-1 div.sk-parallel-item:only-child::after {width: 0;}#sk-container-id-1 div.sk-dashed-wrapped {border: 1px dashed gray;margin: 0 0.4em 0.5em 0.4em;box-sizing: border-box;padding-bottom: 0.4em;background-color: white;}#sk-container-id-1 div.sk-label label {font-family: monospace;font-weight: bold;display: inline-block;line-height: 1.2em;}#sk-container-id-1 div.sk-label-container {text-align: center;}#sk-container-id-1 div.sk-container {/* jupyter's `normalize.less` sets `[hidden] { display: none; }` but bootstrap.min.css set `[hidden] { display: none !important; }` so we also need the `!important` here to be able to override the default hidden behavior on the sphinx rendered scikit-learn.org. See: https://github.com/scikit-learn/scikit-learn/issues/21755 */display: inline-block !important;position: relative;}#sk-container-id-1 div.sk-text-repr-fallback {display: none;}</style><div id=\"sk-container-id-1\" class=\"sk-top-container\"><div class=\"sk-text-repr-fallback\"><pre>LinearRegression()</pre><b>In a Jupyter environment, please rerun this cell to show the HTML representation or trust the notebook. <br />On GitHub, the HTML representation is unable to render, please try loading this page with nbviewer.org.</b></div><div class=\"sk-container\" hidden><div class=\"sk-item\"><div class=\"sk-estimator sk-toggleable\"><input class=\"sk-toggleable__control sk-hidden--visually\" id=\"sk-estimator-id-1\" type=\"checkbox\" checked><label for=\"sk-estimator-id-1\" class=\"sk-toggleable__label sk-toggleable__label-arrow\">LinearRegression</label><div class=\"sk-toggleable__content\"><pre>LinearRegression()</pre></div></div></div></div></div>"
      ],
      "text/plain": [
       "LinearRegression()"
      ]
     },
     "execution_count": 8,
     "metadata": {},
     "output_type": "execute_result"
    }
   ],
   "source": [
    "lr.fit(X, y)"
   ]
  },
  {
   "cell_type": "code",
   "execution_count": 9,
   "id": "452e83be-aff7-4309-aa07-20b5337802a7",
   "metadata": {
    "scrolled": true
   },
   "outputs": [
    {
     "data": {
      "text/plain": [
       "['__abstractmethods__',\n",
       " '__annotations__',\n",
       " '__class__',\n",
       " '__delattr__',\n",
       " '__dict__',\n",
       " '__dir__',\n",
       " '__doc__',\n",
       " '__eq__',\n",
       " '__format__',\n",
       " '__ge__',\n",
       " '__getattribute__',\n",
       " '__getstate__',\n",
       " '__gt__',\n",
       " '__hash__',\n",
       " '__init__',\n",
       " '__init_subclass__',\n",
       " '__le__',\n",
       " '__lt__',\n",
       " '__module__',\n",
       " '__ne__',\n",
       " '__new__',\n",
       " '__reduce__',\n",
       " '__reduce_ex__',\n",
       " '__repr__',\n",
       " '__setattr__',\n",
       " '__setstate__',\n",
       " '__sizeof__',\n",
       " '__sklearn_clone__',\n",
       " '__str__',\n",
       " '__subclasshook__',\n",
       " '__weakref__',\n",
       " '_abc_impl',\n",
       " '_build_request_for_signature',\n",
       " '_check_feature_names',\n",
       " '_check_n_features',\n",
       " '_decision_function',\n",
       " '_estimator_type',\n",
       " '_get_default_requests',\n",
       " '_get_metadata_request',\n",
       " '_get_param_names',\n",
       " '_get_tags',\n",
       " '_more_tags',\n",
       " '_parameter_constraints',\n",
       " '_repr_html_',\n",
       " '_repr_html_inner',\n",
       " '_repr_mimebundle_',\n",
       " '_set_intercept',\n",
       " '_validate_data',\n",
       " '_validate_params',\n",
       " 'coef_',\n",
       " 'copy_X',\n",
       " 'fit',\n",
       " 'fit_intercept',\n",
       " 'get_metadata_routing',\n",
       " 'get_params',\n",
       " 'intercept_',\n",
       " 'n_features_in_',\n",
       " 'n_jobs',\n",
       " 'positive',\n",
       " 'predict',\n",
       " 'rank_',\n",
       " 'score',\n",
       " 'set_fit_request',\n",
       " 'set_params',\n",
       " 'set_score_request',\n",
       " 'singular_']"
      ]
     },
     "execution_count": 9,
     "metadata": {},
     "output_type": "execute_result"
    }
   ],
   "source": [
    "dir(lr)"
   ]
  },
  {
   "cell_type": "code",
   "execution_count": 10,
   "id": "d1512a47-96ee-47fc-87b5-ba9cbe8b40b2",
   "metadata": {},
   "outputs": [
    {
     "data": {
      "text/plain": [
       "array([-0.00124705, -0.00748942])"
      ]
     },
     "execution_count": 10,
     "metadata": {},
     "output_type": "execute_result"
    }
   ],
   "source": [
    "lr.coef_"
   ]
  },
  {
   "cell_type": "code",
   "execution_count": 11,
   "id": "bc58c526-e81d-436f-b80d-be1e20769749",
   "metadata": {},
   "outputs": [],
   "source": [
    "predict = lr.predict(X_new)"
   ]
  },
  {
   "cell_type": "markdown",
   "id": "aae7cf57",
   "metadata": {},
   "source": [
    "В процессе анализа данных нам часто нужно будет трансформировать их каким-либо образом. Рассмотрим две главных трансформации: стадартизацию и нормализацию.\n",
    "\n",
    "![st&norm](https://i.stack.imgur.com/XmyWR.png)\n",
    "\n",
    "Наша задача - реализовать класс `Transformer`.\n",
    "\n",
    "При этом:\n",
    "- для инициализации класса необходим вид трансформации;\n",
    "- на вход может подаваться последовательность из целых / нецелых чисел (возможные виды: `list`, `tuple`, `np.ndarray`, `pd.DataFrame`). Последовательности (если это не `np.ndarray` или `pd.DataFrame`) должны иметь степень вложенности 2 (список списков);\n",
    "- параметры для трансформации должны сохраняться в качестве атрибутов объекта (для каждой переменной);\n",
    "- должна поддерживаться логика `fit`-`transform`."
   ]
  },
  {
   "cell_type": "code",
   "execution_count": 31,
   "id": "e11f8b4c-9114-4103-ab4e-332c05af6cb9",
   "metadata": {},
   "outputs": [],
   "source": [
    "class Transformer:\n",
    "    _valid_ttypes = {'norm', 'st'}\n",
    "    _valid_data_types = [list, tuple, np.ndarray, pd.DataFrame]\n",
    "    _valid_dtypes = [float, int]\n",
    "    \n",
    "    def __init__(self, ttype='norm'):\n",
    "        if ttype not in self._valid_ttypes:\n",
    "            raise ValueError(f'unknow ttype {ttype}, use only valid ttypes: {self._valid_ttypes}')\n",
    "\n",
    "        self.ttype = ttype\n",
    "\n",
    "    def _validate_data(self, data):\n",
    "        data_type = type(data)\n",
    "\n",
    "        # check data type\n",
    "        if data_type not in self._valid_data_types:\n",
    "            raise ValueError(f'unknow input type {data_type}, use only valid input types: {self._valid_data_types}')\n",
    "\n",
    "        if data_type in [list, tuple]:\n",
    "            data = np.array(data)\n",
    "        elif data_type == pd.DataFrame:\n",
    "            data = data.values\n",
    "\n",
    "        # check scalar data type\n",
    "        dtype = data.dtype\n",
    "\n",
    "        if dtype not in self._valid_dtypes:\n",
    "            raise ValueError(f'unknow data type {dtype}, use only valid data types: {self._valid_dtypes}')\n",
    "\n",
    "        # check dimensions number\n",
    "        if data.ndim != 2:\n",
    "            raise ValueError(f'invalid dimensions number {data.ndim}, must be 2')\n",
    "\n",
    "        return data\n",
    "\n",
    "    def fit(self, data):\n",
    "        data_valid = self._validate_data(data)\n",
    "\n",
    "        # get and save params\n",
    "        if self.ttype == 'norm':\n",
    "            params = {\n",
    "                'min': data_valid.min(axis=0),\n",
    "                'max': data_valid.max(axis=0)\n",
    "            }\n",
    "        else:\n",
    "            params = {\n",
    "                'mean': data_valid.mean(axis=0),\n",
    "                'std': data_valid.sd(axis=0)\n",
    "            }\n",
    "\n",
    "        self.params = params\n",
    "\n",
    "    def transform(self, data):\n",
    "        if not hasattr(self, 'params'):\n",
    "            raise ValueError('you cannot call transform before fit!')\n",
    "        \n",
    "        data_valid = self._validate_data(data)\n",
    "\n",
    "        # apply transformation\n",
    "        if self.ttype == 'norm':\n",
    "            data_transformed = (data_valid - self.params['min']) / (self.params['max'] -  self.params['min'])\n",
    "        else:\n",
    "            data_transformed = (data_valid - self.params['mean']) / self.params['std']\n",
    "\n",
    "        return data_transformed"
   ]
  },
  {
   "cell_type": "code",
   "execution_count": 37,
   "id": "b8e08aca-f9a4-458c-add4-eade153932a8",
   "metadata": {},
   "outputs": [],
   "source": [
    "tr = Transformer('norm')\n",
    "\n",
    "tr.fit(X)\n",
    "X_transformed = tr.transform(X_new)"
   ]
  },
  {
   "cell_type": "code",
   "execution_count": 33,
   "id": "4622b05e-bfbb-43d6-a195-8dd60ac55550",
   "metadata": {},
   "outputs": [
    {
     "data": {
      "text/plain": [
       "{'min': array([-9.86888373, -9.70443963]),\n",
       " 'max': array([9.87532466, 9.70713258])}"
      ]
     },
     "execution_count": 33,
     "metadata": {},
     "output_type": "execute_result"
    }
   ],
   "source": [
    "tr.params"
   ]
  },
  {
   "cell_type": "markdown",
   "id": "df80fa34-6603-42b9-b18d-8bf25a7df060",
   "metadata": {},
   "source": [
    "Теперь давайте попробуем немного изменить логику и реализовать родительский класс Transformer и два наследуемых: StandardScaler и NormScaler."
   ]
  },
  {
   "cell_type": "code",
   "execution_count": 68,
   "id": "6e9ab4df-85dd-4b55-babb-8f0ff1d849f6",
   "metadata": {},
   "outputs": [],
   "source": [
    "class Transformer:\n",
    "    _valid_data_types = [list, tuple, np.ndarray, pd.DataFrame]\n",
    "    _valid_dtypes = [float, int]\n",
    "    \n",
    "    def __init__(self):\n",
    "        pass\n",
    "\n",
    "    def __repr__(self):\n",
    "        if hasattr(self, 'params'):\n",
    "            representation = f'{self.__class__.__name__} object with params {self.params}'\n",
    "        else:\n",
    "            representation = f'Uninitialized {self.__class__.__name__} object'\n",
    "\n",
    "        return representation\n",
    "            \n",
    "    def _validate_data(self, data):\n",
    "        data_type = type(data)\n",
    "\n",
    "        # check data type\n",
    "        if data_type not in self._valid_data_types:\n",
    "            raise ValueError(f'unknow input type {data_type}, use only valid input types: {self._valid_data_types}')\n",
    "\n",
    "        if data_type in [list, tuple]:\n",
    "            data = np.array(data)\n",
    "        elif data_type == pd.DataFrame:\n",
    "            data = data.values\n",
    "\n",
    "        # check scalar data type\n",
    "        dtype = data.dtype\n",
    "\n",
    "        if dtype not in self._valid_dtypes:\n",
    "            raise ValueError(f'unknow data type {dtype}, use only valid data types: {self._valid_dtypes}')\n",
    "\n",
    "        # check dimensions number\n",
    "        if data.ndim != 2:\n",
    "            raise ValueError(f'invalid dimensions number {data.ndim}, must be 2')\n",
    "\n",
    "        return data\n",
    "\n",
    "    def _get_and_save_params(self, data):  # must be specified with descendant\n",
    "        pass\n",
    "\n",
    "    def _apply_params(self, data):  # must be specified with descendant\n",
    "        pass\n",
    "\n",
    "    def fit(self, data):\n",
    "        data_valid = self._validate_data(data)\n",
    "\n",
    "        # get and save params\n",
    "        self._get_and_save_params(data_valid)\n",
    "\n",
    "    def transform(self, data):\n",
    "        if not hasattr(self, 'params'):\n",
    "            raise ValueError('you cannot call transform before fit!')\n",
    "        \n",
    "        data_valid = self._validate_data(data)\n",
    "\n",
    "        # apply transformation\n",
    "        data_transformed = self._apply_params(data_valid)\n",
    "\n",
    "        return data_transformed "
   ]
  },
  {
   "cell_type": "code",
   "execution_count": 69,
   "id": "98cd1a6d-f172-4703-94d0-936557f051d6",
   "metadata": {},
   "outputs": [],
   "source": [
    "class StandardScaler(Transformer):\n",
    "    def _get_and_save_params(self, data):  # must be specified with descendant\n",
    "        params = {\n",
    "            'mean': data.mean(axis=0),\n",
    "            'std': data.std(axis=0)\n",
    "        }\n",
    "\n",
    "        self.params = params\n",
    "\n",
    "    def _apply_params(self, data):  # must be specified with descendant\n",
    "        data_transformed = (data - self.params['mean']) / self.params['std']\n",
    "\n",
    "        return data_transformed\n",
    "\n",
    "class NormScaler(Transformer):\n",
    "    def _get_and_save_params(self, data):  # must be specified with descendant\n",
    "        params = {\n",
    "            'min': data_valid.min(axis=0),\n",
    "            'max': data_valid.max(axis=0)\n",
    "        }\n",
    "\n",
    "        self.params = params\n",
    "\n",
    "    def _apply_params(self, data):  # must be specified with descendant\n",
    "        data_transformed = (data_valid - self.params['min']) / (self.params['max'] -  self.params['min'])\n",
    "\n",
    "        return data_transformed"
   ]
  },
  {
   "cell_type": "code",
   "execution_count": 70,
   "id": "3811cea0-1ad0-41b7-a1ee-5f078efb5222",
   "metadata": {},
   "outputs": [],
   "source": [
    "st_scaler = StandardScaler()\n",
    "\n",
    "st_scaler.fit(X)\n",
    "X_transformed = st_scaler.transform(X_new)"
   ]
  },
  {
   "cell_type": "code",
   "execution_count": 67,
   "id": "fd2b8243-8f13-4cdb-a05b-17e8787b4e94",
   "metadata": {},
   "outputs": [
    {
     "data": {
      "text/plain": [
       "'StandardScaler'"
      ]
     },
     "execution_count": 67,
     "metadata": {},
     "output_type": "execute_result"
    }
   ],
   "source": [
    "st_scaler.__class__.__name__"
   ]
  },
  {
   "cell_type": "code",
   "execution_count": 65,
   "id": "1f729dd2-bcb0-4fd9-804d-46949a882714",
   "metadata": {},
   "outputs": [
    {
     "data": {
      "text/plain": [
       "['__class__',\n",
       " '__delattr__',\n",
       " '__dict__',\n",
       " '__dir__',\n",
       " '__doc__',\n",
       " '__eq__',\n",
       " '__format__',\n",
       " '__ge__',\n",
       " '__getattribute__',\n",
       " '__getstate__',\n",
       " '__gt__',\n",
       " '__hash__',\n",
       " '__init__',\n",
       " '__init_subclass__',\n",
       " '__le__',\n",
       " '__lt__',\n",
       " '__module__',\n",
       " '__ne__',\n",
       " '__new__',\n",
       " '__reduce__',\n",
       " '__reduce_ex__',\n",
       " '__repr__',\n",
       " '__setattr__',\n",
       " '__sizeof__',\n",
       " '__str__',\n",
       " '__subclasshook__',\n",
       " '__weakref__',\n",
       " '_apply_params',\n",
       " '_get_and_save_params',\n",
       " '_valid_data_types',\n",
       " '_valid_dtypes',\n",
       " '_validate_data',\n",
       " 'fit',\n",
       " 'transform']"
      ]
     },
     "execution_count": 65,
     "metadata": {},
     "output_type": "execute_result"
    }
   ],
   "source": [
    "dir(st_scaler.__class__)"
   ]
  },
  {
   "cell_type": "code",
   "execution_count": 54,
   "id": "7210a400-3514-48b5-8b41-69f8a8e77a4c",
   "metadata": {},
   "outputs": [
    {
     "data": {
      "text/plain": [
       "['__class__',\n",
       " '__delattr__',\n",
       " '__dict__',\n",
       " '__dir__',\n",
       " '__doc__',\n",
       " '__eq__',\n",
       " '__format__',\n",
       " '__ge__',\n",
       " '__getattribute__',\n",
       " '__getstate__',\n",
       " '__gt__',\n",
       " '__hash__',\n",
       " '__init__',\n",
       " '__init_subclass__',\n",
       " '__le__',\n",
       " '__lt__',\n",
       " '__module__',\n",
       " '__ne__',\n",
       " '__new__',\n",
       " '__reduce__',\n",
       " '__reduce_ex__',\n",
       " '__repr__',\n",
       " '__setattr__',\n",
       " '__sizeof__',\n",
       " '__str__',\n",
       " '__subclasshook__',\n",
       " '__weakref__',\n",
       " '_apply_params',\n",
       " '_get_and_save_params',\n",
       " '_valid_data_types',\n",
       " '_valid_dtypes',\n",
       " '_validate_data',\n",
       " 'fit',\n",
       " 'params',\n",
       " 'transform']"
      ]
     },
     "execution_count": 54,
     "metadata": {},
     "output_type": "execute_result"
    }
   ],
   "source": [
    "dir(st_scaler)"
   ]
  },
  {
   "cell_type": "code",
   "execution_count": 71,
   "id": "f5e846cd-a690-42b9-b96f-3e92a9957fa4",
   "metadata": {},
   "outputs": [
    {
     "name": "stdout",
     "output_type": "stream",
     "text": [
      "StandardScaler object with params {'mean': array([0.99397778, 0.24381873]), 'std': array([5.8580265 , 5.99838432])}\n"
     ]
    }
   ],
   "source": [
    "print(st_scaler)"
   ]
  },
  {
   "cell_type": "code",
   "execution_count": 45,
   "id": "6f6adc66-4638-4f7d-9835-648a35e9f3e8",
   "metadata": {},
   "outputs": [
    {
     "data": {
      "text/plain": [
       "True"
      ]
     },
     "execution_count": 45,
     "metadata": {},
     "output_type": "execute_result"
    }
   ],
   "source": [
    "issubclass(StandardScaler, Transformer)"
   ]
  },
  {
   "cell_type": "code",
   "execution_count": 46,
   "id": "b9e7227d-5422-41a5-be1a-79ac8aa18205",
   "metadata": {},
   "outputs": [
    {
     "data": {
      "text/plain": [
       "True"
      ]
     },
     "execution_count": 46,
     "metadata": {},
     "output_type": "execute_result"
    }
   ],
   "source": [
    "issubclass(bool, int)"
   ]
  },
  {
   "cell_type": "code",
   "execution_count": null,
   "id": "72d8de43-cb26-400a-b472-ecc31705e4b4",
   "metadata": {},
   "outputs": [],
   "source": []
  },
  {
   "cell_type": "code",
   "execution_count": null,
   "id": "bd3d19c9-0117-4a81-9952-e7dd3bc25e3c",
   "metadata": {},
   "outputs": [],
   "source": []
  }
 ],
 "metadata": {
  "kernelspec": {
   "display_name": "Python 3 (ipykernel)",
   "language": "python",
   "name": "python3"
  },
  "language_info": {
   "codemirror_mode": {
    "name": "ipython",
    "version": 3
   },
   "file_extension": ".py",
   "mimetype": "text/x-python",
   "name": "python",
   "nbconvert_exporter": "python",
   "pygments_lexer": "ipython3",
   "version": "3.11.5"
  }
 },
 "nbformat": 4,
 "nbformat_minor": 5
}
